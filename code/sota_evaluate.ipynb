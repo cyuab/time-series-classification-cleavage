{
 "cells": [
  {
   "cell_type": "code",
   "execution_count": 1,
   "metadata": {},
   "outputs": [],
   "source": [
    "import pandas as pd"
   ]
  },
  {
   "cell_type": "code",
   "execution_count": 2,
   "metadata": {},
   "outputs": [
    {
     "data": {
      "text/plain": [
       "(0.8126888217522659,\n",
       " 0.7116564417177914,\n",
       " 0.9107142857142857,\n",
       " 0.8315217391304348)"
      ]
     },
     "execution_count": 2,
     "metadata": {},
     "output_type": "execute_result"
    }
   ],
   "source": [
    "# 5p\n",
    "df_train = pd.read_csv('../sota/DiCleave/training_5p.csv')\n",
    "df_train\n",
    "df_test = pd.read_csv('../sota/DiCleave/test_5p.csv')\n",
    "y_true = df_test[['label']].copy()\n",
    "y_true\n",
    "y_pred = pd.read_csv('../sota/DiCleave/models_5p_3_result.txt', skiprows=2, header=None)\n",
    "y_pred.columns = ['label']\n",
    "y_pred\n",
    "from sklearn.metrics import confusion_matrix\n",
    "tn, fp, fn, tp = confusion_matrix(y_true, y_pred).ravel()\n",
    "accuracy = (tp + tn) / (tp + tn + fp + fn)\n",
    "specificity = tn / (tn+fp)\n",
    "sensitivity = tp / (tp+fn)\n",
    "f1_score = 2 * tp / (2 * tp + fp + fn)\n",
    "accuracy, specificity, sensitivity, f1_score"
   ]
  },
  {
   "cell_type": "code",
   "execution_count": 7,
   "metadata": {},
   "outputs": [
    {
     "data": {
      "text/plain": [
       "(0.8549848942598187, 0.901840490797546, 0.8095238095238095, 0.85)"
      ]
     },
     "execution_count": 7,
     "metadata": {},
     "output_type": "execute_result"
    }
   ],
   "source": [
    "# 3p, exactly the same as 5p\n",
    "df_train = pd.read_csv('../sota/DiCleave/training_3p.csv')\n",
    "df_train\n",
    "df_test = pd.read_csv('../sota/DiCleave/test_3p.csv')\n",
    "y_true = df_test[['label']].copy()\n",
    "y_true\n",
    "y_pred = pd.read_csv('../sota/DiCleave/models_3p_1_result.txt', skiprows=2, header=None)\n",
    "y_pred.columns = ['label']\n",
    "y_pred\n",
    "from sklearn.metrics import confusion_matrix\n",
    "tn, fp, fn, tp = confusion_matrix(y_true, y_pred).ravel()\n",
    "accuracy = (tp + tn) / (tp + tn + fp + fn)\n",
    "specificity = tn / (tn+fp)\n",
    "sensitivity = tp / (tp+fn)\n",
    "f1_score = 2 * tp / (2 * tp + fp + fn)\n",
    "accuracy, specificity, sensitivity, f1_score"
   ]
  },
  {
   "cell_type": "code",
   "execution_count": null,
   "metadata": {},
   "outputs": [],
   "source": []
  }
 ],
 "metadata": {
  "kernelspec": {
   "display_name": "tscc",
   "language": "python",
   "name": "python3"
  },
  "language_info": {
   "codemirror_mode": {
    "name": "ipython",
    "version": 3
   },
   "file_extension": ".py",
   "mimetype": "text/x-python",
   "name": "python",
   "nbconvert_exporter": "python",
   "pygments_lexer": "ipython3",
   "version": "3.12.8"
  }
 },
 "nbformat": 4,
 "nbformat_minor": 2
}
