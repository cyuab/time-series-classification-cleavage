{
 "cells": [
  {
   "cell_type": "code",
   "execution_count": 1,
   "metadata": {},
   "outputs": [],
   "source": [
    "import numpy as np # linear algebra\n",
    "import pandas as pd # data processing, CSV file I/O (e.g. pd.read_csv)\n",
    "import matplotlib.pyplot as plt # data visualization\n",
    "import seaborn as sns # statistical data visualization"
   ]
  },
  {
   "cell_type": "code",
   "execution_count": 2,
   "metadata": {},
   "outputs": [],
   "source": [
    "import lightgbm as lgbm"
   ]
  },
  {
   "cell_type": "code",
   "execution_count": 3,
   "metadata": {},
   "outputs": [
    {
     "ename": "ModuleNotFoundError",
     "evalue": "No module named 'kagglehub'",
     "output_type": "error",
     "traceback": [
      "\u001b[31m---------------------------------------------------------------------------\u001b[39m",
      "\u001b[31mModuleNotFoundError\u001b[39m                       Traceback (most recent call last)",
      "\u001b[36mCell\u001b[39m\u001b[36m \u001b[39m\u001b[32mIn[3]\u001b[39m\u001b[32m, line 1\u001b[39m\n\u001b[32m----> \u001b[39m\u001b[32m1\u001b[39m \u001b[38;5;28;01mimport\u001b[39;00m\u001b[38;5;250m \u001b[39m\u001b[34;01mkagglehub\u001b[39;00m\n\u001b[32m      3\u001b[39m \u001b[38;5;66;03m# Download latest version\u001b[39;00m\n\u001b[32m      4\u001b[39m path = kagglehub.dataset_download(\u001b[33m\"\u001b[39m\u001b[33mmerishnasuwal/breast-cancer-prediction-dataset\u001b[39m\u001b[33m\"\u001b[39m)\n",
      "\u001b[31mModuleNotFoundError\u001b[39m: No module named 'kagglehub'"
     ]
    }
   ],
   "source": [
    "import kagglehub\n",
    "\n",
    "# Download latest version\n",
    "path = kagglehub.dataset_download(\"merishnasuwal/breast-cancer-prediction-dataset\")\n",
    "\n",
    "print(\"Path to dataset files:\", path)"
   ]
  },
  {
   "cell_type": "code",
   "execution_count": 12,
   "metadata": {},
   "outputs": [
    {
     "data": {
      "application/vnd.microsoft.datawrangler.viewer.v0+json": {
       "columns": [
        {
         "name": "index",
         "rawType": "int64",
         "type": "integer"
        },
        {
         "name": "mean_radius",
         "rawType": "float64",
         "type": "float"
        },
        {
         "name": "mean_texture",
         "rawType": "float64",
         "type": "float"
        },
        {
         "name": "mean_perimeter",
         "rawType": "float64",
         "type": "float"
        },
        {
         "name": "mean_area",
         "rawType": "float64",
         "type": "float"
        },
        {
         "name": "mean_smoothness",
         "rawType": "float64",
         "type": "float"
        },
        {
         "name": "diagnosis",
         "rawType": "int64",
         "type": "integer"
        }
       ],
       "conversionMethod": "pd.DataFrame",
       "ref": "7113cb83-ef8f-4cad-a815-c131bd8cc2aa",
       "rows": [
        [
         "0",
         "17.99",
         "10.38",
         "122.8",
         "1001.0",
         "0.1184",
         "0"
        ],
        [
         "1",
         "20.57",
         "17.77",
         "132.9",
         "1326.0",
         "0.08474",
         "0"
        ],
        [
         "2",
         "19.69",
         "21.25",
         "130.0",
         "1203.0",
         "0.1096",
         "0"
        ],
        [
         "3",
         "11.42",
         "20.38",
         "77.58",
         "386.1",
         "0.1425",
         "0"
        ],
        [
         "4",
         "20.29",
         "14.34",
         "135.1",
         "1297.0",
         "0.1003",
         "0"
        ]
       ],
       "shape": {
        "columns": 6,
        "rows": 5
       }
      },
      "text/html": [
       "<div>\n",
       "<style scoped>\n",
       "    .dataframe tbody tr th:only-of-type {\n",
       "        vertical-align: middle;\n",
       "    }\n",
       "\n",
       "    .dataframe tbody tr th {\n",
       "        vertical-align: top;\n",
       "    }\n",
       "\n",
       "    .dataframe thead th {\n",
       "        text-align: right;\n",
       "    }\n",
       "</style>\n",
       "<table border=\"1\" class=\"dataframe\">\n",
       "  <thead>\n",
       "    <tr style=\"text-align: right;\">\n",
       "      <th></th>\n",
       "      <th>mean_radius</th>\n",
       "      <th>mean_texture</th>\n",
       "      <th>mean_perimeter</th>\n",
       "      <th>mean_area</th>\n",
       "      <th>mean_smoothness</th>\n",
       "      <th>diagnosis</th>\n",
       "    </tr>\n",
       "  </thead>\n",
       "  <tbody>\n",
       "    <tr>\n",
       "      <th>0</th>\n",
       "      <td>17.99</td>\n",
       "      <td>10.38</td>\n",
       "      <td>122.80</td>\n",
       "      <td>1001.0</td>\n",
       "      <td>0.11840</td>\n",
       "      <td>0</td>\n",
       "    </tr>\n",
       "    <tr>\n",
       "      <th>1</th>\n",
       "      <td>20.57</td>\n",
       "      <td>17.77</td>\n",
       "      <td>132.90</td>\n",
       "      <td>1326.0</td>\n",
       "      <td>0.08474</td>\n",
       "      <td>0</td>\n",
       "    </tr>\n",
       "    <tr>\n",
       "      <th>2</th>\n",
       "      <td>19.69</td>\n",
       "      <td>21.25</td>\n",
       "      <td>130.00</td>\n",
       "      <td>1203.0</td>\n",
       "      <td>0.10960</td>\n",
       "      <td>0</td>\n",
       "    </tr>\n",
       "    <tr>\n",
       "      <th>3</th>\n",
       "      <td>11.42</td>\n",
       "      <td>20.38</td>\n",
       "      <td>77.58</td>\n",
       "      <td>386.1</td>\n",
       "      <td>0.14250</td>\n",
       "      <td>0</td>\n",
       "    </tr>\n",
       "    <tr>\n",
       "      <th>4</th>\n",
       "      <td>20.29</td>\n",
       "      <td>14.34</td>\n",
       "      <td>135.10</td>\n",
       "      <td>1297.0</td>\n",
       "      <td>0.10030</td>\n",
       "      <td>0</td>\n",
       "    </tr>\n",
       "  </tbody>\n",
       "</table>\n",
       "</div>"
      ],
      "text/plain": [
       "   mean_radius  mean_texture  mean_perimeter  mean_area  mean_smoothness  \\\n",
       "0        17.99         10.38          122.80     1001.0          0.11840   \n",
       "1        20.57         17.77          132.90     1326.0          0.08474   \n",
       "2        19.69         21.25          130.00     1203.0          0.10960   \n",
       "3        11.42         20.38           77.58      386.1          0.14250   \n",
       "4        20.29         14.34          135.10     1297.0          0.10030   \n",
       "\n",
       "   diagnosis  \n",
       "0          0  \n",
       "1          0  \n",
       "2          0  \n",
       "3          0  \n",
       "4          0  "
      ]
     },
     "execution_count": 12,
     "metadata": {},
     "output_type": "execute_result"
    }
   ],
   "source": [
    "df = pd.read_csv(path+\"/Breast_cancer_data.csv\")\n",
    "df.head()"
   ]
  },
  {
   "cell_type": "code",
   "execution_count": null,
   "metadata": {},
   "outputs": [],
   "source": []
  },
  {
   "cell_type": "code",
   "execution_count": null,
   "metadata": {},
   "outputs": [],
   "source": []
  },
  {
   "cell_type": "code",
   "execution_count": 18,
   "metadata": {},
   "outputs": [],
   "source": [
    "from aeon.transformations.collection import Normalizer\n",
    "import numpy as np\n",
    "X = np.array([[[1, 2, 3], [4, 5, 6]], [[7, 8, 9], [10, 11, 12]]])\n",
    "normaliser = Normalizer()\n",
    "Xt = normaliser.fit_transform(X)\n",
    "mean=np.mean(Xt, axis=-1)\n",
    "std = np.std(Xt, axis=-1)\n",
    "assert np.allclose(mean, 0)\n",
    "assert np.allclose(std, 1)"
   ]
  },
  {
   "cell_type": "code",
   "execution_count": 5,
   "metadata": {},
   "outputs": [
    {
     "data": {
      "text/plain": [
       "(array([[ 2.,  5.],\n",
       "        [ 8., 11.]]),\n",
       " array([[0.81649658, 0.81649658],\n",
       "        [0.81649658, 0.81649658]]))"
      ]
     },
     "execution_count": 5,
     "metadata": {},
     "output_type": "execute_result"
    }
   ],
   "source": [
    "X = np.array([[[1, 2, 3], [4, 5, 6]], [[7, 8, 9], [10, 11, 12]]])\n",
    "mean=np.mean(X, axis=-1)\n",
    "std = np.std(X, axis=-1)\n",
    "mean, std"
   ]
  },
  {
   "cell_type": "code",
   "execution_count": 6,
   "metadata": {},
   "outputs": [
    {
     "ename": "AssertionError",
     "evalue": "",
     "output_type": "error",
     "traceback": [
      "\u001b[31m---------------------------------------------------------------------------\u001b[39m",
      "\u001b[31mAssertionError\u001b[39m                            Traceback (most recent call last)",
      "\u001b[36mCell\u001b[39m\u001b[36m \u001b[39m\u001b[32mIn[6]\u001b[39m\u001b[32m, line 1\u001b[39m\n\u001b[32m----> \u001b[39m\u001b[32m1\u001b[39m \u001b[38;5;28;01massert\u001b[39;00m np.allclose(mean, \u001b[32m0\u001b[39m)\n",
      "\u001b[31mAssertionError\u001b[39m: "
     ]
    }
   ],
   "source": [
    "assert np.allclose(mean, 0)"
   ]
  },
  {
   "cell_type": "code",
   "execution_count": 27,
   "metadata": {},
   "outputs": [
    {
     "ename": "AssertionError",
     "evalue": "",
     "output_type": "error",
     "traceback": [
      "\u001b[0;31m---------------------------------------------------------------------------\u001b[0m",
      "\u001b[0;31mAssertionError\u001b[0m                            Traceback (most recent call last)",
      "Cell \u001b[0;32mIn[27], line 1\u001b[0m\n\u001b[0;32m----> 1\u001b[0m \u001b[38;5;28;01massert\u001b[39;00m np\u001b[38;5;241m.\u001b[39mallclose(\u001b[38;5;241m3\u001b[39m, \u001b[38;5;241m0\u001b[39m)\n",
      "\u001b[0;31mAssertionError\u001b[0m: "
     ]
    }
   ],
   "source": [
    "assert np.allclose(3, 0)"
   ]
  },
  {
   "cell_type": "code",
   "execution_count": 11,
   "metadata": {},
   "outputs": [
    {
     "name": "stdout",
     "output_type": "stream",
     "text": [
      "<class 'tuple'>    <class 'tuple'>\n",
      "shape first = (12, 20) shape 11th = (12, 23)\n"
     ]
    }
   ],
   "source": [
    "from aeon.datasets import load_japanese_vowels, load_plaid\n",
    "\n",
    "j_vowels, j_labels = load_japanese_vowels()\n",
    "p_vowels, p_labels = load_plaid()\n",
    "print(type(j_vowels[0].shape), \"  \", type(p_vowels[0].shape))\n",
    "print(\"shape first =\", j_vowels[3].shape, \"shape 11th =\", j_vowels[10].shape)"
   ]
  },
  {
   "cell_type": "code",
   "execution_count": 12,
   "metadata": {},
   "outputs": [
    {
     "data": {
      "text/plain": [
       "array([[-2.0633e-06,  4.3200e-06,  7.0533e-06, -1.4200e-06,  6.9633e-06,\n",
       "        -4.4967e-06,  9.9300e-06,  5.3833e-06,  1.0000e-06,  5.8100e-06,\n",
       "        -6.3334e-08,  8.1667e-06,  7.1733e-06,  2.6733e-06,  6.3200e-06,\n",
       "        -4.2433e-06,  5.1700e-06,  2.6100e-06,  5.8333e-07,  8.6333e-06,\n",
       "        -4.9333e-07,  2.1033e-06,  2.7300e-06,  2.3467e-06,  5.3333e-08,\n",
       "         8.3333e-07,  5.3533e-06,  5.0633e-06, -1.5433e-06,  8.0933e-06,\n",
       "        -2.9233e-06,  3.6600e-06,  5.4000e-06, -3.0133e-06,  7.9300e-06,\n",
       "        -1.5400e-06,  3.7067e-06,  7.1533e-06, -2.4333e-07,  4.3693e-04,\n",
       "         5.3840e-03,  9.3535e-03,  9.0151e-03,  7.6368e-03,  6.6586e-03,\n",
       "         7.4842e-03,  8.8284e-03,  8.9793e-03,  7.6378e-03,  6.6078e-03,\n",
       "         7.5065e-03,  8.7920e-03,  8.9693e-03,  7.6240e-03,  6.6053e-03,\n",
       "         7.4780e-03,  8.7812e-03,  8.9485e-03,  7.6055e-03,  6.5826e-03,\n",
       "         7.4683e-03,  8.7730e-03,  8.9223e-03,  7.5808e-03,  6.5785e-03,\n",
       "         7.4600e-03,  8.7535e-03,  8.9059e-03,  7.5743e-03,  6.5656e-03,\n",
       "         7.4353e-03,  8.7382e-03,  8.8700e-03,  7.5519e-03,  6.5448e-03,\n",
       "         7.4187e-03,  8.7214e-03,  8.8475e-03,  7.5156e-03,  6.5251e-03,\n",
       "         7.4074e-03,  8.6753e-03,  8.8241e-03,  7.4991e-03,  6.5000e-03,\n",
       "         7.4011e-03,  8.6575e-03,  8.8082e-03,  7.4763e-03,  6.4922e-03,\n",
       "         7.3799e-03,  8.6486e-03,  8.7699e-03,  7.4489e-03,  6.4679e-03,\n",
       "         7.3416e-03,  8.6294e-03,  8.7362e-03,  7.4180e-03,  6.4526e-03,\n",
       "         7.3402e-03,  8.6077e-03,  8.7039e-03,  7.4032e-03,  6.4378e-03,\n",
       "         7.3154e-03,  8.5887e-03,  8.6732e-03,  7.3617e-03,  6.4096e-03,\n",
       "         7.3068e-03,  8.5527e-03,  8.6503e-03,  7.3332e-03,  6.3895e-03,\n",
       "         7.2826e-03,  8.5347e-03,  8.6196e-03,  7.3004e-03,  6.3674e-03,\n",
       "         7.2668e-03,  8.4942e-03,  8.5854e-03,  7.2617e-03,  6.3461e-03,\n",
       "         7.2488e-03,  1.4682e-01,  2.1987e-01,  1.9368e-01,  1.5331e-01,\n",
       "         1.6167e-01,  1.9527e-01,  2.2104e-01,  1.9192e-01,  1.5171e-01,\n",
       "         1.5702e-01,  1.8637e-01,  1.9807e-01,  1.5027e-01,  8.2787e-02,\n",
       "         3.8966e-02,  2.2094e-02,  3.4598e-02,  3.3053e-02,  2.0080e-02,\n",
       "         1.9619e-02,  2.6749e-02,  3.1752e-02,  2.6362e-02,  2.1512e-02,\n",
       "         2.4309e-02,  2.6827e-02,  3.0347e-02,  2.7690e-02,  2.3610e-02,\n",
       "         2.4212e-02,  2.6141e-02,  3.2372e-02,  2.8747e-02,  2.3479e-02,\n",
       "         2.3349e-02,  2.7801e-02,  3.4211e-02,  2.8585e-02,  2.3226e-02,\n",
       "         2.3815e-02,  2.9421e-02,  3.4883e-02,  2.8363e-02,  2.3559e-02,\n",
       "         2.4634e-02,  2.9872e-02,  3.4741e-02,  2.8531e-02,  2.4248e-02,\n",
       "         2.4914e-02,  3.0314e-02,  3.4658e-02,  2.8820e-02,  2.4762e-02,\n",
       "         2.5008e-02,  3.1151e-02,  3.4679e-02,  2.9489e-02,  2.5021e-02,\n",
       "         2.5103e-02,  3.1694e-02,  3.4951e-02,  2.9722e-02,  2.5123e-02,\n",
       "         2.5087e-02,  3.2102e-02,  3.4453e-02,  2.9734e-02,  2.5038e-02,\n",
       "         2.5422e-02,  3.2673e-02,  3.4267e-02,  3.0369e-02,  2.5084e-02,\n",
       "         2.5653e-02,  3.2800e-02,  3.4176e-02,  3.0626e-02,  2.4891e-02,\n",
       "         2.5787e-02,  3.3063e-02,  3.3765e-02,  3.0801e-02,  2.4587e-02,\n",
       "         2.6477e-02,  3.2991e-02,  3.4115e-02,  3.1322e-02,  2.4700e-02,\n",
       "         2.6813e-02,  3.2829e-02,  3.4152e-02,  3.1661e-02,  2.4470e-02,\n",
       "         2.7104e-02,  3.2641e-02,  3.4129e-02,  3.1794e-02,  2.4363e-02,\n",
       "         2.7591e-02,  3.2346e-02,  3.4621e-02,  3.1819e-02,  2.4610e-02,\n",
       "         2.7714e-02,  3.2070e-02,  3.5562e-02,  3.1870e-02,  2.4526e-02,\n",
       "         2.8015e-02,  3.1658e-02,  3.5617e-02,  3.1401e-02,  2.4693e-02,\n",
       "         2.8089e-02,  3.1514e-02,  3.6537e-02,  3.1160e-02,  2.5250e-02,\n",
       "         2.7908e-02,  3.1368e-02,  3.7061e-02,  3.0903e-02,  2.5270e-02,\n",
       "         2.7808e-02,  3.1452e-02,  3.7168e-02,  3.0313e-02,  2.5914e-02,\n",
       "         2.7403e-02,  3.2228e-02,  3.7585e-02,  3.0519e-02,  2.6270e-02,\n",
       "         2.7332e-02,  3.2317e-02,  3.7599e-02,  3.0525e-02,  2.6432e-02,\n",
       "         2.7093e-02,  3.2857e-02,  3.7330e-02,  3.0391e-02,  2.6680e-02,\n",
       "         2.6782e-02,  3.3875e-02,  3.7015e-02,  3.0914e-02,  2.6814e-02,\n",
       "         2.6783e-02,  3.4296e-02,  3.6760e-02,  3.0977e-02,  2.6711e-02,\n",
       "         2.6684e-02,  3.4822e-02,  3.5984e-02,  3.1273e-02,  2.6548e-02,\n",
       "         2.7053e-02,  3.5081e-02,  3.5828e-02,  3.1955e-02,  2.6325e-02,\n",
       "         2.7194e-02,  3.5102e-02,  3.5091e-02,  3.2212e-02,  2.5669e-02,\n",
       "         2.7853e-02,  3.5009e-02,  3.5163e-02,  3.2525e-02,  2.5624e-02]])"
      ]
     },
     "execution_count": 12,
     "metadata": {},
     "output_type": "execute_result"
    }
   ],
   "source": [
    "p_vowels[10]"
   ]
  },
  {
   "cell_type": "code",
   "execution_count": 13,
   "metadata": {},
   "outputs": [],
   "source": [
    "Xt = normaliser.fit_transform(p_vowels[10])"
   ]
  },
  {
   "cell_type": "code",
   "execution_count": 14,
   "metadata": {},
   "outputs": [
    {
     "data": {
      "text/plain": [
       "array([[[-7.35779857e-01, -7.35599747e-01, -7.35522624e-01,\n",
       "         -7.35761706e-01, -7.35525164e-01, -7.35848518e-01,\n",
       "         -7.35441456e-01, -7.35569745e-01, -7.35693423e-01,\n",
       "         -7.35557705e-01, -7.35723426e-01, -7.35491209e-01,\n",
       "         -7.35519238e-01, -7.35646210e-01, -7.35543315e-01,\n",
       "         -7.35841368e-01, -7.35575763e-01, -7.35647996e-01,\n",
       "         -7.35705180e-01, -7.35478043e-01, -7.35735559e-01,\n",
       "         -7.35662293e-01, -7.35644610e-01, -7.35655425e-01,\n",
       "         -7.35720135e-01, -7.35698126e-01, -7.35570591e-01,\n",
       "         -7.35578774e-01, -7.35765185e-01, -7.35493280e-01,\n",
       "         -7.35804123e-01, -7.35618369e-01, -7.35569274e-01,\n",
       "         -7.35806662e-01, -7.35497887e-01, -7.35765092e-01,\n",
       "         -7.35617052e-01, -7.35519803e-01, -7.35728505e-01,\n",
       "         -7.23393273e-01, -5.83807322e-01, -4.71804373e-01,\n",
       "         -4.81352628e-01, -5.20242580e-01, -5.47843357e-01,\n",
       "         -5.24548324e-01, -4.86620533e-01, -4.82362756e-01,\n",
       "         -5.20214364e-01, -5.49276724e-01, -5.23919110e-01,\n",
       "         -4.87647591e-01, -4.82644915e-01, -5.20603743e-01,\n",
       "         -5.49347264e-01, -5.24723262e-01, -4.87952323e-01,\n",
       "         -4.83231806e-01, -5.21125737e-01, -5.49987764e-01,\n",
       "         -5.24996956e-01, -4.88183693e-01, -4.83971062e-01,\n",
       "         -5.21822669e-01, -5.50103449e-01, -5.25231148e-01,\n",
       "         -4.88733903e-01, -4.84433802e-01, -5.22006073e-01,\n",
       "         -5.50467434e-01, -5.25928080e-01, -4.89165606e-01,\n",
       "         -4.85446752e-01, -5.22638108e-01, -5.51054325e-01,\n",
       "         -5.26396464e-01, -4.89639633e-01, -4.86081610e-01,\n",
       "         -5.23662345e-01, -5.51610178e-01, -5.26715304e-01,\n",
       "         -4.90940385e-01, -4.86741861e-01, -5.24127907e-01,\n",
       "         -5.52318396e-01, -5.26893064e-01, -4.91442628e-01,\n",
       "         -4.87190494e-01, -5.24771229e-01, -5.52538480e-01,\n",
       "         -5.27491240e-01, -4.91693749e-01, -4.88271162e-01,\n",
       "         -5.25544344e-01, -5.53224126e-01, -5.28571909e-01,\n",
       "         -4.92235494e-01, -4.89222038e-01, -5.26416215e-01,\n",
       "         -5.53655829e-01, -5.28611411e-01, -4.92847779e-01,\n",
       "         -4.90133411e-01, -5.26833810e-01, -5.54073424e-01,\n",
       "         -5.29311165e-01, -4.93383880e-01, -4.90999638e-01,\n",
       "         -5.28004770e-01, -5.54869112e-01, -5.29553822e-01,\n",
       "         -4.94399652e-01, -4.91645782e-01, -5.28808922e-01,\n",
       "         -5.55436251e-01, -5.30236646e-01, -4.94907538e-01,\n",
       "         -4.92512010e-01, -5.29734403e-01, -5.56059823e-01,\n",
       "         -5.30682457e-01, -4.96050281e-01, -4.93476993e-01,\n",
       "         -5.30826358e-01, -5.56660821e-01, -5.31190343e-01,\n",
       "          3.40693438e+00,  5.46810467e+00,  4.72913068e+00,\n",
       "          3.59005547e+00,  3.82594025e+00,  4.77399394e+00,\n",
       "          5.50111726e+00,  4.67947073e+00,  3.54491005e+00,\n",
       "          3.69473639e+00,  4.52287258e+00,  4.85299841e+00,\n",
       "          3.50427918e+00,  1.60018671e+00,  3.63738479e-01,\n",
       "         -1.12319908e-01,  2.40491499e-01,  1.96897959e-01,\n",
       "         -1.69146698e-01, -1.82154220e-01,  1.90250294e-02,\n",
       "          1.60189095e-01,  8.10548251e-03, -1.28741553e-01,\n",
       "         -4.98217264e-02,  2.12258684e-02,  1.20545778e-01,\n",
       "          4.55761759e-02, -6.95446290e-02, -5.25586671e-02,\n",
       "          1.86977225e-03,  1.77682943e-01,  7.54003648e-02,\n",
       "         -7.32409097e-02, -7.69089746e-02,  4.87081389e-02,\n",
       "          2.29571952e-01,  7.08293916e-02, -8.03795283e-02,\n",
       "         -6.37603729e-02,  9.44178703e-02,  2.48533026e-01,\n",
       "          6.45654655e-02, -7.09836391e-02, -4.06515642e-02,\n",
       "          1.07143234e-01,  2.44526371e-01,  6.93057339e-02,\n",
       "         -5.15428953e-02, -3.27511169e-02,  1.19614654e-01,\n",
       "          2.42184452e-01,  7.74601243e-02, -3.70399312e-02,\n",
       "         -3.00988238e-02,  1.43231349e-01,  2.42776986e-01,\n",
       "          9.63365503e-02, -2.97320173e-02, -2.74183149e-02,\n",
       "          1.58552574e-01,  2.50451706e-01,  1.02910851e-01,\n",
       "         -2.68539972e-02, -2.78697690e-02,  1.70064654e-01,\n",
       "          2.36400196e-01,  1.03249442e-01, -2.92523473e-02,\n",
       "         -1.84174480e-02,  1.86175924e-01,  2.31152042e-01,\n",
       "          1.21166528e-01, -2.79544167e-02, -1.18995789e-02,\n",
       "          1.89759341e-01,  2.28584396e-01,  1.28418010e-01,\n",
       "         -3.34000822e-02, -8.11865052e-03,  1.97180118e-01,\n",
       "          2.16987668e-01,  1.33355790e-01, -4.19777108e-02,\n",
       "          1.13503091e-02,  1.95148574e-01,  2.26863228e-01,\n",
       "          1.48056265e-01, -3.87893159e-02,  2.08308460e-02,\n",
       "          1.90577601e-01,  2.27907215e-01,  1.57621449e-01,\n",
       "         -4.52789691e-02,  2.90416681e-02,  1.85273015e-01,\n",
       "          2.27258250e-01,  1.61374162e-01, -4.82980687e-02,\n",
       "          4.27828034e-02,  1.76949330e-01,  2.41140465e-01,\n",
       "          1.62079559e-01, -4.13287455e-02,  4.62533571e-02,\n",
       "          1.69161746e-01,  2.67691611e-01,  1.63518569e-01,\n",
       "         -4.36988797e-02,  5.47463380e-02,  1.57536802e-01,\n",
       "          2.69243485e-01,  1.50285320e-01, -3.89868271e-02,\n",
       "          5.68343134e-02,  1.53473715e-01,  2.95202098e-01,\n",
       "          1.43485292e-01, -2.32705800e-02,  5.17272385e-02,\n",
       "          1.49354196e-01,  3.09987221e-01,  1.36233810e-01,\n",
       "         -2.27062623e-02,  4.89056501e-02,  1.51724330e-01,\n",
       "          3.13006320e-01,  1.19586438e-01, -4.53523332e-03,\n",
       "          3.74782173e-02,  1.73619855e-01,  3.24772343e-01,\n",
       "          1.25398910e-01,  5.50962122e-03,  3.54748895e-02,\n",
       "          1.76131069e-01,  3.25167366e-01,  1.25568206e-01,\n",
       "          1.00805944e-02,  2.87312934e-02,  1.91367646e-01,\n",
       "          3.17577293e-01,  1.21787277e-01,  1.70781335e-02,\n",
       "          1.99561536e-02,  2.20091416e-01,  3.08689290e-01,\n",
       "          1.36544184e-01,  2.08590619e-02,  1.99843695e-02,\n",
       "          2.31970303e-01,  3.01494240e-01,  1.38321785e-01,\n",
       "          1.79528259e-02,  1.71909970e-02,  2.46811857e-01,\n",
       "          2.79598714e-01,  1.46673687e-01,  1.33536368e-02,\n",
       "          2.76026580e-02,  2.54119771e-01,  2.75197036e-01,\n",
       "          1.65916919e-01,  7.06149482e-03,  3.15810976e-02,\n",
       "          2.54712305e-01,  2.54401930e-01,  1.73168401e-01,\n",
       "         -1.14481248e-02,  5.01753649e-02,  2.52088227e-01,\n",
       "          2.56433474e-01,  1.81999973e-01, -1.27178395e-02]]])"
      ]
     },
     "execution_count": 14,
     "metadata": {},
     "output_type": "execute_result"
    }
   ],
   "source": [
    "Xt"
   ]
  },
  {
   "cell_type": "code",
   "execution_count": null,
   "metadata": {},
   "outputs": [],
   "source": []
  },
  {
   "cell_type": "code",
   "execution_count": null,
   "metadata": {},
   "outputs": [],
   "source": []
  },
  {
   "cell_type": "code",
   "execution_count": null,
   "metadata": {},
   "outputs": [],
   "source": []
  },
  {
   "cell_type": "code",
   "execution_count": null,
   "metadata": {},
   "outputs": [],
   "source": []
  },
  {
   "cell_type": "code",
   "execution_count": null,
   "metadata": {},
   "outputs": [],
   "source": []
  },
  {
   "cell_type": "code",
   "execution_count": null,
   "metadata": {},
   "outputs": [],
   "source": []
  },
  {
   "cell_type": "code",
   "execution_count": 33,
   "metadata": {},
   "outputs": [],
   "source": [
    "import warnings\n",
    "\n",
    "warnings.filterwarnings(\"ignore\")"
   ]
  },
  {
   "cell_type": "code",
   "execution_count": 34,
   "metadata": {},
   "outputs": [],
   "source": [
    "from sklearn.linear_model import RidgeClassifierCV\n",
    "from sklearn.pipeline import make_pipeline\n",
    "\n",
    "from sktime.datasets import load_UCR_UEA_dataset\n",
    "from sktime.transformations.panel import channel_selection\n",
    "from sktime.transformations.panel.rocket import Rocket"
   ]
  },
  {
   "cell_type": "code",
   "execution_count": 35,
   "metadata": {},
   "outputs": [],
   "source": [
    "# cs = channel_selection.ElbowClassSum()  # ECS\n",
    "cs = channel_selection.ElbowClassPairwise()  # ECP"
   ]
  },
  {
   "cell_type": "code",
   "execution_count": 36,
   "metadata": {},
   "outputs": [],
   "source": [
    "rocket_pipeline = make_pipeline(cs, Rocket(), RidgeClassifierCV())"
   ]
  },
  {
   "cell_type": "code",
   "execution_count": 40,
   "metadata": {},
   "outputs": [],
   "source": [
    "data = \"BasicMotions\"\n",
    "X_train, y_train = load_UCR_UEA_dataset(data, split=\"train\", return_X_y=True)\n",
    "X_test, y_test = load_UCR_UEA_dataset(data, split=\"test\", return_X_y=True)"
   ]
  },
  {
   "cell_type": "code",
   "execution_count": 41,
   "metadata": {},
   "outputs": [
    {
     "ename": "AssertionError",
     "evalue": "<code object _fit at 0x139946ef0, file \"/Users/cyuab/miniconda3/envs/tscc/lib/python3.12/site-packages/sktime/transformations/panel/rocket/_rocket.py\", line 93> != <code object _generate_kernels at 0x12bb4bc00, file \"/Users/cyuab/miniconda3/envs/tscc/lib/python3.12/site-packages/sktime/transformations/panel/rocket/_rocket_numba.py\", line 14>",
     "output_type": "error",
     "traceback": [
      "\u001b[0;31m---------------------------------------------------------------------------\u001b[0m",
      "\u001b[0;31mKeyError\u001b[0m                                  Traceback (most recent call last)",
      "File \u001b[0;32m_pydevd_sys_monitoring\\\\_pydevd_sys_monitoring_cython.pyx:592\u001b[0m, in \u001b[0;36m_pydevd_sys_monitoring_cython._get_func_code_info\u001b[0;34m()\u001b[0m\n",
      "\u001b[0;31mKeyError\u001b[0m: (14, '/Users/cyuab/miniconda3/envs/tscc/lib/python3.12/site-packages/sktime/transformations/panel/rocket/_rocket_numba.py', <code object _generate_kernels at 0x12bb4bc00, file \"/Users/cyuab/miniconda3/envs/tscc/lib/python3.12/site-packages/sktime/transformations/panel/rocket/_rocket_numba.py\", line 14>)",
      "\nDuring handling of the above exception, another exception occurred:\n",
      "\u001b[0;31mAssertionError\u001b[0m                            Traceback (most recent call last)",
      "Cell \u001b[0;32mIn[41], line 1\u001b[0m\n\u001b[0;32m----> 1\u001b[0m rocket_pipeline\u001b[38;5;241m.\u001b[39mfit(X_train, y_train)\n",
      "File \u001b[0;32m~/miniconda3/envs/tscc/lib/python3.12/site-packages/sklearn/base.py:1473\u001b[0m, in \u001b[0;36m_fit_context.<locals>.decorator.<locals>.wrapper\u001b[0;34m(estimator, *args, **kwargs)\u001b[0m\n\u001b[1;32m   1466\u001b[0m     estimator\u001b[38;5;241m.\u001b[39m_validate_params()\n\u001b[1;32m   1468\u001b[0m \u001b[38;5;28;01mwith\u001b[39;00m config_context(\n\u001b[1;32m   1469\u001b[0m     skip_parameter_validation\u001b[38;5;241m=\u001b[39m(\n\u001b[1;32m   1470\u001b[0m         prefer_skip_nested_validation \u001b[38;5;129;01mor\u001b[39;00m global_skip_validation\n\u001b[1;32m   1471\u001b[0m     )\n\u001b[1;32m   1472\u001b[0m ):\n\u001b[0;32m-> 1473\u001b[0m     \u001b[38;5;28;01mreturn\u001b[39;00m fit_method(estimator, \u001b[38;5;241m*\u001b[39margs, \u001b[38;5;241m*\u001b[39m\u001b[38;5;241m*\u001b[39mkwargs)\n",
      "File \u001b[0;32m~/miniconda3/envs/tscc/lib/python3.12/site-packages/sklearn/pipeline.py:469\u001b[0m, in \u001b[0;36mPipeline.fit\u001b[0;34m(self, X, y, **params)\u001b[0m\n\u001b[1;32m    426\u001b[0m \u001b[38;5;250m\u001b[39m\u001b[38;5;124;03m\"\"\"Fit the model.\u001b[39;00m\n\u001b[1;32m    427\u001b[0m \n\u001b[1;32m    428\u001b[0m \u001b[38;5;124;03mFit all the transformers one after the other and sequentially transform the\u001b[39;00m\n\u001b[0;32m   (...)\u001b[0m\n\u001b[1;32m    466\u001b[0m \u001b[38;5;124;03m    Pipeline with fitted steps.\u001b[39;00m\n\u001b[1;32m    467\u001b[0m \u001b[38;5;124;03m\"\"\"\u001b[39;00m\n\u001b[1;32m    468\u001b[0m routed_params \u001b[38;5;241m=\u001b[39m \u001b[38;5;28mself\u001b[39m\u001b[38;5;241m.\u001b[39m_check_method_params(method\u001b[38;5;241m=\u001b[39m\u001b[38;5;124m\"\u001b[39m\u001b[38;5;124mfit\u001b[39m\u001b[38;5;124m\"\u001b[39m, props\u001b[38;5;241m=\u001b[39mparams)\n\u001b[0;32m--> 469\u001b[0m Xt \u001b[38;5;241m=\u001b[39m \u001b[38;5;28mself\u001b[39m\u001b[38;5;241m.\u001b[39m_fit(X, y, routed_params)\n\u001b[1;32m    470\u001b[0m \u001b[38;5;28;01mwith\u001b[39;00m _print_elapsed_time(\u001b[38;5;124m\"\u001b[39m\u001b[38;5;124mPipeline\u001b[39m\u001b[38;5;124m\"\u001b[39m, \u001b[38;5;28mself\u001b[39m\u001b[38;5;241m.\u001b[39m_log_message(\u001b[38;5;28mlen\u001b[39m(\u001b[38;5;28mself\u001b[39m\u001b[38;5;241m.\u001b[39msteps) \u001b[38;5;241m-\u001b[39m \u001b[38;5;241m1\u001b[39m)):\n\u001b[1;32m    471\u001b[0m     \u001b[38;5;28;01mif\u001b[39;00m \u001b[38;5;28mself\u001b[39m\u001b[38;5;241m.\u001b[39m_final_estimator \u001b[38;5;241m!=\u001b[39m \u001b[38;5;124m\"\u001b[39m\u001b[38;5;124mpassthrough\u001b[39m\u001b[38;5;124m\"\u001b[39m:\n",
      "File \u001b[0;32m~/miniconda3/envs/tscc/lib/python3.12/site-packages/sklearn/pipeline.py:406\u001b[0m, in \u001b[0;36mPipeline._fit\u001b[0;34m(self, X, y, routed_params)\u001b[0m\n\u001b[1;32m    404\u001b[0m     cloned_transformer \u001b[38;5;241m=\u001b[39m clone(transformer)\n\u001b[1;32m    405\u001b[0m \u001b[38;5;66;03m# Fit or load from cache the current transformer\u001b[39;00m\n\u001b[0;32m--> 406\u001b[0m X, fitted_transformer \u001b[38;5;241m=\u001b[39m fit_transform_one_cached(\n\u001b[1;32m    407\u001b[0m     cloned_transformer,\n\u001b[1;32m    408\u001b[0m     X,\n\u001b[1;32m    409\u001b[0m     y,\n\u001b[1;32m    410\u001b[0m     \u001b[38;5;28;01mNone\u001b[39;00m,\n\u001b[1;32m    411\u001b[0m     message_clsname\u001b[38;5;241m=\u001b[39m\u001b[38;5;124m\"\u001b[39m\u001b[38;5;124mPipeline\u001b[39m\u001b[38;5;124m\"\u001b[39m,\n\u001b[1;32m    412\u001b[0m     message\u001b[38;5;241m=\u001b[39m\u001b[38;5;28mself\u001b[39m\u001b[38;5;241m.\u001b[39m_log_message(step_idx),\n\u001b[1;32m    413\u001b[0m     params\u001b[38;5;241m=\u001b[39mrouted_params[name],\n\u001b[1;32m    414\u001b[0m )\n\u001b[1;32m    415\u001b[0m \u001b[38;5;66;03m# Replace the transformer of the step with the fitted\u001b[39;00m\n\u001b[1;32m    416\u001b[0m \u001b[38;5;66;03m# transformer. This is necessary when loading the transformer\u001b[39;00m\n\u001b[1;32m    417\u001b[0m \u001b[38;5;66;03m# from the cache.\u001b[39;00m\n\u001b[1;32m    418\u001b[0m \u001b[38;5;28mself\u001b[39m\u001b[38;5;241m.\u001b[39msteps[step_idx] \u001b[38;5;241m=\u001b[39m (name, fitted_transformer)\n",
      "File \u001b[0;32m~/miniconda3/envs/tscc/lib/python3.12/site-packages/joblib/memory.py:312\u001b[0m, in \u001b[0;36mNotMemorizedFunc.__call__\u001b[0;34m(self, *args, **kwargs)\u001b[0m\n\u001b[1;32m    311\u001b[0m \u001b[38;5;28;01mdef\u001b[39;00m \u001b[38;5;21m__call__\u001b[39m(\u001b[38;5;28mself\u001b[39m, \u001b[38;5;241m*\u001b[39margs, \u001b[38;5;241m*\u001b[39m\u001b[38;5;241m*\u001b[39mkwargs):\n\u001b[0;32m--> 312\u001b[0m     \u001b[38;5;28;01mreturn\u001b[39;00m \u001b[38;5;28mself\u001b[39m\u001b[38;5;241m.\u001b[39mfunc(\u001b[38;5;241m*\u001b[39margs, \u001b[38;5;241m*\u001b[39m\u001b[38;5;241m*\u001b[39mkwargs)\n",
      "File \u001b[0;32m~/miniconda3/envs/tscc/lib/python3.12/site-packages/sklearn/pipeline.py:1310\u001b[0m, in \u001b[0;36m_fit_transform_one\u001b[0;34m(transformer, X, y, weight, message_clsname, message, params)\u001b[0m\n\u001b[1;32m   1308\u001b[0m \u001b[38;5;28;01mwith\u001b[39;00m _print_elapsed_time(message_clsname, message):\n\u001b[1;32m   1309\u001b[0m     \u001b[38;5;28;01mif\u001b[39;00m \u001b[38;5;28mhasattr\u001b[39m(transformer, \u001b[38;5;124m\"\u001b[39m\u001b[38;5;124mfit_transform\u001b[39m\u001b[38;5;124m\"\u001b[39m):\n\u001b[0;32m-> 1310\u001b[0m         res \u001b[38;5;241m=\u001b[39m transformer\u001b[38;5;241m.\u001b[39mfit_transform(X, y, \u001b[38;5;241m*\u001b[39m\u001b[38;5;241m*\u001b[39mparams\u001b[38;5;241m.\u001b[39mget(\u001b[38;5;124m\"\u001b[39m\u001b[38;5;124mfit_transform\u001b[39m\u001b[38;5;124m\"\u001b[39m, {}))\n\u001b[1;32m   1311\u001b[0m     \u001b[38;5;28;01melse\u001b[39;00m:\n\u001b[1;32m   1312\u001b[0m         res \u001b[38;5;241m=\u001b[39m transformer\u001b[38;5;241m.\u001b[39mfit(X, y, \u001b[38;5;241m*\u001b[39m\u001b[38;5;241m*\u001b[39mparams\u001b[38;5;241m.\u001b[39mget(\u001b[38;5;124m\"\u001b[39m\u001b[38;5;124mfit\u001b[39m\u001b[38;5;124m\"\u001b[39m, {}))\u001b[38;5;241m.\u001b[39mtransform(\n\u001b[1;32m   1313\u001b[0m             X, \u001b[38;5;241m*\u001b[39m\u001b[38;5;241m*\u001b[39mparams\u001b[38;5;241m.\u001b[39mget(\u001b[38;5;124m\"\u001b[39m\u001b[38;5;124mtransform\u001b[39m\u001b[38;5;124m\"\u001b[39m, {})\n\u001b[1;32m   1314\u001b[0m         )\n",
      "File \u001b[0;32m~/miniconda3/envs/tscc/lib/python3.12/site-packages/sktime/transformations/base.py:718\u001b[0m, in \u001b[0;36mBaseTransformer.fit_transform\u001b[0;34m(self, X, y)\u001b[0m\n\u001b[1;32m    644\u001b[0m \u001b[38;5;250m\u001b[39m\u001b[38;5;124;03m\"\"\"Fit to data, then transform it.\u001b[39;00m\n\u001b[1;32m    645\u001b[0m \n\u001b[1;32m    646\u001b[0m \u001b[38;5;124;03mFits the transformer to X and y and returns a transformed version of X.\u001b[39;00m\n\u001b[0;32m   (...)\u001b[0m\n\u001b[1;32m    714\u001b[0m \u001b[38;5;124;03m        Example: i-th instance of the output is the i-th window running over `X`\u001b[39;00m\n\u001b[1;32m    715\u001b[0m \u001b[38;5;124;03m\"\"\"\u001b[39;00m\n\u001b[1;32m    716\u001b[0m \u001b[38;5;66;03m# Non-optimized default implementation; override when a better\u001b[39;00m\n\u001b[1;32m    717\u001b[0m \u001b[38;5;66;03m# method is possible for a given algorithm.\u001b[39;00m\n\u001b[0;32m--> 718\u001b[0m \u001b[38;5;28;01mreturn\u001b[39;00m \u001b[38;5;28mself\u001b[39m\u001b[38;5;241m.\u001b[39mfit(X, y)\u001b[38;5;241m.\u001b[39mtransform(X, y)\n",
      "File \u001b[0;32m~/miniconda3/envs/tscc/lib/python3.12/site-packages/sktime/transformations/base.py:512\u001b[0m, in \u001b[0;36mBaseTransformer.fit\u001b[0;34m(self, X, y)\u001b[0m\n\u001b[1;32m    510\u001b[0m \u001b[38;5;66;03m# we call the ordinary _fit if no looping/vectorization needed\u001b[39;00m\n\u001b[1;32m    511\u001b[0m \u001b[38;5;28;01mif\u001b[39;00m \u001b[38;5;129;01mnot\u001b[39;00m vectorization_needed:\n\u001b[0;32m--> 512\u001b[0m     \u001b[38;5;28mself\u001b[39m\u001b[38;5;241m.\u001b[39m_fit(X\u001b[38;5;241m=\u001b[39mX_inner, y\u001b[38;5;241m=\u001b[39my_inner)\n\u001b[1;32m    513\u001b[0m \u001b[38;5;28;01melse\u001b[39;00m:\n\u001b[1;32m    514\u001b[0m     \u001b[38;5;66;03m# otherwise we call the vectorized version of fit\u001b[39;00m\n\u001b[1;32m    515\u001b[0m     \u001b[38;5;28mself\u001b[39m\u001b[38;5;241m.\u001b[39m_vectorize(\u001b[38;5;124m\"\u001b[39m\u001b[38;5;124mfit\u001b[39m\u001b[38;5;124m\"\u001b[39m, X\u001b[38;5;241m=\u001b[39mX_inner, y\u001b[38;5;241m=\u001b[39my_inner)\n",
      "File \u001b[0;32m~/miniconda3/envs/tscc/lib/python3.12/site-packages/sktime/transformations/panel/rocket/_rocket.py:113\u001b[0m, in \u001b[0;36mRocket._fit\u001b[0;34m(self, X, y)\u001b[0m\n\u001b[1;32m    110\u001b[0m \u001b[38;5;28;01mfrom\u001b[39;00m \u001b[38;5;21;01msktime\u001b[39;00m\u001b[38;5;21;01m.\u001b[39;00m\u001b[38;5;21;01mtransformations\u001b[39;00m\u001b[38;5;21;01m.\u001b[39;00m\u001b[38;5;21;01mpanel\u001b[39;00m\u001b[38;5;21;01m.\u001b[39;00m\u001b[38;5;21;01mrocket\u001b[39;00m\u001b[38;5;21;01m.\u001b[39;00m\u001b[38;5;21;01m_rocket_numba\u001b[39;00m \u001b[38;5;28;01mimport\u001b[39;00m _generate_kernels\n\u001b[1;32m    112\u001b[0m _, \u001b[38;5;28mself\u001b[39m\u001b[38;5;241m.\u001b[39mn_columns, n_timepoints \u001b[38;5;241m=\u001b[39m X\u001b[38;5;241m.\u001b[39mshape\n\u001b[0;32m--> 113\u001b[0m \u001b[38;5;28mself\u001b[39m\u001b[38;5;241m.\u001b[39mkernels \u001b[38;5;241m=\u001b[39m _generate_kernels(\n\u001b[1;32m    114\u001b[0m     n_timepoints, \u001b[38;5;28mself\u001b[39m\u001b[38;5;241m.\u001b[39mnum_kernels, \u001b[38;5;28mself\u001b[39m\u001b[38;5;241m.\u001b[39mn_columns, \u001b[38;5;28mself\u001b[39m\u001b[38;5;241m.\u001b[39mrandom_state\n\u001b[1;32m    115\u001b[0m )\n\u001b[1;32m    116\u001b[0m \u001b[38;5;28;01mreturn\u001b[39;00m \u001b[38;5;28mself\u001b[39m\n",
      "File \u001b[0;32m<stringsource>:69\u001b[0m, in \u001b[0;36mcfunc.to_py.__Pyx_CFunc_893235__29_pydevd_sys_monitoring_cython_object__lParen__etc_to_py_4code_18instruction_offset.wrap\u001b[0;34m()\u001b[0m\n",
      "File \u001b[0;32m_pydevd_sys_monitoring\\\\_pydevd_sys_monitoring_cython.pyx:1697\u001b[0m, in \u001b[0;36m_pydevd_sys_monitoring_cython._start_method_event\u001b[0;34m()\u001b[0m\n",
      "File \u001b[0;32m_pydevd_sys_monitoring\\\\_pydevd_sys_monitoring_cython.pyx:599\u001b[0m, in \u001b[0;36m_pydevd_sys_monitoring_cython._get_func_code_info\u001b[0;34m()\u001b[0m\n",
      "\u001b[0;31mAssertionError\u001b[0m: <code object _fit at 0x139946ef0, file \"/Users/cyuab/miniconda3/envs/tscc/lib/python3.12/site-packages/sktime/transformations/panel/rocket/_rocket.py\", line 93> != <code object _generate_kernels at 0x12bb4bc00, file \"/Users/cyuab/miniconda3/envs/tscc/lib/python3.12/site-packages/sktime/transformations/panel/rocket/_rocket_numba.py\", line 14>"
     ]
    }
   ],
   "source": [
    "rocket_pipeline.fit(X_train, y_train)"
   ]
  },
  {
   "cell_type": "code",
   "execution_count": 42,
   "metadata": {},
   "outputs": [],
   "source": [
    "from sktime.transformations.panel.channel_selection import ElbowClassPairwise\n",
    "from sktime.utils._testing.panel import make_classification_problem\n",
    "X, y = make_classification_problem(n_columns=3, n_classes=3, random_state=42)\n",
    "cs = ElbowClassPairwise()\n",
    "cs.fit(X, y)\n",
    "Xt = cs.transform(X)"
   ]
  },
  {
   "cell_type": "code",
   "execution_count": 44,
   "metadata": {},
   "outputs": [
    {
     "data": {
      "application/vnd.microsoft.datawrangler.viewer.v0+json": {
       "columns": [
        {
         "name": "index",
         "rawType": "int64",
         "type": "integer"
        },
        {
         "name": "Centroid_badminton_running",
         "rawType": "float64",
         "type": "float"
        },
        {
         "name": "Centroid_badminton_standing",
         "rawType": "float64",
         "type": "float"
        },
        {
         "name": "Centroid_badminton_walking",
         "rawType": "float64",
         "type": "float"
        },
        {
         "name": "Centroid_running_standing",
         "rawType": "float64",
         "type": "float"
        },
        {
         "name": "Centroid_running_walking",
         "rawType": "float64",
         "type": "float"
        },
        {
         "name": "Centroid_standing_walking",
         "rawType": "float64",
         "type": "float"
        }
       ],
       "conversionMethod": "pd.DataFrame",
       "ref": "867af2b1-cb2a-4e01-9929-ebeda67559e5",
       "rows": [
        [
         "0",
         "39.59436490178488",
         "55.75216230366524",
         "48.44018671210549",
         "63.60963771093914",
         "57.24680112761489",
         "10.716981892744341"
        ],
        [
         "1",
         "57.681242462100336",
         "24.390184917840557",
         "27.769918118630173",
         "60.457570900031946",
         "62.33859495848644",
         "16.37015102749633"
        ],
        [
         "2",
         "20.175722982713495",
         "24.12670403618586",
         "22.33136028529898",
         "25.671667299731826",
         "22.991253937687727",
         "4.897422761404093"
        ],
        [
         "3",
         "12.54606377538419",
         "12.438990557252088",
         "12.7416926269394",
         "6.317530679329945",
         "6.695616818348092",
         "3.5852188675222347"
        ],
        [
         "4",
         "10.10106794792784",
         "8.865721294537185",
         "9.221755335549773",
         "6.52005738504875",
         "6.715584973092036",
         "1.2999697407257693"
        ],
        [
         "5",
         "23.46398468249954",
         "14.568463556485854",
         "13.953241793318389",
         "18.878171254201444",
         "19.768277793127048",
         "7.228230617138284"
        ]
       ],
       "shape": {
        "columns": 6,
        "rows": 6
       }
      },
      "text/html": [
       "<div>\n",
       "<style scoped>\n",
       "    .dataframe tbody tr th:only-of-type {\n",
       "        vertical-align: middle;\n",
       "    }\n",
       "\n",
       "    .dataframe tbody tr th {\n",
       "        vertical-align: top;\n",
       "    }\n",
       "\n",
       "    .dataframe thead th {\n",
       "        text-align: right;\n",
       "    }\n",
       "</style>\n",
       "<table border=\"1\" class=\"dataframe\">\n",
       "  <thead>\n",
       "    <tr style=\"text-align: right;\">\n",
       "      <th></th>\n",
       "      <th>Centroid_badminton_running</th>\n",
       "      <th>Centroid_badminton_standing</th>\n",
       "      <th>Centroid_badminton_walking</th>\n",
       "      <th>Centroid_running_standing</th>\n",
       "      <th>Centroid_running_walking</th>\n",
       "      <th>Centroid_standing_walking</th>\n",
       "    </tr>\n",
       "  </thead>\n",
       "  <tbody>\n",
       "    <tr>\n",
       "      <th>0</th>\n",
       "      <td>39.594365</td>\n",
       "      <td>55.752162</td>\n",
       "      <td>48.440187</td>\n",
       "      <td>63.609638</td>\n",
       "      <td>57.246801</td>\n",
       "      <td>10.716982</td>\n",
       "    </tr>\n",
       "    <tr>\n",
       "      <th>1</th>\n",
       "      <td>57.681242</td>\n",
       "      <td>24.390185</td>\n",
       "      <td>27.769918</td>\n",
       "      <td>60.457571</td>\n",
       "      <td>62.338595</td>\n",
       "      <td>16.370151</td>\n",
       "    </tr>\n",
       "    <tr>\n",
       "      <th>2</th>\n",
       "      <td>20.175723</td>\n",
       "      <td>24.126704</td>\n",
       "      <td>22.331360</td>\n",
       "      <td>25.671667</td>\n",
       "      <td>22.991254</td>\n",
       "      <td>4.897423</td>\n",
       "    </tr>\n",
       "    <tr>\n",
       "      <th>3</th>\n",
       "      <td>12.546064</td>\n",
       "      <td>12.438991</td>\n",
       "      <td>12.741693</td>\n",
       "      <td>6.317531</td>\n",
       "      <td>6.695617</td>\n",
       "      <td>3.585219</td>\n",
       "    </tr>\n",
       "    <tr>\n",
       "      <th>4</th>\n",
       "      <td>10.101068</td>\n",
       "      <td>8.865721</td>\n",
       "      <td>9.221755</td>\n",
       "      <td>6.520057</td>\n",
       "      <td>6.715585</td>\n",
       "      <td>1.299970</td>\n",
       "    </tr>\n",
       "    <tr>\n",
       "      <th>5</th>\n",
       "      <td>23.463985</td>\n",
       "      <td>14.568464</td>\n",
       "      <td>13.953242</td>\n",
       "      <td>18.878171</td>\n",
       "      <td>19.768278</td>\n",
       "      <td>7.228231</td>\n",
       "    </tr>\n",
       "  </tbody>\n",
       "</table>\n",
       "</div>"
      ],
      "text/plain": [
       "   Centroid_badminton_running  Centroid_badminton_standing  \\\n",
       "0                   39.594365                    55.752162   \n",
       "1                   57.681242                    24.390185   \n",
       "2                   20.175723                    24.126704   \n",
       "3                   12.546064                    12.438991   \n",
       "4                   10.101068                     8.865721   \n",
       "5                   23.463985                    14.568464   \n",
       "\n",
       "   Centroid_badminton_walking  Centroid_running_standing  \\\n",
       "0                   48.440187                  63.609638   \n",
       "1                   27.769918                  60.457571   \n",
       "2                   22.331360                  25.671667   \n",
       "3                   12.741693                   6.317531   \n",
       "4                    9.221755                   6.520057   \n",
       "5                   13.953242                  18.878171   \n",
       "\n",
       "   Centroid_running_walking  Centroid_standing_walking  \n",
       "0                 57.246801                  10.716982  \n",
       "1                 62.338595                  16.370151  \n",
       "2                 22.991254                   4.897423  \n",
       "3                  6.695617                   3.585219  \n",
       "4                  6.715585                   1.299970  \n",
       "5                 19.768278                   7.228231  "
      ]
     },
     "execution_count": 44,
     "metadata": {},
     "output_type": "execute_result"
    }
   ],
   "source": [
    "cs.distance_frame_"
   ]
  },
  {
   "cell_type": "code",
   "execution_count": 46,
   "metadata": {},
   "outputs": [
    {
     "data": {
      "text/plain": [
       "18"
      ]
     },
     "execution_count": 46,
     "metadata": {},
     "output_type": "execute_result"
    }
   ],
   "source": [
    "cs.train_time_"
   ]
  },
  {
   "cell_type": "code",
   "execution_count": null,
   "metadata": {},
   "outputs": [],
   "source": []
  },
  {
   "cell_type": "code",
   "execution_count": 6,
   "metadata": {},
   "outputs": [],
   "source": [
    "import numpy as np\n",
    "from sklearn.metrics import precision_score\n",
    "y_true = [0, 1, 2, 0, 1, 2]\n",
    "y_pred = [0, 2, 1, 0, 0, 1]\n"
   ]
  },
  {
   "cell_type": "code",
   "execution_count": 9,
   "metadata": {},
   "outputs": [
    {
     "name": "stderr",
     "output_type": "stream",
     "text": [
      "/Users/cyuab/miniconda3/envs/tscc/lib/python3.12/site-packages/sklearn/metrics/_classification.py:1531: UndefinedMetricWarning: Precision is ill-defined and being set to 0.0 in labels with no predicted samples. Use `zero_division` parameter to control this behavior.\n",
      "  _warn_prf(average, modifier, f\"{metric.capitalize()} is\", len(result))\n"
     ]
    },
    {
     "data": {
      "text/plain": [
       "0.1111111111111111"
      ]
     },
     "execution_count": 9,
     "metadata": {},
     "output_type": "execute_result"
    }
   ],
   "source": [
    "precision_score(y_true, y_pred, average='macro')"
   ]
  },
  {
   "cell_type": "code",
   "execution_count": 10,
   "metadata": {},
   "outputs": [
    {
     "data": {
      "text/plain": [
       "0.3333333333333333"
      ]
     },
     "execution_count": 10,
     "metadata": {},
     "output_type": "execute_result"
    }
   ],
   "source": [
    "precision_score(y_true, y_pred, average='micro')\n"
   ]
  },
  {
   "cell_type": "code",
   "execution_count": 11,
   "metadata": {},
   "outputs": [
    {
     "name": "stderr",
     "output_type": "stream",
     "text": [
      "/Users/cyuab/miniconda3/envs/tscc/lib/python3.12/site-packages/sklearn/metrics/_classification.py:1531: UndefinedMetricWarning: Precision is ill-defined and being set to 0.0 in labels with no predicted samples. Use `zero_division` parameter to control this behavior.\n",
      "  _warn_prf(average, modifier, f\"{metric.capitalize()} is\", len(result))\n"
     ]
    },
    {
     "data": {
      "text/plain": [
       "0.1111111111111111"
      ]
     },
     "execution_count": 11,
     "metadata": {},
     "output_type": "execute_result"
    }
   ],
   "source": [
    "precision_score(y_true, y_pred, average='weighted')\n"
   ]
  },
  {
   "cell_type": "code",
   "execution_count": 12,
   "metadata": {},
   "outputs": [
    {
     "name": "stderr",
     "output_type": "stream",
     "text": [
      "/Users/cyuab/miniconda3/envs/tscc/lib/python3.12/site-packages/sklearn/metrics/_classification.py:1531: UndefinedMetricWarning: Precision is ill-defined and being set to 0.0 in labels with no predicted samples. Use `zero_division` parameter to control this behavior.\n",
      "  _warn_prf(average, modifier, f\"{metric.capitalize()} is\", len(result))\n"
     ]
    },
    {
     "data": {
      "text/plain": [
       "array([0.33333333, 0.        , 0.        ])"
      ]
     },
     "execution_count": 12,
     "metadata": {},
     "output_type": "execute_result"
    }
   ],
   "source": [
    "precision_score(y_true, y_pred, average=None)\n"
   ]
  },
  {
   "cell_type": "code",
   "execution_count": 14,
   "metadata": {},
   "outputs": [],
   "source": [
    "y_pred = [0, 0, 0, 0, 0, 0]\n"
   ]
  },
  {
   "cell_type": "code",
   "execution_count": 15,
   "metadata": {},
   "outputs": [
    {
     "name": "stderr",
     "output_type": "stream",
     "text": [
      "/Users/cyuab/miniconda3/envs/tscc/lib/python3.12/site-packages/sklearn/metrics/_classification.py:1531: UndefinedMetricWarning: Precision is ill-defined and being set to 0.0 in labels with no predicted samples. Use `zero_division` parameter to control this behavior.\n",
      "  _warn_prf(average, modifier, f\"{metric.capitalize()} is\", len(result))\n"
     ]
    },
    {
     "data": {
      "text/plain": [
       "array([0.33333333, 0.        , 0.        ])"
      ]
     },
     "execution_count": 15,
     "metadata": {},
     "output_type": "execute_result"
    }
   ],
   "source": [
    "precision_score(y_true, y_pred, average=None)\n"
   ]
  },
  {
   "cell_type": "code",
   "execution_count": 16,
   "metadata": {},
   "outputs": [
    {
     "data": {
      "text/plain": [
       "array([0.33333333, 1.        , 1.        ])"
      ]
     },
     "execution_count": 16,
     "metadata": {},
     "output_type": "execute_result"
    }
   ],
   "source": [
    "precision_score(y_true, y_pred, average=None, zero_division=1)\n"
   ]
  },
  {
   "cell_type": "code",
   "execution_count": 17,
   "metadata": {},
   "outputs": [
    {
     "data": {
      "text/plain": [
       "array([0.33333333,        nan,        nan])"
      ]
     },
     "execution_count": 17,
     "metadata": {},
     "output_type": "execute_result"
    }
   ],
   "source": [
    "precision_score(y_true, y_pred, average=None, zero_division=np.nan)"
   ]
  },
  {
   "cell_type": "code",
   "execution_count": null,
   "metadata": {},
   "outputs": [],
   "source": []
  },
  {
   "cell_type": "markdown",
   "metadata": {},
   "source": [
    "# 9 Archive\n",
    "It archives some useful code segments I have used in doing this project."
   ]
  },
  {
   "cell_type": "markdown",
   "metadata": {},
   "source": [
    "## Cast String to Float"
   ]
  },
  {
   "cell_type": "code",
   "execution_count": null,
   "metadata": {},
   "outputs": [],
   "source": [
    "# https://stackoverflow.com/questions/64584736/typecast-a-column-in-pandas-dataframe\n",
    "# https://stackoverflow.com/questions/8420143/valueerror-could-not-convert-string-to-float-id\n",
    "# https://stackoverflow.com/questions/1614236/how-do-i-convert-all-of-the-items-in-a-list-to-floats\n",
    "# https://stackoverflow.com/questions/52112553/convert-a-list-of-floats-to-multiple-columns-of-floats-in-pandas/52113073\n",
    "# https://stackoverflow.com/questions/3877209/how-to-convert-an-array-of-strings-to-an-array-of-floats-in-numpy"
   ]
  },
  {
   "cell_type": "code",
   "execution_count": 11,
   "metadata": {},
   "outputs": [
    {
     "name": "stdout",
     "output_type": "stream",
     "text": [
      "7\n",
      "<class 'float'>\n",
      "Float Value = 10.5674\n"
     ]
    }
   ],
   "source": [
    "# https://www.digitalocean.com/community/tutorials/python-convert-string-to-float\n",
    "input_1 = '10.5674'\n",
    "print(len(input_1))\n",
    "\n",
    "input_1 = float(input_1)\n",
    "\n",
    "print(type(input_1))\n",
    "print('Float Value =', input_1)\n"
   ]
  },
  {
   "cell_type": "markdown",
   "metadata": {},
   "source": [
    "## Save string in csv"
   ]
  },
  {
   "cell_type": "code",
   "execution_count": null,
   "metadata": {},
   "outputs": [],
   "source": [
    "# https://stackoverflow.com/questions/12877189/float64-with-pandas-to-csv\n",
    "# https://stackoverflow.com/questions/12877189/float64-with-pandas-to-csv\n",
    "# https://stackoverflow.com/questions/21433484/write-float-list-to-csv-file\n",
    "# https://stackoverflow.com/questions/50817163/pd-to-csv-set-float-format-with-list"
   ]
  },
  {
   "cell_type": "code",
   "execution_count": 5,
   "metadata": {},
   "outputs": [
    {
     "name": "stdout",
     "output_type": "stream",
     "text": [
      "0    float64\n",
      "1    float64\n",
      "2    float64\n",
      "dtype: object\n",
      "0.42666767\n"
     ]
    },
    {
     "name": "stderr",
     "output_type": "stream",
     "text": [
      "/var/folders/2w/d1h5t_nn2slf5r75qqdvlt0m0000gn/T/ipykernel_18332/2427653110.py:11: FutureWarning: The 'delim_whitespace' keyword in pd.read_csv is deprecated and will be removed in a future version. Use ``sep='\\s+'`` instead\n",
      "  df = pd.read_csv(mystr, delim_whitespace=True, header=None)\n",
      "/var/folders/2w/d1h5t_nn2slf5r75qqdvlt0m0000gn/T/ipykernel_18332/2427653110.py:23: FutureWarning: The 'delim_whitespace' keyword in pd.read_csv is deprecated and will be removed in a future version. Use ``sep='\\s+'`` instead\n",
      "  df = pd.read_csv(file_loc, delim_whitespace=True, header=None)\n"
     ]
    }
   ],
   "source": [
    "# https://stackoverflow.com/questions/51476690/how-to-use-pandas-to-csv-float-format\n",
    "from io import StringIO\n",
    "import pandas as pd\n",
    "\n",
    "mystr = StringIO(\"\"\"0.02506602 0.05754493 0.36854688\n",
    "0.02461631 0.0599653 0.43078098\n",
    "0.02502534 0.06209149 0.44955311\n",
    "0.4267356675182389 0.1718682822340447 0.5391386354945895\n",
    "0.426701667727433 0.17191008887193007 0.5391897818631616\n",
    "0.4266676661681287 0.17195189807522643 0.5392409104354972\"\"\")\n",
    "\n",
    "df = pd.read_csv(mystr, delim_whitespace=True, header=None)\n",
    "\n",
    "print(df.dtypes)\n",
    "\n",
    "# 0    float64\n",
    "# 1    float64\n",
    "# 2    float64\n",
    "# dtype: object\n",
    "\n",
    "file_loc = r'test.dat'\n",
    "# sep=‘\\s+‘什么意思？这是代表什么分隔符号？\n",
    "# https://blog.csdn.net/weixin_37706204/article/details/120827447\n",
    "df.to_csv(file_loc, sep=' ', index=False, header=False, float_format=\"%.8f\")\n",
    "\n",
    "df = pd.read_csv(file_loc, delim_whitespace=True, header=None)\n",
    "\n",
    "print(df[0].iloc[-1])\n",
    "\n",
    "# 0.42666767"
   ]
  },
  {
   "cell_type": "code",
   "execution_count": 13,
   "metadata": {},
   "outputs": [
    {
     "data": {
      "text/html": [
       "<div>\n",
       "<style scoped>\n",
       "    .dataframe tbody tr th:only-of-type {\n",
       "        vertical-align: middle;\n",
       "    }\n",
       "\n",
       "    .dataframe tbody tr th {\n",
       "        vertical-align: top;\n",
       "    }\n",
       "\n",
       "    .dataframe thead th {\n",
       "        text-align: right;\n",
       "    }\n",
       "</style>\n",
       "<table border=\"1\" class=\"dataframe\">\n",
       "  <thead>\n",
       "    <tr style=\"text-align: right;\">\n",
       "      <th></th>\n",
       "      <th>0</th>\n",
       "      <th>1</th>\n",
       "      <th>2</th>\n",
       "    </tr>\n",
       "  </thead>\n",
       "  <tbody>\n",
       "    <tr>\n",
       "      <th>0</th>\n",
       "      <td>0.025066</td>\n",
       "      <td>0.057545</td>\n",
       "      <td>0.368547</td>\n",
       "    </tr>\n",
       "    <tr>\n",
       "      <th>1</th>\n",
       "      <td>0.024616</td>\n",
       "      <td>0.059965</td>\n",
       "      <td>0.430781</td>\n",
       "    </tr>\n",
       "    <tr>\n",
       "      <th>2</th>\n",
       "      <td>0.025025</td>\n",
       "      <td>0.062091</td>\n",
       "      <td>0.449553</td>\n",
       "    </tr>\n",
       "    <tr>\n",
       "      <th>3</th>\n",
       "      <td>0.426736</td>\n",
       "      <td>0.171868</td>\n",
       "      <td>0.539139</td>\n",
       "    </tr>\n",
       "    <tr>\n",
       "      <th>4</th>\n",
       "      <td>0.426702</td>\n",
       "      <td>0.171910</td>\n",
       "      <td>0.539190</td>\n",
       "    </tr>\n",
       "    <tr>\n",
       "      <th>5</th>\n",
       "      <td>0.426668</td>\n",
       "      <td>0.171952</td>\n",
       "      <td>0.539241</td>\n",
       "    </tr>\n",
       "  </tbody>\n",
       "</table>\n",
       "</div>"
      ],
      "text/plain": [
       "          0         1         2\n",
       "0  0.025066  0.057545  0.368547\n",
       "1  0.024616  0.059965  0.430781\n",
       "2  0.025025  0.062091  0.449553\n",
       "3  0.426736  0.171868  0.539139\n",
       "4  0.426702  0.171910  0.539190\n",
       "5  0.426668  0.171952  0.539241"
      ]
     },
     "execution_count": 13,
     "metadata": {},
     "output_type": "execute_result"
    }
   ],
   "source": [
    "df"
   ]
  }
 ],
 "metadata": {
  "kernelspec": {
   "display_name": "mtsccleave",
   "language": "python",
   "name": "python3"
  },
  "language_info": {
   "codemirror_mode": {
    "name": "ipython",
    "version": 3
   },
   "file_extension": ".py",
   "mimetype": "text/x-python",
   "name": "python",
   "nbconvert_exporter": "python",
   "pygments_lexer": "ipython3",
   "version": "3.12.11"
  }
 },
 "nbformat": 4,
 "nbformat_minor": 2
}
