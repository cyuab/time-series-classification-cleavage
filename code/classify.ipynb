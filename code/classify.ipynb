{
 "cells": [
  {
   "cell_type": "code",
   "execution_count": 20,
   "id": "76a0fb93",
   "metadata": {},
   "outputs": [
    {
     "name": "stdout",
     "output_type": "stream",
     "text": [
      "The autoreload extension is already loaded. To reload it, use:\n",
      "  %reload_ext autoreload\n"
     ]
    }
   ],
   "source": [
    "%load_ext autoreload\n",
    "%autoreload 2\n",
    "from mtsccleav import *"
   ]
  },
  {
   "cell_type": "code",
   "execution_count": null,
   "id": "ae436388",
   "metadata": {},
   "outputs": [],
   "source": [
    "from sklearn.model_selection import StratifiedKFold\n",
    "from sklearn.linear_model import RidgeClassifierCV"
   ]
  },
  {
   "cell_type": "code",
   "execution_count": 22,
   "id": "1d9c85a9",
   "metadata": {},
   "outputs": [],
   "source": [
    "from aeon.classification.convolution_based import (\n",
    "    MiniRocketClassifier, MultiRocketClassifier, HydraClassifier,\n",
    ")"
   ]
  },
  {
   "cell_type": "code",
   "execution_count": 23,
   "id": "b2282fcf",
   "metadata": {},
   "outputs": [],
   "source": [
    "from aeon.utils.conversion import convert_collection\n",
    "from aeon.utils.validation import get_type\n",
    "from sklearn.preprocessing import LabelEncoder\n",
    "from sklearn.model_selection import train_test_split\n",
    "from aeon.transformations.collection.convolution_based import Rocket\n",
    "from sklearn.metrics import accuracy_score\n",
    "from sklearn.metrics import confusion_matrix\n"
   ]
  },
  {
   "cell_type": "code",
   "execution_count": 24,
   "id": "d30c4e87",
   "metadata": {},
   "outputs": [],
   "source": [
    "from aeon.classification.convolution_based import (\n",
    "    Arsenal,\n",
    "    HydraClassifier,\n",
    "    MiniRocketClassifier,\n",
    "    MultiRocketClassifier,\n",
    "    MultiRocketHydraClassifier,\n",
    "    RocketClassifier,\n",
    ")"
   ]
  },
  {
   "cell_type": "code",
   "execution_count": 25,
   "id": "eaeac174",
   "metadata": {},
   "outputs": [],
   "source": [
    "from sklearn.metrics import (\n",
    "    accuracy_score, f1_score, recall_score,\n",
    "    confusion_matrix, matthews_corrcoef\n",
    ")\n",
    "import numpy as np"
   ]
  },
  {
   "cell_type": "code",
   "execution_count": 26,
   "id": "c93e5c83",
   "metadata": {},
   "outputs": [],
   "source": [
    "from sklearn.model_selection import StratifiedKFold"
   ]
  },
  {
   "cell_type": "code",
   "execution_count": 27,
   "id": "a821031c",
   "metadata": {},
   "outputs": [],
   "source": [
    "ts_panel = load_as_pd_multiindex(\"../data/01_cum_st.csv\")\n",
    "X = construct_X(ts_panel, include_five_p_cleav=False, include_prob=False, include_ss=False)\n"
   ]
  },
  {
   "cell_type": "code",
   "execution_count": 28,
   "id": "18ca9ded",
   "metadata": {},
   "outputs": [
    {
     "data": {
      "application/vnd.microsoft.datawrangler.viewer.v0+json": {
       "columns": [
        {
         "name": "('instances', 'time_points')",
         "rawType": "object",
         "type": "unknown"
        },
        {
         "name": "three_p_cleav_1",
         "rawType": "int64",
         "type": "integer"
        },
        {
         "name": "three_p_cleav_compl_1",
         "rawType": "int64",
         "type": "integer"
        }
       ],
       "ref": "9f649289-5fc3-4fe2-a8d5-2d5d550f520b",
       "rows": [
        [
         "(np.int64(0), np.int64(0))",
         "2",
         "-8"
        ],
        [
         "(np.int64(0), np.int64(1))",
         "3",
         "-9"
        ],
        [
         "(np.int64(0), np.int64(2))",
         "5",
         "-9"
        ],
        [
         "(np.int64(0), np.int64(3))",
         "6",
         "-10"
        ],
        [
         "(np.int64(0), np.int64(4))",
         "8",
         "-12"
        ],
        [
         "(np.int64(0), np.int64(5))",
         "6",
         "-11"
        ],
        [
         "(np.int64(0), np.int64(6))",
         "8",
         "-13"
        ],
        [
         "(np.int64(0), np.int64(7))",
         "10",
         "-15"
        ],
        [
         "(np.int64(0), np.int64(8))",
         "9",
         "-14"
        ],
        [
         "(np.int64(0), np.int64(9))",
         "7",
         "-12"
        ],
        [
         "(np.int64(0), np.int64(10))",
         "9",
         "-14"
        ],
        [
         "(np.int64(0), np.int64(11))",
         "7",
         "-12"
        ],
        [
         "(np.int64(0), np.int64(12))",
         "9",
         "-14"
        ],
        [
         "(np.int64(0), np.int64(13))",
         "8",
         "-13"
        ],
        [
         "(np.int64(0), np.int64(14))",
         "10",
         "-15"
        ],
        [
         "(np.int64(1), np.int64(0))",
         "9",
         "-9"
        ],
        [
         "(np.int64(1), np.int64(1))",
         "10",
         "-9"
        ],
        [
         "(np.int64(1), np.int64(2))",
         "12",
         "-9"
        ],
        [
         "(np.int64(1), np.int64(3))",
         "13",
         "-10"
        ],
        [
         "(np.int64(1), np.int64(4))",
         "15",
         "-12"
        ],
        [
         "(np.int64(1), np.int64(5))",
         "13",
         "-10"
        ],
        [
         "(np.int64(1), np.int64(6))",
         "15",
         "-12"
        ],
        [
         "(np.int64(1), np.int64(7))",
         "17",
         "-14"
        ],
        [
         "(np.int64(1), np.int64(8))",
         "16",
         "-13"
        ],
        [
         "(np.int64(1), np.int64(9))",
         "14",
         "-11"
        ],
        [
         "(np.int64(1), np.int64(10))",
         "15",
         "-13"
        ],
        [
         "(np.int64(1), np.int64(11))",
         "13",
         "-11"
        ],
        [
         "(np.int64(1), np.int64(12))",
         "15",
         "-13"
        ],
        [
         "(np.int64(1), np.int64(13))",
         "14",
         "-12"
        ],
        [
         "(np.int64(1), np.int64(14))",
         "16",
         "-14"
        ],
        [
         "(np.int64(2), np.int64(0))",
         "-7",
         "-12"
        ],
        [
         "(np.int64(2), np.int64(1))",
         "-6",
         "-12"
        ],
        [
         "(np.int64(2), np.int64(2))",
         "-5",
         "-12"
        ],
        [
         "(np.int64(2), np.int64(3))",
         "-4",
         "-12"
        ],
        [
         "(np.int64(2), np.int64(4))",
         "-2",
         "-12"
        ],
        [
         "(np.int64(2), np.int64(5))",
         "-4",
         "-12"
        ],
        [
         "(np.int64(2), np.int64(6))",
         "-2",
         "-14"
        ],
        [
         "(np.int64(2), np.int64(7))",
         "0",
         "-16"
        ],
        [
         "(np.int64(2), np.int64(8))",
         "-1",
         "-15"
        ],
        [
         "(np.int64(2), np.int64(9))",
         "-3",
         "-13"
        ],
        [
         "(np.int64(2), np.int64(10))",
         "-1",
         "-15"
        ],
        [
         "(np.int64(2), np.int64(11))",
         "-3",
         "-13"
        ],
        [
         "(np.int64(2), np.int64(12))",
         "-1",
         "-15"
        ],
        [
         "(np.int64(2), np.int64(13))",
         "-2",
         "-14"
        ],
        [
         "(np.int64(2), np.int64(14))",
         "0",
         "-16"
        ],
        [
         "(np.int64(3), np.int64(0))",
         "-3",
         "-10"
        ],
        [
         "(np.int64(3), np.int64(1))",
         "-1",
         "-12"
        ],
        [
         "(np.int64(3), np.int64(2))",
         "1",
         "-12"
        ],
        [
         "(np.int64(3), np.int64(3))",
         "2",
         "-12"
        ],
        [
         "(np.int64(3), np.int64(4))",
         "4",
         "-12"
        ]
       ],
       "shape": {
        "columns": 2,
        "rows": 24810
       }
      },
      "text/html": [
       "<div>\n",
       "<style scoped>\n",
       "    .dataframe tbody tr th:only-of-type {\n",
       "        vertical-align: middle;\n",
       "    }\n",
       "\n",
       "    .dataframe tbody tr th {\n",
       "        vertical-align: top;\n",
       "    }\n",
       "\n",
       "    .dataframe thead th {\n",
       "        text-align: right;\n",
       "    }\n",
       "</style>\n",
       "<table border=\"1\" class=\"dataframe\">\n",
       "  <thead>\n",
       "    <tr style=\"text-align: right;\">\n",
       "      <th></th>\n",
       "      <th></th>\n",
       "      <th>three_p_cleav_1</th>\n",
       "      <th>three_p_cleav_compl_1</th>\n",
       "    </tr>\n",
       "    <tr>\n",
       "      <th>instances</th>\n",
       "      <th>time_points</th>\n",
       "      <th></th>\n",
       "      <th></th>\n",
       "    </tr>\n",
       "  </thead>\n",
       "  <tbody>\n",
       "    <tr>\n",
       "      <th rowspan=\"5\" valign=\"top\">0</th>\n",
       "      <th>0</th>\n",
       "      <td>2</td>\n",
       "      <td>-8</td>\n",
       "    </tr>\n",
       "    <tr>\n",
       "      <th>1</th>\n",
       "      <td>3</td>\n",
       "      <td>-9</td>\n",
       "    </tr>\n",
       "    <tr>\n",
       "      <th>2</th>\n",
       "      <td>5</td>\n",
       "      <td>-9</td>\n",
       "    </tr>\n",
       "    <tr>\n",
       "      <th>3</th>\n",
       "      <td>6</td>\n",
       "      <td>-10</td>\n",
       "    </tr>\n",
       "    <tr>\n",
       "      <th>4</th>\n",
       "      <td>8</td>\n",
       "      <td>-12</td>\n",
       "    </tr>\n",
       "    <tr>\n",
       "      <th>...</th>\n",
       "      <th>...</th>\n",
       "      <td>...</td>\n",
       "      <td>...</td>\n",
       "    </tr>\n",
       "    <tr>\n",
       "      <th rowspan=\"5\" valign=\"top\">1653</th>\n",
       "      <th>10</th>\n",
       "      <td>-4</td>\n",
       "      <td>1</td>\n",
       "    </tr>\n",
       "    <tr>\n",
       "      <th>11</th>\n",
       "      <td>-2</td>\n",
       "      <td>1</td>\n",
       "    </tr>\n",
       "    <tr>\n",
       "      <th>12</th>\n",
       "      <td>-1</td>\n",
       "      <td>0</td>\n",
       "    </tr>\n",
       "    <tr>\n",
       "      <th>13</th>\n",
       "      <td>0</td>\n",
       "      <td>-1</td>\n",
       "    </tr>\n",
       "    <tr>\n",
       "      <th>14</th>\n",
       "      <td>-2</td>\n",
       "      <td>1</td>\n",
       "    </tr>\n",
       "  </tbody>\n",
       "</table>\n",
       "<p>24810 rows × 2 columns</p>\n",
       "</div>"
      ],
      "text/plain": [
       "                       three_p_cleav_1  three_p_cleav_compl_1\n",
       "instances time_points                                        \n",
       "0         0                          2                     -8\n",
       "          1                          3                     -9\n",
       "          2                          5                     -9\n",
       "          3                          6                    -10\n",
       "          4                          8                    -12\n",
       "...                                ...                    ...\n",
       "1653      10                        -4                      1\n",
       "          11                        -2                      1\n",
       "          12                        -1                      0\n",
       "          13                         0                     -1\n",
       "          14                        -2                      1\n",
       "\n",
       "[24810 rows x 2 columns]"
      ]
     },
     "execution_count": 28,
     "metadata": {},
     "output_type": "execute_result"
    }
   ],
   "source": [
    "X"
   ]
  },
  {
   "cell_type": "code",
   "execution_count": 29,
   "id": "441238d1",
   "metadata": {},
   "outputs": [
    {
     "data": {
      "text/plain": [
       "np.False_"
      ]
     },
     "execution_count": 29,
     "metadata": {},
     "output_type": "execute_result"
    }
   ],
   "source": [
    "X.isnull().values.any()"
   ]
  },
  {
   "cell_type": "code",
   "execution_count": 30,
   "id": "0a420ffa",
   "metadata": {},
   "outputs": [],
   "source": [
    "X.fillna(-2, inplace=True)"
   ]
  },
  {
   "cell_type": "code",
   "execution_count": 31,
   "id": "36c1e4e4",
   "metadata": {},
   "outputs": [],
   "source": [
    "X = pad_multiindex_ts(X,-2)"
   ]
  },
  {
   "cell_type": "code",
   "execution_count": 32,
   "id": "97c04143",
   "metadata": {},
   "outputs": [],
   "source": [
    "\n",
    "X_convert=convert_collection(X, \"np-list\")"
   ]
  },
  {
   "cell_type": "code",
   "execution_count": 33,
   "id": "fe762819",
   "metadata": {},
   "outputs": [
    {
     "data": {
      "text/plain": [
       "('pd-multiindex', 'np-list')"
      ]
     },
     "execution_count": 33,
     "metadata": {},
     "output_type": "execute_result"
    }
   ],
   "source": [
    "get_type(X), get_type(X_convert)"
   ]
  },
  {
   "cell_type": "code",
   "execution_count": 34,
   "id": "dc9c701c",
   "metadata": {},
   "outputs": [],
   "source": [
    "y = np.concatenate((np.full((1, 827), 'cleav'), np.full((1, 827), 'non_cleav')), axis=None)\n",
    "labelencoder = LabelEncoder()\n",
    "y_transform = labelencoder.fit_transform(y)"
   ]
  },
  {
   "cell_type": "code",
   "execution_count": 35,
   "id": "061c34f7",
   "metadata": {},
   "outputs": [],
   "source": [
    "def multiclass_specificity(cm):\n",
    "    FP = cm.sum(axis=0) - np.diag(cm)\n",
    "    TN = cm.sum() - (FP + cm.sum(axis=1) - np.diag(cm) + np.diag(cm))\n",
    "    return np.mean(TN / (TN + FP))"
   ]
  },
  {
   "cell_type": "code",
   "execution_count": null,
   "id": "d8146667",
   "metadata": {},
   "outputs": [],
   "source": [
    "def evaluate_classifier(classifier, X, y, n_splits=5):\n",
    "    print(f\"\\n Evaluating {classifier.__class__.__name__}\")\n",
    "\n",
    "    cv = StratifiedKFold(n_splits=n_splits, shuffle=True, random_state=42)\n",
    "\n",
    "    results = {k: [] for k in [\"accuracy\", \"sensitivity\", \"specificity\", \"f1\", \"mcc\"]}\n",
    "\n",
    "    for fold, (train_idx, test_idx) in enumerate(cv.split(X, y), 1):\n",
    "        # print(f\"Fold {fold}\")\n",
    "\n",
    "        X_train = [X[i] for i in train_idx]\n",
    "        X_test = [X[i] for i in test_idx]\n",
    "        y_train = y[train_idx]\n",
    "        y_test = y[test_idx]\n",
    "    \n",
    "        # print(y_train)\n",
    "        # transformer.fit(X_train)\n",
    "        # X_train_trans = transformer.transform(X_train)\n",
    "        # X_test_trans = transformer.transform(X_test)\n",
    "\n",
    "        # clf = RidgeClassifierCV(alphas=np.logspace(-3, 3, 10))\n",
    "        # clf.fit(X_train_trans, y_train)\n",
    "        # y_pred = clf.predict(X_test_trans)\n",
    "\n",
    "        clf = classifier\n",
    "        clf.fit(X_train, y_train)\n",
    "        y_pred = clf.predict(X_test)\n",
    "\n",
    "        \n",
    "        # acc = accuracy_score(y_test, y_pred)\n",
    "        # sens = recall_score(y_test, y_pred, average=\"macro\")\n",
    "        # f1 = f1_score(y_test, y_pred, average=\"macro\")\n",
    "        # mcc = matthews_corrcoef(y_test, y_pred)\n",
    "        # cm = confusion_matrix(y_test, y_pred)\n",
    "        # spec = multiclass_specificity(cm)\n",
    "\n",
    "        # results[\"accuracy\"].append(acc)\n",
    "        # results[\"sensitivity\"].append(sens)\n",
    "        # results[\"specificity\"].append(spec)\n",
    "        # results[\"f1\"].append(f1)\n",
    "        # results[\"mcc\"].append(mcc)\n",
    "\n",
    "        sens = recall_score(y_test, y_pred, average=\"macro\")\n",
    "        # print(sens)\n",
    "\n",
    "        tn, fp, fn, tp = confusion_matrix(y_test, y_pred).ravel()\n",
    "        accuracy = (tp + tn) / (tp + tn + fp + fn)\n",
    "        specificity = tn / (tn+fp)\n",
    "        sensitivity = tp / (tp+fn)\n",
    "        f1_score = 2 * tp / (2 * tp + fp + fn)\n",
    "        mcc = matthews_corrcoef(y_test, y_pred)\n",
    "\n",
    "        # print(accuracy, specificity, sensitivity, f1_score, mcc)\n",
    "\n",
    "        results[\"accuracy\"].append(accuracy)\n",
    "        results[\"sensitivity\"].append(sensitivity)\n",
    "        results[\"specificity\"].append(specificity)\n",
    "        results[\"f1\"].append(f1_score)\n",
    "        results[\"mcc\"].append(mcc)\n",
    "\n",
    "    print(\"\\nAverage 5-Fold Results:\")\n",
    "    for metric, scores in results.items():\n",
    "        print(f\"{metric.capitalize():<12}: {np.mean(scores):.4f} ± {np.std(scores):.4f}\")"
   ]
  },
  {
   "cell_type": "code",
   "execution_count": 37,
   "id": "83317312",
   "metadata": {},
   "outputs": [
    {
     "name": "stdout",
     "output_type": "stream",
     "text": [
      "\n",
      "🔍 Evaluating RocketClassifier\n",
      "\n",
      "Average 5-Fold Results:\n",
      "Accuracy    : 0.7872 ± 0.0112\n",
      "Sensitivity : 0.8162 ± 0.0247\n",
      "Specificity : 0.7582 ± 0.0236\n",
      "F1          : 0.7931 ± 0.0120\n",
      "Mcc         : 0.5759 ± 0.0227\n"
     ]
    }
   ],
   "source": [
    "evaluate_classifier(RocketClassifier(random_state=18), X_convert, y_transform)\n",
    "# evaluate_classifier(MiniRocketClassifier(random_state=18), X_convert, y_transform)\n",
    "# evaluate_classifier(MultiRocketClassifier(random_state=18), X_convert, y_transform)\n",
    "# evaluate_classifier(HydraClassifier(random_state=18), X_convert, y_transform)\n",
    "# evaluate_classifier(MultiRocketHydraClassifier(random_state=18), X_convert, y_transform)"
   ]
  },
  {
   "cell_type": "code",
   "execution_count": 38,
   "id": "68a50ff9",
   "metadata": {},
   "outputs": [],
   "source": [
    "# 01_single_multi_eq\n"
   ]
  },
  {
   "cell_type": "code",
   "execution_count": null,
   "id": "5af293e5",
   "metadata": {},
   "outputs": [],
   "source": [
    "import datetime\n",
    "print(f\"This Notebook last end-to-end runs on: {datetime.datetime.now()}\\n\")"
   ]
  }
 ],
 "metadata": {
  "kernelspec": {
   "display_name": "mtsccleave",
   "language": "python",
   "name": "python3"
  },
  "language_info": {
   "codemirror_mode": {
    "name": "ipython",
    "version": 3
   },
   "file_extension": ".py",
   "mimetype": "text/x-python",
   "name": "python",
   "nbconvert_exporter": "python",
   "pygments_lexer": "ipython3",
   "version": "3.12.11"
  }
 },
 "nbformat": 4,
 "nbformat_minor": 5
}
