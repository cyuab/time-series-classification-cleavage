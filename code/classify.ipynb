{
 "cells": [
  {
   "cell_type": "code",
   "execution_count": 1,
   "id": "76a0fb93",
   "metadata": {},
   "outputs": [],
   "source": [
    "%load_ext autoreload\n",
    "%autoreload 2\n",
    "from mtsccleav import *"
   ]
  },
  {
   "cell_type": "code",
   "execution_count": 2,
   "id": "ae436388",
   "metadata": {},
   "outputs": [],
   "source": [
    "from sklearn.model_selection import StratifiedKFold\n",
    "from sklearn.linear_model import RidgeClassifierCV"
   ]
  },
  {
   "cell_type": "code",
   "execution_count": 3,
   "id": "1d9c85a9",
   "metadata": {},
   "outputs": [],
   "source": [
    "from aeon.classification.convolution_based import (\n",
    "    MiniRocketClassifier, MultiRocketClassifier, HydraClassifier,\n",
    ")"
   ]
  },
  {
   "cell_type": "code",
   "execution_count": 4,
   "id": "b2282fcf",
   "metadata": {},
   "outputs": [],
   "source": [
    "from aeon.utils.conversion import convert_collection\n",
    "from aeon.utils.validation import get_type\n",
    "from sklearn.preprocessing import LabelEncoder\n",
    "from sklearn.model_selection import train_test_split\n",
    "from aeon.transformations.collection.convolution_based import Rocket\n",
    "from sklearn.metrics import accuracy_score\n",
    "from sklearn.metrics import confusion_matrix\n"
   ]
  },
  {
   "cell_type": "code",
   "execution_count": 5,
   "id": "d30c4e87",
   "metadata": {},
   "outputs": [],
   "source": [
    "from aeon.classification.convolution_based import (\n",
    "    Arsenal,\n",
    "    HydraClassifier,\n",
    "    MiniRocketClassifier,\n",
    "    MultiRocketClassifier,\n",
    "    MultiRocketHydraClassifier,\n",
    "    RocketClassifier,\n",
    ")"
   ]
  },
  {
   "cell_type": "code",
   "execution_count": 6,
   "id": "eaeac174",
   "metadata": {},
   "outputs": [],
   "source": [
    "from sklearn.metrics import (\n",
    "    accuracy_score, f1_score, recall_score,\n",
    "    confusion_matrix, matthews_corrcoef\n",
    ")\n",
    "import numpy as np"
   ]
  },
  {
   "cell_type": "code",
   "execution_count": 7,
   "id": "c93e5c83",
   "metadata": {},
   "outputs": [],
   "source": [
    "from sklearn.model_selection import StratifiedKFold"
   ]
  },
  {
   "cell_type": "code",
   "execution_count": 8,
   "id": "a821031c",
   "metadata": {},
   "outputs": [],
   "source": [
    "ts_panel = load_as_pd_multiindex(\"../data/01_single_multi_eq.csv\")\n",
    "X = construct_X(ts_panel, include_five_p_cleav=False, include_prob=True, include_ss=True)\n"
   ]
  },
  {
   "cell_type": "code",
   "execution_count": 9,
   "id": "b279fcb9",
   "metadata": {},
   "outputs": [
    {
     "data": {
      "application/vnd.microsoft.datawrangler.viewer.v0+json": {
       "columns": [
        {
         "name": "('instances', 'time_points')",
         "rawType": "object",
         "type": "unknown"
        },
        {
         "name": "three_p_cleav_1",
         "rawType": "int64",
         "type": "integer"
        },
        {
         "name": "three_p_cleav_compl_1",
         "rawType": "int64",
         "type": "integer"
        },
        {
         "name": "three_p_cleav_2",
         "rawType": "int64",
         "type": "integer"
        },
        {
         "name": "three_p_cleav_compl_2",
         "rawType": "int64",
         "type": "integer"
        },
        {
         "name": "three_p_cleav_prob",
         "rawType": "float64",
         "type": "float"
        },
        {
         "name": "three_p_cleav_ss",
         "rawType": "int64",
         "type": "integer"
        }
       ],
       "ref": "28d4731d-66f0-476a-bf97-3fcbaa1c7564",
       "rows": [
        [
         "(np.int64(0), np.int64(0))",
         "0",
         "0",
         "1",
         "-1",
         "0.8433408244527671",
         "-1"
        ],
        [
         "(np.int64(0), np.int64(1))",
         "1",
         "0",
         "0",
         "0",
         "0.0",
         "0"
        ],
        [
         "(np.int64(0), np.int64(2))",
         "0",
         "0",
         "1",
         "-1",
         "0.8068907396417209",
         "-1"
        ],
        [
         "(np.int64(0), np.int64(3))",
         "1",
         "-1",
         "0",
         "0",
         "0.8071775998760317",
         "-1"
        ],
        [
         "(np.int64(0), np.int64(4))",
         "-1",
         "0",
         "0",
         "1",
         "0.7931920086071264",
         "-1"
        ],
        [
         "(np.int64(0), np.int64(5))",
         "1",
         "-1",
         "0",
         "0",
         "0.9144092768903046",
         "-1"
        ],
        [
         "(np.int64(0), np.int64(6))",
         "1",
         "-1",
         "0",
         "0",
         "0.981519566130822",
         "-1"
        ],
        [
         "(np.int64(0), np.int64(7))",
         "0",
         "0",
         "-1",
         "1",
         "0.9997423393655187",
         "-1"
        ],
        [
         "(np.int64(0), np.int64(8))",
         "-1",
         "1",
         "0",
         "0",
         "0.9993176437187281",
         "-1"
        ],
        [
         "(np.int64(0), np.int64(9))",
         "1",
         "-1",
         "0",
         "0",
         "0.9989705602761316",
         "-1"
        ],
        [
         "(np.int64(0), np.int64(10))",
         "-1",
         "1",
         "0",
         "0",
         "0.9989972739174591",
         "-1"
        ],
        [
         "(np.int64(0), np.int64(11))",
         "1",
         "-1",
         "0",
         "0",
         "0.9994679517739496",
         "-1"
        ],
        [
         "(np.int64(0), np.int64(12))",
         "0",
         "0",
         "-1",
         "1",
         "0.999948614713236",
         "-1"
        ],
        [
         "(np.int64(0), np.int64(13))",
         "1",
         "-1",
         "0",
         "0",
         "0.998882802020682",
         "-1"
        ],
        [
         "(np.int64(1), np.int64(0))",
         "0",
         "0",
         "1",
         "0",
         "0.0",
         "0"
        ],
        [
         "(np.int64(1), np.int64(1))",
         "1",
         "0",
         "0",
         "0",
         "0.0",
         "0"
        ],
        [
         "(np.int64(1), np.int64(2))",
         "0",
         "0",
         "1",
         "-1",
         "0.2523819854832751",
         "-1"
        ],
        [
         "(np.int64(1), np.int64(3))",
         "1",
         "-1",
         "0",
         "0",
         "0.25193883090231134",
         "-1"
        ],
        [
         "(np.int64(1), np.int64(4))",
         "-1",
         "1",
         "0",
         "0",
         "0.24220110833624503",
         "-1"
        ],
        [
         "(np.int64(1), np.int64(5))",
         "1",
         "-1",
         "0",
         "0",
         "0.8415389296724259",
         "-1"
        ],
        [
         "(np.int64(1), np.int64(6))",
         "1",
         "-1",
         "0",
         "0",
         "0.9454479246953289",
         "-1"
        ],
        [
         "(np.int64(1), np.int64(7))",
         "0",
         "0",
         "-1",
         "1",
         "0.9997762623671526",
         "-1"
        ],
        [
         "(np.int64(1), np.int64(8))",
         "-1",
         "1",
         "0",
         "0",
         "0.9989878900835651",
         "-1"
        ],
        [
         "(np.int64(1), np.int64(9))",
         "0",
         "-1",
         "1",
         "0",
         "0.9989928549632543",
         "-1"
        ],
        [
         "(np.int64(1), np.int64(10))",
         "-1",
         "1",
         "0",
         "0",
         "0.9993890338609012",
         "-1"
        ],
        [
         "(np.int64(1), np.int64(11))",
         "1",
         "-1",
         "0",
         "0",
         "0.9995005502606233",
         "-1"
        ],
        [
         "(np.int64(1), np.int64(12))",
         "0",
         "0",
         "-1",
         "1",
         "0.9999496980027072",
         "-1"
        ],
        [
         "(np.int64(1), np.int64(13))",
         "1",
         "-1",
         "0",
         "0",
         "0.9981922091405107",
         "-1"
        ],
        [
         "(np.int64(2), np.int64(0))",
         "0",
         "0",
         "1",
         "0",
         "0.0",
         "0"
        ],
        [
         "(np.int64(2), np.int64(1))",
         "0",
         "0",
         "1",
         "0",
         "0.0",
         "0"
        ],
        [
         "(np.int64(2), np.int64(2))",
         "0",
         "0",
         "1",
         "0",
         "0.0",
         "0"
        ],
        [
         "(np.int64(2), np.int64(3))",
         "1",
         "0",
         "0",
         "0",
         "0.0",
         "0"
        ],
        [
         "(np.int64(2), np.int64(4))",
         "-1",
         "0",
         "0",
         "0",
         "0.0",
         "0"
        ],
        [
         "(np.int64(2), np.int64(5))",
         "1",
         "-1",
         "0",
         "0",
         "0.9054769632677717",
         "-1"
        ],
        [
         "(np.int64(2), np.int64(6))",
         "1",
         "-1",
         "0",
         "0",
         "0.9871094927800187",
         "-1"
        ],
        [
         "(np.int64(2), np.int64(7))",
         "0",
         "0",
         "-1",
         "1",
         "0.9989747351094631",
         "-1"
        ],
        [
         "(np.int64(2), np.int64(8))",
         "-1",
         "1",
         "0",
         "0",
         "0.9987292533370807",
         "-1"
        ],
        [
         "(np.int64(2), np.int64(9))",
         "1",
         "-1",
         "0",
         "0",
         "0.9985118236471949",
         "-1"
        ],
        [
         "(np.int64(2), np.int64(10))",
         "-1",
         "1",
         "0",
         "0",
         "0.9987668173886278",
         "-1"
        ],
        [
         "(np.int64(2), np.int64(11))",
         "1",
         "-1",
         "0",
         "0",
         "0.9994163442595149",
         "-1"
        ],
        [
         "(np.int64(2), np.int64(12))",
         "0",
         "0",
         "-1",
         "1",
         "0.9999469980833028",
         "-1"
        ],
        [
         "(np.int64(2), np.int64(13))",
         "1",
         "-1",
         "0",
         "0",
         "0.9988814755818177",
         "-1"
        ],
        [
         "(np.int64(3), np.int64(0))",
         "1",
         "-1",
         "0",
         "0",
         "0.3108991138481588",
         "-1"
        ],
        [
         "(np.int64(3), np.int64(1))",
         "1",
         "0",
         "0",
         "0",
         "0.0",
         "0"
        ],
        [
         "(np.int64(3), np.int64(2))",
         "0",
         "0",
         "1",
         "0",
         "0.0",
         "0"
        ],
        [
         "(np.int64(3), np.int64(3))",
         "1",
         "0",
         "0",
         "0",
         "0.0",
         "0"
        ],
        [
         "(np.int64(3), np.int64(4))",
         "-1",
         "0",
         "0",
         "0",
         "0.0",
         "0"
        ],
        [
         "(np.int64(3), np.int64(5))",
         "1",
         "0",
         "0",
         "0",
         "0.0",
         "0"
        ],
        [
         "(np.int64(3), np.int64(6))",
         "1",
         "-1",
         "0",
         "0",
         "0.9059504054826517",
         "-1"
        ],
        [
         "(np.int64(3), np.int64(7))",
         "0",
         "0",
         "-1",
         "1",
         "0.9994497077369764",
         "-1"
        ]
       ],
       "shape": {
        "columns": 6,
        "rows": 23156
       }
      },
      "text/html": [
       "<div>\n",
       "<style scoped>\n",
       "    .dataframe tbody tr th:only-of-type {\n",
       "        vertical-align: middle;\n",
       "    }\n",
       "\n",
       "    .dataframe tbody tr th {\n",
       "        vertical-align: top;\n",
       "    }\n",
       "\n",
       "    .dataframe thead th {\n",
       "        text-align: right;\n",
       "    }\n",
       "</style>\n",
       "<table border=\"1\" class=\"dataframe\">\n",
       "  <thead>\n",
       "    <tr style=\"text-align: right;\">\n",
       "      <th></th>\n",
       "      <th></th>\n",
       "      <th>three_p_cleav_1</th>\n",
       "      <th>three_p_cleav_compl_1</th>\n",
       "      <th>three_p_cleav_2</th>\n",
       "      <th>three_p_cleav_compl_2</th>\n",
       "      <th>three_p_cleav_prob</th>\n",
       "      <th>three_p_cleav_ss</th>\n",
       "    </tr>\n",
       "    <tr>\n",
       "      <th>instances</th>\n",
       "      <th>time_points</th>\n",
       "      <th></th>\n",
       "      <th></th>\n",
       "      <th></th>\n",
       "      <th></th>\n",
       "      <th></th>\n",
       "      <th></th>\n",
       "    </tr>\n",
       "  </thead>\n",
       "  <tbody>\n",
       "    <tr>\n",
       "      <th rowspan=\"5\" valign=\"top\">0</th>\n",
       "      <th>0</th>\n",
       "      <td>0</td>\n",
       "      <td>0</td>\n",
       "      <td>1</td>\n",
       "      <td>-1</td>\n",
       "      <td>0.843341</td>\n",
       "      <td>-1</td>\n",
       "    </tr>\n",
       "    <tr>\n",
       "      <th>1</th>\n",
       "      <td>1</td>\n",
       "      <td>0</td>\n",
       "      <td>0</td>\n",
       "      <td>0</td>\n",
       "      <td>0.000000</td>\n",
       "      <td>0</td>\n",
       "    </tr>\n",
       "    <tr>\n",
       "      <th>2</th>\n",
       "      <td>0</td>\n",
       "      <td>0</td>\n",
       "      <td>1</td>\n",
       "      <td>-1</td>\n",
       "      <td>0.806891</td>\n",
       "      <td>-1</td>\n",
       "    </tr>\n",
       "    <tr>\n",
       "      <th>3</th>\n",
       "      <td>1</td>\n",
       "      <td>-1</td>\n",
       "      <td>0</td>\n",
       "      <td>0</td>\n",
       "      <td>0.807178</td>\n",
       "      <td>-1</td>\n",
       "    </tr>\n",
       "    <tr>\n",
       "      <th>4</th>\n",
       "      <td>-1</td>\n",
       "      <td>0</td>\n",
       "      <td>0</td>\n",
       "      <td>1</td>\n",
       "      <td>0.793192</td>\n",
       "      <td>-1</td>\n",
       "    </tr>\n",
       "    <tr>\n",
       "      <th>...</th>\n",
       "      <th>...</th>\n",
       "      <td>...</td>\n",
       "      <td>...</td>\n",
       "      <td>...</td>\n",
       "      <td>...</td>\n",
       "      <td>...</td>\n",
       "      <td>...</td>\n",
       "    </tr>\n",
       "    <tr>\n",
       "      <th rowspan=\"5\" valign=\"top\">1653</th>\n",
       "      <th>9</th>\n",
       "      <td>0</td>\n",
       "      <td>0</td>\n",
       "      <td>1</td>\n",
       "      <td>-1</td>\n",
       "      <td>0.994895</td>\n",
       "      <td>-1</td>\n",
       "    </tr>\n",
       "    <tr>\n",
       "      <th>10</th>\n",
       "      <td>1</td>\n",
       "      <td>0</td>\n",
       "      <td>0</td>\n",
       "      <td>0</td>\n",
       "      <td>0.000000</td>\n",
       "      <td>0</td>\n",
       "    </tr>\n",
       "    <tr>\n",
       "      <th>11</th>\n",
       "      <td>0</td>\n",
       "      <td>0</td>\n",
       "      <td>1</td>\n",
       "      <td>-1</td>\n",
       "      <td>0.995325</td>\n",
       "      <td>-1</td>\n",
       "    </tr>\n",
       "    <tr>\n",
       "      <th>12</th>\n",
       "      <td>0</td>\n",
       "      <td>0</td>\n",
       "      <td>1</td>\n",
       "      <td>-1</td>\n",
       "      <td>0.999313</td>\n",
       "      <td>-1</td>\n",
       "    </tr>\n",
       "    <tr>\n",
       "      <th>13</th>\n",
       "      <td>-1</td>\n",
       "      <td>1</td>\n",
       "      <td>0</td>\n",
       "      <td>0</td>\n",
       "      <td>0.999717</td>\n",
       "      <td>-1</td>\n",
       "    </tr>\n",
       "  </tbody>\n",
       "</table>\n",
       "<p>23156 rows × 6 columns</p>\n",
       "</div>"
      ],
      "text/plain": [
       "                       three_p_cleav_1  three_p_cleav_compl_1  \\\n",
       "instances time_points                                           \n",
       "0         0                          0                      0   \n",
       "          1                          1                      0   \n",
       "          2                          0                      0   \n",
       "          3                          1                     -1   \n",
       "          4                         -1                      0   \n",
       "...                                ...                    ...   \n",
       "1653      9                          0                      0   \n",
       "          10                         1                      0   \n",
       "          11                         0                      0   \n",
       "          12                         0                      0   \n",
       "          13                        -1                      1   \n",
       "\n",
       "                       three_p_cleav_2  three_p_cleav_compl_2  \\\n",
       "instances time_points                                           \n",
       "0         0                          1                     -1   \n",
       "          1                          0                      0   \n",
       "          2                          1                     -1   \n",
       "          3                          0                      0   \n",
       "          4                          0                      1   \n",
       "...                                ...                    ...   \n",
       "1653      9                          1                     -1   \n",
       "          10                         0                      0   \n",
       "          11                         1                     -1   \n",
       "          12                         1                     -1   \n",
       "          13                         0                      0   \n",
       "\n",
       "                       three_p_cleav_prob  three_p_cleav_ss  \n",
       "instances time_points                                        \n",
       "0         0                      0.843341                -1  \n",
       "          1                      0.000000                 0  \n",
       "          2                      0.806891                -1  \n",
       "          3                      0.807178                -1  \n",
       "          4                      0.793192                -1  \n",
       "...                                   ...               ...  \n",
       "1653      9                      0.994895                -1  \n",
       "          10                     0.000000                 0  \n",
       "          11                     0.995325                -1  \n",
       "          12                     0.999313                -1  \n",
       "          13                     0.999717                -1  \n",
       "\n",
       "[23156 rows x 6 columns]"
      ]
     },
     "execution_count": 9,
     "metadata": {},
     "output_type": "execute_result"
    }
   ],
   "source": [
    "X"
   ]
  },
  {
   "cell_type": "code",
   "execution_count": 10,
   "id": "1ccbc188",
   "metadata": {},
   "outputs": [
    {
     "data": {
      "text/plain": [
       "pandas.core.frame.DataFrame"
      ]
     },
     "execution_count": 10,
     "metadata": {},
     "output_type": "execute_result"
    }
   ],
   "source": [
    "type(X)"
   ]
  },
  {
   "cell_type": "code",
   "execution_count": 11,
   "id": "441238d1",
   "metadata": {},
   "outputs": [
    {
     "data": {
      "text/plain": [
       "np.False_"
      ]
     },
     "execution_count": 11,
     "metadata": {},
     "output_type": "execute_result"
    }
   ],
   "source": [
    "X.isnull().values.any()"
   ]
  },
  {
   "cell_type": "code",
   "execution_count": 12,
   "id": "0a420ffa",
   "metadata": {},
   "outputs": [],
   "source": [
    "X.fillna(-100, inplace=True)"
   ]
  },
  {
   "cell_type": "code",
   "execution_count": 13,
   "id": "36c1e4e4",
   "metadata": {},
   "outputs": [],
   "source": [
    "X = pad_multiindex_ts(X,-100)"
   ]
  },
  {
   "cell_type": "code",
   "execution_count": 14,
   "id": "97c04143",
   "metadata": {},
   "outputs": [],
   "source": [
    "X_convert=convert_collection(X, \"np-list\")"
   ]
  },
  {
   "cell_type": "code",
   "execution_count": 15,
   "id": "fe762819",
   "metadata": {},
   "outputs": [
    {
     "data": {
      "text/plain": [
       "('pd-multiindex', 'np-list')"
      ]
     },
     "execution_count": 15,
     "metadata": {},
     "output_type": "execute_result"
    }
   ],
   "source": [
    "get_type(X), get_type(X_convert)"
   ]
  },
  {
   "cell_type": "code",
   "execution_count": 18,
   "id": "b882425d",
   "metadata": {},
   "outputs": [],
   "source": [
    "# np.array(X_convert).shape"
   ]
  },
  {
   "cell_type": "code",
   "execution_count": 17,
   "id": "327d5caf",
   "metadata": {},
   "outputs": [],
   "source": [
    "# X_convert[1] "
   ]
  },
  {
   "cell_type": "code",
   "execution_count": 19,
   "id": "dc9c701c",
   "metadata": {},
   "outputs": [],
   "source": [
    "y = np.concatenate((np.full((1, 827), 'cleav'), np.full((1, 827), 'non_cleav')), axis=None)\n",
    "labelencoder = LabelEncoder()\n",
    "y_transform = labelencoder.fit_transform(y)"
   ]
  },
  {
   "cell_type": "code",
   "execution_count": 20,
   "id": "061c34f7",
   "metadata": {},
   "outputs": [],
   "source": [
    "def multiclass_specificity(cm):\n",
    "    FP = cm.sum(axis=0) - np.diag(cm)\n",
    "    TN = cm.sum() - (FP + cm.sum(axis=1) - np.diag(cm) + np.diag(cm))\n",
    "    return np.mean(TN / (TN + FP))"
   ]
  },
  {
   "cell_type": "code",
   "execution_count": 44,
   "id": "d8146667",
   "metadata": {},
   "outputs": [],
   "source": [
    "def evaluate_classifier(classifier, X, y, n_splits=5, mode=\"binary\"):\n",
    "    print(f\"\\n Evaluating {classifier.__class__.__name__}\")\n",
    "\n",
    "    cv = StratifiedKFold(n_splits=n_splits, shuffle=True, random_state=42)\n",
    "\n",
    "    results = {k: [] for k in [\"accuracy\", \"specificity\", \"sensitivity\", \"f1\", \"mcc\"]}\n",
    "\n",
    "    for fold, (train_idx, test_idx) in enumerate(cv.split(X, y), 1):\n",
    "        # print(f\"Fold {fold}\")\n",
    "\n",
    "        X_train = [X[i] for i in train_idx]\n",
    "        X_test = [X[i] for i in test_idx]\n",
    "        y_train = y[train_idx]\n",
    "        y_test = y[test_idx]\n",
    "    \n",
    "\n",
    "\n",
    "        clf = classifier\n",
    "        clf.fit(X_train, y_train)\n",
    "        y_pred = clf.predict(X_test)\n",
    "\n",
    "        mcc = matthews_corrcoef(y_test, y_pred)\n",
    "        if mode == \"binary\":\n",
    "            tn, fp, fn, tp = confusion_matrix(y_test, y_pred).ravel()\n",
    "            accuracy = (tp + tn) / (tp + tn + fp + fn)\n",
    "            specificity = tn / (tn+fp)\n",
    "            sensitivity = tp / (tp+fn)\n",
    "            f1 = 2 * tp / (2 * tp + fp + fn)\n",
    "            \n",
    "        elif mode == \"multi\":\n",
    "            accuracy = accuracy_score(y_test, y_pred)\n",
    "            cm = confusion_matrix(y_test, y_pred)\n",
    "            specificity = multiclass_specificity(cm)\n",
    "            sensitivity = recall_score(y_test, y_pred, average=\"macro\")\n",
    "            f1 = f1_score(y_test, y_pred, average=\"macro\")\n",
    "        else:\n",
    "            raise ValueError(\"mode must be either binary or multi.\")\n",
    "    \n",
    "\n",
    "        results[\"accuracy\"].append(accuracy)\n",
    "        results[\"specificity\"].append(specificity)\n",
    "        results[\"sensitivity\"].append(sensitivity)\n",
    "        results[\"f1\"].append(f1)\n",
    "        results[\"mcc\"].append(mcc)\n",
    "\n",
    "    print(\"\\nAverage 5-Fold Results:\")\n",
    "    for metric, scores in results.items():\n",
    "        print(f\"{metric.capitalize():<12}: {np.mean(scores):.4f} ± {np.std(scores):.4f}\")"
   ]
  },
  {
   "cell_type": "code",
   "execution_count": 22,
   "id": "83317312",
   "metadata": {},
   "outputs": [
    {
     "name": "stdout",
     "output_type": "stream",
     "text": [
      "\n",
      " Evaluating RocketClassifier\n",
      "\n",
      "Average 5-Fold Results:\n",
      "Accuracy    : 0.8628 ± 0.0204\n",
      "Specificity : 0.8501 ± 0.0128\n",
      "Sensitivity : 0.8754 ± 0.0346\n",
      "F1          : 0.8641 ± 0.0222\n",
      "Mcc         : 0.7261 ± 0.0409\n"
     ]
    }
   ],
   "source": [
    "evaluate_classifier(RocketClassifier(random_state=18), X_convert, y_transform)\n",
    "# evaluate_classifier(MiniRocketClassifier(random_state=18), X_convert, y_transform)\n",
    "# evaluate_classifier(MultiRocketClassifier(random_state=18), X_convert, y_transform)\n",
    "# evaluate_classifier(HydraClassifier(random_state=18), X_convert, y_transform)\n",
    "# evaluate_classifier(MultiRocketHydraClassifier(random_state=18), X_convert, y_transform)"
   ]
  },
  {
   "cell_type": "code",
   "execution_count": 39,
   "id": "68a50ff9",
   "metadata": {},
   "outputs": [],
   "source": [
    "# 01_single_multi_eq\n"
   ]
  },
  {
   "cell_type": "markdown",
   "id": "d29c1b74",
   "metadata": {},
   "source": [
    "# Multi"
   ]
  },
  {
   "cell_type": "code",
   "execution_count": 23,
   "id": "5f94cc38",
   "metadata": {},
   "outputs": [],
   "source": [
    "path = \"../data/01_single_multi_eq.csv\"\n",
    "include_prob=True\n",
    "include_ss=True"
   ]
  },
  {
   "cell_type": "code",
   "execution_count": 24,
   "id": "c3c1dc4b",
   "metadata": {},
   "outputs": [],
   "source": [
    "ts_panel = load_as_pd_multiindex(path)\n",
    "X_5p = construct_X(ts_panel, include_five_p_cleav=True, include_prob=include_prob, include_ss=include_ss)\n",
    "X_5p.columns = X_5p.columns.str.replace(\"five_p_\", \"\", regex=False)\n",
    "X_3p = construct_X(ts_panel, include_five_p_cleav=False, include_prob=include_prob, include_ss=include_ss)\n",
    "X_3p .columns = X_3p.columns.str.replace(\"three_p_\", \"\", regex=False)"
   ]
  },
  {
   "cell_type": "code",
   "execution_count": 25,
   "id": "f99127ec",
   "metadata": {},
   "outputs": [
    {
     "data": {
      "application/vnd.microsoft.datawrangler.viewer.v0+json": {
       "columns": [
        {
         "name": "('instances', 'time_points')",
         "rawType": "object",
         "type": "unknown"
        },
        {
         "name": "cleav_1",
         "rawType": "int64",
         "type": "integer"
        },
        {
         "name": "cleav_compl_1",
         "rawType": "int64",
         "type": "integer"
        },
        {
         "name": "cleav_2",
         "rawType": "int64",
         "type": "integer"
        },
        {
         "name": "cleav_compl_2",
         "rawType": "int64",
         "type": "integer"
        },
        {
         "name": "cleav_prob",
         "rawType": "float64",
         "type": "float"
        },
        {
         "name": "cleav_ss",
         "rawType": "int64",
         "type": "integer"
        }
       ],
       "ref": "56eddc26-3db4-4c57-896d-a1a6815bca67",
       "rows": [
        [
         "(np.int64(0), np.int64(0))",
         "-1",
         "1",
         "0",
         "0",
         "0.9994679517739496",
         "1"
        ],
        [
         "(np.int64(0), np.int64(1))",
         "1",
         "-1",
         "0",
         "0",
         "0.9989972739174591",
         "1"
        ],
        [
         "(np.int64(0), np.int64(2))",
         "-1",
         "1",
         "0",
         "0",
         "0.9989705602761316",
         "1"
        ],
        [
         "(np.int64(0), np.int64(3))",
         "1",
         "-1",
         "0",
         "0",
         "0.9993176437187281",
         "1"
        ],
        [
         "(np.int64(0), np.int64(4))",
         "0",
         "0",
         "1",
         "-1",
         "0.9997423393655187",
         "1"
        ],
        [
         "(np.int64(0), np.int64(5))",
         "-1",
         "1",
         "0",
         "0",
         "0.981519566130822",
         "1"
        ],
        [
         "(np.int64(0), np.int64(6))",
         "-1",
         "1",
         "0",
         "0",
         "0.9144092768903046",
         "1"
        ],
        [
         "(np.int64(0), np.int64(7))",
         "-1",
         "0",
         "0",
         "0",
         "0.0",
         "0"
        ],
        [
         "(np.int64(0), np.int64(8))",
         "-1",
         "0",
         "0",
         "0",
         "0.0",
         "0"
        ],
        [
         "(np.int64(0), np.int64(9))",
         "1",
         "0",
         "0",
         "0",
         "0.0",
         "0"
        ],
        [
         "(np.int64(0), np.int64(10))",
         "0",
         "0",
         "1",
         "0",
         "0.0",
         "0"
        ],
        [
         "(np.int64(0), np.int64(11))",
         "0",
         "0",
         "1",
         "0",
         "0.0",
         "0"
        ],
        [
         "(np.int64(0), np.int64(12))",
         "0",
         "-1",
         "1",
         "0",
         "0.7931920086071264",
         "1"
        ],
        [
         "(np.int64(0), np.int64(13))",
         "-1",
         "1",
         "0",
         "0",
         "0.8071775998760317",
         "1"
        ],
        [
         "(np.int64(1), np.int64(0))",
         "-1",
         "1",
         "0",
         "0",
         "0.9995005502606233",
         "1"
        ],
        [
         "(np.int64(1), np.int64(1))",
         "1",
         "-1",
         "0",
         "0",
         "0.9993890338609012",
         "1"
        ],
        [
         "(np.int64(1), np.int64(2))",
         "-1",
         "0",
         "0",
         "1",
         "0.9989928549632543",
         "1"
        ],
        [
         "(np.int64(1), np.int64(3))",
         "1",
         "-1",
         "0",
         "0",
         "0.9989878900835651",
         "1"
        ],
        [
         "(np.int64(1), np.int64(4))",
         "0",
         "0",
         "1",
         "-1",
         "0.9997762623671526",
         "1"
        ],
        [
         "(np.int64(1), np.int64(5))",
         "-1",
         "1",
         "0",
         "0",
         "0.9454479246953289",
         "1"
        ],
        [
         "(np.int64(1), np.int64(6))",
         "-1",
         "1",
         "0",
         "0",
         "0.8415389296724259",
         "1"
        ],
        [
         "(np.int64(1), np.int64(7))",
         "-1",
         "0",
         "0",
         "0",
         "0.0",
         "0"
        ],
        [
         "(np.int64(1), np.int64(8))",
         "1",
         "0",
         "0",
         "0",
         "0.0",
         "0"
        ],
        [
         "(np.int64(1), np.int64(9))",
         "0",
         "0",
         "1",
         "0",
         "0.0",
         "0"
        ],
        [
         "(np.int64(1), np.int64(10))",
         "1",
         "0",
         "0",
         "0",
         "0.0",
         "0"
        ],
        [
         "(np.int64(1), np.int64(11))",
         "1",
         "0",
         "0",
         "0",
         "0.0",
         "0"
        ],
        [
         "(np.int64(1), np.int64(12))",
         "-1",
         "0",
         "0",
         "0",
         "0.0",
         "0"
        ],
        [
         "(np.int64(1), np.int64(13))",
         "-1",
         "0",
         "0",
         "0",
         "0.0",
         "0"
        ],
        [
         "(np.int64(2), np.int64(0))",
         "-1",
         "1",
         "0",
         "0",
         "0.9994163442595149",
         "1"
        ],
        [
         "(np.int64(2), np.int64(1))",
         "1",
         "-1",
         "0",
         "0",
         "0.9987668173886278",
         "1"
        ],
        [
         "(np.int64(2), np.int64(2))",
         "-1",
         "1",
         "0",
         "0",
         "0.9985118236471949",
         "1"
        ],
        [
         "(np.int64(2), np.int64(3))",
         "1",
         "-1",
         "0",
         "0",
         "0.9987292533370807",
         "1"
        ],
        [
         "(np.int64(2), np.int64(4))",
         "0",
         "0",
         "1",
         "-1",
         "0.9989747351094631",
         "1"
        ],
        [
         "(np.int64(2), np.int64(5))",
         "-1",
         "1",
         "0",
         "0",
         "0.9871094927800187",
         "1"
        ],
        [
         "(np.int64(2), np.int64(6))",
         "-1",
         "1",
         "0",
         "0",
         "0.9054769632677717",
         "1"
        ],
        [
         "(np.int64(2), np.int64(7))",
         "-1",
         "0",
         "0",
         "1",
         "0.6886028140269224",
         "1"
        ],
        [
         "(np.int64(2), np.int64(8))",
         "0",
         "-1",
         "1",
         "0",
         "0.9233579010932847",
         "1"
        ],
        [
         "(np.int64(2), np.int64(9))",
         "0",
         "0",
         "1",
         "-1",
         "0.9690657447422202",
         "1"
        ],
        [
         "(np.int64(2), np.int64(10))",
         "0",
         "0",
         "1",
         "-1",
         "0.9697785266188862",
         "1"
        ],
        [
         "(np.int64(2), np.int64(11))",
         "0",
         "0",
         "1",
         "-1",
         "0.9698288294757772",
         "1"
        ],
        [
         "(np.int64(2), np.int64(12))",
         "0",
         "0",
         "-1",
         "1",
         "0.9558635266182334",
         "1"
        ],
        [
         "(np.int64(2), np.int64(13))",
         "-1",
         "0",
         "0",
         "0",
         "0.0",
         "0"
        ],
        [
         "(np.int64(3), np.int64(0))",
         "-1",
         "1",
         "0",
         "0",
         "0.999160662855199",
         "1"
        ],
        [
         "(np.int64(3), np.int64(1))",
         "0",
         "-1",
         "1",
         "0",
         "0.9989557122412128",
         "1"
        ],
        [
         "(np.int64(3), np.int64(2))",
         "-1",
         "1",
         "0",
         "0",
         "0.9989626875479792",
         "1"
        ],
        [
         "(np.int64(3), np.int64(3))",
         "0",
         "-1",
         "1",
         "0",
         "0.9988577581628171",
         "1"
        ],
        [
         "(np.int64(3), np.int64(4))",
         "0",
         "0",
         "1",
         "-1",
         "0.9994497077369764",
         "1"
        ],
        [
         "(np.int64(3), np.int64(5))",
         "-1",
         "1",
         "0",
         "0",
         "0.9059504054826517",
         "1"
        ],
        [
         "(np.int64(3), np.int64(6))",
         "-1",
         "1",
         "0",
         "0",
         "0.3108991138481588",
         "1"
        ],
        [
         "(np.int64(3), np.int64(7))",
         "-1",
         "0",
         "0",
         "1",
         "0.4410092274327056",
         "1"
        ]
       ],
       "shape": {
        "columns": 6,
        "rows": 23156
       }
      },
      "text/html": [
       "<div>\n",
       "<style scoped>\n",
       "    .dataframe tbody tr th:only-of-type {\n",
       "        vertical-align: middle;\n",
       "    }\n",
       "\n",
       "    .dataframe tbody tr th {\n",
       "        vertical-align: top;\n",
       "    }\n",
       "\n",
       "    .dataframe thead th {\n",
       "        text-align: right;\n",
       "    }\n",
       "</style>\n",
       "<table border=\"1\" class=\"dataframe\">\n",
       "  <thead>\n",
       "    <tr style=\"text-align: right;\">\n",
       "      <th></th>\n",
       "      <th></th>\n",
       "      <th>cleav_1</th>\n",
       "      <th>cleav_compl_1</th>\n",
       "      <th>cleav_2</th>\n",
       "      <th>cleav_compl_2</th>\n",
       "      <th>cleav_prob</th>\n",
       "      <th>cleav_ss</th>\n",
       "    </tr>\n",
       "    <tr>\n",
       "      <th>instances</th>\n",
       "      <th>time_points</th>\n",
       "      <th></th>\n",
       "      <th></th>\n",
       "      <th></th>\n",
       "      <th></th>\n",
       "      <th></th>\n",
       "      <th></th>\n",
       "    </tr>\n",
       "  </thead>\n",
       "  <tbody>\n",
       "    <tr>\n",
       "      <th rowspan=\"5\" valign=\"top\">0</th>\n",
       "      <th>0</th>\n",
       "      <td>-1</td>\n",
       "      <td>1</td>\n",
       "      <td>0</td>\n",
       "      <td>0</td>\n",
       "      <td>0.999468</td>\n",
       "      <td>1</td>\n",
       "    </tr>\n",
       "    <tr>\n",
       "      <th>1</th>\n",
       "      <td>1</td>\n",
       "      <td>-1</td>\n",
       "      <td>0</td>\n",
       "      <td>0</td>\n",
       "      <td>0.998997</td>\n",
       "      <td>1</td>\n",
       "    </tr>\n",
       "    <tr>\n",
       "      <th>2</th>\n",
       "      <td>-1</td>\n",
       "      <td>1</td>\n",
       "      <td>0</td>\n",
       "      <td>0</td>\n",
       "      <td>0.998971</td>\n",
       "      <td>1</td>\n",
       "    </tr>\n",
       "    <tr>\n",
       "      <th>3</th>\n",
       "      <td>1</td>\n",
       "      <td>-1</td>\n",
       "      <td>0</td>\n",
       "      <td>0</td>\n",
       "      <td>0.999318</td>\n",
       "      <td>1</td>\n",
       "    </tr>\n",
       "    <tr>\n",
       "      <th>4</th>\n",
       "      <td>0</td>\n",
       "      <td>0</td>\n",
       "      <td>1</td>\n",
       "      <td>-1</td>\n",
       "      <td>0.999742</td>\n",
       "      <td>1</td>\n",
       "    </tr>\n",
       "    <tr>\n",
       "      <th>...</th>\n",
       "      <th>...</th>\n",
       "      <td>...</td>\n",
       "      <td>...</td>\n",
       "      <td>...</td>\n",
       "      <td>...</td>\n",
       "      <td>...</td>\n",
       "      <td>...</td>\n",
       "    </tr>\n",
       "    <tr>\n",
       "      <th rowspan=\"5\" valign=\"top\">1653</th>\n",
       "      <th>9</th>\n",
       "      <td>0</td>\n",
       "      <td>0</td>\n",
       "      <td>-1</td>\n",
       "      <td>1</td>\n",
       "      <td>0.992391</td>\n",
       "      <td>1</td>\n",
       "    </tr>\n",
       "    <tr>\n",
       "      <th>10</th>\n",
       "      <td>0</td>\n",
       "      <td>0</td>\n",
       "      <td>-1</td>\n",
       "      <td>0</td>\n",
       "      <td>0.000000</td>\n",
       "      <td>0</td>\n",
       "    </tr>\n",
       "    <tr>\n",
       "      <th>11</th>\n",
       "      <td>0</td>\n",
       "      <td>0</td>\n",
       "      <td>1</td>\n",
       "      <td>0</td>\n",
       "      <td>0.000000</td>\n",
       "      <td>0</td>\n",
       "    </tr>\n",
       "    <tr>\n",
       "      <th>12</th>\n",
       "      <td>0</td>\n",
       "      <td>0</td>\n",
       "      <td>-1</td>\n",
       "      <td>1</td>\n",
       "      <td>0.762377</td>\n",
       "      <td>1</td>\n",
       "    </tr>\n",
       "    <tr>\n",
       "      <th>13</th>\n",
       "      <td>1</td>\n",
       "      <td>-1</td>\n",
       "      <td>0</td>\n",
       "      <td>0</td>\n",
       "      <td>0.705569</td>\n",
       "      <td>1</td>\n",
       "    </tr>\n",
       "  </tbody>\n",
       "</table>\n",
       "<p>23156 rows × 6 columns</p>\n",
       "</div>"
      ],
      "text/plain": [
       "                       cleav_1  cleav_compl_1  cleav_2  cleav_compl_2  \\\n",
       "instances time_points                                                   \n",
       "0         0                 -1              1        0              0   \n",
       "          1                  1             -1        0              0   \n",
       "          2                 -1              1        0              0   \n",
       "          3                  1             -1        0              0   \n",
       "          4                  0              0        1             -1   \n",
       "...                        ...            ...      ...            ...   \n",
       "1653      9                  0              0       -1              1   \n",
       "          10                 0              0       -1              0   \n",
       "          11                 0              0        1              0   \n",
       "          12                 0              0       -1              1   \n",
       "          13                 1             -1        0              0   \n",
       "\n",
       "                       cleav_prob  cleav_ss  \n",
       "instances time_points                        \n",
       "0         0              0.999468         1  \n",
       "          1              0.998997         1  \n",
       "          2              0.998971         1  \n",
       "          3              0.999318         1  \n",
       "          4              0.999742         1  \n",
       "...                           ...       ...  \n",
       "1653      9              0.992391         1  \n",
       "          10             0.000000         0  \n",
       "          11             0.000000         0  \n",
       "          12             0.762377         1  \n",
       "          13             0.705569         1  \n",
       "\n",
       "[23156 rows x 6 columns]"
      ]
     },
     "execution_count": 25,
     "metadata": {},
     "output_type": "execute_result"
    }
   ],
   "source": [
    "X_5p"
   ]
  },
  {
   "cell_type": "code",
   "execution_count": 26,
   "id": "e74d4266",
   "metadata": {},
   "outputs": [
    {
     "data": {
      "application/vnd.microsoft.datawrangler.viewer.v0+json": {
       "columns": [
        {
         "name": "('instances', 'time_points')",
         "rawType": "object",
         "type": "unknown"
        },
        {
         "name": "cleav_1",
         "rawType": "int64",
         "type": "integer"
        },
        {
         "name": "cleav_compl_1",
         "rawType": "int64",
         "type": "integer"
        },
        {
         "name": "cleav_2",
         "rawType": "int64",
         "type": "integer"
        },
        {
         "name": "cleav_compl_2",
         "rawType": "int64",
         "type": "integer"
        },
        {
         "name": "cleav_prob",
         "rawType": "float64",
         "type": "float"
        },
        {
         "name": "cleav_ss",
         "rawType": "int64",
         "type": "integer"
        }
       ],
       "ref": "f8245c8a-3156-4463-876a-f2c197c49e77",
       "rows": [
        [
         "(np.int64(0), np.int64(0))",
         "0",
         "0",
         "1",
         "-1",
         "0.8433408244527671",
         "-1"
        ],
        [
         "(np.int64(0), np.int64(1))",
         "1",
         "0",
         "0",
         "0",
         "0.0",
         "0"
        ],
        [
         "(np.int64(0), np.int64(2))",
         "0",
         "0",
         "1",
         "-1",
         "0.8068907396417209",
         "-1"
        ],
        [
         "(np.int64(0), np.int64(3))",
         "1",
         "-1",
         "0",
         "0",
         "0.8071775998760317",
         "-1"
        ],
        [
         "(np.int64(0), np.int64(4))",
         "-1",
         "0",
         "0",
         "1",
         "0.7931920086071264",
         "-1"
        ],
        [
         "(np.int64(0), np.int64(5))",
         "1",
         "-1",
         "0",
         "0",
         "0.9144092768903046",
         "-1"
        ],
        [
         "(np.int64(0), np.int64(6))",
         "1",
         "-1",
         "0",
         "0",
         "0.981519566130822",
         "-1"
        ],
        [
         "(np.int64(0), np.int64(7))",
         "0",
         "0",
         "-1",
         "1",
         "0.9997423393655187",
         "-1"
        ],
        [
         "(np.int64(0), np.int64(8))",
         "-1",
         "1",
         "0",
         "0",
         "0.9993176437187281",
         "-1"
        ],
        [
         "(np.int64(0), np.int64(9))",
         "1",
         "-1",
         "0",
         "0",
         "0.9989705602761316",
         "-1"
        ],
        [
         "(np.int64(0), np.int64(10))",
         "-1",
         "1",
         "0",
         "0",
         "0.9989972739174591",
         "-1"
        ],
        [
         "(np.int64(0), np.int64(11))",
         "1",
         "-1",
         "0",
         "0",
         "0.9994679517739496",
         "-1"
        ],
        [
         "(np.int64(0), np.int64(12))",
         "0",
         "0",
         "-1",
         "1",
         "0.999948614713236",
         "-1"
        ],
        [
         "(np.int64(0), np.int64(13))",
         "1",
         "-1",
         "0",
         "0",
         "0.998882802020682",
         "-1"
        ],
        [
         "(np.int64(1), np.int64(0))",
         "0",
         "0",
         "1",
         "0",
         "0.0",
         "0"
        ],
        [
         "(np.int64(1), np.int64(1))",
         "1",
         "0",
         "0",
         "0",
         "0.0",
         "0"
        ],
        [
         "(np.int64(1), np.int64(2))",
         "0",
         "0",
         "1",
         "-1",
         "0.2523819854832751",
         "-1"
        ],
        [
         "(np.int64(1), np.int64(3))",
         "1",
         "-1",
         "0",
         "0",
         "0.25193883090231134",
         "-1"
        ],
        [
         "(np.int64(1), np.int64(4))",
         "-1",
         "1",
         "0",
         "0",
         "0.24220110833624503",
         "-1"
        ],
        [
         "(np.int64(1), np.int64(5))",
         "1",
         "-1",
         "0",
         "0",
         "0.8415389296724259",
         "-1"
        ],
        [
         "(np.int64(1), np.int64(6))",
         "1",
         "-1",
         "0",
         "0",
         "0.9454479246953289",
         "-1"
        ],
        [
         "(np.int64(1), np.int64(7))",
         "0",
         "0",
         "-1",
         "1",
         "0.9997762623671526",
         "-1"
        ],
        [
         "(np.int64(1), np.int64(8))",
         "-1",
         "1",
         "0",
         "0",
         "0.9989878900835651",
         "-1"
        ],
        [
         "(np.int64(1), np.int64(9))",
         "0",
         "-1",
         "1",
         "0",
         "0.9989928549632543",
         "-1"
        ],
        [
         "(np.int64(1), np.int64(10))",
         "-1",
         "1",
         "0",
         "0",
         "0.9993890338609012",
         "-1"
        ],
        [
         "(np.int64(1), np.int64(11))",
         "1",
         "-1",
         "0",
         "0",
         "0.9995005502606233",
         "-1"
        ],
        [
         "(np.int64(1), np.int64(12))",
         "0",
         "0",
         "-1",
         "1",
         "0.9999496980027072",
         "-1"
        ],
        [
         "(np.int64(1), np.int64(13))",
         "1",
         "-1",
         "0",
         "0",
         "0.9981922091405107",
         "-1"
        ],
        [
         "(np.int64(2), np.int64(0))",
         "0",
         "0",
         "1",
         "0",
         "0.0",
         "0"
        ],
        [
         "(np.int64(2), np.int64(1))",
         "0",
         "0",
         "1",
         "0",
         "0.0",
         "0"
        ],
        [
         "(np.int64(2), np.int64(2))",
         "0",
         "0",
         "1",
         "0",
         "0.0",
         "0"
        ],
        [
         "(np.int64(2), np.int64(3))",
         "1",
         "0",
         "0",
         "0",
         "0.0",
         "0"
        ],
        [
         "(np.int64(2), np.int64(4))",
         "-1",
         "0",
         "0",
         "0",
         "0.0",
         "0"
        ],
        [
         "(np.int64(2), np.int64(5))",
         "1",
         "-1",
         "0",
         "0",
         "0.9054769632677717",
         "-1"
        ],
        [
         "(np.int64(2), np.int64(6))",
         "1",
         "-1",
         "0",
         "0",
         "0.9871094927800187",
         "-1"
        ],
        [
         "(np.int64(2), np.int64(7))",
         "0",
         "0",
         "-1",
         "1",
         "0.9989747351094631",
         "-1"
        ],
        [
         "(np.int64(2), np.int64(8))",
         "-1",
         "1",
         "0",
         "0",
         "0.9987292533370807",
         "-1"
        ],
        [
         "(np.int64(2), np.int64(9))",
         "1",
         "-1",
         "0",
         "0",
         "0.9985118236471949",
         "-1"
        ],
        [
         "(np.int64(2), np.int64(10))",
         "-1",
         "1",
         "0",
         "0",
         "0.9987668173886278",
         "-1"
        ],
        [
         "(np.int64(2), np.int64(11))",
         "1",
         "-1",
         "0",
         "0",
         "0.9994163442595149",
         "-1"
        ],
        [
         "(np.int64(2), np.int64(12))",
         "0",
         "0",
         "-1",
         "1",
         "0.9999469980833028",
         "-1"
        ],
        [
         "(np.int64(2), np.int64(13))",
         "1",
         "-1",
         "0",
         "0",
         "0.9988814755818177",
         "-1"
        ],
        [
         "(np.int64(3), np.int64(0))",
         "1",
         "-1",
         "0",
         "0",
         "0.3108991138481588",
         "-1"
        ],
        [
         "(np.int64(3), np.int64(1))",
         "1",
         "0",
         "0",
         "0",
         "0.0",
         "0"
        ],
        [
         "(np.int64(3), np.int64(2))",
         "0",
         "0",
         "1",
         "0",
         "0.0",
         "0"
        ],
        [
         "(np.int64(3), np.int64(3))",
         "1",
         "0",
         "0",
         "0",
         "0.0",
         "0"
        ],
        [
         "(np.int64(3), np.int64(4))",
         "-1",
         "0",
         "0",
         "0",
         "0.0",
         "0"
        ],
        [
         "(np.int64(3), np.int64(5))",
         "1",
         "0",
         "0",
         "0",
         "0.0",
         "0"
        ],
        [
         "(np.int64(3), np.int64(6))",
         "1",
         "-1",
         "0",
         "0",
         "0.9059504054826517",
         "-1"
        ],
        [
         "(np.int64(3), np.int64(7))",
         "0",
         "0",
         "-1",
         "1",
         "0.9994497077369764",
         "-1"
        ]
       ],
       "shape": {
        "columns": 6,
        "rows": 23156
       }
      },
      "text/html": [
       "<div>\n",
       "<style scoped>\n",
       "    .dataframe tbody tr th:only-of-type {\n",
       "        vertical-align: middle;\n",
       "    }\n",
       "\n",
       "    .dataframe tbody tr th {\n",
       "        vertical-align: top;\n",
       "    }\n",
       "\n",
       "    .dataframe thead th {\n",
       "        text-align: right;\n",
       "    }\n",
       "</style>\n",
       "<table border=\"1\" class=\"dataframe\">\n",
       "  <thead>\n",
       "    <tr style=\"text-align: right;\">\n",
       "      <th></th>\n",
       "      <th></th>\n",
       "      <th>cleav_1</th>\n",
       "      <th>cleav_compl_1</th>\n",
       "      <th>cleav_2</th>\n",
       "      <th>cleav_compl_2</th>\n",
       "      <th>cleav_prob</th>\n",
       "      <th>cleav_ss</th>\n",
       "    </tr>\n",
       "    <tr>\n",
       "      <th>instances</th>\n",
       "      <th>time_points</th>\n",
       "      <th></th>\n",
       "      <th></th>\n",
       "      <th></th>\n",
       "      <th></th>\n",
       "      <th></th>\n",
       "      <th></th>\n",
       "    </tr>\n",
       "  </thead>\n",
       "  <tbody>\n",
       "    <tr>\n",
       "      <th rowspan=\"5\" valign=\"top\">0</th>\n",
       "      <th>0</th>\n",
       "      <td>0</td>\n",
       "      <td>0</td>\n",
       "      <td>1</td>\n",
       "      <td>-1</td>\n",
       "      <td>0.843341</td>\n",
       "      <td>-1</td>\n",
       "    </tr>\n",
       "    <tr>\n",
       "      <th>1</th>\n",
       "      <td>1</td>\n",
       "      <td>0</td>\n",
       "      <td>0</td>\n",
       "      <td>0</td>\n",
       "      <td>0.000000</td>\n",
       "      <td>0</td>\n",
       "    </tr>\n",
       "    <tr>\n",
       "      <th>2</th>\n",
       "      <td>0</td>\n",
       "      <td>0</td>\n",
       "      <td>1</td>\n",
       "      <td>-1</td>\n",
       "      <td>0.806891</td>\n",
       "      <td>-1</td>\n",
       "    </tr>\n",
       "    <tr>\n",
       "      <th>3</th>\n",
       "      <td>1</td>\n",
       "      <td>-1</td>\n",
       "      <td>0</td>\n",
       "      <td>0</td>\n",
       "      <td>0.807178</td>\n",
       "      <td>-1</td>\n",
       "    </tr>\n",
       "    <tr>\n",
       "      <th>4</th>\n",
       "      <td>-1</td>\n",
       "      <td>0</td>\n",
       "      <td>0</td>\n",
       "      <td>1</td>\n",
       "      <td>0.793192</td>\n",
       "      <td>-1</td>\n",
       "    </tr>\n",
       "    <tr>\n",
       "      <th>...</th>\n",
       "      <th>...</th>\n",
       "      <td>...</td>\n",
       "      <td>...</td>\n",
       "      <td>...</td>\n",
       "      <td>...</td>\n",
       "      <td>...</td>\n",
       "      <td>...</td>\n",
       "    </tr>\n",
       "    <tr>\n",
       "      <th rowspan=\"5\" valign=\"top\">1653</th>\n",
       "      <th>9</th>\n",
       "      <td>0</td>\n",
       "      <td>0</td>\n",
       "      <td>1</td>\n",
       "      <td>-1</td>\n",
       "      <td>0.994895</td>\n",
       "      <td>-1</td>\n",
       "    </tr>\n",
       "    <tr>\n",
       "      <th>10</th>\n",
       "      <td>1</td>\n",
       "      <td>0</td>\n",
       "      <td>0</td>\n",
       "      <td>0</td>\n",
       "      <td>0.000000</td>\n",
       "      <td>0</td>\n",
       "    </tr>\n",
       "    <tr>\n",
       "      <th>11</th>\n",
       "      <td>0</td>\n",
       "      <td>0</td>\n",
       "      <td>1</td>\n",
       "      <td>-1</td>\n",
       "      <td>0.995325</td>\n",
       "      <td>-1</td>\n",
       "    </tr>\n",
       "    <tr>\n",
       "      <th>12</th>\n",
       "      <td>0</td>\n",
       "      <td>0</td>\n",
       "      <td>1</td>\n",
       "      <td>-1</td>\n",
       "      <td>0.999313</td>\n",
       "      <td>-1</td>\n",
       "    </tr>\n",
       "    <tr>\n",
       "      <th>13</th>\n",
       "      <td>-1</td>\n",
       "      <td>1</td>\n",
       "      <td>0</td>\n",
       "      <td>0</td>\n",
       "      <td>0.999717</td>\n",
       "      <td>-1</td>\n",
       "    </tr>\n",
       "  </tbody>\n",
       "</table>\n",
       "<p>23156 rows × 6 columns</p>\n",
       "</div>"
      ],
      "text/plain": [
       "                       cleav_1  cleav_compl_1  cleav_2  cleav_compl_2  \\\n",
       "instances time_points                                                   \n",
       "0         0                  0              0        1             -1   \n",
       "          1                  1              0        0              0   \n",
       "          2                  0              0        1             -1   \n",
       "          3                  1             -1        0              0   \n",
       "          4                 -1              0        0              1   \n",
       "...                        ...            ...      ...            ...   \n",
       "1653      9                  0              0        1             -1   \n",
       "          10                 1              0        0              0   \n",
       "          11                 0              0        1             -1   \n",
       "          12                 0              0        1             -1   \n",
       "          13                -1              1        0              0   \n",
       "\n",
       "                       cleav_prob  cleav_ss  \n",
       "instances time_points                        \n",
       "0         0              0.843341        -1  \n",
       "          1              0.000000         0  \n",
       "          2              0.806891        -1  \n",
       "          3              0.807178        -1  \n",
       "          4              0.793192        -1  \n",
       "...                           ...       ...  \n",
       "1653      9              0.994895        -1  \n",
       "          10             0.000000         0  \n",
       "          11             0.995325        -1  \n",
       "          12             0.999313        -1  \n",
       "          13             0.999717        -1  \n",
       "\n",
       "[23156 rows x 6 columns]"
      ]
     },
     "execution_count": 26,
     "metadata": {},
     "output_type": "execute_result"
    }
   ],
   "source": [
    "X_3p"
   ]
  },
  {
   "cell_type": "code",
   "execution_count": 27,
   "id": "75921111",
   "metadata": {},
   "outputs": [],
   "source": [
    "X_3p.fillna(-100, inplace=True)\n",
    "X_3p = pad_multiindex_ts(X_3p,-100)\n",
    "X_5p.fillna(-100, inplace=True)\n",
    "X_5p = pad_multiindex_ts(X_5p,-100)\n"
   ]
  },
  {
   "cell_type": "code",
   "execution_count": 28,
   "id": "a3e0b03b",
   "metadata": {},
   "outputs": [],
   "source": [
    "X_5p_convert=convert_collection(X_5p, \"np-list\")\n",
    "X_3p_convert=convert_collection(X_3p, \"np-list\")"
   ]
  },
  {
   "cell_type": "code",
   "execution_count": 35,
   "id": "c2762e8d",
   "metadata": {},
   "outputs": [],
   "source": [
    "X_convert = np.concatenate((X_5p_convert, X_5p_convert), axis=0)\n",
    "# print(X_convert)"
   ]
  },
  {
   "cell_type": "code",
   "execution_count": 37,
   "id": "68dcee45",
   "metadata": {},
   "outputs": [],
   "source": [
    "# np.array(X_convert).shape"
   ]
  },
  {
   "cell_type": "code",
   "execution_count": 38,
   "id": "adb5c4aa",
   "metadata": {},
   "outputs": [],
   "source": [
    "y = np.concatenate((np.full((1, 827), 'five_p_cleav'), np.full((1, 827), 'non_cleav'), np.full((1, 827), 'three_p_cleav'), np.full((1, 827), 'non_cleav')), axis=None)\n",
    "labelencoder = LabelEncoder()\n",
    "y_transform = labelencoder.fit_transform(y)"
   ]
  },
  {
   "cell_type": "code",
   "execution_count": 39,
   "id": "c274e44d",
   "metadata": {},
   "outputs": [
    {
     "data": {
      "text/plain": [
       "numpy.ndarray"
      ]
     },
     "execution_count": 39,
     "metadata": {},
     "output_type": "execute_result"
    }
   ],
   "source": [
    "type(y_transform)"
   ]
  },
  {
   "cell_type": "code",
   "execution_count": null,
   "id": "d90148da",
   "metadata": {},
   "outputs": [
    {
     "name": "stdout",
     "output_type": "stream",
     "text": [
      "3\n",
      "[0 1 2]\n",
      "3\n"
     ]
    }
   ],
   "source": [
    "num_unique = len(np.unique(y_transform))\n",
    "print(num_unique)\n",
    "print(np.unique(y_transform))\n",
    "print(len(np.unique(y_transform)))"
   ]
  },
  {
   "cell_type": "code",
   "execution_count": 45,
   "id": "332ff25f",
   "metadata": {},
   "outputs": [
    {
     "name": "stdout",
     "output_type": "stream",
     "text": [
      "\n",
      " Evaluating RocketClassifier\n",
      "\n",
      "Average 5-Fold Results:\n",
      "Accuracy    : 0.5290 ± 0.0066\n",
      "Specificity : 0.7862 ± 0.0040\n",
      "Sensitivity : 0.3772 ± 0.0090\n",
      "F1          : 0.3738 ± 0.0102\n",
      "Mcc         : 0.2428 ± 0.0115\n"
     ]
    }
   ],
   "source": [
    "evaluate_classifier(RocketClassifier(random_state=18), X_convert, y_transform, mode = \"multi\")"
   ]
  },
  {
   "cell_type": "code",
   "execution_count": null,
   "id": "996f0f01",
   "metadata": {},
   "outputs": [],
   "source": []
  },
  {
   "cell_type": "code",
   "execution_count": null,
   "id": "8a3e0eaf",
   "metadata": {},
   "outputs": [],
   "source": []
  },
  {
   "cell_type": "code",
   "execution_count": 40,
   "id": "5af293e5",
   "metadata": {},
   "outputs": [
    {
     "name": "stdout",
     "output_type": "stream",
     "text": [
      "This Notebook last end-to-end runs on: 2025-07-03 23:50:46.994830\n",
      "\n"
     ]
    }
   ],
   "source": [
    "import datetime\n",
    "print(f\"This Notebook last end-to-end runs on: {datetime.datetime.now()}\\n\")"
   ]
  }
 ],
 "metadata": {
  "kernelspec": {
   "display_name": "mtsccleave",
   "language": "python",
   "name": "python3"
  },
  "language_info": {
   "codemirror_mode": {
    "name": "ipython",
    "version": 3
   },
   "file_extension": ".py",
   "mimetype": "text/x-python",
   "name": "python",
   "nbconvert_exporter": "python",
   "pygments_lexer": "ipython3",
   "version": "3.12.11"
  }
 },
 "nbformat": 4,
 "nbformat_minor": 5
}
