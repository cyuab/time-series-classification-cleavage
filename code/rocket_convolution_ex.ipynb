{
 "cells": [
  {
   "cell_type": "code",
   "execution_count": 59,
   "id": "d05cabab",
   "metadata": {},
   "outputs": [],
   "source": [
    "import numpy as np\n",
    "from fractions import Fraction\n"
   ]
  },
  {
   "cell_type": "code",
   "execution_count": 56,
   "id": "25223093",
   "metadata": {},
   "outputs": [],
   "source": [
    "# Input time series\n",
    "# Example in \"Bake off redux\"\n",
    "# x = np.array([0, 1, 3, 2, 9, 1, 14, 15, 1, 2, 2, 10, 7]) \n",
    "# Example in \"TIME SERIES CLASSIFICATION | Go Fast and High with ROCKET\"\n",
    "# x = np.array([7, 4, -1, -10, 14, 5, -7, -20, 8, 6, 30, -12, 26, 3, -9])\n",
    "# RNA\n",
    "x = np.array([0, 1, 3, 4, 6, 4, 6, 8, 7, 5, 7])\n",
    "\n",
    "\n",
    "# Kernel\n",
    "# kernel = np.array([0.1, 0.1, 0.1, 0.1, 0.1, 0.1, 0.1]) #=7\n",
    "# kernel = np.array([0.1] * 7)  # Averaging kernel\n",
    "kernel = np.array([-1, 0 ,1])\n",
    "# kernel = np.array([-0.5, 0, 0.5])\n"
   ]
  },
  {
   "cell_type": "code",
   "execution_count": 62,
   "id": "835dde15",
   "metadata": {},
   "outputs": [
    {
     "name": "stdout",
     "output_type": "stream",
     "text": [
      "Activation Map (dilation=1): [ 3  3  3  0  0  4  1 -3  0]\n",
      "5/9 4\n",
      "Activation Map (dilation=2): [6 3 3 4 1 1 1]\n",
      "1 6\n"
     ]
    }
   ],
   "source": [
    "\n",
    "\n",
    "def rocket_convolution(x, kernel, dilation=1):\n",
    "    k_len = len(kernel)\n",
    "    length = len(x) - (k_len - 1) * dilation\n",
    "    if length <= 0:\n",
    "        return np.array([])\n",
    "\n",
    "    activation = np.array([\n",
    "        sum(kernel[j] * x[i + j * dilation] for j in range(k_len))\n",
    "        for i in range(length)\n",
    "    ])\n",
    "    return activation\n",
    "\n",
    "# Run with dilation=1\n",
    "result = rocket_convolution(x, kernel, dilation=1)\n",
    "print(\"Activation Map (dilation=1):\", result)\n",
    "ppv = Fraction(sum(v > 0 for v in result), len(result))\n",
    "print(ppv, max(result))\n",
    "\n",
    "# Run with dilation=2\n",
    "result = rocket_convolution(x, kernel, dilation=2)\n",
    "print(\"Activation Map (dilation=2):\", result)\n",
    "ppv = Fraction(sum(v > 0 for v in result), len(result))\n",
    "print(ppv, max(result))\n"
   ]
  },
  {
   "cell_type": "code",
   "execution_count": null,
   "id": "17520ce9",
   "metadata": {},
   "outputs": [],
   "source": []
  }
 ],
 "metadata": {
  "kernelspec": {
   "display_name": "mtsccleave",
   "language": "python",
   "name": "python3"
  },
  "language_info": {
   "codemirror_mode": {
    "name": "ipython",
    "version": 3
   },
   "file_extension": ".py",
   "mimetype": "text/x-python",
   "name": "python",
   "nbconvert_exporter": "python",
   "pygments_lexer": "ipython3",
   "version": "3.12.11"
  }
 },
 "nbformat": 4,
 "nbformat_minor": 5
}
