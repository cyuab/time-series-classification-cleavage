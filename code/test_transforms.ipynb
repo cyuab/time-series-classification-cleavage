{
 "cells": [
  {
   "cell_type": "code",
   "execution_count": 1,
   "id": "6ffd8869",
   "metadata": {},
   "outputs": [],
   "source": [
    "import numpy as np\n",
    "import pandas as pd"
   ]
  },
  {
   "cell_type": "code",
   "execution_count": 2,
   "id": "20992f87",
   "metadata": {},
   "outputs": [],
   "source": [
    "%load_ext autoreload\n",
    "%autoreload 2\n",
    "from transformations import *"
   ]
  },
  {
   "cell_type": "markdown",
   "id": "1f6eae73",
   "metadata": {},
   "source": [
    "Running Example\n",
    "\n",
    "s, s_prob, s_compl\n",
    "\n",
    "```\n",
    "('GAGAUAACUA',\n",
    " [0.8433408244527671,\n",
    "  0,\n",
    "  0.8068907396417209,\n",
    "  0.8071775998760317,\n",
    "  0.7931920086071264,\n",
    "  0.9144092768903046,\n",
    "  0.981519566130822,\n",
    "  0.9997423393655187,\n",
    "  0.9993176437187281,\n",
    "  0.9989705602761316],\n",
    " 'C_CUGUUGAU')\n",
    "```\n",
    "\n",
    "\n"
   ]
  },
  {
   "cell_type": "markdown",
   "id": "6191dbbb",
   "metadata": {},
   "source": [
    "## Time series transformation for RNA strand"
   ]
  },
  {
   "cell_type": "code",
   "execution_count": 3,
   "id": "d3467e12",
   "metadata": {},
   "outputs": [],
   "source": [
    "s=\"GAGAUAACUA\"\n",
    "s_prob = [0.8433408244527671,\n",
    "  0,\n",
    "  0.8068907396417209,\n",
    "  0.8071775998760317,\n",
    "  0.7931920086071264,\n",
    "  0.9144092768903046,\n",
    "  0.981519566130822,\n",
    "  0.9997423393655187,\n",
    "  0.9993176437187281,\n",
    "  0.9989705602761316]\n",
    "s_compl = \"C_CUGUUGAU\""
   ]
  },
  {
   "cell_type": "code",
   "execution_count": 4,
   "id": "5cc1eb9d",
   "metadata": {},
   "outputs": [
    {
     "data": {
      "text/plain": [
       "([-1, 2, -1, 2, -2, 2, 2, 1, -2, 2], None)"
      ]
     },
     "execution_count": 4,
     "metadata": {},
     "output_type": "execute_result"
    }
   ],
   "source": [
    "# Toy example\n",
    "transform_single_no_domain(s)"
   ]
  },
  {
   "cell_type": "code",
   "execution_count": 5,
   "id": "eb3dbaac",
   "metadata": {},
   "outputs": [
    {
     "data": {
      "text/plain": [
       "([1, 2, 1, 2, -2, 2, 2, -1, -2, 2], None)"
      ]
     },
     "execution_count": 5,
     "metadata": {},
     "output_type": "execute_result"
    }
   ],
   "source": [
    "# Single value mapping\n",
    "transform_single(s)"
   ]
  },
  {
   "cell_type": "code",
   "execution_count": 6,
   "id": "d8de98bb",
   "metadata": {},
   "outputs": [
    {
     "data": {
      "text/plain": [
       "([1, 1, -1, 1, 1, -1, 1], [1, 1, -1])"
      ]
     },
     "execution_count": 6,
     "metadata": {},
     "output_type": "execute_result"
    }
   ],
   "source": [
    "# Grouped variable-length channel mapping\n",
    "transform_single_multi_diff(s)"
   ]
  },
  {
   "cell_type": "code",
   "execution_count": 7,
   "id": "c25e84ac",
   "metadata": {},
   "outputs": [
    {
     "data": {
      "text/plain": [
       "([0, 1, 0, 1, -1, 1, 1, 0, -1, 1], [1, 0, 1, 0, 0, 0, 0, -1, 0, 0])"
      ]
     },
     "execution_count": 7,
     "metadata": {},
     "output_type": "execute_result"
    }
   ],
   "source": [
    "# Grouped fixed-length channel mapping\n",
    "transform_single_multi_eq(s)"
   ]
  },
  {
   "cell_type": "code",
   "execution_count": 8,
   "id": "30e9c500",
   "metadata": {},
   "outputs": [
    {
     "data": {
      "text/plain": [
       "([0, 1, 3, 4, 6, 4, 6, 8, 7, 5, 7], None)"
      ]
     },
     "execution_count": 8,
     "metadata": {},
     "output_type": "execute_result"
    }
   ],
   "source": [
    "# Cumulative mapping\n",
    "transform_cum(s)"
   ]
  },
  {
   "cell_type": "code",
   "execution_count": 9,
   "id": "6897043e",
   "metadata": {},
   "outputs": [
    {
     "data": {
      "text/plain": [
       "([0, 1, 2, 1, 2, 3, 2, 3], [0, 1, 2, 1])"
      ]
     },
     "execution_count": 9,
     "metadata": {},
     "output_type": "execute_result"
    }
   ],
   "source": [
    "# Cumulative grouped variable-length channel mapping\n",
    "transform_cum_multi_diff(s)"
   ]
  },
  {
   "cell_type": "code",
   "execution_count": 10,
   "id": "3335c857",
   "metadata": {},
   "outputs": [
    {
     "data": {
      "text/plain": [
       "([0, 0, 1, 1, 2, 1, 2, 3, 3, 2, 3], [0, 1, 1, 2, 2, 2, 2, 2, 1, 1, 1])"
      ]
     },
     "execution_count": 10,
     "metadata": {},
     "output_type": "execute_result"
    }
   ],
   "source": [
    "# Cumulative grouped fixed-length channel mapping\n",
    "transform_cum_multi_eq(s)"
   ]
  },
  {
   "cell_type": "markdown",
   "id": "7cc322fe",
   "metadata": {},
   "source": [
    "## Time series transformation for RNA complementary string"
   ]
  },
  {
   "cell_type": "code",
   "execution_count": 11,
   "id": "15b2553c",
   "metadata": {},
   "outputs": [
    {
     "name": "stdout",
     "output_type": "stream",
     "text": [
      "time series =  0.843, 0.000, 0.807, 0.807, 0.793, 0.914, 0.982, 1.000, 0.999, 0.999\n"
     ]
    }
   ],
   "source": [
    "# s^P\n",
    "print_list_3dp(s_prob)"
   ]
  },
  {
   "cell_type": "code",
   "execution_count": 19,
   "id": "3713f981",
   "metadata": {},
   "outputs": [
    {
     "name": "stdout",
     "output_type": "stream",
     "text": [
      "([-1, 0, -1, -2, 1, -2, -2, 1, 2, -2], None)\n",
      "time series =  -0.843, 0.000, -0.807, -1.614, 0.793, -1.829, -1.963, 1.000, 1.999, -1.998\n"
     ]
    }
   ],
   "source": [
    "# Single value mapping\n",
    "print(transform_single(s_compl))\n",
    "print_list_3dp(transform_single(s_compl, s_prob)[0])"
   ]
  },
  {
   "cell_type": "code",
   "execution_count": 13,
   "id": "ee0d9af4",
   "metadata": {},
   "outputs": [
    {
     "name": "stdout",
     "output_type": "stream",
     "text": [
      "([0, -1, -1, -1, 1, -1], [-1, -1, 1, 1])\n",
      "time series =  0.000, -0.807, -0.914, -0.982, 0.999, -0.999\n",
      "time series =  -0.843, -0.807, 0.793, 1.000\n"
     ]
    }
   ],
   "source": [
    "# Grouped variable-length channel mapping\n",
    "print(transform_single_multi_diff(s_compl))\n",
    "print_list_3dp(transform_single_multi_diff(s_compl, s_prob)[0])\n",
    "print_list_3dp(transform_single_multi_diff(s_compl, s_prob)[1])"
   ]
  },
  {
   "cell_type": "code",
   "execution_count": 14,
   "id": "fd82a953",
   "metadata": {},
   "outputs": [
    {
     "name": "stdout",
     "output_type": "stream",
     "text": [
      "([0, 0, 0, -1, 0, -1, -1, 0, 1, -1], [-1, 0, -1, 0, 1, 0, 0, 1, 0, 0])\n",
      "time series =  0.000, 0.000, 0.000, -0.807, 0.000, -0.914, -0.982, 0.000, 0.999, -0.999\n",
      "time series =  -0.843, 0.000, -0.807, 0.000, 0.793, 0.000, 0.000, 1.000, 0.000, 0.000\n"
     ]
    }
   ],
   "source": [
    "# Grouped fixed-length channel mapping\n",
    "print(transform_single_multi_eq(s_compl))\n",
    "print_list_3dp(transform_single_multi_eq(s_compl, s_prob)[0])\n",
    "print_list_3dp(transform_single_multi_eq(s_compl, s_prob)[1])"
   ]
  },
  {
   "cell_type": "code",
   "execution_count": 15,
   "id": "8de79f30",
   "metadata": {},
   "outputs": [
    {
     "name": "stdout",
     "output_type": "stream",
     "text": [
      "([0, -1, -1, -2, -4, -3, -5, -7, -6, -4, -6], None)\n",
      "time series =  0.000, -0.843, -0.843, -1.650, -3.265, -2.471, -4.300, -6.263, -5.264, -3.265, -5.263\n"
     ]
    }
   ],
   "source": [
    "# Cumulative mapping\n",
    "print(transform_cum(s_compl))\n",
    "print_list_3dp(transform_cum(s_compl, s_prob)[0])"
   ]
  },
  {
   "cell_type": "code",
   "execution_count": 16,
   "id": "a6df3a5e",
   "metadata": {},
   "outputs": [
    {
     "name": "stdout",
     "output_type": "stream",
     "text": [
      "([0, -1, -2, -3, -2, -3], [0, -1, -2, -1, 0])\n",
      "time series =  0.000, -0.807, -1.722, -2.703, -1.704, -2.703\n",
      "time series =  0.000, -0.843, -1.650, -0.857, 0.143\n"
     ]
    }
   ],
   "source": [
    "# Cumulative grouped variable-length channel mapping\n",
    "print(transform_cum_multi_diff(s_compl))\n",
    "print_list_3dp(transform_cum_multi_diff(s_compl,s_prob)[0])\n",
    "print_list_3dp(transform_cum_multi_diff(s_compl,s_prob)[1])"
   ]
  },
  {
   "cell_type": "code",
   "execution_count": 17,
   "id": "aefa9027",
   "metadata": {},
   "outputs": [
    {
     "name": "stdout",
     "output_type": "stream",
     "text": [
      "([0, 0, 0, 0, -1, -1, -2, -3, -3, -2, -3], [0, -1, -1, -2, -2, -1, -1, -1, 0, 0, 0])\n",
      "time series =  0.000, 0.000, 0.000, 0.000, -0.807, -0.807, -1.722, -2.703, -2.703, -1.704, -2.703\n",
      "time series =  0.000, -0.843, -0.843, -1.650, -1.650, -0.857, -0.857, -0.857, 0.143, 0.143, 0.143\n"
     ]
    }
   ],
   "source": [
    "# Cumulative grouped fixed-length channel mapping\n",
    "print(transform_cum_multi_eq(s_compl))\n",
    "print_list_3dp(transform_cum_multi_eq(s_compl,s_prob)[0])\n",
    "print_list_3dp(transform_cum_multi_eq(s_compl,s_prob)[1])"
   ]
  },
  {
   "cell_type": "code",
   "execution_count": 18,
   "id": "e3a58152",
   "metadata": {},
   "outputs": [
    {
     "name": "stdout",
     "output_type": "stream",
     "text": [
      "This Notebook last end-to-end runs on: 2025-06-24 02:20:00.321328\n",
      "\n"
     ]
    }
   ],
   "source": [
    "import datetime\n",
    "print(f\"This Notebook last end-to-end runs on: {datetime.datetime.now()}\\n\")"
   ]
  }
 ],
 "metadata": {
  "kernelspec": {
   "display_name": "mtsccleave",
   "language": "python",
   "name": "python3"
  },
  "language_info": {
   "codemirror_mode": {
    "name": "ipython",
    "version": 3
   },
   "file_extension": ".py",
   "mimetype": "text/x-python",
   "name": "python",
   "nbconvert_exporter": "python",
   "pygments_lexer": "ipython3",
   "version": "3.12.11"
  }
 },
 "nbformat": 4,
 "nbformat_minor": 5
}
