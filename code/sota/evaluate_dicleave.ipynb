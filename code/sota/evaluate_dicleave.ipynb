{
 "cells": [
  {
   "cell_type": "code",
   "execution_count": 1,
   "metadata": {},
   "outputs": [],
   "source": [
    "import numpy as np\n",
    "import pandas as pd\n",
    "import os\n",
    "from sklearn.metrics import confusion_matrix, matthews_corrcoef\n",
    "from sklearn.model_selection import StratifiedKFold"
   ]
  },
  {
   "cell_type": "code",
   "execution_count": 2,
   "metadata": {},
   "outputs": [
    {
     "name": "stdout",
     "output_type": "stream",
     "text": [
      "Current Working Directory: /Users/cyuab/Desktop/time-series-classification-cleavage/code/sota\n"
     ]
    }
   ],
   "source": [
    "# Get the current working directory\n",
    "current_dir = os.getcwd()\n",
    "print(\"Current Working Directory:\", current_dir)"
   ]
  },
  {
   "cell_type": "code",
   "execution_count": 3,
   "metadata": {},
   "outputs": [],
   "source": [
    "# Load\n",
    "df = pd.read_pickle(\"../../data/dataset_preprocessed.pkl\")"
   ]
  },
  {
   "cell_type": "markdown",
   "metadata": {},
   "source": [
    "# Prepare Dicleave dataset"
   ]
  },
  {
   "cell_type": "code",
   "execution_count": 4,
   "metadata": {},
   "outputs": [],
   "source": [
    "def extract_dicleave_patterns(row, pattern_st):\n",
    "    length = 14\n",
    "    df_temp = df.copy()\n",
    "    cleavage_window = row.sequence[(start:=pattern_st):(end:=start + length)]\n",
    "    window_dot_bracket = row.dot_bracket[start:end]\n",
    "    cleavage_window_comp = row.Seq_Compl[start:end]\n",
    "    return cleavage_window, window_dot_bracket, cleavage_window_comp"
   ]
  },
  {
   "cell_type": "code",
   "execution_count": 5,
   "metadata": {},
   "outputs": [],
   "source": [
    "# 5p\n",
    "before_center = 7\n",
    "away_cleavage = 6\n",
    "df_temp = df\n",
    "df_temp = df_temp.rename(columns={'Name': 'name', 'Seq': 'sequence', 'SS': 'dot_bracket'})\n",
    "df_temp2 = df_temp.copy()\n",
    "df_temp[[\"cleavage_window\", \"window_dot_bracket\", \"cleavage_window_comp\"]] = df_temp.apply(\n",
    "        lambda row: extract_dicleave_patterns(row, row.miRNA_1_End-before_center), axis=1, result_type=\"expand\")\n",
    "# https://stackoverflow.com/questions/29517072/add-column-to-dataframe-with-constant-value\n",
    "df_temp['label'] = '1'\n",
    "df_temp2[[\"cleavage_window\", \"window_dot_bracket\", \"cleavage_window_comp\"]] = df_temp2.apply(\n",
    "        lambda row: extract_dicleave_patterns(row, row.miRNA_1_End-before_center-away_cleavage), axis=1, result_type=\"expand\")\n",
    "df_temp2['label'] = '0'\n",
    "df_res = pd.concat([df_temp, df_temp2], ignore_index=True)\n",
    "df_res = df_res[[\"name\", \"sequence\", \"dot_bracket\", \"cleavage_window\", \"window_dot_bracket\", \"cleavage_window_comp\", \"label\"]]\n",
    "df_res['cleavage_window_comp'] = df_res['cleavage_window_comp'].str.replace('_','O')\n"
   ]
  },
  {
   "cell_type": "code",
   "execution_count": 6,
   "metadata": {},
   "outputs": [
    {
     "data": {
      "application/vnd.microsoft.datawrangler.viewer.v0+json": {
       "columns": [
        {
         "name": "index",
         "rawType": "int64",
         "type": "integer"
        },
        {
         "name": "name",
         "rawType": "string",
         "type": "string"
        },
        {
         "name": "sequence",
         "rawType": "string",
         "type": "string"
        },
        {
         "name": "dot_bracket",
         "rawType": "object",
         "type": "string"
        },
        {
         "name": "cleavage_window",
         "rawType": "object",
         "type": "string"
        },
        {
         "name": "window_dot_bracket",
         "rawType": "object",
         "type": "string"
        },
        {
         "name": "cleavage_window_comp",
         "rawType": "object",
         "type": "string"
        },
        {
         "name": "label",
         "rawType": "object",
         "type": "string"
        }
       ],
       "ref": "3bf6a74a-b2ce-4204-be94-5d8666befbb0",
       "rows": [
        [
         "0",
         "hsa-let-7a-1",
         "UGGGAUGAGGUAGUAGGUUGUAUAGUUUUAGGGUCACACCCACCACUGGGAGAUAACUAUACAAUCUACUGUCUUUCCUA",
         "(((((.(((((((((((((((((((((.....(((...((((....)))).)))))))))))))))))))))))))))))",
         "UAUAGUUUUAGGGU",
         "(((((((.....((",
         "AUAUCAAOOOOOUA",
         "1"
        ],
        [
         "1",
         "hsa-let-7a-2",
         "AGGUUGAGGUAGUAGGUUGUAUAGUUUAGAAUUACAUCAAGGGAGAUAACUGUACAGCCUCCUAGCUUUCCU",
         "(((..(((.(((.(((((((((((((.........(((......)))))))))))))))).))).))).)))",
         "UAUAGUUUAGAAUU",
         "(((((((.......",
         "AUGUCAAOOOOOOO",
         "1"
        ],
        [
         "2",
         "hsa-let-7a-3",
         "GGGUGAGGUAGUAGGUUGUAUAGUUUGGGGCUCUGCCCUGCUAUGGGAUAACUAUACAAUCUACUGUCUUUCCU",
         "(((.(((((((((((((((((((((((((((...)))))).........))))))))))))))))))))).)))",
         "UAUAGUUUGGGGCU",
         "(((((((((((((.",
         "AUAUCAAGUCCCGO",
         "1"
        ],
        [
         "3",
         "hsa-let-7b",
         "CGGGGUGAGGUAGUAGGUUGUGUGGUUUCAGGGCAGUGAUGUUGCCCCUCGGAAGAUAACUAUACAACCUACUGCCUUCCCUG",
         "(((((.(((((((((((((((((((((((.((((((.....))))))...))).....)))))))))))))))))))))))))",
         "UGUGGUUUCAGGGC",
         "(((((((((.((((",
         "AUAUCAAGGOCCCG",
         "1"
        ],
        [
         "4",
         "hsa-let-7c",
         "GCAUCCGGGUUGAGGUAGUAGGUUGUAUGGUUUAGAGUUACACCCUGGGAGUUAACUGUACAACCUUCUAGCUUUCCUUGGAGC",
         "((.((((((..(((.(((.(((((((((((((..((.(..((...))..).))))))))))))))).))).)))..))))))))",
         "UAUGGUUUAGAGUU",
         "(((((((..((.(.",
         "AUGUCAAOOUUOAO",
         "1"
        ],
        [
         "5",
         "hsa-let-7d",
         "CCUAGGAAGAGGUAGUAGGUUGCAUAGUUUUAGGGCAGGGAUUUUGCCCACAAGGAGGUAACUAUACGACCUGCUGCCUUUCUUAGG",
         "(((((((.((((((((((((((.((((((...((((((.....))))))..........)))))).)))))))))))))))))))))",
         "CAUAGUUUUAGGGC",
         ".((((((...((((",
         "OUAUCAAOOOCCCG",
         "1"
        ],
        [
         "6",
         "hsa-let-7e",
         "CCCGGGCUGAGGUAGGAGGUUGUAUAGUUGAGGAGGACACCCAAGGAGAUCACUAUACGGCCUCCUAGCUUUCCCCAGG",
         "((.(((..(((.((((((((((((((((.((((.(....))).......)))))))))))))))))).)))..))).))",
         "UAUAGUUGAGGAGG",
         "((((((.((((.(.",
         "AUAUCAOCUCCOCO",
         "1"
        ],
        [
         "7",
         "hsa-let-7f-1",
         "UCAGAGUGAGGUAGUAGAUUGUAUAGUUGUGGGGUAGUGAUUUUACCCUGUUCAGGAGAUAACUAUACAAUCUAUUGCCUUCCCUGA",
         "((((.(.((((((((((((((((((((((((((((((.....))))))).........))))))))))))))))))))))).)))))",
         "UAUAGUUGUGGGGU",
         "((((((((((((((",
         "AUAUCAAUAUCCCA",
         "1"
        ],
        [
         "8",
         "hsa-let-7f-2",
         "UGUGGGAUGAGGUAGUAGAUUGUAUAGUUUUAGGGUCAUACCCCAUCUUGGAGAUAACUAUACAGUCUACUGUCUUUCCCACG",
         ".((((((.((((((((((((((((((((((((((((........))))))))....)))))))))))))))))))))))))).",
         "UAUAGUUUUAGGGU",
         "((((((((((((((",
         "AUAUCAAGGUUCUA",
         "1"
        ],
        [
         "9",
         "hsa-mir-15a",
         "CCUUGGAGUAAAGUAGCAGCACAUAAUGGUUUGUGGAUUUUGAAAAGGUGCAGGCCAUAUUGUGCUGCCUCAAAAAUACAAGG",
         "(((((.......(..((((((((..((((((((((.............))))))))))..))))))))..).......)))))",
         "GUUUGUGGAUUUUG",
         "(((((((.......",
         "CGGACGUOOOOOOO",
         "1"
        ],
        [
         "10",
         "hsa-mir-16-1",
         "GUCAGCAGUGCCUUAGCAGCACGUAAAUAUUGGCGUUAAGAUUCUAAAAUUAUCUCCAGUAUUAACUGUGCUGCUGAAGUAAGGUUGAC",
         "((((((..(((.((((((((((((.((((((((.(.(((..........))).).)))))))).)).)))))))))).)))..))))))",
         "AUUGGCGUUAAGAU",
         "(((((.(.(((...",
         "UGACCOCOAUUOOO",
         "1"
        ],
        [
         "11",
         "hsa-mir-17",
         "GUCAGAAUAAUGUCAAAGUGCUUACAGUGCAGGUAGUGAUAUGUGCAUCUACUGCAGUGAAGGCACUUGUAGCAUUAUGGUGAC",
         "((((..(((((((..((((((((.((.(((((.(((((.......)).)))))))).)).))))))))...)))))))..))))",
         "CAGGUAGUGAUAUG",
         "(((.(((((.....",
         "GUCOAUCACOOOOO",
         "1"
        ],
        [
         "12",
         "hsa-mir-18a",
         "UGUUCUAAGGUGCAUCUAGUGCAGAUAGUGAAGUAGAUUAGCAUCUACUGCCCUAAGUGCUCCUUCUGGCA",
         "((((..((((.((((.(((.((((.(((((..(.....)..)).))))))).))).)))).))))..))))",
         "CAGAUAGUGAAGUA",
         "(((.(((((..(..",
         "GUCOAUCACOOUOO",
         "1"
        ],
        [
         "13",
         "hsa-mir-19a",
         "GCAGUCCUCUGUUAGUUUUGCAUAGUUGCACUACAAGAAGAAUGUAGUUGUGCAAAUCUAUGCAAAACUGAUGGUGGCCUGC",
         "((((.((.(((((((((((((((((((((((((((.......))))...))))))..))))))))))))))))).)).))))",
         "CACUACAAGAAGAA",
         "(((((((.......",
         "GUGAUGUOOOOOOO",
         "1"
        ],
        [
         "14",
         "hsa-mir-19b-1",
         "CACUGUUCUAUGGUUAGUUUUGCAGGUUUGCAUCCAGCUGUGUGAUAUUCUGCUGUGCAAAUCCAUGCAAAACUGACUGUGGUAGUG",
         "(((((..(((((((((((((((((((((((((..((((.............)))))))))).)).))))))))))))))))))))))",
         "AUCCAGCUGUGUGA",
         "(..((((.......",
         "UOOGUCGOOOOOOO",
         "1"
        ],
        [
         "15",
         "hsa-mir-19b-2",
         "ACAUUGCUACUUACAAUUAGUUUUGCAGGUUUGCAUUUCAGCGUAUAUAUGUAUAUGUGGCUGUGCAAAUCCAUGCAAAACUGAUUGUGAUAAUGU",
         "((((((....((((((((((((((((((((((((((....(((((((....)))))))....))))))).)).)))))))))))))))))))))))",
         "CAUUUCAGCGUAUA",
         "(((....(((((((",
         "GUGOOOOUGUAUAU",
         "1"
        ],
        [
         "16",
         "hsa-mir-20a",
         "GUAGCACUAAAGUGCUUAUAGUGCAGGUAGUGUUUAGUUAUCUACUGCAUUAUGAGCACUUAAAGUACUGC",
         "((((.(((.(((((((((((((((((.(((...........))))))))))))))))))))..))).))))",
         "CAGGUAGUGUUUAG",
         "(((.(((.......",
         "GUCOAUCOOOOOOO",
         "1"
        ],
        [
         "17",
         "hsa-mir-21",
         "UGUCGGGUAGCUUAUCAGACUGAUGUUGACUGUUGAAUCUCAUGGCAACACCAGUCGAUGGGCUGUCUGACA",
         "((((((((((((((((.(((((.(((((.((((.((...))))))))))).)))))))))))))))))))))",
         "AUGUUGACUGUUGA",
         ".(((((.((((.((",
         "OACAACOGGUAOCU",
         "1"
        ],
        [
         "18",
         "hsa-mir-22",
         "GGCUGAGCCGCAGUAGUUCUUCAGUGGCAAGCUUUAUGUCCUGACCCAGCUAAAGCUGCCAGUUGAAGAACUGUUGCCCUCUGCC",
         "(((.(((..((((((((((((((((((((.((((((.((.........))))))))))))).))))))))))))))).))).)))",
         "AGCUUUAUGUCCUG",
         ".((((((.((....",
         "OCGAAAUOCGOOOO",
         "1"
        ],
        [
         "19",
         "hsa-mir-23a",
         "GGCCGGCUGGGGUUCCUGGGGAUGGGAUUUGCUUCCUGUCACAAAUCACAUUGCCAGGGAUUUCCAACCGACC",
         "((.(((.((((((((((((.((((.((((((..........)))))).)))).))))))).))))).))).))",
         "GGGAUUUGCUUCCU",
         "(.((((((......",
         "COCUAAACOOOOOO",
         "1"
        ],
        [
         "20",
         "hsa-mir-24-1",
         "CUCCGGUGCCUACUGAGCUGAUAUCAGUUCUCAUUUUACACACUGGCUCAGUUCAGCAGGAACAGGAG",
         "((((.((.(((.(((((((((..(((((.............))))).))))))))).))).)).))))",
         "UAUCAGUUCUCAUU",
         "..(((((.......",
         "OOGGUCAOOOOOOO",
         "1"
        ],
        [
         "21",
         "hsa-mir-24-2",
         "CUCUGCCUCCCGUGCCUACUGAGCUGAAACACAGUUGGUUUGUGUACACUGGCUCAGUUCAGCAGGAACAGGG",
         "(((((..(((.((....(((((((((..((((((.....))))))....)))))))))...)).))).)))))",
         "AACACAGUUGGUUU",
         ".((((((.....))",
         "OUGUGUUOOOOOGA",
         "1"
        ],
        [
         "22",
         "hsa-mir-25",
         "GGCCAGUGUUGAGAGGCGGAGACUUGGGCAAUUGCUGGACGCUGCCCUGGGCAUUGCACUUGUCUCGGUCUGACAGUGCCGGCC",
         "((((.((((((..((((.(((((..(.(((((..((((........))))..))))).)..))))).))))..)))))).))))",
         "GCAAUUGCUGGACG",
         "(((((..((((...",
         "CGUUAOOGGUCOOO",
         "1"
        ],
        [
         "23",
         "hsa-mir-26a-1",
         "GUGGCCUCGUUCAAGUAAUCCAGGAUAGGCUGUGCAGGUCCCAAUGGGCCUAUUCUUGGUUACUUGCACGGGGACGC",
         "(((.((((((.(((((((((.((((((((((...............)))))))))).))))))))).)))))).)))",
         "AUAGGCUGUGCAGG",
         "(((((((.......",
         "UAUCCGGOOOOOOO",
         "1"
        ],
        [
         "24",
         "hsa-mir-26b",
         "CCGGGACCCAGUUCAAGUAAUUCAGGAUAGGUUGUGUGCUGUCCAGCCUGUUCUCCAUUACUUGGCUCGGGGACCGG",
         "((((..((((((.((((((((..(((((((((((.(......))))))))))))..))))))))))).)))..))))",
         "GAUAGGUUGUGUGC",
         "(((((((((.(...",
         "UUGUCCGACOCOOO",
         "1"
        ],
        [
         "25",
         "hsa-mir-27a",
         "CUGAGGAGCAGGGCUUAGCUGCUUGUGAGCAGGGUCCACACCAAGUCGUGUUCACAGUGGCUAAGUUCCGCCCCCCAG",
         "(((.((.((.(((((((((((((.(((((((.((.(........))).)))))))))))))))))))).)).)).)))",
         "GUGAGCAGGGUCCA",
         "(((((((.((.(..",
         "CACUUGUOCUOGOO",
         "1"
        ],
        [
         "26",
         "hsa-mir-28",
         "GGUCCUUGCCCUCAAGGAGCUCACAGUCUAUUGAGUUACCUUUCUGACUUUCCCACUAGAUUGUGAGCUCCUGGAGGGCAGGCACU",
         "(((.(((((((((.((((((((((((((((.(((((((......)))))....)).)))))))))))))))).))))))))).)))",
         "UAUUGAGUUACCUU",
         "((.(((((((....",
         "AUOACUCAGUOOOO",
         "1"
        ],
        [
         "27",
         "hsa-mir-29a",
         "AUGACUGAUUUCUUUUGGUGUUCAGAGUCAAUAUAAUUUUCUAGCACCAUCUGAAAUCGGUUAU",
         "((((((((((((...(((((((.((((...........)))))))))))...))))))))))))",
         "UGUUCAGAGUCAAU",
         "((((.((((.....",
         "ACGAOUCUUOOOOO",
         "1"
        ],
        [
         "28",
         "hsa-mir-30a",
         "GCGACUGUAAACAUCCUCGACUGGAAGCUGUGAAGCCACAGAUGGGCUUUCAGUCGGAUGUUUGCAGCUGC",
         "(((.((((((((((((..((((((((((((((....))).....))))))))))))))))))))))).)))",
         "CUGGAAGCUGUGAA",
         "((((((((((((..",
         "GACUUUCGGCACOO",
         "1"
        ],
        [
         "29",
         "hsa-mir-31",
         "GGAGAGGAGGCAAGAUGCUGGCAUAGCUGUUGAACUGGGAACCUGCUAUGCCAACAUAUUGCCAUCUUUCC",
         "(((((((.(((((.(((.(((((((((.(((........)))..))))))))).))).))))).)))))))",
         "CAUAGCUGUUGAAC",
         "((((((.(((....",
         "GUAUCGOCAAOOOO",
         "1"
        ],
        [
         "30",
         "hsa-mir-32",
         "GGAGAUAUUGCACAUUACUAAGUUGCAUGUUGUCACGGCCUCAAUGCAAUUUAGUGUGUGUGAUAUUUUC",
         "(((((((((((((((.(((((((((((((..((....))..).)))))))))))))))))))))))))))",
         "AGUUGCAUGUUGUC",
         "(((((((((..((.",
         "UUAACGUACOOCGO",
         "1"
        ],
        [
         "31",
         "hsa-mir-33a",
         "CUGUGGUGCAUUGUAGUUGCAUUGCAUGUUCUGGUGGUACCCAUGCAAUGUUUCCACAGUGCAUCACAG",
         "((((((((((((((.(..((((((((((....(((...)))))))))))))..).))))))))))))))",
         "CAUUGCAUGUUCUG",
         "(((((((((....(",
         "GUAACGUACOOOOC",
         "1"
        ],
        [
         "32",
         "hsa-mir-92a-1",
         "CUUUCUACACAGGUUGGGAUCGGUUGCAAUGCUGUGUUUCUGUAUGGUAUUGCACUUGUCCCGGCCUGUUGAGUUUGG",
         "....((..((((((((((((.(((.(((((((((((......)))))))))))))).))))))))))))..)).....",
         "CAAUGCUGUGUUUC",
         "((((((((((....",
         "GUUAUGGUAUOOOO",
         "1"
        ],
        [
         "33",
         "hsa-mir-92a-2",
         "UCAUCCCUGGGUGGGGAUUUGUUGCAUUACUUGUGUUCUAUAUAAAGUAUUGCACUUGUCCCGGCCUGUGGAAGA",
         "((.(((.(((((.(((((..((.(((.(((((((((...)))).))))).)))))..))))).))))).))).))",
         "GCAUUACUUGUGUU",
         "(((.(((((((((.",
         "CGUOAUGAAUAUAO",
         "1"
        ],
        [
         "34",
         "hsa-mir-93",
         "CUGGGGGCUCCAAAGUGCUGUUCGUGCAGGUAGUGUGAUUACCCAACCUACUGCUGAGCUAGCACUUCCCGAGCCCCCGG",
         "((((((((((..((((((((((((.((((.(((.((.........)))))))))))))).)))))))...))))))))))",
         "CAGGUAGUGUGAUU",
         "(((.(((.((....",
         "GUCOAUCOCAOOOO",
         "1"
        ],
        [
         "35",
         "hsa-mir-95",
         "AACACAGUGGGCACUCAAUAAAUGUCUGUUGAAUUGAAAUGCGUUACAUUCAACGGGUAUUUAUUGAGCACCCACUCUGUG",
         ".(((.((((((..((((((((((((((((((((((((......))).)))))))))))))))))))))..)))))).))).",
         "UUGAAUUGAAAUGC",
         "(((((((((.....",
         "AACUUAAUUOOOOO",
         "1"
        ],
        [
         "36",
         "hsa-mir-96",
         "UGGCCGAUUUUGGCACUAGCACAUUUUUGCUUGUGUCUCUCCGCUCUGAGCAAUCAUGUGCAGUGCCAAUAUGGGAAA",
         "...((.((.((((((((.((((((..(((((((((......)))...))))))..)))))))))))))).)).))...",
         "UUUUGCUUGUGUCU",
         "..(((((((((...",
         "OOAACGAGCGCOOO",
         "1"
        ],
        [
         "37",
         "hsa-mir-98",
         "AGGAUUCUGCUCAUGCCAGGGUGAGGUAGUAAGUUGUAUUGUUGUGGGGUAGGGAUAUUAGGCCCCAAUUAGAAGAUAACUAUACAACUUACUACUUUCCCUGGUGUGUGGCAUAUUCA",
         ".((((..((((((((((((((.(((((((((((((((((.((((((((((...........)))))).........)))).))))))))))))))))))))))))))).)))).)))).",
         "UAUUGUUGUGGGGU",
         "(((.((((((((((",
         "AUAOCAAUACCCCG",
         "1"
        ],
        [
         "38",
         "hsa-mir-99a",
         "CCCAUUGGCAUAAACCCGUAGAUCCGAUCUUGUGGUGAAGUGGACCGCACAAGCUCGCUUCUAUGGGUCUGUGUCAGUGUG",
         "..((((((((((.(((((((((..(((.((((((.((........)))))))).)))..))))))))).))))))))))..",
         "UCUUGUGGUGAAGU",
         ".((((((.((....",
         "OGAACACOGCOOOO",
         "1"
        ],
        [
         "39",
         "hsa-mir-100",
         "CCUGUUGCCACAAACCCGUAGAUCCGAACUUGUGGUAUUAGUCCGCACAAGCUUGUAUCUAUAGGUAUGUGUCUGUUAGG",
         "((((....((((.(((.((((((.(((.((((((...........)))))).))).)))))).))).)))).....))))",
         "ACUUGUGGUAUUAG",
         ".((((((.......",
         "OGAACACOOOOOOO",
         "1"
        ],
        [
         "40",
         "hsa-mir-101-1",
         "UGCCCUGGCUCAGUUAUCACAGUGCUGAUGCUGUCUAUUCUAAAGGUACAGUACUGUGAUAACUGAAGGAUGGCA",
         "((((.....((((((((((((((((((.((((............)))))))))))))))))))))).....))))",
         "UGAUGCUGUCUAUU",
         "((.((((.......",
         "ACOAUGGOOOOOOO",
         "1"
        ],
        [
         "41",
         "hsa-mir-29b-1",
         "CUUCAGGAAGCUGGUUUCAUAUGGUGGUUUAGAUUUAAAUAGUGAUUGUCUAGCACCAUUUGAAAUCAGUGUUCUUGGGGG",
         "(((((((((((((((((((.((((((..((((((.............)))))))))))).)))))))))).))))))))).",
         "GUUUAGAUUUAAAU",
         "..((((((......",
         "OOGAUCUGOOOOOO",
         "1"
        ],
        [
         "42",
         "hsa-mir-29b-2",
         "CUUCUGGAAGCUGGUUUCACAUGGUGGCUUAGAUUUUUCCAUCUUUGUAUCUAGCACCAUUUGAAAUCAGUGUUUUAGGAG",
         "(((((((((((((((((((.((((((.((.((((..............)))))))))))).)))))))))).)))))))))",
         "GGCUUAGAUUUUUC",
         "(.((.((((.....",
         "COGAOUCUAOOOOO",
         "1"
        ],
        [
         "43",
         "hsa-mir-103a-2",
         "UUGUGCUUUCAGCUUCUUUACAGUGCUGCCUUGUAGCAUUCAGGUCAAGCAGCAUUGUACAGGGCUAUGAAAGAACCA",
         "..((.(((((((((.((.(((((((((((.(((.(.(.....).))))))))))))))).)))))..)))))).))..",
         "UGCCUUGUAGCAUU",
         "(((.(((.(.(...",
         "ACGOAACOUOGOOO",
         "1"
        ],
        [
         "44",
         "hsa-mir-105-1",
         "UGUGCAUCGUGGUCAAAUGCUCAGACUCCUGUGGUGGCUGCUCAUGCACCACGGAUGUUUGAGCAUGUGCUACGGUGUCUA",
         "...(((((((((.((.((((((((((..((((((((..........))))))))..)))))))))).)))))))))))...",
         "CUGUGGUGGCUGCU",
         "((((((((......",
         "GGCACCACOOOOOO",
         "1"
        ],
        [
         "45",
         "hsa-mir-105-2",
         "UGUGCAUCGUGGUCAAAUGCUCAGACUCCUGUGGUGGCUGCUUAUGCACCACGGAUGUUUGAGCAUGUGCUAUGGUGUCUA",
         "...(((((((((.((.((((((((((..((((((((..........))))))))..)))))))))).)))))))))))...",
         "CUGUGGUGGCUGCU",
         "((((((((......",
         "GGCACCACOOOOOO",
         "1"
        ],
        [
         "46",
         "hsa-mir-106a",
         "CCUUGGCCAUGUAAAAGUGCUUACAGUGCAGGUAGCUUUUUGAGAUCUACUGCAAUGUAAGCACUUCUUACAUUACCAUGG",
         "((.(((..(((((((((((((((((.(((((.(((.(((...))).)))))))).))))))))))).))))))..))).))",
         "CAGGUAGCUUUUUG",
         "(((.(((.(((...",
         "GUCOAUCOAGAOOO",
         "1"
        ],
        [
         "47",
         "hsa-mir-16-2",
         "GUUCCACUCUAGCAGCACGUAAAUAUUGGCGUAGUGAAAUAUAUAUUAAACACCAAUAUUACUGUGCUGCUUUAGUGUGAC",
         "(((.((((..(((((((((..((((((((.((.................)).))))))))..)))))))))..)))).)))",
         "AUUGGCGUAGUGAA",
         "(((((.((......",
         "UAACCOCAOOOOOO",
         "1"
        ],
        [
         "48",
         "hsa-mir-192",
         "GCCGAGACCGAGUGCACAGGGCUCUGACCUAUGAAUUGACAGCCAGUGCUCUCGUCUCCCCUCUGGCUGCCAAUUCCAUAGGUCACAGGUAUGUUCGCCUCAAUGCCAGC",
         ".........(((.(((((.(.((.((((((((((((((.(((((((................))))))).))))).))))))))).)).).)))..))))).........",
         "GACAGCCAGUGCUC",
         "(.(((((((.....",
         "COGUCGGUCOOOOO",
         "1"
        ],
        [
         "49",
         "hsa-mir-199a-1",
         "GCCAACCCAGUGUUCAGACUACCUGUUCAGGAGGCUCUCAAUGUGUACAGUAGUCUGCACAUUGGUUAGGC",
         "(((...(((((((.((((((((.(((.((.(((...)))..))...))))))))))).)))))))...)))",
         "CCUGUUCAGGAGGC",
         "(.(((.((.(((..",
         "GOACAOGUOCUCOO",
         "1"
        ]
       ],
       "shape": {
        "columns": 7,
        "rows": 1654
       }
      },
      "text/html": [
       "<div>\n",
       "<style scoped>\n",
       "    .dataframe tbody tr th:only-of-type {\n",
       "        vertical-align: middle;\n",
       "    }\n",
       "\n",
       "    .dataframe tbody tr th {\n",
       "        vertical-align: top;\n",
       "    }\n",
       "\n",
       "    .dataframe thead th {\n",
       "        text-align: right;\n",
       "    }\n",
       "</style>\n",
       "<table border=\"1\" class=\"dataframe\">\n",
       "  <thead>\n",
       "    <tr style=\"text-align: right;\">\n",
       "      <th></th>\n",
       "      <th>name</th>\n",
       "      <th>sequence</th>\n",
       "      <th>dot_bracket</th>\n",
       "      <th>cleavage_window</th>\n",
       "      <th>window_dot_bracket</th>\n",
       "      <th>cleavage_window_comp</th>\n",
       "      <th>label</th>\n",
       "    </tr>\n",
       "  </thead>\n",
       "  <tbody>\n",
       "    <tr>\n",
       "      <th>0</th>\n",
       "      <td>hsa-let-7a-1</td>\n",
       "      <td>UGGGAUGAGGUAGUAGGUUGUAUAGUUUUAGGGUCACACCCACCAC...</td>\n",
       "      <td>(((((.(((((((((((((((((((((.....(((...((((.......</td>\n",
       "      <td>UAUAGUUUUAGGGU</td>\n",
       "      <td>(((((((.....((</td>\n",
       "      <td>AUAUCAAOOOOOUA</td>\n",
       "      <td>1</td>\n",
       "    </tr>\n",
       "    <tr>\n",
       "      <th>1</th>\n",
       "      <td>hsa-let-7a-2</td>\n",
       "      <td>AGGUUGAGGUAGUAGGUUGUAUAGUUUAGAAUUACAUCAAGGGAGA...</td>\n",
       "      <td>(((..(((.(((.(((((((((((((.........(((......))...</td>\n",
       "      <td>UAUAGUUUAGAAUU</td>\n",
       "      <td>(((((((.......</td>\n",
       "      <td>AUGUCAAOOOOOOO</td>\n",
       "      <td>1</td>\n",
       "    </tr>\n",
       "    <tr>\n",
       "      <th>2</th>\n",
       "      <td>hsa-let-7a-3</td>\n",
       "      <td>GGGUGAGGUAGUAGGUUGUAUAGUUUGGGGCUCUGCCCUGCUAUGG...</td>\n",
       "      <td>(((.(((((((((((((((((((((((((((...)))))).........</td>\n",
       "      <td>UAUAGUUUGGGGCU</td>\n",
       "      <td>(((((((((((((.</td>\n",
       "      <td>AUAUCAAGUCCCGO</td>\n",
       "      <td>1</td>\n",
       "    </tr>\n",
       "    <tr>\n",
       "      <th>3</th>\n",
       "      <td>hsa-let-7b</td>\n",
       "      <td>CGGGGUGAGGUAGUAGGUUGUGUGGUUUCAGGGCAGUGAUGUUGCC...</td>\n",
       "      <td>(((((.(((((((((((((((((((((((.((((((.....)))))...</td>\n",
       "      <td>UGUGGUUUCAGGGC</td>\n",
       "      <td>(((((((((.((((</td>\n",
       "      <td>AUAUCAAGGOCCCG</td>\n",
       "      <td>1</td>\n",
       "    </tr>\n",
       "    <tr>\n",
       "      <th>4</th>\n",
       "      <td>hsa-let-7c</td>\n",
       "      <td>GCAUCCGGGUUGAGGUAGUAGGUUGUAUGGUUUAGAGUUACACCCU...</td>\n",
       "      <td>((.((((((..(((.(((.(((((((((((((..((.(..((...)...</td>\n",
       "      <td>UAUGGUUUAGAGUU</td>\n",
       "      <td>(((((((..((.(.</td>\n",
       "      <td>AUGUCAAOOUUOAO</td>\n",
       "      <td>1</td>\n",
       "    </tr>\n",
       "    <tr>\n",
       "      <th>...</th>\n",
       "      <td>...</td>\n",
       "      <td>...</td>\n",
       "      <td>...</td>\n",
       "      <td>...</td>\n",
       "      <td>...</td>\n",
       "      <td>...</td>\n",
       "      <td>...</td>\n",
       "    </tr>\n",
       "    <tr>\n",
       "      <th>1649</th>\n",
       "      <td>hsa-mir-10399</td>\n",
       "      <td>AAUUACAGAUUGUCUCAGAGAAAACAAAUGAGUUACUCUCUCGGAC...</td>\n",
       "      <td>..((((((.((((((.(((((.(((......)))..))))).))))...</td>\n",
       "      <td>AUUGUCUCAGAGAA</td>\n",
       "      <td>.((((((.(((((.</td>\n",
       "      <td>OAACAGGOUCUCUO</td>\n",
       "      <td>0</td>\n",
       "    </tr>\n",
       "    <tr>\n",
       "      <th>1650</th>\n",
       "      <td>hsa-mir-10400</td>\n",
       "      <td>CGGCGGCGGCGGCUCUGGGCGAGGCGGCGGGGCCUGGGCUCCCGGA...</td>\n",
       "      <td>.(((..((.((.(((.....))).)).))..)))......((((.....</td>\n",
       "      <td>GCGGCUCUGGGCGA</td>\n",
       "      <td>.((.(((.....))</td>\n",
       "      <td>OGCOGAGOOOOOCU</td>\n",
       "      <td>0</td>\n",
       "    </tr>\n",
       "    <tr>\n",
       "      <th>1651</th>\n",
       "      <td>hsa-mir-10401</td>\n",
       "      <td>CGUGUGGGAAGGCGUGGGGUGCGGACCCCGGCCCGACCUCGCCGUC...</td>\n",
       "      <td>((.((((((.(((((.((((.(((...))))))).))...))).))...</td>\n",
       "      <td>GAAGGCGUGGGGUG</td>\n",
       "      <td>((.(((((.((((.</td>\n",
       "      <td>CUOCCGCAOCCCGO</td>\n",
       "      <td>0</td>\n",
       "    </tr>\n",
       "    <tr>\n",
       "      <th>1652</th>\n",
       "      <td>hsa-mir-10396b</td>\n",
       "      <td>CGGCGGGGCUCGGAGCCGGGCUUCGGCCGGGCCCCGGGCCCUCGAC...</td>\n",
       "      <td>(((((((((((((.(((.(((....))).))).)))))))).)).)...</td>\n",
       "      <td>GCUCGGAGCCGGGC</td>\n",
       "      <td>((((((.(((.(((</td>\n",
       "      <td>CGGGCCOCGGOCCG</td>\n",
       "      <td>0</td>\n",
       "    </tr>\n",
       "    <tr>\n",
       "      <th>1653</th>\n",
       "      <td>hsa-mir-11181</td>\n",
       "      <td>GUCUGACCAACCUCCUCCCGCAAACUGUUUUGGCCUCUGAAGGAGG...</td>\n",
       "      <td>((((((((..((((((((..((....((....))...))..)))))...</td>\n",
       "      <td>AACCUCCUCCCGCA</td>\n",
       "      <td>..((((((((..((</td>\n",
       "      <td>OOGGAGGAGGOOGU</td>\n",
       "      <td>0</td>\n",
       "    </tr>\n",
       "  </tbody>\n",
       "</table>\n",
       "<p>1654 rows × 7 columns</p>\n",
       "</div>"
      ],
      "text/plain": [
       "                name                                           sequence  \\\n",
       "0       hsa-let-7a-1  UGGGAUGAGGUAGUAGGUUGUAUAGUUUUAGGGUCACACCCACCAC...   \n",
       "1       hsa-let-7a-2  AGGUUGAGGUAGUAGGUUGUAUAGUUUAGAAUUACAUCAAGGGAGA...   \n",
       "2       hsa-let-7a-3  GGGUGAGGUAGUAGGUUGUAUAGUUUGGGGCUCUGCCCUGCUAUGG...   \n",
       "3         hsa-let-7b  CGGGGUGAGGUAGUAGGUUGUGUGGUUUCAGGGCAGUGAUGUUGCC...   \n",
       "4         hsa-let-7c  GCAUCCGGGUUGAGGUAGUAGGUUGUAUGGUUUAGAGUUACACCCU...   \n",
       "...              ...                                                ...   \n",
       "1649   hsa-mir-10399  AAUUACAGAUUGUCUCAGAGAAAACAAAUGAGUUACUCUCUCGGAC...   \n",
       "1650   hsa-mir-10400  CGGCGGCGGCGGCUCUGGGCGAGGCGGCGGGGCCUGGGCUCCCGGA...   \n",
       "1651   hsa-mir-10401  CGUGUGGGAAGGCGUGGGGUGCGGACCCCGGCCCGACCUCGCCGUC...   \n",
       "1652  hsa-mir-10396b  CGGCGGGGCUCGGAGCCGGGCUUCGGCCGGGCCCCGGGCCCUCGAC...   \n",
       "1653   hsa-mir-11181  GUCUGACCAACCUCCUCCCGCAAACUGUUUUGGCCUCUGAAGGAGG...   \n",
       "\n",
       "                                            dot_bracket cleavage_window  \\\n",
       "0     (((((.(((((((((((((((((((((.....(((...((((.......  UAUAGUUUUAGGGU   \n",
       "1     (((..(((.(((.(((((((((((((.........(((......))...  UAUAGUUUAGAAUU   \n",
       "2     (((.(((((((((((((((((((((((((((...)))))).........  UAUAGUUUGGGGCU   \n",
       "3     (((((.(((((((((((((((((((((((.((((((.....)))))...  UGUGGUUUCAGGGC   \n",
       "4     ((.((((((..(((.(((.(((((((((((((..((.(..((...)...  UAUGGUUUAGAGUU   \n",
       "...                                                 ...             ...   \n",
       "1649  ..((((((.((((((.(((((.(((......)))..))))).))))...  AUUGUCUCAGAGAA   \n",
       "1650  .(((..((.((.(((.....))).)).))..)))......((((.....  GCGGCUCUGGGCGA   \n",
       "1651  ((.((((((.(((((.((((.(((...))))))).))...))).))...  GAAGGCGUGGGGUG   \n",
       "1652  (((((((((((((.(((.(((....))).))).)))))))).)).)...  GCUCGGAGCCGGGC   \n",
       "1653  ((((((((..((((((((..((....((....))...))..)))))...  AACCUCCUCCCGCA   \n",
       "\n",
       "     window_dot_bracket cleavage_window_comp label  \n",
       "0        (((((((.....((       AUAUCAAOOOOOUA     1  \n",
       "1        (((((((.......       AUGUCAAOOOOOOO     1  \n",
       "2        (((((((((((((.       AUAUCAAGUCCCGO     1  \n",
       "3        (((((((((.((((       AUAUCAAGGOCCCG     1  \n",
       "4        (((((((..((.(.       AUGUCAAOOUUOAO     1  \n",
       "...                 ...                  ...   ...  \n",
       "1649     .((((((.(((((.       OAACAGGOUCUCUO     0  \n",
       "1650     .((.(((.....))       OGCOGAGOOOOOCU     0  \n",
       "1651     ((.(((((.((((.       CUOCCGCAOCCCGO     0  \n",
       "1652     ((((((.(((.(((       CGGGCCOCGGOCCG     0  \n",
       "1653     ..((((((((..((       OOGGAGGAGGOOGU     0  \n",
       "\n",
       "[1654 rows x 7 columns]"
      ]
     },
     "execution_count": 6,
     "metadata": {},
     "output_type": "execute_result"
    }
   ],
   "source": [
    "df_res"
   ]
  },
  {
   "cell_type": "code",
   "execution_count": 8,
   "metadata": {},
   "outputs": [],
   "source": [
    "skf = StratifiedKFold(n_splits=5, shuffle=True, random_state=42)\n",
    "for fold, (train_idx, test_idx) in enumerate(skf.split(df_res, df_res['label'])):\n",
    "    df_train = df_res.iloc[train_idx]\n",
    "    df_test = df_res.iloc[test_idx]\n",
    "    os.makedirs(os.path.dirname(path := f\"Dicleave-data/training_5p_{fold}.csv\"), exist_ok=True); df_train.to_csv(path, index=True)\n",
    "    os.makedirs(os.path.dirname(path := f\"Dicleave-data/test_5p_{fold}.csv\"), exist_ok=True); df_test.to_csv(path, index=True)"
   ]
  },
  {
   "cell_type": "code",
   "execution_count": null,
   "metadata": {},
   "outputs": [],
   "source": [
    "# 3p\n",
    "before_center = 7\n",
    "away_cleavage = 6\n",
    "df_temp = df\n",
    "df_temp = df_temp.rename(columns={'Name': 'name', 'Seq': 'sequence', 'SS': 'dot_bracket'})\n",
    "df_temp2 = df_temp.copy()\n",
    "df_temp[[\"cleavage_window\", \"window_dot_bracket\", \"cleavage_window_comp\"]] = df_temp.apply(\n",
    "        lambda row: extract_dicleave_patterns(row, row.miRNA_2_Start-before_center), axis=1, result_type=\"expand\")\n",
    "# https://stackoverflow.com/questions/29517072/add-column-to-dataframe-with-constant-value\n",
    "df_temp['label'] = '1'\n",
    "df_temp2[[\"cleavage_window\", \"window_dot_bracket\", \"cleavage_window_comp\"]] = df_temp2.apply(\n",
    "        lambda row: extract_dicleave_patterns(row, row.miRNA_2_Start-before_center+away_cleavage), axis=1, result_type=\"expand\")\n",
    "df_temp2['label'] = '0'\n",
    "df_res = pd.concat([df_temp, df_temp2], ignore_index=True)\n",
    "df_res = df_res[[\"name\", \"sequence\", \"dot_bracket\", \"cleavage_window\", \"window_dot_bracket\", \"cleavage_window_comp\", \"label\"]]\n",
    "df_res['cleavage_window_comp'] = df_res['cleavage_window_comp'].str.replace('_','O')\n"
   ]
  },
  {
   "cell_type": "code",
   "execution_count": 10,
   "metadata": {},
   "outputs": [],
   "source": [
    "skf = StratifiedKFold(n_splits=5, shuffle=True, random_state=42)\n",
    "for fold, (train_idx, test_idx) in enumerate(skf.split(df_res, df_res['label'])):\n",
    "    df_train = df_res.iloc[train_idx]\n",
    "    df_test = df_res.iloc[test_idx]\n",
    "    os.makedirs(os.path.dirname(path := f\"Dicleave-data/training_3p_{fold}.csv\"), exist_ok=True); df_train.to_csv(path, index=True)\n",
    "    os.makedirs(os.path.dirname(path := f\"Dicleave-data/test_3p_{fold}.csv\"), exist_ok=True); df_test.to_csv(path, index=True)"
   ]
  },
  {
   "cell_type": "code",
   "execution_count": null,
   "metadata": {},
   "outputs": [],
   "source": [
    "# from sklearn.model_selection import train_test_split, cross_val_score\n",
    "# df_res_train, df_res_test = train_test_split(df_res, test_size=0.2, random_state=18)\n",
    "# df_res_train['cleavage_window_comp'] = df_res_train['cleavage_window_comp'].str.replace('_','O')\n",
    "# df_res_test['cleavage_window_comp'] = df_res_test['cleavage_window_comp'].str.replace('_','O')\n",
    "# # df_res_train.to_csv(\"../sota/DiCleave/training_5p.csv\", index=True)\n",
    "# # df_res_test.to_csv(\"../sota/DiCleave/test_5p.csv\", index=True)\n",
    "# os.makedirs(os.path.dirname(path := \"../data/DiCleave/training_5p.csv\"), exist_ok=True); df_res_train.to_csv(path, index=True)\n",
    "# os.makedirs(os.path.dirname(path := \"../data/DiCleave/test_5p.csv\"), exist_ok=True); df_res_test.to_csv(path, index=True)\n",
    "# # os.makedirs(os.path.dirname(path := \"../data/DiCleave/training_5p.csv\"), exist_ok=True); df_res_train.to_csv(path, index=True)\n",
    "# # os.makedirs(os.path.dirname(path := \"../data/DiCleave/test_5p.csv\"), exist_ok=True); df_res_test.to_csv(path, index=True)"
   ]
  },
  {
   "cell_type": "code",
   "execution_count": 11,
   "metadata": {},
   "outputs": [],
   "source": [
    "# Multi\n",
    "# 5p\n",
    "before_center = 7\n",
    "away_cleavage = 6\n",
    "df_temp = df\n",
    "df_temp = df_temp.rename(columns={'Name': 'name', 'Seq': 'sequence', 'SS': 'dot_bracket'})\n",
    "df_temp2 = df_temp.copy()\n",
    "df_temp[[\"cleavage_window\", \"window_dot_bracket\", \"cleavage_window_comp\"]] = df_temp.apply(\n",
    "        lambda row: extract_dicleave_patterns(row, row.miRNA_1_End-before_center), axis=1, result_type=\"expand\")\n",
    "# https://stackoverflow.com/questions/29517072/add-column-to-dataframe-with-constant-value\n",
    "df_temp['label'] = '1'\n",
    "df_temp2[[\"cleavage_window\", \"window_dot_bracket\", \"cleavage_window_comp\"]] = df_temp2.apply(\n",
    "        lambda row: extract_dicleave_patterns(row, row.miRNA_1_End-before_center-away_cleavage), axis=1, result_type=\"expand\")\n",
    "df_temp2['label'] = '0'\n",
    "df_res_5p = pd.concat([df_temp, df_temp2], ignore_index=True)\n",
    "# 3p\n",
    "before_center = 7\n",
    "away_cleavage = 6\n",
    "df_temp = df\n",
    "df_temp = df_temp.rename(columns={'Name': 'name', 'Seq': 'sequence', 'SS': 'dot_bracket'})\n",
    "df_temp2 = df_temp.copy()\n",
    "df_temp[[\"cleavage_window\", \"window_dot_bracket\", \"cleavage_window_comp\"]] = df_temp.apply(\n",
    "        lambda row: extract_dicleave_patterns(row, row.miRNA_2_Start-before_center), axis=1, result_type=\"expand\")\n",
    "# https://stackoverflow.com/questions/29517072/add-column-to-dataframe-with-constant-value\n",
    "df_temp['label'] = '2'\n",
    "df_temp2[[\"cleavage_window\", \"window_dot_bracket\", \"cleavage_window_comp\"]] = df_temp2.apply(\n",
    "        lambda row: extract_dicleave_patterns(row, row.miRNA_2_Start-before_center+away_cleavage), axis=1, result_type=\"expand\")\n",
    "df_temp2['label'] = '0'\n",
    "df_res_3p = pd.concat([df_temp, df_temp2], ignore_index=True)\n",
    "df_res = pd.concat([df_res_3p, df_res_5p], ignore_index=True)\n",
    "df_res = df_res[[\"name\", \"sequence\", \"dot_bracket\", \"cleavage_window\", \"window_dot_bracket\", \"cleavage_window_comp\", \"label\"]]\n",
    "df_res['cleavage_window_comp'] = df_res['cleavage_window_comp'].str.replace('_','O')\n"
   ]
  },
  {
   "cell_type": "code",
   "execution_count": 12,
   "metadata": {},
   "outputs": [
    {
     "data": {
      "application/vnd.microsoft.datawrangler.viewer.v0+json": {
       "columns": [
        {
         "name": "index",
         "rawType": "int64",
         "type": "integer"
        },
        {
         "name": "name",
         "rawType": "string",
         "type": "string"
        },
        {
         "name": "sequence",
         "rawType": "string",
         "type": "string"
        },
        {
         "name": "dot_bracket",
         "rawType": "object",
         "type": "string"
        },
        {
         "name": "cleavage_window",
         "rawType": "object",
         "type": "string"
        },
        {
         "name": "window_dot_bracket",
         "rawType": "object",
         "type": "string"
        },
        {
         "name": "cleavage_window_comp",
         "rawType": "object",
         "type": "string"
        },
        {
         "name": "label",
         "rawType": "object",
         "type": "string"
        }
       ],
       "ref": "93ffb0ce-5229-4082-8358-970bd14442d4",
       "rows": [
        [
         "0",
         "hsa-let-7a-1",
         "UGGGAUGAGGUAGUAGGUUGUAUAGUUUUAGGGUCACACCCACCACUGGGAGAUAACUAUACAAUCUACUGUCUUUCCUA",
         "(((((.(((((((((((((((((((((.....(((...((((....)))).)))))))))))))))))))))))))))))",
         "GAGAUAACUAUACA",
         ").))))))))))))",
         "COCUGUUGAUAUGU",
         "2"
        ],
        [
         "1",
         "hsa-let-7a-2",
         "AGGUUGAGGUAGUAGGUUGUAUAGUUUAGAAUUACAUCAAGGGAGAUAACUGUACAGCCUCCUAGCUUUCCU",
         "(((..(((.(((.(((((((((((((.........(((......)))))))))))))))).))).))).)))",
         "GAGAUAACUGUACA",
         "..))))))))))))",
         "OOCUAUUGAUAUGU",
         "2"
        ],
        [
         "2",
         "hsa-let-7a-3",
         "GGGUGAGGUAGUAGGUUGUAUAGUUUGGGGCUCUGCCCUGCUAUGGGAUAACUAUACAAUCUACUGUCUUUCCU",
         "(((.(((((((((((((((((((((((((((...)))))).........))))))))))))))))))))).)))",
         "GGGAUAACUAUACA",
         ".....)))))))))",
         "OOOOOUUGAUAUGU",
         "2"
        ],
        [
         "3",
         "hsa-let-7b",
         "CGGGGUGAGGUAGUAGGUUGUGUGGUUUCAGGGCAGUGAUGUUGCCCCUCGGAAGAUAACUAUACAACCUACUGCCUUCCCUG",
         "(((((.(((((((((((((((((((((((.((((((.....))))))...))).....)))))))))))))))))))))))))",
         "AAGAUAACUAUACA",
         ").....))))))))",
         "UOOOOOUGGUGUGU",
         "2"
        ],
        [
         "4",
         "hsa-let-7c",
         "GCAUCCGGGUUGAGGUAGUAGGUUGUAUGGUUUAGAGUUACACCCUGGGAGUUAACUGUACAACCUUCUAGCUUUCCUUGGAGC",
         "((.((((((..(((.(((.(((((((((((((..((.(..((...))..).))))))))))))))).))).)))..))))))))",
         "GAGUUAACUGUACA",
         ".).)))))))))))",
         "OUOAGUUGGUAUGU",
         "2"
        ],
        [
         "5",
         "hsa-let-7d",
         "CCUAGGAAGAGGUAGUAGGUUGCAUAGUUUUAGGGCAGGGAUUUUGCCCACAAGGAGGUAACUAUACGACCUGCUGCCUUUCUUAGG",
         "(((((((.((((((((((((((.((((((...((((((.....))))))..........)))))).)))))))))))))))))))))",
         "GAGGUAACUAUACG",
         ".....)))))).))",
         "OOOOOUUGAUAOGU",
         "2"
        ],
        [
         "6",
         "hsa-let-7e",
         "CCCGGGCUGAGGUAGGAGGUUGUAUAGUUGAGGAGGACACCCAAGGAGAUCACUAUACGGCCUCCUAGCUUUCCCCAGG",
         "((.(((..(((.((((((((((((((((.((((.(....))).......)))))))))))))))))).)))..))).))",
         "GAGAUCACUAUACG",
         "....))))))))))",
         "OOOOAGUGAUAUGU",
         "2"
        ],
        [
         "7",
         "hsa-let-7f-1",
         "UCAGAGUGAGGUAGUAGAUUGUAUAGUUGUGGGGUAGUGAUUUUACCCUGUUCAGGAGAUAACUAUACAAUCUAUUGCCUUCCCUGA",
         "((((.(.((((((((((((((((((((((((((((((.....))))))).........))))))))))))))))))))))).)))))",
         "GAGAUAACUAUACA",
         "...)))))))))))",
         "OOOUGUUGAUAUGU",
         "2"
        ],
        [
         "8",
         "hsa-let-7f-2",
         "UGUGGGAUGAGGUAGUAGAUUGUAUAGUUUUAGGGUCAUACCCCAUCUUGGAGAUAACUAUACAGUCUACUGUCUUUCCCACG",
         ".((((((.((((((((((((((((((((((((((((........))))))))....)))))))))))))))))))))))))).",
         "GAGAUAACUAUACA",
         "))....))))))))",
         "UUOOOOUGAUAUGU",
         "2"
        ],
        [
         "9",
         "hsa-mir-15a",
         "CCUUGGAGUAAAGUAGCAGCACAUAAUGGUUUGUGGAUUUUGAAAAGGUGCAGGCCAUAUUGUGCUGCCUCAAAAAUACAAGG",
         "(((((.......(..((((((((..((((((((((.............))))))))))..))))))))..).......)))))",
         "AAAGGUGCAGGCCA",
         ".....)))))))))",
         "OOOOOGUGUUUGGU",
         "2"
        ],
        [
         "10",
         "hsa-mir-16-1",
         "GUCAGCAGUGCCUUAGCAGCACGUAAAUAUUGGCGUUAAGAUUCUAAAAUUAUCUCCAGUAUUAACUGUGCUGCUGAAGUAAGGUUGAC",
         "((((((..(((.((((((((((((.((((((((.(.(((..........))).).)))))))).)).)))))))))).)))..))))))",
         "AUUAUCUCCAGUAU",
         ".))).).)))))))",
         "OAAUOGOGGUUAUA",
         "2"
        ],
        [
         "11",
         "hsa-mir-17",
         "GUCAGAAUAAUGUCAAAGUGCUUACAGUGCAGGUAGUGAUAUGUGCAUCUACUGCAGUGAAGGCACUUGUAGCAUUAUGGUGAC",
         "((((..(((((((..((((((((.((.(((((.(((((.......)).)))))))).)).))))))))...)))))))..))))",
         "UGCAUCUACUGCAG",
         "..)).)))))))).",
         "OOGUOGAUGACGUO",
         "2"
        ],
        [
         "12",
         "hsa-mir-18a",
         "UGUUCUAAGGUGCAUCUAGUGCAGAUAGUGAAGUAGAUUAGCAUCUACUGCCCUAAGUGCUCCUUCUGGCA",
         "((((..((((.((((.(((.((((.(((((..(.....)..)).))))))).))).)))).))))..))))",
         "AGCAUCUACUGCCC",
         "..)).))))))).)",
         "OOGUOGAUGACGOG",
         "2"
        ],
        [
         "13",
         "hsa-mir-19a",
         "GCAGUCCUCUGUUAGUUUUGCAUAGUUGCACUACAAGAAGAAUGUAGUUGUGCAAAUCUAUGCAAAACUGAUGGUGGCCUGC",
         "((((.((.(((((((((((((((((((((((((((.......))))...))))))..))))))))))))))))).)).))))",
         "AUGUAGUUGUGCAA",
         ".))))...))))))",
         "OACAUOOOCACGUU",
         "2"
        ],
        [
         "14",
         "hsa-mir-19b-1",
         "CACUGUUCUAUGGUUAGUUUUGCAGGUUUGCAUCCAGCUGUGUGAUAUUCUGCUGUGCAAAUCCAUGCAAAACUGACUGUGGUAGUG",
         "(((((..(((((((((((((((((((((((((..((((.............)))))))))).)).))))))))))))))))))))))",
         "AUUCUGCUGUGCAA",
         ".....)))))))))",
         "OOOOOCGACACGUU",
         "2"
        ],
        [
         "15",
         "hsa-mir-19b-2",
         "ACAUUGCUACUUACAAUUAGUUUUGCAGGUUUGCAUUUCAGCGUAUAUAUGUAUAUGUGGCUGUGCAAAUCCAUGCAAAACUGAUUGUGAUAAUGU",
         "((((((....((((((((((((((((((((((((((....(((((((....)))))))....))))))).)).)))))))))))))))))))))))",
         "AUGUGGCUGUGCAA",
         "))))....))))))",
         "UGCGOOOOUACGUU",
         "2"
        ],
        [
         "16",
         "hsa-mir-20a",
         "GUAGCACUAAAGUGCUUAUAGUGCAGGUAGUGUUUAGUUAUCUACUGCAUUAUGAGCACUUAAAGUACUGC",
         "((((.(((.(((((((((((((((((.(((...........))))))))))))))))))))..))).))))",
         "GUUAUCUACUGCAU",
         ".....)))))))))",
         "OOOOOGAUGACGUG",
         "2"
        ],
        [
         "17",
         "hsa-mir-21",
         "UGUCGGGUAGCUUAUCAGACUGAUGUUGACUGUUGAAUCUCAUGGCAACACCAGUCGAUGGGCUGUCUGACA",
         "((((((((((((((((.(((((.(((((.((((.((...))))))))))).)))))))))))))))))))))",
         "CUCAUGGCAACACC",
         ".))))))))))).)",
         "OAGUGUCGUUGUOG",
         "2"
        ],
        [
         "18",
         "hsa-mir-22",
         "GGCUGAGCCGCAGUAGUUCUUCAGUGGCAAGCUUUAUGUCCUGACCCAGCUAAAGCUGCCAGUUGAAGAACUGUUGCCCUCUGCC",
         "(((.(((..((((((((((((((((((((.((((((.((.........))))))))))))).))))))))))))))).))).)))",
         "CCAGCUAAAGCUGC",
         "...)))))))))))",
         "OOOUGAUUUCGACG",
         "2"
        ],
        [
         "19",
         "hsa-mir-23a",
         "GGCCGGCUGGGGUUCCUGGGGAUGGGAUUUGCUUCCUGUCACAAAUCACAUUGCCAGGGAUUUCCAACCGACC",
         "((.(((.((((((((((((.((((.((((((..........)))))).)))).))))))).))))).))).))",
         "GUCACAAAUCACAU",
         "....)))))).)))",
         "OOOOGUUUAGOGUA",
         "2"
        ],
        [
         "20",
         "hsa-mir-24-1",
         "CUCCGGUGCCUACUGAGCUGAUAUCAGUUCUCAUUUUACACACUGGCUCAGUUCAGCAGGAACAGGAG",
         "((((.((.(((.(((((((((..(((((.............))))).))))))))).))).)).))))",
         "UACACACUGGCUCA",
         ".....))))).)))",
         "OOOOOUGACUOAGU",
         "2"
        ],
        [
         "21",
         "hsa-mir-24-2",
         "CUCUGCCUCCCGUGCCUACUGAGCUGAAACACAGUUGGUUUGUGUACACUGGCUCAGUUCAGCAGGAACAGGG",
         "(((((..(((.((....(((((((((..((((((.....))))))....)))))))))...)).))).)))))",
         "UGUACACUGGCUCA",
         ")))....)))))))",
         "ACAOOOOGUCGAGU",
         "2"
        ],
        [
         "22",
         "hsa-mir-25",
         "GGCCAGUGUUGAGAGGCGGAGACUUGGGCAAUUGCUGGACGCUGCCCUGGGCAUUGCACUUGUCUCGGUCUGACAGUGCCGGCC",
         "((((.((((((..((((.(((((..(.(((((..((((........))))..))))).)..))))).))))..)))))).))))",
         "CCCUGGGCAUUGCA",
         "..))))..))))).",
         "OOGGUCOOUAACGO",
         "2"
        ],
        [
         "23",
         "hsa-mir-26a-1",
         "GUGGCCUCGUUCAAGUAAUCCAGGAUAGGCUGUGCAGGUCCCAAUGGGCCUAUUCUUGGUUACUUGCACGGGGACGC",
         "(((.((((((.(((((((((.((((((((((...............)))))))))).))))))))).)))))).)))",
         "CAAUGGGCCUAUUC",
         ".....)))))))))",
         "OOOOOUCGGAUAGG",
         "2"
        ],
        [
         "24",
         "hsa-mir-26b",
         "CCGGGACCCAGUUCAAGUAAUUCAGGAUAGGUUGUGUGCUGUCCAGCCUGUUCUCCAUUACUUGGCUCGGGGACCGG",
         "((((..((((((.((((((((..(((((((((((.(......))))))))))))..))))))))))).)))..))))",
         "UGUCCAGCCUGUUC",
         "...)))))))))))",
         "OOOGGUUGGAUAGG",
         "2"
        ],
        [
         "25",
         "hsa-mir-27a",
         "CUGAGGAGCAGGGCUUAGCUGCUUGUGAGCAGGGUCCACACCAAGUCGUGUUCACAGUGGCUAAGUUCCGCCCCCCAG",
         "(((.((.((.(((((((((((((.(((((((.((.(........))).)))))))))))))))))))).)).)).)))",
         "AGUCGUGUUCACAG",
         ".))).)))))))))",
         "OCGGOACGAGUGUC",
         "2"
        ],
        [
         "26",
         "hsa-mir-28",
         "GGUCCUUGCCCUCAAGGAGCUCACAGUCUAUUGAGUUACCUUUCUGACUUUCCCACUAGAUUGUGAGCUCCUGGAGGGCAGGCACU",
         "(((.(((((((((.((((((((((((((((.(((((((......)))))....)).)))))))))))))))).))))))))).)))",
         "ACUUUCCCACUAGA",
         ")))....)).))))",
         "UGAOOOOGUOAUCU",
         "2"
        ],
        [
         "27",
         "hsa-mir-29a",
         "AUGACUGAUUUCUUUUGGUGUUCAGAGUCAAUAUAAUUUUCUAGCACCAUCUGAAAUCGGUUAU",
         "((((((((((((...(((((((.((((...........)))))))))))...))))))))))))",
         "AAUUUUCUAGCACC",
         "....))))))))))",
         "OOOOGAGAUUGUGG",
         "2"
        ],
        [
         "28",
         "hsa-mir-30a",
         "GCGACUGUAAACAUCCUCGACUGGAAGCUGUGAAGCCACAGAUGGGCUUUCAGUCGGAUGUUUGCAGCUGC",
         "(((.((((((((((((..((((((((((((((....))).....))))))))))))))))))))))).)))",
         "AGAUGGGCUUUCAG",
         ".....)))))))))",
         "OOOOOUCGAAGGUC",
         "2"
        ],
        [
         "29",
         "hsa-mir-31",
         "GGAGAGGAGGCAAGAUGCUGGCAUAGCUGUUGAACUGGGAACCUGCUAUGCCAACAUAUUGCCAUCUUUCC",
         "(((((((.(((((.(((.(((((((((.(((........)))..))))))))).))).))))).)))))))",
         "GGGAACCUGCUAUG",
         "...)))..))))))",
         "OOOUUGOOCGAUAC",
         "2"
        ],
        [
         "30",
         "hsa-mir-32",
         "GGAGAUAUUGCACAUUACUAAGUUGCAUGUUGUCACGGCCUCAAUGCAAUUUAGUGUGUGUGAUAUUUUC",
         "(((((((((((((((.(((((((((((((..((....))..).)))))))))))))))))))))))))))",
         "CUCAAUGCAAUUUA",
         "..).))))))))))",
         "OOGOUACGUUGAAU",
         "2"
        ],
        [
         "31",
         "hsa-mir-33a",
         "CUGUGGUGCAUUGUAGUUGCAUUGCAUGUUCUGGUGGUACCCAUGCAAUGUUUCCACAGUGCAUCACAG",
         "((((((((((((((.(..((((((((((....(((...)))))))))))))..).))))))))))))))",
         "ACCCAUGCAAUGUU",
         "))))))))))))).",
         "UGGGUACGUUACGO",
         "2"
        ],
        [
         "32",
         "hsa-mir-92a-1",
         "CUUUCUACACAGGUUGGGAUCGGUUGCAAUGCUGUGUUUCUGUAUGGUAUUGCACUUGUCCCGGCCUGUUGAGUUUGG",
         "....((..((((((((((((.(((.(((((((((((......)))))))))))))).))))))))))))..)).....",
         "UGUAUGGUAUUGCA",
         "..))))))))))))",
         "OOGUGUCGUAACGU",
         "2"
        ],
        [
         "33",
         "hsa-mir-92a-2",
         "UCAUCCCUGGGUGGGGAUUUGUUGCAUUACUUGUGUUCUAUAUAAAGUAUUGCACUUGUCCCGGCCUGUGGAAGA",
         "((.(((.(((((.(((((..((.(((.(((((((((...)))).))))).)))))..))))).))))).))).))",
         "UAUAAAGUAUUGCA",
         "))).))))).))))",
         "GUGOUUCAUOACGU",
         "2"
        ],
        [
         "34",
         "hsa-mir-93",
         "CUGGGGGCUCCAAAGUGCUGUUCGUGCAGGUAGUGUGAUUACCCAACCUACUGCUGAGCUAGCACUUCCCGAGCCCCCGG",
         "((((((((((..((((((((((((.((((.(((.((.........)))))))))))))).)))))))...))))))))))",
         "CCAACCUACUGCUG",
         "...)))))))))))",
         "OOOUGGAUGACGGC",
         "2"
        ],
        [
         "35",
         "hsa-mir-95",
         "AACACAGUGGGCACUCAAUAAAUGUCUGUUGAAUUGAAAUGCGUUACAUUCAACGGGUAUUUAUUGAGCACCCACUCUGUG",
         ".(((.((((((..((((((((((((((((((((((((......))).)))))))))))))))))))))..)))))).))).",
         "CGUUACAUUCAACG",
         "..))).))))))))",
         "OOAGUOUAAGUUGU",
         "2"
        ],
        [
         "36",
         "hsa-mir-96",
         "UGGCCGAUUUUGGCACUAGCACAUUUUUGCUUGUGUCUCUCCGCUCUGAGCAAUCAUGUGCAGUGCCAAUAUGGGAAA",
         "...((.((.((((((((.((((((..(((((((((......)))...))))))..)))))))))))))).)).))...",
         "UCUGAGCAAUCAUG",
         "...))))))..)))",
         "OOOUUCGUUOOUAC",
         "2"
        ],
        [
         "37",
         "hsa-mir-98",
         "AGGAUUCUGCUCAUGCCAGGGUGAGGUAGUAAGUUGUAUUGUUGUGGGGUAGGGAUAUUAGGCCCCAAUUAGAAGAUAACUAUACAACUUACUACUUUCCCUGGUGUGUGGCAUAUUCA",
         ".((((..((((((((((((((.(((((((((((((((((.((((((((((...........)))))).........)))).))))))))))))))))))))))))))).)))).)))).",
         "AAGAUAACUAUACA",
         "....)))).)))))",
         "OOOOGUUGOUAUGU",
         "2"
        ],
        [
         "38",
         "hsa-mir-99a",
         "CCCAUUGGCAUAAACCCGUAGAUCCGAUCUUGUGGUGAAGUGGACCGCACAAGCUCGCUUCUAUGGGUCUGUGUCAGUGUG",
         "..((((((((((.(((((((((..(((.((((((.((........)))))))).)))..))))))))).))))))))))..",
         "GACCGCACAAGCUC",
         "...)))))))).))",
         "OOOGUGUGUUCOAG",
         "2"
        ],
        [
         "39",
         "hsa-mir-100",
         "CCUGUUGCCACAAACCCGUAGAUCCGAACUUGUGGUAUUAGUCCGCACAAGCUUGUAUCUAUAGGUAUGUGUCUGUUAGG",
         "((((....((((.(((.((((((.(((.((((((...........)))))).))).)))))).))).)))).....))))",
         "GUCCGCACAAGCUU",
         ".....)))))).))",
         "OOOOOGUGUUCOAG",
         "2"
        ],
        [
         "40",
         "hsa-mir-101-1",
         "UGCCCUGGCUCAGUUAUCACAGUGCUGAUGCUGUCUAUUCUAAAGGUACAGUACUGUGAUAACUGAAGGAUGGCA",
         "((((.....((((((((((((((((((.((((............)))))))))))))))))))))).....))))",
         "CUAAAGGUACAGUA",
         ".....)))))))))",
         "OOOOOUCGUGUCGU",
         "2"
        ],
        [
         "41",
         "hsa-mir-29b-1",
         "CUUCAGGAAGCUGGUUUCAUAUGGUGGUUUAGAUUUAAAUAGUGAUUGUCUAGCACCAUUUGAAAUCAGUGUUCUUGGGGG",
         "(((((((((((((((((((.((((((..((((((.............)))))))))))).)))))))))).))))))))).",
         "GAUUGUCUAGCACC",
         "....))))))))))",
         "OOOOUAGAUUGUGG",
         "2"
        ],
        [
         "42",
         "hsa-mir-29b-2",
         "CUUCUGGAAGCUGGUUUCACAUGGUGGCUUAGAUUUUUCCAUCUUUGUAUCUAGCACCAUUUGAAAUCAGUGUUUUAGGAG",
         "(((((((((((((((((((.((((((.((.((((..............)))))))))))).)))))))))).)))))))))",
         "UUGUAUCUAGCACC",
         "....))))))))))",
         "OOOOUAGAUCGUGG",
         "2"
        ],
        [
         "43",
         "hsa-mir-103a-2",
         "UUGUGCUUUCAGCUUCUUUACAGUGCUGCCUUGUAGCAUUCAGGUCAAGCAGCAUUGUACAGGGCUAUGAAAGAACCA",
         "..((.(((((((((.((.(((((((((((.(((.(.(.....).))))))))))))))).)))))..)))))).))..",
         "CAGGUCAAGCAGCA",
         "..).))))))))))",
         "OOCOAGUUCGUCGU",
         "2"
        ],
        [
         "44",
         "hsa-mir-105-1",
         "UGUGCAUCGUGGUCAAAUGCUCAGACUCCUGUGGUGGCUGCUCAUGCACCACGGAUGUUUGAGCAUGUGCUACGGUGUCUA",
         "...(((((((((.((.((((((((((..((((((((..........))))))))..)))))))))).)))))))))))...",
         "AUGCACCACGGAUG",
         "...))))))))..)",
         "OOOGUGGUGUCOOC",
         "2"
        ],
        [
         "45",
         "hsa-mir-105-2",
         "UGUGCAUCGUGGUCAAAUGCUCAGACUCCUGUGGUGGCUGCUUAUGCACCACGGAUGUUUGAGCAUGUGCUAUGGUGUCUA",
         "...(((((((((.((.((((((((((..((((((((..........))))))))..)))))))))).)))))))))))...",
         "AUGCACCACGGAUG",
         "...))))))))..)",
         "OOOGUGGUGUCOOC",
         "2"
        ],
        [
         "46",
         "hsa-mir-106a",
         "CCUUGGCCAUGUAAAAGUGCUUACAGUGCAGGUAGCUUUUUGAGAUCUACUGCAAUGUAAGCACUUCUUACAUUACCAUGG",
         "((.(((..(((((((((((((((((.(((((.(((.(((...))).)))))))).))))))))))).))))))..))).))",
         "AGAUCUACUGCAAU",
         "))).)))))))).)",
         "UUUOGAUGACGUOA",
         "2"
        ],
        [
         "47",
         "hsa-mir-16-2",
         "GUUCCACUCUAGCAGCACGUAAAUAUUGGCGUAGUGAAAUAUAUAUUAAACACCAAUAUUACUGUGCUGCUUUAGUGUGAC",
         "(((.((((..(((((((((..((((((((.((.................)).))))))))..)))))))))..)))).)))",
         "UUAAACACCAAUAU",
         "....)).)))))))",
         "OOOOUGOGGUUAUA",
         "2"
        ],
        [
         "48",
         "hsa-mir-192",
         "GCCGAGACCGAGUGCACAGGGCUCUGACCUAUGAAUUGACAGCCAGUGCUCUCGUCUCCCCUCUGGCUGCCAAUUCCAUAGGUCACAGGUAUGUUCGCCUCAAUGCCAGC",
         ".........(((.(((((.(.((.((((((((((((((.(((((((................))))))).))))).))))))))).)).).)))..))))).........",
         "CCUCUGGCUGCCAA",
         "...))))))).)))",
         "OOOGACCGACOGUU",
         "2"
        ],
        [
         "49",
         "hsa-mir-199a-1",
         "GCCAACCCAGUGUUCAGACUACCUGUUCAGGAGGCUCUCAAUGUGUACAGUAGUCUGCACAUUGGUUAGGC",
         "(((...(((((((.((((((((.(((.((.(((...)))..))...))))))))))).)))))))...)))",
         "AAUGUGUACAGUAG",
         "..))...)))))))",
         "OOACOOOUGUCAUC",
         "2"
        ]
       ],
       "shape": {
        "columns": 7,
        "rows": 3308
       }
      },
      "text/html": [
       "<div>\n",
       "<style scoped>\n",
       "    .dataframe tbody tr th:only-of-type {\n",
       "        vertical-align: middle;\n",
       "    }\n",
       "\n",
       "    .dataframe tbody tr th {\n",
       "        vertical-align: top;\n",
       "    }\n",
       "\n",
       "    .dataframe thead th {\n",
       "        text-align: right;\n",
       "    }\n",
       "</style>\n",
       "<table border=\"1\" class=\"dataframe\">\n",
       "  <thead>\n",
       "    <tr style=\"text-align: right;\">\n",
       "      <th></th>\n",
       "      <th>name</th>\n",
       "      <th>sequence</th>\n",
       "      <th>dot_bracket</th>\n",
       "      <th>cleavage_window</th>\n",
       "      <th>window_dot_bracket</th>\n",
       "      <th>cleavage_window_comp</th>\n",
       "      <th>label</th>\n",
       "    </tr>\n",
       "  </thead>\n",
       "  <tbody>\n",
       "    <tr>\n",
       "      <th>0</th>\n",
       "      <td>hsa-let-7a-1</td>\n",
       "      <td>UGGGAUGAGGUAGUAGGUUGUAUAGUUUUAGGGUCACACCCACCAC...</td>\n",
       "      <td>(((((.(((((((((((((((((((((.....(((...((((.......</td>\n",
       "      <td>GAGAUAACUAUACA</td>\n",
       "      <td>).))))))))))))</td>\n",
       "      <td>COCUGUUGAUAUGU</td>\n",
       "      <td>2</td>\n",
       "    </tr>\n",
       "    <tr>\n",
       "      <th>1</th>\n",
       "      <td>hsa-let-7a-2</td>\n",
       "      <td>AGGUUGAGGUAGUAGGUUGUAUAGUUUAGAAUUACAUCAAGGGAGA...</td>\n",
       "      <td>(((..(((.(((.(((((((((((((.........(((......))...</td>\n",
       "      <td>GAGAUAACUGUACA</td>\n",
       "      <td>..))))))))))))</td>\n",
       "      <td>OOCUAUUGAUAUGU</td>\n",
       "      <td>2</td>\n",
       "    </tr>\n",
       "    <tr>\n",
       "      <th>2</th>\n",
       "      <td>hsa-let-7a-3</td>\n",
       "      <td>GGGUGAGGUAGUAGGUUGUAUAGUUUGGGGCUCUGCCCUGCUAUGG...</td>\n",
       "      <td>(((.(((((((((((((((((((((((((((...)))))).........</td>\n",
       "      <td>GGGAUAACUAUACA</td>\n",
       "      <td>.....)))))))))</td>\n",
       "      <td>OOOOOUUGAUAUGU</td>\n",
       "      <td>2</td>\n",
       "    </tr>\n",
       "    <tr>\n",
       "      <th>3</th>\n",
       "      <td>hsa-let-7b</td>\n",
       "      <td>CGGGGUGAGGUAGUAGGUUGUGUGGUUUCAGGGCAGUGAUGUUGCC...</td>\n",
       "      <td>(((((.(((((((((((((((((((((((.((((((.....)))))...</td>\n",
       "      <td>AAGAUAACUAUACA</td>\n",
       "      <td>).....))))))))</td>\n",
       "      <td>UOOOOOUGGUGUGU</td>\n",
       "      <td>2</td>\n",
       "    </tr>\n",
       "    <tr>\n",
       "      <th>4</th>\n",
       "      <td>hsa-let-7c</td>\n",
       "      <td>GCAUCCGGGUUGAGGUAGUAGGUUGUAUGGUUUAGAGUUACACCCU...</td>\n",
       "      <td>((.((((((..(((.(((.(((((((((((((..((.(..((...)...</td>\n",
       "      <td>GAGUUAACUGUACA</td>\n",
       "      <td>.).)))))))))))</td>\n",
       "      <td>OUOAGUUGGUAUGU</td>\n",
       "      <td>2</td>\n",
       "    </tr>\n",
       "    <tr>\n",
       "      <th>...</th>\n",
       "      <td>...</td>\n",
       "      <td>...</td>\n",
       "      <td>...</td>\n",
       "      <td>...</td>\n",
       "      <td>...</td>\n",
       "      <td>...</td>\n",
       "      <td>...</td>\n",
       "    </tr>\n",
       "    <tr>\n",
       "      <th>3303</th>\n",
       "      <td>hsa-mir-10399</td>\n",
       "      <td>AAUUACAGAUUGUCUCAGAGAAAACAAAUGAGUUACUCUCUCGGAC...</td>\n",
       "      <td>..((((((.((((((.(((((.(((......)))..))))).))))...</td>\n",
       "      <td>AUUGUCUCAGAGAA</td>\n",
       "      <td>.((((((.(((((.</td>\n",
       "      <td>OAACAGGOUCUCUO</td>\n",
       "      <td>0</td>\n",
       "    </tr>\n",
       "    <tr>\n",
       "      <th>3304</th>\n",
       "      <td>hsa-mir-10400</td>\n",
       "      <td>CGGCGGCGGCGGCUCUGGGCGAGGCGGCGGGGCCUGGGCUCCCGGA...</td>\n",
       "      <td>.(((..((.((.(((.....))).)).))..)))......((((.....</td>\n",
       "      <td>GCGGCUCUGGGCGA</td>\n",
       "      <td>.((.(((.....))</td>\n",
       "      <td>OGCOGAGOOOOOCU</td>\n",
       "      <td>0</td>\n",
       "    </tr>\n",
       "    <tr>\n",
       "      <th>3305</th>\n",
       "      <td>hsa-mir-10401</td>\n",
       "      <td>CGUGUGGGAAGGCGUGGGGUGCGGACCCCGGCCCGACCUCGCCGUC...</td>\n",
       "      <td>((.((((((.(((((.((((.(((...))))))).))...))).))...</td>\n",
       "      <td>GAAGGCGUGGGGUG</td>\n",
       "      <td>((.(((((.((((.</td>\n",
       "      <td>CUOCCGCAOCCCGO</td>\n",
       "      <td>0</td>\n",
       "    </tr>\n",
       "    <tr>\n",
       "      <th>3306</th>\n",
       "      <td>hsa-mir-10396b</td>\n",
       "      <td>CGGCGGGGCUCGGAGCCGGGCUUCGGCCGGGCCCCGGGCCCUCGAC...</td>\n",
       "      <td>(((((((((((((.(((.(((....))).))).)))))))).)).)...</td>\n",
       "      <td>GCUCGGAGCCGGGC</td>\n",
       "      <td>((((((.(((.(((</td>\n",
       "      <td>CGGGCCOCGGOCCG</td>\n",
       "      <td>0</td>\n",
       "    </tr>\n",
       "    <tr>\n",
       "      <th>3307</th>\n",
       "      <td>hsa-mir-11181</td>\n",
       "      <td>GUCUGACCAACCUCCUCCCGCAAACUGUUUUGGCCUCUGAAGGAGG...</td>\n",
       "      <td>((((((((..((((((((..((....((....))...))..)))))...</td>\n",
       "      <td>AACCUCCUCCCGCA</td>\n",
       "      <td>..((((((((..((</td>\n",
       "      <td>OOGGAGGAGGOOGU</td>\n",
       "      <td>0</td>\n",
       "    </tr>\n",
       "  </tbody>\n",
       "</table>\n",
       "<p>3308 rows × 7 columns</p>\n",
       "</div>"
      ],
      "text/plain": [
       "                name                                           sequence  \\\n",
       "0       hsa-let-7a-1  UGGGAUGAGGUAGUAGGUUGUAUAGUUUUAGGGUCACACCCACCAC...   \n",
       "1       hsa-let-7a-2  AGGUUGAGGUAGUAGGUUGUAUAGUUUAGAAUUACAUCAAGGGAGA...   \n",
       "2       hsa-let-7a-3  GGGUGAGGUAGUAGGUUGUAUAGUUUGGGGCUCUGCCCUGCUAUGG...   \n",
       "3         hsa-let-7b  CGGGGUGAGGUAGUAGGUUGUGUGGUUUCAGGGCAGUGAUGUUGCC...   \n",
       "4         hsa-let-7c  GCAUCCGGGUUGAGGUAGUAGGUUGUAUGGUUUAGAGUUACACCCU...   \n",
       "...              ...                                                ...   \n",
       "3303   hsa-mir-10399  AAUUACAGAUUGUCUCAGAGAAAACAAAUGAGUUACUCUCUCGGAC...   \n",
       "3304   hsa-mir-10400  CGGCGGCGGCGGCUCUGGGCGAGGCGGCGGGGCCUGGGCUCCCGGA...   \n",
       "3305   hsa-mir-10401  CGUGUGGGAAGGCGUGGGGUGCGGACCCCGGCCCGACCUCGCCGUC...   \n",
       "3306  hsa-mir-10396b  CGGCGGGGCUCGGAGCCGGGCUUCGGCCGGGCCCCGGGCCCUCGAC...   \n",
       "3307   hsa-mir-11181  GUCUGACCAACCUCCUCCCGCAAACUGUUUUGGCCUCUGAAGGAGG...   \n",
       "\n",
       "                                            dot_bracket cleavage_window  \\\n",
       "0     (((((.(((((((((((((((((((((.....(((...((((.......  GAGAUAACUAUACA   \n",
       "1     (((..(((.(((.(((((((((((((.........(((......))...  GAGAUAACUGUACA   \n",
       "2     (((.(((((((((((((((((((((((((((...)))))).........  GGGAUAACUAUACA   \n",
       "3     (((((.(((((((((((((((((((((((.((((((.....)))))...  AAGAUAACUAUACA   \n",
       "4     ((.((((((..(((.(((.(((((((((((((..((.(..((...)...  GAGUUAACUGUACA   \n",
       "...                                                 ...             ...   \n",
       "3303  ..((((((.((((((.(((((.(((......)))..))))).))))...  AUUGUCUCAGAGAA   \n",
       "3304  .(((..((.((.(((.....))).)).))..)))......((((.....  GCGGCUCUGGGCGA   \n",
       "3305  ((.((((((.(((((.((((.(((...))))))).))...))).))...  GAAGGCGUGGGGUG   \n",
       "3306  (((((((((((((.(((.(((....))).))).)))))))).)).)...  GCUCGGAGCCGGGC   \n",
       "3307  ((((((((..((((((((..((....((....))...))..)))))...  AACCUCCUCCCGCA   \n",
       "\n",
       "     window_dot_bracket cleavage_window_comp label  \n",
       "0        ).))))))))))))       COCUGUUGAUAUGU     2  \n",
       "1        ..))))))))))))       OOCUAUUGAUAUGU     2  \n",
       "2        .....)))))))))       OOOOOUUGAUAUGU     2  \n",
       "3        ).....))))))))       UOOOOOUGGUGUGU     2  \n",
       "4        .).)))))))))))       OUOAGUUGGUAUGU     2  \n",
       "...                 ...                  ...   ...  \n",
       "3303     .((((((.(((((.       OAACAGGOUCUCUO     0  \n",
       "3304     .((.(((.....))       OGCOGAGOOOOOCU     0  \n",
       "3305     ((.(((((.((((.       CUOCCGCAOCCCGO     0  \n",
       "3306     ((((((.(((.(((       CGGGCCOCGGOCCG     0  \n",
       "3307     ..((((((((..((       OOGGAGGAGGOOGU     0  \n",
       "\n",
       "[3308 rows x 7 columns]"
      ]
     },
     "execution_count": 12,
     "metadata": {},
     "output_type": "execute_result"
    }
   ],
   "source": [
    "df_res"
   ]
  },
  {
   "cell_type": "code",
   "execution_count": 13,
   "metadata": {},
   "outputs": [],
   "source": [
    "skf = StratifiedKFold(n_splits=5, shuffle=True, random_state=42)\n",
    "for fold, (train_idx, test_idx) in enumerate(skf.split(df_res, df_res['label'])):\n",
    "    df_train = df_res.iloc[train_idx]\n",
    "    df_test = df_res.iloc[test_idx]\n",
    "    os.makedirs(os.path.dirname(path := f\"Dicleave-data/training_multi_{fold}.csv\"), exist_ok=True); df_train.to_csv(path, index=True)\n",
    "    os.makedirs(os.path.dirname(path := f\"Dicleave-data/test_multi_{fold}.csv\"), exist_ok=True); df_test.to_csv(path, index=True)"
   ]
  },
  {
   "cell_type": "code",
   "execution_count": null,
   "metadata": {},
   "outputs": [],
   "source": []
  },
  {
   "cell_type": "markdown",
   "metadata": {},
   "source": [
    "# Evaluate result"
   ]
  },
  {
   "cell_type": "code",
   "execution_count": 18,
   "metadata": {},
   "outputs": [],
   "source": [
    "# 3p and 5p"
   ]
  },
  {
   "cell_type": "code",
   "execution_count": 19,
   "metadata": {},
   "outputs": [
    {
     "name": "stdout",
     "output_type": "stream",
     "text": [
      "0.8666666666666667 0.9333333333333333 0.8 0.8571428571428571 0.7399400733959437\n"
     ]
    }
   ],
   "source": [
    "# Apply this for the 5 set, each for 3p and 5p\n",
    "df_test = pd.read_csv('DiCleave-data/test_3p_4.csv')\n",
    "y_true = df_test[['label']].copy()\n",
    "y_true\n",
    "y_pred = pd.read_csv('DiCleave-data/training_3p_4_model/model_1_result.txt', skiprows=2, header=None)\n",
    "y_pred.columns = ['label']\n",
    "y_pred\n",
    "\n",
    "tn, fp, fn, tp = confusion_matrix(y_true, y_pred).ravel()\n",
    "accuracy = (tp + tn) / (tp + tn + fp + fn)\n",
    "specificity = tn / (tn+fp)\n",
    "sensitivity = tp / (tp+fn)\n",
    "f1_score = 2 * tp / (2 * tp + fp + fn)\n",
    "mcc = matthews_corrcoef(y_true, y_pred)\n",
    "print(accuracy, specificity, sensitivity, f1_score, mcc)\n",
    "# Result\n",
    "# 5p_0: 0.8277945619335347 0.7575757575757576 0.8975903614457831 0.8394366197183099 0.6618695056324055\n",
    "# 5p_1: 0.8429003021148036 0.7515151515151515 0.9337349397590361 0.856353591160221 0.697188473308243\n",
    "# 5p_2: 0.7764350453172205 0.5963855421686747 0.9575757575757575 0.8102564102564103 0.5936510632926744\n",
    "# 5p_3: 0.8217522658610272 0.927710843373494 0.7151515151515152 0.8 0.6581794350553273\n",
    "# 5p_4: 0.8212121212121212 0.9151515151515152 0.7272727272727273 0.802675585284281 0.6540718079401727\n",
    "\n",
    "# 3p_0: 0.8580060422960725 0.8484848484848485 0.8674698795180723 0.8597014925373134 0.7161116152027885\n",
    "# 3p_1: 0.8489425981873112 0.8545454545454545 0.8433734939759037 0.8484848484848485 0.6979444307109178\n",
    "# 3p_2: 0.8851963746223565 0.8734939759036144 0.896969696969697 0.8862275449101796 0.7706325046213385\n",
    "# 3p_3: 0.8126888217522659 0.9457831325301205 0.6787878787878788 0.7832167832167832 0.6484485250159162\n",
    "# 3p_4: 0.8666666666666667 0.9333333333333333 0.8 0.8571428571428571 0.7399400733959437"
   ]
  },
  {
   "cell_type": "code",
   "execution_count": 32,
   "metadata": {},
   "outputs": [],
   "source": [
    " from sklearn.metrics import (\n",
    "        accuracy_score, recall_score, f1_score,\n",
    "        matthews_corrcoef, confusion_matrix\n",
    "    )"
   ]
  },
  {
   "cell_type": "code",
   "execution_count": 38,
   "metadata": {},
   "outputs": [],
   "source": [
    "def multiclass_specificity(cm):\n",
    "    FP = cm.sum(axis=0) - np.diag(cm)\n",
    "    TN = cm.sum() - (FP + cm.sum(axis=1) - np.diag(cm) + np.diag(cm))\n",
    "    return np.mean(TN / (TN + FP))"
   ]
  },
  {
   "cell_type": "code",
   "execution_count": 48,
   "metadata": {},
   "outputs": [
    {
     "name": "stdout",
     "output_type": "stream",
     "text": [
      "0.8199697428139183 0.894672531769306 0.8041746772864599 0.8152999994388557 0.7096916354214782\n"
     ]
    }
   ],
   "source": [
    "# Mutli\n",
    "df_test = pd.read_csv('DiCleave-data/test_multi_4.csv')\n",
    "y_true = df_test[['label']].copy()\n",
    "y_true\n",
    "y_pred = pd.read_csv('DiCleave-data/training_multi_4_model/model_1_result.txt', skiprows=2, header=None)\n",
    "y_pred.columns = ['label']\n",
    "y_pred\n",
    "accuracy = accuracy_score(y_true, y_pred)\n",
    "\n",
    "sensitivity = recall_score(y_true, y_pred, average=\"macro\")\n",
    "f1 = f1_score(y_true, y_pred, average=\"macro\")\n",
    "mcc = matthews_corrcoef(y_true, y_pred)\n",
    "\n",
    "cm = confusion_matrix(y_true, y_pred)\n",
    "specificity = multiclass_specificity(cm)\n",
    "print(accuracy, specificity, sensitivity, f1, mcc)\n",
    "# Result\n",
    "# multi_0: 0.8806646525679759 0.9378945316965628 0.8892665967357481 0.8800017154773756 0.8124776801389478\n",
    "# multi_1: 0.8761329305135952 0.9263019821220365 0.8602896434221735 0.8733666879462872 0.8007713097418911\n",
    "# multi_2: 0.8640483383685801 0.9284866117734246 0.8740999335619509 0.8649353706557097 0.7867447278557491\n",
    "# multi_3: 0.6641452344931922 0.787589605734767 0.5849491897830267 0.5191238763345025 0.4660830645093024\n",
    "# multi_4: 0.8199697428139183 0.894672531769306 0.8041746772864599 0.8152999994388557 0.7096916354214782"
   ]
  },
  {
   "cell_type": "code",
   "execution_count": null,
   "metadata": {},
   "outputs": [],
   "source": []
  },
  {
   "cell_type": "code",
   "execution_count": null,
   "metadata": {},
   "outputs": [],
   "source": []
  },
  {
   "cell_type": "code",
   "execution_count": null,
   "metadata": {},
   "outputs": [],
   "source": []
  },
  {
   "cell_type": "code",
   "execution_count": null,
   "metadata": {},
   "outputs": [],
   "source": []
  },
  {
   "cell_type": "code",
   "execution_count": null,
   "metadata": {},
   "outputs": [],
   "source": []
  },
  {
   "cell_type": "code",
   "execution_count": null,
   "metadata": {},
   "outputs": [],
   "source": []
  }
 ],
 "metadata": {
  "kernelspec": {
   "display_name": "mtsccleave",
   "language": "python",
   "name": "python3"
  },
  "language_info": {
   "codemirror_mode": {
    "name": "ipython",
    "version": 3
   },
   "file_extension": ".py",
   "mimetype": "text/x-python",
   "name": "python",
   "nbconvert_exporter": "python",
   "pygments_lexer": "ipython3",
   "version": "3.12.11"
  }
 },
 "nbformat": 4,
 "nbformat_minor": 2
}
