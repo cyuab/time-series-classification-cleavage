{
 "cells": [
  {
   "cell_type": "markdown",
   "metadata": {},
   "source": [
    "# Time Series Classification, Regression, Clustering & More\n"
   ]
  },
  {
   "attachments": {},
   "cell_type": "markdown",
   "metadata": {},
   "source": [
    "### Overview of this notebook\n",
    "\n",
    "* Introduction to time series classification, regression, clustering\n",
    "* `sktime` data format fo \"time series panels\" = collections of time series\n",
    "* Basic vignettes for TSC, TSR, TSCl\n",
    "* Advanced vignettes - pipelines, ensembles, tuning"
   ]
  },
  {
   "attachments": {},
   "cell_type": "markdown",
   "metadata": {},
   "source": [
    "\n",
    "Deal with *collections of time series* = \"panel data\"\n",
    "\n",
    "Classification = try to assign one *category* per time series, after training on time series/category examples\n",
    "\n",
    "- Example: Daily energy consumption profile over time - Predict season, e.g., winter/summer, or type of consumer\n",
    "\n",
    "Regression = try to assign one continuous *numerical value* per time series, after training on time series/category examples\n",
    "\n",
    "- Example: Temperature/pressure/time profile of chemical reactor - Predict total purity (fraction of 1)\n",
    "\n",
    "Clustering = put different time series in a small number of similarity buckets\n",
    "\n",
    "- Example: Service Level Agreement (SLA) Breaches - Group the collected Panel data to identify common reasons for SLA failures"
   ]
  },
  {
   "cell_type": "markdown",
   "metadata": {},
   "source": [
    "Time Series Classification:\n",
    "\n",
    "<img src=\"./img/tsc.png\" width=\"600\" alt=\"time series classification\"> [<i>&#x200B;</i>](./img/tsc.png)"
   ]
  },
  {
   "cell_type": "code",
   "execution_count": 1,
   "metadata": {},
   "outputs": [],
   "source": [
    "import numpy as np\n",
    "import pandas as pd\n",
    "\n",
    "# Increase display width\n",
    "pd.set_option(\"display.width\", 1000)"
   ]
  },
  {
   "attachments": {},
   "cell_type": "markdown",
   "metadata": {},
   "source": [
    "## 2.1 Panel data - `sktime` data formats <a name=\"panel\"></a>\n",
    "\n",
    "`Panel` is an abstract data type where the values are observed for:\n",
    "\n",
    "* `instance`, e.g., patient\n",
    "* `variable`, e.g., blood pressure, body temperature of the patient\n",
    "* `time`/`index`, e.g., January 12, 2023 (usually but not necessarily a time index!)\n",
    "\n",
    "One value X is: \"patient 'A' had blood pressure 'X' on January 12, 2023\"\n",
    "\n",
    "Time series classification, regression, clustering: slices `Panel` data by instance"
   ]
  },
  {
   "cell_type": "markdown",
   "metadata": {},
   "source": [
    "\n",
    "Preferred format 1: `pd.DataFrame` with 2-level `MultiIndex`, (instance, time) and columns: variables\n",
    "\n",
    "Preferred format 2: 3D `np.ndarray` with index (instance, variable, time)\n",
    "\n",
    "* `sktime` supports and recognizes multiple data formats for convenience and internal use, e.g., `dask`, `xarray`\n",
    "* abstract data type = \"scitype\"; in-memory specification = \"mtype\"\n",
    "* More information in tutorial on [in-memory data representations and data loading](https://www.sktime.net/en/latest/examples/AA_datatypes_and_datasets.html#In-memory-data-representations-and-data-loading)"
   ]
  },
  {
   "attachments": {},
   "cell_type": "markdown",
   "metadata": {},
   "source": [
    "### 2.1.1 Preferred format 1 - `pd-multiindex` specification"
   ]
  },
  {
   "attachments": {},
   "cell_type": "markdown",
   "metadata": {},
   "source": [
    "`pd-multiindex` = `pd.DataFrame` with 2-level `MultiIndex`, (instance, time) and columns: variables"
   ]
  },
  {
   "cell_type": "code",
   "execution_count": 2,
   "metadata": {},
   "outputs": [],
   "source": [
    "from sktime.datasets import load_italy_power_demand\n",
    "\n",
    "# load an example time series panel in pd-multiindex mtype\n",
    "X, _ = load_italy_power_demand(return_type=\"pd-multiindex\")\n",
    "\n",
    "# renaming columns for illustrative purposes\n",
    "X.columns = [\"total_power_demand\"]\n",
    "X.index.names = [\"day_ID\", \"hour_of_day\"]"
   ]
  },
  {
   "attachments": {},
   "cell_type": "markdown",
   "metadata": {},
   "source": [
    "The Italy power demand dataset has:\n",
    "\n",
    "* 1096 individual time series instances = single days of total power demand (mean subtracted)\n",
    "* one single variable per time series instances, `total_power_demand`\n",
    "    * total power demand on that day, in that hourly period\n",
    "    * Since there's only one column, it is a univariate dataset\n",
    "* individual time series are observed at 24 time (period) points (the same number for all instances)\n",
    "\n",
    "In the dataset, days are jumbled and of different scope (independent sampling).\n",
    "* considered independent - because `hour_of_day` in one sample doesn't affect `hour_of_day` in another\n",
    "* for task, e.g., \"identify season or weekday/weekend from pattern\""
   ]
  },
  {
   "cell_type": "code",
   "execution_count": 3,
   "metadata": {},
   "outputs": [
    {
     "data": {
      "text/plain": [
       "26280"
      ]
     },
     "execution_count": 3,
     "metadata": {},
     "output_type": "execute_result"
    }
   ],
   "source": [
    "1095*24"
   ]
  },
  {
   "cell_type": "code",
   "execution_count": 4,
   "metadata": {},
   "outputs": [
    {
     "data": {
      "application/vnd.microsoft.datawrangler.viewer.v0+json": {
       "columns": [
        {
         "name": "('day_ID', 'hour_of_day')",
         "rawType": "object",
         "type": "unknown"
        },
        {
         "name": "total_power_demand",
         "rawType": "float64",
         "type": "float"
        }
       ],
       "ref": "46ef44ae-d92e-4496-aa9b-788efee99d22",
       "rows": [
        [
         "(np.int64(0), np.int64(0))",
         "-0.71051757"
        ],
        [
         "(np.int64(0), np.int64(1))",
         "-1.1833204"
        ],
        [
         "(np.int64(0), np.int64(2))",
         "-1.3724416"
        ],
        [
         "(np.int64(0), np.int64(3))",
         "-1.5930829"
        ],
        [
         "(np.int64(0), np.int64(4))",
         "-1.4670021"
        ],
        [
         "(np.int64(0), np.int64(5))",
         "-1.3724416"
        ],
        [
         "(np.int64(0), np.int64(6))",
         "-1.0887599"
        ],
        [
         "(np.int64(0), np.int64(7))",
         "0.045966947"
        ],
        [
         "(np.int64(0), np.int64(8))",
         "0.92853223"
        ],
        [
         "(np.int64(0), np.int64(9))",
         "1.0861332"
        ],
        [
         "(np.int64(0), np.int64(10))",
         "1.2752543"
        ],
        [
         "(np.int64(0), np.int64(11))",
         "0.96005242"
        ],
        [
         "(np.int64(0), np.int64(12))",
         "0.61333034"
        ],
        [
         "(np.int64(0), np.int64(13))",
         "0.014446758"
        ],
        [
         "(np.int64(0), np.int64(14))",
         "-0.6474772"
        ],
        [
         "(np.int64(0), np.int64(15))",
         "-0.26923494"
        ],
        [
         "(np.int64(0), np.int64(16))",
         "-0.20619456"
        ],
        [
         "(np.int64(0), np.int64(17))",
         "0.61333034"
        ],
        [
         "(np.int64(0), np.int64(18))",
         "1.3698149"
        ],
        [
         "(np.int64(0), np.int64(19))",
         "1.4643754"
        ],
        [
         "(np.int64(0), np.int64(20))",
         "1.054613"
        ],
        [
         "(np.int64(0), np.int64(21))",
         "0.58181015"
        ],
        [
         "(np.int64(0), np.int64(22))",
         "0.1720477"
        ],
        [
         "(np.int64(0), np.int64(23))",
         "-0.26923494"
        ],
        [
         "(np.int64(1), np.int64(0))",
         "-0.99300935"
        ],
        [
         "(np.int64(1), np.int64(1))",
         "-1.4267865"
        ],
        [
         "(np.int64(1), np.int64(2))",
         "-1.5798843"
        ],
        [
         "(np.int64(1), np.int64(3))",
         "-1.6054006"
        ],
        [
         "(np.int64(1), np.int64(4))",
         "-1.6309169"
        ],
        [
         "(np.int64(1), np.int64(5))",
         "-1.3757539"
        ],
        [
         "(np.int64(1), np.int64(6))",
         "-1.0185257"
        ],
        [
         "(np.int64(1), np.int64(7))",
         "-0.35510183"
        ],
        [
         "(np.int64(1), np.int64(8))",
         "0.71658276"
        ],
        [
         "(np.int64(1), np.int64(9))",
         "1.2013925"
        ],
        [
         "(np.int64(1), np.int64(10))",
         "1.1248436"
        ],
        [
         "(np.int64(1), np.int64(11))",
         "1.0482947"
        ],
        [
         "(np.int64(1), np.int64(12))",
         "0.79313166"
        ],
        [
         "(np.int64(1), np.int64(13))",
         "0.46141977"
        ],
        [
         "(np.int64(1), np.int64(14))",
         "0.48693607"
        ],
        [
         "(np.int64(1), np.int64(15))",
         "0.56348497"
        ],
        [
         "(np.int64(1), np.int64(16))",
         "0.61451757"
        ],
        [
         "(np.int64(1), np.int64(17))",
         "0.30832197"
        ],
        [
         "(np.int64(1), np.int64(18))",
         "0.25728936"
        ],
        [
         "(np.int64(1), np.int64(19))",
         "1.0993273"
        ],
        [
         "(np.int64(1), np.int64(20))",
         "1.0482947"
        ],
        [
         "(np.int64(1), np.int64(21))",
         "0.69106647"
        ],
        [
         "(np.int64(1), np.int64(22))",
         "-0.048906237"
        ],
        [
         "(np.int64(1), np.int64(23))",
         "-0.38061813"
        ],
        [
         "(np.int64(2), np.int64(0))",
         "1.3190669"
        ],
        [
         "(np.int64(2), np.int64(1))",
         "0.56977448"
        ]
       ],
       "shape": {
        "columns": 1,
        "rows": 26304
       }
      },
      "text/html": [
       "<div>\n",
       "<style scoped>\n",
       "    .dataframe tbody tr th:only-of-type {\n",
       "        vertical-align: middle;\n",
       "    }\n",
       "\n",
       "    .dataframe tbody tr th {\n",
       "        vertical-align: top;\n",
       "    }\n",
       "\n",
       "    .dataframe thead th {\n",
       "        text-align: right;\n",
       "    }\n",
       "</style>\n",
       "<table border=\"1\" class=\"dataframe\">\n",
       "  <thead>\n",
       "    <tr style=\"text-align: right;\">\n",
       "      <th></th>\n",
       "      <th></th>\n",
       "      <th>total_power_demand</th>\n",
       "    </tr>\n",
       "    <tr>\n",
       "      <th>day_ID</th>\n",
       "      <th>hour_of_day</th>\n",
       "      <th></th>\n",
       "    </tr>\n",
       "  </thead>\n",
       "  <tbody>\n",
       "    <tr>\n",
       "      <th rowspan=\"5\" valign=\"top\">0</th>\n",
       "      <th>0</th>\n",
       "      <td>-0.710518</td>\n",
       "    </tr>\n",
       "    <tr>\n",
       "      <th>1</th>\n",
       "      <td>-1.183320</td>\n",
       "    </tr>\n",
       "    <tr>\n",
       "      <th>2</th>\n",
       "      <td>-1.372442</td>\n",
       "    </tr>\n",
       "    <tr>\n",
       "      <th>3</th>\n",
       "      <td>-1.593083</td>\n",
       "    </tr>\n",
       "    <tr>\n",
       "      <th>4</th>\n",
       "      <td>-1.467002</td>\n",
       "    </tr>\n",
       "    <tr>\n",
       "      <th>...</th>\n",
       "      <th>...</th>\n",
       "      <td>...</td>\n",
       "    </tr>\n",
       "    <tr>\n",
       "      <th rowspan=\"5\" valign=\"top\">1095</th>\n",
       "      <th>19</th>\n",
       "      <td>0.180490</td>\n",
       "    </tr>\n",
       "    <tr>\n",
       "      <th>20</th>\n",
       "      <td>-0.094058</td>\n",
       "    </tr>\n",
       "    <tr>\n",
       "      <th>21</th>\n",
       "      <td>0.729587</td>\n",
       "    </tr>\n",
       "    <tr>\n",
       "      <th>22</th>\n",
       "      <td>0.210995</td>\n",
       "    </tr>\n",
       "    <tr>\n",
       "      <th>23</th>\n",
       "      <td>-0.002542</td>\n",
       "    </tr>\n",
       "  </tbody>\n",
       "</table>\n",
       "<p>26304 rows × 1 columns</p>\n",
       "</div>"
      ],
      "text/plain": [
       "                    total_power_demand\n",
       "day_ID hour_of_day                    \n",
       "0      0                     -0.710518\n",
       "       1                     -1.183320\n",
       "       2                     -1.372442\n",
       "       3                     -1.593083\n",
       "       4                     -1.467002\n",
       "...                                ...\n",
       "1095   19                     0.180490\n",
       "       20                    -0.094058\n",
       "       21                     0.729587\n",
       "       22                     0.210995\n",
       "       23                    -0.002542\n",
       "\n",
       "[26304 rows x 1 columns]"
      ]
     },
     "execution_count": 4,
     "metadata": {},
     "output_type": "execute_result"
    }
   ],
   "source": [
    "X"
   ]
  },
  {
   "cell_type": "code",
   "execution_count": 5,
   "metadata": {},
   "outputs": [],
   "source": [
    "from sktime.datasets import load_basic_motions\n",
    "\n",
    "# load an example time series panel in pd-multiindex mtype\n",
    "X, _ = load_basic_motions(return_type=\"pd-multiindex\")\n",
    "\n",
    "# renaming columns for illustrative purposes\n",
    "X.columns = [\"accel_1\", \"accel_2\", \"accel_3\", \"gyro_1\", \"gyro_2\", \"gyro_3\"]\n",
    "X.index.names = [\"trial_no\", \"timepoint\"]"
   ]
  },
  {
   "attachments": {},
   "cell_type": "markdown",
   "metadata": {},
   "source": [
    "The basic motions dataset has:\n",
    "\n",
    "* 80 individual time series instances = trials = person engaging in an activity like running, badminton, etc.\n",
    "* six variables per time series instance, `dim_0` to `dim_5` (renamed according to the values they represent)\n",
    "    * 3 accelerometer and 3 gyrometer measurements\n",
    "    * hence a multivariate dataset\n",
    "* individual time series are observed at 100 time points (the same number for all instances)"
   ]
  },
  {
   "cell_type": "code",
   "execution_count": 6,
   "metadata": {},
   "outputs": [
    {
     "data": {
      "application/vnd.microsoft.datawrangler.viewer.v0+json": {
       "columns": [
        {
         "name": "('trial_no', 'timepoint')",
         "rawType": "object",
         "type": "unknown"
        },
        {
         "name": "accel_1",
         "rawType": "float64",
         "type": "float"
        },
        {
         "name": "accel_2",
         "rawType": "float64",
         "type": "float"
        },
        {
         "name": "accel_3",
         "rawType": "float64",
         "type": "float"
        },
        {
         "name": "gyro_1",
         "rawType": "float64",
         "type": "float"
        },
        {
         "name": "gyro_2",
         "rawType": "float64",
         "type": "float"
        },
        {
         "name": "gyro_3",
         "rawType": "float64",
         "type": "float"
        }
       ],
       "ref": "4c614202-3526-4943-9d5d-7a3a11ab2ab0",
       "rows": [
        [
         "(np.int64(0), np.int64(0))",
         "0.079106",
         "0.394032",
         "0.551444",
         "0.351565",
         "0.02397",
         "0.633883"
        ],
        [
         "(np.int64(0), np.int64(1))",
         "0.079106",
         "0.394032",
         "0.551444",
         "0.351565",
         "0.02397",
         "0.633883"
        ],
        [
         "(np.int64(0), np.int64(2))",
         "-0.903497",
         "-3.666397",
         "-0.282844",
         "-0.095881",
         "-0.319605",
         "0.972131"
        ],
        [
         "(np.int64(0), np.int64(3))",
         "1.116125",
         "-0.656101",
         "0.333118",
         "1.624657",
         "-0.569962",
         "1.209171"
        ],
        [
         "(np.int64(0), np.int64(4))",
         "1.6382",
         "1.405135",
         "0.393875",
         "1.187864",
         "-0.271664",
         "1.739182"
        ],
        [
         "(np.int64(0), np.int64(5))",
         "1.003448",
         "2.220504",
         "0.030765",
         "1.004091",
         "-0.047941",
         "1.499479"
        ],
        [
         "(np.int64(0), np.int64(6))",
         "0.028774",
         "3.248704",
         "-0.313529",
         "0.340912",
         "0.162466",
         "0.428803"
        ],
        [
         "(np.int64(0), np.int64(7))",
         "0.03005",
         "3.020615",
         "-1.581368",
         "-0.311615",
         "-0.013317",
         "-0.282318"
        ],
        [
         "(np.int64(0), np.int64(8))",
         "-0.120485",
         "1.957117",
         "-1.046431",
         "-0.348902",
         "-0.143822",
         "-0.926854"
        ],
        [
         "(np.int64(0), np.int64(9))",
         "-0.120485",
         "1.957117",
         "-1.046431",
         "-0.348902",
         "-0.143822",
         "-0.926854"
        ],
        [
         "(np.int64(0), np.int64(10))",
         "0.667496",
         "-1.956176",
         "0.527999",
         "-0.226387",
         "-0.311615",
         "-1.267765"
        ],
        [
         "(np.int64(0), np.int64(11))",
         "-0.312815",
         "-3.138694",
         "1.025005",
         "-0.101208",
         "-0.055931",
         "-0.66318"
        ],
        [
         "(np.int64(0), np.int64(12))",
         "-0.032064",
         "-2.905234",
         "0.69038",
         "-0.00799",
         "0.191763",
         "0.143822"
        ],
        [
         "(np.int64(0), np.int64(13))",
         "0.462654",
         "-1.249818",
         "0.010441",
         "0.039951",
         "0.21307",
         "1.025398"
        ],
        [
         "(np.int64(0), np.int64(14))",
         "0.462654",
         "-1.249818",
         "0.010441",
         "0.039951",
         "0.21307",
         "1.025398"
        ],
        [
         "(np.int64(0), np.int64(15))",
         "0.50726",
         "0.902984",
         "-0.318485",
         "0.351565",
         "0.19709",
         "1.395607"
        ],
        [
         "(np.int64(0), np.int64(16))",
         "0.381774",
         "2.535184",
         "-0.339922",
         "0.378199",
         "0.117188",
         "1.201181"
        ],
        [
         "(np.int64(0), np.int64(17))",
         "-0.173109",
         "2.947793",
         "-0.602718",
         "0.079901",
         "0.00799",
         "0.354229"
        ],
        [
         "(np.int64(0), np.int64(18))",
         "0.075566",
         "2.53536",
         "-0.537257",
         "0.02397",
         "-0.162466",
         "-0.218397"
        ],
        [
         "(np.int64(0), np.int64(19))",
         "0.182602",
         "1.058201",
         "0.032005",
         "-0.194426",
         "-0.242367",
         "-0.865596"
        ],
        [
         "(np.int64(0), np.int64(20))",
         "0.241339",
         "0.097825",
         "0.385068",
         "-0.189099",
         "-0.25302",
         "-1.049369"
        ],
        [
         "(np.int64(0), np.int64(21))",
         "0.128828",
         "-1.498574",
         "0.808822",
         "-0.162466",
         "-0.178446",
         "-0.852279"
        ],
        [
         "(np.int64(0), np.int64(22))",
         "-0.005551",
         "-1.912198",
         "0.945214",
         "-0.087891",
         "0.002663",
         "-0.364882"
        ],
        [
         "(np.int64(0), np.int64(23))",
         "-0.234381",
         "-1.189464",
         "0.31803",
         "-0.25302",
         "0.247694",
         "0.380862"
        ],
        [
         "(np.int64(0), np.int64(24))",
         "-0.060061",
         "0.048358",
         "-0.163724",
         "-0.135832",
         "0.284981",
         "0.692477"
        ],
        [
         "(np.int64(0), np.int64(25))",
         "0.134305",
         "1.049725",
         "-0.367703",
         "-0.018644",
         "0.151812",
         "0.689814"
        ],
        [
         "(np.int64(0), np.int64(26))",
         "-0.119217",
         "1.632314",
         "-0.504733",
         "0.063921",
         "0.042614",
         "0.447447"
        ],
        [
         "(np.int64(0), np.int64(27))",
         "-0.118415",
         "1.497473",
         "-0.293617",
         "0.26101",
         "-0.151812",
         "0.045277"
        ],
        [
         "(np.int64(0), np.int64(28))",
         "-0.034857",
         "0.772937",
         "0.008929",
         "0.159802",
         "-0.202416",
         "-0.292971"
        ],
        [
         "(np.int64(0), np.int64(29))",
         "-0.152736",
         "0.208221",
         "0.438756",
         "-0.021307",
         "-0.125179",
         "-0.274327"
        ],
        [
         "(np.int64(0), np.int64(30))",
         "-0.30275",
         "-0.124439",
         "0.435576",
         "-0.21307",
         "-0.066584",
         "-0.199753"
        ],
        [
         "(np.int64(0), np.int64(31))",
         "-0.258284",
         "-0.324037",
         "0.374493",
         "-0.082565",
         "0.079901",
         "-0.210406"
        ],
        [
         "(np.int64(0), np.int64(32))",
         "-0.153046",
         "-0.440494",
         "0.057105",
         "-0.047941",
         "0.127842",
         "0.005327"
        ],
        [
         "(np.int64(0), np.int64(33))",
         "-0.183976",
         "-0.09376",
         "-0.070314",
         "-0.021307",
         "0.069248",
         "0.178446"
        ],
        [
         "(np.int64(0), np.int64(34))",
         "-0.160971",
         "0.272178",
         "-0.206731",
         "-0.029297",
         "0.037287",
         "0.223723"
        ],
        [
         "(np.int64(0), np.int64(35))",
         "-0.241554",
         "0.410578",
         "-0.062707",
         "0.026634",
         "-0.047941",
         "0.122515"
        ],
        [
         "(np.int64(0), np.int64(36))",
         "-0.12605",
         "0.63099",
         "0.034384",
         "0.189099",
         "-0.050604",
         "0.029297"
        ],
        [
         "(np.int64(0), np.int64(37))",
         "-0.047558",
         "0.304098",
         "-0.019835",
         "0.119852",
         "-0.034624",
         "-0.055931"
        ],
        [
         "(np.int64(0), np.int64(38))",
         "-0.180656",
         "0.452631",
         "0.147044",
         "0.095881",
         "-0.03196",
         "-0.079901"
        ],
        [
         "(np.int64(0), np.int64(39))",
         "-0.223321",
         "0.055369",
         "0.154054",
         "0.077238",
         "-0.010653",
         "-0.165129"
        ],
        [
         "(np.int64(0), np.int64(40))",
         "-0.269544",
         "-0.195426",
         "0.223995",
         "0.109198",
         "0.00799",
         "-0.175783"
        ],
        [
         "(np.int64(0), np.int64(41))",
         "-0.132218",
         "-0.108085",
         "0.034453",
         "0.053267",
         "0.069248",
         "0.029297"
        ],
        [
         "(np.int64(0), np.int64(42))",
         "-0.247598",
         "0.05122",
         "-0.140365",
         "-0.002663",
         "0.029297",
         "0.165129"
        ],
        [
         "(np.int64(0), np.int64(43))",
         "-0.167151",
         "0.495086",
         "-0.104581",
         "0.101208",
         "0.0",
         "0.157139"
        ],
        [
         "(np.int64(0), np.int64(44))",
         "-0.226787",
         "0.582479",
         "-0.110829",
         "0.021307",
         "-0.034624",
         "0.117188"
        ],
        [
         "(np.int64(0), np.int64(45))",
         "-0.226787",
         "0.582479",
         "-0.110829",
         "0.021307",
         "-0.034624",
         "0.117188"
        ],
        [
         "(np.int64(0), np.int64(46))",
         "-0.221194",
         "0.535399",
         "0.111417",
         "0.063921",
         "-0.063921",
         "-0.050604"
        ],
        [
         "(np.int64(0), np.int64(47))",
         "-0.124525",
         "0.254673",
         "0.092016",
         "0.063921",
         "-0.01598",
         "-0.125179"
        ],
        [
         "(np.int64(0), np.int64(48))",
         "-0.215384",
         "0.045147",
         "0.075045",
         "0.359555",
         "-0.005327",
         "-0.194426"
        ],
        [
         "(np.int64(0), np.int64(49))",
         "-0.292342",
         "0.126648",
         "0.098005",
         "0.386189",
         "-0.010653",
         "-0.189099"
        ]
       ],
       "shape": {
        "columns": 6,
        "rows": 8000
       }
      },
      "text/html": [
       "<div>\n",
       "<style scoped>\n",
       "    .dataframe tbody tr th:only-of-type {\n",
       "        vertical-align: middle;\n",
       "    }\n",
       "\n",
       "    .dataframe tbody tr th {\n",
       "        vertical-align: top;\n",
       "    }\n",
       "\n",
       "    .dataframe thead th {\n",
       "        text-align: right;\n",
       "    }\n",
       "</style>\n",
       "<table border=\"1\" class=\"dataframe\">\n",
       "  <thead>\n",
       "    <tr style=\"text-align: right;\">\n",
       "      <th></th>\n",
       "      <th></th>\n",
       "      <th>accel_1</th>\n",
       "      <th>accel_2</th>\n",
       "      <th>accel_3</th>\n",
       "      <th>gyro_1</th>\n",
       "      <th>gyro_2</th>\n",
       "      <th>gyro_3</th>\n",
       "    </tr>\n",
       "    <tr>\n",
       "      <th>trial_no</th>\n",
       "      <th>timepoint</th>\n",
       "      <th></th>\n",
       "      <th></th>\n",
       "      <th></th>\n",
       "      <th></th>\n",
       "      <th></th>\n",
       "      <th></th>\n",
       "    </tr>\n",
       "  </thead>\n",
       "  <tbody>\n",
       "    <tr>\n",
       "      <th rowspan=\"5\" valign=\"top\">0</th>\n",
       "      <th>0</th>\n",
       "      <td>0.079106</td>\n",
       "      <td>0.394032</td>\n",
       "      <td>0.551444</td>\n",
       "      <td>0.351565</td>\n",
       "      <td>0.023970</td>\n",
       "      <td>0.633883</td>\n",
       "    </tr>\n",
       "    <tr>\n",
       "      <th>1</th>\n",
       "      <td>0.079106</td>\n",
       "      <td>0.394032</td>\n",
       "      <td>0.551444</td>\n",
       "      <td>0.351565</td>\n",
       "      <td>0.023970</td>\n",
       "      <td>0.633883</td>\n",
       "    </tr>\n",
       "    <tr>\n",
       "      <th>2</th>\n",
       "      <td>-0.903497</td>\n",
       "      <td>-3.666397</td>\n",
       "      <td>-0.282844</td>\n",
       "      <td>-0.095881</td>\n",
       "      <td>-0.319605</td>\n",
       "      <td>0.972131</td>\n",
       "    </tr>\n",
       "    <tr>\n",
       "      <th>3</th>\n",
       "      <td>1.116125</td>\n",
       "      <td>-0.656101</td>\n",
       "      <td>0.333118</td>\n",
       "      <td>1.624657</td>\n",
       "      <td>-0.569962</td>\n",
       "      <td>1.209171</td>\n",
       "    </tr>\n",
       "    <tr>\n",
       "      <th>4</th>\n",
       "      <td>1.638200</td>\n",
       "      <td>1.405135</td>\n",
       "      <td>0.393875</td>\n",
       "      <td>1.187864</td>\n",
       "      <td>-0.271664</td>\n",
       "      <td>1.739182</td>\n",
       "    </tr>\n",
       "    <tr>\n",
       "      <th>...</th>\n",
       "      <th>...</th>\n",
       "      <td>...</td>\n",
       "      <td>...</td>\n",
       "      <td>...</td>\n",
       "      <td>...</td>\n",
       "      <td>...</td>\n",
       "      <td>...</td>\n",
       "    </tr>\n",
       "    <tr>\n",
       "      <th rowspan=\"5\" valign=\"top\">79</th>\n",
       "      <th>95</th>\n",
       "      <td>28.459024</td>\n",
       "      <td>-16.633770</td>\n",
       "      <td>3.631869</td>\n",
       "      <td>8.978229</td>\n",
       "      <td>-3.611533</td>\n",
       "      <td>-1.491489</td>\n",
       "    </tr>\n",
       "    <tr>\n",
       "      <th>96</th>\n",
       "      <td>10.260094</td>\n",
       "      <td>0.102775</td>\n",
       "      <td>1.269261</td>\n",
       "      <td>-1.645964</td>\n",
       "      <td>-3.377157</td>\n",
       "      <td>1.283746</td>\n",
       "    </tr>\n",
       "    <tr>\n",
       "      <th>97</th>\n",
       "      <td>4.316471</td>\n",
       "      <td>-3.574319</td>\n",
       "      <td>2.063831</td>\n",
       "      <td>-1.717875</td>\n",
       "      <td>-1.843054</td>\n",
       "      <td>0.484734</td>\n",
       "    </tr>\n",
       "    <tr>\n",
       "      <th>98</th>\n",
       "      <td>0.704446</td>\n",
       "      <td>-4.920444</td>\n",
       "      <td>2.851857</td>\n",
       "      <td>-2.982977</td>\n",
       "      <td>-0.809665</td>\n",
       "      <td>-0.721774</td>\n",
       "    </tr>\n",
       "    <tr>\n",
       "      <th>99</th>\n",
       "      <td>-2.074749</td>\n",
       "      <td>-6.892377</td>\n",
       "      <td>4.848379</td>\n",
       "      <td>-1.350330</td>\n",
       "      <td>-1.203844</td>\n",
       "      <td>-1.776470</td>\n",
       "    </tr>\n",
       "  </tbody>\n",
       "</table>\n",
       "<p>8000 rows × 6 columns</p>\n",
       "</div>"
      ],
      "text/plain": [
       "                      accel_1    accel_2   accel_3    gyro_1    gyro_2    gyro_3\n",
       "trial_no timepoint                                                              \n",
       "0        0           0.079106   0.394032  0.551444  0.351565  0.023970  0.633883\n",
       "         1           0.079106   0.394032  0.551444  0.351565  0.023970  0.633883\n",
       "         2          -0.903497  -3.666397 -0.282844 -0.095881 -0.319605  0.972131\n",
       "         3           1.116125  -0.656101  0.333118  1.624657 -0.569962  1.209171\n",
       "         4           1.638200   1.405135  0.393875  1.187864 -0.271664  1.739182\n",
       "...                       ...        ...       ...       ...       ...       ...\n",
       "79       95         28.459024 -16.633770  3.631869  8.978229 -3.611533 -1.491489\n",
       "         96         10.260094   0.102775  1.269261 -1.645964 -3.377157  1.283746\n",
       "         97          4.316471  -3.574319  2.063831 -1.717875 -1.843054  0.484734\n",
       "         98          0.704446  -4.920444  2.851857 -2.982977 -0.809665 -0.721774\n",
       "         99         -2.074749  -6.892377  4.848379 -1.350330 -1.203844 -1.776470\n",
       "\n",
       "[8000 rows x 6 columns]"
      ]
     },
     "execution_count": 6,
     "metadata": {},
     "output_type": "execute_result"
    }
   ],
   "source": [
    "# The outermost index represents the instance number\n",
    "# whereas the inner index represents the index of the particular index\n",
    "# within that instance.\n",
    "X"
   ]
  },
  {
   "attachments": {},
   "cell_type": "markdown",
   "metadata": {},
   "source": [
    "pandas provides a simple way to access a range of value in the multi-indexed dataframe:"
   ]
  },
  {
   "cell_type": "code",
   "execution_count": 7,
   "metadata": {},
   "outputs": [
    {
     "data": {
      "text/plain": [
       "(False,\n",
       " \"obj must be of python type numpy.ndarray, or a subtype thereof, but found <class 'pandas.core.frame.DataFrame'>\",\n",
       " None)"
      ]
     },
     "execution_count": 7,
     "metadata": {},
     "output_type": "execute_result"
    }
   ],
   "source": [
    "from sktime.datatypes import check_is_mtype\n",
    "check_is_mtype(X, mtype=\"np.ndarray\", return_metadata=True)"
   ]
  },
  {
   "cell_type": "code",
   "execution_count": null,
   "metadata": {},
   "outputs": [],
   "source": []
  },
  {
   "cell_type": "code",
   "execution_count": 8,
   "metadata": {},
   "outputs": [
    {
     "data": {
      "application/vnd.microsoft.datawrangler.viewer.v0+json": {
       "columns": [
        {
         "name": "timepoint",
         "rawType": "int64",
         "type": "integer"
        },
        {
         "name": "gyro_1",
         "rawType": "float64",
         "type": "float"
        }
       ],
       "ref": "942eb872-0f16-4928-a9f3-457f851a98c6",
       "rows": [
        [
         "0",
         "0.351565"
        ],
        [
         "1",
         "0.351565"
        ],
        [
         "2",
         "-0.095881"
        ],
        [
         "3",
         "1.624657"
        ],
        [
         "4",
         "1.187864"
        ],
        [
         "5",
         "1.004091"
        ],
        [
         "6",
         "0.340912"
        ],
        [
         "7",
         "-0.311615"
        ],
        [
         "8",
         "-0.348902"
        ],
        [
         "9",
         "-0.348902"
        ],
        [
         "10",
         "-0.226387"
        ],
        [
         "11",
         "-0.101208"
        ],
        [
         "12",
         "-0.00799"
        ],
        [
         "13",
         "0.039951"
        ],
        [
         "14",
         "0.039951"
        ],
        [
         "15",
         "0.351565"
        ],
        [
         "16",
         "0.378199"
        ],
        [
         "17",
         "0.079901"
        ],
        [
         "18",
         "0.02397"
        ],
        [
         "19",
         "-0.194426"
        ],
        [
         "20",
         "-0.189099"
        ],
        [
         "21",
         "-0.162466"
        ],
        [
         "22",
         "-0.087891"
        ],
        [
         "23",
         "-0.25302"
        ],
        [
         "24",
         "-0.135832"
        ],
        [
         "25",
         "-0.018644"
        ],
        [
         "26",
         "0.063921"
        ],
        [
         "27",
         "0.26101"
        ],
        [
         "28",
         "0.159802"
        ],
        [
         "29",
         "-0.021307"
        ],
        [
         "30",
         "-0.21307"
        ],
        [
         "31",
         "-0.082565"
        ],
        [
         "32",
         "-0.047941"
        ],
        [
         "33",
         "-0.021307"
        ],
        [
         "34",
         "-0.029297"
        ],
        [
         "35",
         "0.026634"
        ],
        [
         "36",
         "0.189099"
        ],
        [
         "37",
         "0.119852"
        ],
        [
         "38",
         "0.095881"
        ],
        [
         "39",
         "0.077238"
        ],
        [
         "40",
         "0.109198"
        ],
        [
         "41",
         "0.053267"
        ],
        [
         "42",
         "-0.002663"
        ],
        [
         "43",
         "0.101208"
        ],
        [
         "44",
         "0.021307"
        ],
        [
         "45",
         "0.021307"
        ],
        [
         "46",
         "0.063921"
        ],
        [
         "47",
         "0.063921"
        ],
        [
         "48",
         "0.359555"
        ],
        [
         "49",
         "0.386189"
        ]
       ],
       "shape": {
        "columns": 1,
        "rows": 100
       }
      },
      "text/plain": [
       "timepoint\n",
       "0     0.351565\n",
       "1     0.351565\n",
       "2    -0.095881\n",
       "3     1.624657\n",
       "4     1.187864\n",
       "        ...   \n",
       "95    0.039951\n",
       "96   -0.029297\n",
       "97    0.000000\n",
       "98    0.000000\n",
       "99   -0.007990\n",
       "Name: gyro_1, Length: 100, dtype: float64"
      ]
     },
     "execution_count": 8,
     "metadata": {},
     "output_type": "execute_result"
    }
   ],
   "source": [
    "# Select:\n",
    "# * the fourth variable (gyroscope 1)\n",
    "# * of the first instance (trial 1 = 0 in python)\n",
    "# * values at all 100 timestamps\n",
    "#\n",
    "X.loc[0, \"gyro_1\"]"
   ]
  },
  {
   "attachments": {},
   "cell_type": "markdown",
   "metadata": {},
   "source": [
    "Or if you want to access the individual values:"
   ]
  },
  {
   "cell_type": "code",
   "execution_count": 9,
   "metadata": {},
   "outputs": [
    {
     "data": {
      "text/plain": [
       "np.float64(-1.27952)"
      ]
     },
     "execution_count": 9,
     "metadata": {},
     "output_type": "execute_result"
    }
   ],
   "source": [
    "# Select:\n",
    "# * the fifth time time point (5 = 4 in python, because of 0-indexing)\n",
    "# * the third variable (accelerometer 3)\n",
    "# * of the forty-third instance (trial 43 = 42 in python)\n",
    "\n",
    "X.loc[(42, 4), \"accel_3\"]"
   ]
  },
  {
   "cell_type": "code",
   "execution_count": 10,
   "metadata": {},
   "outputs": [],
   "source": [
    "import pandas as pd\n",
    "\n",
    "df_series = pd.read_csv(\"../sktime/datasets/data/Airline/Airline.csv\")\n"
   ]
  },
  {
   "cell_type": "code",
   "execution_count": 11,
   "metadata": {},
   "outputs": [
    {
     "data": {
      "application/vnd.microsoft.datawrangler.viewer.v0+json": {
       "columns": [
        {
         "name": "index",
         "rawType": "int64",
         "type": "integer"
        },
        {
         "name": "Date",
         "rawType": "object",
         "type": "string"
        },
        {
         "name": "Passengers",
         "rawType": "int64",
         "type": "integer"
        }
       ],
       "ref": "550c14d0-9835-4442-8716-25e8d64b58f0",
       "rows": [
        [
         "0",
         "1949-01",
         "112"
        ],
        [
         "1",
         "1949-02",
         "118"
        ],
        [
         "2",
         "1949-03",
         "132"
        ],
        [
         "3",
         "1949-04",
         "129"
        ],
        [
         "4",
         "1949-05",
         "121"
        ],
        [
         "5",
         "1949-06",
         "135"
        ],
        [
         "6",
         "1949-07",
         "148"
        ],
        [
         "7",
         "1949-08",
         "148"
        ],
        [
         "8",
         "1949-09",
         "136"
        ],
        [
         "9",
         "1949-10",
         "119"
        ],
        [
         "10",
         "1949-11",
         "104"
        ],
        [
         "11",
         "1949-12",
         "118"
        ],
        [
         "12",
         "1950-01",
         "115"
        ],
        [
         "13",
         "1950-02",
         "126"
        ],
        [
         "14",
         "1950-03",
         "141"
        ],
        [
         "15",
         "1950-04",
         "135"
        ],
        [
         "16",
         "1950-05",
         "125"
        ],
        [
         "17",
         "1950-06",
         "149"
        ],
        [
         "18",
         "1950-07",
         "170"
        ],
        [
         "19",
         "1950-08",
         "170"
        ],
        [
         "20",
         "1950-09",
         "158"
        ],
        [
         "21",
         "1950-10",
         "133"
        ],
        [
         "22",
         "1950-11",
         "114"
        ],
        [
         "23",
         "1950-12",
         "140"
        ],
        [
         "24",
         "1951-01",
         "145"
        ],
        [
         "25",
         "1951-02",
         "150"
        ],
        [
         "26",
         "1951-03",
         "178"
        ],
        [
         "27",
         "1951-04",
         "163"
        ],
        [
         "28",
         "1951-05",
         "172"
        ],
        [
         "29",
         "1951-06",
         "178"
        ],
        [
         "30",
         "1951-07",
         "199"
        ],
        [
         "31",
         "1951-08",
         "199"
        ],
        [
         "32",
         "1951-09",
         "184"
        ],
        [
         "33",
         "1951-10",
         "162"
        ],
        [
         "34",
         "1951-11",
         "146"
        ],
        [
         "35",
         "1951-12",
         "166"
        ],
        [
         "36",
         "1952-01",
         "171"
        ],
        [
         "37",
         "1952-02",
         "180"
        ],
        [
         "38",
         "1952-03",
         "193"
        ],
        [
         "39",
         "1952-04",
         "181"
        ],
        [
         "40",
         "1952-05",
         "183"
        ],
        [
         "41",
         "1952-06",
         "218"
        ],
        [
         "42",
         "1952-07",
         "230"
        ],
        [
         "43",
         "1952-08",
         "242"
        ],
        [
         "44",
         "1952-09",
         "209"
        ],
        [
         "45",
         "1952-10",
         "191"
        ],
        [
         "46",
         "1952-11",
         "172"
        ],
        [
         "47",
         "1952-12",
         "194"
        ],
        [
         "48",
         "1953-01",
         "196"
        ],
        [
         "49",
         "1953-02",
         "196"
        ]
       ],
       "shape": {
        "columns": 2,
        "rows": 144
       }
      },
      "text/html": [
       "<div>\n",
       "<style scoped>\n",
       "    .dataframe tbody tr th:only-of-type {\n",
       "        vertical-align: middle;\n",
       "    }\n",
       "\n",
       "    .dataframe tbody tr th {\n",
       "        vertical-align: top;\n",
       "    }\n",
       "\n",
       "    .dataframe thead th {\n",
       "        text-align: right;\n",
       "    }\n",
       "</style>\n",
       "<table border=\"1\" class=\"dataframe\">\n",
       "  <thead>\n",
       "    <tr style=\"text-align: right;\">\n",
       "      <th></th>\n",
       "      <th>Date</th>\n",
       "      <th>Passengers</th>\n",
       "    </tr>\n",
       "  </thead>\n",
       "  <tbody>\n",
       "    <tr>\n",
       "      <th>0</th>\n",
       "      <td>1949-01</td>\n",
       "      <td>112</td>\n",
       "    </tr>\n",
       "    <tr>\n",
       "      <th>1</th>\n",
       "      <td>1949-02</td>\n",
       "      <td>118</td>\n",
       "    </tr>\n",
       "    <tr>\n",
       "      <th>2</th>\n",
       "      <td>1949-03</td>\n",
       "      <td>132</td>\n",
       "    </tr>\n",
       "    <tr>\n",
       "      <th>3</th>\n",
       "      <td>1949-04</td>\n",
       "      <td>129</td>\n",
       "    </tr>\n",
       "    <tr>\n",
       "      <th>4</th>\n",
       "      <td>1949-05</td>\n",
       "      <td>121</td>\n",
       "    </tr>\n",
       "    <tr>\n",
       "      <th>...</th>\n",
       "      <td>...</td>\n",
       "      <td>...</td>\n",
       "    </tr>\n",
       "    <tr>\n",
       "      <th>139</th>\n",
       "      <td>1960-08</td>\n",
       "      <td>606</td>\n",
       "    </tr>\n",
       "    <tr>\n",
       "      <th>140</th>\n",
       "      <td>1960-09</td>\n",
       "      <td>508</td>\n",
       "    </tr>\n",
       "    <tr>\n",
       "      <th>141</th>\n",
       "      <td>1960-10</td>\n",
       "      <td>461</td>\n",
       "    </tr>\n",
       "    <tr>\n",
       "      <th>142</th>\n",
       "      <td>1960-11</td>\n",
       "      <td>390</td>\n",
       "    </tr>\n",
       "    <tr>\n",
       "      <th>143</th>\n",
       "      <td>1960-12</td>\n",
       "      <td>432</td>\n",
       "    </tr>\n",
       "  </tbody>\n",
       "</table>\n",
       "<p>144 rows × 2 columns</p>\n",
       "</div>"
      ],
      "text/plain": [
       "        Date  Passengers\n",
       "0    1949-01         112\n",
       "1    1949-02         118\n",
       "2    1949-03         132\n",
       "3    1949-04         129\n",
       "4    1949-05         121\n",
       "..       ...         ...\n",
       "139  1960-08         606\n",
       "140  1960-09         508\n",
       "141  1960-10         461\n",
       "142  1960-11         390\n",
       "143  1960-12         432\n",
       "\n",
       "[144 rows x 2 columns]"
      ]
     },
     "execution_count": 11,
     "metadata": {},
     "output_type": "execute_result"
    }
   ],
   "source": [
    "df_series"
   ]
  },
  {
   "cell_type": "code",
   "execution_count": 12,
   "metadata": {},
   "outputs": [],
   "source": [
    "df_series = df_series.set_index(\n",
    "    \"Date\"\n",
    ").squeeze()  # replace \"Period\" with the column name of the time index\n",
    "df_series.index = pd.DatetimeIndex(df_series.index)"
   ]
  },
  {
   "cell_type": "code",
   "execution_count": 13,
   "metadata": {},
   "outputs": [
    {
     "data": {
      "application/vnd.microsoft.datawrangler.viewer.v0+json": {
       "columns": [
        {
         "name": "Date",
         "rawType": "datetime64[ns]",
         "type": "datetime"
        },
        {
         "name": "Passengers",
         "rawType": "int64",
         "type": "integer"
        }
       ],
       "ref": "4172dc27-2a9a-4147-847e-e5d7c01bcf7a",
       "rows": [
        [
         "1949-01-01 00:00:00",
         "112"
        ],
        [
         "1949-02-01 00:00:00",
         "118"
        ],
        [
         "1949-03-01 00:00:00",
         "132"
        ],
        [
         "1949-04-01 00:00:00",
         "129"
        ],
        [
         "1949-05-01 00:00:00",
         "121"
        ],
        [
         "1949-06-01 00:00:00",
         "135"
        ],
        [
         "1949-07-01 00:00:00",
         "148"
        ],
        [
         "1949-08-01 00:00:00",
         "148"
        ],
        [
         "1949-09-01 00:00:00",
         "136"
        ],
        [
         "1949-10-01 00:00:00",
         "119"
        ],
        [
         "1949-11-01 00:00:00",
         "104"
        ],
        [
         "1949-12-01 00:00:00",
         "118"
        ],
        [
         "1950-01-01 00:00:00",
         "115"
        ],
        [
         "1950-02-01 00:00:00",
         "126"
        ],
        [
         "1950-03-01 00:00:00",
         "141"
        ],
        [
         "1950-04-01 00:00:00",
         "135"
        ],
        [
         "1950-05-01 00:00:00",
         "125"
        ],
        [
         "1950-06-01 00:00:00",
         "149"
        ],
        [
         "1950-07-01 00:00:00",
         "170"
        ],
        [
         "1950-08-01 00:00:00",
         "170"
        ],
        [
         "1950-09-01 00:00:00",
         "158"
        ],
        [
         "1950-10-01 00:00:00",
         "133"
        ],
        [
         "1950-11-01 00:00:00",
         "114"
        ],
        [
         "1950-12-01 00:00:00",
         "140"
        ],
        [
         "1951-01-01 00:00:00",
         "145"
        ],
        [
         "1951-02-01 00:00:00",
         "150"
        ],
        [
         "1951-03-01 00:00:00",
         "178"
        ],
        [
         "1951-04-01 00:00:00",
         "163"
        ],
        [
         "1951-05-01 00:00:00",
         "172"
        ],
        [
         "1951-06-01 00:00:00",
         "178"
        ],
        [
         "1951-07-01 00:00:00",
         "199"
        ],
        [
         "1951-08-01 00:00:00",
         "199"
        ],
        [
         "1951-09-01 00:00:00",
         "184"
        ],
        [
         "1951-10-01 00:00:00",
         "162"
        ],
        [
         "1951-11-01 00:00:00",
         "146"
        ],
        [
         "1951-12-01 00:00:00",
         "166"
        ],
        [
         "1952-01-01 00:00:00",
         "171"
        ],
        [
         "1952-02-01 00:00:00",
         "180"
        ],
        [
         "1952-03-01 00:00:00",
         "193"
        ],
        [
         "1952-04-01 00:00:00",
         "181"
        ],
        [
         "1952-05-01 00:00:00",
         "183"
        ],
        [
         "1952-06-01 00:00:00",
         "218"
        ],
        [
         "1952-07-01 00:00:00",
         "230"
        ],
        [
         "1952-08-01 00:00:00",
         "242"
        ],
        [
         "1952-09-01 00:00:00",
         "209"
        ],
        [
         "1952-10-01 00:00:00",
         "191"
        ],
        [
         "1952-11-01 00:00:00",
         "172"
        ],
        [
         "1952-12-01 00:00:00",
         "194"
        ],
        [
         "1953-01-01 00:00:00",
         "196"
        ],
        [
         "1953-02-01 00:00:00",
         "196"
        ]
       ],
       "shape": {
        "columns": 1,
        "rows": 144
       }
      },
      "text/plain": [
       "Date\n",
       "1949-01-01    112\n",
       "1949-02-01    118\n",
       "1949-03-01    132\n",
       "1949-04-01    129\n",
       "1949-05-01    121\n",
       "             ... \n",
       "1960-08-01    606\n",
       "1960-09-01    508\n",
       "1960-10-01    461\n",
       "1960-11-01    390\n",
       "1960-12-01    432\n",
       "Name: Passengers, Length: 144, dtype: int64"
      ]
     },
     "execution_count": 13,
     "metadata": {},
     "output_type": "execute_result"
    }
   ],
   "source": [
    "df_series"
   ]
  },
  {
   "cell_type": "code",
   "execution_count": 14,
   "metadata": {},
   "outputs": [],
   "source": [
    "from sktime.datatypes import mtype"
   ]
  },
  {
   "cell_type": "code",
   "execution_count": 15,
   "metadata": {},
   "outputs": [],
   "source": [
    "test = mtype(df_series, as_scitype=\"Series\")"
   ]
  },
  {
   "cell_type": "code",
   "execution_count": 16,
   "metadata": {},
   "outputs": [
    {
     "data": {
      "text/plain": [
       "'pd.Series'"
      ]
     },
     "execution_count": 16,
     "metadata": {},
     "output_type": "execute_result"
    }
   ],
   "source": [
    "test"
   ]
  },
  {
   "cell_type": "code",
   "execution_count": null,
   "metadata": {},
   "outputs": [],
   "source": []
  },
  {
   "cell_type": "code",
   "execution_count": 17,
   "metadata": {},
   "outputs": [],
   "source": [
    "# import to retrieve examples\n",
    "from sktime.datatypes import get_examples"
   ]
  },
  {
   "cell_type": "code",
   "execution_count": 18,
   "metadata": {},
   "outputs": [
    {
     "data": {
      "application/vnd.microsoft.datawrangler.viewer.v0+json": {
       "columns": [
        {
         "name": "index",
         "rawType": "int64",
         "type": "integer"
        },
        {
         "name": "a",
         "rawType": "float64",
         "type": "float"
        }
       ],
       "ref": "a2ba90ad-bea2-4c39-a722-04d9d601cdb6",
       "rows": [
        [
         "0",
         "1.0"
        ],
        [
         "1",
         "4.0"
        ],
        [
         "2",
         "0.5"
        ],
        [
         "3",
         "-3.0"
        ]
       ],
       "shape": {
        "columns": 1,
        "rows": 4
       }
      },
      "text/html": [
       "<div>\n",
       "<style scoped>\n",
       "    .dataframe tbody tr th:only-of-type {\n",
       "        vertical-align: middle;\n",
       "    }\n",
       "\n",
       "    .dataframe tbody tr th {\n",
       "        vertical-align: top;\n",
       "    }\n",
       "\n",
       "    .dataframe thead th {\n",
       "        text-align: right;\n",
       "    }\n",
       "</style>\n",
       "<table border=\"1\" class=\"dataframe\">\n",
       "  <thead>\n",
       "    <tr style=\"text-align: right;\">\n",
       "      <th></th>\n",
       "      <th>a</th>\n",
       "    </tr>\n",
       "  </thead>\n",
       "  <tbody>\n",
       "    <tr>\n",
       "      <th>0</th>\n",
       "      <td>1.0</td>\n",
       "    </tr>\n",
       "    <tr>\n",
       "      <th>1</th>\n",
       "      <td>4.0</td>\n",
       "    </tr>\n",
       "    <tr>\n",
       "      <th>2</th>\n",
       "      <td>0.5</td>\n",
       "    </tr>\n",
       "    <tr>\n",
       "      <th>3</th>\n",
       "      <td>-3.0</td>\n",
       "    </tr>\n",
       "  </tbody>\n",
       "</table>\n",
       "</div>"
      ],
      "text/plain": [
       "     a\n",
       "0  1.0\n",
       "1  4.0\n",
       "2  0.5\n",
       "3 -3.0"
      ]
     },
     "execution_count": 18,
     "metadata": {},
     "output_type": "execute_result"
    }
   ],
   "source": [
    "get_examples(mtype=\"pd.DataFrame\", as_scitype=\"Series\")[0]"
   ]
  },
  {
   "cell_type": "code",
   "execution_count": 19,
   "metadata": {},
   "outputs": [],
   "source": [
    "from sktime.datasets import load_arrow_head\n",
    "\n",
    "X, y = load_arrow_head(return_X_y=True)"
   ]
  },
  {
   "cell_type": "code",
   "execution_count": 20,
   "metadata": {},
   "outputs": [
    {
     "data": {
      "application/vnd.microsoft.datawrangler.viewer.v0+json": {
       "columns": [
        {
         "name": "index",
         "rawType": "int64",
         "type": "integer"
        },
        {
         "name": "dim_0",
         "rawType": "object",
         "type": "unknown"
        }
       ],
       "ref": "5a18d51f-5f2e-46dc-b07d-0e3f43f778aa",
       "rows": [
        [
         "0",
         "0     -1.963009\n1     -1.957825\n2     -1.956145\n3     -1.938289\n4     -1.896657\n         ...   \n246   -1.841345\n247   -1.884289\n248   -1.905393\n249   -1.923905\n250   -1.909153\nLength: 251, dtype: float64"
        ],
        [
         "1",
         "0     -1.774571\n1     -1.774036\n2     -1.776586\n3     -1.730749\n4     -1.696268\n         ...   \n246   -1.639989\n247   -1.678683\n248   -1.729227\n249   -1.775670\n250   -1.789324\nLength: 251, dtype: float64"
        ],
        [
         "2",
         "0     -1.866021\n1     -1.841991\n2     -1.835025\n3     -1.811902\n4     -1.764390\n         ...   \n246   -1.829069\n247   -1.875828\n248   -1.862512\n249   -1.863368\n250   -1.846493\nLength: 251, dtype: float64"
        ],
        [
         "3",
         "0     -2.073758\n1     -2.073301\n2     -2.044607\n3     -2.038346\n4     -1.959043\n         ...   \n246   -1.951247\n247   -2.012927\n248   -2.026963\n249   -2.073405\n250   -2.075292\nLength: 251, dtype: float64"
        ],
        [
         "4",
         "0     -1.746255\n1     -1.741263\n2     -1.722741\n3     -1.698640\n4     -1.677223\n         ...   \n246   -1.716886\n247   -1.740726\n248   -1.743442\n249   -1.762729\n250   -1.763428\nLength: 251, dtype: float64"
        ],
        [
         "5",
         "0     -1.982806\n1     -1.978861\n2     -1.937333\n3     -1.891442\n4     -1.840870\n         ...   \n246   -1.873537\n247   -1.919679\n248   -1.979011\n249   -1.964868\n250   -1.983793\nLength: 251, dtype: float64"
        ],
        [
         "6",
         "0     -2.083023\n1     -2.092058\n2     -2.049462\n3     -2.036784\n4     -1.972995\n         ...   \n246   -1.936052\n247   -2.027489\n248   -2.030658\n249   -2.033118\n250   -2.077631\nLength: 251, dtype: float64"
        ],
        [
         "7",
         "0     -1.633596\n1     -1.643175\n2     -1.613675\n3     -1.598907\n4     -1.566766\n         ...   \n246   -1.599111\n247   -1.623552\n248   -1.646523\n249   -1.643044\n250   -1.640236\nLength: 251, dtype: float64"
        ],
        [
         "8",
         "0     -1.717013\n1     -1.728059\n2     -1.683303\n3     -1.666821\n4     -1.646849\n         ...   \n246   -1.651485\n247   -1.698773\n248   -1.715321\n249   -1.731976\n250   -1.717626\nLength: 251, dtype: float64"
        ],
        [
         "9",
         "0     -2.245295\n1     -2.223850\n2     -2.171872\n3     -2.092627\n4     -2.064690\n         ...   \n246   -2.041884\n247   -2.123160\n248   -2.130323\n249   -2.202741\n250   -2.227201\nLength: 251, dtype: float64"
        ],
        [
         "10",
         "0     -1.844180\n1     -1.839913\n2     -1.825745\n3     -1.792737\n4     -1.739679\n         ...   \n246   -1.794221\n247   -1.826678\n248   -1.828884\n249   -1.843957\n250   -1.844784\nLength: 251, dtype: float64"
        ],
        [
         "11",
         "0     -1.833709\n1     -1.827681\n2     -1.776450\n3     -1.774391\n4     -1.716805\n         ...   \n246   -1.794445\n247   -1.813359\n248   -1.815003\n249   -1.832732\n250   -1.816854\nLength: 251, dtype: float64"
        ],
        [
         "12",
         "0     -2.105590\n1     -2.121538\n2     -2.035910\n3     -2.002570\n4     -1.930025\n         ...   \n246   -1.996141\n247   -2.030383\n248   -2.084025\n249   -2.085108\n250   -2.085108\nLength: 251, dtype: float64"
        ],
        [
         "13",
         "0     -1.900535\n1     -1.882731\n2     -1.868459\n3     -1.818421\n4     -1.795311\n         ...   \n246   -1.770086\n247   -1.795311\n248   -1.832707\n249   -1.866146\n250   -1.898507\nLength: 251, dtype: float64"
        ],
        [
         "14",
         "0     -2.188812\n1     -2.185519\n2     -2.176468\n3     -2.096378\n4     -2.053816\n         ...   \n246   -2.098594\n247   -2.129226\n248   -2.159858\n249   -2.187735\n250   -2.189309\nLength: 251, dtype: float64"
        ],
        [
         "15",
         "0     -2.164456\n1     -2.178541\n2     -2.066047\n3     -2.046069\n4     -1.979093\n         ...   \n246   -2.064173\n247   -2.072545\n248   -2.117519\n249   -2.092010\n250   -2.131814\nLength: 251, dtype: float64"
        ],
        [
         "16",
         "0     -2.053743\n1     -2.036852\n2     -2.033030\n3     -2.013543\n4     -1.943268\n         ...   \n246   -1.905729\n247   -1.946187\n248   -2.001585\n249   -2.035573\n250   -2.052878\nLength: 251, dtype: float64"
        ],
        [
         "17",
         "0     -1.653743\n1     -1.650974\n2     -1.631879\n3     -1.612707\n4     -1.588571\n         ...   \n246   -1.550078\n247   -1.592814\n248   -1.615281\n249   -1.617402\n250   -1.651697\nLength: 251, dtype: float64"
        ],
        [
         "18",
         "0     -2.113801\n1     -2.091838\n2     -2.048814\n3     -2.000280\n4     -1.966432\n         ...   \n246   -1.938640\n247   -1.986760\n248   -2.059664\n249   -2.127378\n250   -2.130781\nLength: 251, dtype: float64"
        ],
        [
         "19",
         "0     -1.882249\n1     -1.880586\n2     -1.865817\n3     -1.836643\n4     -1.803325\n         ...   \n246   -1.781243\n247   -1.833980\n248   -1.866960\n249   -1.895939\n250   -1.884314\nLength: 251, dtype: float64"
        ],
        [
         "20",
         "0     -1.922567\n1     -1.907956\n2     -1.880090\n3     -1.840042\n4     -1.796092\n         ...   \n246   -1.815147\n247   -1.834487\n248   -1.880452\n249   -1.907219\n250   -1.921197\nLength: 251, dtype: float64"
        ],
        [
         "21",
         "0     -1.988754\n1     -2.024736\n2     -1.926209\n3     -1.875178\n4     -1.813162\n         ...   \n246   -1.824739\n247   -1.865230\n248   -1.916853\n249   -1.918589\n250   -1.986489\nLength: 251, dtype: float64"
        ],
        [
         "22",
         "0     -1.754535\n1     -1.777870\n2     -1.751415\n3     -1.725698\n4     -1.675108\n         ...   \n246   -1.675389\n247   -1.727604\n248   -1.751762\n249   -1.777350\n250   -1.755857\nLength: 251, dtype: float64"
        ],
        [
         "23",
         "0     -2.159707\n1     -2.175603\n2     -2.165595\n3     -2.100985\n4     -2.022723\n         ...   \n246   -1.968780\n247   -2.008835\n248   -2.083162\n249   -2.121105\n250   -2.096549\nLength: 251, dtype: float64"
        ],
        [
         "24",
         "0     -2.144754\n1     -2.165396\n2     -2.156160\n3     -2.079317\n4     -2.012702\n         ...   \n246   -1.980168\n247   -2.047614\n248   -2.038424\n249   -2.046806\n250   -2.099474\nLength: 251, dtype: float64"
        ],
        [
         "25",
         "0     -1.632037\n1     -1.630116\n2     -1.607483\n3     -1.603764\n4     -1.576161\n         ...   \n246   -1.623823\n247   -1.625039\n248   -1.630151\n249   -1.631614\n250   -1.632337\nLength: 251, dtype: float64"
        ],
        [
         "26",
         "0     -2.255120\n1     -2.233663\n2     -2.229195\n3     -2.221495\n4     -2.169856\n         ...   \n246   -2.136761\n247   -2.204523\n248   -2.232003\n249   -2.257080\n250   -2.239667\nLength: 251, dtype: float64"
        ],
        [
         "27",
         "0     -1.828902\n1     -1.841468\n2     -1.806303\n3     -1.803223\n4     -1.780970\n         ...   \n246   -1.806504\n247   -1.845483\n248   -1.835782\n249   -1.838790\n250   -1.825116\nLength: 251, dtype: float64"
        ],
        [
         "28",
         "0     -2.004295\n1     -1.985612\n2     -1.953281\n3     -1.933638\n4     -1.893538\n         ...   \n246   -1.893290\n247   -1.933478\n248   -1.969549\n249   -2.017769\n250   -2.004004\nLength: 251, dtype: float64"
        ],
        [
         "29",
         "0     -1.829271\n1     -1.832426\n2     -1.822614\n3     -1.809893\n4     -1.794134\n         ...   \n246   -1.704055\n247   -1.725968\n248   -1.764504\n249   -1.797664\n250   -1.812440\nLength: 251, dtype: float64"
        ],
        [
         "30",
         "0     -2.130983\n1     -2.109531\n2     -2.084178\n3     -2.055543\n4     -2.029778\n         ...   \n246   -2.027734\n247   -2.080446\n248   -2.104130\n249   -2.168225\n250   -2.151198\nLength: 251, dtype: float64"
        ],
        [
         "31",
         "0     -1.897632\n1     -1.896079\n2     -1.843246\n3     -1.820073\n4     -1.776584\n         ...   \n246   -1.787433\n247   -1.816115\n248   -1.874009\n249   -1.894403\n250   -1.897104\nLength: 251, dtype: float64"
        ],
        [
         "32",
         "0     -1.673688\n1     -1.671479\n2     -1.660184\n3     -1.634935\n4     -1.606142\n         ...   \n246   -1.576775\n247   -1.609724\n248   -1.636233\n249   -1.661157\n250   -1.662518\nLength: 251, dtype: float64"
        ],
        [
         "33",
         "0     -2.130812\n1     -2.104430\n2     -2.074755\n3     -2.025406\n4     -1.944910\n         ...   \n246   -1.944460\n247   -2.003032\n248   -2.034098\n249   -2.080031\n250   -2.103448\nLength: 251, dtype: float64"
        ],
        [
         "34",
         "0     -1.880338\n1     -1.862662\n2     -1.849687\n3     -1.833179\n4     -1.797872\n         ...   \n246   -1.775862\n247   -1.814496\n248   -1.848534\n249   -1.864034\n250   -1.879885\nLength: 251, dtype: float64"
        ],
        [
         "35",
         "0     -1.801050\n1     -1.798915\n2     -1.778375\n3     -1.759428\n4     -1.701133\n         ...   \n246   -1.717157\n247   -1.759057\n248   -1.796549\n249   -1.798544\n250   -1.801050\nLength: 251, dtype: float64"
        ],
        [
         "36",
         "0     -1.907777\n1     -1.904890\n2     -1.888563\n3     -1.871164\n4     -1.831679\n         ...   \n246   -1.815367\n247   -1.853688\n248   -1.906272\n249   -1.924120\n250   -1.925098\nLength: 251, dtype: float64"
        ],
        [
         "37",
         "0     -1.829855\n1     -1.808497\n2     -1.795777\n3     -1.766647\n4     -1.750764\n         ...   \n246   -1.733421\n247   -1.761321\n248   -1.803442\n249   -1.843156\n250   -1.827516\nLength: 251, dtype: float64"
        ],
        [
         "38",
         "0     -1.801563\n1     -1.775734\n2     -1.728486\n3     -1.656728\n4     -1.586515\n         ...   \n246   -1.690243\n247   -1.707989\n248   -1.730219\n249   -1.771514\n250   -1.779973\nLength: 251, dtype: float64"
        ],
        [
         "39",
         "0     -1.885718\n1     -1.855170\n2     -1.845198\n3     -1.808755\n4     -1.732067\n         ...   \n246   -1.935907\n247   -1.940783\n248   -1.898720\n249   -1.934034\n250   -1.882523\nLength: 251, dtype: float64"
        ],
        [
         "40",
         "0     -1.959051\n1     -1.974930\n2     -1.971418\n3     -1.967188\n4     -1.943278\n         ...   \n246   -1.876352\n247   -1.910406\n248   -1.895691\n249   -1.924978\n250   -1.930911\nLength: 251, dtype: float64"
        ],
        [
         "41",
         "0     -1.989385\n1     -2.026534\n2     -2.003516\n3     -1.975471\n4     -1.941805\n         ...   \n246   -1.868219\n247   -1.905606\n248   -1.937431\n249   -1.963952\n250   -1.965456\nLength: 251, dtype: float64"
        ],
        [
         "42",
         "0     -1.853754\n1     -1.849193\n2     -1.834128\n3     -1.818093\n4     -1.799213\n         ...   \n246   -1.768574\n247   -1.804220\n248   -1.820001\n249   -1.850058\n250   -1.851250\nLength: 251, dtype: float64"
        ],
        [
         "43",
         "0     -1.823411\n1     -1.805534\n2     -1.793166\n3     -1.749130\n4     -1.735088\n         ...   \n246   -1.700994\n247   -1.718829\n248   -1.749130\n249   -1.809327\n250   -1.821584\nLength: 251, dtype: float64"
        ],
        [
         "44",
         "0     -2.048394\n1     -2.043213\n2     -1.975888\n3     -1.939354\n4     -1.900312\n         ...   \n246   -2.137104\n247   -2.142385\n248   -2.135091\n249   -2.109976\n250   -2.061331\nLength: 251, dtype: float64"
        ],
        [
         "45",
         "0     -1.492107\n1     -1.453629\n2     -1.422846\n3     -1.315334\n4     -1.204414\n         ...   \n246   -1.623473\n247   -1.630153\n248   -1.585627\n249   -1.540063\n250   -1.503932\nLength: 251, dtype: float64"
        ],
        [
         "46",
         "0     -2.033640\n1     -2.005206\n2     -1.975406\n3     -1.945251\n4     -1.853241\n         ...   \n246   -1.894360\n247   -1.929350\n248   -1.969000\n249   -1.971836\n250   -2.003130\nLength: 251, dtype: float64"
        ],
        [
         "47",
         "0     -2.097394\n1     -2.063936\n2     -1.981905\n3     -1.926157\n4     -1.877074\n         ...   \n246   -2.087416\n247   -2.092745\n248   -2.095781\n249   -2.118645\n250   -2.095887\nLength: 251, dtype: float64"
        ],
        [
         "48",
         "0     -1.955058\n1     -1.954434\n2     -1.937850\n3     -1.866278\n4     -1.808490\n         ...   \n246   -1.837880\n247   -1.862068\n248   -1.901288\n249   -1.953537\n250   -1.937562\nLength: 251, dtype: float64"
        ],
        [
         "49",
         "0     -2.139459\n1     -2.118865\n2     -2.104383\n3     -2.037724\n4     -1.976574\n         ...   \n246   -2.109733\n247   -2.134455\n248   -2.136943\n249   -2.133908\n250   -2.129968\nLength: 251, dtype: float64"
        ]
       ],
       "shape": {
        "columns": 1,
        "rows": 211
       }
      },
      "text/html": [
       "<div>\n",
       "<style scoped>\n",
       "    .dataframe tbody tr th:only-of-type {\n",
       "        vertical-align: middle;\n",
       "    }\n",
       "\n",
       "    .dataframe tbody tr th {\n",
       "        vertical-align: top;\n",
       "    }\n",
       "\n",
       "    .dataframe thead th {\n",
       "        text-align: right;\n",
       "    }\n",
       "</style>\n",
       "<table border=\"1\" class=\"dataframe\">\n",
       "  <thead>\n",
       "    <tr style=\"text-align: right;\">\n",
       "      <th></th>\n",
       "      <th>dim_0</th>\n",
       "    </tr>\n",
       "  </thead>\n",
       "  <tbody>\n",
       "    <tr>\n",
       "      <th>0</th>\n",
       "      <td>0     -1.963009\n",
       "1     -1.957825\n",
       "2     -1.95614...</td>\n",
       "    </tr>\n",
       "    <tr>\n",
       "      <th>1</th>\n",
       "      <td>0     -1.774571\n",
       "1     -1.774036\n",
       "2     -1.77658...</td>\n",
       "    </tr>\n",
       "    <tr>\n",
       "      <th>2</th>\n",
       "      <td>0     -1.866021\n",
       "1     -1.841991\n",
       "2     -1.83502...</td>\n",
       "    </tr>\n",
       "    <tr>\n",
       "      <th>3</th>\n",
       "      <td>0     -2.073758\n",
       "1     -2.073301\n",
       "2     -2.04460...</td>\n",
       "    </tr>\n",
       "    <tr>\n",
       "      <th>4</th>\n",
       "      <td>0     -1.746255\n",
       "1     -1.741263\n",
       "2     -1.72274...</td>\n",
       "    </tr>\n",
       "    <tr>\n",
       "      <th>...</th>\n",
       "      <td>...</td>\n",
       "    </tr>\n",
       "    <tr>\n",
       "      <th>206</th>\n",
       "      <td>0     -1.625142\n",
       "1     -1.622988\n",
       "2     -1.62606...</td>\n",
       "    </tr>\n",
       "    <tr>\n",
       "      <th>207</th>\n",
       "      <td>0     -1.657757\n",
       "1     -1.664673\n",
       "2     -1.63264...</td>\n",
       "    </tr>\n",
       "    <tr>\n",
       "      <th>208</th>\n",
       "      <td>0     -1.603279\n",
       "1     -1.587365\n",
       "2     -1.57740...</td>\n",
       "    </tr>\n",
       "    <tr>\n",
       "      <th>209</th>\n",
       "      <td>0     -1.739020\n",
       "1     -1.741534\n",
       "2     -1.73286...</td>\n",
       "    </tr>\n",
       "    <tr>\n",
       "      <th>210</th>\n",
       "      <td>0     -1.630727\n",
       "1     -1.629918\n",
       "2     -1.62055...</td>\n",
       "    </tr>\n",
       "  </tbody>\n",
       "</table>\n",
       "<p>211 rows × 1 columns</p>\n",
       "</div>"
      ],
      "text/plain": [
       "                                                 dim_0\n",
       "0    0     -1.963009\n",
       "1     -1.957825\n",
       "2     -1.95614...\n",
       "1    0     -1.774571\n",
       "1     -1.774036\n",
       "2     -1.77658...\n",
       "2    0     -1.866021\n",
       "1     -1.841991\n",
       "2     -1.83502...\n",
       "3    0     -2.073758\n",
       "1     -2.073301\n",
       "2     -2.04460...\n",
       "4    0     -1.746255\n",
       "1     -1.741263\n",
       "2     -1.72274...\n",
       "..                                                 ...\n",
       "206  0     -1.625142\n",
       "1     -1.622988\n",
       "2     -1.62606...\n",
       "207  0     -1.657757\n",
       "1     -1.664673\n",
       "2     -1.63264...\n",
       "208  0     -1.603279\n",
       "1     -1.587365\n",
       "2     -1.57740...\n",
       "209  0     -1.739020\n",
       "1     -1.741534\n",
       "2     -1.73286...\n",
       "210  0     -1.630727\n",
       "1     -1.629918\n",
       "2     -1.62055...\n",
       "\n",
       "[211 rows x 1 columns]"
      ]
     },
     "execution_count": 20,
     "metadata": {},
     "output_type": "execute_result"
    }
   ],
   "source": [
    "X"
   ]
  },
  {
   "cell_type": "code",
   "execution_count": null,
   "metadata": {},
   "outputs": [],
   "source": []
  },
  {
   "cell_type": "code",
   "execution_count": null,
   "metadata": {},
   "outputs": [],
   "source": []
  },
  {
   "cell_type": "code",
   "execution_count": null,
   "metadata": {},
   "outputs": [],
   "source": []
  },
  {
   "cell_type": "code",
   "execution_count": null,
   "metadata": {},
   "outputs": [],
   "source": []
  },
  {
   "cell_type": "code",
   "execution_count": null,
   "metadata": {},
   "outputs": [],
   "source": []
  },
  {
   "cell_type": "code",
   "execution_count": null,
   "metadata": {},
   "outputs": [],
   "source": []
  },
  {
   "cell_type": "code",
   "execution_count": null,
   "metadata": {},
   "outputs": [],
   "source": []
  },
  {
   "cell_type": "code",
   "execution_count": null,
   "metadata": {},
   "outputs": [],
   "source": []
  },
  {
   "attachments": {},
   "cell_type": "markdown",
   "metadata": {},
   "source": [
    "### 2.1.2 preferred format 2 - `numpy3D` specification"
   ]
  },
  {
   "attachments": {},
   "cell_type": "markdown",
   "metadata": {},
   "source": [
    "`numpy3D` = 3D `np.ndarray` with index (instance, variable, time)\n",
    "\n",
    "instance/time index is interpreted as integer\n",
    "\n",
    "IMPORTANT: unlike `pd-multiindex`, this assumes:\n",
    "\n",
    "* all individual series have the same length\n",
    "* all individual series have the same index"
   ]
  },
  {
   "cell_type": "code",
   "execution_count": 21,
   "metadata": {},
   "outputs": [],
   "source": [
    "from sktime.datasets import load_italy_power_demand\n",
    "\n",
    "# load an example time series panel in numpy mtype\n",
    "X, _ = load_italy_power_demand(return_type=\"numpy3D\")"
   ]
  },
  {
   "attachments": {},
   "cell_type": "markdown",
   "metadata": {},
   "source": [
    "The Italy power demand dataset has:\n",
    "\n",
    "* 1096 individual time series instances = single days of total power demand (mean subtracted)\n",
    "* one single variable per time series instances, unnamed in numpy\n",
    "* individual time series are observed at 24 time (period) points (the same number for all instances)"
   ]
  },
  {
   "cell_type": "code",
   "execution_count": 22,
   "metadata": {},
   "outputs": [
    {
     "data": {
      "text/plain": [
       "(1096, 1, 24)"
      ]
     },
     "execution_count": 22,
     "metadata": {},
     "output_type": "execute_result"
    }
   ],
   "source": [
    "# (num_instances, num_variables, length)\n",
    "X.shape"
   ]
  },
  {
   "cell_type": "code",
   "execution_count": 23,
   "metadata": {},
   "outputs": [],
   "source": [
    "from sktime.datasets import load_basic_motions\n",
    "\n",
    "# load an example time series panel in numpy mtype\n",
    "X, _ = load_basic_motions(return_type=\"numpy3D\")"
   ]
  },
  {
   "attachments": {},
   "cell_type": "markdown",
   "metadata": {},
   "source": [
    "The basic motions dataset has:\n",
    "\n",
    "* 80 individual time series instances = trials = person engaging in activity (running, badminton, etc)\n",
    "* six variables per time series instance, unnamed in numpy\n",
    "* individual time series are observed at 100 time points (the same number for all instances)"
   ]
  },
  {
   "cell_type": "code",
   "execution_count": 24,
   "metadata": {},
   "outputs": [
    {
     "data": {
      "text/plain": [
       "(80, 6, 100)"
      ]
     },
     "execution_count": 24,
     "metadata": {},
     "output_type": "execute_result"
    }
   ],
   "source": [
    "X.shape"
   ]
  },
  {
   "attachments": {},
   "cell_type": "markdown",
   "metadata": {},
   "source": [
    "## 2.2 Time Series Classification, Regression, Clustering - Basic Vignettes\n",
    "\n",
    "Above tasks are very similar to \"tabular\" classification, regression, clustering, as in `sklearn`\n",
    "\n",
    "Main distinction:\n",
    "* in \"tabular\" classification etc, one (feature) instance row vector of features\n",
    "* in TSC, one (feature) instance is a full time series, possibly unequal length, distinct index set"
   ]
  },
  {
   "attachments": {},
   "cell_type": "markdown",
   "metadata": {},
   "source": [
    "![](./img/tsc.png)"
   ]
  },
  {
   "attachments": {},
   "cell_type": "markdown",
   "metadata": {},
   "source": [
    "\n",
    "More formally:\n",
    "\n",
    "* \"tabular\" classification:\n",
    "    * training pairs $(x_1, y_1), \\dots, (x_n, y_n)$\n",
    "        * where $x_i$ are rows of a `pd.DataFrame` (same col types)\n",
    "        * and $y_i \\in \\mathcal{C}$ for a finite set $\\mathcal{C}$\n",
    "    * is used to train a classifier that\n",
    "        * for a new `pd.DataFrame` row $x_*$\n",
    "        * predicts $y_* \\in \\mathcal{C}$"
   ]
  },
  {
   "cell_type": "markdown",
   "metadata": {},
   "source": [
    "\n",
    "* time series classification:\n",
    "    * training pairs $(x_1, y_1), \\dots, (x_n, y_n)$\n",
    "        * where $x_i$ are time series instances, from a certain domain\n",
    "        * and $y_i \\in \\mathcal{C}$ for a finite set $\\mathcal{C}$\n",
    "    * is used to train a classifier that\n",
    "        * for a new time series instance $x_*$\n",
    "        * predicts $y_* \\in \\mathcal{C}$"
   ]
  },
  {
   "attachments": {},
   "cell_type": "markdown",
   "metadata": {},
   "source": [
    "very similar for time series regression, clustering - exercise left to reader :-)"
   ]
  },
  {
   "attachments": {},
   "cell_type": "markdown",
   "metadata": {},
   "source": [
    "`sktime` design implications:\n",
    "\n",
    "* need representation of collections of time series (panels),\n",
    "    see tutorial [In-memory data representations and data loading](AA_datatypes_and_datasets.ipynb) for more details on representation of Panel data.\n",
    "    * same as in \"adjacent\" learning tasks, e.g., panel forecasting\n",
    "    * same as for transformation estimators\n",
    "* algorithms that use sequentiality, can deal with unequal length, missing values etc \n",
    "* algorithms usually based on distances or kernels between time series - need to cover that in framework\n",
    "* but we can use familiar `fit` / `predict` and `scikit-learn` / `scikit-base` interface!"
   ]
  },
  {
   "attachments": {},
   "cell_type": "markdown",
   "metadata": {},
   "source": [
    "### 2.2.3 Time Series Classification - deployment vignette"
   ]
  },
  {
   "attachments": {},
   "cell_type": "markdown",
   "metadata": {},
   "source": [
    "Basic deployment vignette for TSC:\n",
    "\n",
    "1. load/setup training data, `X` in a `Panel` (more specifically `numpy3D`) format, `y` as 1D `np.ndarray`\n",
    "2. load/setup new data for prediction (can be done after 3 too)\n",
    "3. specify the classifier using `sklearn`-like syntax\n",
    "4. fit classifier to training data, `fit(X, y)`\n",
    "5. predict labels on new data, `predict(X_new)`"
   ]
  },
  {
   "cell_type": "code",
   "execution_count": 25,
   "metadata": {},
   "outputs": [],
   "source": [
    "# steps 1, 2 - prepare osuleaf dataset (train and new)\n",
    "from sktime.datasets import load_italy_power_demand\n",
    "\n",
    "X_train, y_train = load_italy_power_demand(split=\"train\", return_type=\"numpy3D\")\n",
    "X_new, _ = load_italy_power_demand(split=\"test\", return_type=\"numpy3D\")"
   ]
  },
  {
   "cell_type": "code",
   "execution_count": 26,
   "metadata": {},
   "outputs": [
    {
     "data": {
      "text/plain": [
       "(67, 1, 24)"
      ]
     },
     "execution_count": 26,
     "metadata": {},
     "output_type": "execute_result"
    }
   ],
   "source": [
    "# this is in numpy3D format, but could also be pd-multiindex or other\n",
    "X_train.shape"
   ]
  },
  {
   "cell_type": "code",
   "execution_count": 27,
   "metadata": {},
   "outputs": [
    {
     "data": {
      "text/plain": [
       "(67,)"
      ]
     },
     "execution_count": 27,
     "metadata": {},
     "output_type": "execute_result"
    }
   ],
   "source": [
    "# y is a 1D np.ndarray of labels - same length as number of instances in X_train\n",
    "y_train.shape"
   ]
  },
  {
   "cell_type": "code",
   "execution_count": 28,
   "metadata": {},
   "outputs": [],
   "source": [
    "# step 3 - specify the classifier\n",
    "from sktime.classification.distance_based import KNeighborsTimeSeriesClassifier\n",
    "\n",
    "# example 1 - 3-NN with simple dynamic time warping distance (requires numba)\n",
    "clf = KNeighborsTimeSeriesClassifier(n_neighbors=3)\n",
    "\n",
    "# example 2 - custom distance:\n",
    "# 3-nearest neighbour classifier with Euclidean distance (on flattened time series)\n",
    "# (requires scipy)\n",
    "from sktime.classification.distance_based import KNeighborsTimeSeriesClassifier\n",
    "from sktime.dists_kernels import FlatDist, ScipyDist\n",
    "\n",
    "eucl_dist = FlatDist(ScipyDist())\n",
    "clf = KNeighborsTimeSeriesClassifier(n_neighbors=3, distance=eucl_dist)"
   ]
  },
  {
   "attachments": {},
   "cell_type": "markdown",
   "metadata": {},
   "source": [
    "we could specify any `sktime` classifier here - the rest remains the same!"
   ]
  },
  {
   "cell_type": "code",
   "execution_count": 29,
   "metadata": {},
   "outputs": [
    {
     "data": {
      "text/plain": [
       "{'algorithm': 'brute',\n",
       " 'distance': FlatDist(transformer=ScipyDist()),\n",
       " 'distance_mtype': None,\n",
       " 'distance_params': None,\n",
       " 'leaf_size': 30,\n",
       " 'n_jobs': None,\n",
       " 'n_neighbors': 3,\n",
       " 'pass_train_distances': False,\n",
       " 'weights': 'uniform',\n",
       " 'distance__transformer': ScipyDist(),\n",
       " 'distance__transformer__colalign': 'intersect',\n",
       " 'distance__transformer__metric': 'euclidean',\n",
       " 'distance__transformer__metric_kwargs': None,\n",
       " 'distance__transformer__p': 2,\n",
       " 'distance__transformer__var_weights': None}"
      ]
     },
     "execution_count": 29,
     "metadata": {},
     "output_type": "execute_result"
    }
   ],
   "source": [
    "# all classifiers is scikit-learn / scikit-base compatible!\n",
    "# nested parameter interface via get_params, set_params\n",
    "clf.get_params()"
   ]
  },
  {
   "cell_type": "code",
   "execution_count": 30,
   "metadata": {},
   "outputs": [
    {
     "data": {
      "text/html": [
       "<style>#sk-6d1926ef-f05e-45d6-8f11-e37988194ab8 {\n",
       "    /* Definition of color scheme common for light and dark mode */\n",
       "    --sklearn-color-text: black;\n",
       "    --sklearn-color-line: gray;\n",
       "    /* Definition of color scheme for objects */\n",
       "    --sklearn-color-level-0: #fff5e6;\n",
       "    --sklearn-color-level-1: #f6e4d2;\n",
       "    --sklearn-color-level-2: #ffe0b3;\n",
       "    --sklearn-color-level-3: chocolate;\n",
       "\n",
       "    /* Specific color for light theme */\n",
       "    --sklearn-color-text-on-default-background: var(--theme-code-foreground, var(--jp-content-font-color1, black));\n",
       "    --sklearn-color-background: var(--theme-background, var(--jp-layout-color0, white));\n",
       "    --sklearn-color-border-box: var(--theme-code-foreground, var(--jp-content-font-color1, black));\n",
       "    --sklearn-color-icon: #696969;\n",
       "\n",
       "    @media (prefers-color-scheme: dark) {\n",
       "      /* Redefinition of color scheme for dark theme */\n",
       "      --sklearn-color-text-on-default-background: var(--theme-code-foreground, var(--jp-content-font-color1, white));\n",
       "      --sklearn-color-background: var(--theme-background, var(--jp-layout-color0, #111));\n",
       "      --sklearn-color-border-box: var(--theme-code-foreground, var(--jp-content-font-color1, white));\n",
       "      --sklearn-color-icon: #878787;\n",
       "    }\n",
       "  }\n",
       "\n",
       "  #sk-6d1926ef-f05e-45d6-8f11-e37988194ab8 {\n",
       "    color: var(--sklearn-color-text);\n",
       "  }\n",
       "\n",
       "  #sk-6d1926ef-f05e-45d6-8f11-e37988194ab8 pre {\n",
       "    padding: 0;\n",
       "  }\n",
       "\n",
       "  #sk-6d1926ef-f05e-45d6-8f11-e37988194ab8 input.sk-hidden--visually {\n",
       "    border: 0;\n",
       "    clip: rect(1px 1px 1px 1px);\n",
       "    clip: rect(1px, 1px, 1px, 1px);\n",
       "    height: 1px;\n",
       "    margin: -1px;\n",
       "    overflow: hidden;\n",
       "    padding: 0;\n",
       "    position: absolute;\n",
       "    width: 1px;\n",
       "  }\n",
       "\n",
       "  #sk-6d1926ef-f05e-45d6-8f11-e37988194ab8 div.sk-dashed-wrapped {\n",
       "    border: 1px dashed var(--sklearn-color-line);\n",
       "    margin: 0 0.4em 0.5em 0.4em;\n",
       "    box-sizing: border-box;\n",
       "    padding-bottom: 0.4em;\n",
       "    background-color: var(--sklearn-color-background);\n",
       "  }\n",
       "\n",
       "  #sk-6d1926ef-f05e-45d6-8f11-e37988194ab8 div.sk-container {\n",
       "    /* jupyter's `normalize.less` sets `[hidden] { display: none; }`\n",
       "       but bootstrap.min.css set `[hidden] { display: none !important; }`\n",
       "       so we also need the `!important` here to be able to override the\n",
       "       default hidden behavior on the sphinx rendered scikit-learn.org.\n",
       "       See: https://github.com/scikit-learn/scikit-learn/issues/21755 */\n",
       "    display: inline-block !important;\n",
       "    position: relative;\n",
       "  }\n",
       "\n",
       "  #sk-6d1926ef-f05e-45d6-8f11-e37988194ab8 div.sk-text-repr-fallback {\n",
       "    display: none;\n",
       "  }\n",
       "\n",
       "  div.sk-parallel-item,\n",
       "  div.sk-serial,\n",
       "  div.sk-item {\n",
       "    /* draw centered vertical line to link estimators */\n",
       "    background-image: linear-gradient(var(--sklearn-color-text-on-default-background), var(--sklearn-color-text-on-default-background));\n",
       "    background-size: 2px 100%;\n",
       "    background-repeat: no-repeat;\n",
       "    background-position: center center;\n",
       "  }\n",
       "\n",
       "  /* Parallel-specific style estimator block */\n",
       "\n",
       "  #sk-6d1926ef-f05e-45d6-8f11-e37988194ab8 div.sk-parallel-item::after {\n",
       "    content: \"\";\n",
       "    width: 100%;\n",
       "    border-bottom: 2px solid var(--sklearn-color-text-on-default-background);\n",
       "    flex-grow: 1;\n",
       "  }\n",
       "\n",
       "  #sk-6d1926ef-f05e-45d6-8f11-e37988194ab8 div.sk-parallel {\n",
       "    display: flex;\n",
       "    align-items: stretch;\n",
       "    justify-content: center;\n",
       "    background-color: var(--sklearn-color-background);\n",
       "    position: relative;\n",
       "  }\n",
       "\n",
       "  #sk-6d1926ef-f05e-45d6-8f11-e37988194ab8 div.sk-parallel-item {\n",
       "    display: flex;\n",
       "    flex-direction: column;\n",
       "  }\n",
       "\n",
       "  #sk-6d1926ef-f05e-45d6-8f11-e37988194ab8 div.sk-parallel-item:first-child::after {\n",
       "    align-self: flex-end;\n",
       "    width: 50%;\n",
       "  }\n",
       "\n",
       "  #sk-6d1926ef-f05e-45d6-8f11-e37988194ab8 div.sk-parallel-item:last-child::after {\n",
       "    align-self: flex-start;\n",
       "    width: 50%;\n",
       "  }\n",
       "\n",
       "  #sk-6d1926ef-f05e-45d6-8f11-e37988194ab8 div.sk-parallel-item:only-child::after {\n",
       "    width: 0;\n",
       "  }\n",
       "\n",
       "  /* Serial-specific style estimator block */\n",
       "\n",
       "  #sk-6d1926ef-f05e-45d6-8f11-e37988194ab8 div.sk-serial {\n",
       "    display: flex;\n",
       "    flex-direction: column;\n",
       "    align-items: center;\n",
       "    background-color: var(--sklearn-color-background);\n",
       "    padding-right: 1em;\n",
       "    padding-left: 1em;\n",
       "  }\n",
       "\n",
       "\n",
       "  /* Toggleable style: style used for estimator/Pipeline/ColumnTransformer box that is\n",
       "  clickable and can be expanded/collapsed.\n",
       "  - Pipeline and ColumnTransformer use this feature and define the default style\n",
       "  - Estimators will overwrite some part of the style using the `sk-estimator` class\n",
       "  */\n",
       "\n",
       "  /* Pipeline and ColumnTransformer style (default) */\n",
       "\n",
       "  #sk-6d1926ef-f05e-45d6-8f11-e37988194ab8 div.sk-toggleable {\n",
       "    /* Default theme specific background. It is overwritten whether we have a\n",
       "    specific estimator or a Pipeline/ColumnTransformer */\n",
       "    background-color: var(--sklearn-color-background);\n",
       "  }\n",
       "\n",
       "  /* Toggleable label */\n",
       "  #sk-6d1926ef-f05e-45d6-8f11-e37988194ab8 label.sk-toggleable__label {\n",
       "    cursor: pointer;\n",
       "    display: block;\n",
       "    width: 100%;\n",
       "    margin-bottom: 0;\n",
       "    padding: 0.5em;\n",
       "    box-sizing: border-box;\n",
       "    text-align: center;\n",
       "  }\n",
       "\n",
       "  #sk-6d1926ef-f05e-45d6-8f11-e37988194ab8 label.sk-toggleable__label-arrow:before {\n",
       "    /* Arrow on the left of the label */\n",
       "    content: \"▸\";\n",
       "    float: left;\n",
       "    margin-right: 0.25em;\n",
       "    color: var(--sklearn-color-icon);\n",
       "  }\n",
       "\n",
       "  #sk-6d1926ef-f05e-45d6-8f11-e37988194ab8 label.sk-toggleable__label-arrow:hover:before {\n",
       "    color: var(--sklearn-color-text);\n",
       "  }\n",
       "\n",
       "  /* Toggleable content - dropdown */\n",
       "\n",
       "  #sk-6d1926ef-f05e-45d6-8f11-e37988194ab8 div.sk-toggleable__content {\n",
       "    max-height: 0;\n",
       "    max-width: 0;\n",
       "    overflow: hidden;\n",
       "    text-align: left;\n",
       "    background-color: var(--sklearn-color-level-0);\n",
       "  }\n",
       "\n",
       "  #sk-6d1926ef-f05e-45d6-8f11-e37988194ab8 div.sk-toggleable__content pre {\n",
       "    margin: 0.2em;\n",
       "    border-radius: 0.25em;\n",
       "    color: var(--sklearn-color-text);\n",
       "    background-color: var(--sklearn-color-level-0);\n",
       "  }\n",
       "\n",
       "  #sk-6d1926ef-f05e-45d6-8f11-e37988194ab8 input.sk-toggleable__control:checked~div.sk-toggleable__content {\n",
       "    /* Expand drop-down */\n",
       "    max-height: 200px;\n",
       "    max-width: 100%;\n",
       "    overflow: auto;\n",
       "  }\n",
       "\n",
       "  #sk-6d1926ef-f05e-45d6-8f11-e37988194ab8 input.sk-toggleable__control:checked~label.sk-toggleable__label-arrow:before {\n",
       "    content: \"▾\";\n",
       "  }\n",
       "\n",
       "  /* Pipeline/ColumnTransformer-specific style */\n",
       "\n",
       "  #sk-6d1926ef-f05e-45d6-8f11-e37988194ab8 div.sk-label input.sk-toggleable__control:checked~label.sk-toggleable__label {\n",
       "    color: var(--sklearn-color-text);\n",
       "    background-color: var(--sklearn-color-level-2);\n",
       "  }\n",
       "\n",
       "  /* Estimator-specific style */\n",
       "\n",
       "  /* Colorize estimator box */\n",
       "  #sk-6d1926ef-f05e-45d6-8f11-e37988194ab8 div.sk-estimator input.sk-toggleable__control:checked~label.sk-toggleable__label {\n",
       "    /* unfitted */\n",
       "    background-color: var(--sklearn-color-level-2);\n",
       "  }\n",
       "\n",
       "  #sk-6d1926ef-f05e-45d6-8f11-e37988194ab8 div.sk-label label.sk-toggleable__label,\n",
       "  #sk-6d1926ef-f05e-45d6-8f11-e37988194ab8 div.sk-label label {\n",
       "    /* The background is the default theme color */\n",
       "    color: var(--sklearn-color-text-on-default-background);\n",
       "  }\n",
       "\n",
       "  /* On hover, darken the color of the background */\n",
       "  #sk-6d1926ef-f05e-45d6-8f11-e37988194ab8 div.sk-label:hover label.sk-toggleable__label {\n",
       "    color: var(--sklearn-color-text);\n",
       "    background-color: var(--sklearn-color-level-2);\n",
       "  }\n",
       "\n",
       "  /* Estimator label */\n",
       "\n",
       "  #sk-6d1926ef-f05e-45d6-8f11-e37988194ab8 div.sk-label label {\n",
       "    font-family: monospace;\n",
       "    font-weight: bold;\n",
       "    display: inline-block;\n",
       "    line-height: 1.2em;\n",
       "  }\n",
       "\n",
       "  #sk-6d1926ef-f05e-45d6-8f11-e37988194ab8 div.sk-label-container {\n",
       "    text-align: center;\n",
       "  }\n",
       "\n",
       "  /* Estimator-specific */\n",
       "  #sk-6d1926ef-f05e-45d6-8f11-e37988194ab8 div.sk-estimator {\n",
       "    font-family: monospace;\n",
       "    border: 1px dotted var(--sklearn-color-border-box);\n",
       "    border-radius: 0.25em;\n",
       "    box-sizing: border-box;\n",
       "    margin-bottom: 0.5em;\n",
       "    background-color: var(--sklearn-color-level-0);\n",
       "  }\n",
       "\n",
       "  /* on hover */\n",
       "  #sk-6d1926ef-f05e-45d6-8f11-e37988194ab8 div.sk-estimator:hover {\n",
       "    background-color: var(--sklearn-color-level-2);\n",
       "  }\n",
       "\n",
       "  /* Specification for estimator info */\n",
       "\n",
       "  .sk-estimator-doc-link,\n",
       "  a:link.sk-estimator-doc-link,\n",
       "  a:visited.sk-estimator-doc-link {\n",
       "    float: right;\n",
       "    font-size: smaller;\n",
       "    line-height: 1em;\n",
       "    font-family: monospace;\n",
       "    background-color: var(--sklearn-color-background);\n",
       "    border-radius: 1em;\n",
       "    height: 1em;\n",
       "    width: 1em;\n",
       "    text-decoration: none !important;\n",
       "    margin-left: 1ex;\n",
       "    border: var(--sklearn-color-level-1) 1pt solid;\n",
       "    color: var(--sklearn-color-level-1);\n",
       "  }\n",
       "\n",
       "  /* On hover */\n",
       "  div.sk-estimator:hover .sk-estimator-doc-link:hover,\n",
       "  .sk-estimator-doc-link:hover,\n",
       "  div.sk-label-container:hover .sk-estimator-doc-link:hover,\n",
       "  .sk-estimator-doc-link:hover {\n",
       "    background-color: var(--sklearn-color-level-3);\n",
       "    color: var(--sklearn-color-background);\n",
       "    text-decoration: none;\n",
       "  }\n",
       "\n",
       "  /* Span, style for the box shown on hovering the info icon */\n",
       "  .sk-estimator-doc-link span {\n",
       "    display: none;\n",
       "    z-index: 9999;\n",
       "    position: relative;\n",
       "    font-weight: normal;\n",
       "    right: .2ex;\n",
       "    padding: .5ex;\n",
       "    margin: .5ex;\n",
       "    width: min-content;\n",
       "    min-width: 20ex;\n",
       "    max-width: 50ex;\n",
       "    color: var(--sklearn-color-text);\n",
       "    box-shadow: 2pt 2pt 4pt #999;\n",
       "    background: var(--sklearn-color-level-0);\n",
       "    border: .5pt solid var(--sklearn-color-level-3);\n",
       "  }\n",
       "\n",
       "  .sk-estimator-doc-link:hover span {\n",
       "    display: block;\n",
       "  }\n",
       "\n",
       "  /* \"?\"-specific style due to the `<a>` HTML tag */\n",
       "\n",
       "  #sk-6d1926ef-f05e-45d6-8f11-e37988194ab8 a.estimator_doc_link {\n",
       "    float: right;\n",
       "    font-size: 1rem;\n",
       "    line-height: 1em;\n",
       "    font-family: monospace;\n",
       "    background-color: var(--sklearn-color-background);\n",
       "    border-radius: 1rem;\n",
       "    height: 1rem;\n",
       "    width: 1rem;\n",
       "    text-decoration: none;\n",
       "    color: var(--sklearn-color-level-1);\n",
       "    border: var(--sklearn-color-level-1) 1pt solid;\n",
       "  }\n",
       "\n",
       "  /* On hover */\n",
       "  #sk-6d1926ef-f05e-45d6-8f11-e37988194ab8 a.estimator_doc_link:hover {\n",
       "    background-color: var(--sklearn-color-level-3);\n",
       "    color: var(--sklearn-color-background);\n",
       "    text-decoration: none;\n",
       "  }\n",
       "</style><div id='sk-6d1926ef-f05e-45d6-8f11-e37988194ab8' class=\"sk-top-container\"><div class=\"sk-text-repr-fallback\"><pre>KNeighborsTimeSeriesClassifier(distance=FlatDist(transformer=ScipyDist()),\n",
       "                               n_neighbors=3)</pre><b>Please rerun this cell to show the HTML repr or trust the notebook.</b></div><div class=\"sk-container\" hidden><div class=\"sk-item sk-dashed-wrapped\"><div class='sk-label-container'><div class=\"sk-label sk-toggleable\"><input class=\"sk-toggleable__control sk-hidden--visually\" id=UUID('fd9acdb5-ef0a-413a-a035-fa06b5c13894') type=\"checkbox\" ><label for=UUID('fd9acdb5-ef0a-413a-a035-fa06b5c13894') class='sk-toggleable__label sk-toggleable__label-arrow'>KNeighborsTimeSeriesClassifier<a class=\"sk-estimator-doc-link\" rel=\"noreferrer\" target=\"_blank\" href=\"https://www.sktime.net/en/v0.37.0/api_reference/auto_generated/sktime.classification.distance_based.KNeighborsTimeSeriesClassifier.html\">?<span>Documentation for KNeighborsTimeSeriesClassifier</span></a></label><div class=\"sk-toggleable__content\"><pre>KNeighborsTimeSeriesClassifier(distance=FlatDist(transformer=ScipyDist()),\n",
       "                               n_neighbors=3)</pre></div></div></div><div class=\"sk-parallel\"><div class=\"sk-parallel-item\"><div class=\"sk-item\"><div class='sk-label-container'><div class=\"sk-label sk-toggleable\"><input class=\"sk-toggleable__control sk-hidden--visually\" id=UUID('a7cf960a-8f82-44bd-b566-6dfa6d3469d3') type=\"checkbox\" ><label for=UUID('a7cf960a-8f82-44bd-b566-6dfa6d3469d3') class='sk-toggleable__label sk-toggleable__label-arrow'>distance: FlatDist</label><div class=\"sk-toggleable__content\"><pre>FlatDist(transformer=ScipyDist())</pre></div></div></div><div class=\"sk-serial\"><div class=\"sk-item sk-dashed-wrapped\"><div class=\"sk-parallel\"><div class=\"sk-parallel-item\"><div class=\"sk-item\"><div class='sk-label-container'><div class=\"sk-label sk-toggleable\"><input class=\"sk-toggleable__control sk-hidden--visually\" id=UUID('0e4a30cf-e657-4a86-94f9-e6170a899d2f') type=\"checkbox\" ><label for=UUID('0e4a30cf-e657-4a86-94f9-e6170a899d2f') class='sk-toggleable__label sk-toggleable__label-arrow'>transformer: ScipyDist</label><div class=\"sk-toggleable__content\"><pre>ScipyDist()</pre></div></div></div><div class=\"sk-serial\"><div class='sk-item'><div class=\"sk-estimator sk-toggleable\"><input class=\"sk-toggleable__control sk-hidden--visually\" id=UUID('3ef9e50e-cb39-4063-8e70-caa84dfdff49') type=\"checkbox\" ><label for=UUID('3ef9e50e-cb39-4063-8e70-caa84dfdff49') class='sk-toggleable__label sk-toggleable__label-arrow'>ScipyDist<a class=\"sk-estimator-doc-link\" rel=\"noreferrer\" target=\"_blank\" href=\"https://www.sktime.net/en/v0.37.0/api_reference/auto_generated/sktime.dists_kernels.scipy_dist.ScipyDist.html\">?<span>Documentation for ScipyDist</span></a></label><div class=\"sk-toggleable__content\"><pre>ScipyDist()</pre></div></div></div></div></div></div></div></div></div></div></div></div></div></div></div>"
      ],
      "text/plain": [
       "KNeighborsTimeSeriesClassifier(distance=FlatDist(transformer=ScipyDist()),\n",
       "                               n_neighbors=3)"
      ]
     },
     "execution_count": 30,
     "metadata": {},
     "output_type": "execute_result"
    }
   ],
   "source": [
    "# step 4 - fit/train the classifier\n",
    "clf.fit(X_train, y_train)"
   ]
  },
  {
   "cell_type": "code",
   "execution_count": 31,
   "metadata": {},
   "outputs": [
    {
     "data": {
      "text/plain": [
       "True"
      ]
     },
     "execution_count": 31,
     "metadata": {},
     "output_type": "execute_result"
    }
   ],
   "source": [
    "# the classifier is now fitted\n",
    "clf.is_fitted"
   ]
  },
  {
   "cell_type": "code",
   "execution_count": 32,
   "metadata": {},
   "outputs": [
    {
     "data": {
      "text/plain": [
       "{'classes': array(['1', '2'], dtype='<U1'),\n",
       " 'fit_time': 1,\n",
       " 'knn_estimator': KNeighborsClassifier(algorithm='brute', metric='precomputed', n_neighbors=3),\n",
       " 'n_classes': 2,\n",
       " 'knn_estimator__classes': array(['1', '2'], dtype='<U1'),\n",
       " 'knn_estimator__effective_metric': 'precomputed',\n",
       " 'knn_estimator__effective_metric_params': {},\n",
       " 'knn_estimator__n_features_in': 67,\n",
       " 'knn_estimator__n_samples_fit': 67,\n",
       " 'knn_estimator__outputs_2d': False}"
      ]
     },
     "execution_count": 32,
     "metadata": {},
     "output_type": "execute_result"
    }
   ],
   "source": [
    "# and we can inspect fitted parameters if we like\n",
    "clf.get_fitted_params()"
   ]
  },
  {
   "cell_type": "code",
   "execution_count": 33,
   "metadata": {},
   "outputs": [],
   "source": [
    "# step 5 - predict labels on new data\n",
    "y_pred = clf.predict(X_new)"
   ]
  },
  {
   "cell_type": "code",
   "execution_count": 34,
   "metadata": {},
   "outputs": [
    {
     "data": {
      "text/plain": [
       "array(['2', '2', '2', ..., '2', '2', '2'], shape=(1029,), dtype='<U1')"
      ]
     },
     "execution_count": 34,
     "metadata": {},
     "output_type": "execute_result"
    }
   ],
   "source": [
    "# y_pred is an 1D np.ndarray, similar to sklearn classification output\n",
    "y_pred"
   ]
  },
  {
   "cell_type": "code",
   "execution_count": 35,
   "metadata": {},
   "outputs": [
    {
     "data": {
      "text/plain": [
       "(array(['1', '2'], dtype='<U1'), array([510, 519]))"
      ]
     },
     "execution_count": 35,
     "metadata": {},
     "output_type": "execute_result"
    }
   ],
   "source": [
    "# predictions and unique counts, for illustration\n",
    "unique, counts = np.unique(y_pred, return_counts=True)\n",
    "unique, counts"
   ]
  },
  {
   "attachments": {},
   "cell_type": "markdown",
   "metadata": {},
   "source": [
    "all together in one cell:"
   ]
  },
  {
   "cell_type": "code",
   "execution_count": 36,
   "metadata": {},
   "outputs": [],
   "source": [
    "# steps 1, 2 - prepare osuleaf dataset (train and new)\n",
    "from sktime.datasets import load_italy_power_demand\n",
    "\n",
    "X_train, y_train = load_italy_power_demand(split=\"train\", return_type=\"numpy3D\")\n",
    "X_new, _ = load_italy_power_demand(split=\"test\", return_type=\"numpy3D\")\n",
    "\n",
    "# step 3 - specify the classifier\n",
    "from sktime.classification.distance_based import KNeighborsTimeSeriesClassifier\n",
    "from sktime.dists_kernels import FlatDist, ScipyDist\n",
    "\n",
    "eucl_dist = FlatDist(ScipyDist())\n",
    "clf = KNeighborsTimeSeriesClassifier(n_neighbors=3, distance=eucl_dist)\n",
    "\n",
    "# step 4 - fit/train the classifier\n",
    "clf.fit(X_train, y_train)\n",
    "\n",
    "# step 5 - predict labels on new data\n",
    "y_pred = clf.predict(X_new)"
   ]
  },
  {
   "attachments": {},
   "cell_type": "markdown",
   "metadata": {},
   "source": [
    "### 2.2.4 Time Series Classification - simple evaluation vignette"
   ]
  },
  {
   "attachments": {},
   "cell_type": "markdown",
   "metadata": {},
   "source": [
    "Evaluation is similar to `sklearn` classifiers - we split a dataset and evaluate performance on the test set.\n",
    "\n",
    "This includes as additional steps:\n",
    "\n",
    "* splitting the initial, historical data, e.g., using `train_test_split`\n",
    "* comparing predictions with a held out data set"
   ]
  },
  {
   "cell_type": "code",
   "execution_count": 37,
   "metadata": {},
   "outputs": [
    {
     "data": {
      "text/plain": [
       "0.956268221574344"
      ]
     },
     "execution_count": 37,
     "metadata": {},
     "output_type": "execute_result"
    }
   ],
   "source": [
    "from sktime.classification.distance_based import KNeighborsTimeSeriesClassifier\n",
    "from sktime.datasets import load_italy_power_demand\n",
    "\n",
    "# data should be split into train/test\n",
    "X_train, y_train = load_italy_power_demand(split=\"train\", return_type=\"numpy3D\")\n",
    "X_test, y_test = load_italy_power_demand(split=\"test\", return_type=\"numpy3D\")\n",
    "\n",
    "# step 3-5 are the same\n",
    "\n",
    "from sktime.dists_kernels import FlatDist, ScipyDist\n",
    "\n",
    "eucl_dist = FlatDist(ScipyDist())\n",
    "clf = KNeighborsTimeSeriesClassifier(n_neighbors=3, distance=eucl_dist)\n",
    "\n",
    "clf.fit(X_train, y_train)\n",
    "y_pred = clf.predict(X_test)\n",
    "\n",
    "# for simplest evaluation, compare ground truth to predictions\n",
    "from sklearn.metrics import accuracy_score\n",
    "\n",
    "accuracy_score(y_test, y_pred)"
   ]
  },
  {
   "cell_type": "markdown",
   "metadata": {},
   "source": [
    "### 2.2.5 Time Series Classification - handling multivariate data\n",
    "\n",
    "Introducing three common methods to handle multivariate data:\n",
    "\n",
    "**Classifiers with native multivariate capability**, e.g., `TimeSeriesForestClassifier`.\n",
    "\n",
    "Estimators with the `capability: multivariate` tag support multivariate `X` out of the box. Refer [Section 2.3](#23-searching-for-estimators-estimator-tags) for how to search for these.\n",
    "\n",
    "**Distance aggregation via `IndepDist` or `CombinedDistance`.** \n",
    "\n",
    "`IndepDist` aggregates univariate time series distances across multiple variables to an overall multivariate distance.\n",
    "\n",
    "Mathematically, `IndepDist` represents a multivariate distance $d_g(x,y)$ defined as\n",
    "\n",
    "$$d_g​(x,y)=g(d(x_1​,y_1​),d(x_2​,y_2​),…,d(x_D​,y_D​)),$$\n",
    "\n",
    "where $g$ is an chosen aggregation function such as sum, mean, or maximum.\n",
    "\n",
    "**Distance construction via `CombinedDistance`.**\n",
    "\n",
    "`CombinedDistance` gives more flexibility in choosing the function $g$ above, supporting arbitrary arithmetic operations.\n",
    "\n",
    "The class can also be invoked by convenience syntax using arithetic operations such as `dist1 + dist2`.\n",
    "\n",
    "For further details on customizing time series distances or kernels, refer to [Tutorial](https://www.sktime.net/en/latest/examples/06_distances_kernels_alignment.html)"
   ]
  },
  {
   "cell_type": "markdown",
   "metadata": {},
   "source": [
    "`TimeSeriesForestClassifier` is a good example of an estimator which handles multivariate data natively."
   ]
  },
  {
   "cell_type": "code",
   "execution_count": 38,
   "metadata": {},
   "outputs": [],
   "source": [
    "X_train, y_train = load_basic_motions(split=\"train\", return_X_y=True)"
   ]
  },
  {
   "cell_type": "code",
   "execution_count": 39,
   "metadata": {},
   "outputs": [
    {
     "data": {
      "text/plain": [
       "(                                                dim_0                                              dim_1                                              dim_2                                              dim_3                                              dim_4                                              dim_5\n",
       " 0   0     0.079106\n",
       " 1     0.079106\n",
       " 2    -0.903497\n",
       " 3...  0     0.394032\n",
       " 1     0.394032\n",
       " 2    -3.666397\n",
       " 3...  0     0.551444\n",
       " 1     0.551444\n",
       " 2    -0.282844\n",
       " 3...  0     0.351565\n",
       " 1     0.351565\n",
       " 2    -0.095881\n",
       " 3...  0     0.023970\n",
       " 1     0.023970\n",
       " 2    -0.319605\n",
       " 3...  0     0.633883\n",
       " 1     0.633883\n",
       " 2     0.972131\n",
       " 3...\n",
       " 1   0     0.377751\n",
       " 1     0.377751\n",
       " 2     2.952965\n",
       " 3...  0    -0.610850\n",
       " 1    -0.610850\n",
       " 2     0.970717\n",
       " 3...  0    -0.147376\n",
       " 1    -0.147376\n",
       " 2    -5.962515\n",
       " 3...  0    -0.103872\n",
       " 1    -0.103872\n",
       " 2    -7.593275\n",
       " 3...  0    -0.109198\n",
       " 1    -0.109198\n",
       " 2    -0.697804\n",
       " 3...  0    -0.037287\n",
       " 1    -0.037287\n",
       " 2    -2.865789\n",
       " 3...\n",
       " 2   0    -0.813905\n",
       " 1    -0.813905\n",
       " 2    -0.424628\n",
       " 3...  0     0.825666\n",
       " 1     0.825666\n",
       " 2    -1.305033\n",
       " 3...  0     0.032712\n",
       " 1     0.032712\n",
       " 2     0.826170\n",
       " 3...  0     0.021307\n",
       " 1     0.021307\n",
       " 2    -0.372872\n",
       " 3...  0     0.122515\n",
       " 1     0.122515\n",
       " 2    -0.045277\n",
       " 3...  0     0.775041\n",
       " 1     0.775041\n",
       " 2     0.383526\n",
       " 3...\n",
       " 3   0     0.289855\n",
       " 1     0.289855\n",
       " 2    -0.669185\n",
       " 3...  0     0.284130\n",
       " 1     0.284130\n",
       " 2    -0.210466\n",
       " 3...  0     0.213680\n",
       " 1     0.213680\n",
       " 2     0.252267\n",
       " 3...  0    -0.314278\n",
       " 1    -0.314278\n",
       " 2     0.018644\n",
       " 3...  0     0.074574\n",
       " 1     0.074574\n",
       " 2     0.007990\n",
       " 3...  0    -0.079901\n",
       " 1    -0.079901\n",
       " 2     0.237040\n",
       " 3...\n",
       " 4   0    -0.123238\n",
       " 1    -0.123238\n",
       " 2    -0.249547\n",
       " 3...  0     0.379341\n",
       " 1     0.379341\n",
       " 2     0.541501\n",
       " 3...  0    -0.286006\n",
       " 1    -0.286006\n",
       " 2     0.208420\n",
       " 3...  0    -0.098545\n",
       " 1    -0.098545\n",
       " 2    -0.023970\n",
       " 3...  0     0.058594\n",
       " 1     0.058594\n",
       " 2     0.175783\n",
       " 3...  0    -0.074574\n",
       " 1    -0.074574\n",
       " 2     0.114525\n",
       " 3...\n",
       " 5   0    -0.357300\n",
       " 1    -0.357300\n",
       " 2    -0.005055\n",
       " 3...  0    -0.584885\n",
       " 1    -0.584885\n",
       " 2     0.295037\n",
       " 3...  0    -0.792751\n",
       " 1    -0.792751\n",
       " 2     0.213664\n",
       " 3...  0     0.074574\n",
       " 1     0.074574\n",
       " 2    -0.157139\n",
       " 3...  0     0.159802\n",
       " 1     0.159802\n",
       " 2    -0.306288\n",
       " 3...  0     0.023970\n",
       " 1     0.023970\n",
       " 2     1.230478\n",
       " 3...\n",
       " 6   0     1.236069\n",
       " 1     1.236069\n",
       " 2     0.118106\n",
       " 3...  0    -0.569532\n",
       " 1    -0.569532\n",
       " 2     0.264725\n",
       " 3...  0     1.536733\n",
       " 1     1.536733\n",
       " 2     0.712643\n",
       " 3...  0     0.143822\n",
       " 1     0.143822\n",
       " 2    -2.018837\n",
       " 3...  0     0.061258\n",
       " 1     0.061258\n",
       " 2    -0.111862\n",
       " 3...  0     0.905547\n",
       " 1     0.905547\n",
       " 2    -0.990775\n",
       " 3...\n",
       " 7   0    -0.366403\n",
       " 1    -0.366403\n",
       " 2     0.126830\n",
       " 3...  0     0.331289\n",
       " 1     0.331289\n",
       " 2     1.060159\n",
       " 3...  0    -0.817845\n",
       " 1    -0.817845\n",
       " 2     0.285714\n",
       " 3...  0    -0.167792\n",
       " 1    -0.167792\n",
       " 2     0.170456\n",
       " 3...  0    -0.093218\n",
       " 1    -0.093218\n",
       " 2    -0.117188\n",
       " 3...  0     0.157139\n",
       " 1     0.157139\n",
       " 2     0.719111\n",
       " 3...\n",
       " 8   0    -0.342233\n",
       " 1    -0.342233\n",
       " 2    -0.298542\n",
       " 3...  0     0.327415\n",
       " 1     0.327415\n",
       " 2    -0.527154\n",
       " 3...  0     0.157229\n",
       " 1     0.157229\n",
       " 2     0.248585\n",
       " 3...  0     0.394179\n",
       " 1     0.394179\n",
       " 2    -0.037287\n",
       " 3...  0     0.074574\n",
       " 1     0.074574\n",
       " 2    -0.087891\n",
       " 3...  0    -0.037287\n",
       " 1    -0.037287\n",
       " 2    -0.050604\n",
       " 3...\n",
       " 9   0    -0.407421\n",
       " 1    -0.407421\n",
       " 2     2.355158\n",
       " 3...  0     1.413374\n",
       " 1     1.413374\n",
       " 2    -3.928032\n",
       " 3...  0     0.092782\n",
       " 1     0.092782\n",
       " 2    -0.211622\n",
       " 3...  0    -0.066584\n",
       " 1    -0.066584\n",
       " 2    -3.630177\n",
       " 3...  0     0.223723\n",
       " 1     0.223723\n",
       " 2    -0.026634\n",
       " 3...  0     0.135832\n",
       " 1     0.135832\n",
       " 2    -1.946925\n",
       " 3...\n",
       " 10  0      0.300413\n",
       " 1      0.300413\n",
       " 2     -1.96499...  0      0.727580\n",
       " 1      0.727580\n",
       " 2     -0.30055...  0     0.878731\n",
       " 1     0.878731\n",
       " 2    -1.226914\n",
       " 3...  0    -0.082565\n",
       " 1    -0.082565\n",
       " 2    -0.631219\n",
       " 3...  0    -0.055931\n",
       " 1    -0.055931\n",
       " 2     0.039951\n",
       " 3...  0     0.668507\n",
       " 1     0.668507\n",
       " 2     0.130505\n",
       " 3...\n",
       " 11  0      1.916536\n",
       " 1      1.916536\n",
       " 2     -4.50699...  0     -0.465923\n",
       " 1     -0.465923\n",
       " 2     -6.69169...  0    -0.374403\n",
       " 1    -0.374403\n",
       " 2    -1.330023\n",
       " 3...  0     0.125179\n",
       " 1     0.125179\n",
       " 2     0.708457\n",
       " 3...  0    -0.034624\n",
       " 1    -0.034624\n",
       " 2    -0.055931\n",
       " 3...  0    -0.229050\n",
       " 1    -0.229050\n",
       " 2     2.104064\n",
       " 3...\n",
       " 12  0      2.221946\n",
       " 1      2.221946\n",
       " 2     -7.70417...  0     -0.783638\n",
       " 1     -0.783638\n",
       " 2     -4.56992...  0     0.142401\n",
       " 1     0.142401\n",
       " 2     2.447367\n",
       " 3...  0     0.055931\n",
       " 1     0.055931\n",
       " 2    -0.442120\n",
       " 3...  0     0.071911\n",
       " 1     0.071911\n",
       " 2     0.010653\n",
       " 3...  0     0.226387\n",
       " 1     0.226387\n",
       " 2    -1.978886\n",
       " 3...\n",
       " 13  0      1.463566\n",
       " 1      1.463566\n",
       " 2      6.16934...  0      1.782945\n",
       " 1      1.782945\n",
       " 2      8.09897...  0    -0.817491\n",
       " 1    -0.817491\n",
       " 2    -5.628303\n",
       " 3...  0     0.082565\n",
       " 1     0.082565\n",
       " 2    -2.671363\n",
       " 3...  0     0.159802\n",
       " 1     0.159802\n",
       " 2     0.282318\n",
       " 3...  0     0.095881\n",
       " 1     0.095881\n",
       " 2    -1.502142\n",
       " 3...\n",
       " 14  0      1.186069\n",
       " 1      1.186069\n",
       " 2      0.02547...  0      0.013225\n",
       " 1      0.013225\n",
       " 2      1.92628...  0    -0.377872\n",
       " 1    -0.377872\n",
       " 2    -1.253871\n",
       " 3...  0     0.367545\n",
       " 1     0.367545\n",
       " 2     0.221060\n",
       " 3...  0    -0.253020\n",
       " 1    -0.253020\n",
       " 2    -0.500714\n",
       " 3...  0     0.114525\n",
       " 1     0.114525\n",
       " 2    -0.173119\n",
       " 3...\n",
       " 15  0    -0.359319\n",
       " 1    -0.359319\n",
       " 2     4.011746\n",
       " 3...  0      0.152819\n",
       " 1      0.152819\n",
       " 2      1.04881...  0    -0.064578\n",
       " 1    -0.064578\n",
       " 2    -1.804903\n",
       " 3...  0     0.039951\n",
       " 1     0.039951\n",
       " 2    -1.347667\n",
       " 3...  0    -0.042614\n",
       " 1    -0.042614\n",
       " 2     0.572625\n",
       " 3...  0     0.125179\n",
       " 1     0.125179\n",
       " 2    -1.861697\n",
       " 3...\n",
       " 16  0      1.370472\n",
       " 1      1.370472\n",
       " 2      8.98811...  0     -1.054298\n",
       " 1     -1.054298\n",
       " 2      7.71701...  0    -0.451409\n",
       " 1    -0.451409\n",
       " 2    -6.073897\n",
       " 3...  0    -0.306288\n",
       " 1    -0.306288\n",
       " 2     0.458100\n",
       " 3...  0    -0.423476\n",
       " 1    -0.423476\n",
       " 2     0.761725\n",
       " 3...  0     0.292971\n",
       " 1     0.292971\n",
       " 2     2.159995\n",
       " 3...\n",
       " 17  0      0.324449\n",
       " 1      0.324449\n",
       " 2      9.29442...  0     -0.977516\n",
       " 1     -0.977516\n",
       " 2     -6.96322...  0    -1.260218\n",
       " 1    -1.260218\n",
       " 2    -2.498493\n",
       " 3...  0    -0.788358\n",
       " 1    -0.788358\n",
       " 2     2.434323\n",
       " 3...  0     0.316941\n",
       " 1     0.316941\n",
       " 2    -0.079901\n",
       " 3...  0     0.588605\n",
       " 1     0.588605\n",
       " 2     6.535916\n",
       " 3...\n",
       " 18  0      0.951708\n",
       " 1      0.951708\n",
       " 2      6.22747...  0     -1.304853\n",
       " 1     -1.304853\n",
       " 2     -1.22245...  0    -0.944935\n",
       " 1    -0.944935\n",
       " 2     0.682350\n",
       " 3...  0    -0.386189\n",
       " 1    -0.386189\n",
       " 2    -0.346238\n",
       " 3...  0     0.308951\n",
       " 1     0.308951\n",
       " 2     0.298298\n",
       " 3...  0     0.098545\n",
       " 1     0.098545\n",
       " 2    -1.408924\n",
       " 3...\n",
       " 19  0      2.508158\n",
       " 1      2.508158\n",
       " 2      2.12169...  0     -0.745654\n",
       " 1     -0.745654\n",
       " 2      1.75498...  0     1.549042\n",
       " 1     1.549042\n",
       " 2    -2.057386\n",
       " 3...  0     0.380862\n",
       " 1     0.380862\n",
       " 2    -1.097310\n",
       " 3...  0    -0.436793\n",
       " 1    -0.436793\n",
       " 2     0.644536\n",
       " 3...  0     0.591269\n",
       " 1     0.591269\n",
       " 2    -0.961478\n",
       " 3...\n",
       " 20  0    -0.071819\n",
       " 1    -0.071819\n",
       " 2    -0.360728\n",
       " 3...  0     0.354963\n",
       " 1     0.354963\n",
       " 2    -2.704719\n",
       " 3...  0     0.275074\n",
       " 1     0.275074\n",
       " 2     0.892838\n",
       " 3...  0    -1.033389\n",
       " 1    -1.033389\n",
       " 2     0.066584\n",
       " 3...  0     0.743081\n",
       " 1     0.743081\n",
       " 2    -0.271664\n",
       " 3...  0    -0.825646\n",
       " 1    -0.825646\n",
       " 2     0.122515\n",
       " 3...\n",
       " 21  0     0.648833\n",
       " 1     0.648833\n",
       " 2     0.076985\n",
       " 3...  0    -0.996722\n",
       " 1    -0.996722\n",
       " 2    -0.897264\n",
       " 3...  0    -0.644136\n",
       " 1    -0.644136\n",
       " 2     0.970515\n",
       " 3...  0    -0.101208\n",
       " 1    -0.101208\n",
       " 2    -0.407496\n",
       " 3...  0     0.055931\n",
       " 1     0.055931\n",
       " 2    -0.157139\n",
       " 3...  0    -0.031960\n",
       " 1    -0.031960\n",
       " 2    -0.343575\n",
       " 3...\n",
       " 22  0    -0.697643\n",
       " 1    -0.697643\n",
       " 2    -0.199924\n",
       " 3...  0    -0.561693\n",
       " 1    -0.561693\n",
       " 2    -0.820724\n",
       " 3...  0    -0.950458\n",
       " 1    -0.950458\n",
       " 2     1.146612\n",
       " 3...  0    -1.158567\n",
       " 1    -1.158567\n",
       " 2    -0.479407\n",
       " 3...  0     0.727101\n",
       " 1     0.727101\n",
       " 2    -0.410159\n",
       " 3...  0    -1.376964\n",
       " 1    -1.376964\n",
       " 2     0.130505\n",
       " 3...\n",
       " 23  0    -0.647511\n",
       " 1    -0.647511\n",
       " 2    -0.156391\n",
       " 3...  0    -0.111979\n",
       " 1    -0.111979\n",
       " 2    -0.159968\n",
       " 3...  0    -0.739682\n",
       " 1    -0.739682\n",
       " 2     0.441646\n",
       " 3...  0     0.202416\n",
       " 1     0.202416\n",
       " 2    -0.615239\n",
       " 3...  0     0.165129\n",
       " 1     0.165129\n",
       " 2     0.007990\n",
       " 3...  0     0.074574\n",
       " 1     0.074574\n",
       " 2     0.127842\n",
       " 3...\n",
       " 24  0     0.279069\n",
       " 1     0.279069\n",
       " 2     0.707552\n",
       " 3...  0    -0.110199\n",
       " 1    -0.110199\n",
       " 2    -0.031651\n",
       " 3...  0     0.142979\n",
       " 1     0.142979\n",
       " 2     0.919129\n",
       " 3...  0    -0.026634\n",
       " 1    -0.026634\n",
       " 2    -0.631219\n",
       " 3...  0    -0.010653\n",
       " 1    -0.010653\n",
       " 2     0.290308\n",
       " 3...  0     0.077238\n",
       " 1     0.077238\n",
       " 2     0.122515\n",
       " 3...\n",
       " 25  0    -0.185181\n",
       " 1    -0.185181\n",
       " 2    -1.319727\n",
       " 3...  0     0.059288\n",
       " 1     0.059288\n",
       " 2    -1.194247\n",
       " 3...  0     0.250270\n",
       " 1     0.250270\n",
       " 2     0.418052\n",
       " 3...  0     0.154476\n",
       " 1     0.154476\n",
       " 2     0.047941\n",
       " 3...  0     0.167792\n",
       " 1     0.167792\n",
       " 2    -0.215733\n",
       " 3...  0     0.732428\n",
       " 1     0.732428\n",
       " 2    -0.050604\n",
       " 3...\n",
       " 26  0    -0.761604\n",
       " 1    -0.761604\n",
       " 2     0.121078\n",
       " 3...  0     0.260125\n",
       " 1     0.260125\n",
       " 2    -1.423255\n",
       " 3...  0    -0.064487\n",
       " 1    -0.064487\n",
       " 2     0.075600\n",
       " 3...  0     0.069248\n",
       " 1     0.069248\n",
       " 2    -0.282318\n",
       " 3...  0     0.242367\n",
       " 1     0.242367\n",
       " 2    -0.332922\n",
       " 3...  0    -0.007990\n",
       " 1    -0.007990\n",
       " 2     0.239704\n",
       " 3...\n",
       " 27  0    -0.255266\n",
       " 1    -0.255266\n",
       " 2    -0.792226\n",
       " 3...  0    -0.154748\n",
       " 1    -0.154748\n",
       " 2    -1.176848\n",
       " 3...  0    -0.273293\n",
       " 1    -0.273293\n",
       " 2    -0.709993\n",
       " 3...  0    -0.050604\n",
       " 1    -0.050604\n",
       " 2    -0.237040\n",
       " 3...  0     0.015980\n",
       " 1     0.015980\n",
       " 2    -0.314278\n",
       " 3...  0     0.013317\n",
       " 1     0.013317\n",
       " 2     0.170456\n",
       " 3...\n",
       " 28  0    -0.373788\n",
       " 1    -0.373788\n",
       " 2     0.076140\n",
       " 3...  0     0.248056\n",
       " 1     0.248056\n",
       " 2    -1.703104\n",
       " 3...  0     0.164594\n",
       " 1     0.164594\n",
       " 2     0.803796\n",
       " 3...  0    -0.143822\n",
       " 1    -0.143822\n",
       " 2     0.026634\n",
       " 3...  0    -0.183773\n",
       " 1    -0.183773\n",
       " 2    -0.620566\n",
       " 3...  0    -0.015980\n",
       " 1    -0.015980\n",
       " 2    -3.941791\n",
       " 3...\n",
       " 29  0     0.118553\n",
       " 1     0.118553\n",
       " 2    -0.545332\n",
       " 3...  0     0.419456\n",
       " 1     0.419456\n",
       " 2     0.371223\n",
       " 3...  0    -0.283447\n",
       " 1    -0.283447\n",
       " 2     0.707172\n",
       " 3...  0     0.135832\n",
       " 1     0.135832\n",
       " 2     0.159802\n",
       " 3...  0    -0.079901\n",
       " 1    -0.079901\n",
       " 2    -0.090555\n",
       " 3...  0     0.050604\n",
       " 1     0.050604\n",
       " 2     0.474080\n",
       " 3...\n",
       " 30  0     -0.771623\n",
       " 1     -0.771623\n",
       " 2     -2.32382...  0      0.372042\n",
       " 1      0.372042\n",
       " 2     -0.29603...  0     -0.145753\n",
       " 1     -0.145753\n",
       " 2      1.71501...  0    -0.031960\n",
       " 1    -0.031960\n",
       " 2     0.383526\n",
       " 3...  0     0.167792\n",
       " 1     0.167792\n",
       " 2     0.229050\n",
       " 3...  0     -0.362219\n",
       " 1     -0.362219\n",
       " 2     -0.23970...\n",
       " 31  0      0.130669\n",
       " 1      0.130669\n",
       " 2      0.06882...  0     -0.119724\n",
       " 1     -0.119724\n",
       " 2     -4.08360...  0     -1.019916\n",
       " 1     -1.019916\n",
       " 2      5.39025...  0     0.684487\n",
       " 1     0.684487\n",
       " 2     0.394179\n",
       " 3...  0     0.290308\n",
       " 1     0.290308\n",
       " 2     0.617902\n",
       " 3...  0     0.679160\n",
       " 1     0.679160\n",
       " 2     1.595360\n",
       " 3...\n",
       " 32  0     -0.592124\n",
       " 1     -0.592124\n",
       " 2      0.33036...  0     -0.392740\n",
       " 1     -0.392740\n",
       " 2      0.14477...  0     -1.411327\n",
       " 1     -1.411327\n",
       " 2     -0.98216...  0    -0.306288\n",
       " 1    -0.306288\n",
       " 2    -0.133169\n",
       " 3...  0     0.354229\n",
       " 1     0.354229\n",
       " 2     0.221060\n",
       " 3...  0    -0.143822\n",
       " 1    -0.143822\n",
       " 2     0.213070\n",
       " 3...\n",
       " 33  0    -0.166323\n",
       " 1    -0.166323\n",
       " 2    -0.227300\n",
       " 3...  0     0.768712\n",
       " 1     0.768712\n",
       " 2    -0.677960\n",
       " 3...  0     -0.344511\n",
       " 1     -0.344511\n",
       " 2     -1.58804...  0     0.218397\n",
       " 1     0.218397\n",
       " 2     2.141352\n",
       " 3...  0     0.135832\n",
       " 1     0.135832\n",
       " 2     0.250357\n",
       " 3...  0     0.162466\n",
       " 1     0.162466\n",
       " 2     1.808430\n",
       " 3...\n",
       " 34  0      0.052231\n",
       " 1      0.052231\n",
       " 2     -0.54804...  0     -0.730486\n",
       " 1     -0.730486\n",
       " 2      0.70700...  0    -0.518104\n",
       " 1    -0.518104\n",
       " 2    -1.179430\n",
       " 3...  0    -0.159802\n",
       " 1    -0.159802\n",
       " 2    -0.239704\n",
       " 3...  0    -0.045277\n",
       " 1    -0.045277\n",
       " 2     0.023970\n",
       " 3...  0     -0.029297\n",
       " 1     -0.029297\n",
       " 2      0.29829...\n",
       " 35  0      1.102297\n",
       " 1      1.102297\n",
       " 2      0.73238...  0    -1.790773\n",
       " 1    -1.790773\n",
       " 2     0.661191\n",
       " 3...  0      0.001413\n",
       " 1      0.001413\n",
       " 2     -1.57956...  0     0.258347\n",
       " 1     0.258347\n",
       " 2    -0.127842\n",
       " 3...  0     -0.165129\n",
       " 1     -0.165129\n",
       " 2     -0.16779...  0      0.516694\n",
       " 1      0.516694\n",
       " 2     -0.58860...\n",
       " 36  0      1.686827\n",
       " 1      1.686827\n",
       " 2      0.88247...  0    -3.375054\n",
       " 1    -3.375054\n",
       " 2     1.149305\n",
       " 3...  0     -1.295042\n",
       " 1     -1.295042\n",
       " 2     -0.97372...  0    -0.711121\n",
       " 1    -0.711121\n",
       " 2    -1.861697\n",
       " 3...  0      0.013317\n",
       " 1      0.013317\n",
       " 2      0.20508...  0    -0.207743\n",
       " 1    -0.207743\n",
       " 2     0.114525\n",
       " 3...\n",
       " 37  0     1.142016\n",
       " 1     1.142016\n",
       " 2     0.840727\n",
       " 3...  0     1.018433\n",
       " 1     1.018433\n",
       " 2    -2.015249\n",
       " 3...  0     0.677593\n",
       " 1     0.677593\n",
       " 2    -0.742828\n",
       " 3...  0     0.175783\n",
       " 1     0.175783\n",
       " 2     1.611340\n",
       " 3...  0    -0.460763\n",
       " 1    -0.460763\n",
       " 2    -1.358320\n",
       " 3...  0     0.679160\n",
       " 1     0.679160\n",
       " 2     2.615432\n",
       " 3...\n",
       " 38  0    -0.396060\n",
       " 1    -0.396060\n",
       " 2    -0.268022\n",
       " 3...  0    -0.686878\n",
       " 1    -0.686878\n",
       " 2     0.103510\n",
       " 3...  0    -0.350328\n",
       " 1    -0.350328\n",
       " 2    -1.281489\n",
       " 3...  0    -0.157139\n",
       " 1    -0.157139\n",
       " 2     0.274327\n",
       " 3...  0    -0.058594\n",
       " 1    -0.058594\n",
       " 2    -0.471417\n",
       " 3...  0     0.151812\n",
       " 1     0.151812\n",
       " 2     0.332922\n",
       " 3...\n",
       " 39  0     1.211973\n",
       " 1     1.211973\n",
       " 2    -0.605948\n",
       " 3...  0    -0.247107\n",
       " 1    -0.247107\n",
       " 2    -3.855673\n",
       " 3...  0     0.327837\n",
       " 1     0.327837\n",
       " 2     7.113185\n",
       " 3...  0     0.058594\n",
       " 1     0.058594\n",
       " 2     0.900220\n",
       " 3...  0    -0.527348\n",
       " 1    -0.527348\n",
       " 2    -1.326360\n",
       " 3...  0    -0.042614\n",
       " 1    -0.042614\n",
       " 2    -0.095881\n",
       " 3...,\n",
       " array(['standing', 'standing', 'standing', 'standing', 'standing',\n",
       "        'standing', 'standing', 'standing', 'standing', 'standing',\n",
       "        'running', 'running', 'running', 'running', 'running', 'running',\n",
       "        'running', 'running', 'running', 'running', 'walking', 'walking',\n",
       "        'walking', 'walking', 'walking', 'walking', 'walking', 'walking',\n",
       "        'walking', 'walking', 'badminton', 'badminton', 'badminton',\n",
       "        'badminton', 'badminton', 'badminton', 'badminton', 'badminton',\n",
       "        'badminton', 'badminton'], dtype='<U9'))"
      ]
     },
     "execution_count": 39,
     "metadata": {},
     "output_type": "execute_result"
    }
   ],
   "source": [
    "test = load_basic_motions(split=\"train\", return_X_y=True)\n",
    "test"
   ]
  },
  {
   "cell_type": "code",
   "execution_count": 40,
   "metadata": {},
   "outputs": [
    {
     "data": {
      "application/vnd.microsoft.datawrangler.viewer.v0+json": {
       "columns": [
        {
         "name": "index",
         "rawType": "int64",
         "type": "integer"
        },
        {
         "name": "dim_0",
         "rawType": "object",
         "type": "unknown"
        },
        {
         "name": "dim_1",
         "rawType": "object",
         "type": "unknown"
        },
        {
         "name": "dim_2",
         "rawType": "object",
         "type": "unknown"
        },
        {
         "name": "dim_3",
         "rawType": "object",
         "type": "unknown"
        },
        {
         "name": "dim_4",
         "rawType": "object",
         "type": "unknown"
        },
        {
         "name": "dim_5",
         "rawType": "object",
         "type": "unknown"
        }
       ],
       "ref": "8e481529-01b4-4e25-897e-c203b142bde7",
       "rows": [
        [
         "0",
         "0     0.079106\n1     0.079106\n2    -0.903497\n3     1.116125\n4     1.638200\n        ...   \n95   -0.167918\n96   -0.227670\n97   -0.193271\n98   -0.193271\n99   -0.205150\nLength: 100, dtype: float64",
         "0     0.394032\n1     0.394032\n2    -3.666397\n3    -0.656101\n4     1.405135\n        ...   \n95    0.224085\n96    0.118392\n97    0.055227\n98    0.055227\n99   -0.003390\nLength: 100, dtype: float64",
         "0     0.551444\n1     0.551444\n2    -0.282844\n3     0.333118\n4     0.393875\n        ...   \n95    0.039889\n96   -0.088594\n97   -0.041530\n98   -0.041530\n99   -0.015113\nLength: 100, dtype: float64",
         "0     0.351565\n1     0.351565\n2    -0.095881\n3     1.624657\n4     1.187864\n        ...   \n95    0.039951\n96   -0.029297\n97    0.000000\n98    0.000000\n99   -0.007990\nLength: 100, dtype: float64",
         "0     0.023970\n1     0.023970\n2    -0.319605\n3    -0.569962\n4    -0.271664\n        ...   \n95   -0.010653\n96    0.005327\n97   -0.013317\n98   -0.013317\n99   -0.010653\nLength: 100, dtype: float64",
         "0     0.633883\n1     0.633883\n2     0.972131\n3     1.209171\n4     1.739182\n        ...   \n95   -0.021307\n96   -0.042614\n97   -0.063921\n98   -0.063921\n99   -0.031960\nLength: 100, dtype: float64"
        ],
        [
         "1",
         "0     0.377751\n1     0.377751\n2     2.952965\n3     4.310925\n4     3.256906\n        ...   \n95   -0.287704\n96   -0.323383\n97   -0.323383\n98   -0.333625\n99   -0.333625\nLength: 100, dtype: float64",
         "0    -0.610850\n1    -0.610850\n2     0.970717\n3    -1.625661\n4    -6.969257\n        ...   \n95    0.344518\n96   -0.098593\n97   -0.098593\n98   -0.215987\n99   -0.215987\nLength: 100, dtype: float64",
         "0    -0.147376\n1    -0.147376\n2    -5.962515\n3    -1.898794\n4    -2.730436\n        ...   \n95    0.055352\n96    0.063051\n97    0.063051\n98   -0.000848\n99   -0.000848\nLength: 100, dtype: float64",
         "0    -0.103872\n1    -0.103872\n2    -7.593275\n3    -5.345389\n4    -2.743274\n        ...   \n95   -0.015980\n96   -0.018644\n97   -0.018644\n98   -0.007990\n99   -0.007990\nLength: 100, dtype: float64",
         "0    -0.109198\n1    -0.109198\n2    -0.697804\n3     0.402169\n4     0.615239\n        ...   \n95   -0.007990\n96   -0.010653\n97   -0.010653\n98    0.015980\n99    0.015980\nLength: 100, dtype: float64",
         "0    -0.037287\n1    -0.037287\n2    -2.865789\n3    -4.176168\n4    -3.417107\n        ...   \n95   -0.039951\n96   -0.135832\n97   -0.135832\n98    0.034624\n99    0.034624\nLength: 100, dtype: float64"
        ],
        [
         "2",
         "0    -0.813905\n1    -0.813905\n2    -0.424628\n3     0.316895\n4     0.228580\n        ...   \n95   -0.255364\n96   -0.066292\n97   -0.206440\n98   -0.544255\n99   -0.544255\nLength: 100, dtype: float64",
         "0     0.825666\n1     0.825666\n2    -1.305033\n3    -0.507693\n4     0.028821\n        ...   \n95    0.314641\n96    0.610305\n97    0.209063\n98   -0.558847\n99   -0.558847\nLength: 100, dtype: float64",
         "0     0.032712\n1     0.032712\n2     0.826170\n3     0.218569\n4     0.586313\n        ...   \n95   -0.091294\n96    0.286864\n97    0.679102\n98    0.379032\n99    0.379032\nLength: 100, dtype: float64",
         "0     0.021307\n1     0.021307\n2    -0.372872\n3     0.023970\n4     0.066584\n        ...   \n95   -0.292971\n96    0.095881\n97    0.279654\n98    0.159802\n99    0.159802\nLength: 100, dtype: float64",
         "0     0.122515\n1     0.122515\n2    -0.045277\n3    -0.130505\n4    -0.263674\n        ...   \n95    0.077238\n96   -0.034624\n97   -0.031960\n98    0.114525\n99    0.114525\nLength: 100, dtype: float64",
         "0     0.775041\n1     0.775041\n2     0.383526\n3     0.588605\n4     0.817655\n        ...   \n95   -0.077238\n96   -0.167792\n97   -0.372872\n98   -0.423476\n99   -0.423476\nLength: 100, dtype: float64"
        ],
        [
         "3",
         "0     0.289855\n1     0.289855\n2    -0.669185\n3     0.032063\n4    -0.214649\n        ...   \n95    0.059766\n96   -0.186758\n97   -0.121576\n98   -0.097311\n99   -0.294934\nLength: 100, dtype: float64",
         "0     0.284130\n1     0.284130\n2    -0.210466\n3     0.830952\n4     0.348907\n        ...   \n95   -0.600759\n96   -0.208328\n97    0.565419\n98    0.916712\n99    1.221973\nLength: 100, dtype: float64",
         "0     0.213680\n1     0.213680\n2     0.252267\n3     0.509806\n4    -0.375393\n        ...   \n95   -0.250041\n96   -0.103415\n97   -0.078510\n98    0.007786\n99    0.173488\nLength: 100, dtype: float64",
         "0    -0.314278\n1    -0.314278\n2     0.018644\n3    -0.015980\n4     0.050604\n        ...   \n95    0.005327\n96    0.005327\n97   -0.015980\n98   -0.106535\n99   -0.058594\nLength: 100, dtype: float64",
         "0     0.074574\n1     0.074574\n2     0.007990\n3    -0.093218\n4    -0.015980\n        ...   \n95    0.037287\n96   -0.023970\n97    0.000000\n98   -0.055931\n99   -0.066584\nLength: 100, dtype: float64",
         "0    -0.079901\n1    -0.079901\n2     0.237040\n3     0.146486\n4     0.101208\n        ...   \n95    0.207743\n96    0.436793\n97    0.420813\n98    0.375536\n99    0.074574\nLength: 100, dtype: float64"
        ],
        [
         "4",
         "0    -0.123238\n1    -0.123238\n2    -0.249547\n3    -0.272929\n4    -0.272929\n        ...   \n95   -0.348184\n96   -0.233180\n97   -0.161667\n98   -0.161667\n99   -0.344005\nLength: 100, dtype: float64",
         "0     0.379341\n1     0.379341\n2     0.541501\n3    -0.158302\n4    -0.158302\n        ...   \n95    0.427164\n96    0.216595\n97   -0.034599\n98   -0.034599\n99   -0.341859\nLength: 100, dtype: float64",
         "0    -0.286006\n1    -0.286006\n2     0.208420\n3     0.517183\n4     0.517183\n        ...   \n95   -0.012385\n96    0.117031\n97    0.067971\n98    0.067971\n99    0.072477\nLength: 100, dtype: float64",
         "0    -0.098545\n1    -0.098545\n2    -0.023970\n3    -0.141159\n4    -0.141159\n        ...   \n95   -0.010653\n96   -0.018644\n97   -0.007990\n98   -0.007990\n99    0.015980\nLength: 100, dtype: float64",
         "0     0.058594\n1     0.058594\n2     0.175783\n3     0.042614\n4     0.042614\n        ...   \n95    0.000000\n96   -0.010653\n97    0.010653\n98    0.010653\n99    0.053267\nLength: 100, dtype: float64",
         "0    -0.074574\n1    -0.074574\n2     0.114525\n3     0.023970\n4     0.023970\n        ...   \n95    0.047941\n96   -0.117188\n97   -0.141159\n98   -0.141159\n99    0.000000\nLength: 100, dtype: float64"
        ],
        [
         "5",
         "0    -0.357300\n1    -0.357300\n2    -0.005055\n3     0.188406\n4    -0.005550\n        ...   \n95   -0.131495\n96   -0.227401\n97   -0.077186\n98   -0.151137\n99   -0.074966\nLength: 100, dtype: float64",
         "0    -0.584885\n1    -0.584885\n2     0.295037\n3     1.121559\n4     1.499461\n        ...   \n95    0.019872\n96    0.081473\n97    0.030411\n98   -0.050431\n99    0.118589\nLength: 100, dtype: float64",
         "0    -0.792751\n1    -0.792751\n2     0.213664\n3     0.940957\n4     0.660870\n        ...   \n95    0.127541\n96   -0.001277\n97    0.020097\n98   -0.050165\n99    0.003065\nLength: 100, dtype: float64",
         "0     0.074574\n1     0.074574\n2    -0.157139\n3     0.173119\n4     0.242367\n        ...   \n95    0.021307\n96   -0.002663\n97   -0.007990\n98   -0.074574\n99   -0.018644\nLength: 100, dtype: float64",
         "0     0.159802\n1     0.159802\n2    -0.306288\n3    -0.324931\n4    -0.074574\n        ...   \n95   -0.007990\n96    0.015980\n97    0.037287\n98    0.015980\n99   -0.005327\nLength: 100, dtype: float64",
         "0     0.023970\n1     0.023970\n2     1.230478\n3     0.972131\n4     0.548655\n        ...   \n95    0.018644\n96    0.021307\n97    0.010653\n98    0.053267\n99    0.042614\nLength: 100, dtype: float64"
        ],
        [
         "6",
         "0     1.236069\n1     1.236069\n2     0.118106\n3    -0.311451\n4     0.800338\n        ...   \n95   -0.079782\n96   -0.128078\n97   -0.236547\n98   -0.347654\n99   -0.284163\nLength: 100, dtype: float64",
         "0    -0.569532\n1    -0.569532\n2     0.264725\n3    -0.240149\n4     0.798940\n        ...   \n95    0.211311\n96    0.390654\n97    0.407018\n98    0.301901\n99   -0.272509\nLength: 100, dtype: float64",
         "0     1.536733\n1     1.536733\n2     0.712643\n3     1.020031\n4    -0.432661\n        ...   \n95    0.029595\n96   -0.058964\n97   -0.193675\n98   -0.051349\n99    0.103274\nLength: 100, dtype: float64",
         "0     0.143822\n1     0.143822\n2    -2.018837\n3    -0.745744\n4    -1.134597\n        ...   \n95    0.066584\n96   -0.047941\n97   -0.138495\n98   -0.087891\n99   -0.093218\nLength: 100, dtype: float64",
         "0     0.061258\n1     0.061258\n2    -0.111862\n3     0.133169\n4    -0.290308\n        ...   \n95    0.000000\n96    0.005327\n97    0.013317\n98   -0.047941\n99   -0.047941\nLength: 100, dtype: float64",
         "0     0.905547\n1     0.905547\n2    -0.990775\n3    -1.012082\n4    -1.209171\n        ...   \n95    0.103872\n96    0.058594\n97   -0.042614\n98   -0.135832\n99   -0.295634\nLength: 100, dtype: float64"
        ],
        [
         "7",
         "0    -0.366403\n1    -0.366403\n2     0.126830\n3     0.126830\n4    -0.284847\n        ...   \n95   -0.219388\n96   -0.219388\n97   -0.162921\n98   -0.162921\n99   -0.208225\nLength: 100, dtype: float64",
         "0     0.331289\n1     0.331289\n2     1.060159\n3     1.060159\n4     1.197939\n        ...   \n95    1.121405\n96    1.121405\n97   -0.070385\n98   -0.070385\n99   -0.871569\nLength: 100, dtype: float64",
         "0    -0.817845\n1    -0.817845\n2     0.285714\n3     0.285714\n4    -0.166016\n        ...   \n95   -0.182135\n96   -0.182135\n97    0.244703\n98    0.244703\n99    0.426556\nLength: 100, dtype: float64",
         "0    -0.167792\n1    -0.167792\n2     0.170456\n3     0.170456\n4    -0.149149\n        ...   \n95   -0.101208\n96   -0.101208\n97   -0.234377\n98   -0.234377\n99    0.023970\nLength: 100, dtype: float64",
         "0    -0.093218\n1    -0.093218\n2    -0.117188\n3    -0.117188\n4    -0.007990\n        ...   \n95   -0.079901\n96   -0.079901\n97   -0.074574\n98   -0.074574\n99   -0.018644\nLength: 100, dtype: float64",
         "0     0.157139\n1     0.157139\n2     0.719111\n3     0.719111\n4     0.474080\n        ...   \n95   -0.125179\n96   -0.125179\n97   -0.503377\n98   -0.503377\n99   -0.476744\nLength: 100, dtype: float64"
        ],
        [
         "8",
         "0    -0.342233\n1    -0.342233\n2    -0.298542\n3    -0.326765\n4    -0.259437\n        ...   \n95   -0.203504\n96   -0.229990\n97   -0.281073\n98   -0.373028\n99   -0.238221\nLength: 100, dtype: float64",
         "0     0.327415\n1     0.327415\n2    -0.527154\n3    -0.759128\n4    -0.840716\n        ...   \n95    0.112583\n96   -0.686930\n97   -1.299318\n98   -0.970840\n99   -0.360824\nLength: 100, dtype: float64",
         "0     0.157229\n1     0.157229\n2     0.248585\n3     1.054512\n4     0.635881\n        ...   \n95    0.191679\n96    0.168542\n97   -0.180477\n98   -0.540332\n99   -0.489100\nLength: 100, dtype: float64",
         "0     0.394179\n1     0.394179\n2    -0.037287\n3     0.178446\n4     0.231713\n        ...   \n95    0.202416\n96    0.122515\n97    0.055931\n98   -0.162466\n99   -0.173119\nLength: 100, dtype: float64",
         "0     0.074574\n1     0.074574\n2    -0.087891\n3    -0.103872\n4     0.010653\n        ...   \n95    0.170456\n96    0.231713\n97    0.245030\n98    0.039951\n99   -0.154476\nLength: 100, dtype: float64",
         "0    -0.037287\n1    -0.037287\n2    -0.050604\n3     0.087891\n4     0.253020\n        ...   \n95   -0.538001\n96   -0.519358\n97   -0.287644\n98    0.234377\n99    0.476744\nLength: 100, dtype: float64"
        ],
        [
         "9",
         "0    -0.407421\n1    -0.407421\n2     2.355158\n3     1.147434\n4     0.142240\n        ...   \n95   -0.015828\n96   -0.241701\n97   -0.294824\n98   -0.238427\n99   -0.236918\nLength: 100, dtype: float64",
         "0     1.413374\n1     1.413374\n2    -3.928032\n3    -1.480309\n4    -2.782044\n        ...   \n95   -0.390737\n96   -0.462142\n97    0.216479\n98    0.328636\n99    0.537231\nLength: 100, dtype: float64",
         "0     0.092782\n1     0.092782\n2    -0.211622\n3     0.651368\n4    -0.801197\n        ...   \n95    0.194530\n96    0.139095\n97    0.028430\n98   -0.371993\n99   -0.496802\nLength: 100, dtype: float64",
         "0    -0.066584\n1    -0.066584\n2    -3.630177\n3    -1.603350\n4    -1.403597\n        ...   \n95   -0.159802\n96    0.007990\n97    0.255684\n98    0.026634\n99    0.053267\nLength: 100, dtype: float64",
         "0     0.223723\n1     0.223723\n2    -0.026634\n3     0.279654\n4     0.234377\n        ...   \n95    0.005327\n96    0.026634\n97    0.111862\n98    0.114525\n99    0.029297\nLength: 100, dtype: float64",
         "0     0.135832\n1     0.135832\n2    -1.946925\n3    -1.909638\n4    -1.475509\n        ...   \n95   -0.007990\n96    0.106535\n97    0.143822\n98    0.138495\n99    0.085228\nLength: 100, dtype: float64"
        ],
        [
         "10",
         "0      0.300413\n1      0.300413\n2     -1.964993\n3     -3.159662\n4     -6.498703\n        ...    \n95     7.052093\n96     9.021995\n97     3.552242\n98    -6.654377\n99   -13.677135\nLength: 100, dtype: float64",
         "0      0.727580\n1      0.727580\n2     -0.300555\n3     -2.094925\n4     -2.887628\n        ...    \n95    11.111779\n96     3.405194\n97   -12.276318\n98    -8.576643\n99    -6.305249\nLength: 100, dtype: float64",
         "0     0.878731\n1     0.878731\n2    -1.226914\n3     2.170437\n4     1.977581\n        ...   \n95   -3.803361\n96   -2.317320\n97   -4.569549\n98   -3.473584\n99   -0.517220\nLength: 100, dtype: float64",
         "0    -0.082565\n1    -0.082565\n2    -0.631219\n3    -0.745744\n4    -0.199753\n        ...   \n95   -0.170456\n96    0.471417\n97   -2.378392\n98   -2.849809\n99   -2.916393\nLength: 100, dtype: float64",
         "0    -0.055931\n1    -0.055931\n2     0.039951\n3    -0.055931\n4     0.127842\n        ...   \n95    0.090555\n96    1.368974\n97    3.156097\n98    2.897749\n99    3.038908\nLength: 100, dtype: float64",
         "0     0.668507\n1     0.668507\n2     0.130505\n3    -0.034624\n4     0.300961\n        ...   \n95    0.759061\n96   -4.445169\n97   -4.778091\n98   -2.897749\n99   -0.234377\nLength: 100, dtype: float64"
        ],
        [
         "11",
         "0      1.916536\n1      1.916536\n2     -4.506995\n3      7.477389\n4     15.911235\n        ...    \n95    12.796130\n96     9.235642\n97    13.419512\n98    13.419512\n99   -10.327865\nLength: 100, dtype: float64",
         "0     -0.465923\n1     -0.465923\n2     -6.691695\n3    -10.995518\n4     -7.805502\n        ...    \n95    -2.332604\n96    10.737961\n97    -2.331311\n98    -2.331311\n99   -10.408194\nLength: 100, dtype: float64",
         "0    -0.374403\n1    -0.374403\n2    -1.330023\n3    -3.230503\n4    -3.833633\n        ...   \n95   -4.828838\n96   -3.584698\n97   -0.238991\n98   -0.238991\n99    1.924294\nLength: 100, dtype: float64",
         "0     0.125179\n1     0.125179\n2     0.708457\n3     2.972324\n4     3.803296\n        ...   \n95    0.018644\n96    0.306288\n97   -0.617902\n98   -0.617902\n99   -2.503570\nLength: 100, dtype: float64",
         "0    -0.034624\n1    -0.034624\n2    -0.055931\n3    -1.965569\n4    -0.980121\n        ...   \n95   -0.332922\n96   -0.697804\n97    0.255684\n98    0.255684\n99    0.261010\nLength: 100, dtype: float64",
         "0    -0.229050\n1    -0.229050\n2     2.104064\n3     5.177596\n4     7.372215\n        ...   \n95    6.317520\n96    1.667271\n97   -6.330837\n98   -6.330837\n99   -2.189292\nLength: 100, dtype: float64"
        ],
        [
         "12",
         "0      2.221946\n1      2.221946\n2     -7.704172\n3    -10.204578\n4      2.699480\n        ...    \n95   -12.811468\n96    -6.263309\n97     8.318001\n98     9.266587\n99     7.245494\nLength: 100, dtype: float64",
         "0     -0.783638\n1     -0.783638\n2     -4.569924\n3     -7.286369\n4    -11.371817\n        ...    \n95    -6.135539\n96    -3.015144\n97    -9.993502\n98     1.553208\n99     8.805635\nLength: 100, dtype: float64",
         "0     0.142401\n1     0.142401\n2     2.447367\n3    -0.526095\n4    -3.895602\n        ...   \n95   -0.729235\n96   -2.170100\n97   -3.156351\n98   -3.758828\n99   -4.066924\nLength: 100, dtype: float64",
         "0     0.055931\n1     0.055931\n2    -0.442120\n3     0.221060\n4     2.961670\n        ...   \n95   -0.849616\n96    0.756398\n97    2.735284\n98    0.093218\n99   -0.045277\nLength: 100, dtype: float64",
         "0     0.071911\n1     0.071911\n2     0.010653\n3    -0.141159\n4    -0.969468\n        ...   \n95   -0.356892\n96   -1.909638\n97   -2.383719\n98   -0.881576\n99   -0.002663\nLength: 100, dtype: float64",
         "0     0.226387\n1     0.226387\n2    -1.978886\n3     0.181109\n4     4.186821\n        ...   \n95    0.604586\n96    3.489018\n97    5.926004\n98    3.960435\n99   -0.162466\nLength: 100, dtype: float64"
        ],
        [
         "13",
         "0      1.463566\n1      1.463566\n2      6.169349\n3     12.296801\n4     11.157435\n        ...    \n95    11.115237\n96    10.871691\n97    15.845107\n98   -12.584620\n99   -13.454231\nLength: 100, dtype: float64",
         "0      1.782945\n1      1.782945\n2      8.098975\n3      0.205007\n4     -6.774211\n        ...    \n95    14.871746\n96    13.460014\n97   -10.625976\n98   -14.784469\n99    -9.446130\nLength: 100, dtype: float64",
         "0    -0.817491\n1    -0.817491\n2    -5.628303\n3    -1.648510\n4    -5.807180\n        ...   \n95   -2.275496\n96   -1.530095\n97   -3.878074\n98   -1.550934\n99    3.256126\nLength: 100, dtype: float64",
         "0     0.082565\n1     0.082565\n2    -2.671363\n3    -3.390473\n4    -4.602308\n        ...   \n95    0.814992\n96   -0.210406\n97   -3.441077\n98   -0.250357\n99    0.229050\nLength: 100, dtype: float64",
         "0     0.159802\n1     0.159802\n2     0.282318\n3     3.235998\n4     4.652912\n        ...   \n95   -0.775041\n96    1.595360\n97    3.944455\n98   -0.724437\n99   -1.262439\nLength: 100, dtype: float64",
         "0     0.095881\n1     0.095881\n2    -1.502142\n3    -2.567491\n4    -3.949781\n        ...   \n95    1.608677\n96   -2.719303\n97   -7.798355\n98   -2.287837\n99    1.526112\nLength: 100, dtype: float64"
        ],
        [
         "14",
         "0      1.186069\n1      1.186069\n2      0.025475\n3     -2.577381\n4     -6.588059\n        ...    \n95     7.833264\n96    -6.406500\n97   -14.138376\n98    -7.391796\n99    15.626068\nLength: 100, dtype: float64",
         "0      0.013225\n1      0.013225\n2      1.926289\n3     -4.003676\n4     -6.491396\n        ...    \n95   -13.177158\n96   -16.541258\n97    -7.481679\n98   -12.298756\n99   -10.701664\nLength: 100, dtype: float64",
         "0    -0.377872\n1    -0.377872\n2    -1.253871\n3     1.080195\n4     0.128614\n        ...   \n95    0.058207\n96    2.297507\n97    3.088278\n98   -1.373897\n99   -1.489454\nLength: 100, dtype: float64",
         "0     0.367545\n1     0.367545\n2     0.221060\n3    -1.179874\n4    -0.532675\n        ...   \n95    0.135832\n96    0.149149\n97   -0.535338\n98   -0.162466\n99    3.235998\nLength: 100, dtype: float64",
         "0    -0.253020\n1    -0.253020\n2    -0.500714\n3    -0.002663\n4     0.197090\n        ...   \n95    2.594125\n96   -0.545991\n97   -0.436793\n98   -0.753734\n99   -1.406261\nLength: 100, dtype: float64",
         "0     0.114525\n1     0.114525\n2    -0.173119\n3    -0.311615\n4     1.297062\n        ...   \n95   -7.345582\n96   -3.531632\n97    1.182537\n98    3.275948\n99    7.547998\nLength: 100, dtype: float64"
        ],
        [
         "15",
         "0    -0.359319\n1    -0.359319\n2     4.011746\n3     3.969688\n4     3.969688\n        ...   \n95    9.113968\n96    9.113968\n97    9.639398\n98    9.110810\n99   -3.754989\nLength: 100, dtype: float64",
         "0      0.152819\n1      0.152819\n2      1.048811\n3     -1.928682\n4     -1.928682\n        ...    \n95    11.587113\n96    11.587113\n97     8.134124\n98   -12.331043\n99   -16.276659\nLength: 100, dtype: float64",
         "0    -0.064578\n1    -0.064578\n2    -1.804903\n3     1.817027\n4     1.817027\n        ...   \n95   -1.393714\n96   -1.393714\n97   -0.697245\n98   -1.462568\n99   -0.515310\nLength: 100, dtype: float64",
         "0     0.039951\n1     0.039951\n2    -1.347667\n3    -0.066584\n4    -0.066584\n        ...   \n95   -0.822982\n96   -0.822982\n97   -0.993438\n98   -2.386382\n99   -0.876250\nLength: 100, dtype: float64",
         "0    -0.042614\n1    -0.042614\n2     0.572625\n3    -0.402169\n4    -0.402169\n        ...   \n95   -0.239704\n96   -0.239704\n97    1.259775\n98    3.654147\n99   -0.402169\nLength: 100, dtype: float64",
         "0     0.125179\n1     0.125179\n2    -1.861697\n3    -2.207936\n4    -2.207936\n        ...   \n95   -0.615239\n96   -0.615239\n97   -4.266723\n98   -7.609255\n99   -5.103022\nLength: 100, dtype: float64"
        ],
        [
         "16",
         "0      1.370472\n1      1.370472\n2      8.988115\n3      9.961660\n4     14.369909\n        ...    \n95     4.900373\n96    -5.732792\n97    -9.882447\n98    -4.430266\n99    13.514693\nLength: 100, dtype: float64",
         "0     -1.054298\n1     -1.054298\n2      7.717017\n3      7.924464\n4     -5.946633\n        ...    \n95   -11.081743\n96   -14.014988\n97    -9.075571\n98   -11.316754\n99    -8.187421\nLength: 100, dtype: float64",
         "0    -0.451409\n1    -0.451409\n2    -6.073897\n3    -3.372283\n4     1.696946\n        ...   \n95    1.099837\n96    2.613123\n97    2.681814\n98    0.957392\n99   -6.668823\nLength: 100, dtype: float64",
         "0    -0.306288\n1    -0.306288\n2     0.458100\n3    -1.859034\n4    -1.195854\n        ...   \n95   -0.833636\n96   -2.452966\n97   -0.783032\n98    2.074767\n99    2.234570\nLength: 100, dtype: float64",
         "0    -0.423476\n1    -0.423476\n2     0.761725\n3     0.247694\n4     2.295827\n        ...   \n95    0.442120\n96    0.838962\n97    0.055931\n98   -0.852279\n99   -0.988111\nLength: 100, dtype: float64",
         "0     0.292971\n1     0.292971\n2     2.159995\n3    -2.498244\n4    -5.124329\n        ...   \n95   -5.803489\n96   -3.102829\n97    1.009418\n98    3.875207\n99    6.557223\nLength: 100, dtype: float64"
        ],
        [
         "17",
         "0      0.324449\n1      0.324449\n2      9.294422\n3      8.241495\n4      7.692080\n        ...    \n95    13.885904\n96    20.153603\n97    11.827358\n98     0.252433\n99   -16.979010\nLength: 100, dtype: float64",
         "0     -0.977516\n1     -0.977516\n2     -6.963223\n3      4.174181\n4      7.438757\n        ...    \n95    16.354300\n96     8.161517\n97   -13.698463\n98   -18.165749\n99   -10.390357\nLength: 100, dtype: float64",
         "0    -1.260218\n1    -1.260218\n2    -2.498493\n3    -5.045250\n4    -5.781352\n        ...   \n95   -5.527739\n96   -4.600859\n97   -0.547638\n98    2.404931\n99    3.354876\nLength: 100, dtype: float64",
         "0    -0.788358\n1    -0.788358\n2     2.434323\n3     2.024163\n4    -0.623229\n        ...   \n95   -1.443548\n96   -2.468947\n97    0.098545\n98   -2.442313\n99   -0.404833\nLength: 100, dtype: float64",
         "0     0.316941\n1     0.316941\n2    -0.079901\n3     0.322268\n4     0.466090\n        ...   \n95   -1.257112\n96    0.093218\n97    1.941599\n98   -0.002663\n99   -0.687150\nLength: 100, dtype: float64",
         "0     0.588605\n1     0.588605\n2     6.535916\n3     4.636931\n4     1.118617\n        ...   \n95   -0.873586\n96   -7.244373\n97   -8.133940\n98   -4.716833\n99    0.415486\nLength: 100, dtype: float64"
        ],
        [
         "18",
         "0      0.951708\n1      0.951708\n2      6.227476\n3      3.055575\n4      3.055575\n        ...    \n95    14.979664\n96    -5.634761\n97   -16.496962\n98   -16.496962\n99   -12.872236\nLength: 100, dtype: float64",
         "0     -1.304853\n1     -1.304853\n2     -1.222450\n3     -6.194563\n4     -6.194563\n        ...    \n95   -11.008355\n96   -16.784014\n97   -10.858133\n98   -10.858133\n99    -8.110650\nLength: 100, dtype: float64",
         "0    -0.944935\n1    -0.944935\n2     0.682350\n3     3.135348\n4     3.135348\n        ...   \n95   -3.831738\n96   -6.007497\n97   -2.743873\n98   -2.743873\n99   -1.684402\nLength: 100, dtype: float64",
         "0    -0.386189\n1    -0.386189\n2    -0.346238\n3     0.506041\n4     0.506041\n        ...   \n95   -1.462192\n96   -1.587370\n97   -0.370209\n98   -0.370209\n99    1.422241\nLength: 100, dtype: float64",
         "0     0.308951\n1     0.308951\n2     0.298298\n3    -0.130505\n4    -0.130505\n        ...   \n95    4.375921\n96    2.508897\n97    0.015980\n98    0.015980\n99   -2.157332\nLength: 100, dtype: float64",
         "0     0.098545\n1     0.098545\n2    -1.408924\n3    -2.868452\n4    -2.868452\n        ...   \n95   -7.417492\n96   -5.289458\n97   -1.805767\n98   -1.805767\n99    2.596788\nLength: 100, dtype: float64"
        ],
        [
         "19",
         "0      2.508158\n1      2.508158\n2      2.121694\n3      0.212363\n4     -2.896465\n        ...    \n95    10.717827\n96     8.744416\n97    13.967677\n98    11.156843\n99     0.069358\nLength: 100, dtype: float64",
         "0     -0.745654\n1     -0.745654\n2      1.754981\n3      0.050256\n4     -3.884919\n        ...    \n95     4.642765\n96    13.771559\n97     6.952250\n98   -12.034172\n99   -15.368336\nLength: 100, dtype: float64",
         "0     1.549042\n1     1.549042\n2    -2.057386\n3    -1.280972\n4     0.599143\n        ...   \n95   -6.335711\n96   -2.065510\n97   -1.304951\n98   -2.310304\n99   -0.587644\nLength: 100, dtype: float64",
         "0     0.380862\n1     0.380862\n2    -1.097310\n3    -0.295634\n4    -1.379627\n        ...   \n95    0.799012\n96    0.657853\n97   -2.897749\n98   -0.703130\n99   -1.989539\nLength: 100, dtype: float64",
         "0    -0.436793\n1    -0.436793\n2     0.644536\n3     0.167792\n4     0.463427\n        ...   \n95   -1.318369\n96   -0.255684\n97    1.917628\n98    3.193384\n99    1.427568\nLength: 100, dtype: float64",
         "0     0.591269\n1     0.591269\n2    -0.961478\n3    -1.371637\n4    -1.403597\n        ...   \n95    5.593082\n96    0.143822\n97   -5.071061\n98   -6.509283\n99   -4.525070\nLength: 100, dtype: float64"
        ],
        [
         "20",
         "0    -0.071819\n1    -0.071819\n2    -0.360728\n3     0.084804\n4     0.330120\n        ...   \n95    0.644735\n96    1.251466\n97    1.251466\n98    0.991489\n99    0.413049\nLength: 100, dtype: float64",
         "0     0.354963\n1     0.354963\n2    -2.704719\n3    -3.349246\n4    -1.123242\n        ...   \n95   -0.509034\n96    2.776207\n97    2.776207\n98    3.895162\n99    3.532764\nLength: 100, dtype: float64",
         "0     0.275074\n1     0.275074\n2     0.892838\n3     0.010835\n4     0.020116\n        ...   \n95   -1.671019\n96   -0.186459\n97   -0.186459\n98    0.530786\n99    0.447459\nLength: 100, dtype: float64",
         "0    -1.033389\n1    -1.033389\n2     0.066584\n3     0.599259\n4     0.663180\n        ...   \n95    0.210406\n96    0.870923\n97    0.870923\n98    1.600687\n99   -0.170456\nLength: 100, dtype: float64",
         "0     0.743081\n1     0.743081\n2    -0.271664\n3    -0.199753\n4    -0.279654\n        ...   \n95   -0.948161\n96   -1.598024\n97   -1.598024\n98   -0.788358\n99    0.042614\nLength: 100, dtype: float64",
         "0    -0.825646\n1    -0.825646\n2     0.122515\n3     0.556645\n4     1.161230\n        ...   \n95    1.717875\n96    1.587370\n97    1.587370\n98    0.532675\n99   -0.348902\nLength: 100, dtype: float64"
        ],
        [
         "21",
         "0     0.648833\n1     0.648833\n2     0.076985\n3    -0.295492\n4    -0.592993\n        ...   \n95    0.003306\n96    0.463057\n97    0.969757\n98    0.191909\n99    0.805618\nLength: 100, dtype: float64",
         "0    -0.996722\n1    -0.996722\n2    -0.897264\n3    -1.136712\n4    -0.673471\n        ...   \n95    2.094180\n96    1.440038\n97    0.355625\n98   -0.758496\n99   -0.750379\nLength: 100, dtype: float64",
         "0    -0.644136\n1    -0.644136\n2     0.970515\n3    -0.164896\n4     0.252778\n        ...   \n95   -0.673790\n96   -0.239165\n97   -0.611993\n98   -1.141962\n99   -0.478014\nLength: 100, dtype: float64",
         "0    -0.101208\n1    -0.101208\n2    -0.407496\n3    -0.412823\n4    -0.135832\n        ...   \n95   -0.330258\n96   -0.450110\n97   -0.942834\n98   -1.060022\n99   -0.476744\nLength: 100, dtype: float64",
         "0     0.055931\n1     0.055931\n2    -0.157139\n3     0.087891\n4     0.037287\n        ...   \n95    0.077238\n96    0.170456\n97    0.484734\n98    0.628556\n99    0.242367\nLength: 100, dtype: float64",
         "0    -0.031960\n1    -0.031960\n2    -0.343575\n3    -0.308951\n4    -0.090555\n        ...   \n95   -0.399506\n96   -0.820319\n97   -1.121280\n98   -1.318369\n99   -1.310379\nLength: 100, dtype: float64"
        ],
        [
         "22",
         "0    -0.697643\n1    -0.697643\n2    -0.199924\n3    -0.424592\n4    -0.277881\n        ...   \n95    1.475275\n96   -0.689696\n97   -0.436090\n98    0.520123\n99    0.426016\nLength: 100, dtype: float64",
         "0    -0.561693\n1    -0.561693\n2    -0.820724\n3    -1.014510\n4    -2.683653\n        ...   \n95    4.914747\n96    4.033065\n97    3.227962\n98   -0.173106\n99   -2.884886\nLength: 100, dtype: float64",
         "0    -0.950458\n1    -0.950458\n2     1.146612\n3     2.215659\n4     0.346236\n        ...   \n95    0.859659\n96    0.109259\n97   -0.131619\n98    2.063172\n99    2.812500\nLength: 100, dtype: float64",
         "0    -1.158567\n1    -1.158567\n2    -0.479407\n3    -0.149149\n4    -0.002663\n        ...   \n95    0.695140\n96    0.271664\n97    1.821747\n98    1.073339\n99    0.615239\nLength: 100, dtype: float64",
         "0     0.727101\n1     0.727101\n2    -0.410159\n3    -0.282318\n4    -0.300961\n        ...   \n95    0.218397\n96    0.284981\n97   -0.274327\n98   -0.838962\n99   -0.199753\nLength: 100, dtype: float64",
         "0    -1.376964\n1    -1.376964\n2     0.130505\n3     0.189099\n4     0.471417\n        ...   \n95    0.548655\n96   -0.191763\n97   -1.142587\n98   -1.781796\n99   -1.259775\nLength: 100, dtype: float64"
        ],
        [
         "23",
         "0    -0.647511\n1    -0.647511\n2    -0.156391\n3    -0.821278\n4     0.155385\n        ...   \n95    2.955047\n96    1.763218\n97    2.393665\n98    0.507058\n99   -0.208094\nLength: 100, dtype: float64",
         "0    -0.111979\n1    -0.111979\n2    -0.159968\n3    -2.562588\n4    -2.037382\n        ...   \n95   -0.312267\n96    1.940304\n97    3.873044\n98    4.878553\n99    4.009547\nLength: 100, dtype: float64",
         "0    -0.739682\n1    -0.739682\n2     0.441646\n3     0.269299\n4    -0.658101\n        ...   \n95   -1.101002\n96   -0.864320\n97   -0.650505\n98   -0.027739\n99    0.090067\nLength: 100, dtype: float64",
         "0     0.202416\n1     0.202416\n2    -0.615239\n3     0.122515\n4     0.319605\n        ...   \n95    0.897557\n96    0.700467\n97    0.932180\n98    0.037287\n99    0.005327\nLength: 100, dtype: float64",
         "0     0.165129\n1     0.165129\n2     0.007990\n3    -0.173119\n4    -0.332922\n        ...   \n95   -0.828309\n96   -0.921527\n97   -0.711121\n98   -0.282318\n99    0.000000\nLength: 100, dtype: float64",
         "0     0.074574\n1     0.074574\n2     0.127842\n3     0.407496\n4     0.793685\n        ...   \n95    1.877678\n96    1.938935\n97    1.603350\n98    0.676497\n99   -0.343575\nLength: 100, dtype: float64"
        ],
        [
         "24",
         "0     0.279069\n1     0.279069\n2     0.707552\n3    -0.698897\n4    -0.698897\n        ...   \n95   -0.254714\n96   -0.046718\n97    1.631407\n98    1.631407\n99    1.122589\nLength: 100, dtype: float64",
         "0    -0.110199\n1    -0.110199\n2    -0.031651\n3     0.107003\n4     0.107003\n        ...   \n95    5.656571\n96    3.941606\n97   -0.557420\n98   -0.557420\n99   -2.408135\nLength: 100, dtype: float64",
         "0     0.142979\n1     0.142979\n2     0.919129\n3    -0.401695\n4    -0.401695\n        ...   \n95    0.099775\n96    0.998627\n97    0.566748\n98    0.566748\n99    0.015799\nLength: 100, dtype: float64",
         "0    -0.026634\n1    -0.026634\n2    -0.631219\n3    -0.274327\n4    -0.274327\n        ...   \n95   -0.247694\n96    0.159802\n97   -0.548655\n98   -0.548655\n99   -0.330258\nLength: 100, dtype: float64",
         "0    -0.010653\n1    -0.010653\n2     0.290308\n3     0.215733\n4     0.215733\n        ...   \n95   -0.101208\n96   -0.095881\n97    0.713784\n98    0.713784\n99    0.439456\nLength: 100, dtype: float64",
         "0     0.077238\n1     0.077238\n2     0.122515\n3     0.250357\n4     0.250357\n        ...   \n95    0.423476\n96   -1.012082\n97   -2.325124\n98   -2.325124\n99   -1.749836\nLength: 100, dtype: float64"
        ],
        [
         "25",
         "0    -0.185181\n1    -0.185181\n2    -1.319727\n3    -0.921034\n4    -0.393262\n        ...   \n95   -0.464765\n96   -1.269370\n97   -1.051951\n98   -0.284252\n99    0.953456\nLength: 100, dtype: float64",
         "0     0.059288\n1     0.059288\n2    -1.194247\n3    -1.930862\n4    -2.575440\n        ...   \n95   -3.340164\n96   -4.013459\n97   -3.027597\n98   -2.015142\n99   -0.873585\nLength: 100, dtype: float64",
         "0     0.250270\n1     0.250270\n2     0.418052\n3     1.943855\n4     0.863110\n        ...   \n95    0.668373\n96    0.604373\n97    0.391306\n98    0.130439\n99   -0.156042\nLength: 100, dtype: float64",
         "0     0.154476\n1     0.154476\n2     0.047941\n3    -0.018644\n4    -0.151812\n        ...   \n95   -0.298298\n96   -0.284981\n97    0.055931\n98    0.545991\n99    1.033389\nLength: 100, dtype: float64",
         "0     0.167792\n1     0.167792\n2    -0.215733\n3    -0.375536\n4    -0.300961\n        ...   \n95    0.292971\n96    0.250357\n97    0.039951\n98   -0.202416\n99   -0.290308\nLength: 100, dtype: float64",
         "0     0.732428\n1     0.732428\n2    -0.050604\n3    -0.061258\n4     0.530011\n        ...   \n95   -1.121280\n96   -0.298298\n97    0.287644\n98    0.894893\n99    1.241132\nLength: 100, dtype: float64"
        ],
        [
         "26",
         "0    -0.761604\n1    -0.761604\n2     0.121078\n3    -0.548465\n4    -0.227072\n        ...   \n95    2.419921\n96    2.594112\n97   -0.202274\n98   -0.202274\n99   -0.968219\nLength: 100, dtype: float64",
         "0     0.260125\n1     0.260125\n2    -1.423255\n3    -2.297265\n4    -1.277432\n        ...   \n95    0.215186\n96   -2.379448\n97   -3.376169\n98   -3.376169\n99   -4.849326\nLength: 100, dtype: float64",
         "0    -0.064487\n1    -0.064487\n2     0.075600\n3     0.170656\n4     0.145531\n        ...   \n95    0.251052\n96    0.092206\n97   -0.977995\n98   -0.977995\n99   -1.453264\nLength: 100, dtype: float64",
         "0     0.069248\n1     0.069248\n2    -0.282318\n3    -0.053267\n4     0.383526\n        ...   \n95   -0.348902\n96   -0.580615\n97   -0.788358\n98   -0.788358\n99   -0.601922\nLength: 100, dtype: float64",
         "0     0.242367\n1     0.242367\n2    -0.332922\n3    -0.444783\n4    -0.450110\n        ...   \n95    0.601922\n96    0.780368\n97    0.980121\n98    0.980121\n99    0.239704\nLength: 100, dtype: float64",
         "0    -0.007990\n1    -0.007990\n2     0.239704\n3     0.700467\n4     0.982784\n        ...   \n95   -2.381055\n96   -2.279847\n97   -1.408924\n98   -1.408924\n99    0.338248\nLength: 100, dtype: float64"
        ],
        [
         "27",
         "0    -0.255266\n1    -0.255266\n2    -0.792226\n3     0.490267\n4     1.240727\n        ...   \n95    1.915769\n96    0.484056\n97   -1.194583\n98   -1.129961\n99   -1.171982\nLength: 100, dtype: float64",
         "0    -0.154748\n1    -0.154748\n2    -1.176848\n3    -1.260424\n4    -1.216359\n        ...   \n95   -1.225479\n96   -2.927679\n97   -3.492865\n98   -3.204208\n99   -2.054632\nLength: 100, dtype: float64",
         "0    -0.273293\n1    -0.273293\n2    -0.709993\n3    -1.722160\n4    -0.821199\n        ...   \n95   -1.285987\n96   -0.971686\n97   -0.247540\n98   -0.261402\n99   -0.306578\nLength: 100, dtype: float64",
         "0    -0.050604\n1    -0.050604\n2    -0.237040\n3     0.913537\n4     0.940171\n        ...   \n95   -1.704558\n96   -0.332922\n97   -0.956151\n98   -0.255684\n99   -0.498051\nLength: 100, dtype: float64",
         "0     0.015980\n1     0.015980\n2    -0.314278\n3    -0.322268\n4    -0.881576\n        ...   \n95    1.307716\n96    0.623229\n97    0.332922\n98    0.021307\n99   -0.327595\nLength: 100, dtype: float64",
         "0     0.013317\n1     0.013317\n2     0.170456\n3     0.284981\n4     0.844289\n        ...   \n95   -2.157332\n96   -1.582043\n97   -0.868259\n98    0.135832\n99    0.647200\nLength: 100, dtype: float64"
        ],
        [
         "28",
         "0    -0.373788\n1    -0.373788\n2     0.076140\n3     5.334237\n4     4.234907\n        ...   \n95    0.533963\n96    1.976769\n97    1.537546\n98    0.834960\n99    0.312292\nLength: 100, dtype: float64",
         "0     0.248056\n1     0.248056\n2    -1.703104\n3    -1.646148\n4    -5.382083\n        ...   \n95   -2.800479\n96   -1.326600\n97    0.989398\n98    3.292181\n99    4.335424\nLength: 100, dtype: float64",
         "0     0.164594\n1     0.164594\n2     0.803796\n3     0.294877\n4    -0.529088\n        ...   \n95   -0.431100\n96   -0.797436\n97   -0.435478\n98    0.423278\n99    0.790915\nLength: 100, dtype: float64",
         "0    -0.143822\n1    -0.143822\n2     0.026634\n3    -3.172077\n4    -1.371637\n        ...   \n95    0.308951\n96    0.037287\n97   -0.234377\n98   -0.101208\n99   -0.053267\nLength: 100, dtype: float64",
         "0    -0.183773\n1    -0.183773\n2    -0.620566\n3    -0.649863\n4     0.511368\n        ...   \n95    0.255684\n96    0.103872\n97   -0.569962\n98   -0.543328\n99   -0.327595\nLength: 100, dtype: float64",
         "0    -0.015980\n1    -0.015980\n2    -3.941791\n3    -4.258733\n4    -3.909831\n        ...   \n95    0.532675\n96    1.225151\n97    1.731192\n98    1.470182\n99    0.745744\nLength: 100, dtype: float64"
        ],
        [
         "29",
         "0     0.118553\n1     0.118553\n2    -0.545332\n3    -1.178455\n4    -1.178455\n        ...   \n95    0.661507\n96    1.294867\n97    1.294867\n98    1.441939\n99    1.441939\nLength: 100, dtype: float64",
         "0     0.419456\n1     0.419456\n2     0.371223\n3    -2.048042\n4    -2.048042\n        ...   \n95    0.200829\n96    1.906223\n97    1.906223\n98    5.230513\n99    5.230513\nLength: 100, dtype: float64",
         "0    -0.283447\n1    -0.283447\n2     0.707172\n3     0.797323\n4     0.797323\n        ...   \n95   -0.091983\n96    0.258126\n97    0.258126\n98    0.823864\n99    0.823864\nLength: 100, dtype: float64",
         "0     0.135832\n1     0.135832\n2     0.159802\n3     0.274327\n4     0.274327\n        ...   \n95    1.230478\n96    0.548655\n97    0.548655\n98    0.245030\n99    0.245030\nLength: 100, dtype: float64",
         "0    -0.079901\n1    -0.079901\n2    -0.090555\n3    -0.141159\n4    -0.141159\n        ...   \n95   -0.601922\n96   -0.990775\n97   -0.990775\n98   -0.743081\n99   -0.743081\nLength: 100, dtype: float64",
         "0     0.050604\n1     0.050604\n2     0.474080\n3     0.271664\n4     0.271664\n        ...   \n95    1.709885\n96    1.970896\n97    1.970896\n98    0.125179\n99    0.125179\nLength: 100, dtype: float64"
        ],
        [
         "30",
         "0     -0.771623\n1     -0.771623\n2     -2.323824\n3     -2.752338\n4     -2.450970\n        ...    \n95    15.834576\n96    29.131315\n97    22.862198\n98    17.441282\n99     7.191927\nLength: 100, dtype: float64",
         "0      0.372042\n1      0.372042\n2     -0.296031\n3     -2.830068\n4     -4.697720\n        ...    \n95    11.694780\n96   -21.583090\n97    -3.743760\n98    -9.064290\n99   -11.497003\nLength: 100, dtype: float64",
         "0     -0.145753\n1     -0.145753\n2      1.715016\n3      1.941302\n4      1.272646\n        ...    \n95   -12.528547\n96   -20.727003\n97     5.725987\n98     3.068515\n99     2.395642\nLength: 100, dtype: float64",
         "0    -0.031960\n1    -0.031960\n2     0.383526\n3     0.732428\n4     0.047941\n        ...   \n95   -6.442698\n96   -5.475894\n97   -2.261203\n98   -0.897557\n99    0.556645\nLength: 100, dtype: float64",
         "0     0.167792\n1     0.167792\n2     0.229050\n3     0.378199\n4    -0.386189\n        ...   \n95   -1.608677\n96    6.533253\n97   -4.993824\n98   -2.285174\n99   -1.318369\nLength: 100, dtype: float64",
         "0     -0.362219\n1     -0.362219\n2     -0.239704\n3      0.684487\n4      1.890995\n        ...    \n95    -4.615624\n96   -20.430730\n97    -4.168178\n98    -4.237426\n99    -1.099973\nLength: 100, dtype: float64"
        ],
        [
         "31",
         "0      0.130669\n1      0.130669\n2      0.068821\n3      1.076776\n4      1.106951\n        ...    \n95     0.019402\n96    10.997360\n97     5.448675\n98     3.880618\n99    14.769772\nLength: 100, dtype: float64",
         "0     -0.119724\n1     -0.119724\n2     -4.083609\n3     -4.857832\n4     -4.325750\n        ...    \n95   -12.302016\n96   -10.183113\n97    11.008286\n98     1.651236\n99    14.047495\nLength: 100, dtype: float64",
         "0     -1.019916\n1     -1.019916\n2      5.390252\n3      4.578098\n4      2.305553\n        ...    \n95   -11.038343\n96    -6.381850\n97    -1.559702\n98    -3.174812\n99    -8.102727\nLength: 100, dtype: float64",
         "0     0.684487\n1     0.684487\n2     0.394179\n3     1.201181\n4     3.462384\n        ...   \n95   -0.327595\n96    6.698382\n97    4.032346\n98    0.687150\n99    2.357085\nLength: 100, dtype: float64",
         "0     0.290308\n1     0.290308\n2     0.617902\n3     1.688578\n4     2.900413\n        ...   \n95   -0.226387\n96   -4.269386\n97   -1.962906\n98   -1.725865\n99   -0.540665\nLength: 100, dtype: float64",
         "0     0.679160\n1     0.679160\n2     1.595360\n3     2.042807\n4     2.807195\n        ...   \n95   -1.225151\n96    5.699617\n97    5.566449\n98    1.560736\n99    1.925618\nLength: 100, dtype: float64"
        ],
        [
         "32",
         "0     -0.592124\n1     -0.592124\n2      0.330361\n3      0.834415\n4      2.385987\n        ...    \n95    18.863441\n96    -2.562504\n97     2.052066\n98    -0.427342\n99    -0.427342\nLength: 100, dtype: float64",
         "0     -0.392740\n1     -0.392740\n2      0.144771\n3     -0.359371\n4      0.866971\n        ...    \n95   -23.487123\n96    -1.066755\n97    -0.253191\n98     0.664755\n99     0.664755\nLength: 100, dtype: float64",
         "0     -1.411327\n1     -1.411327\n2     -0.982163\n3     -0.141869\n4      0.073025\n        ...    \n95    16.160149\n96     2.362960\n97     1.181257\n98     0.418198\n99     0.418198\nLength: 100, dtype: float64",
         "0    -0.306288\n1    -0.306288\n2    -0.133169\n3     0.210406\n4    -0.239704\n        ...   \n95   -3.987069\n96    0.471417\n97   -1.123943\n98   -1.249122\n99   -1.249122\nLength: 100, dtype: float64",
         "0     0.354229\n1     0.354229\n2     0.221060\n3     0.173119\n4     0.905547\n        ...   \n95   -3.494345\n96    1.880341\n97    0.713784\n98    0.889566\n99    0.889566\nLength: 100, dtype: float64",
         "0    -0.143822\n1    -0.143822\n2     0.213070\n3     0.311615\n4     1.137260\n        ...   \n95   -1.432895\n96    2.527540\n97    1.667271\n98    1.025398\n99    1.025398\nLength: 100, dtype: float64"
        ],
        [
         "33",
         "0    -0.166323\n1    -0.166323\n2    -0.227300\n3     0.081961\n4     2.985319\n        ...   \n95    7.097770\n96    5.988524\n97    6.835404\n98    3.845880\n99    3.845880\nLength: 100, dtype: float64",
         "0     0.768712\n1     0.768712\n2    -0.677960\n3    -1.704300\n4    -4.782449\n        ...   \n95    3.058366\n96    0.941732\n97    0.185777\n98    0.685320\n99    0.685320\nLength: 100, dtype: float64",
         "0     -0.344511\n1     -0.344511\n2     -1.588044\n3     -1.705492\n4     -0.595928\n        ...    \n95    -1.437977\n96    -5.033005\n97    -4.122738\n98   -12.871810\n99   -12.871810\nLength: 100, dtype: float64",
         "0     0.218397\n1     0.218397\n2     2.141352\n3     2.189292\n4     2.375728\n        ...   \n95   -3.251978\n96   -1.251785\n97   -0.732428\n98   -2.863126\n99   -2.863126\nLength: 100, dtype: float64",
         "0     0.135832\n1     0.135832\n2     0.250357\n3    -0.178446\n4    -0.359555\n        ...   \n95    2.817848\n96    5.936657\n97    5.694291\n98    8.536109\n99    8.536109\nLength: 100, dtype: float64",
         "0     0.162466\n1     0.162466\n2     1.808430\n3     1.957579\n4     2.815185\n        ...   \n95    6.091133\n96    2.090747\n97   -0.346238\n98    2.413016\n99    2.413016\nLength: 100, dtype: float64"
        ],
        [
         "34",
         "0      0.052231\n1      0.052231\n2     -0.548047\n3     -0.012414\n4      1.011521\n        ...    \n95     0.644979\n96     3.540639\n97    11.749453\n98     1.144650\n99    17.649460\nLength: 100, dtype: float64",
         "0     -0.730486\n1     -0.730486\n2      0.707006\n3      0.191957\n4     -0.936402\n        ...    \n95    -7.254929\n96    -5.886849\n97    -1.847987\n98    13.558000\n99     5.701700\nLength: 100, dtype: float64",
         "0    -0.518104\n1    -0.518104\n2    -1.179430\n3    -0.792904\n4    -0.974097\n        ...   \n95   -1.321633\n96   -3.497949\n97    1.932888\n98    3.231390\n99    2.663500\nLength: 100, dtype: float64",
         "0    -0.159802\n1    -0.159802\n2    -0.239704\n3    -0.101208\n4    -0.013317\n        ...   \n95    0.708457\n96    0.002663\n97    2.471610\n98    2.820512\n99   -0.522021\nLength: 100, dtype: float64",
         "0    -0.045277\n1    -0.045277\n2     0.023970\n3     0.205080\n4     0.191763\n        ...   \n95   -2.514224\n96   -3.821940\n97   -5.081715\n98   -4.724823\n99   -3.640830\nLength: 100, dtype: float64",
         "0     -0.029297\n1     -0.029297\n2      0.298298\n3      0.119852\n4      0.101208\n        ...    \n95     0.721774\n96     2.085421\n97     1.779133\n98    -0.058594\n99   -13.335506\nLength: 100, dtype: float64"
        ],
        [
         "35",
         "0      1.102297\n1      1.102297\n2      0.732385\n3     -0.920942\n4     -0.920942\n        ...    \n95    -0.280290\n96    -0.280290\n97    -1.362502\n98     2.849978\n99    15.885976\nLength: 100, dtype: float64",
         "0    -1.790773\n1    -1.790773\n2     0.661191\n3     4.488292\n4     4.488292\n        ...   \n95    3.982322\n96    3.982322\n97    0.859302\n98   -2.920563\n99   -2.012929\nLength: 100, dtype: float64",
         "0      0.001413\n1      0.001413\n2     -1.579566\n3     -2.274492\n4     -2.274492\n        ...    \n95     2.949889\n96     2.949889\n97    -0.329923\n98   -12.358777\n99    -5.047484\nLength: 100, dtype: float64",
         "0     0.258347\n1     0.258347\n2    -0.127842\n3     0.564635\n4     0.564635\n        ...   \n95   -0.157139\n96   -0.157139\n97   -0.844289\n98    0.599259\n99    4.740803\nLength: 100, dtype: float64",
         "0     -0.165129\n1     -0.165129\n2     -0.167792\n3     -0.298298\n4     -0.298298\n        ...    \n95     0.314278\n96     0.314278\n97     0.522021\n98     0.775041\n99   -12.682981\nLength: 100, dtype: float64",
         "0      0.516694\n1      0.516694\n2     -0.588605\n3     -1.462192\n4     -1.462192\n        ...    \n95     0.218397\n96     0.218397\n97    -0.300961\n98    -0.306288\n99    13.948082\nLength: 100, dtype: float64"
        ],
        [
         "36",
         "0      1.686827\n1      1.686827\n2      0.882479\n3     -1.349818\n4     -2.882074\n        ...    \n95     8.141355\n96     1.991850\n97     6.013556\n98     6.013556\n99    16.020191\nLength: 100, dtype: float64",
         "0    -3.375054\n1    -3.375054\n2     1.149305\n3    -3.585759\n4    -5.521821\n        ...   \n95    5.115477\n96    4.248501\n97    8.449398\n98    8.449398\n99   -3.969757\nLength: 100, dtype: float64",
         "0     -1.295042\n1     -1.295042\n2     -0.973728\n3     -0.839587\n4     -5.010687\n        ...    \n95     0.547058\n96     1.087711\n97   -14.311602\n98   -14.311602\n99   -10.551959\nLength: 100, dtype: float64",
         "0    -0.711121\n1    -0.711121\n2    -1.861697\n3     1.981549\n4     3.350523\n        ...   \n95   -4.668892\n96   -4.469139\n97   -0.849616\n98   -0.849616\n99    0.868259\nLength: 100, dtype: float64",
         "0      0.013317\n1      0.013317\n2      0.205080\n3      0.346238\n4     -1.736519\n        ...    \n95     5.579765\n96     6.400084\n97     6.892808\n98     6.892808\n99   -10.858570\nLength: 100, dtype: float64",
         "0    -0.207743\n1    -0.207743\n2     0.114525\n3     0.474080\n4     0.418150\n        ...   \n95   -1.305053\n96   -2.351758\n97   -0.149149\n98   -0.149149\n99   -5.459914\nLength: 100, dtype: float64"
        ],
        [
         "37",
         "0     1.142016\n1     1.142016\n2     0.840727\n3    -0.013852\n4    -0.117969\n        ...   \n95    1.422936\n96    1.268257\n97    1.268257\n98    0.327786\n99    0.327786\nLength: 100, dtype: float64",
         "0     1.018433\n1     1.018433\n2    -2.015249\n3    -0.923550\n4    -0.230842\n        ...   \n95   -1.792333\n96   -1.155381\n97   -1.155381\n98   -0.120654\n99   -0.120654\nLength: 100, dtype: float64",
         "0     0.677593\n1     0.677593\n2    -0.742828\n3    -0.614269\n4    -2.228961\n        ...   \n95    2.575450\n96    3.632890\n97    3.632890\n98    1.350160\n99    1.350160\nLength: 100, dtype: float64",
         "0     0.175783\n1     0.175783\n2     1.611340\n3     1.222488\n4     0.854943\n        ...   \n95   -0.101208\n96    0.591269\n97    0.591269\n98   -0.442120\n99   -0.442120\nLength: 100, dtype: float64",
         "0    -0.460763\n1    -0.460763\n2    -1.358320\n3    -0.769715\n4    -0.556645\n        ...   \n95    1.214498\n96    1.869688\n97    1.869688\n98    3.526305\n99    3.526305\nLength: 100, dtype: float64",
         "0     0.679160\n1     0.679160\n2     2.615432\n3     1.675261\n4     1.321033\n        ...   \n95    0.348902\n96    0.599259\n97    0.599259\n98    1.472845\n99    1.472845\nLength: 100, dtype: float64"
        ],
        [
         "38",
         "0    -0.396060\n1    -0.396060\n2    -0.268022\n3     0.353698\n4     0.019509\n        ...   \n95    0.685694\n96    1.015222\n97    0.873364\n98   -0.005607\n99   -0.005607\nLength: 100, dtype: float64",
         "0    -0.686878\n1    -0.686878\n2     0.103510\n3     0.251851\n4     0.679806\n        ...   \n95   -2.105519\n96   -2.411690\n97   -2.683228\n98   -2.185891\n99   -2.185891\nLength: 100, dtype: float64",
         "0    -0.350328\n1    -0.350328\n2    -1.281489\n3    -1.933435\n4    -1.080710\n        ...   \n95    1.165885\n96    0.087346\n97    0.555119\n98    1.224647\n99    1.224647\nLength: 100, dtype: float64",
         "0    -0.157139\n1    -0.157139\n2     0.274327\n3    -0.311615\n4    -0.122515\n        ...   \n95    0.261010\n96   -0.058594\n97    0.431466\n98    1.102636\n99    1.102636\nLength: 100, dtype: float64",
         "0    -0.058594\n1    -0.058594\n2    -0.471417\n3    -0.535338\n4    -0.450110\n        ...   \n95   -0.793685\n96   -0.697804\n97   -0.617902\n98   -1.273092\n99   -1.273092\nLength: 100, dtype: float64",
         "0     0.151812\n1     0.151812\n2     0.332922\n3     0.082565\n4     0.114525\n        ...   \n95    0.013317\n96    0.023970\n97    0.319605\n98    0.977458\n99    0.977458\nLength: 100, dtype: float64"
        ],
        [
         "39",
         "0     1.211973\n1     1.211973\n2    -0.605948\n3     0.476761\n4     2.502923\n        ...   \n95    1.239144\n96    0.261434\n97    2.490353\n98    4.122120\n99    3.169270\nLength: 100, dtype: float64",
         "0    -0.247107\n1    -0.247107\n2    -3.855673\n3    -5.442304\n4     0.558606\n        ...   \n95   -6.142442\n96    0.205915\n97   -0.878765\n98    0.911620\n99    0.826934\nLength: 100, dtype: float64",
         "0     0.327837\n1     0.327837\n2     7.113185\n3     3.593358\n4    -1.671816\n        ...   \n95    0.028264\n96   -0.224944\n97   -0.597296\n98   -0.465409\n99   -0.362036\nLength: 100, dtype: float64",
         "0     0.058594\n1     0.058594\n2     0.900220\n3    -0.865596\n4     0.250357\n        ...   \n95   -2.309144\n96   -0.524684\n97    0.111862\n98    0.535338\n99   -0.298298\nLength: 100, dtype: float64",
         "0    -0.527348\n1    -0.527348\n2    -1.326360\n3    -0.993438\n4    -0.921527\n        ...   \n95    1.472845\n96    0.769715\n97   -0.117188\n98    0.197090\n99    0.250357\nLength: 100, dtype: float64",
         "0    -0.042614\n1    -0.042614\n2    -0.095881\n3     1.129270\n4     1.811093\n        ...   \n95   -0.998765\n96    0.157139\n97   -0.050604\n98    0.442120\n99    0.428803\nLength: 100, dtype: float64"
        ]
       ],
       "shape": {
        "columns": 6,
        "rows": 40
       }
      },
      "text/html": [
       "<div>\n",
       "<style scoped>\n",
       "    .dataframe tbody tr th:only-of-type {\n",
       "        vertical-align: middle;\n",
       "    }\n",
       "\n",
       "    .dataframe tbody tr th {\n",
       "        vertical-align: top;\n",
       "    }\n",
       "\n",
       "    .dataframe thead th {\n",
       "        text-align: right;\n",
       "    }\n",
       "</style>\n",
       "<table border=\"1\" class=\"dataframe\">\n",
       "  <thead>\n",
       "    <tr style=\"text-align: right;\">\n",
       "      <th></th>\n",
       "      <th>dim_0</th>\n",
       "      <th>dim_1</th>\n",
       "      <th>dim_2</th>\n",
       "      <th>dim_3</th>\n",
       "      <th>dim_4</th>\n",
       "      <th>dim_5</th>\n",
       "    </tr>\n",
       "  </thead>\n",
       "  <tbody>\n",
       "    <tr>\n",
       "      <th>0</th>\n",
       "      <td>0     0.079106\n",
       "1     0.079106\n",
       "2    -0.903497\n",
       "3...</td>\n",
       "      <td>0     0.394032\n",
       "1     0.394032\n",
       "2    -3.666397\n",
       "3...</td>\n",
       "      <td>0     0.551444\n",
       "1     0.551444\n",
       "2    -0.282844\n",
       "3...</td>\n",
       "      <td>0     0.351565\n",
       "1     0.351565\n",
       "2    -0.095881\n",
       "3...</td>\n",
       "      <td>0     0.023970\n",
       "1     0.023970\n",
       "2    -0.319605\n",
       "3...</td>\n",
       "      <td>0     0.633883\n",
       "1     0.633883\n",
       "2     0.972131\n",
       "3...</td>\n",
       "    </tr>\n",
       "    <tr>\n",
       "      <th>1</th>\n",
       "      <td>0     0.377751\n",
       "1     0.377751\n",
       "2     2.952965\n",
       "3...</td>\n",
       "      <td>0    -0.610850\n",
       "1    -0.610850\n",
       "2     0.970717\n",
       "3...</td>\n",
       "      <td>0    -0.147376\n",
       "1    -0.147376\n",
       "2    -5.962515\n",
       "3...</td>\n",
       "      <td>0    -0.103872\n",
       "1    -0.103872\n",
       "2    -7.593275\n",
       "3...</td>\n",
       "      <td>0    -0.109198\n",
       "1    -0.109198\n",
       "2    -0.697804\n",
       "3...</td>\n",
       "      <td>0    -0.037287\n",
       "1    -0.037287\n",
       "2    -2.865789\n",
       "3...</td>\n",
       "    </tr>\n",
       "    <tr>\n",
       "      <th>2</th>\n",
       "      <td>0    -0.813905\n",
       "1    -0.813905\n",
       "2    -0.424628\n",
       "3...</td>\n",
       "      <td>0     0.825666\n",
       "1     0.825666\n",
       "2    -1.305033\n",
       "3...</td>\n",
       "      <td>0     0.032712\n",
       "1     0.032712\n",
       "2     0.826170\n",
       "3...</td>\n",
       "      <td>0     0.021307\n",
       "1     0.021307\n",
       "2    -0.372872\n",
       "3...</td>\n",
       "      <td>0     0.122515\n",
       "1     0.122515\n",
       "2    -0.045277\n",
       "3...</td>\n",
       "      <td>0     0.775041\n",
       "1     0.775041\n",
       "2     0.383526\n",
       "3...</td>\n",
       "    </tr>\n",
       "    <tr>\n",
       "      <th>3</th>\n",
       "      <td>0     0.289855\n",
       "1     0.289855\n",
       "2    -0.669185\n",
       "3...</td>\n",
       "      <td>0     0.284130\n",
       "1     0.284130\n",
       "2    -0.210466\n",
       "3...</td>\n",
       "      <td>0     0.213680\n",
       "1     0.213680\n",
       "2     0.252267\n",
       "3...</td>\n",
       "      <td>0    -0.314278\n",
       "1    -0.314278\n",
       "2     0.018644\n",
       "3...</td>\n",
       "      <td>0     0.074574\n",
       "1     0.074574\n",
       "2     0.007990\n",
       "3...</td>\n",
       "      <td>0    -0.079901\n",
       "1    -0.079901\n",
       "2     0.237040\n",
       "3...</td>\n",
       "    </tr>\n",
       "    <tr>\n",
       "      <th>4</th>\n",
       "      <td>0    -0.123238\n",
       "1    -0.123238\n",
       "2    -0.249547\n",
       "3...</td>\n",
       "      <td>0     0.379341\n",
       "1     0.379341\n",
       "2     0.541501\n",
       "3...</td>\n",
       "      <td>0    -0.286006\n",
       "1    -0.286006\n",
       "2     0.208420\n",
       "3...</td>\n",
       "      <td>0    -0.098545\n",
       "1    -0.098545\n",
       "2    -0.023970\n",
       "3...</td>\n",
       "      <td>0     0.058594\n",
       "1     0.058594\n",
       "2     0.175783\n",
       "3...</td>\n",
       "      <td>0    -0.074574\n",
       "1    -0.074574\n",
       "2     0.114525\n",
       "3...</td>\n",
       "    </tr>\n",
       "    <tr>\n",
       "      <th>5</th>\n",
       "      <td>0    -0.357300\n",
       "1    -0.357300\n",
       "2    -0.005055\n",
       "3...</td>\n",
       "      <td>0    -0.584885\n",
       "1    -0.584885\n",
       "2     0.295037\n",
       "3...</td>\n",
       "      <td>0    -0.792751\n",
       "1    -0.792751\n",
       "2     0.213664\n",
       "3...</td>\n",
       "      <td>0     0.074574\n",
       "1     0.074574\n",
       "2    -0.157139\n",
       "3...</td>\n",
       "      <td>0     0.159802\n",
       "1     0.159802\n",
       "2    -0.306288\n",
       "3...</td>\n",
       "      <td>0     0.023970\n",
       "1     0.023970\n",
       "2     1.230478\n",
       "3...</td>\n",
       "    </tr>\n",
       "    <tr>\n",
       "      <th>6</th>\n",
       "      <td>0     1.236069\n",
       "1     1.236069\n",
       "2     0.118106\n",
       "3...</td>\n",
       "      <td>0    -0.569532\n",
       "1    -0.569532\n",
       "2     0.264725\n",
       "3...</td>\n",
       "      <td>0     1.536733\n",
       "1     1.536733\n",
       "2     0.712643\n",
       "3...</td>\n",
       "      <td>0     0.143822\n",
       "1     0.143822\n",
       "2    -2.018837\n",
       "3...</td>\n",
       "      <td>0     0.061258\n",
       "1     0.061258\n",
       "2    -0.111862\n",
       "3...</td>\n",
       "      <td>0     0.905547\n",
       "1     0.905547\n",
       "2    -0.990775\n",
       "3...</td>\n",
       "    </tr>\n",
       "    <tr>\n",
       "      <th>7</th>\n",
       "      <td>0    -0.366403\n",
       "1    -0.366403\n",
       "2     0.126830\n",
       "3...</td>\n",
       "      <td>0     0.331289\n",
       "1     0.331289\n",
       "2     1.060159\n",
       "3...</td>\n",
       "      <td>0    -0.817845\n",
       "1    -0.817845\n",
       "2     0.285714\n",
       "3...</td>\n",
       "      <td>0    -0.167792\n",
       "1    -0.167792\n",
       "2     0.170456\n",
       "3...</td>\n",
       "      <td>0    -0.093218\n",
       "1    -0.093218\n",
       "2    -0.117188\n",
       "3...</td>\n",
       "      <td>0     0.157139\n",
       "1     0.157139\n",
       "2     0.719111\n",
       "3...</td>\n",
       "    </tr>\n",
       "    <tr>\n",
       "      <th>8</th>\n",
       "      <td>0    -0.342233\n",
       "1    -0.342233\n",
       "2    -0.298542\n",
       "3...</td>\n",
       "      <td>0     0.327415\n",
       "1     0.327415\n",
       "2    -0.527154\n",
       "3...</td>\n",
       "      <td>0     0.157229\n",
       "1     0.157229\n",
       "2     0.248585\n",
       "3...</td>\n",
       "      <td>0     0.394179\n",
       "1     0.394179\n",
       "2    -0.037287\n",
       "3...</td>\n",
       "      <td>0     0.074574\n",
       "1     0.074574\n",
       "2    -0.087891\n",
       "3...</td>\n",
       "      <td>0    -0.037287\n",
       "1    -0.037287\n",
       "2    -0.050604\n",
       "3...</td>\n",
       "    </tr>\n",
       "    <tr>\n",
       "      <th>9</th>\n",
       "      <td>0    -0.407421\n",
       "1    -0.407421\n",
       "2     2.355158\n",
       "3...</td>\n",
       "      <td>0     1.413374\n",
       "1     1.413374\n",
       "2    -3.928032\n",
       "3...</td>\n",
       "      <td>0     0.092782\n",
       "1     0.092782\n",
       "2    -0.211622\n",
       "3...</td>\n",
       "      <td>0    -0.066584\n",
       "1    -0.066584\n",
       "2    -3.630177\n",
       "3...</td>\n",
       "      <td>0     0.223723\n",
       "1     0.223723\n",
       "2    -0.026634\n",
       "3...</td>\n",
       "      <td>0     0.135832\n",
       "1     0.135832\n",
       "2    -1.946925\n",
       "3...</td>\n",
       "    </tr>\n",
       "    <tr>\n",
       "      <th>10</th>\n",
       "      <td>0      0.300413\n",
       "1      0.300413\n",
       "2     -1.96499...</td>\n",
       "      <td>0      0.727580\n",
       "1      0.727580\n",
       "2     -0.30055...</td>\n",
       "      <td>0     0.878731\n",
       "1     0.878731\n",
       "2    -1.226914\n",
       "3...</td>\n",
       "      <td>0    -0.082565\n",
       "1    -0.082565\n",
       "2    -0.631219\n",
       "3...</td>\n",
       "      <td>0    -0.055931\n",
       "1    -0.055931\n",
       "2     0.039951\n",
       "3...</td>\n",
       "      <td>0     0.668507\n",
       "1     0.668507\n",
       "2     0.130505\n",
       "3...</td>\n",
       "    </tr>\n",
       "    <tr>\n",
       "      <th>11</th>\n",
       "      <td>0      1.916536\n",
       "1      1.916536\n",
       "2     -4.50699...</td>\n",
       "      <td>0     -0.465923\n",
       "1     -0.465923\n",
       "2     -6.69169...</td>\n",
       "      <td>0    -0.374403\n",
       "1    -0.374403\n",
       "2    -1.330023\n",
       "3...</td>\n",
       "      <td>0     0.125179\n",
       "1     0.125179\n",
       "2     0.708457\n",
       "3...</td>\n",
       "      <td>0    -0.034624\n",
       "1    -0.034624\n",
       "2    -0.055931\n",
       "3...</td>\n",
       "      <td>0    -0.229050\n",
       "1    -0.229050\n",
       "2     2.104064\n",
       "3...</td>\n",
       "    </tr>\n",
       "    <tr>\n",
       "      <th>12</th>\n",
       "      <td>0      2.221946\n",
       "1      2.221946\n",
       "2     -7.70417...</td>\n",
       "      <td>0     -0.783638\n",
       "1     -0.783638\n",
       "2     -4.56992...</td>\n",
       "      <td>0     0.142401\n",
       "1     0.142401\n",
       "2     2.447367\n",
       "3...</td>\n",
       "      <td>0     0.055931\n",
       "1     0.055931\n",
       "2    -0.442120\n",
       "3...</td>\n",
       "      <td>0     0.071911\n",
       "1     0.071911\n",
       "2     0.010653\n",
       "3...</td>\n",
       "      <td>0     0.226387\n",
       "1     0.226387\n",
       "2    -1.978886\n",
       "3...</td>\n",
       "    </tr>\n",
       "    <tr>\n",
       "      <th>13</th>\n",
       "      <td>0      1.463566\n",
       "1      1.463566\n",
       "2      6.16934...</td>\n",
       "      <td>0      1.782945\n",
       "1      1.782945\n",
       "2      8.09897...</td>\n",
       "      <td>0    -0.817491\n",
       "1    -0.817491\n",
       "2    -5.628303\n",
       "3...</td>\n",
       "      <td>0     0.082565\n",
       "1     0.082565\n",
       "2    -2.671363\n",
       "3...</td>\n",
       "      <td>0     0.159802\n",
       "1     0.159802\n",
       "2     0.282318\n",
       "3...</td>\n",
       "      <td>0     0.095881\n",
       "1     0.095881\n",
       "2    -1.502142\n",
       "3...</td>\n",
       "    </tr>\n",
       "    <tr>\n",
       "      <th>14</th>\n",
       "      <td>0      1.186069\n",
       "1      1.186069\n",
       "2      0.02547...</td>\n",
       "      <td>0      0.013225\n",
       "1      0.013225\n",
       "2      1.92628...</td>\n",
       "      <td>0    -0.377872\n",
       "1    -0.377872\n",
       "2    -1.253871\n",
       "3...</td>\n",
       "      <td>0     0.367545\n",
       "1     0.367545\n",
       "2     0.221060\n",
       "3...</td>\n",
       "      <td>0    -0.253020\n",
       "1    -0.253020\n",
       "2    -0.500714\n",
       "3...</td>\n",
       "      <td>0     0.114525\n",
       "1     0.114525\n",
       "2    -0.173119\n",
       "3...</td>\n",
       "    </tr>\n",
       "    <tr>\n",
       "      <th>15</th>\n",
       "      <td>0    -0.359319\n",
       "1    -0.359319\n",
       "2     4.011746\n",
       "3...</td>\n",
       "      <td>0      0.152819\n",
       "1      0.152819\n",
       "2      1.04881...</td>\n",
       "      <td>0    -0.064578\n",
       "1    -0.064578\n",
       "2    -1.804903\n",
       "3...</td>\n",
       "      <td>0     0.039951\n",
       "1     0.039951\n",
       "2    -1.347667\n",
       "3...</td>\n",
       "      <td>0    -0.042614\n",
       "1    -0.042614\n",
       "2     0.572625\n",
       "3...</td>\n",
       "      <td>0     0.125179\n",
       "1     0.125179\n",
       "2    -1.861697\n",
       "3...</td>\n",
       "    </tr>\n",
       "    <tr>\n",
       "      <th>16</th>\n",
       "      <td>0      1.370472\n",
       "1      1.370472\n",
       "2      8.98811...</td>\n",
       "      <td>0     -1.054298\n",
       "1     -1.054298\n",
       "2      7.71701...</td>\n",
       "      <td>0    -0.451409\n",
       "1    -0.451409\n",
       "2    -6.073897\n",
       "3...</td>\n",
       "      <td>0    -0.306288\n",
       "1    -0.306288\n",
       "2     0.458100\n",
       "3...</td>\n",
       "      <td>0    -0.423476\n",
       "1    -0.423476\n",
       "2     0.761725\n",
       "3...</td>\n",
       "      <td>0     0.292971\n",
       "1     0.292971\n",
       "2     2.159995\n",
       "3...</td>\n",
       "    </tr>\n",
       "    <tr>\n",
       "      <th>17</th>\n",
       "      <td>0      0.324449\n",
       "1      0.324449\n",
       "2      9.29442...</td>\n",
       "      <td>0     -0.977516\n",
       "1     -0.977516\n",
       "2     -6.96322...</td>\n",
       "      <td>0    -1.260218\n",
       "1    -1.260218\n",
       "2    -2.498493\n",
       "3...</td>\n",
       "      <td>0    -0.788358\n",
       "1    -0.788358\n",
       "2     2.434323\n",
       "3...</td>\n",
       "      <td>0     0.316941\n",
       "1     0.316941\n",
       "2    -0.079901\n",
       "3...</td>\n",
       "      <td>0     0.588605\n",
       "1     0.588605\n",
       "2     6.535916\n",
       "3...</td>\n",
       "    </tr>\n",
       "    <tr>\n",
       "      <th>18</th>\n",
       "      <td>0      0.951708\n",
       "1      0.951708\n",
       "2      6.22747...</td>\n",
       "      <td>0     -1.304853\n",
       "1     -1.304853\n",
       "2     -1.22245...</td>\n",
       "      <td>0    -0.944935\n",
       "1    -0.944935\n",
       "2     0.682350\n",
       "3...</td>\n",
       "      <td>0    -0.386189\n",
       "1    -0.386189\n",
       "2    -0.346238\n",
       "3...</td>\n",
       "      <td>0     0.308951\n",
       "1     0.308951\n",
       "2     0.298298\n",
       "3...</td>\n",
       "      <td>0     0.098545\n",
       "1     0.098545\n",
       "2    -1.408924\n",
       "3...</td>\n",
       "    </tr>\n",
       "    <tr>\n",
       "      <th>19</th>\n",
       "      <td>0      2.508158\n",
       "1      2.508158\n",
       "2      2.12169...</td>\n",
       "      <td>0     -0.745654\n",
       "1     -0.745654\n",
       "2      1.75498...</td>\n",
       "      <td>0     1.549042\n",
       "1     1.549042\n",
       "2    -2.057386\n",
       "3...</td>\n",
       "      <td>0     0.380862\n",
       "1     0.380862\n",
       "2    -1.097310\n",
       "3...</td>\n",
       "      <td>0    -0.436793\n",
       "1    -0.436793\n",
       "2     0.644536\n",
       "3...</td>\n",
       "      <td>0     0.591269\n",
       "1     0.591269\n",
       "2    -0.961478\n",
       "3...</td>\n",
       "    </tr>\n",
       "    <tr>\n",
       "      <th>20</th>\n",
       "      <td>0    -0.071819\n",
       "1    -0.071819\n",
       "2    -0.360728\n",
       "3...</td>\n",
       "      <td>0     0.354963\n",
       "1     0.354963\n",
       "2    -2.704719\n",
       "3...</td>\n",
       "      <td>0     0.275074\n",
       "1     0.275074\n",
       "2     0.892838\n",
       "3...</td>\n",
       "      <td>0    -1.033389\n",
       "1    -1.033389\n",
       "2     0.066584\n",
       "3...</td>\n",
       "      <td>0     0.743081\n",
       "1     0.743081\n",
       "2    -0.271664\n",
       "3...</td>\n",
       "      <td>0    -0.825646\n",
       "1    -0.825646\n",
       "2     0.122515\n",
       "3...</td>\n",
       "    </tr>\n",
       "    <tr>\n",
       "      <th>21</th>\n",
       "      <td>0     0.648833\n",
       "1     0.648833\n",
       "2     0.076985\n",
       "3...</td>\n",
       "      <td>0    -0.996722\n",
       "1    -0.996722\n",
       "2    -0.897264\n",
       "3...</td>\n",
       "      <td>0    -0.644136\n",
       "1    -0.644136\n",
       "2     0.970515\n",
       "3...</td>\n",
       "      <td>0    -0.101208\n",
       "1    -0.101208\n",
       "2    -0.407496\n",
       "3...</td>\n",
       "      <td>0     0.055931\n",
       "1     0.055931\n",
       "2    -0.157139\n",
       "3...</td>\n",
       "      <td>0    -0.031960\n",
       "1    -0.031960\n",
       "2    -0.343575\n",
       "3...</td>\n",
       "    </tr>\n",
       "    <tr>\n",
       "      <th>22</th>\n",
       "      <td>0    -0.697643\n",
       "1    -0.697643\n",
       "2    -0.199924\n",
       "3...</td>\n",
       "      <td>0    -0.561693\n",
       "1    -0.561693\n",
       "2    -0.820724\n",
       "3...</td>\n",
       "      <td>0    -0.950458\n",
       "1    -0.950458\n",
       "2     1.146612\n",
       "3...</td>\n",
       "      <td>0    -1.158567\n",
       "1    -1.158567\n",
       "2    -0.479407\n",
       "3...</td>\n",
       "      <td>0     0.727101\n",
       "1     0.727101\n",
       "2    -0.410159\n",
       "3...</td>\n",
       "      <td>0    -1.376964\n",
       "1    -1.376964\n",
       "2     0.130505\n",
       "3...</td>\n",
       "    </tr>\n",
       "    <tr>\n",
       "      <th>23</th>\n",
       "      <td>0    -0.647511\n",
       "1    -0.647511\n",
       "2    -0.156391\n",
       "3...</td>\n",
       "      <td>0    -0.111979\n",
       "1    -0.111979\n",
       "2    -0.159968\n",
       "3...</td>\n",
       "      <td>0    -0.739682\n",
       "1    -0.739682\n",
       "2     0.441646\n",
       "3...</td>\n",
       "      <td>0     0.202416\n",
       "1     0.202416\n",
       "2    -0.615239\n",
       "3...</td>\n",
       "      <td>0     0.165129\n",
       "1     0.165129\n",
       "2     0.007990\n",
       "3...</td>\n",
       "      <td>0     0.074574\n",
       "1     0.074574\n",
       "2     0.127842\n",
       "3...</td>\n",
       "    </tr>\n",
       "    <tr>\n",
       "      <th>24</th>\n",
       "      <td>0     0.279069\n",
       "1     0.279069\n",
       "2     0.707552\n",
       "3...</td>\n",
       "      <td>0    -0.110199\n",
       "1    -0.110199\n",
       "2    -0.031651\n",
       "3...</td>\n",
       "      <td>0     0.142979\n",
       "1     0.142979\n",
       "2     0.919129\n",
       "3...</td>\n",
       "      <td>0    -0.026634\n",
       "1    -0.026634\n",
       "2    -0.631219\n",
       "3...</td>\n",
       "      <td>0    -0.010653\n",
       "1    -0.010653\n",
       "2     0.290308\n",
       "3...</td>\n",
       "      <td>0     0.077238\n",
       "1     0.077238\n",
       "2     0.122515\n",
       "3...</td>\n",
       "    </tr>\n",
       "    <tr>\n",
       "      <th>25</th>\n",
       "      <td>0    -0.185181\n",
       "1    -0.185181\n",
       "2    -1.319727\n",
       "3...</td>\n",
       "      <td>0     0.059288\n",
       "1     0.059288\n",
       "2    -1.194247\n",
       "3...</td>\n",
       "      <td>0     0.250270\n",
       "1     0.250270\n",
       "2     0.418052\n",
       "3...</td>\n",
       "      <td>0     0.154476\n",
       "1     0.154476\n",
       "2     0.047941\n",
       "3...</td>\n",
       "      <td>0     0.167792\n",
       "1     0.167792\n",
       "2    -0.215733\n",
       "3...</td>\n",
       "      <td>0     0.732428\n",
       "1     0.732428\n",
       "2    -0.050604\n",
       "3...</td>\n",
       "    </tr>\n",
       "    <tr>\n",
       "      <th>26</th>\n",
       "      <td>0    -0.761604\n",
       "1    -0.761604\n",
       "2     0.121078\n",
       "3...</td>\n",
       "      <td>0     0.260125\n",
       "1     0.260125\n",
       "2    -1.423255\n",
       "3...</td>\n",
       "      <td>0    -0.064487\n",
       "1    -0.064487\n",
       "2     0.075600\n",
       "3...</td>\n",
       "      <td>0     0.069248\n",
       "1     0.069248\n",
       "2    -0.282318\n",
       "3...</td>\n",
       "      <td>0     0.242367\n",
       "1     0.242367\n",
       "2    -0.332922\n",
       "3...</td>\n",
       "      <td>0    -0.007990\n",
       "1    -0.007990\n",
       "2     0.239704\n",
       "3...</td>\n",
       "    </tr>\n",
       "    <tr>\n",
       "      <th>27</th>\n",
       "      <td>0    -0.255266\n",
       "1    -0.255266\n",
       "2    -0.792226\n",
       "3...</td>\n",
       "      <td>0    -0.154748\n",
       "1    -0.154748\n",
       "2    -1.176848\n",
       "3...</td>\n",
       "      <td>0    -0.273293\n",
       "1    -0.273293\n",
       "2    -0.709993\n",
       "3...</td>\n",
       "      <td>0    -0.050604\n",
       "1    -0.050604\n",
       "2    -0.237040\n",
       "3...</td>\n",
       "      <td>0     0.015980\n",
       "1     0.015980\n",
       "2    -0.314278\n",
       "3...</td>\n",
       "      <td>0     0.013317\n",
       "1     0.013317\n",
       "2     0.170456\n",
       "3...</td>\n",
       "    </tr>\n",
       "    <tr>\n",
       "      <th>28</th>\n",
       "      <td>0    -0.373788\n",
       "1    -0.373788\n",
       "2     0.076140\n",
       "3...</td>\n",
       "      <td>0     0.248056\n",
       "1     0.248056\n",
       "2    -1.703104\n",
       "3...</td>\n",
       "      <td>0     0.164594\n",
       "1     0.164594\n",
       "2     0.803796\n",
       "3...</td>\n",
       "      <td>0    -0.143822\n",
       "1    -0.143822\n",
       "2     0.026634\n",
       "3...</td>\n",
       "      <td>0    -0.183773\n",
       "1    -0.183773\n",
       "2    -0.620566\n",
       "3...</td>\n",
       "      <td>0    -0.015980\n",
       "1    -0.015980\n",
       "2    -3.941791\n",
       "3...</td>\n",
       "    </tr>\n",
       "    <tr>\n",
       "      <th>29</th>\n",
       "      <td>0     0.118553\n",
       "1     0.118553\n",
       "2    -0.545332\n",
       "3...</td>\n",
       "      <td>0     0.419456\n",
       "1     0.419456\n",
       "2     0.371223\n",
       "3...</td>\n",
       "      <td>0    -0.283447\n",
       "1    -0.283447\n",
       "2     0.707172\n",
       "3...</td>\n",
       "      <td>0     0.135832\n",
       "1     0.135832\n",
       "2     0.159802\n",
       "3...</td>\n",
       "      <td>0    -0.079901\n",
       "1    -0.079901\n",
       "2    -0.090555\n",
       "3...</td>\n",
       "      <td>0     0.050604\n",
       "1     0.050604\n",
       "2     0.474080\n",
       "3...</td>\n",
       "    </tr>\n",
       "    <tr>\n",
       "      <th>30</th>\n",
       "      <td>0     -0.771623\n",
       "1     -0.771623\n",
       "2     -2.32382...</td>\n",
       "      <td>0      0.372042\n",
       "1      0.372042\n",
       "2     -0.29603...</td>\n",
       "      <td>0     -0.145753\n",
       "1     -0.145753\n",
       "2      1.71501...</td>\n",
       "      <td>0    -0.031960\n",
       "1    -0.031960\n",
       "2     0.383526\n",
       "3...</td>\n",
       "      <td>0     0.167792\n",
       "1     0.167792\n",
       "2     0.229050\n",
       "3...</td>\n",
       "      <td>0     -0.362219\n",
       "1     -0.362219\n",
       "2     -0.23970...</td>\n",
       "    </tr>\n",
       "    <tr>\n",
       "      <th>31</th>\n",
       "      <td>0      0.130669\n",
       "1      0.130669\n",
       "2      0.06882...</td>\n",
       "      <td>0     -0.119724\n",
       "1     -0.119724\n",
       "2     -4.08360...</td>\n",
       "      <td>0     -1.019916\n",
       "1     -1.019916\n",
       "2      5.39025...</td>\n",
       "      <td>0     0.684487\n",
       "1     0.684487\n",
       "2     0.394179\n",
       "3...</td>\n",
       "      <td>0     0.290308\n",
       "1     0.290308\n",
       "2     0.617902\n",
       "3...</td>\n",
       "      <td>0     0.679160\n",
       "1     0.679160\n",
       "2     1.595360\n",
       "3...</td>\n",
       "    </tr>\n",
       "    <tr>\n",
       "      <th>32</th>\n",
       "      <td>0     -0.592124\n",
       "1     -0.592124\n",
       "2      0.33036...</td>\n",
       "      <td>0     -0.392740\n",
       "1     -0.392740\n",
       "2      0.14477...</td>\n",
       "      <td>0     -1.411327\n",
       "1     -1.411327\n",
       "2     -0.98216...</td>\n",
       "      <td>0    -0.306288\n",
       "1    -0.306288\n",
       "2    -0.133169\n",
       "3...</td>\n",
       "      <td>0     0.354229\n",
       "1     0.354229\n",
       "2     0.221060\n",
       "3...</td>\n",
       "      <td>0    -0.143822\n",
       "1    -0.143822\n",
       "2     0.213070\n",
       "3...</td>\n",
       "    </tr>\n",
       "    <tr>\n",
       "      <th>33</th>\n",
       "      <td>0    -0.166323\n",
       "1    -0.166323\n",
       "2    -0.227300\n",
       "3...</td>\n",
       "      <td>0     0.768712\n",
       "1     0.768712\n",
       "2    -0.677960\n",
       "3...</td>\n",
       "      <td>0     -0.344511\n",
       "1     -0.344511\n",
       "2     -1.58804...</td>\n",
       "      <td>0     0.218397\n",
       "1     0.218397\n",
       "2     2.141352\n",
       "3...</td>\n",
       "      <td>0     0.135832\n",
       "1     0.135832\n",
       "2     0.250357\n",
       "3...</td>\n",
       "      <td>0     0.162466\n",
       "1     0.162466\n",
       "2     1.808430\n",
       "3...</td>\n",
       "    </tr>\n",
       "    <tr>\n",
       "      <th>34</th>\n",
       "      <td>0      0.052231\n",
       "1      0.052231\n",
       "2     -0.54804...</td>\n",
       "      <td>0     -0.730486\n",
       "1     -0.730486\n",
       "2      0.70700...</td>\n",
       "      <td>0    -0.518104\n",
       "1    -0.518104\n",
       "2    -1.179430\n",
       "3...</td>\n",
       "      <td>0    -0.159802\n",
       "1    -0.159802\n",
       "2    -0.239704\n",
       "3...</td>\n",
       "      <td>0    -0.045277\n",
       "1    -0.045277\n",
       "2     0.023970\n",
       "3...</td>\n",
       "      <td>0     -0.029297\n",
       "1     -0.029297\n",
       "2      0.29829...</td>\n",
       "    </tr>\n",
       "    <tr>\n",
       "      <th>35</th>\n",
       "      <td>0      1.102297\n",
       "1      1.102297\n",
       "2      0.73238...</td>\n",
       "      <td>0    -1.790773\n",
       "1    -1.790773\n",
       "2     0.661191\n",
       "3...</td>\n",
       "      <td>0      0.001413\n",
       "1      0.001413\n",
       "2     -1.57956...</td>\n",
       "      <td>0     0.258347\n",
       "1     0.258347\n",
       "2    -0.127842\n",
       "3...</td>\n",
       "      <td>0     -0.165129\n",
       "1     -0.165129\n",
       "2     -0.16779...</td>\n",
       "      <td>0      0.516694\n",
       "1      0.516694\n",
       "2     -0.58860...</td>\n",
       "    </tr>\n",
       "    <tr>\n",
       "      <th>36</th>\n",
       "      <td>0      1.686827\n",
       "1      1.686827\n",
       "2      0.88247...</td>\n",
       "      <td>0    -3.375054\n",
       "1    -3.375054\n",
       "2     1.149305\n",
       "3...</td>\n",
       "      <td>0     -1.295042\n",
       "1     -1.295042\n",
       "2     -0.97372...</td>\n",
       "      <td>0    -0.711121\n",
       "1    -0.711121\n",
       "2    -1.861697\n",
       "3...</td>\n",
       "      <td>0      0.013317\n",
       "1      0.013317\n",
       "2      0.20508...</td>\n",
       "      <td>0    -0.207743\n",
       "1    -0.207743\n",
       "2     0.114525\n",
       "3...</td>\n",
       "    </tr>\n",
       "    <tr>\n",
       "      <th>37</th>\n",
       "      <td>0     1.142016\n",
       "1     1.142016\n",
       "2     0.840727\n",
       "3...</td>\n",
       "      <td>0     1.018433\n",
       "1     1.018433\n",
       "2    -2.015249\n",
       "3...</td>\n",
       "      <td>0     0.677593\n",
       "1     0.677593\n",
       "2    -0.742828\n",
       "3...</td>\n",
       "      <td>0     0.175783\n",
       "1     0.175783\n",
       "2     1.611340\n",
       "3...</td>\n",
       "      <td>0    -0.460763\n",
       "1    -0.460763\n",
       "2    -1.358320\n",
       "3...</td>\n",
       "      <td>0     0.679160\n",
       "1     0.679160\n",
       "2     2.615432\n",
       "3...</td>\n",
       "    </tr>\n",
       "    <tr>\n",
       "      <th>38</th>\n",
       "      <td>0    -0.396060\n",
       "1    -0.396060\n",
       "2    -0.268022\n",
       "3...</td>\n",
       "      <td>0    -0.686878\n",
       "1    -0.686878\n",
       "2     0.103510\n",
       "3...</td>\n",
       "      <td>0    -0.350328\n",
       "1    -0.350328\n",
       "2    -1.281489\n",
       "3...</td>\n",
       "      <td>0    -0.157139\n",
       "1    -0.157139\n",
       "2     0.274327\n",
       "3...</td>\n",
       "      <td>0    -0.058594\n",
       "1    -0.058594\n",
       "2    -0.471417\n",
       "3...</td>\n",
       "      <td>0     0.151812\n",
       "1     0.151812\n",
       "2     0.332922\n",
       "3...</td>\n",
       "    </tr>\n",
       "    <tr>\n",
       "      <th>39</th>\n",
       "      <td>0     1.211973\n",
       "1     1.211973\n",
       "2    -0.605948\n",
       "3...</td>\n",
       "      <td>0    -0.247107\n",
       "1    -0.247107\n",
       "2    -3.855673\n",
       "3...</td>\n",
       "      <td>0     0.327837\n",
       "1     0.327837\n",
       "2     7.113185\n",
       "3...</td>\n",
       "      <td>0     0.058594\n",
       "1     0.058594\n",
       "2     0.900220\n",
       "3...</td>\n",
       "      <td>0    -0.527348\n",
       "1    -0.527348\n",
       "2    -1.326360\n",
       "3...</td>\n",
       "      <td>0    -0.042614\n",
       "1    -0.042614\n",
       "2    -0.095881\n",
       "3...</td>\n",
       "    </tr>\n",
       "  </tbody>\n",
       "</table>\n",
       "</div>"
      ],
      "text/plain": [
       "                                                dim_0                                              dim_1                                              dim_2                                              dim_3                                              dim_4                                              dim_5\n",
       "0   0     0.079106\n",
       "1     0.079106\n",
       "2    -0.903497\n",
       "3...  0     0.394032\n",
       "1     0.394032\n",
       "2    -3.666397\n",
       "3...  0     0.551444\n",
       "1     0.551444\n",
       "2    -0.282844\n",
       "3...  0     0.351565\n",
       "1     0.351565\n",
       "2    -0.095881\n",
       "3...  0     0.023970\n",
       "1     0.023970\n",
       "2    -0.319605\n",
       "3...  0     0.633883\n",
       "1     0.633883\n",
       "2     0.972131\n",
       "3...\n",
       "1   0     0.377751\n",
       "1     0.377751\n",
       "2     2.952965\n",
       "3...  0    -0.610850\n",
       "1    -0.610850\n",
       "2     0.970717\n",
       "3...  0    -0.147376\n",
       "1    -0.147376\n",
       "2    -5.962515\n",
       "3...  0    -0.103872\n",
       "1    -0.103872\n",
       "2    -7.593275\n",
       "3...  0    -0.109198\n",
       "1    -0.109198\n",
       "2    -0.697804\n",
       "3...  0    -0.037287\n",
       "1    -0.037287\n",
       "2    -2.865789\n",
       "3...\n",
       "2   0    -0.813905\n",
       "1    -0.813905\n",
       "2    -0.424628\n",
       "3...  0     0.825666\n",
       "1     0.825666\n",
       "2    -1.305033\n",
       "3...  0     0.032712\n",
       "1     0.032712\n",
       "2     0.826170\n",
       "3...  0     0.021307\n",
       "1     0.021307\n",
       "2    -0.372872\n",
       "3...  0     0.122515\n",
       "1     0.122515\n",
       "2    -0.045277\n",
       "3...  0     0.775041\n",
       "1     0.775041\n",
       "2     0.383526\n",
       "3...\n",
       "3   0     0.289855\n",
       "1     0.289855\n",
       "2    -0.669185\n",
       "3...  0     0.284130\n",
       "1     0.284130\n",
       "2    -0.210466\n",
       "3...  0     0.213680\n",
       "1     0.213680\n",
       "2     0.252267\n",
       "3...  0    -0.314278\n",
       "1    -0.314278\n",
       "2     0.018644\n",
       "3...  0     0.074574\n",
       "1     0.074574\n",
       "2     0.007990\n",
       "3...  0    -0.079901\n",
       "1    -0.079901\n",
       "2     0.237040\n",
       "3...\n",
       "4   0    -0.123238\n",
       "1    -0.123238\n",
       "2    -0.249547\n",
       "3...  0     0.379341\n",
       "1     0.379341\n",
       "2     0.541501\n",
       "3...  0    -0.286006\n",
       "1    -0.286006\n",
       "2     0.208420\n",
       "3...  0    -0.098545\n",
       "1    -0.098545\n",
       "2    -0.023970\n",
       "3...  0     0.058594\n",
       "1     0.058594\n",
       "2     0.175783\n",
       "3...  0    -0.074574\n",
       "1    -0.074574\n",
       "2     0.114525\n",
       "3...\n",
       "5   0    -0.357300\n",
       "1    -0.357300\n",
       "2    -0.005055\n",
       "3...  0    -0.584885\n",
       "1    -0.584885\n",
       "2     0.295037\n",
       "3...  0    -0.792751\n",
       "1    -0.792751\n",
       "2     0.213664\n",
       "3...  0     0.074574\n",
       "1     0.074574\n",
       "2    -0.157139\n",
       "3...  0     0.159802\n",
       "1     0.159802\n",
       "2    -0.306288\n",
       "3...  0     0.023970\n",
       "1     0.023970\n",
       "2     1.230478\n",
       "3...\n",
       "6   0     1.236069\n",
       "1     1.236069\n",
       "2     0.118106\n",
       "3...  0    -0.569532\n",
       "1    -0.569532\n",
       "2     0.264725\n",
       "3...  0     1.536733\n",
       "1     1.536733\n",
       "2     0.712643\n",
       "3...  0     0.143822\n",
       "1     0.143822\n",
       "2    -2.018837\n",
       "3...  0     0.061258\n",
       "1     0.061258\n",
       "2    -0.111862\n",
       "3...  0     0.905547\n",
       "1     0.905547\n",
       "2    -0.990775\n",
       "3...\n",
       "7   0    -0.366403\n",
       "1    -0.366403\n",
       "2     0.126830\n",
       "3...  0     0.331289\n",
       "1     0.331289\n",
       "2     1.060159\n",
       "3...  0    -0.817845\n",
       "1    -0.817845\n",
       "2     0.285714\n",
       "3...  0    -0.167792\n",
       "1    -0.167792\n",
       "2     0.170456\n",
       "3...  0    -0.093218\n",
       "1    -0.093218\n",
       "2    -0.117188\n",
       "3...  0     0.157139\n",
       "1     0.157139\n",
       "2     0.719111\n",
       "3...\n",
       "8   0    -0.342233\n",
       "1    -0.342233\n",
       "2    -0.298542\n",
       "3...  0     0.327415\n",
       "1     0.327415\n",
       "2    -0.527154\n",
       "3...  0     0.157229\n",
       "1     0.157229\n",
       "2     0.248585\n",
       "3...  0     0.394179\n",
       "1     0.394179\n",
       "2    -0.037287\n",
       "3...  0     0.074574\n",
       "1     0.074574\n",
       "2    -0.087891\n",
       "3...  0    -0.037287\n",
       "1    -0.037287\n",
       "2    -0.050604\n",
       "3...\n",
       "9   0    -0.407421\n",
       "1    -0.407421\n",
       "2     2.355158\n",
       "3...  0     1.413374\n",
       "1     1.413374\n",
       "2    -3.928032\n",
       "3...  0     0.092782\n",
       "1     0.092782\n",
       "2    -0.211622\n",
       "3...  0    -0.066584\n",
       "1    -0.066584\n",
       "2    -3.630177\n",
       "3...  0     0.223723\n",
       "1     0.223723\n",
       "2    -0.026634\n",
       "3...  0     0.135832\n",
       "1     0.135832\n",
       "2    -1.946925\n",
       "3...\n",
       "10  0      0.300413\n",
       "1      0.300413\n",
       "2     -1.96499...  0      0.727580\n",
       "1      0.727580\n",
       "2     -0.30055...  0     0.878731\n",
       "1     0.878731\n",
       "2    -1.226914\n",
       "3...  0    -0.082565\n",
       "1    -0.082565\n",
       "2    -0.631219\n",
       "3...  0    -0.055931\n",
       "1    -0.055931\n",
       "2     0.039951\n",
       "3...  0     0.668507\n",
       "1     0.668507\n",
       "2     0.130505\n",
       "3...\n",
       "11  0      1.916536\n",
       "1      1.916536\n",
       "2     -4.50699...  0     -0.465923\n",
       "1     -0.465923\n",
       "2     -6.69169...  0    -0.374403\n",
       "1    -0.374403\n",
       "2    -1.330023\n",
       "3...  0     0.125179\n",
       "1     0.125179\n",
       "2     0.708457\n",
       "3...  0    -0.034624\n",
       "1    -0.034624\n",
       "2    -0.055931\n",
       "3...  0    -0.229050\n",
       "1    -0.229050\n",
       "2     2.104064\n",
       "3...\n",
       "12  0      2.221946\n",
       "1      2.221946\n",
       "2     -7.70417...  0     -0.783638\n",
       "1     -0.783638\n",
       "2     -4.56992...  0     0.142401\n",
       "1     0.142401\n",
       "2     2.447367\n",
       "3...  0     0.055931\n",
       "1     0.055931\n",
       "2    -0.442120\n",
       "3...  0     0.071911\n",
       "1     0.071911\n",
       "2     0.010653\n",
       "3...  0     0.226387\n",
       "1     0.226387\n",
       "2    -1.978886\n",
       "3...\n",
       "13  0      1.463566\n",
       "1      1.463566\n",
       "2      6.16934...  0      1.782945\n",
       "1      1.782945\n",
       "2      8.09897...  0    -0.817491\n",
       "1    -0.817491\n",
       "2    -5.628303\n",
       "3...  0     0.082565\n",
       "1     0.082565\n",
       "2    -2.671363\n",
       "3...  0     0.159802\n",
       "1     0.159802\n",
       "2     0.282318\n",
       "3...  0     0.095881\n",
       "1     0.095881\n",
       "2    -1.502142\n",
       "3...\n",
       "14  0      1.186069\n",
       "1      1.186069\n",
       "2      0.02547...  0      0.013225\n",
       "1      0.013225\n",
       "2      1.92628...  0    -0.377872\n",
       "1    -0.377872\n",
       "2    -1.253871\n",
       "3...  0     0.367545\n",
       "1     0.367545\n",
       "2     0.221060\n",
       "3...  0    -0.253020\n",
       "1    -0.253020\n",
       "2    -0.500714\n",
       "3...  0     0.114525\n",
       "1     0.114525\n",
       "2    -0.173119\n",
       "3...\n",
       "15  0    -0.359319\n",
       "1    -0.359319\n",
       "2     4.011746\n",
       "3...  0      0.152819\n",
       "1      0.152819\n",
       "2      1.04881...  0    -0.064578\n",
       "1    -0.064578\n",
       "2    -1.804903\n",
       "3...  0     0.039951\n",
       "1     0.039951\n",
       "2    -1.347667\n",
       "3...  0    -0.042614\n",
       "1    -0.042614\n",
       "2     0.572625\n",
       "3...  0     0.125179\n",
       "1     0.125179\n",
       "2    -1.861697\n",
       "3...\n",
       "16  0      1.370472\n",
       "1      1.370472\n",
       "2      8.98811...  0     -1.054298\n",
       "1     -1.054298\n",
       "2      7.71701...  0    -0.451409\n",
       "1    -0.451409\n",
       "2    -6.073897\n",
       "3...  0    -0.306288\n",
       "1    -0.306288\n",
       "2     0.458100\n",
       "3...  0    -0.423476\n",
       "1    -0.423476\n",
       "2     0.761725\n",
       "3...  0     0.292971\n",
       "1     0.292971\n",
       "2     2.159995\n",
       "3...\n",
       "17  0      0.324449\n",
       "1      0.324449\n",
       "2      9.29442...  0     -0.977516\n",
       "1     -0.977516\n",
       "2     -6.96322...  0    -1.260218\n",
       "1    -1.260218\n",
       "2    -2.498493\n",
       "3...  0    -0.788358\n",
       "1    -0.788358\n",
       "2     2.434323\n",
       "3...  0     0.316941\n",
       "1     0.316941\n",
       "2    -0.079901\n",
       "3...  0     0.588605\n",
       "1     0.588605\n",
       "2     6.535916\n",
       "3...\n",
       "18  0      0.951708\n",
       "1      0.951708\n",
       "2      6.22747...  0     -1.304853\n",
       "1     -1.304853\n",
       "2     -1.22245...  0    -0.944935\n",
       "1    -0.944935\n",
       "2     0.682350\n",
       "3...  0    -0.386189\n",
       "1    -0.386189\n",
       "2    -0.346238\n",
       "3...  0     0.308951\n",
       "1     0.308951\n",
       "2     0.298298\n",
       "3...  0     0.098545\n",
       "1     0.098545\n",
       "2    -1.408924\n",
       "3...\n",
       "19  0      2.508158\n",
       "1      2.508158\n",
       "2      2.12169...  0     -0.745654\n",
       "1     -0.745654\n",
       "2      1.75498...  0     1.549042\n",
       "1     1.549042\n",
       "2    -2.057386\n",
       "3...  0     0.380862\n",
       "1     0.380862\n",
       "2    -1.097310\n",
       "3...  0    -0.436793\n",
       "1    -0.436793\n",
       "2     0.644536\n",
       "3...  0     0.591269\n",
       "1     0.591269\n",
       "2    -0.961478\n",
       "3...\n",
       "20  0    -0.071819\n",
       "1    -0.071819\n",
       "2    -0.360728\n",
       "3...  0     0.354963\n",
       "1     0.354963\n",
       "2    -2.704719\n",
       "3...  0     0.275074\n",
       "1     0.275074\n",
       "2     0.892838\n",
       "3...  0    -1.033389\n",
       "1    -1.033389\n",
       "2     0.066584\n",
       "3...  0     0.743081\n",
       "1     0.743081\n",
       "2    -0.271664\n",
       "3...  0    -0.825646\n",
       "1    -0.825646\n",
       "2     0.122515\n",
       "3...\n",
       "21  0     0.648833\n",
       "1     0.648833\n",
       "2     0.076985\n",
       "3...  0    -0.996722\n",
       "1    -0.996722\n",
       "2    -0.897264\n",
       "3...  0    -0.644136\n",
       "1    -0.644136\n",
       "2     0.970515\n",
       "3...  0    -0.101208\n",
       "1    -0.101208\n",
       "2    -0.407496\n",
       "3...  0     0.055931\n",
       "1     0.055931\n",
       "2    -0.157139\n",
       "3...  0    -0.031960\n",
       "1    -0.031960\n",
       "2    -0.343575\n",
       "3...\n",
       "22  0    -0.697643\n",
       "1    -0.697643\n",
       "2    -0.199924\n",
       "3...  0    -0.561693\n",
       "1    -0.561693\n",
       "2    -0.820724\n",
       "3...  0    -0.950458\n",
       "1    -0.950458\n",
       "2     1.146612\n",
       "3...  0    -1.158567\n",
       "1    -1.158567\n",
       "2    -0.479407\n",
       "3...  0     0.727101\n",
       "1     0.727101\n",
       "2    -0.410159\n",
       "3...  0    -1.376964\n",
       "1    -1.376964\n",
       "2     0.130505\n",
       "3...\n",
       "23  0    -0.647511\n",
       "1    -0.647511\n",
       "2    -0.156391\n",
       "3...  0    -0.111979\n",
       "1    -0.111979\n",
       "2    -0.159968\n",
       "3...  0    -0.739682\n",
       "1    -0.739682\n",
       "2     0.441646\n",
       "3...  0     0.202416\n",
       "1     0.202416\n",
       "2    -0.615239\n",
       "3...  0     0.165129\n",
       "1     0.165129\n",
       "2     0.007990\n",
       "3...  0     0.074574\n",
       "1     0.074574\n",
       "2     0.127842\n",
       "3...\n",
       "24  0     0.279069\n",
       "1     0.279069\n",
       "2     0.707552\n",
       "3...  0    -0.110199\n",
       "1    -0.110199\n",
       "2    -0.031651\n",
       "3...  0     0.142979\n",
       "1     0.142979\n",
       "2     0.919129\n",
       "3...  0    -0.026634\n",
       "1    -0.026634\n",
       "2    -0.631219\n",
       "3...  0    -0.010653\n",
       "1    -0.010653\n",
       "2     0.290308\n",
       "3...  0     0.077238\n",
       "1     0.077238\n",
       "2     0.122515\n",
       "3...\n",
       "25  0    -0.185181\n",
       "1    -0.185181\n",
       "2    -1.319727\n",
       "3...  0     0.059288\n",
       "1     0.059288\n",
       "2    -1.194247\n",
       "3...  0     0.250270\n",
       "1     0.250270\n",
       "2     0.418052\n",
       "3...  0     0.154476\n",
       "1     0.154476\n",
       "2     0.047941\n",
       "3...  0     0.167792\n",
       "1     0.167792\n",
       "2    -0.215733\n",
       "3...  0     0.732428\n",
       "1     0.732428\n",
       "2    -0.050604\n",
       "3...\n",
       "26  0    -0.761604\n",
       "1    -0.761604\n",
       "2     0.121078\n",
       "3...  0     0.260125\n",
       "1     0.260125\n",
       "2    -1.423255\n",
       "3...  0    -0.064487\n",
       "1    -0.064487\n",
       "2     0.075600\n",
       "3...  0     0.069248\n",
       "1     0.069248\n",
       "2    -0.282318\n",
       "3...  0     0.242367\n",
       "1     0.242367\n",
       "2    -0.332922\n",
       "3...  0    -0.007990\n",
       "1    -0.007990\n",
       "2     0.239704\n",
       "3...\n",
       "27  0    -0.255266\n",
       "1    -0.255266\n",
       "2    -0.792226\n",
       "3...  0    -0.154748\n",
       "1    -0.154748\n",
       "2    -1.176848\n",
       "3...  0    -0.273293\n",
       "1    -0.273293\n",
       "2    -0.709993\n",
       "3...  0    -0.050604\n",
       "1    -0.050604\n",
       "2    -0.237040\n",
       "3...  0     0.015980\n",
       "1     0.015980\n",
       "2    -0.314278\n",
       "3...  0     0.013317\n",
       "1     0.013317\n",
       "2     0.170456\n",
       "3...\n",
       "28  0    -0.373788\n",
       "1    -0.373788\n",
       "2     0.076140\n",
       "3...  0     0.248056\n",
       "1     0.248056\n",
       "2    -1.703104\n",
       "3...  0     0.164594\n",
       "1     0.164594\n",
       "2     0.803796\n",
       "3...  0    -0.143822\n",
       "1    -0.143822\n",
       "2     0.026634\n",
       "3...  0    -0.183773\n",
       "1    -0.183773\n",
       "2    -0.620566\n",
       "3...  0    -0.015980\n",
       "1    -0.015980\n",
       "2    -3.941791\n",
       "3...\n",
       "29  0     0.118553\n",
       "1     0.118553\n",
       "2    -0.545332\n",
       "3...  0     0.419456\n",
       "1     0.419456\n",
       "2     0.371223\n",
       "3...  0    -0.283447\n",
       "1    -0.283447\n",
       "2     0.707172\n",
       "3...  0     0.135832\n",
       "1     0.135832\n",
       "2     0.159802\n",
       "3...  0    -0.079901\n",
       "1    -0.079901\n",
       "2    -0.090555\n",
       "3...  0     0.050604\n",
       "1     0.050604\n",
       "2     0.474080\n",
       "3...\n",
       "30  0     -0.771623\n",
       "1     -0.771623\n",
       "2     -2.32382...  0      0.372042\n",
       "1      0.372042\n",
       "2     -0.29603...  0     -0.145753\n",
       "1     -0.145753\n",
       "2      1.71501...  0    -0.031960\n",
       "1    -0.031960\n",
       "2     0.383526\n",
       "3...  0     0.167792\n",
       "1     0.167792\n",
       "2     0.229050\n",
       "3...  0     -0.362219\n",
       "1     -0.362219\n",
       "2     -0.23970...\n",
       "31  0      0.130669\n",
       "1      0.130669\n",
       "2      0.06882...  0     -0.119724\n",
       "1     -0.119724\n",
       "2     -4.08360...  0     -1.019916\n",
       "1     -1.019916\n",
       "2      5.39025...  0     0.684487\n",
       "1     0.684487\n",
       "2     0.394179\n",
       "3...  0     0.290308\n",
       "1     0.290308\n",
       "2     0.617902\n",
       "3...  0     0.679160\n",
       "1     0.679160\n",
       "2     1.595360\n",
       "3...\n",
       "32  0     -0.592124\n",
       "1     -0.592124\n",
       "2      0.33036...  0     -0.392740\n",
       "1     -0.392740\n",
       "2      0.14477...  0     -1.411327\n",
       "1     -1.411327\n",
       "2     -0.98216...  0    -0.306288\n",
       "1    -0.306288\n",
       "2    -0.133169\n",
       "3...  0     0.354229\n",
       "1     0.354229\n",
       "2     0.221060\n",
       "3...  0    -0.143822\n",
       "1    -0.143822\n",
       "2     0.213070\n",
       "3...\n",
       "33  0    -0.166323\n",
       "1    -0.166323\n",
       "2    -0.227300\n",
       "3...  0     0.768712\n",
       "1     0.768712\n",
       "2    -0.677960\n",
       "3...  0     -0.344511\n",
       "1     -0.344511\n",
       "2     -1.58804...  0     0.218397\n",
       "1     0.218397\n",
       "2     2.141352\n",
       "3...  0     0.135832\n",
       "1     0.135832\n",
       "2     0.250357\n",
       "3...  0     0.162466\n",
       "1     0.162466\n",
       "2     1.808430\n",
       "3...\n",
       "34  0      0.052231\n",
       "1      0.052231\n",
       "2     -0.54804...  0     -0.730486\n",
       "1     -0.730486\n",
       "2      0.70700...  0    -0.518104\n",
       "1    -0.518104\n",
       "2    -1.179430\n",
       "3...  0    -0.159802\n",
       "1    -0.159802\n",
       "2    -0.239704\n",
       "3...  0    -0.045277\n",
       "1    -0.045277\n",
       "2     0.023970\n",
       "3...  0     -0.029297\n",
       "1     -0.029297\n",
       "2      0.29829...\n",
       "35  0      1.102297\n",
       "1      1.102297\n",
       "2      0.73238...  0    -1.790773\n",
       "1    -1.790773\n",
       "2     0.661191\n",
       "3...  0      0.001413\n",
       "1      0.001413\n",
       "2     -1.57956...  0     0.258347\n",
       "1     0.258347\n",
       "2    -0.127842\n",
       "3...  0     -0.165129\n",
       "1     -0.165129\n",
       "2     -0.16779...  0      0.516694\n",
       "1      0.516694\n",
       "2     -0.58860...\n",
       "36  0      1.686827\n",
       "1      1.686827\n",
       "2      0.88247...  0    -3.375054\n",
       "1    -3.375054\n",
       "2     1.149305\n",
       "3...  0     -1.295042\n",
       "1     -1.295042\n",
       "2     -0.97372...  0    -0.711121\n",
       "1    -0.711121\n",
       "2    -1.861697\n",
       "3...  0      0.013317\n",
       "1      0.013317\n",
       "2      0.20508...  0    -0.207743\n",
       "1    -0.207743\n",
       "2     0.114525\n",
       "3...\n",
       "37  0     1.142016\n",
       "1     1.142016\n",
       "2     0.840727\n",
       "3...  0     1.018433\n",
       "1     1.018433\n",
       "2    -2.015249\n",
       "3...  0     0.677593\n",
       "1     0.677593\n",
       "2    -0.742828\n",
       "3...  0     0.175783\n",
       "1     0.175783\n",
       "2     1.611340\n",
       "3...  0    -0.460763\n",
       "1    -0.460763\n",
       "2    -1.358320\n",
       "3...  0     0.679160\n",
       "1     0.679160\n",
       "2     2.615432\n",
       "3...\n",
       "38  0    -0.396060\n",
       "1    -0.396060\n",
       "2    -0.268022\n",
       "3...  0    -0.686878\n",
       "1    -0.686878\n",
       "2     0.103510\n",
       "3...  0    -0.350328\n",
       "1    -0.350328\n",
       "2    -1.281489\n",
       "3...  0    -0.157139\n",
       "1    -0.157139\n",
       "2     0.274327\n",
       "3...  0    -0.058594\n",
       "1    -0.058594\n",
       "2    -0.471417\n",
       "3...  0     0.151812\n",
       "1     0.151812\n",
       "2     0.332922\n",
       "3...\n",
       "39  0     1.211973\n",
       "1     1.211973\n",
       "2    -0.605948\n",
       "3...  0    -0.247107\n",
       "1    -0.247107\n",
       "2    -3.855673\n",
       "3...  0     0.327837\n",
       "1     0.327837\n",
       "2     7.113185\n",
       "3...  0     0.058594\n",
       "1     0.058594\n",
       "2     0.900220\n",
       "3...  0    -0.527348\n",
       "1    -0.527348\n",
       "2    -1.326360\n",
       "3...  0    -0.042614\n",
       "1    -0.042614\n",
       "2    -0.095881\n",
       "3..."
      ]
     },
     "execution_count": 40,
     "metadata": {},
     "output_type": "execute_result"
    }
   ],
   "source": [
    "X_train"
   ]
  },
  {
   "cell_type": "code",
   "execution_count": 41,
   "metadata": {},
   "outputs": [
    {
     "data": {
      "text/plain": [
       "array(['standing', 'standing', 'standing', 'standing', 'standing',\n",
       "       'standing', 'standing', 'standing', 'standing', 'standing',\n",
       "       'running', 'running', 'running', 'running', 'running', 'running',\n",
       "       'running', 'running', 'running', 'running', 'walking', 'walking',\n",
       "       'walking', 'walking', 'walking', 'walking', 'walking', 'walking',\n",
       "       'walking', 'walking', 'badminton', 'badminton', 'badminton',\n",
       "       'badminton', 'badminton', 'badminton', 'badminton', 'badminton',\n",
       "       'badminton', 'badminton'], dtype='<U9')"
      ]
     },
     "execution_count": 41,
     "metadata": {},
     "output_type": "execute_result"
    }
   ],
   "source": [
    "y_train"
   ]
  },
  {
   "cell_type": "code",
   "execution_count": null,
   "metadata": {},
   "outputs": [],
   "source": []
  },
  {
   "cell_type": "code",
   "execution_count": 42,
   "metadata": {},
   "outputs": [],
   "source": [
    "from sktime.classification.interval_based import TimeSeriesForestClassifier\n",
    "from sktime.datasets import load_arrow_head\n",
    "\n",
    "# step 1-- prepare a dataset (multivariate for demonstration)\n",
    "X_train, y_train = load_arrow_head(split=\"train\")\n",
    "X_new, _ = load_arrow_head(split=\"test\")"
   ]
  },
  {
   "cell_type": "code",
   "execution_count": 43,
   "metadata": {},
   "outputs": [
    {
     "data": {
      "application/vnd.microsoft.datawrangler.viewer.v0+json": {
       "columns": [
        {
         "name": "index",
         "rawType": "int64",
         "type": "integer"
        },
        {
         "name": "dim_0",
         "rawType": "object",
         "type": "unknown"
        }
       ],
       "ref": "609966e7-0016-46fc-a81d-fa197ea921f9",
       "rows": [
        [
         "0",
         "0     -1.963009\n1     -1.957825\n2     -1.956145\n3     -1.938289\n4     -1.896657\n         ...   \n246   -1.841345\n247   -1.884289\n248   -1.905393\n249   -1.923905\n250   -1.909153\nLength: 251, dtype: float64"
        ],
        [
         "1",
         "0     -1.774571\n1     -1.774036\n2     -1.776586\n3     -1.730749\n4     -1.696268\n         ...   \n246   -1.639989\n247   -1.678683\n248   -1.729227\n249   -1.775670\n250   -1.789324\nLength: 251, dtype: float64"
        ],
        [
         "2",
         "0     -1.866021\n1     -1.841991\n2     -1.835025\n3     -1.811902\n4     -1.764390\n         ...   \n246   -1.829069\n247   -1.875828\n248   -1.862512\n249   -1.863368\n250   -1.846493\nLength: 251, dtype: float64"
        ],
        [
         "3",
         "0     -2.073758\n1     -2.073301\n2     -2.044607\n3     -2.038346\n4     -1.959043\n         ...   \n246   -1.951247\n247   -2.012927\n248   -2.026963\n249   -2.073405\n250   -2.075292\nLength: 251, dtype: float64"
        ],
        [
         "4",
         "0     -1.746255\n1     -1.741263\n2     -1.722741\n3     -1.698640\n4     -1.677223\n         ...   \n246   -1.716886\n247   -1.740726\n248   -1.743442\n249   -1.762729\n250   -1.763428\nLength: 251, dtype: float64"
        ],
        [
         "5",
         "0     -1.982806\n1     -1.978861\n2     -1.937333\n3     -1.891442\n4     -1.840870\n         ...   \n246   -1.873537\n247   -1.919679\n248   -1.979011\n249   -1.964868\n250   -1.983793\nLength: 251, dtype: float64"
        ],
        [
         "6",
         "0     -2.083023\n1     -2.092058\n2     -2.049462\n3     -2.036784\n4     -1.972995\n         ...   \n246   -1.936052\n247   -2.027489\n248   -2.030658\n249   -2.033118\n250   -2.077631\nLength: 251, dtype: float64"
        ],
        [
         "7",
         "0     -1.633596\n1     -1.643175\n2     -1.613675\n3     -1.598907\n4     -1.566766\n         ...   \n246   -1.599111\n247   -1.623552\n248   -1.646523\n249   -1.643044\n250   -1.640236\nLength: 251, dtype: float64"
        ],
        [
         "8",
         "0     -1.717013\n1     -1.728059\n2     -1.683303\n3     -1.666821\n4     -1.646849\n         ...   \n246   -1.651485\n247   -1.698773\n248   -1.715321\n249   -1.731976\n250   -1.717626\nLength: 251, dtype: float64"
        ],
        [
         "9",
         "0     -2.245295\n1     -2.223850\n2     -2.171872\n3     -2.092627\n4     -2.064690\n         ...   \n246   -2.041884\n247   -2.123160\n248   -2.130323\n249   -2.202741\n250   -2.227201\nLength: 251, dtype: float64"
        ],
        [
         "10",
         "0     -1.844180\n1     -1.839913\n2     -1.825745\n3     -1.792737\n4     -1.739679\n         ...   \n246   -1.794221\n247   -1.826678\n248   -1.828884\n249   -1.843957\n250   -1.844784\nLength: 251, dtype: float64"
        ],
        [
         "11",
         "0     -1.833709\n1     -1.827681\n2     -1.776450\n3     -1.774391\n4     -1.716805\n         ...   \n246   -1.794445\n247   -1.813359\n248   -1.815003\n249   -1.832732\n250   -1.816854\nLength: 251, dtype: float64"
        ],
        [
         "12",
         "0     -2.105590\n1     -2.121538\n2     -2.035910\n3     -2.002570\n4     -1.930025\n         ...   \n246   -1.996141\n247   -2.030383\n248   -2.084025\n249   -2.085108\n250   -2.085108\nLength: 251, dtype: float64"
        ],
        [
         "13",
         "0     -1.900535\n1     -1.882731\n2     -1.868459\n3     -1.818421\n4     -1.795311\n         ...   \n246   -1.770086\n247   -1.795311\n248   -1.832707\n249   -1.866146\n250   -1.898507\nLength: 251, dtype: float64"
        ],
        [
         "14",
         "0     -2.188812\n1     -2.185519\n2     -2.176468\n3     -2.096378\n4     -2.053816\n         ...   \n246   -2.098594\n247   -2.129226\n248   -2.159858\n249   -2.187735\n250   -2.189309\nLength: 251, dtype: float64"
        ],
        [
         "15",
         "0     -2.164456\n1     -2.178541\n2     -2.066047\n3     -2.046069\n4     -1.979093\n         ...   \n246   -2.064173\n247   -2.072545\n248   -2.117519\n249   -2.092010\n250   -2.131814\nLength: 251, dtype: float64"
        ],
        [
         "16",
         "0     -2.053743\n1     -2.036852\n2     -2.033030\n3     -2.013543\n4     -1.943268\n         ...   \n246   -1.905729\n247   -1.946187\n248   -2.001585\n249   -2.035573\n250   -2.052878\nLength: 251, dtype: float64"
        ],
        [
         "17",
         "0     -1.653743\n1     -1.650974\n2     -1.631879\n3     -1.612707\n4     -1.588571\n         ...   \n246   -1.550078\n247   -1.592814\n248   -1.615281\n249   -1.617402\n250   -1.651697\nLength: 251, dtype: float64"
        ],
        [
         "18",
         "0     -2.113801\n1     -2.091838\n2     -2.048814\n3     -2.000280\n4     -1.966432\n         ...   \n246   -1.938640\n247   -1.986760\n248   -2.059664\n249   -2.127378\n250   -2.130781\nLength: 251, dtype: float64"
        ],
        [
         "19",
         "0     -1.882249\n1     -1.880586\n2     -1.865817\n3     -1.836643\n4     -1.803325\n         ...   \n246   -1.781243\n247   -1.833980\n248   -1.866960\n249   -1.895939\n250   -1.884314\nLength: 251, dtype: float64"
        ],
        [
         "20",
         "0     -1.922567\n1     -1.907956\n2     -1.880090\n3     -1.840042\n4     -1.796092\n         ...   \n246   -1.815147\n247   -1.834487\n248   -1.880452\n249   -1.907219\n250   -1.921197\nLength: 251, dtype: float64"
        ],
        [
         "21",
         "0     -1.988754\n1     -2.024736\n2     -1.926209\n3     -1.875178\n4     -1.813162\n         ...   \n246   -1.824739\n247   -1.865230\n248   -1.916853\n249   -1.918589\n250   -1.986489\nLength: 251, dtype: float64"
        ],
        [
         "22",
         "0     -1.754535\n1     -1.777870\n2     -1.751415\n3     -1.725698\n4     -1.675108\n         ...   \n246   -1.675389\n247   -1.727604\n248   -1.751762\n249   -1.777350\n250   -1.755857\nLength: 251, dtype: float64"
        ],
        [
         "23",
         "0     -2.159707\n1     -2.175603\n2     -2.165595\n3     -2.100985\n4     -2.022723\n         ...   \n246   -1.968780\n247   -2.008835\n248   -2.083162\n249   -2.121105\n250   -2.096549\nLength: 251, dtype: float64"
        ],
        [
         "24",
         "0     -2.144754\n1     -2.165396\n2     -2.156160\n3     -2.079317\n4     -2.012702\n         ...   \n246   -1.980168\n247   -2.047614\n248   -2.038424\n249   -2.046806\n250   -2.099474\nLength: 251, dtype: float64"
        ],
        [
         "25",
         "0     -1.632037\n1     -1.630116\n2     -1.607483\n3     -1.603764\n4     -1.576161\n         ...   \n246   -1.623823\n247   -1.625039\n248   -1.630151\n249   -1.631614\n250   -1.632337\nLength: 251, dtype: float64"
        ],
        [
         "26",
         "0     -2.255120\n1     -2.233663\n2     -2.229195\n3     -2.221495\n4     -2.169856\n         ...   \n246   -2.136761\n247   -2.204523\n248   -2.232003\n249   -2.257080\n250   -2.239667\nLength: 251, dtype: float64"
        ],
        [
         "27",
         "0     -1.828902\n1     -1.841468\n2     -1.806303\n3     -1.803223\n4     -1.780970\n         ...   \n246   -1.806504\n247   -1.845483\n248   -1.835782\n249   -1.838790\n250   -1.825116\nLength: 251, dtype: float64"
        ],
        [
         "28",
         "0     -2.004295\n1     -1.985612\n2     -1.953281\n3     -1.933638\n4     -1.893538\n         ...   \n246   -1.893290\n247   -1.933478\n248   -1.969549\n249   -2.017769\n250   -2.004004\nLength: 251, dtype: float64"
        ],
        [
         "29",
         "0     -1.829271\n1     -1.832426\n2     -1.822614\n3     -1.809893\n4     -1.794134\n         ...   \n246   -1.704055\n247   -1.725968\n248   -1.764504\n249   -1.797664\n250   -1.812440\nLength: 251, dtype: float64"
        ],
        [
         "30",
         "0     -2.130983\n1     -2.109531\n2     -2.084178\n3     -2.055543\n4     -2.029778\n         ...   \n246   -2.027734\n247   -2.080446\n248   -2.104130\n249   -2.168225\n250   -2.151198\nLength: 251, dtype: float64"
        ],
        [
         "31",
         "0     -1.897632\n1     -1.896079\n2     -1.843246\n3     -1.820073\n4     -1.776584\n         ...   \n246   -1.787433\n247   -1.816115\n248   -1.874009\n249   -1.894403\n250   -1.897104\nLength: 251, dtype: float64"
        ],
        [
         "32",
         "0     -1.673688\n1     -1.671479\n2     -1.660184\n3     -1.634935\n4     -1.606142\n         ...   \n246   -1.576775\n247   -1.609724\n248   -1.636233\n249   -1.661157\n250   -1.662518\nLength: 251, dtype: float64"
        ],
        [
         "33",
         "0     -2.130812\n1     -2.104430\n2     -2.074755\n3     -2.025406\n4     -1.944910\n         ...   \n246   -1.944460\n247   -2.003032\n248   -2.034098\n249   -2.080031\n250   -2.103448\nLength: 251, dtype: float64"
        ],
        [
         "34",
         "0     -1.880338\n1     -1.862662\n2     -1.849687\n3     -1.833179\n4     -1.797872\n         ...   \n246   -1.775862\n247   -1.814496\n248   -1.848534\n249   -1.864034\n250   -1.879885\nLength: 251, dtype: float64"
        ],
        [
         "35",
         "0     -1.801050\n1     -1.798915\n2     -1.778375\n3     -1.759428\n4     -1.701133\n         ...   \n246   -1.717157\n247   -1.759057\n248   -1.796549\n249   -1.798544\n250   -1.801050\nLength: 251, dtype: float64"
        ]
       ],
       "shape": {
        "columns": 1,
        "rows": 36
       }
      },
      "text/html": [
       "<div>\n",
       "<style scoped>\n",
       "    .dataframe tbody tr th:only-of-type {\n",
       "        vertical-align: middle;\n",
       "    }\n",
       "\n",
       "    .dataframe tbody tr th {\n",
       "        vertical-align: top;\n",
       "    }\n",
       "\n",
       "    .dataframe thead th {\n",
       "        text-align: right;\n",
       "    }\n",
       "</style>\n",
       "<table border=\"1\" class=\"dataframe\">\n",
       "  <thead>\n",
       "    <tr style=\"text-align: right;\">\n",
       "      <th></th>\n",
       "      <th>dim_0</th>\n",
       "    </tr>\n",
       "  </thead>\n",
       "  <tbody>\n",
       "    <tr>\n",
       "      <th>0</th>\n",
       "      <td>0     -1.963009\n",
       "1     -1.957825\n",
       "2     -1.95614...</td>\n",
       "    </tr>\n",
       "    <tr>\n",
       "      <th>1</th>\n",
       "      <td>0     -1.774571\n",
       "1     -1.774036\n",
       "2     -1.77658...</td>\n",
       "    </tr>\n",
       "    <tr>\n",
       "      <th>2</th>\n",
       "      <td>0     -1.866021\n",
       "1     -1.841991\n",
       "2     -1.83502...</td>\n",
       "    </tr>\n",
       "    <tr>\n",
       "      <th>3</th>\n",
       "      <td>0     -2.073758\n",
       "1     -2.073301\n",
       "2     -2.04460...</td>\n",
       "    </tr>\n",
       "    <tr>\n",
       "      <th>4</th>\n",
       "      <td>0     -1.746255\n",
       "1     -1.741263\n",
       "2     -1.72274...</td>\n",
       "    </tr>\n",
       "    <tr>\n",
       "      <th>5</th>\n",
       "      <td>0     -1.982806\n",
       "1     -1.978861\n",
       "2     -1.93733...</td>\n",
       "    </tr>\n",
       "    <tr>\n",
       "      <th>6</th>\n",
       "      <td>0     -2.083023\n",
       "1     -2.092058\n",
       "2     -2.04946...</td>\n",
       "    </tr>\n",
       "    <tr>\n",
       "      <th>7</th>\n",
       "      <td>0     -1.633596\n",
       "1     -1.643175\n",
       "2     -1.61367...</td>\n",
       "    </tr>\n",
       "    <tr>\n",
       "      <th>8</th>\n",
       "      <td>0     -1.717013\n",
       "1     -1.728059\n",
       "2     -1.68330...</td>\n",
       "    </tr>\n",
       "    <tr>\n",
       "      <th>9</th>\n",
       "      <td>0     -2.245295\n",
       "1     -2.223850\n",
       "2     -2.17187...</td>\n",
       "    </tr>\n",
       "    <tr>\n",
       "      <th>10</th>\n",
       "      <td>0     -1.844180\n",
       "1     -1.839913\n",
       "2     -1.82574...</td>\n",
       "    </tr>\n",
       "    <tr>\n",
       "      <th>11</th>\n",
       "      <td>0     -1.833709\n",
       "1     -1.827681\n",
       "2     -1.77645...</td>\n",
       "    </tr>\n",
       "    <tr>\n",
       "      <th>12</th>\n",
       "      <td>0     -2.105590\n",
       "1     -2.121538\n",
       "2     -2.03591...</td>\n",
       "    </tr>\n",
       "    <tr>\n",
       "      <th>13</th>\n",
       "      <td>0     -1.900535\n",
       "1     -1.882731\n",
       "2     -1.86845...</td>\n",
       "    </tr>\n",
       "    <tr>\n",
       "      <th>14</th>\n",
       "      <td>0     -2.188812\n",
       "1     -2.185519\n",
       "2     -2.17646...</td>\n",
       "    </tr>\n",
       "    <tr>\n",
       "      <th>15</th>\n",
       "      <td>0     -2.164456\n",
       "1     -2.178541\n",
       "2     -2.06604...</td>\n",
       "    </tr>\n",
       "    <tr>\n",
       "      <th>16</th>\n",
       "      <td>0     -2.053743\n",
       "1     -2.036852\n",
       "2     -2.03303...</td>\n",
       "    </tr>\n",
       "    <tr>\n",
       "      <th>17</th>\n",
       "      <td>0     -1.653743\n",
       "1     -1.650974\n",
       "2     -1.63187...</td>\n",
       "    </tr>\n",
       "    <tr>\n",
       "      <th>18</th>\n",
       "      <td>0     -2.113801\n",
       "1     -2.091838\n",
       "2     -2.04881...</td>\n",
       "    </tr>\n",
       "    <tr>\n",
       "      <th>19</th>\n",
       "      <td>0     -1.882249\n",
       "1     -1.880586\n",
       "2     -1.86581...</td>\n",
       "    </tr>\n",
       "    <tr>\n",
       "      <th>20</th>\n",
       "      <td>0     -1.922567\n",
       "1     -1.907956\n",
       "2     -1.88009...</td>\n",
       "    </tr>\n",
       "    <tr>\n",
       "      <th>21</th>\n",
       "      <td>0     -1.988754\n",
       "1     -2.024736\n",
       "2     -1.92620...</td>\n",
       "    </tr>\n",
       "    <tr>\n",
       "      <th>22</th>\n",
       "      <td>0     -1.754535\n",
       "1     -1.777870\n",
       "2     -1.75141...</td>\n",
       "    </tr>\n",
       "    <tr>\n",
       "      <th>23</th>\n",
       "      <td>0     -2.159707\n",
       "1     -2.175603\n",
       "2     -2.16559...</td>\n",
       "    </tr>\n",
       "    <tr>\n",
       "      <th>24</th>\n",
       "      <td>0     -2.144754\n",
       "1     -2.165396\n",
       "2     -2.15616...</td>\n",
       "    </tr>\n",
       "    <tr>\n",
       "      <th>25</th>\n",
       "      <td>0     -1.632037\n",
       "1     -1.630116\n",
       "2     -1.60748...</td>\n",
       "    </tr>\n",
       "    <tr>\n",
       "      <th>26</th>\n",
       "      <td>0     -2.255120\n",
       "1     -2.233663\n",
       "2     -2.22919...</td>\n",
       "    </tr>\n",
       "    <tr>\n",
       "      <th>27</th>\n",
       "      <td>0     -1.828902\n",
       "1     -1.841468\n",
       "2     -1.80630...</td>\n",
       "    </tr>\n",
       "    <tr>\n",
       "      <th>28</th>\n",
       "      <td>0     -2.004295\n",
       "1     -1.985612\n",
       "2     -1.95328...</td>\n",
       "    </tr>\n",
       "    <tr>\n",
       "      <th>29</th>\n",
       "      <td>0     -1.829271\n",
       "1     -1.832426\n",
       "2     -1.82261...</td>\n",
       "    </tr>\n",
       "    <tr>\n",
       "      <th>30</th>\n",
       "      <td>0     -2.130983\n",
       "1     -2.109531\n",
       "2     -2.08417...</td>\n",
       "    </tr>\n",
       "    <tr>\n",
       "      <th>31</th>\n",
       "      <td>0     -1.897632\n",
       "1     -1.896079\n",
       "2     -1.84324...</td>\n",
       "    </tr>\n",
       "    <tr>\n",
       "      <th>32</th>\n",
       "      <td>0     -1.673688\n",
       "1     -1.671479\n",
       "2     -1.66018...</td>\n",
       "    </tr>\n",
       "    <tr>\n",
       "      <th>33</th>\n",
       "      <td>0     -2.130812\n",
       "1     -2.104430\n",
       "2     -2.07475...</td>\n",
       "    </tr>\n",
       "    <tr>\n",
       "      <th>34</th>\n",
       "      <td>0     -1.880338\n",
       "1     -1.862662\n",
       "2     -1.84968...</td>\n",
       "    </tr>\n",
       "    <tr>\n",
       "      <th>35</th>\n",
       "      <td>0     -1.801050\n",
       "1     -1.798915\n",
       "2     -1.77837...</td>\n",
       "    </tr>\n",
       "  </tbody>\n",
       "</table>\n",
       "</div>"
      ],
      "text/plain": [
       "                                                dim_0\n",
       "0   0     -1.963009\n",
       "1     -1.957825\n",
       "2     -1.95614...\n",
       "1   0     -1.774571\n",
       "1     -1.774036\n",
       "2     -1.77658...\n",
       "2   0     -1.866021\n",
       "1     -1.841991\n",
       "2     -1.83502...\n",
       "3   0     -2.073758\n",
       "1     -2.073301\n",
       "2     -2.04460...\n",
       "4   0     -1.746255\n",
       "1     -1.741263\n",
       "2     -1.72274...\n",
       "5   0     -1.982806\n",
       "1     -1.978861\n",
       "2     -1.93733...\n",
       "6   0     -2.083023\n",
       "1     -2.092058\n",
       "2     -2.04946...\n",
       "7   0     -1.633596\n",
       "1     -1.643175\n",
       "2     -1.61367...\n",
       "8   0     -1.717013\n",
       "1     -1.728059\n",
       "2     -1.68330...\n",
       "9   0     -2.245295\n",
       "1     -2.223850\n",
       "2     -2.17187...\n",
       "10  0     -1.844180\n",
       "1     -1.839913\n",
       "2     -1.82574...\n",
       "11  0     -1.833709\n",
       "1     -1.827681\n",
       "2     -1.77645...\n",
       "12  0     -2.105590\n",
       "1     -2.121538\n",
       "2     -2.03591...\n",
       "13  0     -1.900535\n",
       "1     -1.882731\n",
       "2     -1.86845...\n",
       "14  0     -2.188812\n",
       "1     -2.185519\n",
       "2     -2.17646...\n",
       "15  0     -2.164456\n",
       "1     -2.178541\n",
       "2     -2.06604...\n",
       "16  0     -2.053743\n",
       "1     -2.036852\n",
       "2     -2.03303...\n",
       "17  0     -1.653743\n",
       "1     -1.650974\n",
       "2     -1.63187...\n",
       "18  0     -2.113801\n",
       "1     -2.091838\n",
       "2     -2.04881...\n",
       "19  0     -1.882249\n",
       "1     -1.880586\n",
       "2     -1.86581...\n",
       "20  0     -1.922567\n",
       "1     -1.907956\n",
       "2     -1.88009...\n",
       "21  0     -1.988754\n",
       "1     -2.024736\n",
       "2     -1.92620...\n",
       "22  0     -1.754535\n",
       "1     -1.777870\n",
       "2     -1.75141...\n",
       "23  0     -2.159707\n",
       "1     -2.175603\n",
       "2     -2.16559...\n",
       "24  0     -2.144754\n",
       "1     -2.165396\n",
       "2     -2.15616...\n",
       "25  0     -1.632037\n",
       "1     -1.630116\n",
       "2     -1.60748...\n",
       "26  0     -2.255120\n",
       "1     -2.233663\n",
       "2     -2.22919...\n",
       "27  0     -1.828902\n",
       "1     -1.841468\n",
       "2     -1.80630...\n",
       "28  0     -2.004295\n",
       "1     -1.985612\n",
       "2     -1.95328...\n",
       "29  0     -1.829271\n",
       "1     -1.832426\n",
       "2     -1.82261...\n",
       "30  0     -2.130983\n",
       "1     -2.109531\n",
       "2     -2.08417...\n",
       "31  0     -1.897632\n",
       "1     -1.896079\n",
       "2     -1.84324...\n",
       "32  0     -1.673688\n",
       "1     -1.671479\n",
       "2     -1.66018...\n",
       "33  0     -2.130812\n",
       "1     -2.104430\n",
       "2     -2.07475...\n",
       "34  0     -1.880338\n",
       "1     -1.862662\n",
       "2     -1.84968...\n",
       "35  0     -1.801050\n",
       "1     -1.798915\n",
       "2     -1.77837..."
      ]
     },
     "execution_count": 43,
     "metadata": {},
     "output_type": "execute_result"
    }
   ],
   "source": [
    "X_train"
   ]
  },
  {
   "cell_type": "code",
   "execution_count": 44,
   "metadata": {},
   "outputs": [
    {
     "data": {
      "text/plain": [
       "np.float64(-1.9077772)"
      ]
     },
     "execution_count": 44,
     "metadata": {},
     "output_type": "execute_result"
    }
   ],
   "source": [
    "X_new.iloc[0].iloc[0][0]"
   ]
  },
  {
   "cell_type": "code",
   "execution_count": 45,
   "metadata": {},
   "outputs": [
    {
     "data": {
      "text/plain": [
       "array(['0', '1', '2', '0', '1', '2', '0', '1', '2', '0', '1', '2', '0',\n",
       "       '1', '2', '0', '1', '2', '0', '1', '2', '0', '1', '2', '0', '1',\n",
       "       '2', '0', '1', '2', '0', '1', '2', '0', '1', '2'], dtype='<U1')"
      ]
     },
     "execution_count": 45,
     "metadata": {},
     "output_type": "execute_result"
    }
   ],
   "source": [
    "y_train"
   ]
  },
  {
   "cell_type": "code",
   "execution_count": 46,
   "metadata": {},
   "outputs": [
    {
     "data": {
      "application/vnd.microsoft.datawrangler.viewer.v0+json": {
       "columns": [
        {
         "name": "index",
         "rawType": "int64",
         "type": "integer"
        },
        {
         "name": "dim_0",
         "rawType": "object",
         "type": "unknown"
        }
       ],
       "ref": "c8f40b49-1da9-4582-a284-20a7adf89c3f",
       "rows": [
        [
         "0",
         "0     -1.963009\n1     -1.957825\n2     -1.956145\n3     -1.938289\n4     -1.896657\n         ...   \n246   -1.841345\n247   -1.884289\n248   -1.905393\n249   -1.923905\n250   -1.909153\nLength: 251, dtype: float64"
        ],
        [
         "1",
         "0     -1.774571\n1     -1.774036\n2     -1.776586\n3     -1.730749\n4     -1.696268\n         ...   \n246   -1.639989\n247   -1.678683\n248   -1.729227\n249   -1.775670\n250   -1.789324\nLength: 251, dtype: float64"
        ],
        [
         "2",
         "0     -1.866021\n1     -1.841991\n2     -1.835025\n3     -1.811902\n4     -1.764390\n         ...   \n246   -1.829069\n247   -1.875828\n248   -1.862512\n249   -1.863368\n250   -1.846493\nLength: 251, dtype: float64"
        ],
        [
         "3",
         "0     -2.073758\n1     -2.073301\n2     -2.044607\n3     -2.038346\n4     -1.959043\n         ...   \n246   -1.951247\n247   -2.012927\n248   -2.026963\n249   -2.073405\n250   -2.075292\nLength: 251, dtype: float64"
        ],
        [
         "4",
         "0     -1.746255\n1     -1.741263\n2     -1.722741\n3     -1.698640\n4     -1.677223\n         ...   \n246   -1.716886\n247   -1.740726\n248   -1.743442\n249   -1.762729\n250   -1.763428\nLength: 251, dtype: float64"
        ],
        [
         "5",
         "0     -1.982806\n1     -1.978861\n2     -1.937333\n3     -1.891442\n4     -1.840870\n         ...   \n246   -1.873537\n247   -1.919679\n248   -1.979011\n249   -1.964868\n250   -1.983793\nLength: 251, dtype: float64"
        ],
        [
         "6",
         "0     -2.083023\n1     -2.092058\n2     -2.049462\n3     -2.036784\n4     -1.972995\n         ...   \n246   -1.936052\n247   -2.027489\n248   -2.030658\n249   -2.033118\n250   -2.077631\nLength: 251, dtype: float64"
        ],
        [
         "7",
         "0     -1.633596\n1     -1.643175\n2     -1.613675\n3     -1.598907\n4     -1.566766\n         ...   \n246   -1.599111\n247   -1.623552\n248   -1.646523\n249   -1.643044\n250   -1.640236\nLength: 251, dtype: float64"
        ],
        [
         "8",
         "0     -1.717013\n1     -1.728059\n2     -1.683303\n3     -1.666821\n4     -1.646849\n         ...   \n246   -1.651485\n247   -1.698773\n248   -1.715321\n249   -1.731976\n250   -1.717626\nLength: 251, dtype: float64"
        ],
        [
         "9",
         "0     -2.245295\n1     -2.223850\n2     -2.171872\n3     -2.092627\n4     -2.064690\n         ...   \n246   -2.041884\n247   -2.123160\n248   -2.130323\n249   -2.202741\n250   -2.227201\nLength: 251, dtype: float64"
        ],
        [
         "10",
         "0     -1.844180\n1     -1.839913\n2     -1.825745\n3     -1.792737\n4     -1.739679\n         ...   \n246   -1.794221\n247   -1.826678\n248   -1.828884\n249   -1.843957\n250   -1.844784\nLength: 251, dtype: float64"
        ],
        [
         "11",
         "0     -1.833709\n1     -1.827681\n2     -1.776450\n3     -1.774391\n4     -1.716805\n         ...   \n246   -1.794445\n247   -1.813359\n248   -1.815003\n249   -1.832732\n250   -1.816854\nLength: 251, dtype: float64"
        ],
        [
         "12",
         "0     -2.105590\n1     -2.121538\n2     -2.035910\n3     -2.002570\n4     -1.930025\n         ...   \n246   -1.996141\n247   -2.030383\n248   -2.084025\n249   -2.085108\n250   -2.085108\nLength: 251, dtype: float64"
        ],
        [
         "13",
         "0     -1.900535\n1     -1.882731\n2     -1.868459\n3     -1.818421\n4     -1.795311\n         ...   \n246   -1.770086\n247   -1.795311\n248   -1.832707\n249   -1.866146\n250   -1.898507\nLength: 251, dtype: float64"
        ],
        [
         "14",
         "0     -2.188812\n1     -2.185519\n2     -2.176468\n3     -2.096378\n4     -2.053816\n         ...   \n246   -2.098594\n247   -2.129226\n248   -2.159858\n249   -2.187735\n250   -2.189309\nLength: 251, dtype: float64"
        ],
        [
         "15",
         "0     -2.164456\n1     -2.178541\n2     -2.066047\n3     -2.046069\n4     -1.979093\n         ...   \n246   -2.064173\n247   -2.072545\n248   -2.117519\n249   -2.092010\n250   -2.131814\nLength: 251, dtype: float64"
        ],
        [
         "16",
         "0     -2.053743\n1     -2.036852\n2     -2.033030\n3     -2.013543\n4     -1.943268\n         ...   \n246   -1.905729\n247   -1.946187\n248   -2.001585\n249   -2.035573\n250   -2.052878\nLength: 251, dtype: float64"
        ],
        [
         "17",
         "0     -1.653743\n1     -1.650974\n2     -1.631879\n3     -1.612707\n4     -1.588571\n         ...   \n246   -1.550078\n247   -1.592814\n248   -1.615281\n249   -1.617402\n250   -1.651697\nLength: 251, dtype: float64"
        ],
        [
         "18",
         "0     -2.113801\n1     -2.091838\n2     -2.048814\n3     -2.000280\n4     -1.966432\n         ...   \n246   -1.938640\n247   -1.986760\n248   -2.059664\n249   -2.127378\n250   -2.130781\nLength: 251, dtype: float64"
        ],
        [
         "19",
         "0     -1.882249\n1     -1.880586\n2     -1.865817\n3     -1.836643\n4     -1.803325\n         ...   \n246   -1.781243\n247   -1.833980\n248   -1.866960\n249   -1.895939\n250   -1.884314\nLength: 251, dtype: float64"
        ],
        [
         "20",
         "0     -1.922567\n1     -1.907956\n2     -1.880090\n3     -1.840042\n4     -1.796092\n         ...   \n246   -1.815147\n247   -1.834487\n248   -1.880452\n249   -1.907219\n250   -1.921197\nLength: 251, dtype: float64"
        ],
        [
         "21",
         "0     -1.988754\n1     -2.024736\n2     -1.926209\n3     -1.875178\n4     -1.813162\n         ...   \n246   -1.824739\n247   -1.865230\n248   -1.916853\n249   -1.918589\n250   -1.986489\nLength: 251, dtype: float64"
        ],
        [
         "22",
         "0     -1.754535\n1     -1.777870\n2     -1.751415\n3     -1.725698\n4     -1.675108\n         ...   \n246   -1.675389\n247   -1.727604\n248   -1.751762\n249   -1.777350\n250   -1.755857\nLength: 251, dtype: float64"
        ],
        [
         "23",
         "0     -2.159707\n1     -2.175603\n2     -2.165595\n3     -2.100985\n4     -2.022723\n         ...   \n246   -1.968780\n247   -2.008835\n248   -2.083162\n249   -2.121105\n250   -2.096549\nLength: 251, dtype: float64"
        ],
        [
         "24",
         "0     -2.144754\n1     -2.165396\n2     -2.156160\n3     -2.079317\n4     -2.012702\n         ...   \n246   -1.980168\n247   -2.047614\n248   -2.038424\n249   -2.046806\n250   -2.099474\nLength: 251, dtype: float64"
        ],
        [
         "25",
         "0     -1.632037\n1     -1.630116\n2     -1.607483\n3     -1.603764\n4     -1.576161\n         ...   \n246   -1.623823\n247   -1.625039\n248   -1.630151\n249   -1.631614\n250   -1.632337\nLength: 251, dtype: float64"
        ],
        [
         "26",
         "0     -2.255120\n1     -2.233663\n2     -2.229195\n3     -2.221495\n4     -2.169856\n         ...   \n246   -2.136761\n247   -2.204523\n248   -2.232003\n249   -2.257080\n250   -2.239667\nLength: 251, dtype: float64"
        ],
        [
         "27",
         "0     -1.828902\n1     -1.841468\n2     -1.806303\n3     -1.803223\n4     -1.780970\n         ...   \n246   -1.806504\n247   -1.845483\n248   -1.835782\n249   -1.838790\n250   -1.825116\nLength: 251, dtype: float64"
        ],
        [
         "28",
         "0     -2.004295\n1     -1.985612\n2     -1.953281\n3     -1.933638\n4     -1.893538\n         ...   \n246   -1.893290\n247   -1.933478\n248   -1.969549\n249   -2.017769\n250   -2.004004\nLength: 251, dtype: float64"
        ],
        [
         "29",
         "0     -1.829271\n1     -1.832426\n2     -1.822614\n3     -1.809893\n4     -1.794134\n         ...   \n246   -1.704055\n247   -1.725968\n248   -1.764504\n249   -1.797664\n250   -1.812440\nLength: 251, dtype: float64"
        ],
        [
         "30",
         "0     -2.130983\n1     -2.109531\n2     -2.084178\n3     -2.055543\n4     -2.029778\n         ...   \n246   -2.027734\n247   -2.080446\n248   -2.104130\n249   -2.168225\n250   -2.151198\nLength: 251, dtype: float64"
        ],
        [
         "31",
         "0     -1.897632\n1     -1.896079\n2     -1.843246\n3     -1.820073\n4     -1.776584\n         ...   \n246   -1.787433\n247   -1.816115\n248   -1.874009\n249   -1.894403\n250   -1.897104\nLength: 251, dtype: float64"
        ],
        [
         "32",
         "0     -1.673688\n1     -1.671479\n2     -1.660184\n3     -1.634935\n4     -1.606142\n         ...   \n246   -1.576775\n247   -1.609724\n248   -1.636233\n249   -1.661157\n250   -1.662518\nLength: 251, dtype: float64"
        ],
        [
         "33",
         "0     -2.130812\n1     -2.104430\n2     -2.074755\n3     -2.025406\n4     -1.944910\n         ...   \n246   -1.944460\n247   -2.003032\n248   -2.034098\n249   -2.080031\n250   -2.103448\nLength: 251, dtype: float64"
        ],
        [
         "34",
         "0     -1.880338\n1     -1.862662\n2     -1.849687\n3     -1.833179\n4     -1.797872\n         ...   \n246   -1.775862\n247   -1.814496\n248   -1.848534\n249   -1.864034\n250   -1.879885\nLength: 251, dtype: float64"
        ],
        [
         "35",
         "0     -1.801050\n1     -1.798915\n2     -1.778375\n3     -1.759428\n4     -1.701133\n         ...   \n246   -1.717157\n247   -1.759057\n248   -1.796549\n249   -1.798544\n250   -1.801050\nLength: 251, dtype: float64"
        ],
        [
         "36",
         "0     -1.907777\n1     -1.904890\n2     -1.888563\n3     -1.871164\n4     -1.831679\n         ...   \n246   -1.815367\n247   -1.853688\n248   -1.906272\n249   -1.924120\n250   -1.925098\nLength: 251, dtype: float64"
        ],
        [
         "37",
         "0     -1.829855\n1     -1.808497\n2     -1.795777\n3     -1.766647\n4     -1.750764\n         ...   \n246   -1.733421\n247   -1.761321\n248   -1.803442\n249   -1.843156\n250   -1.827516\nLength: 251, dtype: float64"
        ],
        [
         "38",
         "0     -1.801563\n1     -1.775734\n2     -1.728486\n3     -1.656728\n4     -1.586515\n         ...   \n246   -1.690243\n247   -1.707989\n248   -1.730219\n249   -1.771514\n250   -1.779973\nLength: 251, dtype: float64"
        ],
        [
         "39",
         "0     -1.885718\n1     -1.855170\n2     -1.845198\n3     -1.808755\n4     -1.732067\n         ...   \n246   -1.935907\n247   -1.940783\n248   -1.898720\n249   -1.934034\n250   -1.882523\nLength: 251, dtype: float64"
        ],
        [
         "40",
         "0     -1.959051\n1     -1.974930\n2     -1.971418\n3     -1.967188\n4     -1.943278\n         ...   \n246   -1.876352\n247   -1.910406\n248   -1.895691\n249   -1.924978\n250   -1.930911\nLength: 251, dtype: float64"
        ],
        [
         "41",
         "0     -1.989385\n1     -2.026534\n2     -2.003516\n3     -1.975471\n4     -1.941805\n         ...   \n246   -1.868219\n247   -1.905606\n248   -1.937431\n249   -1.963952\n250   -1.965456\nLength: 251, dtype: float64"
        ],
        [
         "42",
         "0     -1.853754\n1     -1.849193\n2     -1.834128\n3     -1.818093\n4     -1.799213\n         ...   \n246   -1.768574\n247   -1.804220\n248   -1.820001\n249   -1.850058\n250   -1.851250\nLength: 251, dtype: float64"
        ],
        [
         "43",
         "0     -1.823411\n1     -1.805534\n2     -1.793166\n3     -1.749130\n4     -1.735088\n         ...   \n246   -1.700994\n247   -1.718829\n248   -1.749130\n249   -1.809327\n250   -1.821584\nLength: 251, dtype: float64"
        ],
        [
         "44",
         "0     -2.048394\n1     -2.043213\n2     -1.975888\n3     -1.939354\n4     -1.900312\n         ...   \n246   -2.137104\n247   -2.142385\n248   -2.135091\n249   -2.109976\n250   -2.061331\nLength: 251, dtype: float64"
        ],
        [
         "45",
         "0     -1.492107\n1     -1.453629\n2     -1.422846\n3     -1.315334\n4     -1.204414\n         ...   \n246   -1.623473\n247   -1.630153\n248   -1.585627\n249   -1.540063\n250   -1.503932\nLength: 251, dtype: float64"
        ],
        [
         "46",
         "0     -2.033640\n1     -2.005206\n2     -1.975406\n3     -1.945251\n4     -1.853241\n         ...   \n246   -1.894360\n247   -1.929350\n248   -1.969000\n249   -1.971836\n250   -2.003130\nLength: 251, dtype: float64"
        ],
        [
         "47",
         "0     -2.097394\n1     -2.063936\n2     -1.981905\n3     -1.926157\n4     -1.877074\n         ...   \n246   -2.087416\n247   -2.092745\n248   -2.095781\n249   -2.118645\n250   -2.095887\nLength: 251, dtype: float64"
        ],
        [
         "48",
         "0     -1.955058\n1     -1.954434\n2     -1.937850\n3     -1.866278\n4     -1.808490\n         ...   \n246   -1.837880\n247   -1.862068\n248   -1.901288\n249   -1.953537\n250   -1.937562\nLength: 251, dtype: float64"
        ],
        [
         "49",
         "0     -2.139459\n1     -2.118865\n2     -2.104383\n3     -2.037724\n4     -1.976574\n         ...   \n246   -2.109733\n247   -2.134455\n248   -2.136943\n249   -2.133908\n250   -2.129968\nLength: 251, dtype: float64"
        ]
       ],
       "shape": {
        "columns": 1,
        "rows": 211
       }
      },
      "text/html": [
       "<div>\n",
       "<style scoped>\n",
       "    .dataframe tbody tr th:only-of-type {\n",
       "        vertical-align: middle;\n",
       "    }\n",
       "\n",
       "    .dataframe tbody tr th {\n",
       "        vertical-align: top;\n",
       "    }\n",
       "\n",
       "    .dataframe thead th {\n",
       "        text-align: right;\n",
       "    }\n",
       "</style>\n",
       "<table border=\"1\" class=\"dataframe\">\n",
       "  <thead>\n",
       "    <tr style=\"text-align: right;\">\n",
       "      <th></th>\n",
       "      <th>dim_0</th>\n",
       "    </tr>\n",
       "  </thead>\n",
       "  <tbody>\n",
       "    <tr>\n",
       "      <th>0</th>\n",
       "      <td>0     -1.963009\n",
       "1     -1.957825\n",
       "2     -1.95614...</td>\n",
       "    </tr>\n",
       "    <tr>\n",
       "      <th>1</th>\n",
       "      <td>0     -1.774571\n",
       "1     -1.774036\n",
       "2     -1.77658...</td>\n",
       "    </tr>\n",
       "    <tr>\n",
       "      <th>2</th>\n",
       "      <td>0     -1.866021\n",
       "1     -1.841991\n",
       "2     -1.83502...</td>\n",
       "    </tr>\n",
       "    <tr>\n",
       "      <th>3</th>\n",
       "      <td>0     -2.073758\n",
       "1     -2.073301\n",
       "2     -2.04460...</td>\n",
       "    </tr>\n",
       "    <tr>\n",
       "      <th>4</th>\n",
       "      <td>0     -1.746255\n",
       "1     -1.741263\n",
       "2     -1.72274...</td>\n",
       "    </tr>\n",
       "    <tr>\n",
       "      <th>...</th>\n",
       "      <td>...</td>\n",
       "    </tr>\n",
       "    <tr>\n",
       "      <th>206</th>\n",
       "      <td>0     -1.625142\n",
       "1     -1.622988\n",
       "2     -1.62606...</td>\n",
       "    </tr>\n",
       "    <tr>\n",
       "      <th>207</th>\n",
       "      <td>0     -1.657757\n",
       "1     -1.664673\n",
       "2     -1.63264...</td>\n",
       "    </tr>\n",
       "    <tr>\n",
       "      <th>208</th>\n",
       "      <td>0     -1.603279\n",
       "1     -1.587365\n",
       "2     -1.57740...</td>\n",
       "    </tr>\n",
       "    <tr>\n",
       "      <th>209</th>\n",
       "      <td>0     -1.739020\n",
       "1     -1.741534\n",
       "2     -1.73286...</td>\n",
       "    </tr>\n",
       "    <tr>\n",
       "      <th>210</th>\n",
       "      <td>0     -1.630727\n",
       "1     -1.629918\n",
       "2     -1.62055...</td>\n",
       "    </tr>\n",
       "  </tbody>\n",
       "</table>\n",
       "<p>211 rows × 1 columns</p>\n",
       "</div>"
      ],
      "text/plain": [
       "                                                 dim_0\n",
       "0    0     -1.963009\n",
       "1     -1.957825\n",
       "2     -1.95614...\n",
       "1    0     -1.774571\n",
       "1     -1.774036\n",
       "2     -1.77658...\n",
       "2    0     -1.866021\n",
       "1     -1.841991\n",
       "2     -1.83502...\n",
       "3    0     -2.073758\n",
       "1     -2.073301\n",
       "2     -2.04460...\n",
       "4    0     -1.746255\n",
       "1     -1.741263\n",
       "2     -1.72274...\n",
       "..                                                 ...\n",
       "206  0     -1.625142\n",
       "1     -1.622988\n",
       "2     -1.62606...\n",
       "207  0     -1.657757\n",
       "1     -1.664673\n",
       "2     -1.63264...\n",
       "208  0     -1.603279\n",
       "1     -1.587365\n",
       "2     -1.57740...\n",
       "209  0     -1.739020\n",
       "1     -1.741534\n",
       "2     -1.73286...\n",
       "210  0     -1.630727\n",
       "1     -1.629918\n",
       "2     -1.62055...\n",
       "\n",
       "[211 rows x 1 columns]"
      ]
     },
     "execution_count": 46,
     "metadata": {},
     "output_type": "execute_result"
    }
   ],
   "source": [
    "atest = load_arrow_head()\n",
    "atest[0]"
   ]
  },
  {
   "cell_type": "code",
   "execution_count": 47,
   "metadata": {},
   "outputs": [
    {
     "data": {
      "application/vnd.microsoft.datawrangler.viewer.v0+json": {
       "columns": [
        {
         "name": "index",
         "rawType": "int64",
         "type": "integer"
        },
        {
         "name": "0",
         "rawType": "float64",
         "type": "float"
        }
       ],
       "ref": "ae5159e8-a922-41f6-a701-d63aebcccf7b",
       "rows": [
        [
         "0",
         "-1.9630089"
        ],
        [
         "1",
         "-1.9578249"
        ],
        [
         "2",
         "-1.9561449"
        ],
        [
         "3",
         "-1.9382889"
        ],
        [
         "4",
         "-1.8966569"
        ],
        [
         "5",
         "-1.8698569"
        ],
        [
         "6",
         "-1.8387049"
        ],
        [
         "7",
         "-1.8122888"
        ],
        [
         "8",
         "-1.7364328"
        ],
        [
         "9",
         "-1.6733288"
        ],
        [
         "10",
         "-1.6230727"
        ],
        [
         "11",
         "-1.5858727"
        ],
        [
         "12",
         "-1.5438407"
        ],
        [
         "13",
         "-1.4567846"
        ],
        [
         "14",
         "-1.3787206"
        ],
        [
         "15",
         "-1.2924965"
        ],
        [
         "16",
         "-1.2169605"
        ],
        [
         "17",
         "-1.1089764"
        ],
        [
         "18",
         "-0.96868834"
        ],
        [
         "19",
         "-0.83160026"
        ],
        [
         "20",
         "-0.76030422"
        ],
        [
         "21",
         "-0.59963213"
        ],
        [
         "22",
         "-0.46625605"
        ],
        [
         "23",
         "-0.30638396"
        ],
        [
         "24",
         "-0.22684791"
        ],
        [
         "25",
         "-0.089759829"
        ],
        [
         "26",
         "0.041376247"
        ],
        [
         "27",
         "0.23203876"
        ],
        [
         "28",
         "0.38728525"
        ],
        [
         "29",
         "0.41471247"
        ],
        [
         "30",
         "0.51567412"
        ],
        [
         "31",
         "0.62614779"
        ],
        [
         "32",
         "0.72741025"
        ],
        [
         "33",
         "0.75345186"
        ],
        [
         "34",
         "0.78001988"
        ],
        [
         "35",
         "0.83840391"
        ],
        [
         "36",
         "0.88817034"
        ],
        [
         "37",
         "0.91981996"
        ],
        [
         "38",
         "0.93344237"
        ],
        [
         "39",
         "0.9834616"
        ],
        [
         "40",
         "1.04958"
        ],
        [
         "41",
         "1.1308921"
        ],
        [
         "42",
         "1.1898697"
        ],
        [
         "43",
         "1.2635882"
        ],
        [
         "44",
         "1.2976586"
        ],
        [
         "45",
         "1.4139322"
        ],
        [
         "46",
         "1.4014314"
        ],
        [
         "47",
         "1.4443339"
        ],
        [
         "48",
         "1.4868475"
        ],
        [
         "49",
         "1.4448603"
        ]
       ],
       "shape": {
        "columns": 1,
        "rows": 251
       }
      },
      "text/plain": [
       "0     -1.963009\n",
       "1     -1.957825\n",
       "2     -1.956145\n",
       "3     -1.938289\n",
       "4     -1.896657\n",
       "         ...   \n",
       "246   -1.841345\n",
       "247   -1.884289\n",
       "248   -1.905393\n",
       "249   -1.923905\n",
       "250   -1.909153\n",
       "Length: 251, dtype: float64"
      ]
     },
     "execution_count": 47,
     "metadata": {},
     "output_type": "execute_result"
    }
   ],
   "source": [
    "atest[0].iloc[0].iloc[0]"
   ]
  },
  {
   "cell_type": "code",
   "execution_count": 48,
   "metadata": {},
   "outputs": [
    {
     "data": {
      "text/plain": [
       "array(['0', '1', '2', '0', '1', '2', '0', '1', '2', '0', '1', '2', '0',\n",
       "       '1', '2', '0', '1', '2', '0', '1', '2', '0', '1', '2', '0', '1',\n",
       "       '2', '0', '1', '2', '0', '1', '2', '0', '1', '2', '0', '0', '0',\n",
       "       '0', '0', '0', '0', '0', '0', '0', '0', '0', '0', '0', '0', '0',\n",
       "       '0', '0', '0', '0', '0', '0', '0', '0', '0', '0', '0', '0', '0',\n",
       "       '0', '0', '0', '0', '0', '0', '0', '0', '0', '0', '0', '0', '0',\n",
       "       '0', '0', '0', '0', '0', '0', '0', '0', '0', '0', '0', '0', '0',\n",
       "       '0', '0', '0', '0', '0', '0', '0', '0', '0', '0', '0', '0', '0',\n",
       "       '0', '1', '1', '1', '1', '1', '1', '1', '1', '1', '1', '1', '1',\n",
       "       '1', '1', '1', '1', '1', '1', '1', '1', '1', '1', '1', '1', '1',\n",
       "       '1', '1', '1', '1', '1', '1', '1', '1', '1', '1', '1', '1', '1',\n",
       "       '1', '1', '1', '1', '1', '1', '1', '1', '1', '1', '1', '1', '1',\n",
       "       '1', '1', '2', '2', '2', '2', '2', '2', '2', '2', '2', '2', '2',\n",
       "       '2', '2', '2', '2', '2', '2', '2', '2', '2', '2', '2', '2', '2',\n",
       "       '2', '2', '2', '2', '2', '2', '2', '2', '2', '2', '2', '2', '2',\n",
       "       '2', '2', '2', '2', '2', '2', '2', '2', '2', '2', '2', '2', '2',\n",
       "       '2', '2', '2'], dtype='<U1')"
      ]
     },
     "execution_count": 48,
     "metadata": {},
     "output_type": "execute_result"
    }
   ],
   "source": [
    "atest[1]"
   ]
  },
  {
   "cell_type": "code",
   "execution_count": 49,
   "metadata": {},
   "outputs": [],
   "source": [
    "\n",
    "\n",
    "# step 2-- define the TimeSeriesForestClassifier\n",
    "tsf = TimeSeriesForestClassifier()\n",
    "\n",
    "# step 3-- train the classifier on the data\n",
    "tsf.fit(X_train, y_train)\n",
    "\n",
    "# step 4-- predict labels on the new data\n",
    "y_pred = tsf.predict(X_new[:5])"
   ]
  },
  {
   "cell_type": "code",
   "execution_count": 50,
   "metadata": {},
   "outputs": [
    {
     "data": {
      "text/plain": [
       "array(['0', '2', '0', '0', '0'], dtype='<U1')"
      ]
     },
     "execution_count": 50,
     "metadata": {},
     "output_type": "execute_result"
    }
   ],
   "source": [
    "y_pred"
   ]
  },
  {
   "cell_type": "markdown",
   "metadata": {},
   "source": [
    "Example of `IndepDist` with `sum` Aggregation Function on a Multivariate dataset."
   ]
  },
  {
   "cell_type": "code",
   "execution_count": 51,
   "metadata": {},
   "outputs": [],
   "source": [
    "from sktime.classification.distance_based import KNeighborsTimeSeriesClassifier\n",
    "from sktime.datasets import load_arrow_head\n",
    "from sktime.dists_kernels.compose_tab_to_panel import FlatDist\n",
    "from sktime.dists_kernels.indep import IndepDist\n",
    "from sktime.dists_kernels.scipy_dist import ScipyDist\n",
    "\n",
    "# step 1-- prepare a dataset (multivariate for demonstrating purposes)\n",
    "X_train, y_train = load_arrow_head(split=\"train\", return_X_y=True)\n",
    "X_new, _ = load_arrow_head(split=\"test\", return_X_y=True)\n",
    "\n",
    "# step 2-- define a classification estimator with distance parameter IndepDist\n",
    "indep_dist_sum = IndepDist(dist=FlatDist(ScipyDist()), aggfun=\"sum\")\n",
    "knn_sum = KNeighborsTimeSeriesClassifier(distance=indep_dist_sum)\n",
    "\n",
    "# step 3-- train the models with the data\n",
    "knn_sum.fit(X_train, y_train)\n",
    "\n",
    "# step 4-- predict labels on new data\n",
    "y_pred = knn_sum.predict(X_new[:5])  # Smaller set for faster runtime."
   ]
  },
  {
   "cell_type": "markdown",
   "metadata": {},
   "source": [
    "`IndepDist` provides the choice of being able to select `aggfun` parameter out of the many choices - `sum`, `mean`, `median`, `max`, `min`."
   ]
  },
  {
   "cell_type": "code",
   "execution_count": 52,
   "metadata": {},
   "outputs": [
    {
     "name": "stdout",
     "output_type": "stream",
     "text": [
      "Prediction with sum aggregation:  ['0' '0' '0' '0' '0']\n"
     ]
    }
   ],
   "source": [
    "print(\"Prediction with sum aggregation: \", y_pred)"
   ]
  },
  {
   "cell_type": "markdown",
   "metadata": {},
   "source": [
    "Below is another implementation using `CombinedDistance` which applies `DtwDist()` on separate components."
   ]
  },
  {
   "cell_type": "code",
   "execution_count": 53,
   "metadata": {},
   "outputs": [],
   "source": [
    "from sktime.classification.distance_based import KNeighborsTimeSeriesClassifier\n",
    "from sktime.datasets import load_arrow_head\n",
    "from sktime.dists_kernels.algebra import CombinedDistance\n",
    "from sktime.dists_kernels.compose_tab_to_panel import AggrDist, FlatDist\n",
    "from sktime.dists_kernels.scipy_dist import ScipyDist\n",
    "\n",
    "# step 1-- load a dataset\n",
    "X_train, y_train = load_arrow_head(split=\"train\", return_X_y=True)\n",
    "X_new, _ = load_arrow_head(split=\"test\", return_X_y=True)\n",
    "\n",
    "# step 2-- setup combined distance\n",
    "combined_dist = CombinedDistance([FlatDist(ScipyDist()), AggrDist(ScipyDist())])\n",
    "\n",
    "## step 3-- initialize the classifier\n",
    "knn_combined_dist = KNeighborsTimeSeriesClassifier(distance=combined_dist)\n",
    "\n",
    "## step 4-- train the classifier\n",
    "knn_combined_dist.fit(X_train, y_train)\n",
    "\n",
    "## step 5-- obtain the predictions from the classifier.\n",
    "y_pred = knn_combined_dist.predict(X_new[:5])"
   ]
  },
  {
   "cell_type": "code",
   "execution_count": 54,
   "metadata": {},
   "outputs": [
    {
     "data": {
      "text/plain": [
       "array(['0', '0', '0', '0', '0'], dtype='<U1')"
      ]
     },
     "execution_count": 54,
     "metadata": {},
     "output_type": "execute_result"
    }
   ],
   "source": [
    "y_pred"
   ]
  },
  {
   "attachments": {},
   "cell_type": "markdown",
   "metadata": {},
   "source": [
    "### 2.2.6 Time Series Regression - basic vignettes"
   ]
  },
  {
   "attachments": {},
   "cell_type": "markdown",
   "metadata": {},
   "source": [
    "TSR vignettes are exactly the same as TSC, except that:\n",
    "\n",
    "* `y` in `fit` input and `predict` output should be float 1D `np.ndarray`, not categorical\n",
    "* other algorithms are commonly used and/or performant"
   ]
  },
  {
   "cell_type": "code",
   "execution_count": 55,
   "metadata": {},
   "outputs": [],
   "source": [
    "# steps 1, 2 - prepare dataset (train and new)\n",
    "from sktime.datasets import load_covid_3month\n",
    "\n",
    "X_train, y_train = load_covid_3month(split=\"train\")\n",
    "y_train = y_train.astype(\"float\")\n",
    "X_new, _ = load_covid_3month(split=\"test\")\n",
    "X_new = X_new.loc[:2]  # smaller dataset for faster notebook runtime\n",
    "\n",
    "# step 3 - specify the regressor\n",
    "from sktime.regression.distance_based import KNeighborsTimeSeriesRegressor\n",
    "\n",
    "clf = KNeighborsTimeSeriesRegressor(n_neighbors=3, distance=eucl_dist)\n",
    "\n",
    "# step 4 - fit/train the regressor\n",
    "clf.fit(X_train, y_train)\n",
    "\n",
    "# step 5 - predict labels on new data\n",
    "y_pred = clf.predict(X_new)"
   ]
  },
  {
   "cell_type": "code",
   "execution_count": 56,
   "metadata": {},
   "outputs": [
    {
     "data": {
      "text/plain": [
       "array([0.02957762, 0.0065062 , 0.00183655])"
      ]
     },
     "execution_count": 56,
     "metadata": {},
     "output_type": "execute_result"
    }
   ],
   "source": [
    "y_pred  # predictions are array of float"
   ]
  },
  {
   "attachments": {},
   "cell_type": "markdown",
   "metadata": {},
   "source": [
    "### 2.2.7 Time Series Clustering - basic vignettes"
   ]
  },
  {
   "attachments": {},
   "cell_type": "markdown",
   "metadata": {},
   "source": [
    "TS clustering is similar - 1st step is also `fit`, but unsupervised\n",
    "\n",
    "i.e., no labels `y`, and next step is inspecting clusters"
   ]
  },
  {
   "cell_type": "code",
   "execution_count": 57,
   "metadata": {},
   "outputs": [
    {
     "data": {
      "text/plain": [
       "{'core_sample_indices': array([ 0,  1,  3,  4,  6,  7,  8,  9, 10, 11, 12, 13, 14, 16, 17, 18, 19,\n",
       "        20, 21, 22, 23, 24, 25, 26, 27, 28, 29, 30, 32, 33, 34, 35, 36, 37,\n",
       "        38, 39, 40, 41, 42, 43, 44, 45, 46, 47, 50, 52, 53, 54, 55, 56, 57,\n",
       "        58, 60, 61, 62, 63, 64, 65]),\n",
       " 'dbscan': DBSCAN(eps=2, metric='precomputed'),\n",
       " 'fit_time': 2,\n",
       " 'labels': array([ 0,  0, -1,  0,  0,  1,  0,  0,  0,  0,  0,  0,  0,  0,  0,  1,  0,\n",
       "         0,  0,  0,  0,  0,  0,  0,  0,  0,  0,  0,  0,  0,  0,  1,  0,  0,\n",
       "         0,  0,  0,  0,  0,  0,  0,  0,  0,  0,  0,  0,  1,  0,  1,  0,  0,\n",
       "         0,  0,  0,  0,  0,  0,  0,  0, -1,  0,  0,  0,  0,  0,  0, -1]),\n",
       " 'dbscan__components': array([[0.        , 2.21059984, 7.22653506, ..., 2.43397663, 3.42512865,\n",
       "         5.77701453],\n",
       "        [2.21059984, 0.        , 7.31863575, ..., 0.8952782 , 2.01224344,\n",
       "         5.73199202],\n",
       "        [2.98199582, 1.8413087 , 7.5785501 , ..., 1.5676963 , 1.41086552,\n",
       "         5.96418696],\n",
       "        ...,\n",
       "        [3.78429193, 2.68599227, 6.32367754, ..., 2.71202763, 1.36130647,\n",
       "         4.47124464],\n",
       "        [2.43397663, 0.8952782 , 7.59888847, ..., 0.        , 1.98453315,\n",
       "         5.99830821],\n",
       "        [3.42512865, 2.01224344, 7.02761342, ..., 1.98453315, 0.        ,\n",
       "         5.27610504]], shape=(58, 67)),\n",
       " 'dbscan__core_sample_indices': array([ 0,  1,  3,  4,  6,  7,  8,  9, 10, 11, 12, 13, 14, 16, 17, 18, 19,\n",
       "        20, 21, 22, 23, 24, 25, 26, 27, 28, 29, 30, 32, 33, 34, 35, 36, 37,\n",
       "        38, 39, 40, 41, 42, 43, 44, 45, 46, 47, 50, 52, 53, 54, 55, 56, 57,\n",
       "        58, 60, 61, 62, 63, 64, 65]),\n",
       " 'dbscan__labels': array([ 0,  0, -1,  0,  0,  1,  0,  0,  0,  0,  0,  0,  0,  0,  0,  1,  0,\n",
       "         0,  0,  0,  0,  0,  0,  0,  0,  0,  0,  0,  0,  0,  0,  1,  0,  0,\n",
       "         0,  0,  0,  0,  0,  0,  0,  0,  0,  0,  0,  0,  1,  0,  1,  0,  0,\n",
       "         0,  0,  0,  0,  0,  0,  0,  0, -1,  0,  0,  0,  0,  0,  0, -1]),\n",
       " 'dbscan__n_features_in': 67}"
      ]
     },
     "execution_count": 57,
     "metadata": {},
     "output_type": "execute_result"
    }
   ],
   "source": [
    "# step 1 - prepare dataset (train and new)\n",
    "from sktime.datasets import load_italy_power_demand\n",
    "\n",
    "X, _ = load_italy_power_demand(split=\"train\", return_type=\"numpy3D\")\n",
    "\n",
    "# step 2 - specify the clusterer\n",
    "from sktime.clustering.dbscan import TimeSeriesDBSCAN\n",
    "from sktime.dists_kernels import FlatDist, ScipyDist\n",
    "\n",
    "eucl_dist = FlatDist(ScipyDist())\n",
    "clst = TimeSeriesDBSCAN(distance=eucl_dist, eps=2)\n",
    "\n",
    "# step 3 - fit the clusterer to the data\n",
    "clst.fit(X)\n",
    "\n",
    "# step 4 - inspect the clustering\n",
    "clst.get_fitted_params()"
   ]
  },
  {
   "attachments": {},
   "cell_type": "markdown",
   "metadata": {},
   "source": [
    "## 2.3 Searching for estimators, estimator tags"
   ]
  },
  {
   "attachments": {},
   "cell_type": "markdown",
   "metadata": {},
   "source": [
    "Estimators in `sktime` are tagged.\n",
    "\n",
    "Tags starting with \"capability\" indicate things the estimator can or cannot do, e.g.,\n",
    "\n",
    "* `\"capability:missing_values\"` - dealing with missing values\n",
    "* `\"capability:multivariate\"` - dealing with multivariate input\n",
    "* `\"capability:unequal_length\"` - deaing with time series panels where the individual time series have unequal length and/or unequal index"
   ]
  },
  {
   "attachments": {},
   "cell_type": "markdown",
   "metadata": {},
   "source": [
    "all tags for an estimator scitype (e.g., classifier, regressor) can be inspected by `sktime.registry.all_tags`:"
   ]
  },
  {
   "cell_type": "code",
   "execution_count": 58,
   "metadata": {},
   "outputs": [
    {
     "data": {
      "application/vnd.microsoft.datawrangler.viewer.v0+json": {
       "columns": [
        {
         "name": "index",
         "rawType": "int64",
         "type": "integer"
        },
        {
         "name": "name",
         "rawType": "object",
         "type": "string"
        },
        {
         "name": "scitype",
         "rawType": "object",
         "type": "unknown"
        },
        {
         "name": "type",
         "rawType": "object",
         "type": "unknown"
        },
        {
         "name": "description",
         "rawType": "object",
         "type": "string"
        }
       ],
       "ref": "80f269dc-7304-4045-bdcc-e136c83a4db8",
       "rows": [
        [
         "0",
         "X_inner_mtype",
         "estimator",
         "('list', 'str')",
         "which machine type(s) is the internal _fit/_predict able to deal with?"
        ],
        [
         "1",
         "authors",
         "object",
         "('list', 'str')",
         "list of authors of the object, each author a GitHub handle"
        ],
        [
         "2",
         "capability:contractable",
         "estimator",
         "bool",
         "contract time setting, does the estimator support limiting max fit time?"
        ],
        [
         "3",
         "capability:feature_importance",
         "estimator",
         "bool",
         "Can the estimator provide feature importance?"
        ],
        [
         "4",
         "capability:missing_values",
         "object",
         "bool",
         "can the estimator handle missing data (NA, np.nan) in inputs?"
        ],
        [
         "5",
         "capability:multioutput",
         "['classifier', 'regressor']",
         "bool",
         "can the estimator handle multi-output time series?"
        ],
        [
         "6",
         "capability:multithreading",
         "['classifier', 'early_classifier']",
         "bool",
         "can the classifier set n_jobs to use multiple threads?"
        ],
        [
         "7",
         "capability:multivariate",
         "['classifier', 'clusterer', 'early_classifier', 'param_est', 'regressor', 'transformer-pairwise', 'transformer-pairwise-panel']",
         "bool",
         "can the estimator be applied to time series with 2 or more variables?"
        ],
        [
         "8",
         "capability:predict_proba",
         "['classifier', 'clusterer']",
         "bool",
         "does the estimator implement a non-default predict_proba method? i.e., not just 0/1 probabilities obtained from predict?"
        ],
        [
         "9",
         "capability:train_estimate",
         "estimator",
         "bool",
         "can the estimator estimate its performance on the training set?"
        ],
        [
         "10",
         "capability:unequal_length",
         "['aligner', 'classifier', 'clusterer', 'early_classifier', 'regressor', 'transformer', 'transformer-pairwise-panel']",
         "bool",
         "can the estimator handle unequal length time series?"
        ],
        [
         "11",
         "classifier_type",
         "classifier",
         "('list', ['dictionary', 'distance', 'feature', 'hybrid', 'interval', 'kernel', 'shapelet'])",
         "which type the classifier falls under in the taxonomy of time series classification algorithms."
        ],
        [
         "12",
         "distribution_type",
         "estimator",
         "str",
         "distribution type of data as str"
        ],
        [
         "13",
         "distribution_type",
         "estimator",
         "str",
         "distribution type of data as str"
        ],
        [
         "14",
         "env_marker",
         "object",
         "str",
         "environment marker (PEP 508) requirement for estimator, or None = no marker"
        ],
        [
         "15",
         "fit_is_empty",
         "estimator",
         "bool",
         "does the estimator have an empty fit method?"
        ],
        [
         "16",
         "handles-missing-data",
         "estimator",
         "bool",
         "can the estimator handle missing data (NA, np.nan) in inputs?"
        ],
        [
         "17",
         "maintainers",
         "object",
         "('list', 'str')",
         "current maintainers of the object, each maintainer a GitHub handle"
        ],
        [
         "18",
         "object_type",
         "object",
         "str",
         "type of object: estimator, transformer, regressor, etc"
        ],
        [
         "19",
         "python_dependencies",
         "object",
         "('list', 'str')",
         "python dependencies of estimator as str or list of str (PEP 440)"
        ],
        [
         "20",
         "python_dependencies_alias",
         "object",
         "dict",
         "deprecated tag for dependency import aliases"
        ],
        [
         "21",
         "python_version",
         "object",
         "str",
         "python version specifier (PEP 440) for estimator, or None = all versions ok"
        ],
        [
         "22",
         "requires_cython",
         "object",
         "bool",
         "whether the object requires a C compiler present such as libomp, gcc"
        ],
        [
         "23",
         "reserved_params",
         "estimator",
         "('list', 'str')",
         "parameters reserved by the base class and present in all child estimators"
        ],
        [
         "24",
         "sktime_version",
         "object",
         "str",
         "sktime version from which this estimator class originates"
        ],
        [
         "25",
         "visual_block_kind",
         "estimator",
         "('str', ['single', 'serial', 'parallel'])",
         "how to display html represantation of a meta-estimator in jupyter notebook"
        ],
        [
         "26",
         "y_inner_mtype",
         "estimator",
         "('list', 'str')",
         "which machine type(s) is the internal _fit/_predict able to deal with?"
        ]
       ],
       "shape": {
        "columns": 4,
        "rows": 27
       }
      },
      "text/html": [
       "<div>\n",
       "<style scoped>\n",
       "    .dataframe tbody tr th:only-of-type {\n",
       "        vertical-align: middle;\n",
       "    }\n",
       "\n",
       "    .dataframe tbody tr th {\n",
       "        vertical-align: top;\n",
       "    }\n",
       "\n",
       "    .dataframe thead th {\n",
       "        text-align: right;\n",
       "    }\n",
       "</style>\n",
       "<table border=\"1\" class=\"dataframe\">\n",
       "  <thead>\n",
       "    <tr style=\"text-align: right;\">\n",
       "      <th></th>\n",
       "      <th>name</th>\n",
       "      <th>scitype</th>\n",
       "      <th>type</th>\n",
       "      <th>description</th>\n",
       "    </tr>\n",
       "  </thead>\n",
       "  <tbody>\n",
       "    <tr>\n",
       "      <th>0</th>\n",
       "      <td>X_inner_mtype</td>\n",
       "      <td>estimator</td>\n",
       "      <td>(list, str)</td>\n",
       "      <td>which machine type(s) is the internal _fit/_pr...</td>\n",
       "    </tr>\n",
       "    <tr>\n",
       "      <th>1</th>\n",
       "      <td>authors</td>\n",
       "      <td>object</td>\n",
       "      <td>(list, str)</td>\n",
       "      <td>list of authors of the object, each author a G...</td>\n",
       "    </tr>\n",
       "    <tr>\n",
       "      <th>2</th>\n",
       "      <td>capability:contractable</td>\n",
       "      <td>estimator</td>\n",
       "      <td>bool</td>\n",
       "      <td>contract time setting, does the estimator supp...</td>\n",
       "    </tr>\n",
       "    <tr>\n",
       "      <th>3</th>\n",
       "      <td>capability:feature_importance</td>\n",
       "      <td>estimator</td>\n",
       "      <td>bool</td>\n",
       "      <td>Can the estimator provide feature importance?</td>\n",
       "    </tr>\n",
       "    <tr>\n",
       "      <th>4</th>\n",
       "      <td>capability:missing_values</td>\n",
       "      <td>object</td>\n",
       "      <td>bool</td>\n",
       "      <td>can the estimator handle missing data (NA, np....</td>\n",
       "    </tr>\n",
       "    <tr>\n",
       "      <th>5</th>\n",
       "      <td>capability:multioutput</td>\n",
       "      <td>[classifier, regressor]</td>\n",
       "      <td>bool</td>\n",
       "      <td>can the estimator handle multi-output time ser...</td>\n",
       "    </tr>\n",
       "    <tr>\n",
       "      <th>6</th>\n",
       "      <td>capability:multithreading</td>\n",
       "      <td>[classifier, early_classifier]</td>\n",
       "      <td>bool</td>\n",
       "      <td>can the classifier set n_jobs to use multiple ...</td>\n",
       "    </tr>\n",
       "    <tr>\n",
       "      <th>7</th>\n",
       "      <td>capability:multivariate</td>\n",
       "      <td>[classifier, clusterer, early_classifier, para...</td>\n",
       "      <td>bool</td>\n",
       "      <td>can the estimator be applied to time series wi...</td>\n",
       "    </tr>\n",
       "    <tr>\n",
       "      <th>8</th>\n",
       "      <td>capability:predict_proba</td>\n",
       "      <td>[classifier, clusterer]</td>\n",
       "      <td>bool</td>\n",
       "      <td>does the estimator implement a non-default pre...</td>\n",
       "    </tr>\n",
       "    <tr>\n",
       "      <th>9</th>\n",
       "      <td>capability:train_estimate</td>\n",
       "      <td>estimator</td>\n",
       "      <td>bool</td>\n",
       "      <td>can the estimator estimate its performance on ...</td>\n",
       "    </tr>\n",
       "    <tr>\n",
       "      <th>10</th>\n",
       "      <td>capability:unequal_length</td>\n",
       "      <td>[aligner, classifier, clusterer, early_classif...</td>\n",
       "      <td>bool</td>\n",
       "      <td>can the estimator handle unequal length time s...</td>\n",
       "    </tr>\n",
       "    <tr>\n",
       "      <th>11</th>\n",
       "      <td>classifier_type</td>\n",
       "      <td>classifier</td>\n",
       "      <td>(list, [dictionary, distance, feature, hybrid,...</td>\n",
       "      <td>which type the classifier falls under in the t...</td>\n",
       "    </tr>\n",
       "    <tr>\n",
       "      <th>12</th>\n",
       "      <td>distribution_type</td>\n",
       "      <td>estimator</td>\n",
       "      <td>str</td>\n",
       "      <td>distribution type of data as str</td>\n",
       "    </tr>\n",
       "    <tr>\n",
       "      <th>13</th>\n",
       "      <td>distribution_type</td>\n",
       "      <td>estimator</td>\n",
       "      <td>str</td>\n",
       "      <td>distribution type of data as str</td>\n",
       "    </tr>\n",
       "    <tr>\n",
       "      <th>14</th>\n",
       "      <td>env_marker</td>\n",
       "      <td>object</td>\n",
       "      <td>str</td>\n",
       "      <td>environment marker (PEP 508) requirement for e...</td>\n",
       "    </tr>\n",
       "    <tr>\n",
       "      <th>15</th>\n",
       "      <td>fit_is_empty</td>\n",
       "      <td>estimator</td>\n",
       "      <td>bool</td>\n",
       "      <td>does the estimator have an empty fit method?</td>\n",
       "    </tr>\n",
       "    <tr>\n",
       "      <th>16</th>\n",
       "      <td>handles-missing-data</td>\n",
       "      <td>estimator</td>\n",
       "      <td>bool</td>\n",
       "      <td>can the estimator handle missing data (NA, np....</td>\n",
       "    </tr>\n",
       "    <tr>\n",
       "      <th>17</th>\n",
       "      <td>maintainers</td>\n",
       "      <td>object</td>\n",
       "      <td>(list, str)</td>\n",
       "      <td>current maintainers of the object, each mainta...</td>\n",
       "    </tr>\n",
       "    <tr>\n",
       "      <th>18</th>\n",
       "      <td>object_type</td>\n",
       "      <td>object</td>\n",
       "      <td>str</td>\n",
       "      <td>type of object: estimator, transformer, regres...</td>\n",
       "    </tr>\n",
       "    <tr>\n",
       "      <th>19</th>\n",
       "      <td>python_dependencies</td>\n",
       "      <td>object</td>\n",
       "      <td>(list, str)</td>\n",
       "      <td>python dependencies of estimator as str or lis...</td>\n",
       "    </tr>\n",
       "    <tr>\n",
       "      <th>20</th>\n",
       "      <td>python_dependencies_alias</td>\n",
       "      <td>object</td>\n",
       "      <td>dict</td>\n",
       "      <td>deprecated tag for dependency import aliases</td>\n",
       "    </tr>\n",
       "    <tr>\n",
       "      <th>21</th>\n",
       "      <td>python_version</td>\n",
       "      <td>object</td>\n",
       "      <td>str</td>\n",
       "      <td>python version specifier (PEP 440) for estimat...</td>\n",
       "    </tr>\n",
       "    <tr>\n",
       "      <th>22</th>\n",
       "      <td>requires_cython</td>\n",
       "      <td>object</td>\n",
       "      <td>bool</td>\n",
       "      <td>whether the object requires a C compiler prese...</td>\n",
       "    </tr>\n",
       "    <tr>\n",
       "      <th>23</th>\n",
       "      <td>reserved_params</td>\n",
       "      <td>estimator</td>\n",
       "      <td>(list, str)</td>\n",
       "      <td>parameters reserved by the base class and pres...</td>\n",
       "    </tr>\n",
       "    <tr>\n",
       "      <th>24</th>\n",
       "      <td>sktime_version</td>\n",
       "      <td>object</td>\n",
       "      <td>str</td>\n",
       "      <td>sktime version from which this estimator class...</td>\n",
       "    </tr>\n",
       "    <tr>\n",
       "      <th>25</th>\n",
       "      <td>visual_block_kind</td>\n",
       "      <td>estimator</td>\n",
       "      <td>(str, [single, serial, parallel])</td>\n",
       "      <td>how to display html represantation of a meta-e...</td>\n",
       "    </tr>\n",
       "    <tr>\n",
       "      <th>26</th>\n",
       "      <td>y_inner_mtype</td>\n",
       "      <td>estimator</td>\n",
       "      <td>(list, str)</td>\n",
       "      <td>which machine type(s) is the internal _fit/_pr...</td>\n",
       "    </tr>\n",
       "  </tbody>\n",
       "</table>\n",
       "</div>"
      ],
      "text/plain": [
       "                             name                                            scitype                                               type                                        description\n",
       "0                   X_inner_mtype                                          estimator                                        (list, str)  which machine type(s) is the internal _fit/_pr...\n",
       "1                         authors                                             object                                        (list, str)  list of authors of the object, each author a G...\n",
       "2         capability:contractable                                          estimator                                               bool  contract time setting, does the estimator supp...\n",
       "3   capability:feature_importance                                          estimator                                               bool      Can the estimator provide feature importance?\n",
       "4       capability:missing_values                                             object                                               bool  can the estimator handle missing data (NA, np....\n",
       "5          capability:multioutput                            [classifier, regressor]                                               bool  can the estimator handle multi-output time ser...\n",
       "6       capability:multithreading                     [classifier, early_classifier]                                               bool  can the classifier set n_jobs to use multiple ...\n",
       "7         capability:multivariate  [classifier, clusterer, early_classifier, para...                                               bool  can the estimator be applied to time series wi...\n",
       "8        capability:predict_proba                            [classifier, clusterer]                                               bool  does the estimator implement a non-default pre...\n",
       "9       capability:train_estimate                                          estimator                                               bool  can the estimator estimate its performance on ...\n",
       "10      capability:unequal_length  [aligner, classifier, clusterer, early_classif...                                               bool  can the estimator handle unequal length time s...\n",
       "11                classifier_type                                         classifier  (list, [dictionary, distance, feature, hybrid,...  which type the classifier falls under in the t...\n",
       "12              distribution_type                                          estimator                                                str                   distribution type of data as str\n",
       "13              distribution_type                                          estimator                                                str                   distribution type of data as str\n",
       "14                     env_marker                                             object                                                str  environment marker (PEP 508) requirement for e...\n",
       "15                   fit_is_empty                                          estimator                                               bool       does the estimator have an empty fit method?\n",
       "16           handles-missing-data                                          estimator                                               bool  can the estimator handle missing data (NA, np....\n",
       "17                    maintainers                                             object                                        (list, str)  current maintainers of the object, each mainta...\n",
       "18                    object_type                                             object                                                str  type of object: estimator, transformer, regres...\n",
       "19            python_dependencies                                             object                                        (list, str)  python dependencies of estimator as str or lis...\n",
       "20      python_dependencies_alias                                             object                                               dict       deprecated tag for dependency import aliases\n",
       "21                 python_version                                             object                                                str  python version specifier (PEP 440) for estimat...\n",
       "22                requires_cython                                             object                                               bool  whether the object requires a C compiler prese...\n",
       "23                reserved_params                                          estimator                                        (list, str)  parameters reserved by the base class and pres...\n",
       "24                 sktime_version                                             object                                                str  sktime version from which this estimator class...\n",
       "25              visual_block_kind                                          estimator                  (str, [single, serial, parallel])  how to display html represantation of a meta-e...\n",
       "26                  y_inner_mtype                                          estimator                                        (list, str)  which machine type(s) is the internal _fit/_pr..."
      ]
     },
     "execution_count": 58,
     "metadata": {},
     "output_type": "execute_result"
    }
   ],
   "source": [
    "from sktime.registry import all_tags\n",
    "\n",
    "all_tags(\"classifier\", as_dataframe=True)"
   ]
  },
  {
   "attachments": {},
   "cell_type": "markdown",
   "metadata": {},
   "source": [
    "valid estimator types are listed in the `all_tags` docstring, or `sktime.registry.BASE_CLASS_REGISTER`"
   ]
  },
  {
   "cell_type": "code",
   "execution_count": 59,
   "metadata": {},
   "outputs": [
    {
     "data": {
      "text/plain": [
       "['aligner',\n",
       " 'classifier',\n",
       " 'clusterer',\n",
       " 'dataset',\n",
       " 'dataset_classification',\n",
       " 'dataset_forecasting',\n",
       " 'dataset_regression',\n",
       " 'detector',\n",
       " 'early_classifier',\n",
       " 'estimator',\n",
       " 'forecaster',\n",
       " 'global_forecaster',\n",
       " 'metric',\n",
       " 'metric_detection',\n",
       " 'metric_forecasting',\n",
       " 'metric_forecasting_proba',\n",
       " 'network',\n",
       " 'object',\n",
       " 'param_est',\n",
       " 'regressor',\n",
       " 'series-annotator',\n",
       " 'splitter',\n",
       " 'transformer',\n",
       " 'transformer-pairwise',\n",
       " 'transformer-pairwise-panel',\n",
       " 'distribution']"
      ]
     },
     "execution_count": 59,
     "metadata": {},
     "output_type": "execute_result"
    }
   ],
   "source": [
    "from sktime.registry import get_obj_scitype_list\n",
    "\n",
    "# get only fist table column, the list of types\n",
    "get_obj_scitype_list()"
   ]
  },
  {
   "attachments": {},
   "cell_type": "markdown",
   "metadata": {},
   "source": [
    "to find all estimators of a certain type, use `sktime.registry.all_estimators`"
   ]
  },
  {
   "cell_type": "code",
   "execution_count": 60,
   "metadata": {},
   "outputs": [
    {
     "data": {
      "application/vnd.microsoft.datawrangler.viewer.v0+json": {
       "columns": [
        {
         "name": "index",
         "rawType": "int64",
         "type": "integer"
        },
        {
         "name": "name",
         "rawType": "object",
         "type": "string"
        },
        {
         "name": "object",
         "rawType": "object",
         "type": "unknown"
        }
       ],
       "ref": "603ba243-c8b8-4319-b5bb-ece97fee2657",
       "rows": [
        [
         "0",
         "Arsenal",
         "<class 'sktime.classification.kernel_based._arsenal.Arsenal'>"
        ],
        [
         "1",
         "BOSSEnsemble",
         "<class 'sktime.classification.dictionary_based._boss.BOSSEnsemble'>"
        ],
        [
         "2",
         "BOSSVSClassifierPyts",
         "<class 'sktime.classification.dictionary_based._boss_pyts.BOSSVSClassifierPyts'>"
        ],
        [
         "3",
         "BaggingClassifier",
         "<class 'sktime.classification.ensemble._bagging.BaggingClassifier'>"
        ],
        [
         "4",
         "CNNClassifier",
         "<class 'sktime.classification.deep_learning.cnn.CNNClassifier'>"
        ],
        [
         "5",
         "CNTCClassifier",
         "<class 'sktime.classification.deep_learning.cntc.CNTCClassifier'>"
        ],
        [
         "6",
         "CanonicalIntervalForest",
         "<class 'sktime.classification.interval_based._cif.CanonicalIntervalForest'>"
        ],
        [
         "7",
         "Catch22Classifier",
         "<class 'sktime.classification.feature_based._catch22_classifier.Catch22Classifier'>"
        ],
        [
         "8",
         "ClassifierPipeline",
         "<class 'sktime.classification.compose._pipeline.ClassifierPipeline'>"
        ],
        [
         "9",
         "ColumnEnsembleClassifier",
         "<class 'sktime.classification.compose._column_ensemble.ColumnEnsembleClassifier'>"
        ],
        [
         "10",
         "ComposableTimeSeriesForestClassifier",
         "<class 'sktime.classification.ensemble._ctsf.ComposableTimeSeriesForestClassifier'>"
        ],
        [
         "11",
         "ContractableBOSS",
         "<class 'sktime.classification.dictionary_based._cboss.ContractableBOSS'>"
        ],
        [
         "12",
         "DrCIF",
         "<class 'sktime.classification.interval_based._drcif.DrCIF'>"
        ],
        [
         "13",
         "DummyClassifier",
         "<class 'sktime.classification.dummy._dummy.DummyClassifier'>"
        ],
        [
         "14",
         "ElasticEnsemble",
         "<class 'sktime.classification.distance_based._elastic_ensemble.ElasticEnsemble'>"
        ],
        [
         "15",
         "FCNClassifier",
         "<class 'sktime.classification.deep_learning.fcn.FCNClassifier'>"
        ],
        [
         "16",
         "FreshPRINCE",
         "<class 'sktime.classification.feature_based._fresh_prince.FreshPRINCE'>"
        ],
        [
         "17",
         "GRUClassifier",
         "<class 'sktime.classification.deep_learning.gru.GRUClassifier'>"
        ],
        [
         "18",
         "GRUFCNNClassifier",
         "<class 'sktime.classification.deep_learning.gru.GRUFCNNClassifier'>"
        ],
        [
         "19",
         "HIVECOTEV1",
         "<class 'sktime.classification.hybrid._hivecote_v1.HIVECOTEV1'>"
        ],
        [
         "20",
         "HIVECOTEV2",
         "<class 'sktime.classification.hybrid._hivecote_v2.HIVECOTEV2'>"
        ],
        [
         "21",
         "InceptionTimeClassifier",
         "<class 'sktime.classification.deep_learning.inceptiontime.InceptionTimeClassifier'>"
        ],
        [
         "22",
         "IndividualBOSS",
         "<class 'sktime.classification.dictionary_based._boss.IndividualBOSS'>"
        ],
        [
         "23",
         "IndividualTDE",
         "<class 'sktime.classification.dictionary_based._tde.IndividualTDE'>"
        ],
        [
         "24",
         "KNeighborsTimeSeriesClassifier",
         "<class 'sktime.classification.distance_based._time_series_neighbors.KNeighborsTimeSeriesClassifier'>"
        ],
        [
         "25",
         "KNeighborsTimeSeriesClassifierPyts",
         "<class 'sktime.classification.distance_based._time_series_neighbors_pyts.KNeighborsTimeSeriesClassifierPyts'>"
        ],
        [
         "26",
         "KNeighborsTimeSeriesClassifierTslearn",
         "<class 'sktime.classification.distance_based._time_series_neighbors_tslearn.KNeighborsTimeSeriesClassifierTslearn'>"
        ],
        [
         "27",
         "LSTMFCNClassifier",
         "<class 'sktime.classification.deep_learning.lstmfcn.LSTMFCNClassifier'>"
        ],
        [
         "28",
         "MACNNClassifier",
         "<class 'sktime.classification.deep_learning.macnn.MACNNClassifier'>"
        ],
        [
         "29",
         "MCDCNNClassifier",
         "<class 'sktime.classification.deep_learning.mcdcnn.MCDCNNClassifier'>"
        ],
        [
         "30",
         "MLPClassifier",
         "<class 'sktime.classification.deep_learning.mlp.MLPClassifier'>"
        ],
        [
         "31",
         "MUSE",
         "<class 'sktime.classification.dictionary_based._muse.MUSE'>"
        ],
        [
         "32",
         "MVTSTransformerClassifier",
         "<class 'sktime.classification.deep_learning.mvts_transformer.MVTSTransformerClassifier'>"
        ],
        [
         "33",
         "MatrixProfileClassifier",
         "<class 'sktime.classification.feature_based._matrix_profile_classifier.MatrixProfileClassifier'>"
        ],
        [
         "34",
         "MrSEQL",
         "<class 'sktime.classification.shapelet_based._mrseql.MrSEQL'>"
        ],
        [
         "35",
         "MrSQM",
         "<class 'sktime.classification.shapelet_based._mrsqm.MrSQM'>"
        ],
        [
         "36",
         "MultiplexClassifier",
         "<class 'sktime.classification.compose._multiplexer.MultiplexClassifier'>"
        ],
        [
         "37",
         "ProbabilityThresholdEarlyClassifier",
         "<class 'sktime.classification.early_classification._probability_threshold.ProbabilityThresholdEarlyClassifier'>"
        ],
        [
         "38",
         "ProximityForest",
         "<class 'sktime.classification.distance_based._proximity_forest.ProximityForest'>"
        ],
        [
         "39",
         "ProximityStump",
         "<class 'sktime.classification.distance_based._proximity_forest.ProximityStump'>"
        ],
        [
         "40",
         "ProximityTree",
         "<class 'sktime.classification.distance_based._proximity_forest.ProximityTree'>"
        ],
        [
         "41",
         "RandomIntervalClassifier",
         "<class 'sktime.classification.feature_based._random_interval_classifier.RandomIntervalClassifier'>"
        ],
        [
         "42",
         "RandomIntervalSpectralEnsemble",
         "<class 'sktime.classification.interval_based._rise.RandomIntervalSpectralEnsemble'>"
        ],
        [
         "43",
         "ResNetClassifier",
         "<class 'sktime.classification.deep_learning.resnet.ResNetClassifier'>"
        ],
        [
         "44",
         "RocketClassifier",
         "<class 'sktime.classification.kernel_based._rocket_classifier.RocketClassifier'>"
        ],
        [
         "45",
         "ShapeDTW",
         "<class 'sktime.classification.distance_based._shape_dtw.ShapeDTW'>"
        ],
        [
         "46",
         "ShapeletLearningClassifierPyts",
         "<class 'sktime.classification.shapelet_based._learning_pyts.ShapeletLearningClassifierPyts'>"
        ],
        [
         "47",
         "ShapeletLearningClassifierTslearn",
         "<class 'sktime.classification.shapelet_based._learning_tslearn.ShapeletLearningClassifierTslearn'>"
        ],
        [
         "48",
         "ShapeletTransformClassifier",
         "<class 'sktime.classification.shapelet_based._stc.ShapeletTransformClassifier'>"
        ],
        [
         "49",
         "SignatureClassifier",
         "<class 'sktime.classification.feature_based._signature_classifier.SignatureClassifier'>"
        ]
       ],
       "shape": {
        "columns": 2,
        "rows": 63
       }
      },
      "text/html": [
       "<div>\n",
       "<style scoped>\n",
       "    .dataframe tbody tr th:only-of-type {\n",
       "        vertical-align: middle;\n",
       "    }\n",
       "\n",
       "    .dataframe tbody tr th {\n",
       "        vertical-align: top;\n",
       "    }\n",
       "\n",
       "    .dataframe thead th {\n",
       "        text-align: right;\n",
       "    }\n",
       "</style>\n",
       "<table border=\"1\" class=\"dataframe\">\n",
       "  <thead>\n",
       "    <tr style=\"text-align: right;\">\n",
       "      <th></th>\n",
       "      <th>name</th>\n",
       "      <th>object</th>\n",
       "    </tr>\n",
       "  </thead>\n",
       "  <tbody>\n",
       "    <tr>\n",
       "      <th>0</th>\n",
       "      <td>Arsenal</td>\n",
       "      <td>&lt;class 'sktime.classification.kernel_based._ar...</td>\n",
       "    </tr>\n",
       "    <tr>\n",
       "      <th>1</th>\n",
       "      <td>BOSSEnsemble</td>\n",
       "      <td>&lt;class 'sktime.classification.dictionary_based...</td>\n",
       "    </tr>\n",
       "    <tr>\n",
       "      <th>2</th>\n",
       "      <td>BOSSVSClassifierPyts</td>\n",
       "      <td>&lt;class 'sktime.classification.dictionary_based...</td>\n",
       "    </tr>\n",
       "    <tr>\n",
       "      <th>3</th>\n",
       "      <td>BaggingClassifier</td>\n",
       "      <td>&lt;class 'sktime.classification.ensemble._baggin...</td>\n",
       "    </tr>\n",
       "    <tr>\n",
       "      <th>4</th>\n",
       "      <td>CNNClassifier</td>\n",
       "      <td>&lt;class 'sktime.classification.deep_learning.cn...</td>\n",
       "    </tr>\n",
       "    <tr>\n",
       "      <th>...</th>\n",
       "      <td>...</td>\n",
       "      <td>...</td>\n",
       "    </tr>\n",
       "    <tr>\n",
       "      <th>58</th>\n",
       "      <td>TimeSeriesForestClassifier</td>\n",
       "      <td>&lt;class 'sktime.classification.interval_based._...</td>\n",
       "    </tr>\n",
       "    <tr>\n",
       "      <th>59</th>\n",
       "      <td>TimeSeriesSVC</td>\n",
       "      <td>&lt;class 'sktime.classification.kernel_based._sv...</td>\n",
       "    </tr>\n",
       "    <tr>\n",
       "      <th>60</th>\n",
       "      <td>TimeSeriesSVCTslearn</td>\n",
       "      <td>&lt;class 'sktime.classification.kernel_based._sv...</td>\n",
       "    </tr>\n",
       "    <tr>\n",
       "      <th>61</th>\n",
       "      <td>WEASEL</td>\n",
       "      <td>&lt;class 'sktime.classification.dictionary_based...</td>\n",
       "    </tr>\n",
       "    <tr>\n",
       "      <th>62</th>\n",
       "      <td>WeightedEnsembleClassifier</td>\n",
       "      <td>&lt;class 'sktime.classification.ensemble._weight...</td>\n",
       "    </tr>\n",
       "  </tbody>\n",
       "</table>\n",
       "<p>63 rows × 2 columns</p>\n",
       "</div>"
      ],
      "text/plain": [
       "                          name                                             object\n",
       "0                      Arsenal  <class 'sktime.classification.kernel_based._ar...\n",
       "1                 BOSSEnsemble  <class 'sktime.classification.dictionary_based...\n",
       "2         BOSSVSClassifierPyts  <class 'sktime.classification.dictionary_based...\n",
       "3            BaggingClassifier  <class 'sktime.classification.ensemble._baggin...\n",
       "4                CNNClassifier  <class 'sktime.classification.deep_learning.cn...\n",
       "..                         ...                                                ...\n",
       "58  TimeSeriesForestClassifier  <class 'sktime.classification.interval_based._...\n",
       "59               TimeSeriesSVC  <class 'sktime.classification.kernel_based._sv...\n",
       "60        TimeSeriesSVCTslearn  <class 'sktime.classification.kernel_based._sv...\n",
       "61                      WEASEL  <class 'sktime.classification.dictionary_based...\n",
       "62  WeightedEnsembleClassifier  <class 'sktime.classification.ensemble._weight...\n",
       "\n",
       "[63 rows x 2 columns]"
      ]
     },
     "execution_count": 60,
     "metadata": {},
     "output_type": "execute_result"
    }
   ],
   "source": [
    "# list all classifiers in sktime\n",
    "from sktime.registry import all_estimators\n",
    "\n",
    "all_estimators(\"classifier\", as_dataframe=True)"
   ]
  },
  {
   "attachments": {},
   "cell_type": "markdown",
   "metadata": {},
   "source": [
    "for listing all estimators of a certain type with a certain capability,\n",
    "use the `filter_tags` argument of `all_estimators`:"
   ]
  },
  {
   "cell_type": "code",
   "execution_count": 61,
   "metadata": {},
   "outputs": [
    {
     "data": {
      "application/vnd.microsoft.datawrangler.viewer.v0+json": {
       "columns": [
        {
         "name": "index",
         "rawType": "int64",
         "type": "integer"
        },
        {
         "name": "name",
         "rawType": "object",
         "type": "string"
        },
        {
         "name": "object",
         "rawType": "object",
         "type": "unknown"
        }
       ],
       "ref": "08417586-0632-4636-835f-a71bd463e54a",
       "rows": [
        [
         "0",
         "BOSSVSClassifierPyts",
         "<class 'sktime.classification.dictionary_based._boss_pyts.BOSSVSClassifierPyts'>"
        ],
        [
         "1",
         "BaggingClassifier",
         "<class 'sktime.classification.ensemble._bagging.BaggingClassifier'>"
        ],
        [
         "2",
         "DummyClassifier",
         "<class 'sktime.classification.dummy._dummy.DummyClassifier'>"
        ],
        [
         "3",
         "KNeighborsTimeSeriesClassifier",
         "<class 'sktime.classification.distance_based._time_series_neighbors.KNeighborsTimeSeriesClassifier'>"
        ],
        [
         "4",
         "KNeighborsTimeSeriesClassifierPyts",
         "<class 'sktime.classification.distance_based._time_series_neighbors_pyts.KNeighborsTimeSeriesClassifierPyts'>"
        ],
        [
         "5",
         "MultiplexClassifier",
         "<class 'sktime.classification.compose._multiplexer.MultiplexClassifier'>"
        ],
        [
         "6",
         "ShapeletLearningClassifierPyts",
         "<class 'sktime.classification.shapelet_based._learning_pyts.ShapeletLearningClassifierPyts'>"
        ],
        [
         "7",
         "SklearnClassifierPipeline",
         "<class 'sktime.classification.compose._pipeline.SklearnClassifierPipeline'>"
        ],
        [
         "8",
         "TSCGridSearchCV",
         "<class 'sktime.classification.model_selection._tune.TSCGridSearchCV'>"
        ],
        [
         "9",
         "TimeSeriesSVC",
         "<class 'sktime.classification.kernel_based._svc.TimeSeriesSVC'>"
        ],
        [
         "10",
         "WeightedEnsembleClassifier",
         "<class 'sktime.classification.ensemble._weighted.WeightedEnsembleClassifier'>"
        ]
       ],
       "shape": {
        "columns": 2,
        "rows": 11
       }
      },
      "text/html": [
       "<div>\n",
       "<style scoped>\n",
       "    .dataframe tbody tr th:only-of-type {\n",
       "        vertical-align: middle;\n",
       "    }\n",
       "\n",
       "    .dataframe tbody tr th {\n",
       "        vertical-align: top;\n",
       "    }\n",
       "\n",
       "    .dataframe thead th {\n",
       "        text-align: right;\n",
       "    }\n",
       "</style>\n",
       "<table border=\"1\" class=\"dataframe\">\n",
       "  <thead>\n",
       "    <tr style=\"text-align: right;\">\n",
       "      <th></th>\n",
       "      <th>name</th>\n",
       "      <th>object</th>\n",
       "    </tr>\n",
       "  </thead>\n",
       "  <tbody>\n",
       "    <tr>\n",
       "      <th>0</th>\n",
       "      <td>BOSSVSClassifierPyts</td>\n",
       "      <td>&lt;class 'sktime.classification.dictionary_based...</td>\n",
       "    </tr>\n",
       "    <tr>\n",
       "      <th>1</th>\n",
       "      <td>BaggingClassifier</td>\n",
       "      <td>&lt;class 'sktime.classification.ensemble._baggin...</td>\n",
       "    </tr>\n",
       "    <tr>\n",
       "      <th>2</th>\n",
       "      <td>DummyClassifier</td>\n",
       "      <td>&lt;class 'sktime.classification.dummy._dummy.Dum...</td>\n",
       "    </tr>\n",
       "    <tr>\n",
       "      <th>3</th>\n",
       "      <td>KNeighborsTimeSeriesClassifier</td>\n",
       "      <td>&lt;class 'sktime.classification.distance_based._...</td>\n",
       "    </tr>\n",
       "    <tr>\n",
       "      <th>4</th>\n",
       "      <td>KNeighborsTimeSeriesClassifierPyts</td>\n",
       "      <td>&lt;class 'sktime.classification.distance_based._...</td>\n",
       "    </tr>\n",
       "    <tr>\n",
       "      <th>5</th>\n",
       "      <td>MultiplexClassifier</td>\n",
       "      <td>&lt;class 'sktime.classification.compose._multipl...</td>\n",
       "    </tr>\n",
       "    <tr>\n",
       "      <th>6</th>\n",
       "      <td>ShapeletLearningClassifierPyts</td>\n",
       "      <td>&lt;class 'sktime.classification.shapelet_based._...</td>\n",
       "    </tr>\n",
       "    <tr>\n",
       "      <th>7</th>\n",
       "      <td>SklearnClassifierPipeline</td>\n",
       "      <td>&lt;class 'sktime.classification.compose._pipelin...</td>\n",
       "    </tr>\n",
       "    <tr>\n",
       "      <th>8</th>\n",
       "      <td>TSCGridSearchCV</td>\n",
       "      <td>&lt;class 'sktime.classification.model_selection....</td>\n",
       "    </tr>\n",
       "    <tr>\n",
       "      <th>9</th>\n",
       "      <td>TimeSeriesSVC</td>\n",
       "      <td>&lt;class 'sktime.classification.kernel_based._sv...</td>\n",
       "    </tr>\n",
       "    <tr>\n",
       "      <th>10</th>\n",
       "      <td>WeightedEnsembleClassifier</td>\n",
       "      <td>&lt;class 'sktime.classification.ensemble._weight...</td>\n",
       "    </tr>\n",
       "  </tbody>\n",
       "</table>\n",
       "</div>"
      ],
      "text/plain": [
       "                                  name                                             object\n",
       "0                 BOSSVSClassifierPyts  <class 'sktime.classification.dictionary_based...\n",
       "1                    BaggingClassifier  <class 'sktime.classification.ensemble._baggin...\n",
       "2                      DummyClassifier  <class 'sktime.classification.dummy._dummy.Dum...\n",
       "3       KNeighborsTimeSeriesClassifier  <class 'sktime.classification.distance_based._...\n",
       "4   KNeighborsTimeSeriesClassifierPyts  <class 'sktime.classification.distance_based._...\n",
       "5                  MultiplexClassifier  <class 'sktime.classification.compose._multipl...\n",
       "6       ShapeletLearningClassifierPyts  <class 'sktime.classification.shapelet_based._...\n",
       "7            SklearnClassifierPipeline  <class 'sktime.classification.compose._pipelin...\n",
       "8                      TSCGridSearchCV  <class 'sktime.classification.model_selection....\n",
       "9                        TimeSeriesSVC  <class 'sktime.classification.kernel_based._sv...\n",
       "10          WeightedEnsembleClassifier  <class 'sktime.classification.ensemble._weight..."
      ]
     },
     "execution_count": 61,
     "metadata": {},
     "output_type": "execute_result"
    }
   ],
   "source": [
    "# list all classifiers in sktime\n",
    "# that can classify panels of time series containing missing data\n",
    "from sktime.registry import all_estimators\n",
    "\n",
    "all_estimators(\n",
    "    \"classifier\",\n",
    "    as_dataframe=True,\n",
    "    filter_tags={\"capability:missing_values\": True},\n",
    ")"
   ]
  },
  {
   "attachments": {},
   "cell_type": "markdown",
   "metadata": {},
   "source": [
    "side note:\n",
    "\n",
    "don't worry about how short the list is - when in doubt, it is always possible to pipeline with `Imputer`\n",
    "\n",
    "as in the next section :-)"
   ]
  },
  {
   "attachments": {},
   "cell_type": "markdown",
   "metadata": {},
   "source": [
    "## 2.4 Pipelines, Feature Extraction, Tuning, Composition\n"
   ]
  },
  {
   "attachments": {},
   "cell_type": "markdown",
   "metadata": {},
   "source": [
    "similar to `sklearn` for \"tabular\" classification, regression, etc,\n",
    "\n",
    "`sktime` has a rich set of tools for:\n",
    "\n",
    "* feature extraction via transformers\n",
    "* pipeline transformers with any estimator\n",
    "* tuning individual estimators or pipelines via grid search and similar\n",
    "* building ensembles out of individual estimators, or other composites\n",
    "\n",
    "`sktime` is also fully interoperable with `sklearn` interface if `numpy` based data mtypes are used\n",
    "\n",
    "(although this loses support for unequal length time series)"
   ]
  },
  {
   "attachments": {},
   "cell_type": "markdown",
   "metadata": {},
   "source": [
    "### 2.4.1 Primer on `sktime` transformers for feature extraction"
   ]
  },
  {
   "attachments": {},
   "cell_type": "markdown",
   "metadata": {},
   "source": [
    "all `sktime` transformers work natively with panel data:"
   ]
  },
  {
   "cell_type": "code",
   "execution_count": 62,
   "metadata": {},
   "outputs": [
    {
     "data": {
      "application/vnd.microsoft.datawrangler.viewer.v0+json": {
       "columns": [
        {
         "name": "(None, None)",
         "rawType": "object",
         "type": "unknown"
        },
        {
         "name": "dim_0",
         "rawType": "float64",
         "type": "float"
        }
       ],
       "ref": "fee43b36-8eee-41c3-9c8a-a7e937a4045e",
       "rows": [
        [
         "(np.int64(0), np.int64(0))",
         "0.2677114976466666"
        ],
        [
         "(np.int64(0), np.int64(1))",
         "-0.2901547294494202"
        ],
        [
         "(np.int64(0), np.int64(2))",
         "-0.5643393265455072"
        ],
        [
         "(np.int64(0), np.int64(3))",
         "-0.8700440236415942"
        ],
        [
         "(np.int64(0), np.int64(4))",
         "-0.8290266207376811"
        ],
        [
         "(np.int64(0), np.int64(5))",
         "-0.819529517833768"
        ],
        [
         "(np.int64(0), np.int64(6))",
         "-0.6209112149298549"
        ],
        [
         "(np.int64(0), np.int64(7))",
         "0.42875223497405796"
        ],
        [
         "(np.int64(0), np.int64(8))",
         "1.2262541208779711"
        ],
        [
         "(np.int64(0), np.int64(9))",
         "1.298791693781884"
        ],
        [
         "(np.int64(0), np.int64(10))",
         "1.4028493966857973"
        ],
        [
         "(np.int64(0), np.int64(11))",
         "1.0025841195897103"
        ],
        [
         "(np.int64(0), np.int64(12))",
         "0.5707986424936233"
        ],
        [
         "(np.int64(0), np.int64(13))",
         "-0.11314833660246365"
        ],
        [
         "(np.int64(0), np.int64(14))",
         "-0.8601356916985506"
        ],
        [
         "(np.int64(0), np.int64(15))",
         "-0.5669568287946374"
        ],
        [
         "(np.int64(0), np.int64(16))",
         "-0.5889798458907245"
        ],
        [
         "(np.int64(0), np.int64(17))",
         "0.1454816570131885"
        ],
        [
         "(np.int64(0), np.int64(18))",
         "0.8169028199171017"
        ],
        [
         "(np.int64(0), np.int64(19))",
         "0.8263999228210147"
        ],
        [
         "(np.int64(0), np.int64(20))",
         "0.3315741257249277"
        ],
        [
         "(np.int64(0), np.int64(21))",
         "-0.22629212137115906"
        ],
        [
         "(np.int64(0), np.int64(22))",
         "-0.7211179684672461"
        ],
        [
         "(np.int64(0), np.int64(23))",
         "-1.247464005563333"
        ],
        [
         "(np.int64(1), np.int64(0))",
         "0.05647610922333357"
        ],
        [
         "(np.int64(1), np.int64(1))",
         "-0.4685606457562316"
        ],
        [
         "(np.int64(1), np.int64(2))",
         "-0.7129180507357968"
        ],
        [
         "(np.int64(1), np.int64(3))",
         "-0.8296939557153622"
        ],
        [
         "(np.int64(1), np.int64(4))",
         "-0.9464698606949271"
        ],
        [
         "(np.int64(1), np.int64(5))",
         "-0.7825664656744926"
        ],
        [
         "(np.int64(1), np.int64(6))",
         "-0.5165978706540578"
        ],
        [
         "(np.int64(1), np.int64(7))",
         "0.05556639436637706"
        ],
        [
         "(np.int64(1), np.int64(8))",
         "1.0359913793868119"
        ],
        [
         "(np.int64(1), np.int64(9))",
         "1.4295415144072467"
        ],
        [
         "(np.int64(1), np.int64(10))",
         "1.2617330094276813"
        ],
        [
         "(np.int64(1), np.int64(11))",
         "1.0939245044481163"
        ],
        [
         "(np.int64(1), np.int64(12))",
         "0.747501859468551"
        ],
        [
         "(np.int64(1), np.int64(13))",
         "0.32453036448898587"
        ],
        [
         "(np.int64(1), np.int64(14))",
         "0.25878705950942055"
        ],
        [
         "(np.int64(1), np.int64(15))",
         "0.24407635452985543"
        ],
        [
         "(np.int64(1), np.int64(16))",
         "0.2038493495502901"
        ],
        [
         "(np.int64(1), np.int64(17))",
         "-0.19360585542927516"
        ],
        [
         "(np.int64(1), np.int64(18))",
         "-0.33589807040884023"
        ],
        [
         "(np.int64(1), np.int64(19))",
         "0.41488026461159433"
        ],
        [
         "(np.int64(1), np.int64(20))",
         "0.27258805963202937"
        ],
        [
         "(np.int64(1), np.int64(21))",
         "-0.17589977534753598"
        ],
        [
         "(np.int64(1), np.int64(22))",
         "-1.007132087327101"
        ],
        [
         "(np.int64(1), np.int64(23))",
         "-1.4301035853066661"
        ],
        [
         "(np.int64(2), np.int64(0))",
         "1.7096355976080002"
        ],
        [
         "(np.int64(2), np.int64(1))",
         "0.9263806823181742"
        ]
       ],
       "shape": {
        "columns": 1,
        "rows": 26304
       }
      },
      "text/html": [
       "<div>\n",
       "<style scoped>\n",
       "    .dataframe tbody tr th:only-of-type {\n",
       "        vertical-align: middle;\n",
       "    }\n",
       "\n",
       "    .dataframe tbody tr th {\n",
       "        vertical-align: top;\n",
       "    }\n",
       "\n",
       "    .dataframe thead th {\n",
       "        text-align: right;\n",
       "    }\n",
       "</style>\n",
       "<table border=\"1\" class=\"dataframe\">\n",
       "  <thead>\n",
       "    <tr style=\"text-align: right;\">\n",
       "      <th></th>\n",
       "      <th></th>\n",
       "      <th>dim_0</th>\n",
       "    </tr>\n",
       "  </thead>\n",
       "  <tbody>\n",
       "    <tr>\n",
       "      <th rowspan=\"5\" valign=\"top\">0</th>\n",
       "      <th>0</th>\n",
       "      <td>0.267711</td>\n",
       "    </tr>\n",
       "    <tr>\n",
       "      <th>1</th>\n",
       "      <td>-0.290155</td>\n",
       "    </tr>\n",
       "    <tr>\n",
       "      <th>2</th>\n",
       "      <td>-0.564339</td>\n",
       "    </tr>\n",
       "    <tr>\n",
       "      <th>3</th>\n",
       "      <td>-0.870044</td>\n",
       "    </tr>\n",
       "    <tr>\n",
       "      <th>4</th>\n",
       "      <td>-0.829027</td>\n",
       "    </tr>\n",
       "    <tr>\n",
       "      <th>...</th>\n",
       "      <th>...</th>\n",
       "      <td>...</td>\n",
       "    </tr>\n",
       "    <tr>\n",
       "      <th rowspan=\"5\" valign=\"top\">1095</th>\n",
       "      <th>19</th>\n",
       "      <td>-0.425904</td>\n",
       "    </tr>\n",
       "    <tr>\n",
       "      <th>20</th>\n",
       "      <td>-0.781304</td>\n",
       "    </tr>\n",
       "    <tr>\n",
       "      <th>21</th>\n",
       "      <td>-0.038512</td>\n",
       "    </tr>\n",
       "    <tr>\n",
       "      <th>22</th>\n",
       "      <td>-0.637956</td>\n",
       "    </tr>\n",
       "    <tr>\n",
       "      <th>23</th>\n",
       "      <td>-0.932346</td>\n",
       "    </tr>\n",
       "  </tbody>\n",
       "</table>\n",
       "<p>26304 rows × 1 columns</p>\n",
       "</div>"
      ],
      "text/plain": [
       "            dim_0\n",
       "0    0   0.267711\n",
       "     1  -0.290155\n",
       "     2  -0.564339\n",
       "     3  -0.870044\n",
       "     4  -0.829027\n",
       "...           ...\n",
       "1095 19 -0.425904\n",
       "     20 -0.781304\n",
       "     21 -0.038512\n",
       "     22 -0.637956\n",
       "     23 -0.932346\n",
       "\n",
       "[26304 rows x 1 columns]"
      ]
     },
     "execution_count": 62,
     "metadata": {},
     "output_type": "execute_result"
    }
   ],
   "source": [
    "from sktime.datasets import load_italy_power_demand\n",
    "from sktime.transformations.series.detrend import Detrender\n",
    "\n",
    "# load some panel data\n",
    "X, _ = load_italy_power_demand(return_type=\"pd-multiindex\")\n",
    "\n",
    "# specify a linear detrender\n",
    "detrender = Detrender()\n",
    "\n",
    "# detrend X by removing linear trend from each instance\n",
    "X_detrended = detrender.fit_transform(X)\n",
    "X_detrended"
   ]
  },
  {
   "attachments": {},
   "cell_type": "markdown",
   "metadata": {},
   "source": [
    "for panel tasks such as TSC, TSR, clustering, there are two distinctions to be aware of:\n",
    "\n",
    "* series-to-series transformers transform individual series to series, panels to panels. E.g., instance-wise detrender above\n",
    "* series-to-primitive transformers transform individual series to a set of tabular features. E>g., summary feature extractor\n",
    "\n",
    "either type of transform can be instance-wise:\n",
    "\n",
    "* instance-wise transforms use only the i-th series to transform the i-th series. E.g., instance-wise detrender\n",
    "* non-instance-wise transforms train on all series to transform the i-th series. E.g., PCA, overall mean detrender"
   ]
  },
  {
   "cell_type": "code",
   "execution_count": 63,
   "metadata": {},
   "outputs": [
    {
     "data": {
      "application/vnd.microsoft.datawrangler.viewer.v0+json": {
       "columns": [
        {
         "name": "index",
         "rawType": "int64",
         "type": "integer"
        },
        {
         "name": "mean",
         "rawType": "float64",
         "type": "float"
        },
        {
         "name": "std",
         "rawType": "float64",
         "type": "float"
        },
        {
         "name": "min",
         "rawType": "float64",
         "type": "float"
        },
        {
         "name": "max",
         "rawType": "float64",
         "type": "float"
        },
        {
         "name": "0.1",
         "rawType": "float64",
         "type": "float"
        },
        {
         "name": "0.25",
         "rawType": "float64",
         "type": "float"
        },
        {
         "name": "0.5",
         "rawType": "float64",
         "type": "float"
        },
        {
         "name": "0.75",
         "rawType": "float64",
         "type": "float"
        },
        {
         "name": "0.9",
         "rawType": "float64",
         "type": "float"
        }
       ],
       "ref": "29edd41e-3017-4ad2-b9f0-acb130c63554",
       "rows": [
        [
         "0",
         "-1.0416666418322507e-09",
         "1.0000000046859117",
         "-1.5930829",
         "1.4643754",
         "-1.3724416",
         "-0.8050781525",
         "0.0302068525",
         "0.9364122775",
         "1.21851797"
        ],
        [
         "1",
         "-1.9583333380849646e-09",
         "1.0000000091648322",
         "-1.6309169",
         "1.2013925",
         "-1.53395496",
         "-0.9993884375000001",
         "0.38487087",
         "0.735719985",
         "1.08401752"
        ],
        [
         "2",
         "-1.775000017338139e-09",
         "0.9999999968950206",
         "-1.3971182",
         "2.3493441",
         "-1.003739719",
         "-0.74148733",
         "-0.132687207",
         "0.2653744175",
         "1.5157561899999998"
        ],
        [
         "3",
         "-8.541666540740067e-10",
         "0.9999999995862491",
         "-1.6464579",
         "1.3444874",
         "-1.47677924",
         "-0.8987215675",
         "0.26602159000000003",
         "0.7764954325",
         "1.039641064"
        ],
        [
         "4",
         "-3.416666653303461e-09",
         "1.000000005007123",
         "-1.6202404",
         "1.3035016",
         "-1.5116442499999998",
         "-0.9780612975",
         "0.40549517",
         "0.692648405",
         "1.06124876"
        ],
        [
         "5",
         "1.0416666788396849e-09",
         "1.0000000072654807",
         "-1.1381178",
         "2.3031202",
         "-1.0843484",
         "-0.640751325",
         "-0.27780827",
         "0.3943085075",
         "1.5879879599999995"
        ],
        [
         "6",
         "-1.166666670678514e-09",
         "0.9999999982967644",
         "-1.7506373",
         "1.8229601",
         "-1.36264676",
         "-0.6147438425",
         "-0.014889982",
         "0.444572545",
         "1.5523877099999996"
        ],
        [
         "7",
         "-1.2500000016550199e-09",
         "1.0000000023772904",
         "-1.5967602",
         "1.2050586",
         "-1.49537857",
         "-1.1082851999999999",
         "0.49538735",
         "0.8087486575",
         "0.972802518"
        ],
        [
         "8",
         "1.2499999924031613e-09",
         "0.9999999936332733",
         "-1.5692147",
         "1.1066042",
         "-1.5312739800000001",
         "-1.1049401",
         "0.437649485",
         "0.6972438575000001",
         "1.06067596"
        ],
        [
         "9",
         "-2.458333342447716e-09",
         "1.0000000073416622",
         "-1.5442541",
         "1.277346",
         "-1.40444507",
         "-0.95959819",
         "0.1842936955",
         "0.9151135024999999",
         "1.1477048899999998"
        ],
        [
         "10",
         "8.333333167039511e-10",
         "0.999999995287488",
         "-1.6045985",
         "1.4981323",
         "-1.2395714",
         "-0.874544245",
         "0.266165635",
         "0.85933478",
         "1.1696078199999997"
        ],
        [
         "11",
         "-2.6666666745149095e-09",
         "1.0000000010914878",
         "-1.6579484",
         "1.2057806",
         "-1.51978604",
         "-1.023657525",
         "0.40192688",
         "0.741052685",
         "1.0525459999999998"
        ],
        [
         "12",
         "-8.333333282687742e-10",
         "0.9999999989527267",
         "-1.6310419",
         "1.301245",
         "-1.53056485",
         "-0.9851185275",
         "0.42976116",
         "0.7373436975000001",
         "1.02852185"
        ],
        [
         "13",
         "4.166666669099446e-09",
         "0.9999999910758706",
         "-1.6836019",
         "1.1886299",
         "-1.5079216899999999",
         "-0.9725153999999999",
         "0.42177191",
         "0.69365795",
         "1.0575669019999998"
        ],
        [
         "14",
         "-2.0833335057091062e-10",
         "1.0000000053645572",
         "-1.667781",
         "1.4039844",
         "-1.49895118",
         "-0.96432326",
         "0.383970655",
         "0.6829401875",
         "1.1038424199999999"
        ],
        [
         "15",
         "1.0416666973434019e-09",
         "1.000000001145771",
         "-1.8088897",
         "2.1639503",
         "-1.0661413549999998",
         "-0.61415884",
         "-0.1679340615",
         "0.7101211625",
         "1.3175626439999997"
        ],
        [
         "16",
         "-4.999999951108928e-10",
         "0.9999999939238993",
         "-1.7900042",
         "1.6227141",
         "-1.32828354",
         "-0.6440669425000001",
         "-0.016729011000000002",
         "0.660795955",
         "1.39185377"
        ],
        [
         "17",
         "-7.083333364299449e-10",
         "1.0000000063638657",
         "-1.4809516",
         "1.7143535",
         "-1.29160021",
         "-0.7807458224999999",
         "-0.15943652",
         "0.7281482275",
         "1.4697746299999999"
        ],
        [
         "18",
         "-1.1249999913124735e-09",
         "1.000000001976982",
         "-1.5551964",
         "1.2969493",
         "-1.5113173",
         "-0.95871405",
         "0.36451701999999997",
         "0.7210352375",
         "1.1378873299999999"
        ],
        [
         "19",
         "0.0",
         "0.9999999968785934",
         "-1.5572818",
         "1.2874673",
         "-1.48242",
         "-1.056643375",
         "0.47334505",
         "0.7447191475",
         "1.0348087129999999"
        ],
        [
         "20",
         "8.333333282687742e-10",
         "0.9999999941752085",
         "-1.6364623",
         "1.1634224",
         "-1.46961982",
         "-1.056349175",
         "0.473039885",
         "0.799053865",
         "1.07712458"
        ],
        [
         "21",
         "-5.541666477556125e-10",
         "1.0000000057508058",
         "-1.6096707",
         "1.3976183",
         "-1.4683024199999999",
         "-0.8899775824999999",
         "0.240968665",
         "0.6843509999999999",
         "1.2742422999999998"
        ],
        [
         "22",
         "6.250000054534391e-10",
         "1.0000000043259076",
         "-1.6505462",
         "1.1741954",
         "-1.56602631",
         "-1.1000552",
         "0.37348125",
         "0.757156775",
         "1.08077874"
        ],
        [
         "23",
         "4.166666086232359e-11",
         "1.0000000034727807",
         "-1.7130037",
         "1.4710761",
         "-1.45390698",
         "-0.885767285",
         "0.1131596965",
         "0.8545508150000001",
         "1.07774853"
        ],
        [
         "24",
         "-3.083333347901155e-09",
         "1.0000000082960108",
         "-1.6533173",
         "1.4299762",
         "-1.52998562",
         "-0.9892233275",
         "0.35082346",
         "0.6650822175",
         "1.121646856"
        ],
        [
         "25",
         "-1.850371707708594e-17",
         "0.9999999968356296",
         "-1.4938776",
         "1.7324947",
         "-1.32046009",
         "-0.60662521",
         "-0.20332867500000001",
         "0.8351599200000001",
         "1.4098575"
        ],
        [
         "26",
         "-3.2083333212362675e-09",
         "1.00000000015649",
         "-1.6393237",
         "1.391071",
         "-1.50578084",
         "-0.9395079424999999",
         "0.37665922500000004",
         "0.69767561",
         "1.18818863"
        ],
        [
         "27",
         "7.083332994225108e-10",
         "1.0000000026519027",
         "-1.6525413",
         "1.3596859",
         "-1.41267873",
         "-0.8297570075",
         "0.160373205",
         "0.871593485",
         "1.2369654999999997"
        ],
        [
         "28",
         "2.9166666674444266e-09",
         "0.9999999979345436",
         "-1.6431857",
         "1.3821501",
         "-1.5093212",
         "-1.00063649",
         "0.29784832",
         "0.712828",
         "1.1626124009999999"
        ],
        [
         "29",
         "2.9166666304369926e-10",
         "0.9999999989009127",
         "-1.6095726",
         "1.4499627",
         "-1.54738691",
         "-0.9130930199999999",
         "0.442554735",
         "0.697516005",
         "1.07933606"
        ],
        [
         "30",
         "-1.6666666935449825e-09",
         "1.0000000054353821",
         "-1.6342004",
         "1.167286",
         "-1.48936165",
         "-1.052939575",
         "0.452621095",
         "0.8480689925",
         "1.003389471"
        ],
        [
         "31",
         "-2.0833333576793698e-09",
         "0.9999999985592374",
         "-1.1008754",
         "2.3886919",
         "-0.973478485",
         "-0.71314569",
         "-0.35311097",
         "0.46389088749999996",
         "1.5578425199999995"
        ],
        [
         "32",
         "-1.666666665789407e-09",
         "0.9999999984599892",
         "-1.518569",
         "1.3093391",
         "-1.46042514",
         "-0.8314137875000001",
         "0.08038835500000002",
         "0.9195106225",
         "1.12697864"
        ],
        [
         "33",
         "2.0833333391756526e-09",
         "1.0000000037454884",
         "-1.511698",
         "1.6628679",
         "-1.4209961500000001",
         "-0.7592847075",
         "-0.027485436",
         "0.75584899",
         "1.4031306799999999"
        ],
        [
         "34",
         "-1.2500001034254637e-10",
         "0.9999999916200522",
         "-1.99099",
         "1.8511923",
         "-1.36325315",
         "-0.583993695",
         "0.065389251",
         "0.51184002",
         "1.4074472999999998"
        ],
        [
         "35",
         "-2.112499989751863e-09",
         "1.0000000038994457",
         "-1.4891037",
         "1.2183575",
         "-1.47363249",
         "-0.9798430825",
         "0.277192455",
         "0.838023705",
         "1.13326591"
        ],
        [
         "36",
         "3.7499999402020495e-10",
         "0.9999999973394281",
         "-1.6025474",
         "1.0996878",
         "-1.51518192",
         "-1.0539733500000001",
         "0.520637435",
         "0.7542893574999999",
         "1.02044939"
        ],
        [
         "37",
         "-1.166666652174797e-09",
         "1.0000000042402086",
         "-1.8134548",
         "2.2296575",
         "-1.22482522",
         "-0.60943971",
         "0.029728771",
         "0.237830135",
         "1.4983298299999994"
        ],
        [
         "38",
         "-3.1666666742517315e-09",
         "1.0000000034665",
         "-1.6320718",
         "1.3360687",
         "-1.52502414",
         "-0.96302372",
         "0.38723691",
         "0.70351418",
         "1.1098088"
        ],
        [
         "39",
         "-3.3333334240973994e-10",
         "0.9999999971740087",
         "-1.6074275",
         "1.2437561",
         "-1.50269018",
         "-0.916451895",
         "0.38549167",
         "0.7855302075",
         "1.13029067"
        ],
        [
         "40",
         "8.749999845051685e-10",
         "0.9999999975848828",
         "-1.4161385",
         "2.0350164",
         "-1.20207945",
         "-0.7062489975",
         "-0.192944313",
         "0.6480016550000001",
         "1.5151589499999998"
        ],
        [
         "41",
         "7.08333354933662e-10",
         "1.0000000043340507",
         "-1.6230207",
         "1.2203724",
         "-1.46792654",
         "-0.98673689",
         "0.33554026000000003",
         "0.83263694",
         "1.120953"
        ],
        [
         "42",
         "-1.6666667583079922e-10",
         "0.9999999971952201",
         "-1.5292812",
         "1.3185964",
         "-1.4624433",
         "-0.9626116875",
         "0.21431731999999998",
         "0.8391067975000001",
         "1.0773986"
        ],
        [
         "43",
         "-1.125000000564332e-09",
         "0.9999999979321613",
         "-1.7827011",
         "1.6825926",
         "-1.3899678199999999",
         "-0.76621495",
         "0.134761425",
         "0.5505966725",
         "1.27599815"
        ],
        [
         "44",
         "-1.0416666510841093e-09",
         "1.0000000053546785",
         "-1.6047196",
         "1.3777895",
         "-1.52259251",
         "-0.95094493",
         "0.36200746",
         "0.70780561",
         "0.90231707"
        ],
        [
         "45",
         "-1.541666646195002e-09",
         "1.0000000039486419",
         "-1.4914182",
         "1.461795",
         "-1.43946359",
         "-0.86932935",
         "0.217617175",
         "0.7303278",
         "1.28132084"
        ],
        [
         "46",
         "-2.0416666505577532e-09",
         "0.9999999964029862",
         "-1.480175",
         "2.2408541",
         "-0.9976040639999999",
         "-0.68073515",
         "-0.25921232",
         "0.36580431",
         "1.5606034899999996"
        ],
        [
         "47",
         "-7.916666674064506e-10",
         "0.9999999968803558",
         "-1.6857084",
         "1.3022924",
         "-1.45037035",
         "-0.879212645",
         "0.29747796",
         "0.7668320750000001",
         "1.0616657859999998"
        ],
        [
         "48",
         "-1.083333348953867e-09",
         "0.9999999983353468",
         "-1.6045395",
         "2.3319308",
         "-1.24512271",
         "-0.86288571",
         "-0.14975702400000002",
         "0.79157285",
         "1.019774"
        ],
        [
         "49",
         "-1.2499999924031613e-09",
         "0.9999999966630827",
         "-1.4845365",
         "1.718937",
         "-1.33217621",
         "-0.566467885",
         "-0.273467255",
         "0.8497018350000001",
         "1.4728164899999998"
        ]
       ],
       "shape": {
        "columns": 9,
        "rows": 1096
       }
      },
      "text/html": [
       "<div>\n",
       "<style scoped>\n",
       "    .dataframe tbody tr th:only-of-type {\n",
       "        vertical-align: middle;\n",
       "    }\n",
       "\n",
       "    .dataframe tbody tr th {\n",
       "        vertical-align: top;\n",
       "    }\n",
       "\n",
       "    .dataframe thead th {\n",
       "        text-align: right;\n",
       "    }\n",
       "</style>\n",
       "<table border=\"1\" class=\"dataframe\">\n",
       "  <thead>\n",
       "    <tr style=\"text-align: right;\">\n",
       "      <th></th>\n",
       "      <th>mean</th>\n",
       "      <th>std</th>\n",
       "      <th>min</th>\n",
       "      <th>max</th>\n",
       "      <th>0.1</th>\n",
       "      <th>0.25</th>\n",
       "      <th>0.5</th>\n",
       "      <th>0.75</th>\n",
       "      <th>0.9</th>\n",
       "    </tr>\n",
       "  </thead>\n",
       "  <tbody>\n",
       "    <tr>\n",
       "      <th>0</th>\n",
       "      <td>-1.041667e-09</td>\n",
       "      <td>1.0</td>\n",
       "      <td>-1.593083</td>\n",
       "      <td>1.464375</td>\n",
       "      <td>-1.372442</td>\n",
       "      <td>-0.805078</td>\n",
       "      <td>0.030207</td>\n",
       "      <td>0.936412</td>\n",
       "      <td>1.218518</td>\n",
       "    </tr>\n",
       "    <tr>\n",
       "      <th>1</th>\n",
       "      <td>-1.958333e-09</td>\n",
       "      <td>1.0</td>\n",
       "      <td>-1.630917</td>\n",
       "      <td>1.201393</td>\n",
       "      <td>-1.533955</td>\n",
       "      <td>-0.999388</td>\n",
       "      <td>0.384871</td>\n",
       "      <td>0.735720</td>\n",
       "      <td>1.084018</td>\n",
       "    </tr>\n",
       "    <tr>\n",
       "      <th>2</th>\n",
       "      <td>-1.775000e-09</td>\n",
       "      <td>1.0</td>\n",
       "      <td>-1.397118</td>\n",
       "      <td>2.349344</td>\n",
       "      <td>-1.003740</td>\n",
       "      <td>-0.741487</td>\n",
       "      <td>-0.132687</td>\n",
       "      <td>0.265374</td>\n",
       "      <td>1.515756</td>\n",
       "    </tr>\n",
       "    <tr>\n",
       "      <th>3</th>\n",
       "      <td>-8.541667e-10</td>\n",
       "      <td>1.0</td>\n",
       "      <td>-1.646458</td>\n",
       "      <td>1.344487</td>\n",
       "      <td>-1.476779</td>\n",
       "      <td>-0.898722</td>\n",
       "      <td>0.266022</td>\n",
       "      <td>0.776495</td>\n",
       "      <td>1.039641</td>\n",
       "    </tr>\n",
       "    <tr>\n",
       "      <th>4</th>\n",
       "      <td>-3.416667e-09</td>\n",
       "      <td>1.0</td>\n",
       "      <td>-1.620240</td>\n",
       "      <td>1.303502</td>\n",
       "      <td>-1.511644</td>\n",
       "      <td>-0.978061</td>\n",
       "      <td>0.405495</td>\n",
       "      <td>0.692648</td>\n",
       "      <td>1.061249</td>\n",
       "    </tr>\n",
       "    <tr>\n",
       "      <th>...</th>\n",
       "      <td>...</td>\n",
       "      <td>...</td>\n",
       "      <td>...</td>\n",
       "      <td>...</td>\n",
       "      <td>...</td>\n",
       "      <td>...</td>\n",
       "      <td>...</td>\n",
       "      <td>...</td>\n",
       "      <td>...</td>\n",
       "    </tr>\n",
       "    <tr>\n",
       "      <th>1091</th>\n",
       "      <td>-1.041667e-09</td>\n",
       "      <td>1.0</td>\n",
       "      <td>-1.817799</td>\n",
       "      <td>1.630397</td>\n",
       "      <td>-1.323058</td>\n",
       "      <td>-0.643414</td>\n",
       "      <td>0.081208</td>\n",
       "      <td>0.568453</td>\n",
       "      <td>1.390523</td>\n",
       "    </tr>\n",
       "    <tr>\n",
       "      <th>1092</th>\n",
       "      <td>-4.166666e-10</td>\n",
       "      <td>1.0</td>\n",
       "      <td>-1.550077</td>\n",
       "      <td>1.513605</td>\n",
       "      <td>-1.343747</td>\n",
       "      <td>-0.768526</td>\n",
       "      <td>0.075550</td>\n",
       "      <td>0.857101</td>\n",
       "      <td>1.276013</td>\n",
       "    </tr>\n",
       "    <tr>\n",
       "      <th>1093</th>\n",
       "      <td>4.166667e-09</td>\n",
       "      <td>1.0</td>\n",
       "      <td>-1.706992</td>\n",
       "      <td>1.052255</td>\n",
       "      <td>-1.498879</td>\n",
       "      <td>-1.139943</td>\n",
       "      <td>0.467669</td>\n",
       "      <td>0.713195</td>\n",
       "      <td>0.993797</td>\n",
       "    </tr>\n",
       "    <tr>\n",
       "      <th>1094</th>\n",
       "      <td>1.583333e-09</td>\n",
       "      <td>1.0</td>\n",
       "      <td>-1.673857</td>\n",
       "      <td>2.420163</td>\n",
       "      <td>-0.744173</td>\n",
       "      <td>-0.479768</td>\n",
       "      <td>-0.266538</td>\n",
       "      <td>0.159923</td>\n",
       "      <td>1.550184</td>\n",
       "    </tr>\n",
       "    <tr>\n",
       "      <th>1095</th>\n",
       "      <td>3.495833e-09</td>\n",
       "      <td>1.0</td>\n",
       "      <td>-1.680337</td>\n",
       "      <td>1.461716</td>\n",
       "      <td>-1.488154</td>\n",
       "      <td>-0.810934</td>\n",
       "      <td>0.241501</td>\n",
       "      <td>0.645697</td>\n",
       "      <td>1.184117</td>\n",
       "    </tr>\n",
       "  </tbody>\n",
       "</table>\n",
       "<p>1096 rows × 9 columns</p>\n",
       "</div>"
      ],
      "text/plain": [
       "              mean  std       min       max       0.1      0.25       0.5      0.75       0.9\n",
       "0    -1.041667e-09  1.0 -1.593083  1.464375 -1.372442 -0.805078  0.030207  0.936412  1.218518\n",
       "1    -1.958333e-09  1.0 -1.630917  1.201393 -1.533955 -0.999388  0.384871  0.735720  1.084018\n",
       "2    -1.775000e-09  1.0 -1.397118  2.349344 -1.003740 -0.741487 -0.132687  0.265374  1.515756\n",
       "3    -8.541667e-10  1.0 -1.646458  1.344487 -1.476779 -0.898722  0.266022  0.776495  1.039641\n",
       "4    -3.416667e-09  1.0 -1.620240  1.303502 -1.511644 -0.978061  0.405495  0.692648  1.061249\n",
       "...            ...  ...       ...       ...       ...       ...       ...       ...       ...\n",
       "1091 -1.041667e-09  1.0 -1.817799  1.630397 -1.323058 -0.643414  0.081208  0.568453  1.390523\n",
       "1092 -4.166666e-10  1.0 -1.550077  1.513605 -1.343747 -0.768526  0.075550  0.857101  1.276013\n",
       "1093  4.166667e-09  1.0 -1.706992  1.052255 -1.498879 -1.139943  0.467669  0.713195  0.993797\n",
       "1094  1.583333e-09  1.0 -1.673857  2.420163 -0.744173 -0.479768 -0.266538  0.159923  1.550184\n",
       "1095  3.495833e-09  1.0 -1.680337  1.461716 -1.488154 -0.810934  0.241501  0.645697  1.184117\n",
       "\n",
       "[1096 rows x 9 columns]"
      ]
     },
     "execution_count": 63,
     "metadata": {},
     "output_type": "execute_result"
    }
   ],
   "source": [
    "# example of a series-to-primitive transformer\n",
    "from sktime.transformations.series.summarize import SummaryTransformer\n",
    "\n",
    "# specify summary transformer\n",
    "summary_trafo = SummaryTransformer()\n",
    "\n",
    "# extract summary features - one per instance in the panel\n",
    "X_summaries = summary_trafo.fit_transform(X)\n",
    "X_summaries"
   ]
  },
  {
   "attachments": {},
   "cell_type": "markdown",
   "metadata": {},
   "source": [
    "just like classifiers, we can search for transformers of either type via the right tag:\n",
    "\n",
    "* `\"scitype:transform-input\"` and `\"scitype:transform-output\"` define input and output, e.g., \"series-to-series\" (both are scitype strings)\n",
    "* `\"scitype:instancewise\"` is boolean and tells us whether the transform is instance-wise"
   ]
  },
  {
   "cell_type": "code",
   "execution_count": 64,
   "metadata": {},
   "outputs": [
    {
     "data": {
      "application/vnd.microsoft.datawrangler.viewer.v0+json": {
       "columns": [
        {
         "name": "index",
         "rawType": "int64",
         "type": "integer"
        },
        {
         "name": "name",
         "rawType": "object",
         "type": "string"
        },
        {
         "name": "object",
         "rawType": "object",
         "type": "unknown"
        }
       ],
       "ref": "cf05960f-5601-44d8-9638-c97396c31aa9",
       "rows": [
        [
         "0",
         "Catch22",
         "<class 'sktime.transformations.panel.catch22.Catch22'>"
        ],
        [
         "1",
         "Catch22Wrapper",
         "<class 'sktime.transformations.panel.catch22wrapper.Catch22Wrapper'>"
        ],
        [
         "2",
         "FittedParamExtractor",
         "<class 'sktime.transformations.panel.summarize._extract.FittedParamExtractor'>"
        ],
        [
         "3",
         "HurstExponentTransformer",
         "<class 'sktime.transformations.series.hurst.HurstExponentTransformer'>"
        ],
        [
         "4",
         "RandomIntervalFeatureExtractor",
         "<class 'sktime.transformations.panel.summarize._extract.RandomIntervalFeatureExtractor'>"
        ],
        [
         "5",
         "RandomIntervals",
         "<class 'sktime.transformations.panel.random_intervals.RandomIntervals'>"
        ],
        [
         "6",
         "RandomShapeletTransform",
         "<class 'sktime.transformations.panel.shapelet_transform._shapelet_transform.RandomShapeletTransform'>"
        ],
        [
         "7",
         "SignatureMoments",
         "<class 'sktime.transformations.series.signature.SignatureMoments'>"
        ],
        [
         "8",
         "SignatureTransformer",
         "<class 'sktime.transformations.panel.signature_based._signature_method.SignatureTransformer'>"
        ],
        [
         "9",
         "SummaryTransformer",
         "<class 'sktime.transformations.series.summarize.SummaryTransformer'>"
        ],
        [
         "10",
         "TSFreshFeatureExtractor",
         "<class 'sktime.transformations.panel.tsfresh.TSFreshFeatureExtractor'>"
        ],
        [
         "11",
         "Tabularizer",
         "<class 'sktime.transformations.panel.reduce.Tabularizer'>"
        ],
        [
         "12",
         "TimeBinner",
         "<class 'sktime.transformations.panel.reduce.TimeBinner'>"
        ]
       ],
       "shape": {
        "columns": 2,
        "rows": 13
       }
      },
      "text/html": [
       "<div>\n",
       "<style scoped>\n",
       "    .dataframe tbody tr th:only-of-type {\n",
       "        vertical-align: middle;\n",
       "    }\n",
       "\n",
       "    .dataframe tbody tr th {\n",
       "        vertical-align: top;\n",
       "    }\n",
       "\n",
       "    .dataframe thead th {\n",
       "        text-align: right;\n",
       "    }\n",
       "</style>\n",
       "<table border=\"1\" class=\"dataframe\">\n",
       "  <thead>\n",
       "    <tr style=\"text-align: right;\">\n",
       "      <th></th>\n",
       "      <th>name</th>\n",
       "      <th>object</th>\n",
       "    </tr>\n",
       "  </thead>\n",
       "  <tbody>\n",
       "    <tr>\n",
       "      <th>0</th>\n",
       "      <td>Catch22</td>\n",
       "      <td>&lt;class 'sktime.transformations.panel.catch22.C...</td>\n",
       "    </tr>\n",
       "    <tr>\n",
       "      <th>1</th>\n",
       "      <td>Catch22Wrapper</td>\n",
       "      <td>&lt;class 'sktime.transformations.panel.catch22wr...</td>\n",
       "    </tr>\n",
       "    <tr>\n",
       "      <th>2</th>\n",
       "      <td>FittedParamExtractor</td>\n",
       "      <td>&lt;class 'sktime.transformations.panel.summarize...</td>\n",
       "    </tr>\n",
       "    <tr>\n",
       "      <th>3</th>\n",
       "      <td>HurstExponentTransformer</td>\n",
       "      <td>&lt;class 'sktime.transformations.series.hurst.Hu...</td>\n",
       "    </tr>\n",
       "    <tr>\n",
       "      <th>4</th>\n",
       "      <td>RandomIntervalFeatureExtractor</td>\n",
       "      <td>&lt;class 'sktime.transformations.panel.summarize...</td>\n",
       "    </tr>\n",
       "    <tr>\n",
       "      <th>5</th>\n",
       "      <td>RandomIntervals</td>\n",
       "      <td>&lt;class 'sktime.transformations.panel.random_in...</td>\n",
       "    </tr>\n",
       "    <tr>\n",
       "      <th>6</th>\n",
       "      <td>RandomShapeletTransform</td>\n",
       "      <td>&lt;class 'sktime.transformations.panel.shapelet_...</td>\n",
       "    </tr>\n",
       "    <tr>\n",
       "      <th>7</th>\n",
       "      <td>SignatureMoments</td>\n",
       "      <td>&lt;class 'sktime.transformations.series.signatur...</td>\n",
       "    </tr>\n",
       "    <tr>\n",
       "      <th>8</th>\n",
       "      <td>SignatureTransformer</td>\n",
       "      <td>&lt;class 'sktime.transformations.panel.signature...</td>\n",
       "    </tr>\n",
       "    <tr>\n",
       "      <th>9</th>\n",
       "      <td>SummaryTransformer</td>\n",
       "      <td>&lt;class 'sktime.transformations.series.summariz...</td>\n",
       "    </tr>\n",
       "    <tr>\n",
       "      <th>10</th>\n",
       "      <td>TSFreshFeatureExtractor</td>\n",
       "      <td>&lt;class 'sktime.transformations.panel.tsfresh.T...</td>\n",
       "    </tr>\n",
       "    <tr>\n",
       "      <th>11</th>\n",
       "      <td>Tabularizer</td>\n",
       "      <td>&lt;class 'sktime.transformations.panel.reduce.Ta...</td>\n",
       "    </tr>\n",
       "    <tr>\n",
       "      <th>12</th>\n",
       "      <td>TimeBinner</td>\n",
       "      <td>&lt;class 'sktime.transformations.panel.reduce.Ti...</td>\n",
       "    </tr>\n",
       "  </tbody>\n",
       "</table>\n",
       "</div>"
      ],
      "text/plain": [
       "                              name                                             object\n",
       "0                          Catch22  <class 'sktime.transformations.panel.catch22.C...\n",
       "1                   Catch22Wrapper  <class 'sktime.transformations.panel.catch22wr...\n",
       "2             FittedParamExtractor  <class 'sktime.transformations.panel.summarize...\n",
       "3         HurstExponentTransformer  <class 'sktime.transformations.series.hurst.Hu...\n",
       "4   RandomIntervalFeatureExtractor  <class 'sktime.transformations.panel.summarize...\n",
       "5                  RandomIntervals  <class 'sktime.transformations.panel.random_in...\n",
       "6          RandomShapeletTransform  <class 'sktime.transformations.panel.shapelet_...\n",
       "7                 SignatureMoments  <class 'sktime.transformations.series.signatur...\n",
       "8             SignatureTransformer  <class 'sktime.transformations.panel.signature...\n",
       "9               SummaryTransformer  <class 'sktime.transformations.series.summariz...\n",
       "10         TSFreshFeatureExtractor  <class 'sktime.transformations.panel.tsfresh.T...\n",
       "11                     Tabularizer  <class 'sktime.transformations.panel.reduce.Ta...\n",
       "12                      TimeBinner  <class 'sktime.transformations.panel.reduce.Ti..."
      ]
     },
     "execution_count": 64,
     "metadata": {},
     "output_type": "execute_result"
    }
   ],
   "source": [
    "# example: looking for all series-to-primitive transformers that are instance-wise\n",
    "from sktime.registry import all_estimators\n",
    "\n",
    "all_estimators(\n",
    "    \"transformer\",\n",
    "    as_dataframe=True,\n",
    "    filter_tags={\n",
    "        \"scitype:transform-input\": \"Series\",\n",
    "        \"scitype:transform-output\": \"Primitives\",\n",
    "        \"scitype:instancewise\": True,\n",
    "    },\n",
    ")"
   ]
  },
  {
   "attachments": {},
   "cell_type": "markdown",
   "metadata": {},
   "source": [
    "Further details on transformations and feature extraction can be found in the tutorial 3, transformers.\n",
    "\n",
    "All composition steps therein (e.g., chaining, column subsetting) work together with all estimator types in `sktime`, including classifiers, regressors, clusterers."
   ]
  },
  {
   "attachments": {},
   "cell_type": "markdown",
   "metadata": {},
   "source": [
    "### 2.4.2 Pipelines for time series panel tasks"
   ]
  },
  {
   "attachments": {},
   "cell_type": "markdown",
   "metadata": {},
   "source": [
    "all panel estimators pipeline with `sktime` transformers, via the `*` dunder or `make_pipeline`.\n",
    "\n",
    "The pipeline does the following:\n",
    "\n",
    "* in `fit`: runs the transformers' `fit_transform` in sequence, then `fit` of the panel estimator\n",
    "* in `predict`, runs the fitted transformers' `transform` in sequence, then `predict` of the panel estimator\n",
    "\n",
    "(the logic is same as for `sklearn` pipelines)"
   ]
  },
  {
   "cell_type": "code",
   "execution_count": 65,
   "metadata": {},
   "outputs": [
    {
     "data": {
      "text/html": [
       "<style>#sk-84695e5a-3087-4c5d-9576-5d608ba06c9b {\n",
       "    /* Definition of color scheme common for light and dark mode */\n",
       "    --sklearn-color-text: black;\n",
       "    --sklearn-color-line: gray;\n",
       "    /* Definition of color scheme for objects */\n",
       "    --sklearn-color-level-0: #fff5e6;\n",
       "    --sklearn-color-level-1: #f6e4d2;\n",
       "    --sklearn-color-level-2: #ffe0b3;\n",
       "    --sklearn-color-level-3: chocolate;\n",
       "\n",
       "    /* Specific color for light theme */\n",
       "    --sklearn-color-text-on-default-background: var(--theme-code-foreground, var(--jp-content-font-color1, black));\n",
       "    --sklearn-color-background: var(--theme-background, var(--jp-layout-color0, white));\n",
       "    --sklearn-color-border-box: var(--theme-code-foreground, var(--jp-content-font-color1, black));\n",
       "    --sklearn-color-icon: #696969;\n",
       "\n",
       "    @media (prefers-color-scheme: dark) {\n",
       "      /* Redefinition of color scheme for dark theme */\n",
       "      --sklearn-color-text-on-default-background: var(--theme-code-foreground, var(--jp-content-font-color1, white));\n",
       "      --sklearn-color-background: var(--theme-background, var(--jp-layout-color0, #111));\n",
       "      --sklearn-color-border-box: var(--theme-code-foreground, var(--jp-content-font-color1, white));\n",
       "      --sklearn-color-icon: #878787;\n",
       "    }\n",
       "  }\n",
       "\n",
       "  #sk-84695e5a-3087-4c5d-9576-5d608ba06c9b {\n",
       "    color: var(--sklearn-color-text);\n",
       "  }\n",
       "\n",
       "  #sk-84695e5a-3087-4c5d-9576-5d608ba06c9b pre {\n",
       "    padding: 0;\n",
       "  }\n",
       "\n",
       "  #sk-84695e5a-3087-4c5d-9576-5d608ba06c9b input.sk-hidden--visually {\n",
       "    border: 0;\n",
       "    clip: rect(1px 1px 1px 1px);\n",
       "    clip: rect(1px, 1px, 1px, 1px);\n",
       "    height: 1px;\n",
       "    margin: -1px;\n",
       "    overflow: hidden;\n",
       "    padding: 0;\n",
       "    position: absolute;\n",
       "    width: 1px;\n",
       "  }\n",
       "\n",
       "  #sk-84695e5a-3087-4c5d-9576-5d608ba06c9b div.sk-dashed-wrapped {\n",
       "    border: 1px dashed var(--sklearn-color-line);\n",
       "    margin: 0 0.4em 0.5em 0.4em;\n",
       "    box-sizing: border-box;\n",
       "    padding-bottom: 0.4em;\n",
       "    background-color: var(--sklearn-color-background);\n",
       "  }\n",
       "\n",
       "  #sk-84695e5a-3087-4c5d-9576-5d608ba06c9b div.sk-container {\n",
       "    /* jupyter's `normalize.less` sets `[hidden] { display: none; }`\n",
       "       but bootstrap.min.css set `[hidden] { display: none !important; }`\n",
       "       so we also need the `!important` here to be able to override the\n",
       "       default hidden behavior on the sphinx rendered scikit-learn.org.\n",
       "       See: https://github.com/scikit-learn/scikit-learn/issues/21755 */\n",
       "    display: inline-block !important;\n",
       "    position: relative;\n",
       "  }\n",
       "\n",
       "  #sk-84695e5a-3087-4c5d-9576-5d608ba06c9b div.sk-text-repr-fallback {\n",
       "    display: none;\n",
       "  }\n",
       "\n",
       "  div.sk-parallel-item,\n",
       "  div.sk-serial,\n",
       "  div.sk-item {\n",
       "    /* draw centered vertical line to link estimators */\n",
       "    background-image: linear-gradient(var(--sklearn-color-text-on-default-background), var(--sklearn-color-text-on-default-background));\n",
       "    background-size: 2px 100%;\n",
       "    background-repeat: no-repeat;\n",
       "    background-position: center center;\n",
       "  }\n",
       "\n",
       "  /* Parallel-specific style estimator block */\n",
       "\n",
       "  #sk-84695e5a-3087-4c5d-9576-5d608ba06c9b div.sk-parallel-item::after {\n",
       "    content: \"\";\n",
       "    width: 100%;\n",
       "    border-bottom: 2px solid var(--sklearn-color-text-on-default-background);\n",
       "    flex-grow: 1;\n",
       "  }\n",
       "\n",
       "  #sk-84695e5a-3087-4c5d-9576-5d608ba06c9b div.sk-parallel {\n",
       "    display: flex;\n",
       "    align-items: stretch;\n",
       "    justify-content: center;\n",
       "    background-color: var(--sklearn-color-background);\n",
       "    position: relative;\n",
       "  }\n",
       "\n",
       "  #sk-84695e5a-3087-4c5d-9576-5d608ba06c9b div.sk-parallel-item {\n",
       "    display: flex;\n",
       "    flex-direction: column;\n",
       "  }\n",
       "\n",
       "  #sk-84695e5a-3087-4c5d-9576-5d608ba06c9b div.sk-parallel-item:first-child::after {\n",
       "    align-self: flex-end;\n",
       "    width: 50%;\n",
       "  }\n",
       "\n",
       "  #sk-84695e5a-3087-4c5d-9576-5d608ba06c9b div.sk-parallel-item:last-child::after {\n",
       "    align-self: flex-start;\n",
       "    width: 50%;\n",
       "  }\n",
       "\n",
       "  #sk-84695e5a-3087-4c5d-9576-5d608ba06c9b div.sk-parallel-item:only-child::after {\n",
       "    width: 0;\n",
       "  }\n",
       "\n",
       "  /* Serial-specific style estimator block */\n",
       "\n",
       "  #sk-84695e5a-3087-4c5d-9576-5d608ba06c9b div.sk-serial {\n",
       "    display: flex;\n",
       "    flex-direction: column;\n",
       "    align-items: center;\n",
       "    background-color: var(--sklearn-color-background);\n",
       "    padding-right: 1em;\n",
       "    padding-left: 1em;\n",
       "  }\n",
       "\n",
       "\n",
       "  /* Toggleable style: style used for estimator/Pipeline/ColumnTransformer box that is\n",
       "  clickable and can be expanded/collapsed.\n",
       "  - Pipeline and ColumnTransformer use this feature and define the default style\n",
       "  - Estimators will overwrite some part of the style using the `sk-estimator` class\n",
       "  */\n",
       "\n",
       "  /* Pipeline and ColumnTransformer style (default) */\n",
       "\n",
       "  #sk-84695e5a-3087-4c5d-9576-5d608ba06c9b div.sk-toggleable {\n",
       "    /* Default theme specific background. It is overwritten whether we have a\n",
       "    specific estimator or a Pipeline/ColumnTransformer */\n",
       "    background-color: var(--sklearn-color-background);\n",
       "  }\n",
       "\n",
       "  /* Toggleable label */\n",
       "  #sk-84695e5a-3087-4c5d-9576-5d608ba06c9b label.sk-toggleable__label {\n",
       "    cursor: pointer;\n",
       "    display: block;\n",
       "    width: 100%;\n",
       "    margin-bottom: 0;\n",
       "    padding: 0.5em;\n",
       "    box-sizing: border-box;\n",
       "    text-align: center;\n",
       "  }\n",
       "\n",
       "  #sk-84695e5a-3087-4c5d-9576-5d608ba06c9b label.sk-toggleable__label-arrow:before {\n",
       "    /* Arrow on the left of the label */\n",
       "    content: \"▸\";\n",
       "    float: left;\n",
       "    margin-right: 0.25em;\n",
       "    color: var(--sklearn-color-icon);\n",
       "  }\n",
       "\n",
       "  #sk-84695e5a-3087-4c5d-9576-5d608ba06c9b label.sk-toggleable__label-arrow:hover:before {\n",
       "    color: var(--sklearn-color-text);\n",
       "  }\n",
       "\n",
       "  /* Toggleable content - dropdown */\n",
       "\n",
       "  #sk-84695e5a-3087-4c5d-9576-5d608ba06c9b div.sk-toggleable__content {\n",
       "    max-height: 0;\n",
       "    max-width: 0;\n",
       "    overflow: hidden;\n",
       "    text-align: left;\n",
       "    background-color: var(--sklearn-color-level-0);\n",
       "  }\n",
       "\n",
       "  #sk-84695e5a-3087-4c5d-9576-5d608ba06c9b div.sk-toggleable__content pre {\n",
       "    margin: 0.2em;\n",
       "    border-radius: 0.25em;\n",
       "    color: var(--sklearn-color-text);\n",
       "    background-color: var(--sklearn-color-level-0);\n",
       "  }\n",
       "\n",
       "  #sk-84695e5a-3087-4c5d-9576-5d608ba06c9b input.sk-toggleable__control:checked~div.sk-toggleable__content {\n",
       "    /* Expand drop-down */\n",
       "    max-height: 200px;\n",
       "    max-width: 100%;\n",
       "    overflow: auto;\n",
       "  }\n",
       "\n",
       "  #sk-84695e5a-3087-4c5d-9576-5d608ba06c9b input.sk-toggleable__control:checked~label.sk-toggleable__label-arrow:before {\n",
       "    content: \"▾\";\n",
       "  }\n",
       "\n",
       "  /* Pipeline/ColumnTransformer-specific style */\n",
       "\n",
       "  #sk-84695e5a-3087-4c5d-9576-5d608ba06c9b div.sk-label input.sk-toggleable__control:checked~label.sk-toggleable__label {\n",
       "    color: var(--sklearn-color-text);\n",
       "    background-color: var(--sklearn-color-level-2);\n",
       "  }\n",
       "\n",
       "  /* Estimator-specific style */\n",
       "\n",
       "  /* Colorize estimator box */\n",
       "  #sk-84695e5a-3087-4c5d-9576-5d608ba06c9b div.sk-estimator input.sk-toggleable__control:checked~label.sk-toggleable__label {\n",
       "    /* unfitted */\n",
       "    background-color: var(--sklearn-color-level-2);\n",
       "  }\n",
       "\n",
       "  #sk-84695e5a-3087-4c5d-9576-5d608ba06c9b div.sk-label label.sk-toggleable__label,\n",
       "  #sk-84695e5a-3087-4c5d-9576-5d608ba06c9b div.sk-label label {\n",
       "    /* The background is the default theme color */\n",
       "    color: var(--sklearn-color-text-on-default-background);\n",
       "  }\n",
       "\n",
       "  /* On hover, darken the color of the background */\n",
       "  #sk-84695e5a-3087-4c5d-9576-5d608ba06c9b div.sk-label:hover label.sk-toggleable__label {\n",
       "    color: var(--sklearn-color-text);\n",
       "    background-color: var(--sklearn-color-level-2);\n",
       "  }\n",
       "\n",
       "  /* Estimator label */\n",
       "\n",
       "  #sk-84695e5a-3087-4c5d-9576-5d608ba06c9b div.sk-label label {\n",
       "    font-family: monospace;\n",
       "    font-weight: bold;\n",
       "    display: inline-block;\n",
       "    line-height: 1.2em;\n",
       "  }\n",
       "\n",
       "  #sk-84695e5a-3087-4c5d-9576-5d608ba06c9b div.sk-label-container {\n",
       "    text-align: center;\n",
       "  }\n",
       "\n",
       "  /* Estimator-specific */\n",
       "  #sk-84695e5a-3087-4c5d-9576-5d608ba06c9b div.sk-estimator {\n",
       "    font-family: monospace;\n",
       "    border: 1px dotted var(--sklearn-color-border-box);\n",
       "    border-radius: 0.25em;\n",
       "    box-sizing: border-box;\n",
       "    margin-bottom: 0.5em;\n",
       "    background-color: var(--sklearn-color-level-0);\n",
       "  }\n",
       "\n",
       "  /* on hover */\n",
       "  #sk-84695e5a-3087-4c5d-9576-5d608ba06c9b div.sk-estimator:hover {\n",
       "    background-color: var(--sklearn-color-level-2);\n",
       "  }\n",
       "\n",
       "  /* Specification for estimator info */\n",
       "\n",
       "  .sk-estimator-doc-link,\n",
       "  a:link.sk-estimator-doc-link,\n",
       "  a:visited.sk-estimator-doc-link {\n",
       "    float: right;\n",
       "    font-size: smaller;\n",
       "    line-height: 1em;\n",
       "    font-family: monospace;\n",
       "    background-color: var(--sklearn-color-background);\n",
       "    border-radius: 1em;\n",
       "    height: 1em;\n",
       "    width: 1em;\n",
       "    text-decoration: none !important;\n",
       "    margin-left: 1ex;\n",
       "    border: var(--sklearn-color-level-1) 1pt solid;\n",
       "    color: var(--sklearn-color-level-1);\n",
       "  }\n",
       "\n",
       "  /* On hover */\n",
       "  div.sk-estimator:hover .sk-estimator-doc-link:hover,\n",
       "  .sk-estimator-doc-link:hover,\n",
       "  div.sk-label-container:hover .sk-estimator-doc-link:hover,\n",
       "  .sk-estimator-doc-link:hover {\n",
       "    background-color: var(--sklearn-color-level-3);\n",
       "    color: var(--sklearn-color-background);\n",
       "    text-decoration: none;\n",
       "  }\n",
       "\n",
       "  /* Span, style for the box shown on hovering the info icon */\n",
       "  .sk-estimator-doc-link span {\n",
       "    display: none;\n",
       "    z-index: 9999;\n",
       "    position: relative;\n",
       "    font-weight: normal;\n",
       "    right: .2ex;\n",
       "    padding: .5ex;\n",
       "    margin: .5ex;\n",
       "    width: min-content;\n",
       "    min-width: 20ex;\n",
       "    max-width: 50ex;\n",
       "    color: var(--sklearn-color-text);\n",
       "    box-shadow: 2pt 2pt 4pt #999;\n",
       "    background: var(--sklearn-color-level-0);\n",
       "    border: .5pt solid var(--sklearn-color-level-3);\n",
       "  }\n",
       "\n",
       "  .sk-estimator-doc-link:hover span {\n",
       "    display: block;\n",
       "  }\n",
       "\n",
       "  /* \"?\"-specific style due to the `<a>` HTML tag */\n",
       "\n",
       "  #sk-84695e5a-3087-4c5d-9576-5d608ba06c9b a.estimator_doc_link {\n",
       "    float: right;\n",
       "    font-size: 1rem;\n",
       "    line-height: 1em;\n",
       "    font-family: monospace;\n",
       "    background-color: var(--sklearn-color-background);\n",
       "    border-radius: 1rem;\n",
       "    height: 1rem;\n",
       "    width: 1rem;\n",
       "    text-decoration: none;\n",
       "    color: var(--sklearn-color-level-1);\n",
       "    border: var(--sklearn-color-level-1) 1pt solid;\n",
       "  }\n",
       "\n",
       "  /* On hover */\n",
       "  #sk-84695e5a-3087-4c5d-9576-5d608ba06c9b a.estimator_doc_link:hover {\n",
       "    background-color: var(--sklearn-color-level-3);\n",
       "    color: var(--sklearn-color-background);\n",
       "    text-decoration: none;\n",
       "  }\n",
       "</style><div id='sk-84695e5a-3087-4c5d-9576-5d608ba06c9b' class=\"sk-top-container\"><div class=\"sk-text-repr-fallback\"><pre>ClassifierPipeline(classifier=KNeighborsTimeSeriesClassifier(),\n",
       "                   transformers=[ExponentTransformer()])</pre><b>Please rerun this cell to show the HTML repr or trust the notebook.</b></div><div class=\"sk-container\" hidden><div class=\"sk-item sk-dashed-wrapped\"><div class='sk-label-container'><div class=\"sk-label sk-toggleable\"><input class=\"sk-toggleable__control sk-hidden--visually\" id=UUID('8d455ed8-2bb7-416c-a83f-34f052bfc154') type=\"checkbox\" ><label for=UUID('8d455ed8-2bb7-416c-a83f-34f052bfc154') class='sk-toggleable__label sk-toggleable__label-arrow'>ClassifierPipeline<a class=\"sk-estimator-doc-link\" rel=\"noreferrer\" target=\"_blank\" href=\"https://www.sktime.net/en/v0.37.0/api_reference/auto_generated/sktime.classification.compose.ClassifierPipeline.html\">?<span>Documentation for ClassifierPipeline</span></a></label><div class=\"sk-toggleable__content\"><pre>ClassifierPipeline(classifier=KNeighborsTimeSeriesClassifier(),\n",
       "                   transformers=[ExponentTransformer()])</pre></div></div></div><div class=\"sk-serial\"><div class='sk-item'><div class=\"sk-estimator sk-toggleable\"><input class=\"sk-toggleable__control sk-hidden--visually\" id=UUID('1c6fd335-243a-460d-badd-4590cda660b6') type=\"checkbox\" ><label for=UUID('1c6fd335-243a-460d-badd-4590cda660b6') class='sk-toggleable__label sk-toggleable__label-arrow'>ExponentTransformer<a class=\"sk-estimator-doc-link\" rel=\"noreferrer\" target=\"_blank\" href=\"https://www.sktime.net/en/v0.37.0/api_reference/auto_generated/sktime.transformations.series.exponent.ExponentTransformer.html\">?<span>Documentation for ExponentTransformer</span></a></label><div class=\"sk-toggleable__content\"><pre>ExponentTransformer()</pre></div></div></div><div class='sk-item'><div class=\"sk-estimator sk-toggleable\"><input class=\"sk-toggleable__control sk-hidden--visually\" id=UUID('06ec22ca-26d2-48ed-94d1-79fc2ca79061') type=\"checkbox\" ><label for=UUID('06ec22ca-26d2-48ed-94d1-79fc2ca79061') class='sk-toggleable__label sk-toggleable__label-arrow'>KNeighborsTimeSeriesClassifier<a class=\"sk-estimator-doc-link\" rel=\"noreferrer\" target=\"_blank\" href=\"https://www.sktime.net/en/v0.37.0/api_reference/auto_generated/sktime.classification.distance_based.KNeighborsTimeSeriesClassifier.html\">?<span>Documentation for KNeighborsTimeSeriesClassifier</span></a></label><div class=\"sk-toggleable__content\"><pre>KNeighborsTimeSeriesClassifier()</pre></div></div></div></div></div></div></div>"
      ],
      "text/plain": [
       "ClassifierPipeline(classifier=KNeighborsTimeSeriesClassifier(),\n",
       "                   transformers=[ExponentTransformer()])"
      ]
     },
     "execution_count": 65,
     "metadata": {},
     "output_type": "execute_result"
    }
   ],
   "source": [
    "from sktime.classification.distance_based import KNeighborsTimeSeriesClassifier\n",
    "from sktime.transformations.series.exponent import ExponentTransformer\n",
    "\n",
    "pipe = ExponentTransformer() * KNeighborsTimeSeriesClassifier()\n",
    "\n",
    "# this constructs a ClassifierPipeline, which is also a classifier\n",
    "pipe"
   ]
  },
  {
   "cell_type": "code",
   "execution_count": 66,
   "metadata": {},
   "outputs": [],
   "source": [
    "# alternative to construct:\n",
    "from sktime.pipeline import make_pipeline\n",
    "\n",
    "pipe = make_pipeline(ExponentTransformer(), KNeighborsTimeSeriesClassifier())"
   ]
  },
  {
   "cell_type": "code",
   "execution_count": 67,
   "metadata": {},
   "outputs": [
    {
     "name": "stderr",
     "output_type": "stream",
     "text": [
      "/Users/cyuab/miniconda3/envs/mtsccleave/lib/python3.12/site-packages/skbase/base/_base.py:1335: FutureWarning: tag 'handles-missing-data' will be removed in  version 1.0.0 and replaced by 'capability:missing_values', please use 'capability:missing_values' instead\n",
      "  self._deprecate_tag_warn(collected_tags)\n"
     ]
    },
    {
     "data": {
      "text/html": [
       "<style>#sk-9a51fc41-c490-447a-a675-1821bbe27583 {\n",
       "    /* Definition of color scheme common for light and dark mode */\n",
       "    --sklearn-color-text: black;\n",
       "    --sklearn-color-line: gray;\n",
       "    /* Definition of color scheme for objects */\n",
       "    --sklearn-color-level-0: #fff5e6;\n",
       "    --sklearn-color-level-1: #f6e4d2;\n",
       "    --sklearn-color-level-2: #ffe0b3;\n",
       "    --sklearn-color-level-3: chocolate;\n",
       "\n",
       "    /* Specific color for light theme */\n",
       "    --sklearn-color-text-on-default-background: var(--theme-code-foreground, var(--jp-content-font-color1, black));\n",
       "    --sklearn-color-background: var(--theme-background, var(--jp-layout-color0, white));\n",
       "    --sklearn-color-border-box: var(--theme-code-foreground, var(--jp-content-font-color1, black));\n",
       "    --sklearn-color-icon: #696969;\n",
       "\n",
       "    @media (prefers-color-scheme: dark) {\n",
       "      /* Redefinition of color scheme for dark theme */\n",
       "      --sklearn-color-text-on-default-background: var(--theme-code-foreground, var(--jp-content-font-color1, white));\n",
       "      --sklearn-color-background: var(--theme-background, var(--jp-layout-color0, #111));\n",
       "      --sklearn-color-border-box: var(--theme-code-foreground, var(--jp-content-font-color1, white));\n",
       "      --sklearn-color-icon: #878787;\n",
       "    }\n",
       "  }\n",
       "\n",
       "  #sk-9a51fc41-c490-447a-a675-1821bbe27583 {\n",
       "    color: var(--sklearn-color-text);\n",
       "  }\n",
       "\n",
       "  #sk-9a51fc41-c490-447a-a675-1821bbe27583 pre {\n",
       "    padding: 0;\n",
       "  }\n",
       "\n",
       "  #sk-9a51fc41-c490-447a-a675-1821bbe27583 input.sk-hidden--visually {\n",
       "    border: 0;\n",
       "    clip: rect(1px 1px 1px 1px);\n",
       "    clip: rect(1px, 1px, 1px, 1px);\n",
       "    height: 1px;\n",
       "    margin: -1px;\n",
       "    overflow: hidden;\n",
       "    padding: 0;\n",
       "    position: absolute;\n",
       "    width: 1px;\n",
       "  }\n",
       "\n",
       "  #sk-9a51fc41-c490-447a-a675-1821bbe27583 div.sk-dashed-wrapped {\n",
       "    border: 1px dashed var(--sklearn-color-line);\n",
       "    margin: 0 0.4em 0.5em 0.4em;\n",
       "    box-sizing: border-box;\n",
       "    padding-bottom: 0.4em;\n",
       "    background-color: var(--sklearn-color-background);\n",
       "  }\n",
       "\n",
       "  #sk-9a51fc41-c490-447a-a675-1821bbe27583 div.sk-container {\n",
       "    /* jupyter's `normalize.less` sets `[hidden] { display: none; }`\n",
       "       but bootstrap.min.css set `[hidden] { display: none !important; }`\n",
       "       so we also need the `!important` here to be able to override the\n",
       "       default hidden behavior on the sphinx rendered scikit-learn.org.\n",
       "       See: https://github.com/scikit-learn/scikit-learn/issues/21755 */\n",
       "    display: inline-block !important;\n",
       "    position: relative;\n",
       "  }\n",
       "\n",
       "  #sk-9a51fc41-c490-447a-a675-1821bbe27583 div.sk-text-repr-fallback {\n",
       "    display: none;\n",
       "  }\n",
       "\n",
       "  div.sk-parallel-item,\n",
       "  div.sk-serial,\n",
       "  div.sk-item {\n",
       "    /* draw centered vertical line to link estimators */\n",
       "    background-image: linear-gradient(var(--sklearn-color-text-on-default-background), var(--sklearn-color-text-on-default-background));\n",
       "    background-size: 2px 100%;\n",
       "    background-repeat: no-repeat;\n",
       "    background-position: center center;\n",
       "  }\n",
       "\n",
       "  /* Parallel-specific style estimator block */\n",
       "\n",
       "  #sk-9a51fc41-c490-447a-a675-1821bbe27583 div.sk-parallel-item::after {\n",
       "    content: \"\";\n",
       "    width: 100%;\n",
       "    border-bottom: 2px solid var(--sklearn-color-text-on-default-background);\n",
       "    flex-grow: 1;\n",
       "  }\n",
       "\n",
       "  #sk-9a51fc41-c490-447a-a675-1821bbe27583 div.sk-parallel {\n",
       "    display: flex;\n",
       "    align-items: stretch;\n",
       "    justify-content: center;\n",
       "    background-color: var(--sklearn-color-background);\n",
       "    position: relative;\n",
       "  }\n",
       "\n",
       "  #sk-9a51fc41-c490-447a-a675-1821bbe27583 div.sk-parallel-item {\n",
       "    display: flex;\n",
       "    flex-direction: column;\n",
       "  }\n",
       "\n",
       "  #sk-9a51fc41-c490-447a-a675-1821bbe27583 div.sk-parallel-item:first-child::after {\n",
       "    align-self: flex-end;\n",
       "    width: 50%;\n",
       "  }\n",
       "\n",
       "  #sk-9a51fc41-c490-447a-a675-1821bbe27583 div.sk-parallel-item:last-child::after {\n",
       "    align-self: flex-start;\n",
       "    width: 50%;\n",
       "  }\n",
       "\n",
       "  #sk-9a51fc41-c490-447a-a675-1821bbe27583 div.sk-parallel-item:only-child::after {\n",
       "    width: 0;\n",
       "  }\n",
       "\n",
       "  /* Serial-specific style estimator block */\n",
       "\n",
       "  #sk-9a51fc41-c490-447a-a675-1821bbe27583 div.sk-serial {\n",
       "    display: flex;\n",
       "    flex-direction: column;\n",
       "    align-items: center;\n",
       "    background-color: var(--sklearn-color-background);\n",
       "    padding-right: 1em;\n",
       "    padding-left: 1em;\n",
       "  }\n",
       "\n",
       "\n",
       "  /* Toggleable style: style used for estimator/Pipeline/ColumnTransformer box that is\n",
       "  clickable and can be expanded/collapsed.\n",
       "  - Pipeline and ColumnTransformer use this feature and define the default style\n",
       "  - Estimators will overwrite some part of the style using the `sk-estimator` class\n",
       "  */\n",
       "\n",
       "  /* Pipeline and ColumnTransformer style (default) */\n",
       "\n",
       "  #sk-9a51fc41-c490-447a-a675-1821bbe27583 div.sk-toggleable {\n",
       "    /* Default theme specific background. It is overwritten whether we have a\n",
       "    specific estimator or a Pipeline/ColumnTransformer */\n",
       "    background-color: var(--sklearn-color-background);\n",
       "  }\n",
       "\n",
       "  /* Toggleable label */\n",
       "  #sk-9a51fc41-c490-447a-a675-1821bbe27583 label.sk-toggleable__label {\n",
       "    cursor: pointer;\n",
       "    display: block;\n",
       "    width: 100%;\n",
       "    margin-bottom: 0;\n",
       "    padding: 0.5em;\n",
       "    box-sizing: border-box;\n",
       "    text-align: center;\n",
       "  }\n",
       "\n",
       "  #sk-9a51fc41-c490-447a-a675-1821bbe27583 label.sk-toggleable__label-arrow:before {\n",
       "    /* Arrow on the left of the label */\n",
       "    content: \"▸\";\n",
       "    float: left;\n",
       "    margin-right: 0.25em;\n",
       "    color: var(--sklearn-color-icon);\n",
       "  }\n",
       "\n",
       "  #sk-9a51fc41-c490-447a-a675-1821bbe27583 label.sk-toggleable__label-arrow:hover:before {\n",
       "    color: var(--sklearn-color-text);\n",
       "  }\n",
       "\n",
       "  /* Toggleable content - dropdown */\n",
       "\n",
       "  #sk-9a51fc41-c490-447a-a675-1821bbe27583 div.sk-toggleable__content {\n",
       "    max-height: 0;\n",
       "    max-width: 0;\n",
       "    overflow: hidden;\n",
       "    text-align: left;\n",
       "    background-color: var(--sklearn-color-level-0);\n",
       "  }\n",
       "\n",
       "  #sk-9a51fc41-c490-447a-a675-1821bbe27583 div.sk-toggleable__content pre {\n",
       "    margin: 0.2em;\n",
       "    border-radius: 0.25em;\n",
       "    color: var(--sklearn-color-text);\n",
       "    background-color: var(--sklearn-color-level-0);\n",
       "  }\n",
       "\n",
       "  #sk-9a51fc41-c490-447a-a675-1821bbe27583 input.sk-toggleable__control:checked~div.sk-toggleable__content {\n",
       "    /* Expand drop-down */\n",
       "    max-height: 200px;\n",
       "    max-width: 100%;\n",
       "    overflow: auto;\n",
       "  }\n",
       "\n",
       "  #sk-9a51fc41-c490-447a-a675-1821bbe27583 input.sk-toggleable__control:checked~label.sk-toggleable__label-arrow:before {\n",
       "    content: \"▾\";\n",
       "  }\n",
       "\n",
       "  /* Pipeline/ColumnTransformer-specific style */\n",
       "\n",
       "  #sk-9a51fc41-c490-447a-a675-1821bbe27583 div.sk-label input.sk-toggleable__control:checked~label.sk-toggleable__label {\n",
       "    color: var(--sklearn-color-text);\n",
       "    background-color: var(--sklearn-color-level-2);\n",
       "  }\n",
       "\n",
       "  /* Estimator-specific style */\n",
       "\n",
       "  /* Colorize estimator box */\n",
       "  #sk-9a51fc41-c490-447a-a675-1821bbe27583 div.sk-estimator input.sk-toggleable__control:checked~label.sk-toggleable__label {\n",
       "    /* unfitted */\n",
       "    background-color: var(--sklearn-color-level-2);\n",
       "  }\n",
       "\n",
       "  #sk-9a51fc41-c490-447a-a675-1821bbe27583 div.sk-label label.sk-toggleable__label,\n",
       "  #sk-9a51fc41-c490-447a-a675-1821bbe27583 div.sk-label label {\n",
       "    /* The background is the default theme color */\n",
       "    color: var(--sklearn-color-text-on-default-background);\n",
       "  }\n",
       "\n",
       "  /* On hover, darken the color of the background */\n",
       "  #sk-9a51fc41-c490-447a-a675-1821bbe27583 div.sk-label:hover label.sk-toggleable__label {\n",
       "    color: var(--sklearn-color-text);\n",
       "    background-color: var(--sklearn-color-level-2);\n",
       "  }\n",
       "\n",
       "  /* Estimator label */\n",
       "\n",
       "  #sk-9a51fc41-c490-447a-a675-1821bbe27583 div.sk-label label {\n",
       "    font-family: monospace;\n",
       "    font-weight: bold;\n",
       "    display: inline-block;\n",
       "    line-height: 1.2em;\n",
       "  }\n",
       "\n",
       "  #sk-9a51fc41-c490-447a-a675-1821bbe27583 div.sk-label-container {\n",
       "    text-align: center;\n",
       "  }\n",
       "\n",
       "  /* Estimator-specific */\n",
       "  #sk-9a51fc41-c490-447a-a675-1821bbe27583 div.sk-estimator {\n",
       "    font-family: monospace;\n",
       "    border: 1px dotted var(--sklearn-color-border-box);\n",
       "    border-radius: 0.25em;\n",
       "    box-sizing: border-box;\n",
       "    margin-bottom: 0.5em;\n",
       "    background-color: var(--sklearn-color-level-0);\n",
       "  }\n",
       "\n",
       "  /* on hover */\n",
       "  #sk-9a51fc41-c490-447a-a675-1821bbe27583 div.sk-estimator:hover {\n",
       "    background-color: var(--sklearn-color-level-2);\n",
       "  }\n",
       "\n",
       "  /* Specification for estimator info */\n",
       "\n",
       "  .sk-estimator-doc-link,\n",
       "  a:link.sk-estimator-doc-link,\n",
       "  a:visited.sk-estimator-doc-link {\n",
       "    float: right;\n",
       "    font-size: smaller;\n",
       "    line-height: 1em;\n",
       "    font-family: monospace;\n",
       "    background-color: var(--sklearn-color-background);\n",
       "    border-radius: 1em;\n",
       "    height: 1em;\n",
       "    width: 1em;\n",
       "    text-decoration: none !important;\n",
       "    margin-left: 1ex;\n",
       "    border: var(--sklearn-color-level-1) 1pt solid;\n",
       "    color: var(--sklearn-color-level-1);\n",
       "  }\n",
       "\n",
       "  /* On hover */\n",
       "  div.sk-estimator:hover .sk-estimator-doc-link:hover,\n",
       "  .sk-estimator-doc-link:hover,\n",
       "  div.sk-label-container:hover .sk-estimator-doc-link:hover,\n",
       "  .sk-estimator-doc-link:hover {\n",
       "    background-color: var(--sklearn-color-level-3);\n",
       "    color: var(--sklearn-color-background);\n",
       "    text-decoration: none;\n",
       "  }\n",
       "\n",
       "  /* Span, style for the box shown on hovering the info icon */\n",
       "  .sk-estimator-doc-link span {\n",
       "    display: none;\n",
       "    z-index: 9999;\n",
       "    position: relative;\n",
       "    font-weight: normal;\n",
       "    right: .2ex;\n",
       "    padding: .5ex;\n",
       "    margin: .5ex;\n",
       "    width: min-content;\n",
       "    min-width: 20ex;\n",
       "    max-width: 50ex;\n",
       "    color: var(--sklearn-color-text);\n",
       "    box-shadow: 2pt 2pt 4pt #999;\n",
       "    background: var(--sklearn-color-level-0);\n",
       "    border: .5pt solid var(--sklearn-color-level-3);\n",
       "  }\n",
       "\n",
       "  .sk-estimator-doc-link:hover span {\n",
       "    display: block;\n",
       "  }\n",
       "\n",
       "  /* \"?\"-specific style due to the `<a>` HTML tag */\n",
       "\n",
       "  #sk-9a51fc41-c490-447a-a675-1821bbe27583 a.estimator_doc_link {\n",
       "    float: right;\n",
       "    font-size: 1rem;\n",
       "    line-height: 1em;\n",
       "    font-family: monospace;\n",
       "    background-color: var(--sklearn-color-background);\n",
       "    border-radius: 1rem;\n",
       "    height: 1rem;\n",
       "    width: 1rem;\n",
       "    text-decoration: none;\n",
       "    color: var(--sklearn-color-level-1);\n",
       "    border: var(--sklearn-color-level-1) 1pt solid;\n",
       "  }\n",
       "\n",
       "  /* On hover */\n",
       "  #sk-9a51fc41-c490-447a-a675-1821bbe27583 a.estimator_doc_link:hover {\n",
       "    background-color: var(--sklearn-color-level-3);\n",
       "    color: var(--sklearn-color-background);\n",
       "    text-decoration: none;\n",
       "  }\n",
       "</style><div id='sk-9a51fc41-c490-447a-a675-1821bbe27583' class=\"sk-top-container\"><div class=\"sk-text-repr-fallback\"><pre>ClassifierPipeline(classifier=KNeighborsTimeSeriesClassifier(),\n",
       "                   transformers=[ExponentTransformer()])</pre><b>Please rerun this cell to show the HTML repr or trust the notebook.</b></div><div class=\"sk-container\" hidden><div class=\"sk-item sk-dashed-wrapped\"><div class='sk-label-container'><div class=\"sk-label sk-toggleable\"><input class=\"sk-toggleable__control sk-hidden--visually\" id=UUID('23e11488-7739-43ea-b9f3-7cb2e2b17569') type=\"checkbox\" ><label for=UUID('23e11488-7739-43ea-b9f3-7cb2e2b17569') class='sk-toggleable__label sk-toggleable__label-arrow'>ClassifierPipeline<a class=\"sk-estimator-doc-link\" rel=\"noreferrer\" target=\"_blank\" href=\"https://www.sktime.net/en/v0.37.0/api_reference/auto_generated/sktime.classification.compose.ClassifierPipeline.html\">?<span>Documentation for ClassifierPipeline</span></a></label><div class=\"sk-toggleable__content\"><pre>ClassifierPipeline(classifier=KNeighborsTimeSeriesClassifier(),\n",
       "                   transformers=[ExponentTransformer()])</pre></div></div></div><div class=\"sk-serial\"><div class='sk-item'><div class=\"sk-estimator sk-toggleable\"><input class=\"sk-toggleable__control sk-hidden--visually\" id=UUID('bcd3791a-f402-4417-ac53-13cb8f542b17') type=\"checkbox\" ><label for=UUID('bcd3791a-f402-4417-ac53-13cb8f542b17') class='sk-toggleable__label sk-toggleable__label-arrow'>ExponentTransformer<a class=\"sk-estimator-doc-link\" rel=\"noreferrer\" target=\"_blank\" href=\"https://www.sktime.net/en/v0.37.0/api_reference/auto_generated/sktime.transformations.series.exponent.ExponentTransformer.html\">?<span>Documentation for ExponentTransformer</span></a></label><div class=\"sk-toggleable__content\"><pre>ExponentTransformer()</pre></div></div></div><div class='sk-item'><div class=\"sk-estimator sk-toggleable\"><input class=\"sk-toggleable__control sk-hidden--visually\" id=UUID('032d1f31-24cd-47ed-abb3-b28aed27306c') type=\"checkbox\" ><label for=UUID('032d1f31-24cd-47ed-abb3-b28aed27306c') class='sk-toggleable__label sk-toggleable__label-arrow'>KNeighborsTimeSeriesClassifier<a class=\"sk-estimator-doc-link\" rel=\"noreferrer\" target=\"_blank\" href=\"https://www.sktime.net/en/v0.37.0/api_reference/auto_generated/sktime.classification.distance_based.KNeighborsTimeSeriesClassifier.html\">?<span>Documentation for KNeighborsTimeSeriesClassifier</span></a></label><div class=\"sk-toggleable__content\"><pre>KNeighborsTimeSeriesClassifier()</pre></div></div></div></div></div></div></div>"
      ],
      "text/plain": [
       "ClassifierPipeline(classifier=KNeighborsTimeSeriesClassifier(),\n",
       "                   transformers=[ExponentTransformer()])"
      ]
     },
     "execution_count": 67,
     "metadata": {},
     "output_type": "execute_result"
    }
   ],
   "source": [
    "from sktime.datasets import load_unit_test\n",
    "\n",
    "X_train, y_train = load_unit_test(split=\"TRAIN\")\n",
    "X_test, _ = load_unit_test(split=\"TEST\")\n",
    "\n",
    "# this is a ClassifierPipeline with the same interface as knn-classifier\n",
    "# first applies exponent transform, then knn-classifier\n",
    "pipe.fit(X_train, y_train)"
   ]
  },
  {
   "attachments": {},
   "cell_type": "markdown",
   "metadata": {},
   "source": [
    "`sktime` transformers pipeline with `sklearn` classifiers!\n",
    "\n",
    "This allows to build \"time series feature extraction then `sklearn` classify`\" pipelines:"
   ]
  },
  {
   "cell_type": "code",
   "execution_count": 68,
   "metadata": {},
   "outputs": [
    {
     "data": {
      "text/html": [
       "<style>#sk-8d5e7dcb-fa8b-46f6-a8b9-3110736aebd6 {\n",
       "    /* Definition of color scheme common for light and dark mode */\n",
       "    --sklearn-color-text: black;\n",
       "    --sklearn-color-line: gray;\n",
       "    /* Definition of color scheme for objects */\n",
       "    --sklearn-color-level-0: #fff5e6;\n",
       "    --sklearn-color-level-1: #f6e4d2;\n",
       "    --sklearn-color-level-2: #ffe0b3;\n",
       "    --sklearn-color-level-3: chocolate;\n",
       "\n",
       "    /* Specific color for light theme */\n",
       "    --sklearn-color-text-on-default-background: var(--theme-code-foreground, var(--jp-content-font-color1, black));\n",
       "    --sklearn-color-background: var(--theme-background, var(--jp-layout-color0, white));\n",
       "    --sklearn-color-border-box: var(--theme-code-foreground, var(--jp-content-font-color1, black));\n",
       "    --sklearn-color-icon: #696969;\n",
       "\n",
       "    @media (prefers-color-scheme: dark) {\n",
       "      /* Redefinition of color scheme for dark theme */\n",
       "      --sklearn-color-text-on-default-background: var(--theme-code-foreground, var(--jp-content-font-color1, white));\n",
       "      --sklearn-color-background: var(--theme-background, var(--jp-layout-color0, #111));\n",
       "      --sklearn-color-border-box: var(--theme-code-foreground, var(--jp-content-font-color1, white));\n",
       "      --sklearn-color-icon: #878787;\n",
       "    }\n",
       "  }\n",
       "\n",
       "  #sk-8d5e7dcb-fa8b-46f6-a8b9-3110736aebd6 {\n",
       "    color: var(--sklearn-color-text);\n",
       "  }\n",
       "\n",
       "  #sk-8d5e7dcb-fa8b-46f6-a8b9-3110736aebd6 pre {\n",
       "    padding: 0;\n",
       "  }\n",
       "\n",
       "  #sk-8d5e7dcb-fa8b-46f6-a8b9-3110736aebd6 input.sk-hidden--visually {\n",
       "    border: 0;\n",
       "    clip: rect(1px 1px 1px 1px);\n",
       "    clip: rect(1px, 1px, 1px, 1px);\n",
       "    height: 1px;\n",
       "    margin: -1px;\n",
       "    overflow: hidden;\n",
       "    padding: 0;\n",
       "    position: absolute;\n",
       "    width: 1px;\n",
       "  }\n",
       "\n",
       "  #sk-8d5e7dcb-fa8b-46f6-a8b9-3110736aebd6 div.sk-dashed-wrapped {\n",
       "    border: 1px dashed var(--sklearn-color-line);\n",
       "    margin: 0 0.4em 0.5em 0.4em;\n",
       "    box-sizing: border-box;\n",
       "    padding-bottom: 0.4em;\n",
       "    background-color: var(--sklearn-color-background);\n",
       "  }\n",
       "\n",
       "  #sk-8d5e7dcb-fa8b-46f6-a8b9-3110736aebd6 div.sk-container {\n",
       "    /* jupyter's `normalize.less` sets `[hidden] { display: none; }`\n",
       "       but bootstrap.min.css set `[hidden] { display: none !important; }`\n",
       "       so we also need the `!important` here to be able to override the\n",
       "       default hidden behavior on the sphinx rendered scikit-learn.org.\n",
       "       See: https://github.com/scikit-learn/scikit-learn/issues/21755 */\n",
       "    display: inline-block !important;\n",
       "    position: relative;\n",
       "  }\n",
       "\n",
       "  #sk-8d5e7dcb-fa8b-46f6-a8b9-3110736aebd6 div.sk-text-repr-fallback {\n",
       "    display: none;\n",
       "  }\n",
       "\n",
       "  div.sk-parallel-item,\n",
       "  div.sk-serial,\n",
       "  div.sk-item {\n",
       "    /* draw centered vertical line to link estimators */\n",
       "    background-image: linear-gradient(var(--sklearn-color-text-on-default-background), var(--sklearn-color-text-on-default-background));\n",
       "    background-size: 2px 100%;\n",
       "    background-repeat: no-repeat;\n",
       "    background-position: center center;\n",
       "  }\n",
       "\n",
       "  /* Parallel-specific style estimator block */\n",
       "\n",
       "  #sk-8d5e7dcb-fa8b-46f6-a8b9-3110736aebd6 div.sk-parallel-item::after {\n",
       "    content: \"\";\n",
       "    width: 100%;\n",
       "    border-bottom: 2px solid var(--sklearn-color-text-on-default-background);\n",
       "    flex-grow: 1;\n",
       "  }\n",
       "\n",
       "  #sk-8d5e7dcb-fa8b-46f6-a8b9-3110736aebd6 div.sk-parallel {\n",
       "    display: flex;\n",
       "    align-items: stretch;\n",
       "    justify-content: center;\n",
       "    background-color: var(--sklearn-color-background);\n",
       "    position: relative;\n",
       "  }\n",
       "\n",
       "  #sk-8d5e7dcb-fa8b-46f6-a8b9-3110736aebd6 div.sk-parallel-item {\n",
       "    display: flex;\n",
       "    flex-direction: column;\n",
       "  }\n",
       "\n",
       "  #sk-8d5e7dcb-fa8b-46f6-a8b9-3110736aebd6 div.sk-parallel-item:first-child::after {\n",
       "    align-self: flex-end;\n",
       "    width: 50%;\n",
       "  }\n",
       "\n",
       "  #sk-8d5e7dcb-fa8b-46f6-a8b9-3110736aebd6 div.sk-parallel-item:last-child::after {\n",
       "    align-self: flex-start;\n",
       "    width: 50%;\n",
       "  }\n",
       "\n",
       "  #sk-8d5e7dcb-fa8b-46f6-a8b9-3110736aebd6 div.sk-parallel-item:only-child::after {\n",
       "    width: 0;\n",
       "  }\n",
       "\n",
       "  /* Serial-specific style estimator block */\n",
       "\n",
       "  #sk-8d5e7dcb-fa8b-46f6-a8b9-3110736aebd6 div.sk-serial {\n",
       "    display: flex;\n",
       "    flex-direction: column;\n",
       "    align-items: center;\n",
       "    background-color: var(--sklearn-color-background);\n",
       "    padding-right: 1em;\n",
       "    padding-left: 1em;\n",
       "  }\n",
       "\n",
       "\n",
       "  /* Toggleable style: style used for estimator/Pipeline/ColumnTransformer box that is\n",
       "  clickable and can be expanded/collapsed.\n",
       "  - Pipeline and ColumnTransformer use this feature and define the default style\n",
       "  - Estimators will overwrite some part of the style using the `sk-estimator` class\n",
       "  */\n",
       "\n",
       "  /* Pipeline and ColumnTransformer style (default) */\n",
       "\n",
       "  #sk-8d5e7dcb-fa8b-46f6-a8b9-3110736aebd6 div.sk-toggleable {\n",
       "    /* Default theme specific background. It is overwritten whether we have a\n",
       "    specific estimator or a Pipeline/ColumnTransformer */\n",
       "    background-color: var(--sklearn-color-background);\n",
       "  }\n",
       "\n",
       "  /* Toggleable label */\n",
       "  #sk-8d5e7dcb-fa8b-46f6-a8b9-3110736aebd6 label.sk-toggleable__label {\n",
       "    cursor: pointer;\n",
       "    display: block;\n",
       "    width: 100%;\n",
       "    margin-bottom: 0;\n",
       "    padding: 0.5em;\n",
       "    box-sizing: border-box;\n",
       "    text-align: center;\n",
       "  }\n",
       "\n",
       "  #sk-8d5e7dcb-fa8b-46f6-a8b9-3110736aebd6 label.sk-toggleable__label-arrow:before {\n",
       "    /* Arrow on the left of the label */\n",
       "    content: \"▸\";\n",
       "    float: left;\n",
       "    margin-right: 0.25em;\n",
       "    color: var(--sklearn-color-icon);\n",
       "  }\n",
       "\n",
       "  #sk-8d5e7dcb-fa8b-46f6-a8b9-3110736aebd6 label.sk-toggleable__label-arrow:hover:before {\n",
       "    color: var(--sklearn-color-text);\n",
       "  }\n",
       "\n",
       "  /* Toggleable content - dropdown */\n",
       "\n",
       "  #sk-8d5e7dcb-fa8b-46f6-a8b9-3110736aebd6 div.sk-toggleable__content {\n",
       "    max-height: 0;\n",
       "    max-width: 0;\n",
       "    overflow: hidden;\n",
       "    text-align: left;\n",
       "    background-color: var(--sklearn-color-level-0);\n",
       "  }\n",
       "\n",
       "  #sk-8d5e7dcb-fa8b-46f6-a8b9-3110736aebd6 div.sk-toggleable__content pre {\n",
       "    margin: 0.2em;\n",
       "    border-radius: 0.25em;\n",
       "    color: var(--sklearn-color-text);\n",
       "    background-color: var(--sklearn-color-level-0);\n",
       "  }\n",
       "\n",
       "  #sk-8d5e7dcb-fa8b-46f6-a8b9-3110736aebd6 input.sk-toggleable__control:checked~div.sk-toggleable__content {\n",
       "    /* Expand drop-down */\n",
       "    max-height: 200px;\n",
       "    max-width: 100%;\n",
       "    overflow: auto;\n",
       "  }\n",
       "\n",
       "  #sk-8d5e7dcb-fa8b-46f6-a8b9-3110736aebd6 input.sk-toggleable__control:checked~label.sk-toggleable__label-arrow:before {\n",
       "    content: \"▾\";\n",
       "  }\n",
       "\n",
       "  /* Pipeline/ColumnTransformer-specific style */\n",
       "\n",
       "  #sk-8d5e7dcb-fa8b-46f6-a8b9-3110736aebd6 div.sk-label input.sk-toggleable__control:checked~label.sk-toggleable__label {\n",
       "    color: var(--sklearn-color-text);\n",
       "    background-color: var(--sklearn-color-level-2);\n",
       "  }\n",
       "\n",
       "  /* Estimator-specific style */\n",
       "\n",
       "  /* Colorize estimator box */\n",
       "  #sk-8d5e7dcb-fa8b-46f6-a8b9-3110736aebd6 div.sk-estimator input.sk-toggleable__control:checked~label.sk-toggleable__label {\n",
       "    /* unfitted */\n",
       "    background-color: var(--sklearn-color-level-2);\n",
       "  }\n",
       "\n",
       "  #sk-8d5e7dcb-fa8b-46f6-a8b9-3110736aebd6 div.sk-label label.sk-toggleable__label,\n",
       "  #sk-8d5e7dcb-fa8b-46f6-a8b9-3110736aebd6 div.sk-label label {\n",
       "    /* The background is the default theme color */\n",
       "    color: var(--sklearn-color-text-on-default-background);\n",
       "  }\n",
       "\n",
       "  /* On hover, darken the color of the background */\n",
       "  #sk-8d5e7dcb-fa8b-46f6-a8b9-3110736aebd6 div.sk-label:hover label.sk-toggleable__label {\n",
       "    color: var(--sklearn-color-text);\n",
       "    background-color: var(--sklearn-color-level-2);\n",
       "  }\n",
       "\n",
       "  /* Estimator label */\n",
       "\n",
       "  #sk-8d5e7dcb-fa8b-46f6-a8b9-3110736aebd6 div.sk-label label {\n",
       "    font-family: monospace;\n",
       "    font-weight: bold;\n",
       "    display: inline-block;\n",
       "    line-height: 1.2em;\n",
       "  }\n",
       "\n",
       "  #sk-8d5e7dcb-fa8b-46f6-a8b9-3110736aebd6 div.sk-label-container {\n",
       "    text-align: center;\n",
       "  }\n",
       "\n",
       "  /* Estimator-specific */\n",
       "  #sk-8d5e7dcb-fa8b-46f6-a8b9-3110736aebd6 div.sk-estimator {\n",
       "    font-family: monospace;\n",
       "    border: 1px dotted var(--sklearn-color-border-box);\n",
       "    border-radius: 0.25em;\n",
       "    box-sizing: border-box;\n",
       "    margin-bottom: 0.5em;\n",
       "    background-color: var(--sklearn-color-level-0);\n",
       "  }\n",
       "\n",
       "  /* on hover */\n",
       "  #sk-8d5e7dcb-fa8b-46f6-a8b9-3110736aebd6 div.sk-estimator:hover {\n",
       "    background-color: var(--sklearn-color-level-2);\n",
       "  }\n",
       "\n",
       "  /* Specification for estimator info */\n",
       "\n",
       "  .sk-estimator-doc-link,\n",
       "  a:link.sk-estimator-doc-link,\n",
       "  a:visited.sk-estimator-doc-link {\n",
       "    float: right;\n",
       "    font-size: smaller;\n",
       "    line-height: 1em;\n",
       "    font-family: monospace;\n",
       "    background-color: var(--sklearn-color-background);\n",
       "    border-radius: 1em;\n",
       "    height: 1em;\n",
       "    width: 1em;\n",
       "    text-decoration: none !important;\n",
       "    margin-left: 1ex;\n",
       "    border: var(--sklearn-color-level-1) 1pt solid;\n",
       "    color: var(--sklearn-color-level-1);\n",
       "  }\n",
       "\n",
       "  /* On hover */\n",
       "  div.sk-estimator:hover .sk-estimator-doc-link:hover,\n",
       "  .sk-estimator-doc-link:hover,\n",
       "  div.sk-label-container:hover .sk-estimator-doc-link:hover,\n",
       "  .sk-estimator-doc-link:hover {\n",
       "    background-color: var(--sklearn-color-level-3);\n",
       "    color: var(--sklearn-color-background);\n",
       "    text-decoration: none;\n",
       "  }\n",
       "\n",
       "  /* Span, style for the box shown on hovering the info icon */\n",
       "  .sk-estimator-doc-link span {\n",
       "    display: none;\n",
       "    z-index: 9999;\n",
       "    position: relative;\n",
       "    font-weight: normal;\n",
       "    right: .2ex;\n",
       "    padding: .5ex;\n",
       "    margin: .5ex;\n",
       "    width: min-content;\n",
       "    min-width: 20ex;\n",
       "    max-width: 50ex;\n",
       "    color: var(--sklearn-color-text);\n",
       "    box-shadow: 2pt 2pt 4pt #999;\n",
       "    background: var(--sklearn-color-level-0);\n",
       "    border: .5pt solid var(--sklearn-color-level-3);\n",
       "  }\n",
       "\n",
       "  .sk-estimator-doc-link:hover span {\n",
       "    display: block;\n",
       "  }\n",
       "\n",
       "  /* \"?\"-specific style due to the `<a>` HTML tag */\n",
       "\n",
       "  #sk-8d5e7dcb-fa8b-46f6-a8b9-3110736aebd6 a.estimator_doc_link {\n",
       "    float: right;\n",
       "    font-size: 1rem;\n",
       "    line-height: 1em;\n",
       "    font-family: monospace;\n",
       "    background-color: var(--sklearn-color-background);\n",
       "    border-radius: 1rem;\n",
       "    height: 1rem;\n",
       "    width: 1rem;\n",
       "    text-decoration: none;\n",
       "    color: var(--sklearn-color-level-1);\n",
       "    border: var(--sklearn-color-level-1) 1pt solid;\n",
       "  }\n",
       "\n",
       "  /* On hover */\n",
       "  #sk-8d5e7dcb-fa8b-46f6-a8b9-3110736aebd6 a.estimator_doc_link:hover {\n",
       "    background-color: var(--sklearn-color-level-3);\n",
       "    color: var(--sklearn-color-background);\n",
       "    text-decoration: none;\n",
       "  }\n",
       "</style><div id='sk-8d5e7dcb-fa8b-46f6-a8b9-3110736aebd6' class=\"sk-top-container\"><div class=\"sk-text-repr-fallback\"><pre>SklearnClassifierPipeline(classifier=RandomForestClassifier(),\n",
       "                          transformers=[SummaryTransformer()])</pre><b>Please rerun this cell to show the HTML repr or trust the notebook.</b></div><div class=\"sk-container\" hidden><div class=\"sk-item sk-dashed-wrapped\"><div class='sk-label-container'><div class=\"sk-label sk-toggleable\"><input class=\"sk-toggleable__control sk-hidden--visually\" id=UUID('1981bbd2-b553-4939-99e6-513ac73a1f85') type=\"checkbox\" ><label for=UUID('1981bbd2-b553-4939-99e6-513ac73a1f85') class='sk-toggleable__label sk-toggleable__label-arrow'>SklearnClassifierPipeline<a class=\"sk-estimator-doc-link\" rel=\"noreferrer\" target=\"_blank\" href=\"https://www.sktime.net/en/v0.37.0/api_reference/auto_generated/sktime.classification.compose.SklearnClassifierPipeline.html\">?<span>Documentation for SklearnClassifierPipeline</span></a></label><div class=\"sk-toggleable__content\"><pre>SklearnClassifierPipeline(classifier=RandomForestClassifier(),\n",
       "                          transformers=[SummaryTransformer()])</pre></div></div></div><div class=\"sk-serial\"><div class='sk-item'><div class=\"sk-estimator sk-toggleable\"><input class=\"sk-toggleable__control sk-hidden--visually\" id=UUID('8c90c5d0-2745-429f-ba33-6f4e0429b42c') type=\"checkbox\" ><label for=UUID('8c90c5d0-2745-429f-ba33-6f4e0429b42c') class='sk-toggleable__label sk-toggleable__label-arrow'>SummaryTransformer<a class=\"sk-estimator-doc-link\" rel=\"noreferrer\" target=\"_blank\" href=\"https://www.sktime.net/en/v0.37.0/api_reference/auto_generated/sktime.transformations.series.summarize.SummaryTransformer.html\">?<span>Documentation for SummaryTransformer</span></a></label><div class=\"sk-toggleable__content\"><pre>SummaryTransformer()</pre></div></div></div><div class='sk-item'><div class=\"sk-estimator sk-toggleable\"><input class=\"sk-toggleable__control sk-hidden--visually\" id=UUID('df257f74-3616-4102-84d3-4b19efd9f998') type=\"checkbox\" ><label for=UUID('df257f74-3616-4102-84d3-4b19efd9f998') class='sk-toggleable__label sk-toggleable__label-arrow'>RandomForestClassifier<a class=\"sk-estimator-doc-link\" rel=\"noreferrer\" target=\"_blank\" href=\"https://scikit-learn.org/1.6/modules/generated/sklearn.ensemble.RandomForestClassifier.html\">?<span>Documentation for RandomForestClassifier</span></a></label><div class=\"sk-toggleable__content\"><pre>RandomForestClassifier()</pre></div></div></div></div></div></div></div>"
      ],
      "text/plain": [
       "SklearnClassifierPipeline(classifier=RandomForestClassifier(),\n",
       "                          transformers=[SummaryTransformer()])"
      ]
     },
     "execution_count": 68,
     "metadata": {},
     "output_type": "execute_result"
    }
   ],
   "source": [
    "from sklearn.ensemble import RandomForestClassifier\n",
    "\n",
    "from sktime.transformations.series.summarize import SummaryTransformer\n",
    "\n",
    "# specify summary transformer\n",
    "summary_rf = SummaryTransformer() * RandomForestClassifier()\n",
    "\n",
    "summary_rf.fit(X_train, y_train)"
   ]
  },
  {
   "attachments": {},
   "cell_type": "markdown",
   "metadata": {},
   "source": [
    "### 2.4.3 Using transformers to deal with unequal length or missing values"
   ]
  },
  {
   "attachments": {},
   "cell_type": "markdown",
   "metadata": {},
   "source": [
    "pro tip: useful transformers to pipeline are those that \"improve\" capabilities!\n",
    "\n",
    "Search for these transformer tags:\n",
    "\n",
    "* `\"capability:unequal_length:removes\"` - ensures all instances in the panel have equal length afterwards. Examples: padding, cutting, resampling.\n",
    "* `\"capability:missing_values:removes\"` - removes all missing values from the data (e.g., series, panel) passed to it. Example: mean imputation"
   ]
  },
  {
   "cell_type": "code",
   "execution_count": 69,
   "metadata": {},
   "outputs": [
    {
     "data": {
      "application/vnd.microsoft.datawrangler.viewer.v0+json": {
       "columns": [
        {
         "name": "index",
         "rawType": "int64",
         "type": "integer"
        },
        {
         "name": "name",
         "rawType": "object",
         "type": "string"
        },
        {
         "name": "object",
         "rawType": "object",
         "type": "unknown"
        }
       ],
       "ref": "b7044703-42a9-4f34-9743-a76fc55b1862",
       "rows": [
        [
         "0",
         "ClearSky",
         "<class 'sktime.transformations.series.clear_sky.ClearSky'>"
        ],
        [
         "1",
         "IntervalSegmenter",
         "<class 'sktime.transformations.panel.segment.IntervalSegmenter'>"
        ],
        [
         "2",
         "PaddingTransformer",
         "<class 'sktime.transformations.panel.padder.PaddingTransformer'>"
        ],
        [
         "3",
         "RandomIntervalSegmenter",
         "<class 'sktime.transformations.panel.segment.RandomIntervalSegmenter'>"
        ],
        [
         "4",
         "SlopeTransformer",
         "<class 'sktime.transformations.panel.slope.SlopeTransformer'>"
        ],
        [
         "5",
         "SubsequenceExtractionTransformer",
         "<class 'sktime.transformations.series.subsequence_extraction.SubsequenceExtractionTransformer'>"
        ],
        [
         "6",
         "TimeBinAggregate",
         "<class 'sktime.transformations.series.binning.TimeBinAggregate'>"
        ],
        [
         "7",
         "TruncationTransformer",
         "<class 'sktime.transformations.panel.truncation.TruncationTransformer'>"
        ]
       ],
       "shape": {
        "columns": 2,
        "rows": 8
       }
      },
      "text/html": [
       "<div>\n",
       "<style scoped>\n",
       "    .dataframe tbody tr th:only-of-type {\n",
       "        vertical-align: middle;\n",
       "    }\n",
       "\n",
       "    .dataframe tbody tr th {\n",
       "        vertical-align: top;\n",
       "    }\n",
       "\n",
       "    .dataframe thead th {\n",
       "        text-align: right;\n",
       "    }\n",
       "</style>\n",
       "<table border=\"1\" class=\"dataframe\">\n",
       "  <thead>\n",
       "    <tr style=\"text-align: right;\">\n",
       "      <th></th>\n",
       "      <th>name</th>\n",
       "      <th>object</th>\n",
       "    </tr>\n",
       "  </thead>\n",
       "  <tbody>\n",
       "    <tr>\n",
       "      <th>0</th>\n",
       "      <td>ClearSky</td>\n",
       "      <td>&lt;class 'sktime.transformations.series.clear_sk...</td>\n",
       "    </tr>\n",
       "    <tr>\n",
       "      <th>1</th>\n",
       "      <td>IntervalSegmenter</td>\n",
       "      <td>&lt;class 'sktime.transformations.panel.segment.I...</td>\n",
       "    </tr>\n",
       "    <tr>\n",
       "      <th>2</th>\n",
       "      <td>PaddingTransformer</td>\n",
       "      <td>&lt;class 'sktime.transformations.panel.padder.Pa...</td>\n",
       "    </tr>\n",
       "    <tr>\n",
       "      <th>3</th>\n",
       "      <td>RandomIntervalSegmenter</td>\n",
       "      <td>&lt;class 'sktime.transformations.panel.segment.R...</td>\n",
       "    </tr>\n",
       "    <tr>\n",
       "      <th>4</th>\n",
       "      <td>SlopeTransformer</td>\n",
       "      <td>&lt;class 'sktime.transformations.panel.slope.Slo...</td>\n",
       "    </tr>\n",
       "    <tr>\n",
       "      <th>5</th>\n",
       "      <td>SubsequenceExtractionTransformer</td>\n",
       "      <td>&lt;class 'sktime.transformations.series.subseque...</td>\n",
       "    </tr>\n",
       "    <tr>\n",
       "      <th>6</th>\n",
       "      <td>TimeBinAggregate</td>\n",
       "      <td>&lt;class 'sktime.transformations.series.binning....</td>\n",
       "    </tr>\n",
       "    <tr>\n",
       "      <th>7</th>\n",
       "      <td>TruncationTransformer</td>\n",
       "      <td>&lt;class 'sktime.transformations.panel.truncatio...</td>\n",
       "    </tr>\n",
       "  </tbody>\n",
       "</table>\n",
       "</div>"
      ],
      "text/plain": [
       "                               name                                             object\n",
       "0                          ClearSky  <class 'sktime.transformations.series.clear_sk...\n",
       "1                 IntervalSegmenter  <class 'sktime.transformations.panel.segment.I...\n",
       "2                PaddingTransformer  <class 'sktime.transformations.panel.padder.Pa...\n",
       "3           RandomIntervalSegmenter  <class 'sktime.transformations.panel.segment.R...\n",
       "4                  SlopeTransformer  <class 'sktime.transformations.panel.slope.Slo...\n",
       "5  SubsequenceExtractionTransformer  <class 'sktime.transformations.series.subseque...\n",
       "6                  TimeBinAggregate  <class 'sktime.transformations.series.binning....\n",
       "7             TruncationTransformer  <class 'sktime.transformations.panel.truncatio..."
      ]
     },
     "execution_count": 69,
     "metadata": {},
     "output_type": "execute_result"
    }
   ],
   "source": [
    "# all transformers that guarantee that the output is equal length and equal index\n",
    "from sktime.registry import all_estimators\n",
    "\n",
    "all_estimators(\n",
    "    \"transformer\",\n",
    "    as_dataframe=True,\n",
    "    filter_tags={\"capability:unequal_length:removes\": True},\n",
    ")"
   ]
  },
  {
   "cell_type": "code",
   "execution_count": 70,
   "metadata": {},
   "outputs": [
    {
     "data": {
      "application/vnd.microsoft.datawrangler.viewer.v0+json": {
       "columns": [
        {
         "name": "index",
         "rawType": "int64",
         "type": "integer"
        },
        {
         "name": "name",
         "rawType": "object",
         "type": "string"
        },
        {
         "name": "object",
         "rawType": "object",
         "type": "unknown"
        }
       ],
       "ref": "3dcb6260-8925-4ea1-9bd3-364e6ab288a4",
       "rows": [
        [
         "0",
         "ClearSky",
         "<class 'sktime.transformations.series.clear_sky.ClearSky'>"
        ],
        [
         "1",
         "ClustererAsTransformer",
         "<class 'sktime.clustering.compose._as_transform.ClustererAsTransformer'>"
        ],
        [
         "2",
         "DetectorAsTransformer",
         "<class 'sktime.detection.compose._as_transform.DetectorAsTransformer'>"
        ],
        [
         "3",
         "Imputer",
         "<class 'sktime.transformations.series.impute.Imputer'>"
        ],
        [
         "4",
         "SeasonalDummiesOneHot",
         "<class 'sktime.transformations.series.dummies.SeasonalDummiesOneHot'>"
        ]
       ],
       "shape": {
        "columns": 2,
        "rows": 5
       }
      },
      "text/html": [
       "<div>\n",
       "<style scoped>\n",
       "    .dataframe tbody tr th:only-of-type {\n",
       "        vertical-align: middle;\n",
       "    }\n",
       "\n",
       "    .dataframe tbody tr th {\n",
       "        vertical-align: top;\n",
       "    }\n",
       "\n",
       "    .dataframe thead th {\n",
       "        text-align: right;\n",
       "    }\n",
       "</style>\n",
       "<table border=\"1\" class=\"dataframe\">\n",
       "  <thead>\n",
       "    <tr style=\"text-align: right;\">\n",
       "      <th></th>\n",
       "      <th>name</th>\n",
       "      <th>object</th>\n",
       "    </tr>\n",
       "  </thead>\n",
       "  <tbody>\n",
       "    <tr>\n",
       "      <th>0</th>\n",
       "      <td>ClearSky</td>\n",
       "      <td>&lt;class 'sktime.transformations.series.clear_sk...</td>\n",
       "    </tr>\n",
       "    <tr>\n",
       "      <th>1</th>\n",
       "      <td>ClustererAsTransformer</td>\n",
       "      <td>&lt;class 'sktime.clustering.compose._as_transfor...</td>\n",
       "    </tr>\n",
       "    <tr>\n",
       "      <th>2</th>\n",
       "      <td>DetectorAsTransformer</td>\n",
       "      <td>&lt;class 'sktime.detection.compose._as_transform...</td>\n",
       "    </tr>\n",
       "    <tr>\n",
       "      <th>3</th>\n",
       "      <td>Imputer</td>\n",
       "      <td>&lt;class 'sktime.transformations.series.impute.I...</td>\n",
       "    </tr>\n",
       "    <tr>\n",
       "      <th>4</th>\n",
       "      <td>SeasonalDummiesOneHot</td>\n",
       "      <td>&lt;class 'sktime.transformations.series.dummies....</td>\n",
       "    </tr>\n",
       "  </tbody>\n",
       "</table>\n",
       "</div>"
      ],
      "text/plain": [
       "                     name                                             object\n",
       "0                ClearSky  <class 'sktime.transformations.series.clear_sk...\n",
       "1  ClustererAsTransformer  <class 'sktime.clustering.compose._as_transfor...\n",
       "2   DetectorAsTransformer  <class 'sktime.detection.compose._as_transform...\n",
       "3                 Imputer  <class 'sktime.transformations.series.impute.I...\n",
       "4   SeasonalDummiesOneHot  <class 'sktime.transformations.series.dummies...."
      ]
     },
     "execution_count": 70,
     "metadata": {},
     "output_type": "execute_result"
    }
   ],
   "source": [
    "# all transformers that guarantee the output has no missing values\n",
    "from sktime.registry import all_estimators\n",
    "\n",
    "all_estimators(\n",
    "    \"transformer\",\n",
    "    as_dataframe=True,\n",
    "    filter_tags={\"capability:missing_values:removes\": True},\n",
    ")"
   ]
  },
  {
   "attachments": {},
   "cell_type": "markdown",
   "metadata": {},
   "source": [
    "minor note:\n",
    "\n",
    "some transformers guarantee \"no missing values\" under some conditions but not always, e.g., `TimeBinAggregate`"
   ]
  },
  {
   "attachments": {},
   "cell_type": "markdown",
   "metadata": {},
   "source": [
    "let's check the tags in one example"
   ]
  },
  {
   "cell_type": "code",
   "execution_count": 71,
   "metadata": {},
   "outputs": [
    {
     "data": {
      "text/plain": [
       "{'python_version': None,\n",
       " 'python_dependencies': None,\n",
       " 'env_marker': None,\n",
       " 'sktime_version': '0.37.0',\n",
       " 'object_type': 'classifier',\n",
       " 'X_inner_mtype': 'numpy3D',\n",
       " 'y_inner_mtype': 'numpy1D',\n",
       " 'capability:multioutput': False,\n",
       " 'capability:multivariate': True,\n",
       " 'capability:unequal_length': False,\n",
       " 'capability:missing_values': False,\n",
       " 'capability:train_estimate': False,\n",
       " 'capability:feature_importance': False,\n",
       " 'capability:contractable': False,\n",
       " 'capability:multithreading': True,\n",
       " 'capability:predict_proba': True,\n",
       " 'requires_cython': False,\n",
       " 'authors': ['MatthewMiddlehurst'],\n",
       " 'maintainers': 'sktime developers',\n",
       " 'classifier_type': 'feature',\n",
       " 'handles-missing-data': False}"
      ]
     },
     "execution_count": 71,
     "metadata": {},
     "output_type": "execute_result"
    }
   ],
   "source": [
    "# list all classifiers in sktime\n",
    "from sktime.classification.feature_based import SummaryClassifier\n",
    "\n",
    "no_missing_clf = SummaryClassifier()\n",
    "\n",
    "no_missing_clf.get_tags()"
   ]
  },
  {
   "cell_type": "code",
   "execution_count": 72,
   "metadata": {},
   "outputs": [
    {
     "name": "stderr",
     "output_type": "stream",
     "text": [
      "/Users/cyuab/miniconda3/envs/mtsccleave/lib/python3.12/site-packages/skbase/base/_base.py:1335: FutureWarning: tag 'handles-missing-data' will be removed in  version 1.0.0 and replaced by 'capability:missing_values', please use 'capability:missing_values' instead\n",
      "  self._deprecate_tag_warn(collected_tags)\n"
     ]
    },
    {
     "data": {
      "text/plain": [
       "{'python_version': None,\n",
       " 'python_dependencies': None,\n",
       " 'env_marker': None,\n",
       " 'sktime_version': '0.37.0',\n",
       " 'object_type': 'classifier',\n",
       " 'X_inner_mtype': 'pd-multiindex',\n",
       " 'y_inner_mtype': 'numpy1D',\n",
       " 'capability:multioutput': False,\n",
       " 'capability:multivariate': True,\n",
       " 'capability:unequal_length': False,\n",
       " 'capability:missing_values': True,\n",
       " 'capability:train_estimate': False,\n",
       " 'capability:feature_importance': False,\n",
       " 'capability:contractable': False,\n",
       " 'capability:multithreading': False,\n",
       " 'capability:predict_proba': True,\n",
       " 'requires_cython': False,\n",
       " 'authors': ['fkiraly'],\n",
       " 'maintainers': 'sktime developers',\n",
       " 'visual_block_kind': 'serial',\n",
       " 'handles-missing-data': True}"
      ]
     },
     "execution_count": 72,
     "metadata": {},
     "output_type": "execute_result"
    }
   ],
   "source": [
    "from sktime.transformations.series.impute import Imputer\n",
    "\n",
    "clf_can_do_missing = Imputer() * SummaryClassifier()\n",
    "\n",
    "clf_can_do_missing.get_tags()"
   ]
  },
  {
   "attachments": {},
   "cell_type": "markdown",
   "metadata": {},
   "source": [
    "### 2.4.4 Tuning and model selection"
   ]
  },
  {
   "attachments": {},
   "cell_type": "markdown",
   "metadata": {},
   "source": [
    "`sktime` classifiers are compatible with `sklearn` model selection and composition tools using `sktime` data formats.\n",
    "\n",
    "This extends to grid tuning and cross-validation, as long as `numpy` based formats or length/instance indexed formats are used."
   ]
  },
  {
   "cell_type": "code",
   "execution_count": 73,
   "metadata": {},
   "outputs": [],
   "source": [
    "from sktime.datasets import load_unit_test\n",
    "\n",
    "X_train, y_train = load_unit_test(split=\"TRAIN\")\n",
    "X_test, _ = load_unit_test(split=\"TEST\")"
   ]
  },
  {
   "attachments": {},
   "cell_type": "markdown",
   "metadata": {},
   "source": [
    "Cross-validation using the `sklearn` `cross_val_score` and `KFold` functionality:"
   ]
  },
  {
   "cell_type": "code",
   "execution_count": 74,
   "metadata": {},
   "outputs": [
    {
     "data": {
      "text/plain": [
       "array([0.6, 0.8, 0.6, 0.8])"
      ]
     },
     "execution_count": 74,
     "metadata": {},
     "output_type": "execute_result"
    }
   ],
   "source": [
    "from sklearn.model_selection import KFold, cross_val_score\n",
    "\n",
    "from sktime.classification.feature_based import SummaryClassifier\n",
    "\n",
    "clf = SummaryClassifier()\n",
    "\n",
    "cross_val_score(clf, X_train, y=y_train, cv=KFold(n_splits=4))"
   ]
  },
  {
   "attachments": {},
   "cell_type": "markdown",
   "metadata": {},
   "source": [
    "Parameter tuning using `sklearn` `GridSearchCV`, we tune the _k_ and distance measure for a K-NN classifier:"
   ]
  },
  {
   "cell_type": "code",
   "execution_count": 75,
   "metadata": {},
   "outputs": [],
   "source": [
    "from sklearn.model_selection import GridSearchCV\n",
    "\n",
    "from sktime.classification.distance_based import KNeighborsTimeSeriesClassifier\n",
    "\n",
    "knn = KNeighborsTimeSeriesClassifier()\n",
    "param_grid = {\"n_neighbors\": [1, 5], \"distance\": [\"euclidean\", \"dtw\"]}\n",
    "parameter_tuning_method = GridSearchCV(knn, param_grid, cv=KFold(n_splits=4))\n",
    "\n",
    "parameter_tuning_method.fit(X_train, y_train)\n",
    "y_pred = parameter_tuning_method.predict(X_test)"
   ]
  },
  {
   "attachments": {},
   "cell_type": "markdown",
   "metadata": {},
   "source": [
    "### 2.4.5 Advanced Composition cheat sheet - AutoML, bagging, ensembles"
   ]
  },
  {
   "attachments": {},
   "cell_type": "markdown",
   "metadata": {},
   "source": [
    "* common ensembling patterns: `BaggingClassifier`, `WeightedEnsembleClassifier`\n",
    "* composability with `sklearn` classifier, regressor building blocks still applies\n",
    "* AutoML can be achieved by combining tuning with `MultiplexClassifier` or `MultiplexTransformer`"
   ]
  },
  {
   "attachments": {},
   "cell_type": "markdown",
   "metadata": {},
   "source": [
    "pro tip: bagging with a fixed single column subset can be used to turn an univariate classifier into a multivariate classifier!"
   ]
  },
  {
   "attachments": {},
   "cell_type": "markdown",
   "metadata": {},
   "source": [
    "## 2.5 Appendix - Extension guide"
   ]
  },
  {
   "attachments": {},
   "cell_type": "markdown",
   "metadata": {},
   "source": [
    "`sktime` is meant to be easily extensible, for direct contribution to `sktime` as well as for local/private extension with custom methods.\n",
    "\n",
    "To extend `sktime` with a new local or contributed estimator, a good workflow to follow is:\n",
    "\n",
    "0. find the right extension template for the type of estimator you want to add - e.g., classifier, regressor, clusterer, etc. The extension templates are located in the [`extension_templates](https://github.com/sktime/sktime/blob/main/extension_templates) directory\n",
    "1. read through the extension template - this is a `python` file with `todo` blocks that mark the places in which changes need to be added.\n",
    "2. optionally, if you are planning any major surgeries to the interface: look at the base class - note that \"ordinary\" extension (e.g., new algorithm) should be easily doable without this.\n",
    "3. copy the extension template to a local folder in your own repository (local/private extension), or to a suitable location in your clone of the `sktime` or affiliated repository (if contributed extension), inside `sktime.[name_of_task]`; rename the file and update the file docstring appropriately.\n",
    "4. address the \"todo\" parts. Usually, this means: changing the name of the class, setting the tag values, specifying hyper-parameters, filling in `__init__`, `_fit`, `_predict` and/or other methods (for details see the extension template). You can add private methods as long as they do not override the default public interface. For more details, see the extension template.\n",
    "5. to test your estimator manually: import your estimator and run it in the basic vignettes above.\n",
    "6. to test your estimator automatically: call `sktime.tests.test_all_estimators.check_estimator` on your estimator. You can call this on a class or object instance. Ensure you have specified test parameters in the `get_test_params` method, according to the extension template.\n",
    "\n",
    "In case of direct contribution to `sktime` or one of its affiliated packages, additionally:\n",
    "* Add yourself as an author and/or a maintainer for the new estimator file(s), via `\"authors\"` and `\"maintainers\"` tag.\n",
    "* create a pull request that contains only the new estimators (and their inheritance tree, if it's not just one class), as well as the automated tests as described above.\n",
    "* in the pull request, describe the estimator and optimally provide a publication or other technical reference for the strategy it implements.\n",
    "* before making the pull request, ensure that you have all necessary permissions to contribute the code to a permissive license (BSD-3) open source project."
   ]
  }
 ],
 "metadata": {
  "kernelspec": {
   "display_name": "mtsccleave",
   "language": "python",
   "name": "python3"
  },
  "language_info": {
   "codemirror_mode": {
    "name": "ipython",
    "version": 3
   },
   "file_extension": ".py",
   "mimetype": "text/x-python",
   "name": "python",
   "nbconvert_exporter": "python",
   "pygments_lexer": "ipython3",
   "version": "3.12.11"
  }
 },
 "nbformat": 4,
 "nbformat_minor": 2
}
