{
  "cells": [
    {
      "cell_type": "markdown",
      "metadata": {
        "id": "JrZ3It8Flr0V"
      },
      "source": [
        "<a href=\"https://colab.research.google.com/github/timeseriesAI/tsai/blob/master/tutorial_nbs/02_ROCKET_a_new_SOTA_classifier.ipynb\" target=\"_parent\"><img src=\"https://colab.research.google.com/assets/colab-badge.svg\" alt=\"Open In Colab\"/></a>"
      ]
    },
    {
      "cell_type": "markdown",
      "metadata": {
        "id": "EoEsqvkHlr0X"
      },
      "source": [
        "created by Ignacio Oguiza - email: oguiza@timeseriesAI.co"
      ]
    },
    {
      "cell_type": "markdown",
      "metadata": {
        "id": "7bDpBg5-lr0X"
      },
      "source": [
        "## Purpose 😇"
      ]
    },
    {
      "cell_type": "markdown",
      "metadata": {
        "id": "3V4M-EGolr0X"
      },
      "source": [
        "The purpose of this notebook is to introduce you to Rocket.\n",
        "\n",
        "ROCKET (RandOm Convolutional KErnel Transform) is a new Time Series Classification (TSC) method that has just been released (Oct 29th, 2019), and has achieved **state-of-the-art performance on the UCR univariate time series classification datasets, surpassing HIVE-COTE (the previous state of the art since 2017) in accuracy, with exceptional speed compared to other traditional DL methods.**\n",
        "\n",
        "To achieve these 2 things at once is **VERY IMPRESSIVE**. ROCKET is certainly a new TSC method you should try.\n",
        "\n",
        "Authors:\n",
        "Dempster, A., Petitjean, F., & Webb, G. I. (2019). ROCKET: Exceptionally fast and accurate time series classification using random convolutional kernels. arXiv preprint arXiv:1910.13051.\n",
        "\n",
        "[paper](https://arxiv.org/pdf/1910.13051)\n",
        "\n",
        "There are 2 main limitations to the original ROCKET method though:\n",
        "- Released code doesn't handle multivariate data\n",
        "- It doesn't run on a GPU, so it's slow when used with a large datasets\n",
        "\n",
        "In this notebook you will learn:\n",
        "- a new ROCKET version we have developed in Pytorch, that handles both **univariate and multivariate** data, and uses **GPU**\n",
        "- you will see how you can integrate the ROCKET features with fastai or other classifiers"
      ]
    },
    {
      "cell_type": "markdown",
      "metadata": {
        "id": "EC00aQ5Flr0Y"
      },
      "source": [
        "## Import libraries 📚"
      ]
    },
    {
      "cell_type": "code",
      "execution_count": 1,
      "metadata": {
        "id": "HLxinnnRlr0Y"
      },
      "outputs": [],
      "source": [
        "# # **************** UNCOMMENT AND RUN THIS CELL IF YOU NEED TO INSTALL/ UPGRADE TSAI ****************\n",
        "# stable = True # Set to True for latest pip version or False for main branch in GitHub\n",
        "# !pip install {\"tsai -U\" if stable else \"git+https://github.com/timeseriesAI/tsai.git\"} >> /dev/null"
      ]
    },
    {
      "cell_type": "code",
      "execution_count": 1,
      "metadata": {
        "id": "arbTQTZwlr0Y",
        "outputId": "c2b46c7c-d861-44f0-be4e-38de36639e80"
      },
      "outputs": [
        {
          "name": "stdout",
          "output_type": "stream",
          "text": [
            "os              : macOS-15.5-arm64-arm-64bit\n",
            "python          : 3.12.11\n",
            "tsai            : 0.4.0\n",
            "fastai          : 2.8.2\n",
            "fastcore        : 1.5.29\n",
            "torch           : 2.5.1\n",
            "device          : mps\n",
            "cpu cores       : 8\n",
            "threads per cpu : 1\n",
            "RAM             : 16.0 GB\n",
            "GPU memory      : N/A\n"
          ]
        }
      ],
      "source": [
        "from tsai.all import *\n",
        "my_setup()"
      ]
    },
    {
      "cell_type": "markdown",
      "metadata": {
        "id": "SHagP4MYlr0Z"
      },
      "source": [
        "## How to use ROCKET on GPU?"
      ]
    },
    {
      "cell_type": "markdown",
      "metadata": {
        "id": "M1x23_IDlr0Z"
      },
      "source": [
        "This method allows you to use ROCKET even with large and/or multivariate datasets on GPU in Pytorch."
      ]
    },
    {
      "cell_type": "markdown",
      "metadata": {
        "id": "7decl9-Mlr0Z"
      },
      "source": [
        "### 1️⃣ Generate features\n",
        "\n",
        "First you prepare the input data and normalize it per sample. The input to ROCKET Pytorch is a 3d tensor of shape (samples, vars, len), preferrable on gpu."
      ]
    },
    {
      "cell_type": "markdown",
      "metadata": {
        "id": "LJP-4ua1lr0Z"
      },
      "source": [
        "The way to use ROCKET in Pytorch is the following:\n",
        "\n",
        "* Create a dataset as you would normally do in `tsai`.\n",
        "* Create a TSDataLoaders with the following kwargs:\n",
        "    * drop_last=False. In this way we get features for every input sample.\n",
        "    * shuffle_train=False\n",
        "    * batch_tfms=[TSStandardize(by_sample=True)] so that input is normalized by sample, as recommended by the authors\n"
      ]
    },
    {
      "cell_type": "code",
      "execution_count": 2,
      "metadata": {
        "id": "YBnohN9Plr0Z"
      },
      "outputs": [],
      "source": [
        "X, y, splits = get_UCR_data('HandMovementDirection', split_data=False)\n",
        "tfms  = [None, [Categorize()]]\n",
        "batch_tfms = [TSStandardize(by_sample=True)]\n",
        "dls = get_ts_dls(X, y, splits=splits, tfms=tfms, drop_last=False, shuffle_train=False, batch_tfms=batch_tfms, bs=10_000)"
      ]
    },
    {
      "cell_type": "markdown",
      "metadata": {
        "id": "NwI1qIF1lr0Z"
      },
      "source": [
        "☣️☣️ You will be able to create a dls (TSDataLoaders) object with unusually large batch sizes. I've tested it with a large dataset and a batch size = 100_000 and it worked fine. This is because ROCKET is not a usual Deep Learning model. It just applies convolutions (kernels) one at a time to create the features."
      ]
    },
    {
      "cell_type": "markdown",
      "metadata": {
        "id": "aVGRfw-Clr0Z"
      },
      "source": [
        "Instantiate a rocket model with the desired n_kernels (authors use 10_000) and kernel sizes (7, 9 and 11 in the original paper)."
      ]
    },
    {
      "cell_type": "code",
      "execution_count": 3,
      "metadata": {
        "id": "q74tR2BOlr0Z"
      },
      "outputs": [],
      "source": [
        "model = build_ts_model(ROCKET, dls=dls) # n_kernels=10_000, kss=[7, 9, 11] set by default, but you can pass other values as kwargs"
      ]
    },
    {
      "cell_type": "markdown",
      "metadata": {
        "id": "tuVZ1ctElr0Z"
      },
      "source": [
        "Now generate rocket features for the entire train and valid datasets using the create_rocket_features convenience function `create_rocket_features`."
      ]
    },
    {
      "cell_type": "markdown",
      "metadata": {
        "id": "B_2_n8XOlr0Z"
      },
      "source": [
        "And we now transform the original data, creating 20k features per sample"
      ]
    },
    {
      "cell_type": "code",
      "execution_count": 11,
      "metadata": {
        "id": "rDwNtL0mlr0Z",
        "outputId": "11fe4cca-3129-42f3-948f-7db47cce8095"
      },
      "outputs": [
        {
          "data": {
            "text/plain": [
              "((160, 20000), (74, 20000))"
            ]
          },
          "execution_count": 11,
          "metadata": {},
          "output_type": "execute_result"
        }
      ],
      "source": [
        "X_train, y_train = create_rocket_features(dls.train, model)\n",
        "X_valid, y_valid = create_rocket_features(dls.valid, model)\n",
        "X_train.shape, X_valid.shape\n",
        "# ((160, 20000), (74, 20000))"
      ]
    },
    {
      "cell_type": "markdown",
      "metadata": {
        "id": "czhztFAAlr0a"
      },
      "source": [
        "### 2️⃣ Apply a classifier"
      ]
    },
    {
      "cell_type": "markdown",
      "metadata": {
        "id": "j3zolW9ylr0a"
      },
      "source": [
        "Once you build the 20k features per sample, you can use them to train any classifier of your choice."
      ]
    },
    {
      "cell_type": "markdown",
      "metadata": {
        "id": "4Ac1q8J-lr0a"
      },
      "source": [
        "#### RidgeClassifierCV"
      ]
    },
    {
      "cell_type": "markdown",
      "metadata": {
        "id": "FiKZ9-ADlr0a"
      },
      "source": [
        "And now you apply a classifier of your choice.\n",
        "With RidgeClassifierCV in particular, there's no need to normalize the calculated features before passing them to the classifier, as it does it internally (if normalize is set to True as recommended by the authors)."
      ]
    },
    {
      "cell_type": "code",
      "execution_count": 23,
      "metadata": {
        "id": "e45Yo4tzlr0a",
        "outputId": "dcded32e-1eb8-46ba-8aea-1b601bdf7beb"
      },
      "outputs": [
        {
          "name": "stdout",
          "output_type": "stream",
          "text": [
            "alpha: 1.00E+03  train: 1.00000  valid: 0.50000\n"
          ]
        }
      ],
      "source": [
        "from sklearn.linear_model import RidgeClassifierCV\n",
        "from sklearn.preprocessing import StandardScaler\n",
        "\n",
        "# Normalize the features manually\n",
        "scaler = StandardScaler()\n",
        "X_train = scaler.fit_transform(X_train)\n",
        "X_valid = scaler.transform(X_valid)\n",
        "# ridge = RidgeClassifierCV(alphas=np.logspace(-8, 8, 17), normalize=True)\n",
        "ridge = RidgeClassifierCV(alphas=np.logspace(-8, 8, 17))\n",
        "ridge.fit(X_train, y_train)\n",
        "print(f'alpha: {ridge.alpha_:.2E}  train: {ridge.score(X_train, y_train):.5f}  valid: {ridge.score(X_valid, y_valid):.5f}')\n",
        "# alpha: 1.00E+01  train: 1.00000  valid: 0.50000"
      ]
    },
    {
      "cell_type": "markdown",
      "metadata": {
        "id": "sfMufz-1lr0a"
      },
      "source": [
        "This result is amazing!! The previous state of the art (Inceptiontime) was .37837"
      ]
    },
    {
      "cell_type": "markdown",
      "metadata": {
        "id": "ajeBqGXilr0a"
      },
      "source": [
        "#### Logistic Regression"
      ]
    },
    {
      "cell_type": "markdown",
      "metadata": {
        "id": "sys88csXlr0a"
      },
      "source": [
        "In the case of other classifiers (like Logistic Regression), the authors recommend a per-feature normalization."
      ]
    },
    {
      "cell_type": "code",
      "execution_count": 26,
      "metadata": {
        "id": "srNyW1_Xlr0a",
        "outputId": "9f29ae5e-e80d-4e94-fda4-d99f3c823bc1"
      },
      "outputs": [
        {
          "name": "stdout",
          "output_type": "stream",
          "text": [
            " 0 eps: 1.00E-06  C: 1.00E-05  loss: 1.35157  train_acc: 0.80625  valid_acc: 0.40541\n",
            " 1 eps: 1.00E-06  C: 1.00E-04  loss: 1.15495  train_acc: 1.00000  valid_acc: 0.43243\n",
            " 2 eps: 1.00E-06  C: 1.00E-03  loss: 0.85401  train_acc: 1.00000  valid_acc: 0.47297\n",
            " 3 eps: 1.00E-06  C: 1.00E-02  loss: 0.76186  train_acc: 1.00000  valid_acc: 0.48649\n",
            " 4 eps: 1.00E-06  C: 1.00E-01  loss: 0.74624  train_acc: 1.00000  valid_acc: 0.50000\n",
            " 5 eps: 1.00E-06  C: 1.00E+00  loss: 0.74405  train_acc: 1.00000  valid_acc: 0.50000\n",
            " 6 eps: 1.00E-06  C: 1.00E+01  loss: 0.74382  train_acc: 1.00000  valid_acc: 0.47297\n",
            " 7 eps: 1.00E-06  C: 1.00E+02  loss: 0.74380  train_acc: 1.00000  valid_acc: 0.47297\n",
            " 8 eps: 1.00E-06  C: 1.00E+03  loss: 0.74380  train_acc: 1.00000  valid_acc: 0.47297\n",
            " 9 eps: 1.00E-06  C: 1.00E+04  loss: 0.74380  train_acc: 1.00000  valid_acc: 0.47297\n",
            "10 eps: 1.00E-06  C: 1.00E+05  loss: 0.74380  train_acc: 1.00000  valid_acc: 0.47297\n",
            "\n",
            "Best result:\n",
            "eps: 1.00E-06  C: 1.00E+05  train_loss: 0.74380  train_acc: 1.00000  valid_acc: 0.47297\n"
          ]
        }
      ],
      "source": [
        "eps = 1e-6\n",
        "Cs = np.logspace(-5, 5, 11)\n",
        "from sklearn.linear_model import LogisticRegression\n",
        "best_loss = np.inf\n",
        "for i, C in enumerate(Cs):\n",
        "    f_mean = X_train.mean(axis=0, keepdims=True)\n",
        "    f_std = X_train.std(axis=0, keepdims=True) + eps  # epsilon to avoid dividing by 0\n",
        "    X_train_tfm2 = (X_train - f_mean) / f_std\n",
        "    X_valid_tfm2 = (X_valid - f_mean) / f_std\n",
        "    classifier = LogisticRegression(penalty='l2', C=C, n_jobs=-1)\n",
        "    classifier.fit(X_train_tfm2, y_train)\n",
        "    probas = classifier.predict_proba(X_train_tfm2)\n",
        "    loss = nn.CrossEntropyLoss()(torch.tensor(probas), torch.tensor(y_train)).item()\n",
        "    train_score = classifier.score(X_train_tfm2, y_train)\n",
        "    val_score = classifier.score(X_valid_tfm2, y_valid)\n",
        "    if loss < best_loss:\n",
        "        best_eps = eps\n",
        "        best_C = C\n",
        "        best_loss = loss\n",
        "        best_train_score = train_score\n",
        "        best_val_score = val_score\n",
        "    print('{:2} eps: {:.2E}  C: {:.2E}  loss: {:.5f}  train_acc: {:.5f}  valid_acc: {:.5f}'.format(\n",
        "        i, eps, C, loss, train_score, val_score))\n",
        "print('\\nBest result:')\n",
        "print('eps: {:.2E}  C: {:.2E}  train_loss: {:.5f}  train_acc: {:.5f}  valid_acc: {:.5f}'.format(\n",
        "        best_eps, best_C, best_loss, best_train_score, best_val_score))"
      ]
    },
    {
      "cell_type": "markdown",
      "metadata": {
        "id": "8cn3-TQalr0a"
      },
      "source": [
        "☣️ Note: Epsilon has a large impact on the result. You can actually test several values to find the one that best fits your problem, but bear in mind you can only select C and epsilon based on train data!!!"
      ]
    },
    {
      "cell_type": "markdown",
      "metadata": {
        "id": "RwnjKO1llr0a"
      },
      "source": [
        "##### RandomSearch"
      ]
    },
    {
      "cell_type": "markdown",
      "metadata": {
        "id": "dUv4jfkTlr0a"
      },
      "source": [
        "One way to do this would be to perform a random search using several epsilon and C values"
      ]
    },
    {
      "cell_type": "code",
      "execution_count": 27,
      "metadata": {
        "id": "ehthygaZlr0a",
        "outputId": "377da966-eca2-404a-9536-814827ba53f8"
      },
      "outputs": [
        {
          "name": "stdout",
          "output_type": "stream",
          "text": [
            " 0  eps: 1.00E-06  C: 1.00E-02  loss: 0.76186  train_acc: 1.00000  valid_acc: 0.48649\n",
            " 1  eps: 1.00E+00  C: 1.00E-04  loss: 1.30651  train_acc: 0.89375  valid_acc: 0.39189\n",
            " 2  eps: 1.00E-03  C: 1.00E-04  loss: 1.15524  train_acc: 1.00000  valid_acc: 0.43243\n",
            " 3  eps: 1.00E-01  C: 1.00E-02  loss: 0.76497  train_acc: 1.00000  valid_acc: 0.48649\n",
            " 4  eps: 1.00E-06  C: 1.00E+01  loss: 0.74382  train_acc: 1.00000  valid_acc: 0.47297\n",
            " 5  eps: 1.00E-08  C: 1.00E-02  loss: 0.76186  train_acc: 1.00000  valid_acc: 0.48649\n",
            " 6  eps: 1.00E-05  C: 1.00E-03  loss: 0.85401  train_acc: 1.00000  valid_acc: 0.47297\n",
            " 7  eps: 1.00E-05  C: 1.00E+01  loss: 0.74382  train_acc: 1.00000  valid_acc: 0.47297\n",
            " 8  eps: 1.00E-03  C: 1.00E+05  loss: 0.74380  train_acc: 1.00000  valid_acc: 0.47297\n",
            " 9  eps: 1.00E-02  C: 1.00E-05  loss: 1.35221  train_acc: 0.80625  valid_acc: 0.40541\n",
            "\n",
            "Best result:\n",
            "eps: 1.00E-03  C: 1.00E+05  train_loss: 0.74380  train_acc: 1.00000  valid_acc: 0.47297\n"
          ]
        }
      ],
      "source": [
        "n_tests = 10\n",
        "epss = np.logspace(-8, 0, 9)\n",
        "Cs = np.logspace(-5, 5, 11)\n",
        "\n",
        "from sklearn.linear_model import LogisticRegression\n",
        "best_loss = np.inf\n",
        "for i in range(n_tests):\n",
        "    eps = random_choice(epss)\n",
        "    C = random_choice(Cs)\n",
        "    f_mean = X_train.mean(axis=0, keepdims=True)\n",
        "    f_std = X_train.std(axis=0, keepdims=True) + eps  # epsilon\n",
        "    X_train_tfm2 = (X_train - f_mean) / f_std\n",
        "    X_valid_tfm2 = (X_valid - f_mean) / f_std\n",
        "    classifier = LogisticRegression(penalty='l2', C=C, n_jobs=-1)\n",
        "    classifier.fit(X_train_tfm2, y_train)\n",
        "    probas = classifier.predict_proba(X_train_tfm2)\n",
        "    loss = nn.CrossEntropyLoss()(torch.tensor(probas), torch.tensor(y_train)).item()\n",
        "    train_score = classifier.score(X_train_tfm2, y_train)\n",
        "    val_score = classifier.score(X_valid_tfm2, y_valid)\n",
        "    if loss < best_loss:\n",
        "        best_eps = eps\n",
        "        best_C = C\n",
        "        best_loss = loss\n",
        "        best_train_score = train_score\n",
        "        best_val_score = val_score\n",
        "    print('{:2}  eps: {:.2E}  C: {:.2E}  loss: {:.5f}  train_acc: {:.5f}  valid_acc: {:.5f}'.format(\n",
        "        i, eps, C, loss, train_score, val_score))\n",
        "print('\\nBest result:')\n",
        "print('eps: {:.2E}  C: {:.2E}  train_loss: {:.5f}  train_acc: {:.5f}  valid_acc: {:.5f}'.format(\n",
        "        best_eps, best_C, best_loss, best_train_score, best_val_score))"
      ]
    },
    {
      "cell_type": "markdown",
      "metadata": {
        "id": "ypuqFR7-lr0a"
      },
      "source": [
        "In addition to this, I have also run the code on the TSC UCR multivariate datasets (all the ones that don't contain nan values), and the results are also very good, beating the previous state-of-the-art in this category as well by a large margin. For example, ROCKET reduces InceptionTime errors by 26% on average."
      ]
    },
    {
      "cell_type": "markdown",
      "metadata": {
        "id": "wdsR4eUQlr0a"
      },
      "source": [
        "#### Fastai classifier head"
      ]
    },
    {
      "cell_type": "code",
      "execution_count": 28,
      "metadata": {
        "id": "myDt5K5nlr0a"
      },
      "outputs": [],
      "source": [
        "X = concat(X_train, X_valid)\n",
        "y = concat(y_train, y_valid)\n",
        "splits = get_predefined_splits(X_train, X_valid)"
      ]
    },
    {
      "cell_type": "code",
      "execution_count": 29,
      "metadata": {
        "id": "afUL1cDjlr0a",
        "outputId": "fbdf6590-4b3d-4f1c-aa7c-7d6faf6d5941"
      },
      "outputs": [
        {
          "ename": "TypeError",
          "evalue": "unsupported operand type(s) for -: 'TSTensor' and 'NoneType'",
          "output_type": "error",
          "traceback": [
            "\u001b[31m---------------------------------------------------------------------------\u001b[39m",
            "\u001b[31mTypeError\u001b[39m                                 Traceback (most recent call last)",
            "\u001b[36mCell\u001b[39m\u001b[36m \u001b[39m\u001b[32mIn[29]\u001b[39m\u001b[32m, line 4\u001b[39m\n\u001b[32m      2\u001b[39m dsets = TSDatasets(X, y, tfms=tfms, splits=splits)\n\u001b[32m      3\u001b[39m dls   = TSDataLoaders.from_dsets(dsets.train, dsets.valid, bs=\u001b[32m128\u001b[39m, batch_tfms=[TSStandardize(by_var=\u001b[38;5;28;01mTrue\u001b[39;00m)])\u001b[38;5;66;03m# per feature normalization\u001b[39;00m\n\u001b[32m----> \u001b[39m\u001b[32m4\u001b[39m \u001b[43mdls\u001b[49m\u001b[43m.\u001b[49m\u001b[43mshow_batch\u001b[49m\u001b[43m(\u001b[49m\u001b[43m)\u001b[49m\n",
            "\u001b[36mFile \u001b[39m\u001b[32m~/miniconda3/envs/mtsccleave/lib/python3.12/site-packages/tsai/data/core.py:721\u001b[39m, in \u001b[36mNumpyDataLoader.show_batch\u001b[39m\u001b[34m(self, b, ctxs, max_n, nrows, ncols, figsize, unique, sharex, sharey, decode, show_title, **kwargs)\u001b[39m\n\u001b[32m    719\u001b[39m     b = \u001b[38;5;28mself\u001b[39m.unique_batch(max_n=max_n)\n\u001b[32m    720\u001b[39m     sharex, sharey = \u001b[38;5;28;01mTrue\u001b[39;00m, \u001b[38;5;28;01mTrue\u001b[39;00m\n\u001b[32m--> \u001b[39m\u001b[32m721\u001b[39m \u001b[38;5;28;01melif\u001b[39;00m b \u001b[38;5;129;01mis\u001b[39;00m \u001b[38;5;28;01mNone\u001b[39;00m: b = \u001b[38;5;28;43mself\u001b[39;49m\u001b[43m.\u001b[49m\u001b[43mone_batch\u001b[49m\u001b[43m(\u001b[49m\u001b[43m)\u001b[49m\n\u001b[32m    722\u001b[39m \u001b[38;5;28;01mif\u001b[39;00m \u001b[38;5;129;01mnot\u001b[39;00m decode:                                        \u001b[38;5;66;03m# decode = False allows you to see the data as seen by the model\u001b[39;00m\n\u001b[32m    723\u001b[39m     after_batch = \u001b[38;5;28mself\u001b[39m.after_batch\n",
            "\u001b[36mFile \u001b[39m\u001b[32m~/miniconda3/envs/mtsccleave/lib/python3.12/site-packages/fastai/data/load.py:189\u001b[39m, in \u001b[36mDataLoader.one_batch\u001b[39m\u001b[34m(self)\u001b[39m\n\u001b[32m    187\u001b[39m \u001b[38;5;28;01mdef\u001b[39;00m\u001b[38;5;250m \u001b[39m\u001b[34mone_batch\u001b[39m(\u001b[38;5;28mself\u001b[39m):\n\u001b[32m    188\u001b[39m     \u001b[38;5;28;01mif\u001b[39;00m \u001b[38;5;28mself\u001b[39m.n \u001b[38;5;129;01mis\u001b[39;00m \u001b[38;5;129;01mnot\u001b[39;00m \u001b[38;5;28;01mNone\u001b[39;00m \u001b[38;5;129;01mand\u001b[39;00m \u001b[38;5;28mlen\u001b[39m(\u001b[38;5;28mself\u001b[39m)==\u001b[32m0\u001b[39m: \u001b[38;5;28;01mraise\u001b[39;00m \u001b[38;5;167;01mValueError\u001b[39;00m(\u001b[33mf\u001b[39m\u001b[33m'\u001b[39m\u001b[33mThis DataLoader does not contain any batches\u001b[39m\u001b[33m'\u001b[39m)\n\u001b[32m--> \u001b[39m\u001b[32m189\u001b[39m     \u001b[38;5;28;01mwith\u001b[39;00m \u001b[38;5;28mself\u001b[39m.fake_l.no_multiproc(): res = \u001b[43mfirst\u001b[49m\u001b[43m(\u001b[49m\u001b[38;5;28;43mself\u001b[39;49m\u001b[43m)\u001b[49m\n\u001b[32m    190\u001b[39m     \u001b[38;5;28;01mif\u001b[39;00m \u001b[38;5;28mhasattr\u001b[39m(\u001b[38;5;28mself\u001b[39m, \u001b[33m'\u001b[39m\u001b[33mit\u001b[39m\u001b[33m'\u001b[39m): \u001b[38;5;28mdelattr\u001b[39m(\u001b[38;5;28mself\u001b[39m, \u001b[33m'\u001b[39m\u001b[33mit\u001b[39m\u001b[33m'\u001b[39m)\n\u001b[32m    191\u001b[39m     \u001b[38;5;28;01mreturn\u001b[39;00m res\n",
            "\u001b[36mFile \u001b[39m\u001b[32m~/miniconda3/envs/mtsccleave/lib/python3.12/site-packages/fastcore/basics.py:660\u001b[39m, in \u001b[36mfirst\u001b[39m\u001b[34m(x, f, negate, **kwargs)\u001b[39m\n\u001b[32m    658\u001b[39m x = \u001b[38;5;28miter\u001b[39m(x)\n\u001b[32m    659\u001b[39m \u001b[38;5;28;01mif\u001b[39;00m f: x = filter_ex(x, f=f, negate=negate, gen=\u001b[38;5;28;01mTrue\u001b[39;00m, **kwargs)\n\u001b[32m--> \u001b[39m\u001b[32m660\u001b[39m \u001b[38;5;28;01mreturn\u001b[39;00m \u001b[38;5;28;43mnext\u001b[39;49m\u001b[43m(\u001b[49m\u001b[43mx\u001b[49m\u001b[43m,\u001b[49m\u001b[43m \u001b[49m\u001b[38;5;28;43;01mNone\u001b[39;49;00m\u001b[43m)\u001b[49m\n",
            "\u001b[36mFile \u001b[39m\u001b[32m~/miniconda3/envs/mtsccleave/lib/python3.12/site-packages/fastai/data/load.py:133\u001b[39m, in \u001b[36mDataLoader.__iter__\u001b[39m\u001b[34m(self)\u001b[39m\n\u001b[32m    131\u001b[39m     \u001b[38;5;28;01mif\u001b[39;00m \u001b[38;5;28mself\u001b[39m.pin_memory \u001b[38;5;129;01mand\u001b[39;00m \u001b[38;5;28mtype\u001b[39m(b) == \u001b[38;5;28mlist\u001b[39m: b = \u001b[38;5;28mtuple\u001b[39m(b)\n\u001b[32m    132\u001b[39m     \u001b[38;5;28;01mif\u001b[39;00m \u001b[38;5;28mself\u001b[39m.device \u001b[38;5;129;01mis\u001b[39;00m \u001b[38;5;129;01mnot\u001b[39;00m \u001b[38;5;28;01mNone\u001b[39;00m: b = to_device(b, \u001b[38;5;28mself\u001b[39m.device)\n\u001b[32m--> \u001b[39m\u001b[32m133\u001b[39m     \u001b[38;5;28;01myield\u001b[39;00m \u001b[38;5;28;43mself\u001b[39;49m\u001b[43m.\u001b[49m\u001b[43mafter_batch\u001b[49m\u001b[43m(\u001b[49m\u001b[43mb\u001b[49m\u001b[43m)\u001b[49m\n\u001b[32m    134\u001b[39m \u001b[38;5;28mself\u001b[39m.after_iter()\n\u001b[32m    135\u001b[39m \u001b[38;5;28;01mif\u001b[39;00m \u001b[38;5;28mhasattr\u001b[39m(\u001b[38;5;28mself\u001b[39m, \u001b[33m'\u001b[39m\u001b[33mit\u001b[39m\u001b[33m'\u001b[39m): \u001b[38;5;28;01mdel\u001b[39;00m(\u001b[38;5;28mself\u001b[39m.it)\n",
            "\u001b[36mFile \u001b[39m\u001b[32m~/miniconda3/envs/mtsccleave/lib/python3.12/site-packages/fasttransform/transform.py:248\u001b[39m, in \u001b[36mPipeline.__call__\u001b[39m\u001b[34m(self, o)\u001b[39m\n\u001b[32m--> \u001b[39m\u001b[32m248\u001b[39m \u001b[38;5;28;01mdef\u001b[39;00m\u001b[38;5;250m \u001b[39m\u001b[34m__call__\u001b[39m(\u001b[38;5;28mself\u001b[39m, o): \u001b[38;5;28;01mreturn\u001b[39;00m \u001b[43mcompose_tfms\u001b[49m\u001b[43m(\u001b[49m\u001b[43mo\u001b[49m\u001b[43m,\u001b[49m\u001b[43m \u001b[49m\u001b[43mtfms\u001b[49m\u001b[43m=\u001b[49m\u001b[38;5;28;43mself\u001b[39;49m\u001b[43m.\u001b[49m\u001b[43mfs\u001b[49m\u001b[43m,\u001b[49m\u001b[43m \u001b[49m\u001b[43msplit_idx\u001b[49m\u001b[43m=\u001b[49m\u001b[38;5;28;43mself\u001b[39;49m\u001b[43m.\u001b[49m\u001b[43msplit_idx\u001b[49m\u001b[43m)\u001b[49m\n",
            "\u001b[36mFile \u001b[39m\u001b[32m~/miniconda3/envs/mtsccleave/lib/python3.12/site-packages/fasttransform/transform.py:197\u001b[39m, in \u001b[36mcompose_tfms\u001b[39m\u001b[34m(x, tfms, is_enc, reverse, **kwargs)\u001b[39m\n\u001b[32m    195\u001b[39m \u001b[38;5;28;01mfor\u001b[39;00m f \u001b[38;5;129;01min\u001b[39;00m tfms:\n\u001b[32m    196\u001b[39m     \u001b[38;5;28;01mif\u001b[39;00m \u001b[38;5;129;01mnot\u001b[39;00m is_enc: f = f.decode\n\u001b[32m--> \u001b[39m\u001b[32m197\u001b[39m     x = \u001b[43mf\u001b[49m\u001b[43m(\u001b[49m\u001b[43mx\u001b[49m\u001b[43m,\u001b[49m\u001b[43m \u001b[49m\u001b[43m*\u001b[49m\u001b[43m*\u001b[49m\u001b[43mkwargs\u001b[49m\u001b[43m)\u001b[49m\n\u001b[32m    198\u001b[39m \u001b[38;5;28;01mreturn\u001b[39;00m x\n",
            "\u001b[36mFile \u001b[39m\u001b[32m~/miniconda3/envs/mtsccleave/lib/python3.12/site-packages/fasttransform/transform.py:114\u001b[39m, in \u001b[36mTransform.__call__\u001b[39m\u001b[34m(self, split_idx, *args, **kwargs)\u001b[39m\n\u001b[32m--> \u001b[39m\u001b[32m114\u001b[39m \u001b[38;5;28;01mdef\u001b[39;00m\u001b[38;5;250m \u001b[39m\u001b[34m__call__\u001b[39m(\u001b[38;5;28mself\u001b[39m,*args,split_idx=\u001b[38;5;28;01mNone\u001b[39;00m, **kwargs): \u001b[38;5;28;01mreturn\u001b[39;00m \u001b[38;5;28;43mself\u001b[39;49m\u001b[43m.\u001b[49m\u001b[43m_call\u001b[49m\u001b[43m(\u001b[49m\u001b[33;43m'\u001b[39;49m\u001b[33;43mencodes\u001b[39;49m\u001b[33;43m'\u001b[39;49m\u001b[43m,\u001b[49m\u001b[43m \u001b[49m\u001b[43m*\u001b[49m\u001b[43margs\u001b[49m\u001b[43m,\u001b[49m\u001b[43m \u001b[49m\u001b[43msplit_idx\u001b[49m\u001b[43m=\u001b[49m\u001b[43msplit_idx\u001b[49m\u001b[43m,\u001b[49m\u001b[43m \u001b[49m\u001b[43m*\u001b[49m\u001b[43m*\u001b[49m\u001b[43mkwargs\u001b[49m\u001b[43m)\u001b[49m\n",
            "\u001b[36mFile \u001b[39m\u001b[32m~/miniconda3/envs/mtsccleave/lib/python3.12/site-packages/fasttransform/transform.py:125\u001b[39m, in \u001b[36mTransform._call\u001b[39m\u001b[34m(self, nm, split_idx, *args, **kwargs)\u001b[39m\n\u001b[32m    123\u001b[39m \u001b[38;5;28;01mif\u001b[39;00m split_idx!=\u001b[38;5;28mself\u001b[39m.split_idx \u001b[38;5;129;01mand\u001b[39;00m \u001b[38;5;28mself\u001b[39m.split_idx \u001b[38;5;129;01mis\u001b[39;00m \u001b[38;5;129;01mnot\u001b[39;00m \u001b[38;5;28;01mNone\u001b[39;00m: \u001b[38;5;28;01mreturn\u001b[39;00m args[\u001b[32m0\u001b[39m]\n\u001b[32m    124\u001b[39m \u001b[38;5;28;01mif\u001b[39;00m \u001b[38;5;129;01mnot\u001b[39;00m \u001b[38;5;28mhasattr\u001b[39m(\u001b[38;5;28mself\u001b[39m, nm): \u001b[38;5;28;01mreturn\u001b[39;00m args[\u001b[32m0\u001b[39m]\n\u001b[32m--> \u001b[39m\u001b[32m125\u001b[39m \u001b[38;5;28;01mreturn\u001b[39;00m \u001b[38;5;28;43mself\u001b[39;49m\u001b[43m.\u001b[49m\u001b[43m_do_call\u001b[49m\u001b[43m(\u001b[49m\u001b[43mnm\u001b[49m\u001b[43m,\u001b[49m\u001b[43m \u001b[49m\u001b[43m*\u001b[49m\u001b[43margs\u001b[49m\u001b[43m,\u001b[49m\u001b[43m \u001b[49m\u001b[43m*\u001b[49m\u001b[43m*\u001b[49m\u001b[43mkwargs\u001b[49m\u001b[43m)\u001b[49m\n",
            "\u001b[36mFile \u001b[39m\u001b[32m~/miniconda3/envs/mtsccleave/lib/python3.12/site-packages/fasttransform/transform.py:129\u001b[39m, in \u001b[36mTransform._do_call\u001b[39m\u001b[34m(self, nm, *args, **kwargs)\u001b[39m\n\u001b[32m    127\u001b[39m \u001b[38;5;28;01mdef\u001b[39;00m\u001b[38;5;250m \u001b[39m\u001b[34m_do_call\u001b[39m(\u001b[38;5;28mself\u001b[39m, nm, *args, **kwargs):\n\u001b[32m    128\u001b[39m     \u001b[38;5;28;01mif\u001b[39;00m _is_tuple(x:=args[\u001b[32m0\u001b[39m]): \n\u001b[32m--> \u001b[39m\u001b[32m129\u001b[39m         res = \u001b[38;5;28;43mtuple\u001b[39;49m\u001b[43m(\u001b[49m\u001b[38;5;28;43mself\u001b[39;49m\u001b[43m.\u001b[49m\u001b[43m_do_call\u001b[49m\u001b[43m(\u001b[49m\u001b[43mnm\u001b[49m\u001b[43m,\u001b[49m\u001b[43m \u001b[49m\u001b[43mx_\u001b[49m\u001b[43m,\u001b[49m\u001b[43m \u001b[49m\u001b[43m*\u001b[49m\u001b[43margs\u001b[49m\u001b[43m[\u001b[49m\u001b[32;43m1\u001b[39;49m\u001b[43m:\u001b[49m\u001b[43m]\u001b[49m\u001b[43m,\u001b[49m\u001b[43m \u001b[49m\u001b[43m*\u001b[49m\u001b[43m*\u001b[49m\u001b[43mkwargs\u001b[49m\u001b[43m)\u001b[49m\u001b[43m \u001b[49m\u001b[38;5;28;43;01mfor\u001b[39;49;00m\u001b[43m \u001b[49m\u001b[43mx_\u001b[49m\u001b[43m \u001b[49m\u001b[38;5;129;43;01min\u001b[39;49;00m\u001b[43m \u001b[49m\u001b[43mx\u001b[49m\u001b[43m)\u001b[49m\n\u001b[32m    130\u001b[39m         \u001b[38;5;28;01mreturn\u001b[39;00m retain_type(res, x, Any)\n\u001b[32m    131\u001b[39m     f = \u001b[38;5;28mgetattr\u001b[39m(\u001b[38;5;28mself\u001b[39m,nm)\n",
            "\u001b[36mFile \u001b[39m\u001b[32m~/miniconda3/envs/mtsccleave/lib/python3.12/site-packages/fasttransform/transform.py:129\u001b[39m, in \u001b[36m<genexpr>\u001b[39m\u001b[34m(.0)\u001b[39m\n\u001b[32m    127\u001b[39m \u001b[38;5;28;01mdef\u001b[39;00m\u001b[38;5;250m \u001b[39m\u001b[34m_do_call\u001b[39m(\u001b[38;5;28mself\u001b[39m, nm, *args, **kwargs):\n\u001b[32m    128\u001b[39m     \u001b[38;5;28;01mif\u001b[39;00m _is_tuple(x:=args[\u001b[32m0\u001b[39m]): \n\u001b[32m--> \u001b[39m\u001b[32m129\u001b[39m         res = \u001b[38;5;28mtuple\u001b[39m(\u001b[38;5;28;43mself\u001b[39;49m\u001b[43m.\u001b[49m\u001b[43m_do_call\u001b[49m\u001b[43m(\u001b[49m\u001b[43mnm\u001b[49m\u001b[43m,\u001b[49m\u001b[43m \u001b[49m\u001b[43mx_\u001b[49m\u001b[43m,\u001b[49m\u001b[43m \u001b[49m\u001b[43m*\u001b[49m\u001b[43margs\u001b[49m\u001b[43m[\u001b[49m\u001b[32;43m1\u001b[39;49m\u001b[43m:\u001b[49m\u001b[43m]\u001b[49m\u001b[43m,\u001b[49m\u001b[43m \u001b[49m\u001b[43m*\u001b[49m\u001b[43m*\u001b[49m\u001b[43mkwargs\u001b[49m\u001b[43m)\u001b[49m \u001b[38;5;28;01mfor\u001b[39;00m x_ \u001b[38;5;129;01min\u001b[39;00m x)\n\u001b[32m    130\u001b[39m         \u001b[38;5;28;01mreturn\u001b[39;00m retain_type(res, x, Any)\n\u001b[32m    131\u001b[39m     f = \u001b[38;5;28mgetattr\u001b[39m(\u001b[38;5;28mself\u001b[39m,nm)\n",
            "\u001b[36mFile \u001b[39m\u001b[32m~/miniconda3/envs/mtsccleave/lib/python3.12/site-packages/fasttransform/transform.py:136\u001b[39m, in \u001b[36mTransform._do_call\u001b[39m\u001b[34m(self, nm, *args, **kwargs)\u001b[39m\n\u001b[32m    134\u001b[39m \u001b[38;5;28;01mtry\u001b[39;00m: method, ret_type = f._resolve_method_with_cache(f_args)\n\u001b[32m    135\u001b[39m \u001b[38;5;28;01mexcept\u001b[39;00m NotFoundLookupError: \u001b[38;5;28;01mreturn\u001b[39;00m x\n\u001b[32m--> \u001b[39m\u001b[32m136\u001b[39m \u001b[38;5;28;01mreturn\u001b[39;00m retain_type(\u001b[43mmethod\u001b[49m\u001b[43m(\u001b[49m\u001b[43m*\u001b[49m\u001b[43mf_args\u001b[49m\u001b[43m,\u001b[49m\u001b[43m*\u001b[49m\u001b[43m*\u001b[49m\u001b[43mkwargs\u001b[49m\u001b[43m)\u001b[49m, x, ret_type)\n",
            "\u001b[36mFile \u001b[39m\u001b[32m~/miniconda3/envs/mtsccleave/lib/python3.12/site-packages/fasttransform/transform.py:100\u001b[39m, in \u001b[36mTransform.__init__.<locals>.wrapped_enc\u001b[39m\u001b[34m(*args, **kwargs)\u001b[39m\n\u001b[32m--> \u001b[39m\u001b[32m100\u001b[39m \u001b[38;5;28;01mdef\u001b[39;00m\u001b[38;5;250m \u001b[39m\u001b[34mwrapped_enc\u001b[39m(*args,**kwargs): \u001b[38;5;28;01mreturn\u001b[39;00m \u001b[43mf\u001b[49m\u001b[43m(\u001b[49m\u001b[43m*\u001b[49m\u001b[43margs\u001b[49m\u001b[43m,\u001b[49m\u001b[43m*\u001b[49m\u001b[43m*\u001b[49m\u001b[43mkwargs\u001b[49m\u001b[43m)\u001b[49m\n",
            "\u001b[36mFile \u001b[39m\u001b[32m~/miniconda3/envs/mtsccleave/lib/python3.12/site-packages/fastcore/transform.py:208\u001b[39m, in \u001b[36mPipeline.__call__\u001b[39m\u001b[34m(self, o)\u001b[39m\n\u001b[32m--> \u001b[39m\u001b[32m208\u001b[39m \u001b[38;5;28;01mdef\u001b[39;00m\u001b[38;5;250m \u001b[39m\u001b[34m__call__\u001b[39m(\u001b[38;5;28mself\u001b[39m, o): \u001b[38;5;28;01mreturn\u001b[39;00m \u001b[43mcompose_tfms\u001b[49m\u001b[43m(\u001b[49m\u001b[43mo\u001b[49m\u001b[43m,\u001b[49m\u001b[43m \u001b[49m\u001b[43mtfms\u001b[49m\u001b[43m=\u001b[49m\u001b[38;5;28;43mself\u001b[39;49m\u001b[43m.\u001b[49m\u001b[43mfs\u001b[49m\u001b[43m,\u001b[49m\u001b[43m \u001b[49m\u001b[43msplit_idx\u001b[49m\u001b[43m=\u001b[49m\u001b[38;5;28;43mself\u001b[39;49m\u001b[43m.\u001b[49m\u001b[43msplit_idx\u001b[49m\u001b[43m)\u001b[49m\n",
            "\u001b[36mFile \u001b[39m\u001b[32m~/miniconda3/envs/mtsccleave/lib/python3.12/site-packages/fastcore/transform.py:158\u001b[39m, in \u001b[36mcompose_tfms\u001b[39m\u001b[34m(x, tfms, is_enc, reverse, **kwargs)\u001b[39m\n\u001b[32m    156\u001b[39m \u001b[38;5;28;01mfor\u001b[39;00m f \u001b[38;5;129;01min\u001b[39;00m tfms:\n\u001b[32m    157\u001b[39m     \u001b[38;5;28;01mif\u001b[39;00m \u001b[38;5;129;01mnot\u001b[39;00m is_enc: f = f.decode\n\u001b[32m--> \u001b[39m\u001b[32m158\u001b[39m     x = \u001b[43mf\u001b[49m\u001b[43m(\u001b[49m\u001b[43mx\u001b[49m\u001b[43m,\u001b[49m\u001b[43m \u001b[49m\u001b[43m*\u001b[49m\u001b[43m*\u001b[49m\u001b[43mkwargs\u001b[49m\u001b[43m)\u001b[49m\n\u001b[32m    159\u001b[39m \u001b[38;5;28;01mreturn\u001b[39;00m x\n",
            "\u001b[36mFile \u001b[39m\u001b[32m~/miniconda3/envs/mtsccleave/lib/python3.12/site-packages/fastcore/transform.py:81\u001b[39m, in \u001b[36mTransform.__call__\u001b[39m\u001b[34m(self, x, **kwargs)\u001b[39m\n\u001b[32m---> \u001b[39m\u001b[32m81\u001b[39m \u001b[38;5;28;01mdef\u001b[39;00m\u001b[38;5;250m \u001b[39m\u001b[34m__call__\u001b[39m(\u001b[38;5;28mself\u001b[39m, x, **kwargs): \u001b[38;5;28;01mreturn\u001b[39;00m \u001b[38;5;28;43mself\u001b[39;49m\u001b[43m.\u001b[49m\u001b[43m_call\u001b[49m\u001b[43m(\u001b[49m\u001b[33;43m'\u001b[39;49m\u001b[33;43mencodes\u001b[39;49m\u001b[33;43m'\u001b[39;49m\u001b[43m,\u001b[49m\u001b[43m \u001b[49m\u001b[43mx\u001b[49m\u001b[43m,\u001b[49m\u001b[43m \u001b[49m\u001b[43m*\u001b[49m\u001b[43m*\u001b[49m\u001b[43mkwargs\u001b[49m\u001b[43m)\u001b[49m\n",
            "\u001b[36mFile \u001b[39m\u001b[32m~/miniconda3/envs/mtsccleave/lib/python3.12/site-packages/fastcore/transform.py:91\u001b[39m, in \u001b[36mTransform._call\u001b[39m\u001b[34m(self, fn, x, split_idx, **kwargs)\u001b[39m\n\u001b[32m     89\u001b[39m \u001b[38;5;28;01mdef\u001b[39;00m\u001b[38;5;250m \u001b[39m\u001b[34m_call\u001b[39m(\u001b[38;5;28mself\u001b[39m, fn, x, split_idx=\u001b[38;5;28;01mNone\u001b[39;00m, **kwargs):\n\u001b[32m     90\u001b[39m     \u001b[38;5;28;01mif\u001b[39;00m split_idx!=\u001b[38;5;28mself\u001b[39m.split_idx \u001b[38;5;129;01mand\u001b[39;00m \u001b[38;5;28mself\u001b[39m.split_idx \u001b[38;5;129;01mis\u001b[39;00m \u001b[38;5;129;01mnot\u001b[39;00m \u001b[38;5;28;01mNone\u001b[39;00m: \u001b[38;5;28;01mreturn\u001b[39;00m x\n\u001b[32m---> \u001b[39m\u001b[32m91\u001b[39m     \u001b[38;5;28;01mreturn\u001b[39;00m \u001b[38;5;28;43mself\u001b[39;49m\u001b[43m.\u001b[49m\u001b[43m_do_call\u001b[49m\u001b[43m(\u001b[49m\u001b[38;5;28;43mgetattr\u001b[39;49m\u001b[43m(\u001b[49m\u001b[38;5;28;43mself\u001b[39;49m\u001b[43m,\u001b[49m\u001b[43m \u001b[49m\u001b[43mfn\u001b[49m\u001b[43m)\u001b[49m\u001b[43m,\u001b[49m\u001b[43m \u001b[49m\u001b[43mx\u001b[49m\u001b[43m,\u001b[49m\u001b[43m \u001b[49m\u001b[43m*\u001b[49m\u001b[43m*\u001b[49m\u001b[43mkwargs\u001b[49m\u001b[43m)\u001b[49m\n",
            "\u001b[36mFile \u001b[39m\u001b[32m~/miniconda3/envs/mtsccleave/lib/python3.12/site-packages/fastcore/transform.py:97\u001b[39m, in \u001b[36mTransform._do_call\u001b[39m\u001b[34m(self, f, x, **kwargs)\u001b[39m\n\u001b[32m     95\u001b[39m     \u001b[38;5;28;01mif\u001b[39;00m f \u001b[38;5;129;01mis\u001b[39;00m \u001b[38;5;28;01mNone\u001b[39;00m: \u001b[38;5;28;01mreturn\u001b[39;00m x\n\u001b[32m     96\u001b[39m     ret = f.returns(x) \u001b[38;5;28;01mif\u001b[39;00m \u001b[38;5;28mhasattr\u001b[39m(f,\u001b[33m'\u001b[39m\u001b[33mreturns\u001b[39m\u001b[33m'\u001b[39m) \u001b[38;5;28;01melse\u001b[39;00m \u001b[38;5;28;01mNone\u001b[39;00m\n\u001b[32m---> \u001b[39m\u001b[32m97\u001b[39m     \u001b[38;5;28;01mreturn\u001b[39;00m retain_type(\u001b[43mf\u001b[49m\u001b[43m(\u001b[49m\u001b[43mx\u001b[49m\u001b[43m,\u001b[49m\u001b[43m \u001b[49m\u001b[43m*\u001b[49m\u001b[43m*\u001b[49m\u001b[43mkwargs\u001b[49m\u001b[43m)\u001b[49m, x, ret)\n\u001b[32m     98\u001b[39m res = \u001b[38;5;28mtuple\u001b[39m(\u001b[38;5;28mself\u001b[39m._do_call(f, x_, **kwargs) \u001b[38;5;28;01mfor\u001b[39;00m x_ \u001b[38;5;129;01min\u001b[39;00m x)\n\u001b[32m     99\u001b[39m \u001b[38;5;28;01mreturn\u001b[39;00m retain_type(res, x)\n",
            "\u001b[36mFile \u001b[39m\u001b[32m~/miniconda3/envs/mtsccleave/lib/python3.12/site-packages/fastcore/dispatch.py:120\u001b[39m, in \u001b[36mTypeDispatch.__call__\u001b[39m\u001b[34m(self, *args, **kwargs)\u001b[39m\n\u001b[32m    118\u001b[39m \u001b[38;5;28;01melif\u001b[39;00m \u001b[38;5;28mself\u001b[39m.inst \u001b[38;5;129;01mis\u001b[39;00m \u001b[38;5;129;01mnot\u001b[39;00m \u001b[38;5;28;01mNone\u001b[39;00m: f = MethodType(f, \u001b[38;5;28mself\u001b[39m.inst)\n\u001b[32m    119\u001b[39m \u001b[38;5;28;01melif\u001b[39;00m \u001b[38;5;28mself\u001b[39m.owner \u001b[38;5;129;01mis\u001b[39;00m \u001b[38;5;129;01mnot\u001b[39;00m \u001b[38;5;28;01mNone\u001b[39;00m: f = MethodType(f, \u001b[38;5;28mself\u001b[39m.owner)\n\u001b[32m--> \u001b[39m\u001b[32m120\u001b[39m \u001b[38;5;28;01mreturn\u001b[39;00m \u001b[43mf\u001b[49m\u001b[43m(\u001b[49m\u001b[43m*\u001b[49m\u001b[43margs\u001b[49m\u001b[43m,\u001b[49m\u001b[43m \u001b[49m\u001b[43m*\u001b[49m\u001b[43m*\u001b[49m\u001b[43mkwargs\u001b[49m\u001b[43m)\u001b[49m\n",
            "\u001b[36mFile \u001b[39m\u001b[32m~/miniconda3/envs/mtsccleave/lib/python3.12/site-packages/tsai/data/preprocessing.py:201\u001b[39m, in \u001b[36mTSStandardize.encodes\u001b[39m\u001b[34m(self, o)\u001b[39m\n\u001b[32m    199\u001b[39m         std[:, \u001b[38;5;28mself\u001b[39m.exc_vars] = \u001b[32m1.\u001b[39m\n\u001b[32m    200\u001b[39m     \u001b[38;5;28mself\u001b[39m.mean, \u001b[38;5;28mself\u001b[39m.std = mean, std\n\u001b[32m--> \u001b[39m\u001b[32m201\u001b[39m \u001b[38;5;28;01mreturn\u001b[39;00m (\u001b[43mo\u001b[49m\u001b[43m \u001b[49m\u001b[43m-\u001b[49m\u001b[43m \u001b[49m\u001b[38;5;28;43mself\u001b[39;49m\u001b[43m.\u001b[49m\u001b[43mmean\u001b[49m) / \u001b[38;5;28mself\u001b[39m.std\n",
            "\u001b[31mTypeError\u001b[39m: unsupported operand type(s) for -: 'TSTensor' and 'NoneType'"
          ]
        },
        {
          "name": "stderr",
          "output_type": "stream",
          "text": [
            "Exception ignored in: <function ResourceTracker.__del__ at 0x103376480>\n",
            "Traceback (most recent call last):\n",
            "  File \"/Users/cyuab/miniconda3/envs/mtsccleave/lib/python3.12/multiprocessing/resource_tracker.py\", line 77, in __del__\n",
            "  File \"/Users/cyuab/miniconda3/envs/mtsccleave/lib/python3.12/multiprocessing/resource_tracker.py\", line 86, in _stop\n",
            "  File \"/Users/cyuab/miniconda3/envs/mtsccleave/lib/python3.12/multiprocessing/resource_tracker.py\", line 111, in _stop_locked\n",
            "ChildProcessError: [Errno 10] No child processes\n",
            "Exception ignored in: <function ResourceTracker.__del__ at 0x112066480>\n",
            "Traceback (most recent call last):\n",
            "  File \"/Users/cyuab/miniconda3/envs/mtsccleave/lib/python3.12/multiprocessing/resource_tracker.py\", line 77, in __del__\n",
            "  File \"/Users/cyuab/miniconda3/envs/mtsccleave/lib/python3.12/multiprocessing/resource_tracker.py\", line 86, in _stop\n",
            "  File \"/Users/cyuab/miniconda3/envs/mtsccleave/lib/python3.12/multiprocessing/resource_tracker.py\", line 111, in _stop_locked\n",
            "ChildProcessError: [Errno 10] No child processes\n",
            "Exception ignored in: <function ResourceTracker.__del__ at 0x106da6480>\n",
            "Traceback (most recent call last):\n",
            "  File \"/Users/cyuab/miniconda3/envs/mtsccleave/lib/python3.12/multiprocessing/resource_tracker.py\", line 77, in __del__\n",
            "  File \"/Users/cyuab/miniconda3/envs/mtsccleave/lib/python3.12/multiprocessing/resource_tracker.py\", line 86, in _stop\n",
            "  File \"/Users/cyuab/miniconda3/envs/mtsccleave/lib/python3.12/multiprocessing/resource_tracker.py\", line 111, in _stop_locked\n",
            "ChildProcessError: [Errno 10] No child processes\n",
            "Exception ignored in: <function ResourceTracker.__del__ at 0x10445a480>\n",
            "Traceback (most recent call last):\n",
            "  File \"/Users/cyuab/miniconda3/envs/mtsccleave/lib/python3.12/multiprocessing/resource_tracker.py\", line 77, in __del__\n",
            "  File \"/Users/cyuab/miniconda3/envs/mtsccleave/lib/python3.12/multiprocessing/resource_tracker.py\", line 86, in _stop\n",
            "  File \"/Users/cyuab/miniconda3/envs/mtsccleave/lib/python3.12/multiprocessing/resource_tracker.py\", line 111, in _stop_locked\n",
            "ChildProcessError: [Errno 10] No child processes\n",
            "Exception ignored in: <function ResourceTracker.__del__ at 0x106dd6480>\n",
            "Traceback (most recent call last):\n",
            "  File \"/Users/cyuab/miniconda3/envs/mtsccleave/lib/python3.12/multiprocessing/resource_tracker.py\", line 77, in __del__\n",
            "  File \"/Users/cyuab/miniconda3/envs/mtsccleave/lib/python3.12/multiprocessing/resource_tracker.py\", line 86, in _stop\n",
            "  File \"/Users/cyuab/miniconda3/envs/mtsccleave/lib/python3.12/multiprocessing/resource_tracker.py\", line 111, in _stop_locked\n",
            "ChildProcessError: [Errno 10] No child processes\n",
            "Exception ignored in: <function ResourceTracker.__del__ at 0x106d12480>\n",
            "Traceback (most recent call last):\n",
            "  File \"/Users/cyuab/miniconda3/envs/mtsccleave/lib/python3.12/multiprocessing/resource_tracker.py\", line 77, in __del__\n",
            "  File \"/Users/cyuab/miniconda3/envs/mtsccleave/lib/python3.12/multiprocessing/resource_tracker.py\", line 86, in _stop\n",
            "  File \"/Users/cyuab/miniconda3/envs/mtsccleave/lib/python3.12/multiprocessing/resource_tracker.py\", line 111, in _stop_locked\n",
            "ChildProcessError: [Errno 10] No child processes\n",
            "Exception ignored in: <function ResourceTracker.__del__ at 0x104146480>\n",
            "Traceback (most recent call last):\n",
            "  File \"/Users/cyuab/miniconda3/envs/mtsccleave/lib/python3.12/multiprocessing/resource_tracker.py\", line 77, in __del__\n",
            "  File \"/Users/cyuab/miniconda3/envs/mtsccleave/lib/python3.12/multiprocessing/resource_tracker.py\", line 86, in _stop\n",
            "  File \"/Users/cyuab/miniconda3/envs/mtsccleave/lib/python3.12/multiprocessing/resource_tracker.py\", line 111, in _stop_locked\n",
            "ChildProcessError: [Errno 10] No child processes\n",
            "Exception ignored in: <function ResourceTracker.__del__ at 0x104772480>\n",
            "Traceback (most recent call last):\n",
            "  File \"/Users/cyuab/miniconda3/envs/mtsccleave/lib/python3.12/multiprocessing/resource_tracker.py\", line 77, in __del__\n",
            "  File \"/Users/cyuab/miniconda3/envs/mtsccleave/lib/python3.12/multiprocessing/resource_tracker.py\", line 86, in _stop\n",
            "  File \"/Users/cyuab/miniconda3/envs/mtsccleave/lib/python3.12/multiprocessing/resource_tracker.py\", line 111, in _stop_locked\n",
            "ChildProcessError: [Errno 10] No child processes\n"
          ]
        }
      ],
      "source": [
        "tfms  = [None, [Categorize()]]\n",
        "dsets = TSDatasets(X, y, tfms=tfms, splits=splits)\n",
        "dls   = TSDataLoaders.from_dsets(dsets.train, dsets.valid, bs=128, batch_tfms=[TSStandardize(by_var=True)])# per feature normalization\n",
        "dls.show_batch()"
      ]
    },
    {
      "cell_type": "code",
      "execution_count": null,
      "metadata": {
        "id": "kajuogB1lr0a"
      },
      "outputs": [],
      "source": [
        "def lin_zero_init(layer):\n",
        "    if isinstance(layer, nn.Linear):\n",
        "        nn.init.constant_(layer.weight.data, 0.)\n",
        "        if layer.bias is not None: nn.init.constant_(layer.bias.data, 0.)"
      ]
    },
    {
      "cell_type": "code",
      "execution_count": null,
      "metadata": {
        "id": "NkqiZYCplr0a",
        "outputId": "7d48b2e2-dc99-4c0f-ba66-138625f982eb"
      },
      "outputs": [
        {
          "data": {
            "text/html": [
              "\n",
              "<style>\n",
              "    /* Turns off some styling */\n",
              "    progress {\n",
              "        /* gets rid of default border in Firefox and Opera. */\n",
              "        border: none;\n",
              "        /* Needs to be in here for Safari polyfill so background images work as expected. */\n",
              "        background-size: auto;\n",
              "    }\n",
              "    progress:not([value]), progress:not([value])::-webkit-progress-bar {\n",
              "        background: repeating-linear-gradient(45deg, #7e7e7e, #7e7e7e 10px, #5c5c5c 10px, #5c5c5c 20px);\n",
              "    }\n",
              "    .progress-bar-interrupted, .progress-bar-interrupted::-webkit-progress-bar {\n",
              "        background: #F44336;\n",
              "    }\n",
              "</style>\n"
            ],
            "text/plain": [
              "<IPython.core.display.HTML object>"
            ]
          },
          "metadata": {},
          "output_type": "display_data"
        },
        {
          "data": {
            "text/html": [
              "<table border=\"1\" class=\"dataframe\">\n",
              "  <thead>\n",
              "    <tr style=\"text-align: left;\">\n",
              "      <th>epoch</th>\n",
              "      <th>train_loss</th>\n",
              "      <th>valid_loss</th>\n",
              "      <th>accuracy</th>\n",
              "      <th>time</th>\n",
              "    </tr>\n",
              "  </thead>\n",
              "  <tbody>\n",
              "    <tr>\n",
              "      <td>0</td>\n",
              "      <td>1.386294</td>\n",
              "      <td>1.408996</td>\n",
              "      <td>0.189189</td>\n",
              "      <td>00:00</td>\n",
              "    </tr>\n",
              "    <tr>\n",
              "      <td>1</td>\n",
              "      <td>1.386957</td>\n",
              "      <td>1.416851</td>\n",
              "      <td>0.202703</td>\n",
              "      <td>00:00</td>\n",
              "    </tr>\n",
              "    <tr>\n",
              "      <td>2</td>\n",
              "      <td>1.387878</td>\n",
              "      <td>1.406260</td>\n",
              "      <td>0.202703</td>\n",
              "      <td>00:00</td>\n",
              "    </tr>\n",
              "    <tr>\n",
              "      <td>3</td>\n",
              "      <td>1.387230</td>\n",
              "      <td>1.392632</td>\n",
              "      <td>0.202703</td>\n",
              "      <td>00:00</td>\n",
              "    </tr>\n",
              "    <tr>\n",
              "      <td>4</td>\n",
              "      <td>1.386742</td>\n",
              "      <td>1.364293</td>\n",
              "      <td>0.202703</td>\n",
              "      <td>00:00</td>\n",
              "    </tr>\n",
              "    <tr>\n",
              "      <td>5</td>\n",
              "      <td>1.386459</td>\n",
              "      <td>1.352235</td>\n",
              "      <td>0.405405</td>\n",
              "      <td>00:00</td>\n",
              "    </tr>\n",
              "    <tr>\n",
              "      <td>6</td>\n",
              "      <td>1.387222</td>\n",
              "      <td>1.377085</td>\n",
              "      <td>0.310811</td>\n",
              "      <td>00:00</td>\n",
              "    </tr>\n",
              "    <tr>\n",
              "      <td>7</td>\n",
              "      <td>1.384431</td>\n",
              "      <td>1.409551</td>\n",
              "      <td>0.202703</td>\n",
              "      <td>00:00</td>\n",
              "    </tr>\n",
              "    <tr>\n",
              "      <td>8</td>\n",
              "      <td>1.382965</td>\n",
              "      <td>1.383275</td>\n",
              "      <td>0.216216</td>\n",
              "      <td>00:00</td>\n",
              "    </tr>\n",
              "    <tr>\n",
              "      <td>9</td>\n",
              "      <td>1.379280</td>\n",
              "      <td>1.375444</td>\n",
              "      <td>0.202703</td>\n",
              "      <td>00:00</td>\n",
              "    </tr>\n",
              "    <tr>\n",
              "      <td>10</td>\n",
              "      <td>1.376708</td>\n",
              "      <td>1.369349</td>\n",
              "      <td>0.229730</td>\n",
              "      <td>00:00</td>\n",
              "    </tr>\n",
              "    <tr>\n",
              "      <td>11</td>\n",
              "      <td>1.373009</td>\n",
              "      <td>1.424380</td>\n",
              "      <td>0.202703</td>\n",
              "      <td>00:00</td>\n",
              "    </tr>\n",
              "    <tr>\n",
              "      <td>12</td>\n",
              "      <td>1.369465</td>\n",
              "      <td>1.347130</td>\n",
              "      <td>0.445946</td>\n",
              "      <td>00:00</td>\n",
              "    </tr>\n",
              "    <tr>\n",
              "      <td>13</td>\n",
              "      <td>1.364685</td>\n",
              "      <td>1.349344</td>\n",
              "      <td>0.351351</td>\n",
              "      <td>00:00</td>\n",
              "    </tr>\n",
              "    <tr>\n",
              "      <td>14</td>\n",
              "      <td>1.359562</td>\n",
              "      <td>1.355861</td>\n",
              "      <td>0.337838</td>\n",
              "      <td>00:00</td>\n",
              "    </tr>\n",
              "    <tr>\n",
              "      <td>15</td>\n",
              "      <td>1.353657</td>\n",
              "      <td>1.368653</td>\n",
              "      <td>0.283784</td>\n",
              "      <td>00:00</td>\n",
              "    </tr>\n",
              "    <tr>\n",
              "      <td>16</td>\n",
              "      <td>1.347755</td>\n",
              "      <td>1.368211</td>\n",
              "      <td>0.324324</td>\n",
              "      <td>00:00</td>\n",
              "    </tr>\n",
              "    <tr>\n",
              "      <td>17</td>\n",
              "      <td>1.341900</td>\n",
              "      <td>1.388963</td>\n",
              "      <td>0.216216</td>\n",
              "      <td>00:00</td>\n",
              "    </tr>\n",
              "    <tr>\n",
              "      <td>18</td>\n",
              "      <td>1.335846</td>\n",
              "      <td>1.323503</td>\n",
              "      <td>0.432432</td>\n",
              "      <td>00:00</td>\n",
              "    </tr>\n",
              "    <tr>\n",
              "      <td>19</td>\n",
              "      <td>1.329689</td>\n",
              "      <td>1.348774</td>\n",
              "      <td>0.283784</td>\n",
              "      <td>00:00</td>\n",
              "    </tr>\n",
              "    <tr>\n",
              "      <td>20</td>\n",
              "      <td>1.325552</td>\n",
              "      <td>1.420805</td>\n",
              "      <td>0.229730</td>\n",
              "      <td>00:00</td>\n",
              "    </tr>\n",
              "    <tr>\n",
              "      <td>21</td>\n",
              "      <td>1.319648</td>\n",
              "      <td>1.414717</td>\n",
              "      <td>0.229730</td>\n",
              "      <td>00:00</td>\n",
              "    </tr>\n",
              "    <tr>\n",
              "      <td>22</td>\n",
              "      <td>1.314585</td>\n",
              "      <td>1.324103</td>\n",
              "      <td>0.445946</td>\n",
              "      <td>00:00</td>\n",
              "    </tr>\n",
              "    <tr>\n",
              "      <td>23</td>\n",
              "      <td>1.308463</td>\n",
              "      <td>1.329270</td>\n",
              "      <td>0.391892</td>\n",
              "      <td>00:00</td>\n",
              "    </tr>\n",
              "    <tr>\n",
              "      <td>24</td>\n",
              "      <td>1.302946</td>\n",
              "      <td>1.367105</td>\n",
              "      <td>0.310811</td>\n",
              "      <td>00:00</td>\n",
              "    </tr>\n",
              "    <tr>\n",
              "      <td>25</td>\n",
              "      <td>1.296695</td>\n",
              "      <td>1.403357</td>\n",
              "      <td>0.270270</td>\n",
              "      <td>00:00</td>\n",
              "    </tr>\n",
              "    <tr>\n",
              "      <td>26</td>\n",
              "      <td>1.290560</td>\n",
              "      <td>1.389852</td>\n",
              "      <td>0.243243</td>\n",
              "      <td>00:00</td>\n",
              "    </tr>\n",
              "    <tr>\n",
              "      <td>27</td>\n",
              "      <td>1.284906</td>\n",
              "      <td>1.335073</td>\n",
              "      <td>0.378378</td>\n",
              "      <td>00:00</td>\n",
              "    </tr>\n",
              "    <tr>\n",
              "      <td>28</td>\n",
              "      <td>1.278813</td>\n",
              "      <td>1.302893</td>\n",
              "      <td>0.459459</td>\n",
              "      <td>00:00</td>\n",
              "    </tr>\n",
              "    <tr>\n",
              "      <td>29</td>\n",
              "      <td>1.273061</td>\n",
              "      <td>1.313337</td>\n",
              "      <td>0.486486</td>\n",
              "      <td>00:00</td>\n",
              "    </tr>\n",
              "    <tr>\n",
              "      <td>30</td>\n",
              "      <td>1.267115</td>\n",
              "      <td>1.342506</td>\n",
              "      <td>0.405405</td>\n",
              "      <td>00:00</td>\n",
              "    </tr>\n",
              "    <tr>\n",
              "      <td>31</td>\n",
              "      <td>1.261160</td>\n",
              "      <td>1.366756</td>\n",
              "      <td>0.310811</td>\n",
              "      <td>00:00</td>\n",
              "    </tr>\n",
              "    <tr>\n",
              "      <td>32</td>\n",
              "      <td>1.255165</td>\n",
              "      <td>1.387934</td>\n",
              "      <td>0.256757</td>\n",
              "      <td>00:00</td>\n",
              "    </tr>\n",
              "    <tr>\n",
              "      <td>33</td>\n",
              "      <td>1.249634</td>\n",
              "      <td>1.376279</td>\n",
              "      <td>0.310811</td>\n",
              "      <td>00:00</td>\n",
              "    </tr>\n",
              "    <tr>\n",
              "      <td>34</td>\n",
              "      <td>1.244186</td>\n",
              "      <td>1.353527</td>\n",
              "      <td>0.324324</td>\n",
              "      <td>00:00</td>\n",
              "    </tr>\n",
              "    <tr>\n",
              "      <td>35</td>\n",
              "      <td>1.238805</td>\n",
              "      <td>1.329386</td>\n",
              "      <td>0.391892</td>\n",
              "      <td>00:00</td>\n",
              "    </tr>\n",
              "    <tr>\n",
              "      <td>36</td>\n",
              "      <td>1.233417</td>\n",
              "      <td>1.314354</td>\n",
              "      <td>0.486486</td>\n",
              "      <td>00:00</td>\n",
              "    </tr>\n",
              "    <tr>\n",
              "      <td>37</td>\n",
              "      <td>1.228009</td>\n",
              "      <td>1.304554</td>\n",
              "      <td>0.459459</td>\n",
              "      <td>00:00</td>\n",
              "    </tr>\n",
              "    <tr>\n",
              "      <td>38</td>\n",
              "      <td>1.222676</td>\n",
              "      <td>1.300016</td>\n",
              "      <td>0.472973</td>\n",
              "      <td>00:00</td>\n",
              "    </tr>\n",
              "    <tr>\n",
              "      <td>39</td>\n",
              "      <td>1.217936</td>\n",
              "      <td>1.302480</td>\n",
              "      <td>0.472973</td>\n",
              "      <td>00:00</td>\n",
              "    </tr>\n",
              "    <tr>\n",
              "      <td>40</td>\n",
              "      <td>1.213271</td>\n",
              "      <td>1.308691</td>\n",
              "      <td>0.486486</td>\n",
              "      <td>00:00</td>\n",
              "    </tr>\n",
              "    <tr>\n",
              "      <td>41</td>\n",
              "      <td>1.208589</td>\n",
              "      <td>1.316804</td>\n",
              "      <td>0.405405</td>\n",
              "      <td>00:00</td>\n",
              "    </tr>\n",
              "    <tr>\n",
              "      <td>42</td>\n",
              "      <td>1.204154</td>\n",
              "      <td>1.324514</td>\n",
              "      <td>0.364865</td>\n",
              "      <td>00:00</td>\n",
              "    </tr>\n",
              "    <tr>\n",
              "      <td>43</td>\n",
              "      <td>1.199818</td>\n",
              "      <td>1.331150</td>\n",
              "      <td>0.391892</td>\n",
              "      <td>00:00</td>\n",
              "    </tr>\n",
              "    <tr>\n",
              "      <td>44</td>\n",
              "      <td>1.195905</td>\n",
              "      <td>1.335782</td>\n",
              "      <td>0.378378</td>\n",
              "      <td>00:00</td>\n",
              "    </tr>\n",
              "    <tr>\n",
              "      <td>45</td>\n",
              "      <td>1.191937</td>\n",
              "      <td>1.338519</td>\n",
              "      <td>0.351351</td>\n",
              "      <td>00:00</td>\n",
              "    </tr>\n",
              "    <tr>\n",
              "      <td>46</td>\n",
              "      <td>1.187629</td>\n",
              "      <td>1.340027</td>\n",
              "      <td>0.337838</td>\n",
              "      <td>00:00</td>\n",
              "    </tr>\n",
              "    <tr>\n",
              "      <td>47</td>\n",
              "      <td>1.183921</td>\n",
              "      <td>1.340437</td>\n",
              "      <td>0.337838</td>\n",
              "      <td>00:00</td>\n",
              "    </tr>\n",
              "    <tr>\n",
              "      <td>48</td>\n",
              "      <td>1.180455</td>\n",
              "      <td>1.340518</td>\n",
              "      <td>0.337838</td>\n",
              "      <td>00:00</td>\n",
              "    </tr>\n",
              "    <tr>\n",
              "      <td>49</td>\n",
              "      <td>1.177170</td>\n",
              "      <td>1.340513</td>\n",
              "      <td>0.337838</td>\n",
              "      <td>00:00</td>\n",
              "    </tr>\n",
              "  </tbody>\n",
              "</table>"
            ],
            "text/plain": [
              "<IPython.core.display.HTML object>"
            ]
          },
          "metadata": {},
          "output_type": "display_data"
        },
        {
          "data": {
            "image/png": "[encoded data removed]",
            "text/plain": [
              "<Figure size 432x288 with 1 Axes>"
            ]
          },
          "metadata": {},
          "output_type": "display_data"
        },
        {
          "data": {
            "image/png": "[encoded data removed]",
            "text/plain": [
              "<Figure size 1440x288 with 3 Axes>"
            ]
          },
          "metadata": {
            "needs_background": "light"
          },
          "output_type": "display_data"
        },
        {
          "data": {
            "image/png": "[encoded data removed]",
            "text/plain": [
              "<Figure size 1440x288 with 3 Axes>"
            ]
          },
          "metadata": {
            "needs_background": "light"
          },
          "output_type": "display_data"
        }
      ],
      "source": [
        "model = create_mlp_head(dls.vars, dls.c, dls.len)\n",
        "model.apply(lin_zero_init)\n",
        "learn = Learner(dls, model, metrics=accuracy, cbs=ShowGraph())\n",
        "learn.fit_one_cycle(50, lr_max=1e-4)\n",
        "learn.plot_metrics()"
      ]
    },
    {
      "cell_type": "markdown",
      "metadata": {
        "id": "CykFc9Nblr0b"
      },
      "source": [
        "#### XGBoost"
      ]
    },
    {
      "cell_type": "code",
      "execution_count": null,
      "metadata": {
        "id": "wjQavJPSlr0b",
        "outputId": "b6216b7d-6054-4586-d166-80d85e5c3dd8"
      },
      "outputs": [
        {
          "data": {
            "text/plain": [
              "0.43243243243243246"
            ]
          },
          "execution_count": null,
          "metadata": {},
          "output_type": "execute_result"
        }
      ],
      "source": [
        "eps = 1e-6\n",
        "\n",
        "# normalize 'per feature'\n",
        "f_mean = X_train.mean(axis=0, keepdims=True)\n",
        "f_std = X_train.std(axis=0, keepdims=True) + eps\n",
        "X_train_norm = (X_train - f_mean) / f_std\n",
        "X_valid_norm = (X_valid - f_mean) / f_std\n",
        "\n",
        "import xgboost as xgb\n",
        "classifier = xgb.XGBClassifier(max_depth=3,\n",
        "                               learning_rate=0.1,\n",
        "                               n_estimators=100,\n",
        "                               verbosity=1,\n",
        "                               objective='binary:logistic',\n",
        "                               booster='gbtree',\n",
        "                               tree_method='auto',\n",
        "                               n_jobs=-1,\n",
        "                               gpu_id=default_device().index,\n",
        "                               gamma=0,\n",
        "                               min_child_weight=1,\n",
        "                               max_delta_step=0,\n",
        "                               subsample=.5,\n",
        "                               colsample_bytree=1,\n",
        "                               colsample_bylevel=1,\n",
        "                               colsample_bynode=1,\n",
        "                               reg_alpha=0,\n",
        "                               reg_lambda=1,\n",
        "                               scale_pos_weight=1,\n",
        "                               base_score=0.5,\n",
        "                               random_state=0,\n",
        "                               missing=None)\n",
        "\n",
        "classifier.fit(X_train_norm, y_train)\n",
        "preds = classifier.predict(X_valid_norm)\n",
        "(preds == y_valid).mean()"
      ]
    },
    {
      "cell_type": "markdown",
      "metadata": {
        "id": "HdyL1c8Slr0e"
      },
      "source": [
        "## Conclusions"
      ]
    },
    {
      "cell_type": "markdown",
      "metadata": {
        "id": "wMDUH1Svlr0e"
      },
      "source": [
        "ROCKET is a great method for TSC that has established a new level of performance both in terms of accuracy and time. It does it by successfully applying an approach quite different from the traditional DL approaches. The method uses 10k random kernels to generate features that are then classified by linear classifiers (although you may use a classifier of your choice).\n",
        "The original method has 2 limitations (lack of multivariate and lack of GPU support) that are overcome by the Pytorch implementation shared in this notebook.\n",
        "\n",
        "So this is all the code you need to train a state-of-the-art model using rocket and GPU in `tsai`:\n",
        "\n",
        "```python\n",
        "X, y, splits = get_UCR_data('HandMovementDirection', return_split=False)\n",
        "tfms  = [None, [Categorize()]]\n",
        "batch_tfms = [TSStandardize(by_sample=True)]\n",
        "dsets = TSDatasets(X, y, tfms=tfms, splits=splits)\n",
        "dls = TSDataLoaders.from_dsets(dsets.train, dsets.valid, bs=64, drop_last=False, shuffle_train=False, batch_tfms=[TSStandardize(by_sample=True)])\n",
        "model = create_model(ROCKET, dls=dls)\n",
        "X_train, y_train = create_rocket_features(dls.train, model)\n",
        "X_valid, y_valid = create_rocket_features(dls.valid, model)\n",
        "ridge = RidgeClassifierCV(alphas=np.logspace(-8, 8, 17), normalize=True)\n",
        "ridge.fit(X_train, y_train)\n",
        "print(f'alpha: {ridge.alpha_:.2E}  train: {ridge.score(X_train, y_train):.5f}  valid: {ridge.score(X_valid, y_valid):.5f}')\n",
        "```"
      ]
    }
  ],
  "metadata": {
    "colab": {
      "provenance": []
    },
    "kernelspec": {
      "display_name": "mtsccleave",
      "language": "python",
      "name": "python3"
    },
    "language_info": {
      "codemirror_mode": {
        "name": "ipython",
        "version": 3
      },
      "file_extension": ".py",
      "mimetype": "text/x-python",
      "name": "python",
      "nbconvert_exporter": "python",
      "pygments_lexer": "ipython3",
      "version": "3.12.11"
    }
  },
  "nbformat": 4,
  "nbformat_minor": 0
}
