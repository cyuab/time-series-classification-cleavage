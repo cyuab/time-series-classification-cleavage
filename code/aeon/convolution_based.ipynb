{
 "cells": [
  {
   "cell_type": "markdown",
   "metadata": {
    "collapsed": false,
    "jupyter": {
     "outputs_hidden": false
    }
   },
   "source": [
    "\n",
    "# Convolution based time series classification in aeon\n",
    "\n",
    "This notebook is a high level introduction to using and configuring convolution based\n",
    "classifiers in aeon. Convolution based classifiers are based on the ROCKET transform\n",
    "[1] and the subsequent extensions MiniROCKET [2], MultiROCKET [3] and HYDRA [4]. These\n",
    "transforms can be used in pipelines, but we provide convolution based classifiers\n",
    " based on ROCKET variants for ease of use and reproducibility. These are the \n",
    " RocketClassifier, MiniRocketClassifier, MultiRocketClassifier,\n",
    " MultiRocketHydraClassifier (a combination of MultiRocket and Hydra described in [4])\n",
    "  and the Arsenal, an ensemble of\n",
    "ROCKET classifiers. The RocketClassifier\n",
    " combines the ROCKET transform with a scikit-learn RidgeClassifierCV classifier, while \n",
    " Hydra and MultiRocketHydra further extend this approach by enhancing feature \n",
    " extraction and handling multiple feature maps more effectively. They can be\n",
    " configured to use other scikit-learn classifiers. The term\n",
    " convolution and kernel are  used interchangeably in this notebook. A convolution is a\n",
    "  subseries that is used to create features for a time series. To do this, a\n",
    "  convolution is run along a series, and the dot product is calculated. This creates a\n",
    "   new series (often called an activation map or feature map) where large values\n",
    "   correspond to a close correlation to the convolution.\n",
    "\n",
    "<img src=\"./img/convolution.png\" width=\"600\" alt=\"Windowing.\">\n",
    "\n",
    "ROCKET computes two features from the resulting feature maps: the maximum value\n",
    "(sometimes called a max pooling operation), and the proportion of positive values (or\n",
    " ppv). In the above example the first entry of the activation map is the result of a\n",
    " dot-product between $T_{1:3} * \\omega = T_{1:3} \\cdot \\omega = 0 + 0 + 3 = 3$. Max\n",
    " pooling extracts the maximum from the activation map as feature. The proportion of\n",
    " positive values (PPV) is $8 / 11$ in this example.\n",
    "\n",
    "A large number of random convolutions are generated, and the two features are\n",
    "combined to produce a transformed train data set. This is used to train a linear\n",
    "classifier. [1] recommend a RIDGE Regression Classifier using cross-validation to\n",
    "train the $L_2$-regularisation parameter $\\alpha$. A logistic regression classifier\n",
    "is suggested as a replacement for larger datasets.\n",
    "<img src=\"./img/rocket2.png\" width=\"600\" alt=\"ROCKET.\">\n",
    "\n",
    "ROCKET employs dilation. Dilation is a form of down sampling, in that it defines\n",
    "spaces between time points. Hence, a convolution with dilation $d$ is compared to\n",
    "time points $d$ steps apart when calculating the distance."
   ]
  },
  {
   "cell_type": "code",
   "execution_count": 26,
   "metadata": {
    "collapsed": false,
    "jupyter": {
     "outputs_hidden": false
    }
   },
   "outputs": [
    {
     "data": {
      "text/plain": [
       "[('Arsenal', aeon.classification.convolution_based._arsenal.Arsenal),\n",
       " ('HydraClassifier',\n",
       "  aeon.classification.convolution_based._hydra.HydraClassifier),\n",
       " ('MiniRocketClassifier',\n",
       "  aeon.classification.convolution_based._minirocket.MiniRocketClassifier),\n",
       " ('MultiRocketClassifier',\n",
       "  aeon.classification.convolution_based._multirocket.MultiRocketClassifier),\n",
       " ('MultiRocketHydraClassifier',\n",
       "  aeon.classification.convolution_based._mr_hydra.MultiRocketHydraClassifier),\n",
       " ('RocketClassifier',\n",
       "  aeon.classification.convolution_based._rocket.RocketClassifier)]"
      ]
     },
     "execution_count": 26,
     "metadata": {},
     "output_type": "execute_result"
    }
   ],
   "source": [
    "import warnings\n",
    "\n",
    "from aeon.utils.discovery import all_estimators\n",
    "\n",
    "warnings.filterwarnings(\"ignore\")\n",
    "all_estimators(\"classifier\", tag_filter={\"algorithm_type\": \"convolution\"})"
   ]
  },
  {
   "cell_type": "code",
   "execution_count": 27,
   "metadata": {
    "collapsed": false,
    "jupyter": {
     "outputs_hidden": false
    }
   },
   "outputs": [
    {
     "data": {
      "text/plain": [
       "(67, 1, 24)"
      ]
     },
     "execution_count": 27,
     "metadata": {},
     "output_type": "execute_result"
    }
   ],
   "source": [
    "from sklearn.metrics import accuracy_score\n",
    "\n",
    "from aeon.classification.convolution_based import (\n",
    "    Arsenal,\n",
    "    HydraClassifier,\n",
    "    MiniRocketClassifier,\n",
    "    MultiRocketClassifier,\n",
    "    MultiRocketHydraClassifier,\n",
    "    RocketClassifier,\n",
    ")\n",
    "from aeon.datasets import load_basic_motions  # multivariate dataset\n",
    "from aeon.datasets import load_italy_power_demand  # univariate dataset\n",
    "\n",
    "italy, italy_labels = load_italy_power_demand(split=\"train\")\n",
    "italy_test, italy_test_labels = load_italy_power_demand(split=\"test\")\n",
    "motions, motions_labels = load_basic_motions(split=\"train\")\n",
    "motions_test, motions_test_labels = load_basic_motions(split=\"test\")\n",
    "italy.shape"
   ]
  },
  {
   "cell_type": "code",
   "execution_count": 28,
   "metadata": {},
   "outputs": [
    {
     "data": {
      "text/plain": [
       "array([[[ 7.910600e-02,  7.910600e-02, -9.034970e-01, ...,\n",
       "         -1.932710e-01, -1.932710e-01, -2.051500e-01],\n",
       "        [ 3.940320e-01,  3.940320e-01, -3.666397e+00, ...,\n",
       "          5.522700e-02,  5.522700e-02, -3.390000e-03],\n",
       "        [ 5.514440e-01,  5.514440e-01, -2.828440e-01, ...,\n",
       "         -4.153000e-02, -4.153000e-02, -1.511300e-02],\n",
       "        [ 3.515650e-01,  3.515650e-01, -9.588100e-02, ...,\n",
       "          0.000000e+00,  0.000000e+00, -7.990000e-03],\n",
       "        [ 2.397000e-02,  2.397000e-02, -3.196050e-01, ...,\n",
       "         -1.331700e-02, -1.331700e-02, -1.065300e-02],\n",
       "        [ 6.338830e-01,  6.338830e-01,  9.721310e-01, ...,\n",
       "         -6.392100e-02, -6.392100e-02, -3.196000e-02]],\n",
       "\n",
       "       [[ 3.777510e-01,  3.777510e-01,  2.952965e+00, ...,\n",
       "         -3.233830e-01, -3.336250e-01, -3.336250e-01],\n",
       "        [-6.108500e-01, -6.108500e-01,  9.707170e-01, ...,\n",
       "         -9.859300e-02, -2.159870e-01, -2.159870e-01],\n",
       "        [-1.473760e-01, -1.473760e-01, -5.962515e+00, ...,\n",
       "          6.305100e-02, -8.480000e-04, -8.480000e-04],\n",
       "        [-1.038720e-01, -1.038720e-01, -7.593275e+00, ...,\n",
       "         -1.864400e-02, -7.990000e-03, -7.990000e-03],\n",
       "        [-1.091980e-01, -1.091980e-01, -6.978040e-01, ...,\n",
       "         -1.065300e-02,  1.598000e-02,  1.598000e-02],\n",
       "        [-3.728700e-02, -3.728700e-02, -2.865789e+00, ...,\n",
       "         -1.358320e-01,  3.462400e-02,  3.462400e-02]],\n",
       "\n",
       "       [[-8.139050e-01, -8.139050e-01, -4.246280e-01, ...,\n",
       "         -2.064400e-01, -5.442550e-01, -5.442550e-01],\n",
       "        [ 8.256660e-01,  8.256660e-01, -1.305033e+00, ...,\n",
       "          2.090630e-01, -5.588470e-01, -5.588470e-01],\n",
       "        [ 3.271200e-02,  3.271200e-02,  8.261700e-01, ...,\n",
       "          6.791020e-01,  3.790320e-01,  3.790320e-01],\n",
       "        [ 2.130700e-02,  2.130700e-02, -3.728720e-01, ...,\n",
       "          2.796540e-01,  1.598020e-01,  1.598020e-01],\n",
       "        [ 1.225150e-01,  1.225150e-01, -4.527700e-02, ...,\n",
       "         -3.196000e-02,  1.145250e-01,  1.145250e-01],\n",
       "        [ 7.750410e-01,  7.750410e-01,  3.835260e-01, ...,\n",
       "         -3.728720e-01, -4.234760e-01, -4.234760e-01]],\n",
       "\n",
       "       ...,\n",
       "\n",
       "       [[ 1.142016e+00,  1.142016e+00,  8.407270e-01, ...,\n",
       "          1.268257e+00,  3.277860e-01,  3.277860e-01],\n",
       "        [ 1.018433e+00,  1.018433e+00, -2.015249e+00, ...,\n",
       "         -1.155381e+00, -1.206540e-01, -1.206540e-01],\n",
       "        [ 6.775930e-01,  6.775930e-01, -7.428280e-01, ...,\n",
       "          3.632890e+00,  1.350160e+00,  1.350160e+00],\n",
       "        [ 1.757830e-01,  1.757830e-01,  1.611340e+00, ...,\n",
       "          5.912690e-01, -4.421200e-01, -4.421200e-01],\n",
       "        [-4.607630e-01, -4.607630e-01, -1.358320e+00, ...,\n",
       "          1.869688e+00,  3.526305e+00,  3.526305e+00],\n",
       "        [ 6.791600e-01,  6.791600e-01,  2.615432e+00, ...,\n",
       "          5.992590e-01,  1.472845e+00,  1.472845e+00]],\n",
       "\n",
       "       [[-3.960600e-01, -3.960600e-01, -2.680220e-01, ...,\n",
       "          8.733640e-01, -5.607000e-03, -5.607000e-03],\n",
       "        [-6.868780e-01, -6.868780e-01,  1.035100e-01, ...,\n",
       "         -2.683228e+00, -2.185891e+00, -2.185891e+00],\n",
       "        [-3.503280e-01, -3.503280e-01, -1.281489e+00, ...,\n",
       "          5.551190e-01,  1.224647e+00,  1.224647e+00],\n",
       "        [-1.571390e-01, -1.571390e-01,  2.743270e-01, ...,\n",
       "          4.314660e-01,  1.102636e+00,  1.102636e+00],\n",
       "        [-5.859400e-02, -5.859400e-02, -4.714170e-01, ...,\n",
       "         -6.179020e-01, -1.273092e+00, -1.273092e+00],\n",
       "        [ 1.518120e-01,  1.518120e-01,  3.329220e-01, ...,\n",
       "          3.196050e-01,  9.774580e-01,  9.774580e-01]],\n",
       "\n",
       "       [[ 1.211973e+00,  1.211973e+00, -6.059480e-01, ...,\n",
       "          2.490353e+00,  4.122120e+00,  3.169270e+00],\n",
       "        [-2.471070e-01, -2.471070e-01, -3.855673e+00, ...,\n",
       "         -8.787650e-01,  9.116200e-01,  8.269340e-01],\n",
       "        [ 3.278370e-01,  3.278370e-01,  7.113185e+00, ...,\n",
       "         -5.972960e-01, -4.654090e-01, -3.620360e-01],\n",
       "        [ 5.859400e-02,  5.859400e-02,  9.002200e-01, ...,\n",
       "          1.118620e-01,  5.353380e-01, -2.982980e-01],\n",
       "        [-5.273480e-01, -5.273480e-01, -1.326360e+00, ...,\n",
       "         -1.171880e-01,  1.970900e-01,  2.503570e-01],\n",
       "        [-4.261400e-02, -4.261400e-02, -9.588100e-02, ...,\n",
       "         -5.060400e-02,  4.421200e-01,  4.288030e-01]]])"
      ]
     },
     "execution_count": 28,
     "metadata": {},
     "output_type": "execute_result"
    }
   ],
   "source": [
    "motions"
   ]
  },
  {
   "cell_type": "markdown",
   "metadata": {
    "collapsed": false,
    "jupyter": {
     "outputs_hidden": false
    }
   },
   "source": [
    "The ROCKET transform compiles on import via ``numba``, which may take a few seconds. \n",
    "``RocketClassifier`` does not produce estimates of class probabilities. Because of this, \n",
    "the Arsenal was developed to use with the HIVE-COTE meta-ensemble (in the hybrid \n",
    "package). The Arsenal is an\n",
    "ensemble of ``RocketClassifier`` estimators that is no more accurate than \n",
    "``RocketClassifier``, but gives better probability estimates.\n",
    "\n",
    "<img src=\"./img/rocket.png\" width=\"600\" alt=\"Rocket overview.\">\n"
   ]
  },
  {
   "cell_type": "code",
   "execution_count": 29,
   "metadata": {
    "collapsed": false,
    "jupyter": {
     "outputs_hidden": false
    }
   },
   "outputs": [
    {
     "data": {
      "text/plain": [
       "0.9698736637512148"
      ]
     },
     "execution_count": 29,
     "metadata": {},
     "output_type": "execute_result"
    }
   ],
   "source": [
    "rocket = RocketClassifier()\n",
    "rocket.fit(italy, italy_labels)\n",
    "y_pred = rocket.predict(italy_test)\n",
    "accuracy_score(italy_test_labels, y_pred)"
   ]
  },
  {
   "cell_type": "code",
   "execution_count": 30,
   "metadata": {
    "collapsed": false,
    "jupyter": {
     "outputs_hidden": false
    }
   },
   "outputs": [
    {
     "data": {
      "text/plain": [
       "0.9698736637512148"
      ]
     },
     "execution_count": 30,
     "metadata": {},
     "output_type": "execute_result"
    }
   ],
   "source": [
    "afc = Arsenal()\n",
    "afc.fit(italy, italy_labels)\n",
    "y_pred = afc.predict(italy_test)\n",
    "accuracy_score(italy_test_labels, y_pred)"
   ]
  },
  {
   "cell_type": "markdown",
   "metadata": {
    "collapsed": false,
    "jupyter": {
     "outputs_hidden": false
    }
   },
   "source": [
    "The ``MiniRocketClassifier`` [2] uses the ``MiniRocket`` transform, a fast version of\n",
    "``Rocket`` that uses hard coded convolutions and only uses PPV.\n",
    "MultiROCKET [3]\n",
    "adds three new pooling operations extracted from each\n",
    " kernel: mean of positive values (MPV), mean of indices of positive values (MIPV) and\n",
    "  longest stretch of positive values (LSPV). ``MultiRocket`` generates a total of 50k\n",
    "  features from 10k kernels and 5 pooling operations. It also extracts features from\n",
    "  first order differences. There are separate classifiers for ``MiniRocket`` and\n",
    "  ``MultiRocket``. The ``Arsenal`` can be configured to use\n",
    "  the ``MiniRocket`` or ``MultiRocket`` by setting the ``rocket_transform`` parameter to\n",
    "  \"minirocket\" or \"multirocket\". Both work on multivariate series."
   ]
  },
  {
   "cell_type": "code",
   "execution_count": 31,
   "metadata": {
    "collapsed": false,
    "jupyter": {
     "outputs_hidden": false
    }
   },
   "outputs": [
    {
     "data": {
      "text/plain": [
       "0.9708454810495627"
      ]
     },
     "execution_count": 31,
     "metadata": {},
     "output_type": "execute_result"
    }
   ],
   "source": [
    "multi_arsenal = Arsenal(rocket_transform=\"multirocket\")\n",
    "multi_arsenal.fit(italy, italy_labels)\n",
    "y_pred = multi_arsenal.predict(italy_test)\n",
    "accuracy_score(italy_test_labels, y_pred)"
   ]
  },
  {
   "cell_type": "code",
   "execution_count": 32,
   "metadata": {
    "collapsed": false,
    "jupyter": {
     "outputs_hidden": false
    }
   },
   "outputs": [
    {
     "name": "stdout",
     "output_type": "stream",
     "text": [
      " mini acc = 1.0\n",
      " multi acc = 1.0\n"
     ]
    }
   ],
   "source": [
    "mini_r = MiniRocketClassifier(n_kernels=100)\n",
    "multi_r = MultiRocketClassifier(n_kernels=100)\n",
    "mini_r.fit(motions, motions_labels)\n",
    "y_pred = mini_r.predict(motions_test)\n",
    "print(\" mini acc =\", accuracy_score(motions_test_labels, y_pred))\n",
    "multi_r.fit(motions, motions_labels)\n",
    "y_pred = multi_r.predict(motions_test)\n",
    "print(\" multi acc =\", accuracy_score(motions_test_labels, y_pred))"
   ]
  },
  {
   "cell_type": "markdown",
   "metadata": {},
   "source": [
    "The HYDRA transform [4] (for HYbrid Dictionary-Rocket Architecture) is a dictionary \n",
    "method for time series classification using competing convolutional kernels, incorporating aspects \n",
    "of both Rocket and conventional dictionary methods. Hydra involves transforming \n",
    "the input time series using a set of random convolutional kernels, arranged into `g`\n",
    "groups with `k` kernels per group, and then at each timepoint counting the kernels\n",
    "representing the closest match with the input time series for each group."
   ]
  },
  {
   "cell_type": "code",
   "execution_count": 33,
   "metadata": {},
   "outputs": [
    {
     "data": {
      "text/plain": [
       "0.966958211856171"
      ]
     },
     "execution_count": 33,
     "metadata": {},
     "output_type": "execute_result"
    }
   ],
   "source": [
    "hydra_clf = HydraClassifier()\n",
    "hydra_clf.fit(italy, italy_labels)\n",
    "y_pred = hydra_clf.predict(italy_test)\n",
    "accuracy_score(italy_test_labels, y_pred)"
   ]
  },
  {
   "cell_type": "markdown",
   "metadata": {},
   "source": [
    "``MultiRocketHydra`` concatenates the results of the ``Hydra`` and ``MultiRocket`` \n",
    "transform and trains RidgeClassifierCV on the combined features."
   ]
  },
  {
   "cell_type": "code",
   "execution_count": 34,
   "metadata": {},
   "outputs": [
    {
     "data": {
      "text/plain": [
       "0.9698736637512148"
      ]
     },
     "execution_count": 34,
     "metadata": {},
     "output_type": "execute_result"
    }
   ],
   "source": [
    "mr_hydra = MultiRocketHydraClassifier()\n",
    "mr_hydra.fit(italy, italy_labels)\n",
    "y_pred = mr_hydra.predict(italy_test)\n",
    "accuracy_score(italy_test_labels, y_pred)"
   ]
  },
  {
   "cell_type": "markdown",
   "metadata": {
    "collapsed": false,
    "jupyter": {
     "outputs_hidden": false
    }
   },
   "source": [
    "Convolutional classifiers have three other parameters that may affect performance.\n",
    "`n_kernels` (default 10,000) determines the number of convolutions/kernels generated\n",
    " and will influence the memory usage. `max_dilations_per_kernel` (default=32) and\n",
    "`n_features_per_kernel` (default=4) are used in 'MiniROCKET' and 'MultiROCKET'. For\n",
    "each candidate convolution, `max_dilations_per_kernel` are assessed and\n",
    "`n_features_per_kernel` are retained.\n"
   ]
  },
  {
   "cell_type": "markdown",
   "metadata": {
    "collapsed": false,
    "jupyter": {
     "outputs_hidden": false
    }
   },
   "source": [
    "## Performance on the UCR univariate datasets\n",
    "\n",
    "You can find the convolution based classifiers as follows"
   ]
  },
  {
   "cell_type": "code",
   "execution_count": 35,
   "metadata": {
    "collapsed": false,
    "jupyter": {
     "outputs_hidden": false
    }
   },
   "outputs": [
    {
     "name": "stdout",
     "output_type": "stream",
     "text": [
      "('Arsenal', <class 'aeon.classification.convolution_based._arsenal.Arsenal'>)\n",
      "('HydraClassifier', <class 'aeon.classification.convolution_based._hydra.HydraClassifier'>)\n",
      "('MiniRocketClassifier', <class 'aeon.classification.convolution_based._minirocket.MiniRocketClassifier'>)\n",
      "('MultiRocketClassifier', <class 'aeon.classification.convolution_based._multirocket.MultiRocketClassifier'>)\n",
      "('MultiRocketHydraClassifier', <class 'aeon.classification.convolution_based._mr_hydra.MultiRocketHydraClassifier'>)\n",
      "('RocketClassifier', <class 'aeon.classification.convolution_based._rocket.RocketClassifier'>)\n"
     ]
    }
   ],
   "source": [
    "from aeon.utils.discovery import all_estimators\n",
    "\n",
    "est = all_estimators(\"classifier\", tag_filter={\"algorithm_type\": \"convolution\"})\n",
    "for c in est:\n",
    "    print(c)"
   ]
  },
  {
   "cell_type": "markdown",
   "metadata": {
    "collapsed": false,
    "jupyter": {
     "outputs_hidden": false
    }
   },
   "source": [
    "We can recover the results and compare the classifier performance as follows:\n"
   ]
  },
  {
   "cell_type": "code",
   "execution_count": 36,
   "metadata": {
    "collapsed": false,
    "jupyter": {
     "outputs_hidden": false
    }
   },
   "outputs": [
    {
     "data": {
      "text/plain": [
       "(112, 7)"
      ]
     },
     "execution_count": 36,
     "metadata": {},
     "output_type": "execute_result"
    }
   ],
   "source": [
    "from aeon.benchmarking.results_loaders import get_estimator_results_as_array\n",
    "from aeon.datasets.tsc_datasets import univariate\n",
    "\n",
    "names = [t[0].replace(\"Classifier\", \"\") for t in est]\n",
    "names.append(\"MiniROCKET\")  # Alternatve configuration of the RocketClassifier\n",
    "results, present_names = get_estimator_results_as_array(\n",
    "    names, univariate, include_missing=False\n",
    ")\n",
    "results.shape"
   ]
  },
  {
   "cell_type": "code",
   "execution_count": 37,
   "metadata": {
    "collapsed": false,
    "jupyter": {
     "outputs_hidden": false
    }
   },
   "outputs": [
    {
     "data": {
      "text/plain": [
       "(<Figure size 600x260 with 1 Axes>, <Axes: >)"
      ]
     },
     "execution_count": 37,
     "metadata": {},
     "output_type": "execute_result"
    },
    {
     "data": {
      "image/png": "[encoded data removed]",
      "text/plain": [
       "<Figure size 600x260 with 1 Axes>"
      ]
     },
     "metadata": {},
     "output_type": "display_data"
    }
   ],
   "source": [
    "from aeon.visualisation import plot_boxplot, plot_critical_difference\n",
    "\n",
    "plot_critical_difference(results, names)"
   ]
  },
  {
   "cell_type": "code",
   "execution_count": 38,
   "metadata": {
    "collapsed": false,
    "jupyter": {
     "outputs_hidden": false
    }
   },
   "outputs": [
    {
     "data": {
      "text/plain": [
       "(<Figure size 1000x600 with 1 Axes>, <Axes: >)"
      ]
     },
     "execution_count": 38,
     "metadata": {},
     "output_type": "execute_result"
    },
    {
     "data": {
      "image/png": "[encoded data removed]",
      "text/plain": [
       "<Figure size 1000x600 with 1 Axes>"
      ]
     },
     "metadata": {},
     "output_type": "display_data"
    }
   ],
   "source": [
    "plot_boxplot(results, names, relative=True)"
   ]
  },
  {
   "cell_type": "markdown",
   "metadata": {
    "collapsed": false,
    "jupyter": {
     "outputs_hidden": false
    }
   },
   "source": [
    "## References\n",
    "\n",
    "[1] Dempster A, Petitjean F and Webb GI (2019) ROCKET: Exceptionally fast\n",
    "and accurate time series classification using random convolutional kernels.\n",
    "[arXiv:1910.13051](https://arxiv.org/abs/1910.13051),\n",
    "[Journal Paper](https://link.springer.com/article/10.1007/s10618-020-00701-z)\n",
    "\n",
    "[2]  Dempster A, Schmidt D and Webb G (2021) MINIROCKET: A Very Fast (Almost)\n",
    "Deterministic Transform for Time Series Classification\n",
    "[arXiv:2012.08791](https://arxiv.org/abs/2012.08791)\n",
    "[Conference Paper](https://dl.acm.org/doi/abs/10.1145/3447548.3467231)\n",
    "\n",
    "[3] Cahng Wei T, Dempster A, Bergmeir C and Webb G (2022) MultiRocket: multiple pooling\n",
    "operators and transformations for fast and effective time series classification\n",
    "[Journal Paper](https://link.springer.com/article/10.1007/s10618-022-00844-1)\n",
    "\n",
    "[4] Dempster, A., Schmidt, D.F. and Webb, G.I. (2023) Hydra: Competing convolutional\n",
    "kernels for fast and accurate time series classification.\n",
    "[arXiv:2203.13652](https://arxiv.org/abs/2203.13652),\n",
    "[Journal Paper](https://link.springer.com/article/10.1007/s10618-023-00939-3)\n"
   ]
  },
  {
   "cell_type": "code",
   "execution_count": null,
   "metadata": {
    "collapsed": false,
    "jupyter": {
     "outputs_hidden": false
    }
   },
   "outputs": [],
   "source": []
  }
 ],
 "metadata": {
  "kernelspec": {
   "display_name": "mtsccleave",
   "language": "python",
   "name": "python3"
  },
  "language_info": {
   "codemirror_mode": {
    "name": "ipython",
    "version": 3
   },
   "file_extension": ".py",
   "mimetype": "text/x-python",
   "name": "python",
   "nbconvert_exporter": "python",
   "pygments_lexer": "ipython3",
   "version": "3.12.11"
  }
 },
 "nbformat": 4,
 "nbformat_minor": 4
}
