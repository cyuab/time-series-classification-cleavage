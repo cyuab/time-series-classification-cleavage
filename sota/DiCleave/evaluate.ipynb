{
 "cells": [
  {
   "cell_type": "code",
   "execution_count": 2,
   "metadata": {},
   "outputs": [],
   "source": [
    "import pandas as pd"
   ]
  },
  {
   "cell_type": "code",
   "execution_count": 35,
   "metadata": {},
   "outputs": [
    {
     "data": {
      "application/vnd.microsoft.datawrangler.viewer.v0+json": {
       "columns": [
        {
         "name": "index",
         "rawType": "int64",
         "type": "integer"
        },
        {
         "name": "Unnamed: 0",
         "rawType": "int64",
         "type": "integer"
        },
        {
         "name": "name",
         "rawType": "object",
         "type": "string"
        },
        {
         "name": "sequence",
         "rawType": "object",
         "type": "string"
        },
        {
         "name": "dot_bracket",
         "rawType": "object",
         "type": "string"
        },
        {
         "name": "cleavage_window",
         "rawType": "object",
         "type": "string"
        },
        {
         "name": "window_dot_bracket",
         "rawType": "object",
         "type": "string"
        },
        {
         "name": "cleavage_window_comp",
         "rawType": "object",
         "type": "string"
        },
        {
         "name": "label",
         "rawType": "int64",
         "type": "integer"
        }
       ],
       "conversionMethod": "pd.DataFrame",
       "ref": "2ce4b27f-463d-4975-9080-1e7fd17c5757",
       "rows": [
        [
         "0",
         "0",
         "hsa-mir-7843",
         "GUAGACAGGAUGAGGGCAGAGCCAGCUUCCUGAUCUGAUGGAAGUCAUGAAGCCUUCUCUGCCUUACGCUUGGCUCUGC",
         "(((((((((...(((((((((...(((((.(((.((......))))).)))))...)))))))))...))))..)))))",
         "GGAAGUCAUGAAGC",
         "...))))).)))))",
         "OOOUCAGUOCUUCG",
         "1"
        ],
        [
         "1",
         "1",
         "hsa-mir-4694",
         "CAAAUACAUAGGUGUUAUCCUAUCCAUUUGCCUCUCUCAGAAAAUAGAGUCAAAUGGACAGGAUAACACCUAUGUAUUUG",
         "(((((((((((((((((((((.((((((((.((((..........)))).)))))))).)))))))))))))))))))))",
         "AUAGAGUCAAAUGG",
         "..)))).)))))))",
         "OOUCUCOGUUUACC",
         "1"
        ],
        [
         "2",
         "2",
         "hsa-mir-548ar",
         "AAAAGUAAUUGCAGUUUUUGCUGUUGAACGUAGUGGUAAAACUGCAGUUAUUUUUGC",
         "((((((((((((((((((.(((((((....)))))))))))))))))))))))))..",
         "GUAGUGGUAAAACU",
         ".)))))))))))))",
         "OGUUGUCGUUUUGA",
         "1"
        ],
        [
         "3",
         "3",
         "hsa-mir-4697",
         "GGGCCCAGAAGGGGGCGCAGUCACUGACGUGAAGGGACCACAUCCCGCUUCAUGUCAGUGACUCCUGCCCCUUGGUCU",
         "(((((....((((((((.((((((((((((((((((........)).))))))))))))))))..)))))))))))))",
         "CGCUUCAUGUCAGU",
         ").))))))))))))",
         "GOGAAGUGCAGUCA",
         "1"
        ],
        [
         "4",
         "4",
         "hsa-mir-133a-2",
         "GGGAGCCAAAUGCUUUGCUAGAGCUGGUAAAAUGGAACCAAAUCGACUGUCCAAUGGAUUUGGUCCCCUUCAACCAGCUGUAGCUGUGCAUUGAUGGCGCCG",
         ".((.(((((((((...((((.(((((((..((.((.((((((((.(........).)))))))).)).))..))))))).))))...)))))..)))).)).",
         "CAAUGGAUUUGGUC",
         "...).)))))))).",
         "OOOAOCUAAACCAO",
         "1"
        ]
       ],
       "shape": {
        "columns": 8,
        "rows": 5
       }
      },
      "text/html": [
       "<div>\n",
       "<style scoped>\n",
       "    .dataframe tbody tr th:only-of-type {\n",
       "        vertical-align: middle;\n",
       "    }\n",
       "\n",
       "    .dataframe tbody tr th {\n",
       "        vertical-align: top;\n",
       "    }\n",
       "\n",
       "    .dataframe thead th {\n",
       "        text-align: right;\n",
       "    }\n",
       "</style>\n",
       "<table border=\"1\" class=\"dataframe\">\n",
       "  <thead>\n",
       "    <tr style=\"text-align: right;\">\n",
       "      <th></th>\n",
       "      <th>Unnamed: 0</th>\n",
       "      <th>name</th>\n",
       "      <th>sequence</th>\n",
       "      <th>dot_bracket</th>\n",
       "      <th>cleavage_window</th>\n",
       "      <th>window_dot_bracket</th>\n",
       "      <th>cleavage_window_comp</th>\n",
       "      <th>label</th>\n",
       "    </tr>\n",
       "  </thead>\n",
       "  <tbody>\n",
       "    <tr>\n",
       "      <th>0</th>\n",
       "      <td>0</td>\n",
       "      <td>hsa-mir-7843</td>\n",
       "      <td>GUAGACAGGAUGAGGGCAGAGCCAGCUUCCUGAUCUGAUGGAAGUC...</td>\n",
       "      <td>(((((((((...(((((((((...(((((.(((.((......))))...</td>\n",
       "      <td>GGAAGUCAUGAAGC</td>\n",
       "      <td>...))))).)))))</td>\n",
       "      <td>OOOUCAGUOCUUCG</td>\n",
       "      <td>1</td>\n",
       "    </tr>\n",
       "    <tr>\n",
       "      <th>1</th>\n",
       "      <td>1</td>\n",
       "      <td>hsa-mir-4694</td>\n",
       "      <td>CAAAUACAUAGGUGUUAUCCUAUCCAUUUGCCUCUCUCAGAAAAUA...</td>\n",
       "      <td>(((((((((((((((((((((.((((((((.((((..........)...</td>\n",
       "      <td>AUAGAGUCAAAUGG</td>\n",
       "      <td>..)))).)))))))</td>\n",
       "      <td>OOUCUCOGUUUACC</td>\n",
       "      <td>1</td>\n",
       "    </tr>\n",
       "    <tr>\n",
       "      <th>2</th>\n",
       "      <td>2</td>\n",
       "      <td>hsa-mir-548ar</td>\n",
       "      <td>AAAAGUAAUUGCAGUUUUUGCUGUUGAACGUAGUGGUAAAACUGCA...</td>\n",
       "      <td>((((((((((((((((((.(((((((....))))))))))))))))...</td>\n",
       "      <td>GUAGUGGUAAAACU</td>\n",
       "      <td>.)))))))))))))</td>\n",
       "      <td>OGUUGUCGUUUUGA</td>\n",
       "      <td>1</td>\n",
       "    </tr>\n",
       "    <tr>\n",
       "      <th>3</th>\n",
       "      <td>3</td>\n",
       "      <td>hsa-mir-4697</td>\n",
       "      <td>GGGCCCAGAAGGGGGCGCAGUCACUGACGUGAAGGGACCACAUCCC...</td>\n",
       "      <td>(((((....((((((((.((((((((((((((((((........))...</td>\n",
       "      <td>CGCUUCAUGUCAGU</td>\n",
       "      <td>).))))))))))))</td>\n",
       "      <td>GOGAAGUGCAGUCA</td>\n",
       "      <td>1</td>\n",
       "    </tr>\n",
       "    <tr>\n",
       "      <th>4</th>\n",
       "      <td>4</td>\n",
       "      <td>hsa-mir-133a-2</td>\n",
       "      <td>GGGAGCCAAAUGCUUUGCUAGAGCUGGUAAAAUGGAACCAAAUCGA...</td>\n",
       "      <td>.((.(((((((((...((((.(((((((..((.((.((((((((.(...</td>\n",
       "      <td>CAAUGGAUUUGGUC</td>\n",
       "      <td>...).)))))))).</td>\n",
       "      <td>OOOAOCUAAACCAO</td>\n",
       "      <td>1</td>\n",
       "    </tr>\n",
       "  </tbody>\n",
       "</table>\n",
       "</div>"
      ],
      "text/plain": [
       "   Unnamed: 0            name  \\\n",
       "0           0    hsa-mir-7843   \n",
       "1           1    hsa-mir-4694   \n",
       "2           2   hsa-mir-548ar   \n",
       "3           3    hsa-mir-4697   \n",
       "4           4  hsa-mir-133a-2   \n",
       "\n",
       "                                            sequence  \\\n",
       "0  GUAGACAGGAUGAGGGCAGAGCCAGCUUCCUGAUCUGAUGGAAGUC...   \n",
       "1  CAAAUACAUAGGUGUUAUCCUAUCCAUUUGCCUCUCUCAGAAAAUA...   \n",
       "2  AAAAGUAAUUGCAGUUUUUGCUGUUGAACGUAGUGGUAAAACUGCA...   \n",
       "3  GGGCCCAGAAGGGGGCGCAGUCACUGACGUGAAGGGACCACAUCCC...   \n",
       "4  GGGAGCCAAAUGCUUUGCUAGAGCUGGUAAAAUGGAACCAAAUCGA...   \n",
       "\n",
       "                                         dot_bracket cleavage_window  \\\n",
       "0  (((((((((...(((((((((...(((((.(((.((......))))...  GGAAGUCAUGAAGC   \n",
       "1  (((((((((((((((((((((.((((((((.((((..........)...  AUAGAGUCAAAUGG   \n",
       "2  ((((((((((((((((((.(((((((....))))))))))))))))...  GUAGUGGUAAAACU   \n",
       "3  (((((....((((((((.((((((((((((((((((........))...  CGCUUCAUGUCAGU   \n",
       "4  .((.(((((((((...((((.(((((((..((.((.((((((((.(...  CAAUGGAUUUGGUC   \n",
       "\n",
       "  window_dot_bracket cleavage_window_comp  label  \n",
       "0     ...))))).)))))       OOOUCAGUOCUUCG      1  \n",
       "1     ..)))).)))))))       OOUCUCOGUUUACC      1  \n",
       "2     .)))))))))))))       OGUUGUCGUUUUGA      1  \n",
       "3     ).))))))))))))       GOGAAGUGCAGUCA      1  \n",
       "4     ...).)))))))).       OOOAOCUAAACCAO      1  "
      ]
     },
     "execution_count": 35,
     "metadata": {},
     "output_type": "execute_result"
    }
   ],
   "source": [
    "df_train = pd.read_csv('./training_3p.csv')\n",
    "df_train.head()"
   ]
  },
  {
   "cell_type": "code",
   "execution_count": 37,
   "metadata": {},
   "outputs": [
    {
     "data": {
      "application/vnd.microsoft.datawrangler.viewer.v0+json": {
       "columns": [
        {
         "name": "index",
         "rawType": "int64",
         "type": "integer"
        },
        {
         "name": "label",
         "rawType": "int64",
         "type": "integer"
        }
       ],
       "conversionMethod": "pd.DataFrame",
       "ref": "31098a2d-07b3-42de-9d4e-4ba4d73c537b",
       "rows": [
        [
         "0",
         "1"
        ],
        [
         "1",
         "1"
        ],
        [
         "2",
         "1"
        ],
        [
         "3",
         "1"
        ],
        [
         "4",
         "1"
        ]
       ],
       "shape": {
        "columns": 1,
        "rows": 5
       }
      },
      "text/html": [
       "<div>\n",
       "<style scoped>\n",
       "    .dataframe tbody tr th:only-of-type {\n",
       "        vertical-align: middle;\n",
       "    }\n",
       "\n",
       "    .dataframe tbody tr th {\n",
       "        vertical-align: top;\n",
       "    }\n",
       "\n",
       "    .dataframe thead th {\n",
       "        text-align: right;\n",
       "    }\n",
       "</style>\n",
       "<table border=\"1\" class=\"dataframe\">\n",
       "  <thead>\n",
       "    <tr style=\"text-align: right;\">\n",
       "      <th></th>\n",
       "      <th>label</th>\n",
       "    </tr>\n",
       "  </thead>\n",
       "  <tbody>\n",
       "    <tr>\n",
       "      <th>0</th>\n",
       "      <td>1</td>\n",
       "    </tr>\n",
       "    <tr>\n",
       "      <th>1</th>\n",
       "      <td>1</td>\n",
       "    </tr>\n",
       "    <tr>\n",
       "      <th>2</th>\n",
       "      <td>1</td>\n",
       "    </tr>\n",
       "    <tr>\n",
       "      <th>3</th>\n",
       "      <td>1</td>\n",
       "    </tr>\n",
       "    <tr>\n",
       "      <th>4</th>\n",
       "      <td>1</td>\n",
       "    </tr>\n",
       "  </tbody>\n",
       "</table>\n",
       "</div>"
      ],
      "text/plain": [
       "   label\n",
       "0      1\n",
       "1      1\n",
       "2      1\n",
       "3      1\n",
       "4      1"
      ]
     },
     "execution_count": 37,
     "metadata": {},
     "output_type": "execute_result"
    }
   ],
   "source": [
    "df_test = pd.read_csv('./test_3p.csv')\n",
    "y_true = df_test[['label']].copy()\n",
    "y_true.head() "
   ]
  },
  {
   "cell_type": "code",
   "execution_count": 52,
   "metadata": {},
   "outputs": [
    {
     "data": {
      "application/vnd.microsoft.datawrangler.viewer.v0+json": {
       "columns": [
        {
         "name": "index",
         "rawType": "int64",
         "type": "integer"
        },
        {
         "name": "label",
         "rawType": "int64",
         "type": "integer"
        }
       ],
       "conversionMethod": "pd.DataFrame",
       "ref": "4b0ed2c9-168e-41e3-b41d-db985b4e0863",
       "rows": [
        [
         "0",
         "0"
        ],
        [
         "1",
         "1"
        ],
        [
         "2",
         "1"
        ],
        [
         "3",
         "1"
        ],
        [
         "4",
         "1"
        ]
       ],
       "shape": {
        "columns": 1,
        "rows": 5
       }
      },
      "text/html": [
       "<div>\n",
       "<style scoped>\n",
       "    .dataframe tbody tr th:only-of-type {\n",
       "        vertical-align: middle;\n",
       "    }\n",
       "\n",
       "    .dataframe tbody tr th {\n",
       "        vertical-align: top;\n",
       "    }\n",
       "\n",
       "    .dataframe thead th {\n",
       "        text-align: right;\n",
       "    }\n",
       "</style>\n",
       "<table border=\"1\" class=\"dataframe\">\n",
       "  <thead>\n",
       "    <tr style=\"text-align: right;\">\n",
       "      <th></th>\n",
       "      <th>label</th>\n",
       "    </tr>\n",
       "  </thead>\n",
       "  <tbody>\n",
       "    <tr>\n",
       "      <th>0</th>\n",
       "      <td>0</td>\n",
       "    </tr>\n",
       "    <tr>\n",
       "      <th>1</th>\n",
       "      <td>1</td>\n",
       "    </tr>\n",
       "    <tr>\n",
       "      <th>2</th>\n",
       "      <td>1</td>\n",
       "    </tr>\n",
       "    <tr>\n",
       "      <th>3</th>\n",
       "      <td>1</td>\n",
       "    </tr>\n",
       "    <tr>\n",
       "      <th>4</th>\n",
       "      <td>1</td>\n",
       "    </tr>\n",
       "  </tbody>\n",
       "</table>\n",
       "</div>"
      ],
      "text/plain": [
       "   label\n",
       "0      0\n",
       "1      1\n",
       "2      1\n",
       "3      1\n",
       "4      1"
      ]
     },
     "execution_count": 52,
     "metadata": {},
     "output_type": "execute_result"
    }
   ],
   "source": [
    "y_pred = pd.read_csv('./model_1_result.txt', skiprows=2, header=None)\n",
    "y_pred.columns = ['label']\n",
    "y_pred.head()"
   ]
  },
  {
   "cell_type": "code",
   "execution_count": 54,
   "metadata": {},
   "outputs": [
    {
     "data": {
      "text/plain": [
       "(0.8589743589743589,\n",
       " 0.9423076923076923,\n",
       " 0.7756410256410257,\n",
       " 0.8461538461538461)"
      ]
     },
     "execution_count": 54,
     "metadata": {},
     "output_type": "execute_result"
    }
   ],
   "source": [
    "from sklearn.metrics import confusion_matrix\n",
    "tn, fp, fn, tp = confusion_matrix(y_true, y_pred).ravel()\n",
    "accuracy = (tp + tn) / (tp + tn + fp + fn)\n",
    "specificity = tn / (tn+fp)\n",
    "sensitivity = tp / (tp+fn)\n",
    "f1_score = 2 * tp / (2 * tp + fp + fn)\n",
    "accuracy, specificity, sensitivity, f1_score"
   ]
  },
  {
   "cell_type": "code",
   "execution_count": null,
   "metadata": {},
   "outputs": [],
   "source": []
  }
 ],
 "metadata": {
  "kernelspec": {
   "display_name": "tscc",
   "language": "python",
   "name": "python3"
  },
  "language_info": {
   "codemirror_mode": {
    "name": "ipython",
    "version": 3
   },
   "file_extension": ".py",
   "mimetype": "text/x-python",
   "name": "python",
   "nbconvert_exporter": "python",
   "pygments_lexer": "ipython3",
   "version": "3.12.8"
  }
 },
 "nbformat": 4,
 "nbformat_minor": 2
}
