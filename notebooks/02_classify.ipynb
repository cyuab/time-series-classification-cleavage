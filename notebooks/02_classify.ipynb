{
 "cells": [
  {
   "cell_type": "code",
   "execution_count": null,
   "metadata": {},
   "outputs": [],
   "source": [
    "import pandas as pd\n",
    "from ast import literal_eval\n",
    "from sktime.datatypes import check_raise"
   ]
  },
  {
   "cell_type": "code",
   "execution_count": null,
   "metadata": {},
   "outputs": [],
   "source": [
    "def load_as_pd_multiindex(file_path):\n",
    "    \"\"\"\n",
    "    Load a file as pd_multiindex.\n",
    "    https://www.sktime.net/en/stable/examples/AA_datatypes_and_datasets.html#Section-1.2.1:-Time-series-panels---the-%22pd-multiindex%22-mtype\n",
    "    - file_path: E.g., \"../data/01_single.csv\"\n",
    "    \"\"\"\n",
    "    df = pd.read_csv(file_path, low_memory=False)\n",
    "    # df.iloc[0].five_p_cleav_1[0]\n",
    "    # Some problem in reading the data.\n",
    "    # https://stackoverflow.com/questions/79413934/write-read-columns-of-list-of-numbers-integer-or-float-to-from-csv-in-python\n",
    "    # https://stackoverflow.com/questions/23111990/pandas-dataframe-stored-list-as-string-how-to-convert-back-to-list/63020659#63020659\n",
    "    df = df.map(literal_eval)\n",
    "    # print(df.head())\n",
    "    #\n",
    "    # print(df.iloc[0].size, df.shape[0], len(df), df.iloc[0].iloc[0])\n",
    "    # 8 827 827 [-2, 2, -2, 2, 1, -2, -2, -2, -2, 2, 1, 1, 1, -2]\n",
    "    # 8: no of columns (features) an instance has\n",
    "    # 827: no of instances\n",
    "    # [-2, 2, -2, 2, 1, -2, -2, -2, -2, 2, 1, 1, 1, -2]: first instance's first feature (i.e., five_p_cleav_1)\n",
    "    #\n",
    "    for i in range(len(df)):\n",
    "        for j in range(df.iloc[0].size):\n",
    "            # https://stackoverflow.com/questions/19482970/get-a-list-from-pandas-dataframe-column-headers\n",
    "            col = pd.DataFrame(df.iloc[i].iloc[j], columns=[df.columns.values[j]]) # E.g., five_p_cleav_1\n",
    "            row = pd.concat([row, col], axis=1)\n",
    "            row.index.name = 'time points'\n",
    "            row.reset_index(inplace=True)\n",
    "            row.insert(0, 'instances', i)\n",
    "        if i == 0:\n",
    "            rows = row\n",
    "        else:\n",
    "            rows = pd.concat([rows, row], axis=0)\n",
    "    rows = rows.set_index([\"instances\", \"time points\"])\n",
    "    print(rows.head())\n",
    "    return"
   ]
  },
  {
   "cell_type": "code",
   "execution_count": null,
   "metadata": {},
   "outputs": [],
   "source": [
    "load_as_pd_multiindex(\"../data/01_single.csv\")"
   ]
  },
  {
   "cell_type": "code",
   "execution_count": null,
   "metadata": {},
   "outputs": [],
   "source": []
  },
  {
   "cell_type": "code",
   "execution_count": null,
   "metadata": {},
   "outputs": [],
   "source": [
    "for i in range(len(df)):\n",
    "    # t: temp\n",
    "    # https://stackoverflow.com/questions/19482970/get-a-list-from-pandas-dataframe-column-headers\n",
    "    t1 = pd.DataFrame(df.iloc[i].iloc[0], columns=[df.columns.values[0]]) # five_p_cleav_1\n",
    "    t2 = pd.DataFrame(df.iloc[i].iloc[1], columns=[df.columns.values[1]]) # five_p_cleav_compl_1\n",
    "    t3 = pd.DataFrame(df.iloc[i].iloc[2], columns=[df.columns.values[2]]) # five_p_non_cleav_1\n",
    "    t4 = pd.DataFrame(df.iloc[i].iloc[3], columns=[df.columns.values[3]]) # five_p_non_cleav_compl_1\n",
    "    t5 = pd.DataFrame(df.iloc[i].iloc[4], columns=[df.columns.values[4]]) # three_p_cleav_1\n",
    "    t6 = pd.DataFrame(df.iloc[i].iloc[5], columns=[df.columns.values[5]]) # three_p_cleav_compl_1\n",
    "    t7 = pd.DataFrame(df.iloc[i].iloc[6], columns=[df.columns.values[6]]) # three_p_non_cleav_1\n",
    "    t8 = pd.DataFrame(df.iloc[i].iloc[7], columns=[df.columns.values[7]]) # three_p_non_cleav_compl_1\n",
    "    # 【pandas数据合并一】：pd.concat()用法\n",
    "    # https://blog.csdn.net/xue_11/article/details/118424380\n",
    "    t = pd.concat([t1,t2,t3,t4,t5,t6,t7,t8], axis=1)\n",
    "    # https://stackoverflow.com/questions/25457920/convert-row-names-into-a-column-in-pandas\n",
    "    t.index.name = 'time points'\n",
    "    t.reset_index(inplace=True)\n",
    "    # https://stackoverflow.com/questions/29517072/add-column-to-dataframe-with-constant-value\n",
    "    t.insert(0, 'instances', i)\n",
    "    if i == 0:\n",
    "        t_all = t\n",
    "    else:\n",
    "        t_all = pd.concat([t_all, t], axis=0)\n",
    "t_all = t_all.set_index([\"instances\", \"time points\"])"
   ]
  },
  {
   "cell_type": "code",
   "execution_count": null,
   "metadata": {},
   "outputs": [
    {
     "data": {
      "text/plain": [
       "True"
      ]
     },
     "execution_count": 7,
     "metadata": {},
     "output_type": "execute_result"
    }
   ],
   "source": [
    "\n",
    "check_raise(t_all, mtype=\"pd-multiindex\")"
   ]
  },
  {
   "cell_type": "code",
   "execution_count": 8,
   "metadata": {},
   "outputs": [
    {
     "data": {
      "text/plain": [
       "time points\n",
       "0    -2\n",
       "1     2\n",
       "2    -2\n",
       "3     2\n",
       "4     1\n",
       "5    -2\n",
       "6    -2\n",
       "7    -2\n",
       "8    -2\n",
       "9     2\n",
       "10    1\n",
       "11    1\n",
       "12    1\n",
       "13   -2\n",
       "Name: five_p_cleav_1, dtype: int64"
      ]
     },
     "execution_count": 8,
     "metadata": {},
     "output_type": "execute_result"
    }
   ],
   "source": [
    "t_all.loc[0, \"five_p_cleav_1\"]"
   ]
  },
  {
   "cell_type": "markdown",
   "metadata": {},
   "source": [
    "# Prepare binary classification data (3p, 5p)"
   ]
  },
  {
   "cell_type": "code",
   "execution_count": null,
   "metadata": {},
   "outputs": [],
   "source": [
    "# t1 = pd.DataFrame(df.iloc[i].iloc[0], columns=[df.columns.values[0]]) # five_p_cleav_1"
   ]
  },
  {
   "cell_type": "code",
   "execution_count": 9,
   "metadata": {},
   "outputs": [
    {
     "data": {
      "application/vnd.microsoft.datawrangler.viewer.v0+json": {
       "columns": [
        {
         "name": "('instances', 'time points')",
         "rawType": "object",
         "type": "unknown"
        },
        {
         "name": "strand",
         "rawType": "int64",
         "type": "integer"
        },
        {
         "name": "strand_compl",
         "rawType": "int64",
         "type": "integer"
        }
       ],
       "conversionMethod": "pd.DataFrame",
       "ref": "5105aaa9-d8f1-4b6b-bcdf-adf767db044e",
       "rows": [
        [
         "(0, 0)",
         "-2",
         "2"
        ],
        [
         "(0, 1)",
         "2",
         "-2"
        ],
        [
         "(0, 2)",
         "-2",
         "2"
        ],
        [
         "(0, 3)",
         "2",
         "-2"
        ],
        [
         "(0, 4)",
         "1",
         "-1"
        ],
        [
         "(0, 5)",
         "-2",
         "2"
        ],
        [
         "(0, 6)",
         "-2",
         "2"
        ],
        [
         "(0, 7)",
         "-2",
         "0"
        ],
        [
         "(0, 8)",
         "-2",
         "0"
        ],
        [
         "(0, 9)",
         "2",
         "0"
        ],
        [
         "(0, 10)",
         "1",
         "0"
        ],
        [
         "(0, 11)",
         "1",
         "0"
        ],
        [
         "(0, 12)",
         "1",
         "-2"
        ],
        [
         "(0, 13)",
         "-2",
         "2"
        ],
        [
         "(1, 0)",
         "-2",
         "2"
        ],
        [
         "(1, 1)",
         "2",
         "-2"
        ],
        [
         "(1, 2)",
         "-2",
         "1"
        ],
        [
         "(1, 3)",
         "2",
         "-2"
        ],
        [
         "(1, 4)",
         "1",
         "-1"
        ],
        [
         "(1, 5)",
         "-2",
         "2"
        ],
        [
         "(1, 6)",
         "-2",
         "2"
        ],
        [
         "(1, 7)",
         "-2",
         "0"
        ],
        [
         "(1, 8)",
         "2",
         "0"
        ],
        [
         "(1, 9)",
         "1",
         "0"
        ],
        [
         "(1, 10)",
         "2",
         "0"
        ],
        [
         "(1, 11)",
         "2",
         "0"
        ],
        [
         "(1, 12)",
         "-2",
         "0"
        ],
        [
         "(1, 13)",
         "-2",
         "0"
        ],
        [
         "(2, 0)",
         "-2",
         "2"
        ],
        [
         "(2, 1)",
         "2",
         "-2"
        ],
        [
         "(2, 2)",
         "-2",
         "2"
        ],
        [
         "(2, 3)",
         "2",
         "-2"
        ],
        [
         "(2, 4)",
         "1",
         "-1"
        ],
        [
         "(2, 5)",
         "-2",
         "2"
        ],
        [
         "(2, 6)",
         "-2",
         "2"
        ],
        [
         "(2, 7)",
         "-2",
         "1"
        ],
        [
         "(2, 8)",
         "1",
         "-2"
        ],
        [
         "(2, 9)",
         "1",
         "-1"
        ],
        [
         "(2, 10)",
         "1",
         "-1"
        ],
        [
         "(2, 11)",
         "1",
         "-1"
        ],
        [
         "(2, 12)",
         "-1",
         "1"
        ],
        [
         "(2, 13)",
         "-2",
         "0"
        ],
        [
         "(3, 0)",
         "-2",
         "2"
        ],
        [
         "(3, 1)",
         "1",
         "-2"
        ],
        [
         "(3, 2)",
         "-2",
         "2"
        ],
        [
         "(3, 3)",
         "1",
         "-2"
        ],
        [
         "(3, 4)",
         "1",
         "-1"
        ],
        [
         "(3, 5)",
         "-2",
         "2"
        ],
        [
         "(3, 6)",
         "-2",
         "2"
        ],
        [
         "(3, 7)",
         "-2",
         "1"
        ]
       ],
       "shape": {
        "columns": 2,
        "rows": 11578
       }
      },
      "text/html": [
       "<div>\n",
       "<style scoped>\n",
       "    .dataframe tbody tr th:only-of-type {\n",
       "        vertical-align: middle;\n",
       "    }\n",
       "\n",
       "    .dataframe tbody tr th {\n",
       "        vertical-align: top;\n",
       "    }\n",
       "\n",
       "    .dataframe thead th {\n",
       "        text-align: right;\n",
       "    }\n",
       "</style>\n",
       "<table border=\"1\" class=\"dataframe\">\n",
       "  <thead>\n",
       "    <tr style=\"text-align: right;\">\n",
       "      <th></th>\n",
       "      <th></th>\n",
       "      <th>strand</th>\n",
       "      <th>strand_compl</th>\n",
       "    </tr>\n",
       "    <tr>\n",
       "      <th>instances</th>\n",
       "      <th>time points</th>\n",
       "      <th></th>\n",
       "      <th></th>\n",
       "    </tr>\n",
       "  </thead>\n",
       "  <tbody>\n",
       "    <tr>\n",
       "      <th rowspan=\"5\" valign=\"top\">0</th>\n",
       "      <th>0</th>\n",
       "      <td>-2</td>\n",
       "      <td>2</td>\n",
       "    </tr>\n",
       "    <tr>\n",
       "      <th>1</th>\n",
       "      <td>2</td>\n",
       "      <td>-2</td>\n",
       "    </tr>\n",
       "    <tr>\n",
       "      <th>2</th>\n",
       "      <td>-2</td>\n",
       "      <td>2</td>\n",
       "    </tr>\n",
       "    <tr>\n",
       "      <th>3</th>\n",
       "      <td>2</td>\n",
       "      <td>-2</td>\n",
       "    </tr>\n",
       "    <tr>\n",
       "      <th>4</th>\n",
       "      <td>1</td>\n",
       "      <td>-1</td>\n",
       "    </tr>\n",
       "    <tr>\n",
       "      <th>...</th>\n",
       "      <th>...</th>\n",
       "      <td>...</td>\n",
       "      <td>...</td>\n",
       "    </tr>\n",
       "    <tr>\n",
       "      <th rowspan=\"5\" valign=\"top\">826</th>\n",
       "      <th>9</th>\n",
       "      <td>2</td>\n",
       "      <td>0</td>\n",
       "    </tr>\n",
       "    <tr>\n",
       "      <th>10</th>\n",
       "      <td>-1</td>\n",
       "      <td>0</td>\n",
       "    </tr>\n",
       "    <tr>\n",
       "      <th>11</th>\n",
       "      <td>-2</td>\n",
       "      <td>0</td>\n",
       "    </tr>\n",
       "    <tr>\n",
       "      <th>12</th>\n",
       "      <td>1</td>\n",
       "      <td>-1</td>\n",
       "    </tr>\n",
       "    <tr>\n",
       "      <th>13</th>\n",
       "      <td>-2</td>\n",
       "      <td>1</td>\n",
       "    </tr>\n",
       "  </tbody>\n",
       "</table>\n",
       "<p>11578 rows × 2 columns</p>\n",
       "</div>"
      ],
      "text/plain": [
       "                       strand  strand_compl\n",
       "instances time points                      \n",
       "0         0                -2             2\n",
       "          1                 2            -2\n",
       "          2                -2             2\n",
       "          3                 2            -2\n",
       "          4                 1            -1\n",
       "...                       ...           ...\n",
       "826       9                 2             0\n",
       "          10               -1             0\n",
       "          11               -2             0\n",
       "          12                1            -1\n",
       "          13               -2             1\n",
       "\n",
       "[11578 rows x 2 columns]"
      ]
     },
     "execution_count": 9,
     "metadata": {},
     "output_type": "execute_result"
    }
   ],
   "source": [
    "# https://stackoverflow.com/questions/57417520/selecting-and-renaming-columns-at-the-same-time\n",
    "# https://www.geeksforgeeks.org/how-to-rename-columns-in-pandas-dataframe/\n",
    "# https://stackoverflow.com/questions/45590866/python-pandas-concat-dataframes-with-different-columns-ignoring-column-names\n",
    "X = t_all[[\"five_p_cleav_1\", \"five_p_cleav_compl_1\"]]\n",
    "X= X.rename(columns={'five_p_cleav_1': 'strand', 'five_p_cleav_compl_1': 'strand_compl'})\n",
    "X"
   ]
  },
  {
   "cell_type": "code",
   "execution_count": 10,
   "metadata": {},
   "outputs": [
    {
     "data": {
      "application/vnd.microsoft.datawrangler.viewer.v0+json": {
       "columns": [
        {
         "name": "('instances', 'time points')",
         "rawType": "object",
         "type": "unknown"
        },
        {
         "name": "strand",
         "rawType": "int64",
         "type": "integer"
        },
        {
         "name": "strand_compl",
         "rawType": "int64",
         "type": "integer"
        }
       ],
       "conversionMethod": "pd.DataFrame",
       "ref": "91ece79f-83ee-493a-abcd-37c13022df0c",
       "rows": [
        [
         "(827, 0)",
         "2",
         "-2"
        ],
        [
         "(827, 1)",
         "1",
         "-1"
        ],
        [
         "(827, 2)",
         "1",
         "-2"
        ],
        [
         "(827, 3)",
         "-2",
         "2"
        ],
        [
         "(827, 4)",
         "-2",
         "2"
        ],
        [
         "(827, 5)",
         "1",
         "-1"
        ],
        [
         "(827, 6)",
         "-2",
         "2"
        ],
        [
         "(827, 7)",
         "2",
         "-2"
        ],
        [
         "(827, 8)",
         "-2",
         "2"
        ],
        [
         "(827, 9)",
         "2",
         "-2"
        ],
        [
         "(827, 10)",
         "1",
         "-1"
        ],
        [
         "(827, 11)",
         "-2",
         "2"
        ],
        [
         "(827, 12)",
         "-2",
         "2"
        ],
        [
         "(827, 13)",
         "-2",
         "0"
        ],
        [
         "(828, 0)",
         "2",
         "-2"
        ],
        [
         "(828, 1)",
         "1",
         "-1"
        ],
        [
         "(828, 2)",
         "1",
         "-1"
        ],
        [
         "(828, 3)",
         "-2",
         "1"
        ],
        [
         "(828, 4)",
         "-2",
         "2"
        ],
        [
         "(828, 5)",
         "1",
         "-1"
        ],
        [
         "(828, 6)",
         "-2",
         "2"
        ],
        [
         "(828, 7)",
         "2",
         "-2"
        ],
        [
         "(828, 8)",
         "-2",
         "1"
        ],
        [
         "(828, 9)",
         "2",
         "-2"
        ],
        [
         "(828, 10)",
         "1",
         "-1"
        ],
        [
         "(828, 11)",
         "-2",
         "2"
        ],
        [
         "(828, 12)",
         "-2",
         "2"
        ],
        [
         "(828, 13)",
         "-2",
         "0"
        ],
        [
         "(829, 0)",
         "2",
         "-2"
        ],
        [
         "(829, 1)",
         "1",
         "-1"
        ],
        [
         "(829, 2)",
         "1",
         "-2"
        ],
        [
         "(829, 3)",
         "-2",
         "2"
        ],
        [
         "(829, 4)",
         "-2",
         "2"
        ],
        [
         "(829, 5)",
         "1",
         "-1"
        ],
        [
         "(829, 6)",
         "-2",
         "2"
        ],
        [
         "(829, 7)",
         "2",
         "-2"
        ],
        [
         "(829, 8)",
         "-2",
         "2"
        ],
        [
         "(829, 9)",
         "2",
         "-2"
        ],
        [
         "(829, 10)",
         "1",
         "-1"
        ],
        [
         "(829, 11)",
         "-2",
         "2"
        ],
        [
         "(829, 12)",
         "-2",
         "2"
        ],
        [
         "(829, 13)",
         "-2",
         "1"
        ],
        [
         "(830, 0)",
         "2",
         "-2"
        ],
        [
         "(830, 1)",
         "1",
         "-1"
        ],
        [
         "(830, 2)",
         "1",
         "-1"
        ],
        [
         "(830, 3)",
         "-2",
         "2"
        ],
        [
         "(830, 4)",
         "-2",
         "2"
        ],
        [
         "(830, 5)",
         "1",
         "-1"
        ],
        [
         "(830, 6)",
         "-2",
         "2"
        ],
        [
         "(830, 7)",
         "1",
         "-2"
        ]
       ],
       "shape": {
        "columns": 2,
        "rows": 11578
       }
      },
      "text/html": [
       "<div>\n",
       "<style scoped>\n",
       "    .dataframe tbody tr th:only-of-type {\n",
       "        vertical-align: middle;\n",
       "    }\n",
       "\n",
       "    .dataframe tbody tr th {\n",
       "        vertical-align: top;\n",
       "    }\n",
       "\n",
       "    .dataframe thead th {\n",
       "        text-align: right;\n",
       "    }\n",
       "</style>\n",
       "<table border=\"1\" class=\"dataframe\">\n",
       "  <thead>\n",
       "    <tr style=\"text-align: right;\">\n",
       "      <th></th>\n",
       "      <th></th>\n",
       "      <th>strand</th>\n",
       "      <th>strand_compl</th>\n",
       "    </tr>\n",
       "    <tr>\n",
       "      <th>instances</th>\n",
       "      <th>time points</th>\n",
       "      <th></th>\n",
       "      <th></th>\n",
       "    </tr>\n",
       "  </thead>\n",
       "  <tbody>\n",
       "    <tr>\n",
       "      <th rowspan=\"5\" valign=\"top\">827</th>\n",
       "      <th>0</th>\n",
       "      <td>2</td>\n",
       "      <td>-2</td>\n",
       "    </tr>\n",
       "    <tr>\n",
       "      <th>1</th>\n",
       "      <td>1</td>\n",
       "      <td>-1</td>\n",
       "    </tr>\n",
       "    <tr>\n",
       "      <th>2</th>\n",
       "      <td>1</td>\n",
       "      <td>-2</td>\n",
       "    </tr>\n",
       "    <tr>\n",
       "      <th>3</th>\n",
       "      <td>-2</td>\n",
       "      <td>2</td>\n",
       "    </tr>\n",
       "    <tr>\n",
       "      <th>4</th>\n",
       "      <td>-2</td>\n",
       "      <td>2</td>\n",
       "    </tr>\n",
       "    <tr>\n",
       "      <th>...</th>\n",
       "      <th>...</th>\n",
       "      <td>...</td>\n",
       "      <td>...</td>\n",
       "    </tr>\n",
       "    <tr>\n",
       "      <th rowspan=\"5\" valign=\"top\">1653</th>\n",
       "      <th>9</th>\n",
       "      <td>-1</td>\n",
       "      <td>1</td>\n",
       "    </tr>\n",
       "    <tr>\n",
       "      <th>10</th>\n",
       "      <td>-1</td>\n",
       "      <td>0</td>\n",
       "    </tr>\n",
       "    <tr>\n",
       "      <th>11</th>\n",
       "      <td>1</td>\n",
       "      <td>0</td>\n",
       "    </tr>\n",
       "    <tr>\n",
       "      <th>12</th>\n",
       "      <td>-1</td>\n",
       "      <td>1</td>\n",
       "    </tr>\n",
       "    <tr>\n",
       "      <th>13</th>\n",
       "      <td>2</td>\n",
       "      <td>-2</td>\n",
       "    </tr>\n",
       "  </tbody>\n",
       "</table>\n",
       "<p>11578 rows × 2 columns</p>\n",
       "</div>"
      ],
      "text/plain": [
       "                       strand  strand_compl\n",
       "instances time points                      \n",
       "827       0                 2            -2\n",
       "          1                 1            -1\n",
       "          2                 1            -2\n",
       "          3                -2             2\n",
       "          4                -2             2\n",
       "...                       ...           ...\n",
       "1653      9                -1             1\n",
       "          10               -1             0\n",
       "          11                1             0\n",
       "          12               -1             1\n",
       "          13                2            -2\n",
       "\n",
       "[11578 rows x 2 columns]"
      ]
     },
     "execution_count": 10,
     "metadata": {},
     "output_type": "execute_result"
    }
   ],
   "source": [
    "temp = t_all[[\"five_p_non_cleav_1\", \"five_p_non_cleav_compl_1\"]]\n",
    "temp = temp.rename(columns={'five_p_non_cleav_1': 'strand', 'five_p_non_cleav_compl_1': 'strand_compl'})\n",
    "# https://stackoverflow.com/questions/79445936/shift-change-the-index-of-a-dataframe\n",
    "temp.index = temp.index.map(lambda idx: (idx[0] + 827, idx[1]))\n",
    "temp\n"
   ]
  },
  {
   "cell_type": "code",
   "execution_count": 11,
   "metadata": {},
   "outputs": [
    {
     "data": {
      "application/vnd.microsoft.datawrangler.viewer.v0+json": {
       "columns": [
        {
         "name": "('instances', 'time points')",
         "rawType": "object",
         "type": "unknown"
        },
        {
         "name": "strand",
         "rawType": "int64",
         "type": "integer"
        },
        {
         "name": "strand_compl",
         "rawType": "int64",
         "type": "integer"
        }
       ],
       "conversionMethod": "pd.DataFrame",
       "ref": "9712a022-301b-4590-85f0-0cd5d435ace3",
       "rows": [
        [
         "(0, 0)",
         "-2",
         "2"
        ],
        [
         "(0, 1)",
         "2",
         "-2"
        ],
        [
         "(0, 2)",
         "-2",
         "2"
        ],
        [
         "(0, 3)",
         "2",
         "-2"
        ],
        [
         "(0, 4)",
         "1",
         "-1"
        ],
        [
         "(0, 5)",
         "-2",
         "2"
        ],
        [
         "(0, 6)",
         "-2",
         "2"
        ],
        [
         "(0, 7)",
         "-2",
         "0"
        ],
        [
         "(0, 8)",
         "-2",
         "0"
        ],
        [
         "(0, 9)",
         "2",
         "0"
        ],
        [
         "(0, 10)",
         "1",
         "0"
        ],
        [
         "(0, 11)",
         "1",
         "0"
        ],
        [
         "(0, 12)",
         "1",
         "-2"
        ],
        [
         "(0, 13)",
         "-2",
         "2"
        ],
        [
         "(1, 0)",
         "-2",
         "2"
        ],
        [
         "(1, 1)",
         "2",
         "-2"
        ],
        [
         "(1, 2)",
         "-2",
         "1"
        ],
        [
         "(1, 3)",
         "2",
         "-2"
        ],
        [
         "(1, 4)",
         "1",
         "-1"
        ],
        [
         "(1, 5)",
         "-2",
         "2"
        ],
        [
         "(1, 6)",
         "-2",
         "2"
        ],
        [
         "(1, 7)",
         "-2",
         "0"
        ],
        [
         "(1, 8)",
         "2",
         "0"
        ],
        [
         "(1, 9)",
         "1",
         "0"
        ],
        [
         "(1, 10)",
         "2",
         "0"
        ],
        [
         "(1, 11)",
         "2",
         "0"
        ],
        [
         "(1, 12)",
         "-2",
         "0"
        ],
        [
         "(1, 13)",
         "-2",
         "0"
        ],
        [
         "(2, 0)",
         "-2",
         "2"
        ],
        [
         "(2, 1)",
         "2",
         "-2"
        ],
        [
         "(2, 2)",
         "-2",
         "2"
        ],
        [
         "(2, 3)",
         "2",
         "-2"
        ],
        [
         "(2, 4)",
         "1",
         "-1"
        ],
        [
         "(2, 5)",
         "-2",
         "2"
        ],
        [
         "(2, 6)",
         "-2",
         "2"
        ],
        [
         "(2, 7)",
         "-2",
         "1"
        ],
        [
         "(2, 8)",
         "1",
         "-2"
        ],
        [
         "(2, 9)",
         "1",
         "-1"
        ],
        [
         "(2, 10)",
         "1",
         "-1"
        ],
        [
         "(2, 11)",
         "1",
         "-1"
        ],
        [
         "(2, 12)",
         "-1",
         "1"
        ],
        [
         "(2, 13)",
         "-2",
         "0"
        ],
        [
         "(3, 0)",
         "-2",
         "2"
        ],
        [
         "(3, 1)",
         "1",
         "-2"
        ],
        [
         "(3, 2)",
         "-2",
         "2"
        ],
        [
         "(3, 3)",
         "1",
         "-2"
        ],
        [
         "(3, 4)",
         "1",
         "-1"
        ],
        [
         "(3, 5)",
         "-2",
         "2"
        ],
        [
         "(3, 6)",
         "-2",
         "2"
        ],
        [
         "(3, 7)",
         "-2",
         "1"
        ]
       ],
       "shape": {
        "columns": 2,
        "rows": 23156
       }
      },
      "text/html": [
       "<div>\n",
       "<style scoped>\n",
       "    .dataframe tbody tr th:only-of-type {\n",
       "        vertical-align: middle;\n",
       "    }\n",
       "\n",
       "    .dataframe tbody tr th {\n",
       "        vertical-align: top;\n",
       "    }\n",
       "\n",
       "    .dataframe thead th {\n",
       "        text-align: right;\n",
       "    }\n",
       "</style>\n",
       "<table border=\"1\" class=\"dataframe\">\n",
       "  <thead>\n",
       "    <tr style=\"text-align: right;\">\n",
       "      <th></th>\n",
       "      <th></th>\n",
       "      <th>strand</th>\n",
       "      <th>strand_compl</th>\n",
       "    </tr>\n",
       "    <tr>\n",
       "      <th>instances</th>\n",
       "      <th>time points</th>\n",
       "      <th></th>\n",
       "      <th></th>\n",
       "    </tr>\n",
       "  </thead>\n",
       "  <tbody>\n",
       "    <tr>\n",
       "      <th rowspan=\"5\" valign=\"top\">0</th>\n",
       "      <th>0</th>\n",
       "      <td>-2</td>\n",
       "      <td>2</td>\n",
       "    </tr>\n",
       "    <tr>\n",
       "      <th>1</th>\n",
       "      <td>2</td>\n",
       "      <td>-2</td>\n",
       "    </tr>\n",
       "    <tr>\n",
       "      <th>2</th>\n",
       "      <td>-2</td>\n",
       "      <td>2</td>\n",
       "    </tr>\n",
       "    <tr>\n",
       "      <th>3</th>\n",
       "      <td>2</td>\n",
       "      <td>-2</td>\n",
       "    </tr>\n",
       "    <tr>\n",
       "      <th>4</th>\n",
       "      <td>1</td>\n",
       "      <td>-1</td>\n",
       "    </tr>\n",
       "    <tr>\n",
       "      <th>...</th>\n",
       "      <th>...</th>\n",
       "      <td>...</td>\n",
       "      <td>...</td>\n",
       "    </tr>\n",
       "    <tr>\n",
       "      <th rowspan=\"5\" valign=\"top\">1653</th>\n",
       "      <th>9</th>\n",
       "      <td>-1</td>\n",
       "      <td>1</td>\n",
       "    </tr>\n",
       "    <tr>\n",
       "      <th>10</th>\n",
       "      <td>-1</td>\n",
       "      <td>0</td>\n",
       "    </tr>\n",
       "    <tr>\n",
       "      <th>11</th>\n",
       "      <td>1</td>\n",
       "      <td>0</td>\n",
       "    </tr>\n",
       "    <tr>\n",
       "      <th>12</th>\n",
       "      <td>-1</td>\n",
       "      <td>1</td>\n",
       "    </tr>\n",
       "    <tr>\n",
       "      <th>13</th>\n",
       "      <td>2</td>\n",
       "      <td>-2</td>\n",
       "    </tr>\n",
       "  </tbody>\n",
       "</table>\n",
       "<p>23156 rows × 2 columns</p>\n",
       "</div>"
      ],
      "text/plain": [
       "                       strand  strand_compl\n",
       "instances time points                      \n",
       "0         0                -2             2\n",
       "          1                 2            -2\n",
       "          2                -2             2\n",
       "          3                 2            -2\n",
       "          4                 1            -1\n",
       "...                       ...           ...\n",
       "1653      9                -1             1\n",
       "          10               -1             0\n",
       "          11                1             0\n",
       "          12               -1             1\n",
       "          13                2            -2\n",
       "\n",
       "[23156 rows x 2 columns]"
      ]
     },
     "execution_count": 11,
     "metadata": {},
     "output_type": "execute_result"
    }
   ],
   "source": [
    "X = pd.concat([X, temp], axis=0)\n",
    "X"
   ]
  },
  {
   "cell_type": "code",
   "execution_count": 13,
   "metadata": {},
   "outputs": [
    {
     "data": {
      "text/plain": [
       "array(['five_p_cleav', 'five_p_cleav', 'five_p_cleav', ...,\n",
       "       'five_p_cleav_compl', 'five_p_cleav_compl', 'five_p_cleav_compl'],\n",
       "      dtype='<U18')"
      ]
     },
     "execution_count": 13,
     "metadata": {},
     "output_type": "execute_result"
    }
   ],
   "source": [
    "# https://stackoverflow.com/questions/31270971/how-to-create-a-numpy-array-of-n-numbers-of-the-same-value\n",
    "import numpy as np\n",
    "y = np.concatenate((np.full((1, 827), 'five_p_cleav'), np.full((1, 827), 'five_p_cleav_compl')), axis=None)\n",
    "y"
   ]
  },
  {
   "cell_type": "code",
   "execution_count": 14,
   "metadata": {},
   "outputs": [],
   "source": [
    "from sklearn.model_selection import train_test_split, cross_val_score\n",
    "\n",
    "# Split data into train and test sets\n",
    "np.random.seed(18)\n",
    "\n",
    "# Split into train & test set\n",
    "# https://gist.github.com/shaypal5/3e34e85bd89d65d4ac118daa9a42b174\n",
    "X_train_ix, X_test_ix, y_train, y_test = train_test_split(X.index.get_level_values(0).unique(), y, test_size=0.2)"
   ]
  },
  {
   "cell_type": "code",
   "execution_count": 15,
   "metadata": {},
   "outputs": [],
   "source": [
    "X_train = X.loc[X_train_ix]\n",
    "X_test = X.loc[X_test_ix]"
   ]
  },
  {
   "cell_type": "code",
   "execution_count": 16,
   "metadata": {},
   "outputs": [
    {
     "data": {
      "text/plain": [
       "Index([ 427,  501, 1541, 1070, 1561, 1576,  308, 1611,  986,   25,\n",
       "       ...\n",
       "        913,  738,  264,  578,  242, 1198,  837, 1144,  275, 1322],\n",
       "      dtype='int64', name='instances', length=1323)"
      ]
     },
     "execution_count": 16,
     "metadata": {},
     "output_type": "execute_result"
    }
   ],
   "source": [
    "X_train.index.get_level_values(0).unique()"
   ]
  },
  {
   "cell_type": "code",
   "execution_count": 17,
   "metadata": {},
   "outputs": [
    {
     "data": {
      "text/plain": [
       "Index([427, 501, 1541, 1070, 1561, 1576, 308, 1611, 986, 25], dtype='int64', name='instances')"
      ]
     },
     "execution_count": 17,
     "metadata": {},
     "output_type": "execute_result"
    }
   ],
   "source": [
    "X_train_ix[:10]"
   ]
  },
  {
   "cell_type": "code",
   "execution_count": 18,
   "metadata": {},
   "outputs": [
    {
     "data": {
      "text/plain": [
       "array(['five_p_cleav', 'five_p_cleav', 'five_p_cleav_compl',\n",
       "       'five_p_cleav_compl', 'five_p_cleav_compl', 'five_p_cleav_compl',\n",
       "       'five_p_cleav', 'five_p_cleav_compl', 'five_p_cleav_compl',\n",
       "       'five_p_cleav'], dtype='<U18')"
      ]
     },
     "execution_count": 18,
     "metadata": {},
     "output_type": "execute_result"
    }
   ],
   "source": [
    "y_train[:10]"
   ]
  },
  {
   "cell_type": "code",
   "execution_count": 19,
   "metadata": {},
   "outputs": [
    {
     "data": {
      "text/plain": [
       "(1323, 331)"
      ]
     },
     "execution_count": 19,
     "metadata": {},
     "output_type": "execute_result"
    }
   ],
   "source": [
    "len(y_train), len(y_test)"
   ]
  },
  {
   "cell_type": "markdown",
   "metadata": {},
   "source": [
    "# Prepare multiclass classification data"
   ]
  },
  {
   "cell_type": "code",
   "execution_count": null,
   "metadata": {},
   "outputs": [],
   "source": []
  },
  {
   "cell_type": "markdown",
   "metadata": {},
   "source": [
    "# Rocket"
   ]
  },
  {
   "cell_type": "markdown",
   "metadata": {},
   "source": [
    "## Multivariate Time Series"
   ]
  },
  {
   "cell_type": "code",
   "execution_count": 20,
   "metadata": {},
   "outputs": [
    {
     "data": {
      "application/vnd.microsoft.datawrangler.viewer.v0+json": {
       "columns": [
        {
         "name": "('instances', 'time points')",
         "rawType": "object",
         "type": "unknown"
        },
        {
         "name": "strand",
         "rawType": "int64",
         "type": "integer"
        },
        {
         "name": "strand_compl",
         "rawType": "int64",
         "type": "integer"
        }
       ],
       "conversionMethod": "pd.DataFrame",
       "ref": "65f4b6a1-10b1-48e5-b81a-333afd8b76dd",
       "rows": [
        [
         "(427, 0)",
         "-2",
         "2"
        ],
        [
         "(427, 1)",
         "-2",
         "1"
        ],
        [
         "(427, 2)",
         "1",
         "-2"
        ],
        [
         "(427, 3)",
         "-2",
         "2"
        ],
        [
         "(427, 4)",
         "1",
         "-1"
        ],
        [
         "(427, 5)",
         "-1",
         "1"
        ],
        [
         "(427, 6)",
         "2",
         "-2"
        ],
        [
         "(427, 7)",
         "2",
         "-2"
        ],
        [
         "(427, 8)",
         "2",
         "-2"
        ],
        [
         "(427, 9)",
         "-2",
         "0"
        ],
        [
         "(427, 10)",
         "1",
         "-1"
        ],
        [
         "(427, 11)",
         "-1",
         "1"
        ],
        [
         "(427, 12)",
         "2",
         "0"
        ],
        [
         "(427, 13)",
         "2",
         "0"
        ],
        [
         "(501, 0)",
         "-2",
         "2"
        ],
        [
         "(501, 1)",
         "-1",
         "1"
        ],
        [
         "(501, 2)",
         "2",
         "-2"
        ],
        [
         "(501, 3)",
         "-2",
         "2"
        ],
        [
         "(501, 4)",
         "-2",
         "2"
        ],
        [
         "(501, 5)",
         "-2",
         "2"
        ],
        [
         "(501, 6)",
         "-1",
         "1"
        ],
        [
         "(501, 7)",
         "-1",
         "0"
        ],
        [
         "(501, 8)",
         "-2",
         "0"
        ],
        [
         "(501, 9)",
         "-2",
         "0"
        ],
        [
         "(501, 10)",
         "-1",
         "0"
        ],
        [
         "(501, 11)",
         "2",
         "0"
        ],
        [
         "(501, 12)",
         "-2",
         "0"
        ],
        [
         "(501, 13)",
         "1",
         "-2"
        ],
        [
         "(1541, 0)",
         "1",
         "-1"
        ],
        [
         "(1541, 1)",
         "2",
         "-2"
        ],
        [
         "(1541, 2)",
         "1",
         "-2"
        ],
        [
         "(1541, 3)",
         "1",
         "-1"
        ],
        [
         "(1541, 4)",
         "-1",
         "0"
        ],
        [
         "(1541, 5)",
         "-2",
         "0"
        ],
        [
         "(1541, 6)",
         "1",
         "-2"
        ],
        [
         "(1541, 7)",
         "1",
         "-1"
        ],
        [
         "(1541, 8)",
         "2",
         "-2"
        ],
        [
         "(1541, 9)",
         "-1",
         "1"
        ],
        [
         "(1541, 10)",
         "2",
         "-2"
        ],
        [
         "(1541, 11)",
         "-2",
         "1"
        ],
        [
         "(1541, 12)",
         "-1",
         "1"
        ],
        [
         "(1541, 13)",
         "-1",
         "0"
        ],
        [
         "(1070, 0)",
         "1",
         "-1"
        ],
        [
         "(1070, 1)",
         "1",
         "-1"
        ],
        [
         "(1070, 2)",
         "2",
         "-2"
        ],
        [
         "(1070, 3)",
         "2",
         "0"
        ],
        [
         "(1070, 4)",
         "1",
         "-1"
        ],
        [
         "(1070, 5)",
         "-1",
         "1"
        ],
        [
         "(1070, 6)",
         "2",
         "-2"
        ],
        [
         "(1070, 7)",
         "-1",
         "1"
        ]
       ],
       "shape": {
        "columns": 2,
        "rows": 18522
       }
      },
      "text/html": [
       "<div>\n",
       "<style scoped>\n",
       "    .dataframe tbody tr th:only-of-type {\n",
       "        vertical-align: middle;\n",
       "    }\n",
       "\n",
       "    .dataframe tbody tr th {\n",
       "        vertical-align: top;\n",
       "    }\n",
       "\n",
       "    .dataframe thead th {\n",
       "        text-align: right;\n",
       "    }\n",
       "</style>\n",
       "<table border=\"1\" class=\"dataframe\">\n",
       "  <thead>\n",
       "    <tr style=\"text-align: right;\">\n",
       "      <th></th>\n",
       "      <th></th>\n",
       "      <th>strand</th>\n",
       "      <th>strand_compl</th>\n",
       "    </tr>\n",
       "    <tr>\n",
       "      <th>instances</th>\n",
       "      <th>time points</th>\n",
       "      <th></th>\n",
       "      <th></th>\n",
       "    </tr>\n",
       "  </thead>\n",
       "  <tbody>\n",
       "    <tr>\n",
       "      <th rowspan=\"5\" valign=\"top\">427</th>\n",
       "      <th>0</th>\n",
       "      <td>-2</td>\n",
       "      <td>2</td>\n",
       "    </tr>\n",
       "    <tr>\n",
       "      <th>1</th>\n",
       "      <td>-2</td>\n",
       "      <td>1</td>\n",
       "    </tr>\n",
       "    <tr>\n",
       "      <th>2</th>\n",
       "      <td>1</td>\n",
       "      <td>-2</td>\n",
       "    </tr>\n",
       "    <tr>\n",
       "      <th>3</th>\n",
       "      <td>-2</td>\n",
       "      <td>2</td>\n",
       "    </tr>\n",
       "    <tr>\n",
       "      <th>4</th>\n",
       "      <td>1</td>\n",
       "      <td>-1</td>\n",
       "    </tr>\n",
       "    <tr>\n",
       "      <th>...</th>\n",
       "      <th>...</th>\n",
       "      <td>...</td>\n",
       "      <td>...</td>\n",
       "    </tr>\n",
       "    <tr>\n",
       "      <th rowspan=\"5\" valign=\"top\">1322</th>\n",
       "      <th>9</th>\n",
       "      <td>1</td>\n",
       "      <td>-1</td>\n",
       "    </tr>\n",
       "    <tr>\n",
       "      <th>10</th>\n",
       "      <td>2</td>\n",
       "      <td>-2</td>\n",
       "    </tr>\n",
       "    <tr>\n",
       "      <th>11</th>\n",
       "      <td>-2</td>\n",
       "      <td>2</td>\n",
       "    </tr>\n",
       "    <tr>\n",
       "      <th>12</th>\n",
       "      <td>-2</td>\n",
       "      <td>2</td>\n",
       "    </tr>\n",
       "    <tr>\n",
       "      <th>13</th>\n",
       "      <td>1</td>\n",
       "      <td>-1</td>\n",
       "    </tr>\n",
       "  </tbody>\n",
       "</table>\n",
       "<p>18522 rows × 2 columns</p>\n",
       "</div>"
      ],
      "text/plain": [
       "                       strand  strand_compl\n",
       "instances time points                      \n",
       "427       0                -2             2\n",
       "          1                -2             1\n",
       "          2                 1            -2\n",
       "          3                -2             2\n",
       "          4                 1            -1\n",
       "...                       ...           ...\n",
       "1322      9                 1            -1\n",
       "          10                2            -2\n",
       "          11               -2             2\n",
       "          12               -2             2\n",
       "          13                1            -1\n",
       "\n",
       "[18522 rows x 2 columns]"
      ]
     },
     "execution_count": 20,
     "metadata": {},
     "output_type": "execute_result"
    }
   ],
   "source": [
    "X_train"
   ]
  },
  {
   "cell_type": "code",
   "execution_count": 21,
   "metadata": {},
   "outputs": [
    {
     "name": "stdout",
     "output_type": "stream",
     "text": [
      "1323\n"
     ]
    }
   ],
   "source": [
    "num_instances = X_train.index.get_level_values('instances').nunique()\n",
    "print(num_instances)"
   ]
  },
  {
   "cell_type": "code",
   "execution_count": 22,
   "metadata": {},
   "outputs": [],
   "source": [
    "from sktime.transformations.panel.rocket import Rocket\n",
    "rocket = Rocket()\n",
    "rocket.fit(X_train)\n",
    "X_train_transform = rocket.transform(X_train)"
   ]
  },
  {
   "cell_type": "code",
   "execution_count": 23,
   "metadata": {},
   "outputs": [
    {
     "data": {
      "text/html": [
       "<style>#sk-container-id-1 {\n",
       "  /* Definition of color scheme common for light and dark mode */\n",
       "  --sklearn-color-text: black;\n",
       "  --sklearn-color-line: gray;\n",
       "  /* Definition of color scheme for unfitted estimators */\n",
       "  --sklearn-color-unfitted-level-0: #fff5e6;\n",
       "  --sklearn-color-unfitted-level-1: #f6e4d2;\n",
       "  --sklearn-color-unfitted-level-2: #ffe0b3;\n",
       "  --sklearn-color-unfitted-level-3: chocolate;\n",
       "  /* Definition of color scheme for fitted estimators */\n",
       "  --sklearn-color-fitted-level-0: #f0f8ff;\n",
       "  --sklearn-color-fitted-level-1: #d4ebff;\n",
       "  --sklearn-color-fitted-level-2: #b3dbfd;\n",
       "  --sklearn-color-fitted-level-3: cornflowerblue;\n",
       "\n",
       "  /* Specific color for light theme */\n",
       "  --sklearn-color-text-on-default-background: var(--sg-text-color, var(--theme-code-foreground, var(--jp-content-font-color1, black)));\n",
       "  --sklearn-color-background: var(--sg-background-color, var(--theme-background, var(--jp-layout-color0, white)));\n",
       "  --sklearn-color-border-box: var(--sg-text-color, var(--theme-code-foreground, var(--jp-content-font-color1, black)));\n",
       "  --sklearn-color-icon: #696969;\n",
       "\n",
       "  @media (prefers-color-scheme: dark) {\n",
       "    /* Redefinition of color scheme for dark theme */\n",
       "    --sklearn-color-text-on-default-background: var(--sg-text-color, var(--theme-code-foreground, var(--jp-content-font-color1, white)));\n",
       "    --sklearn-color-background: var(--sg-background-color, var(--theme-background, var(--jp-layout-color0, #111)));\n",
       "    --sklearn-color-border-box: var(--sg-text-color, var(--theme-code-foreground, var(--jp-content-font-color1, white)));\n",
       "    --sklearn-color-icon: #878787;\n",
       "  }\n",
       "}\n",
       "\n",
       "#sk-container-id-1 {\n",
       "  color: var(--sklearn-color-text);\n",
       "}\n",
       "\n",
       "#sk-container-id-1 pre {\n",
       "  padding: 0;\n",
       "}\n",
       "\n",
       "#sk-container-id-1 input.sk-hidden--visually {\n",
       "  border: 0;\n",
       "  clip: rect(1px 1px 1px 1px);\n",
       "  clip: rect(1px, 1px, 1px, 1px);\n",
       "  height: 1px;\n",
       "  margin: -1px;\n",
       "  overflow: hidden;\n",
       "  padding: 0;\n",
       "  position: absolute;\n",
       "  width: 1px;\n",
       "}\n",
       "\n",
       "#sk-container-id-1 div.sk-dashed-wrapped {\n",
       "  border: 1px dashed var(--sklearn-color-line);\n",
       "  margin: 0 0.4em 0.5em 0.4em;\n",
       "  box-sizing: border-box;\n",
       "  padding-bottom: 0.4em;\n",
       "  background-color: var(--sklearn-color-background);\n",
       "}\n",
       "\n",
       "#sk-container-id-1 div.sk-container {\n",
       "  /* jupyter's `normalize.less` sets `[hidden] { display: none; }`\n",
       "     but bootstrap.min.css set `[hidden] { display: none !important; }`\n",
       "     so we also need the `!important` here to be able to override the\n",
       "     default hidden behavior on the sphinx rendered scikit-learn.org.\n",
       "     See: https://github.com/scikit-learn/scikit-learn/issues/21755 */\n",
       "  display: inline-block !important;\n",
       "  position: relative;\n",
       "}\n",
       "\n",
       "#sk-container-id-1 div.sk-text-repr-fallback {\n",
       "  display: none;\n",
       "}\n",
       "\n",
       "div.sk-parallel-item,\n",
       "div.sk-serial,\n",
       "div.sk-item {\n",
       "  /* draw centered vertical line to link estimators */\n",
       "  background-image: linear-gradient(var(--sklearn-color-text-on-default-background), var(--sklearn-color-text-on-default-background));\n",
       "  background-size: 2px 100%;\n",
       "  background-repeat: no-repeat;\n",
       "  background-position: center center;\n",
       "}\n",
       "\n",
       "/* Parallel-specific style estimator block */\n",
       "\n",
       "#sk-container-id-1 div.sk-parallel-item::after {\n",
       "  content: \"\";\n",
       "  width: 100%;\n",
       "  border-bottom: 2px solid var(--sklearn-color-text-on-default-background);\n",
       "  flex-grow: 1;\n",
       "}\n",
       "\n",
       "#sk-container-id-1 div.sk-parallel {\n",
       "  display: flex;\n",
       "  align-items: stretch;\n",
       "  justify-content: center;\n",
       "  background-color: var(--sklearn-color-background);\n",
       "  position: relative;\n",
       "}\n",
       "\n",
       "#sk-container-id-1 div.sk-parallel-item {\n",
       "  display: flex;\n",
       "  flex-direction: column;\n",
       "}\n",
       "\n",
       "#sk-container-id-1 div.sk-parallel-item:first-child::after {\n",
       "  align-self: flex-end;\n",
       "  width: 50%;\n",
       "}\n",
       "\n",
       "#sk-container-id-1 div.sk-parallel-item:last-child::after {\n",
       "  align-self: flex-start;\n",
       "  width: 50%;\n",
       "}\n",
       "\n",
       "#sk-container-id-1 div.sk-parallel-item:only-child::after {\n",
       "  width: 0;\n",
       "}\n",
       "\n",
       "/* Serial-specific style estimator block */\n",
       "\n",
       "#sk-container-id-1 div.sk-serial {\n",
       "  display: flex;\n",
       "  flex-direction: column;\n",
       "  align-items: center;\n",
       "  background-color: var(--sklearn-color-background);\n",
       "  padding-right: 1em;\n",
       "  padding-left: 1em;\n",
       "}\n",
       "\n",
       "\n",
       "/* Toggleable style: style used for estimator/Pipeline/ColumnTransformer box that is\n",
       "clickable and can be expanded/collapsed.\n",
       "- Pipeline and ColumnTransformer use this feature and define the default style\n",
       "- Estimators will overwrite some part of the style using the `sk-estimator` class\n",
       "*/\n",
       "\n",
       "/* Pipeline and ColumnTransformer style (default) */\n",
       "\n",
       "#sk-container-id-1 div.sk-toggleable {\n",
       "  /* Default theme specific background. It is overwritten whether we have a\n",
       "  specific estimator or a Pipeline/ColumnTransformer */\n",
       "  background-color: var(--sklearn-color-background);\n",
       "}\n",
       "\n",
       "/* Toggleable label */\n",
       "#sk-container-id-1 label.sk-toggleable__label {\n",
       "  cursor: pointer;\n",
       "  display: block;\n",
       "  width: 100%;\n",
       "  margin-bottom: 0;\n",
       "  padding: 0.5em;\n",
       "  box-sizing: border-box;\n",
       "  text-align: center;\n",
       "}\n",
       "\n",
       "#sk-container-id-1 label.sk-toggleable__label-arrow:before {\n",
       "  /* Arrow on the left of the label */\n",
       "  content: \"▸\";\n",
       "  float: left;\n",
       "  margin-right: 0.25em;\n",
       "  color: var(--sklearn-color-icon);\n",
       "}\n",
       "\n",
       "#sk-container-id-1 label.sk-toggleable__label-arrow:hover:before {\n",
       "  color: var(--sklearn-color-text);\n",
       "}\n",
       "\n",
       "/* Toggleable content - dropdown */\n",
       "\n",
       "#sk-container-id-1 div.sk-toggleable__content {\n",
       "  max-height: 0;\n",
       "  max-width: 0;\n",
       "  overflow: hidden;\n",
       "  text-align: left;\n",
       "  /* unfitted */\n",
       "  background-color: var(--sklearn-color-unfitted-level-0);\n",
       "}\n",
       "\n",
       "#sk-container-id-1 div.sk-toggleable__content.fitted {\n",
       "  /* fitted */\n",
       "  background-color: var(--sklearn-color-fitted-level-0);\n",
       "}\n",
       "\n",
       "#sk-container-id-1 div.sk-toggleable__content pre {\n",
       "  margin: 0.2em;\n",
       "  border-radius: 0.25em;\n",
       "  color: var(--sklearn-color-text);\n",
       "  /* unfitted */\n",
       "  background-color: var(--sklearn-color-unfitted-level-0);\n",
       "}\n",
       "\n",
       "#sk-container-id-1 div.sk-toggleable__content.fitted pre {\n",
       "  /* unfitted */\n",
       "  background-color: var(--sklearn-color-fitted-level-0);\n",
       "}\n",
       "\n",
       "#sk-container-id-1 input.sk-toggleable__control:checked~div.sk-toggleable__content {\n",
       "  /* Expand drop-down */\n",
       "  max-height: 200px;\n",
       "  max-width: 100%;\n",
       "  overflow: auto;\n",
       "}\n",
       "\n",
       "#sk-container-id-1 input.sk-toggleable__control:checked~label.sk-toggleable__label-arrow:before {\n",
       "  content: \"▾\";\n",
       "}\n",
       "\n",
       "/* Pipeline/ColumnTransformer-specific style */\n",
       "\n",
       "#sk-container-id-1 div.sk-label input.sk-toggleable__control:checked~label.sk-toggleable__label {\n",
       "  color: var(--sklearn-color-text);\n",
       "  background-color: var(--sklearn-color-unfitted-level-2);\n",
       "}\n",
       "\n",
       "#sk-container-id-1 div.sk-label.fitted input.sk-toggleable__control:checked~label.sk-toggleable__label {\n",
       "  background-color: var(--sklearn-color-fitted-level-2);\n",
       "}\n",
       "\n",
       "/* Estimator-specific style */\n",
       "\n",
       "/* Colorize estimator box */\n",
       "#sk-container-id-1 div.sk-estimator input.sk-toggleable__control:checked~label.sk-toggleable__label {\n",
       "  /* unfitted */\n",
       "  background-color: var(--sklearn-color-unfitted-level-2);\n",
       "}\n",
       "\n",
       "#sk-container-id-1 div.sk-estimator.fitted input.sk-toggleable__control:checked~label.sk-toggleable__label {\n",
       "  /* fitted */\n",
       "  background-color: var(--sklearn-color-fitted-level-2);\n",
       "}\n",
       "\n",
       "#sk-container-id-1 div.sk-label label.sk-toggleable__label,\n",
       "#sk-container-id-1 div.sk-label label {\n",
       "  /* The background is the default theme color */\n",
       "  color: var(--sklearn-color-text-on-default-background);\n",
       "}\n",
       "\n",
       "/* On hover, darken the color of the background */\n",
       "#sk-container-id-1 div.sk-label:hover label.sk-toggleable__label {\n",
       "  color: var(--sklearn-color-text);\n",
       "  background-color: var(--sklearn-color-unfitted-level-2);\n",
       "}\n",
       "\n",
       "/* Label box, darken color on hover, fitted */\n",
       "#sk-container-id-1 div.sk-label.fitted:hover label.sk-toggleable__label.fitted {\n",
       "  color: var(--sklearn-color-text);\n",
       "  background-color: var(--sklearn-color-fitted-level-2);\n",
       "}\n",
       "\n",
       "/* Estimator label */\n",
       "\n",
       "#sk-container-id-1 div.sk-label label {\n",
       "  font-family: monospace;\n",
       "  font-weight: bold;\n",
       "  display: inline-block;\n",
       "  line-height: 1.2em;\n",
       "}\n",
       "\n",
       "#sk-container-id-1 div.sk-label-container {\n",
       "  text-align: center;\n",
       "}\n",
       "\n",
       "/* Estimator-specific */\n",
       "#sk-container-id-1 div.sk-estimator {\n",
       "  font-family: monospace;\n",
       "  border: 1px dotted var(--sklearn-color-border-box);\n",
       "  border-radius: 0.25em;\n",
       "  box-sizing: border-box;\n",
       "  margin-bottom: 0.5em;\n",
       "  /* unfitted */\n",
       "  background-color: var(--sklearn-color-unfitted-level-0);\n",
       "}\n",
       "\n",
       "#sk-container-id-1 div.sk-estimator.fitted {\n",
       "  /* fitted */\n",
       "  background-color: var(--sklearn-color-fitted-level-0);\n",
       "}\n",
       "\n",
       "/* on hover */\n",
       "#sk-container-id-1 div.sk-estimator:hover {\n",
       "  /* unfitted */\n",
       "  background-color: var(--sklearn-color-unfitted-level-2);\n",
       "}\n",
       "\n",
       "#sk-container-id-1 div.sk-estimator.fitted:hover {\n",
       "  /* fitted */\n",
       "  background-color: var(--sklearn-color-fitted-level-2);\n",
       "}\n",
       "\n",
       "/* Specification for estimator info (e.g. \"i\" and \"?\") */\n",
       "\n",
       "/* Common style for \"i\" and \"?\" */\n",
       "\n",
       ".sk-estimator-doc-link,\n",
       "a:link.sk-estimator-doc-link,\n",
       "a:visited.sk-estimator-doc-link {\n",
       "  float: right;\n",
       "  font-size: smaller;\n",
       "  line-height: 1em;\n",
       "  font-family: monospace;\n",
       "  background-color: var(--sklearn-color-background);\n",
       "  border-radius: 1em;\n",
       "  height: 1em;\n",
       "  width: 1em;\n",
       "  text-decoration: none !important;\n",
       "  margin-left: 1ex;\n",
       "  /* unfitted */\n",
       "  border: var(--sklearn-color-unfitted-level-1) 1pt solid;\n",
       "  color: var(--sklearn-color-unfitted-level-1);\n",
       "}\n",
       "\n",
       ".sk-estimator-doc-link.fitted,\n",
       "a:link.sk-estimator-doc-link.fitted,\n",
       "a:visited.sk-estimator-doc-link.fitted {\n",
       "  /* fitted */\n",
       "  border: var(--sklearn-color-fitted-level-1) 1pt solid;\n",
       "  color: var(--sklearn-color-fitted-level-1);\n",
       "}\n",
       "\n",
       "/* On hover */\n",
       "div.sk-estimator:hover .sk-estimator-doc-link:hover,\n",
       ".sk-estimator-doc-link:hover,\n",
       "div.sk-label-container:hover .sk-estimator-doc-link:hover,\n",
       ".sk-estimator-doc-link:hover {\n",
       "  /* unfitted */\n",
       "  background-color: var(--sklearn-color-unfitted-level-3);\n",
       "  color: var(--sklearn-color-background);\n",
       "  text-decoration: none;\n",
       "}\n",
       "\n",
       "div.sk-estimator.fitted:hover .sk-estimator-doc-link.fitted:hover,\n",
       ".sk-estimator-doc-link.fitted:hover,\n",
       "div.sk-label-container:hover .sk-estimator-doc-link.fitted:hover,\n",
       ".sk-estimator-doc-link.fitted:hover {\n",
       "  /* fitted */\n",
       "  background-color: var(--sklearn-color-fitted-level-3);\n",
       "  color: var(--sklearn-color-background);\n",
       "  text-decoration: none;\n",
       "}\n",
       "\n",
       "/* Span, style for the box shown on hovering the info icon */\n",
       ".sk-estimator-doc-link span {\n",
       "  display: none;\n",
       "  z-index: 9999;\n",
       "  position: relative;\n",
       "  font-weight: normal;\n",
       "  right: .2ex;\n",
       "  padding: .5ex;\n",
       "  margin: .5ex;\n",
       "  width: min-content;\n",
       "  min-width: 20ex;\n",
       "  max-width: 50ex;\n",
       "  color: var(--sklearn-color-text);\n",
       "  box-shadow: 2pt 2pt 4pt #999;\n",
       "  /* unfitted */\n",
       "  background: var(--sklearn-color-unfitted-level-0);\n",
       "  border: .5pt solid var(--sklearn-color-unfitted-level-3);\n",
       "}\n",
       "\n",
       ".sk-estimator-doc-link.fitted span {\n",
       "  /* fitted */\n",
       "  background: var(--sklearn-color-fitted-level-0);\n",
       "  border: var(--sklearn-color-fitted-level-3);\n",
       "}\n",
       "\n",
       ".sk-estimator-doc-link:hover span {\n",
       "  display: block;\n",
       "}\n",
       "\n",
       "/* \"?\"-specific style due to the `<a>` HTML tag */\n",
       "\n",
       "#sk-container-id-1 a.estimator_doc_link {\n",
       "  float: right;\n",
       "  font-size: 1rem;\n",
       "  line-height: 1em;\n",
       "  font-family: monospace;\n",
       "  background-color: var(--sklearn-color-background);\n",
       "  border-radius: 1rem;\n",
       "  height: 1rem;\n",
       "  width: 1rem;\n",
       "  text-decoration: none;\n",
       "  /* unfitted */\n",
       "  color: var(--sklearn-color-unfitted-level-1);\n",
       "  border: var(--sklearn-color-unfitted-level-1) 1pt solid;\n",
       "}\n",
       "\n",
       "#sk-container-id-1 a.estimator_doc_link.fitted {\n",
       "  /* fitted */\n",
       "  border: var(--sklearn-color-fitted-level-1) 1pt solid;\n",
       "  color: var(--sklearn-color-fitted-level-1);\n",
       "}\n",
       "\n",
       "/* On hover */\n",
       "#sk-container-id-1 a.estimator_doc_link:hover {\n",
       "  /* unfitted */\n",
       "  background-color: var(--sklearn-color-unfitted-level-3);\n",
       "  color: var(--sklearn-color-background);\n",
       "  text-decoration: none;\n",
       "}\n",
       "\n",
       "#sk-container-id-1 a.estimator_doc_link.fitted:hover {\n",
       "  /* fitted */\n",
       "  background-color: var(--sklearn-color-fitted-level-3);\n",
       "}\n",
       "</style><div id=\"sk-container-id-1\" class=\"sk-top-container\"><div class=\"sk-text-repr-fallback\"><pre>RidgeClassifierCV(alphas=array([1.00000000e-03, 4.64158883e-03, 2.15443469e-02, 1.00000000e-01,\n",
       "       4.64158883e-01, 2.15443469e+00, 1.00000000e+01, 4.64158883e+01,\n",
       "       2.15443469e+02, 1.00000000e+03]))</pre><b>In a Jupyter environment, please rerun this cell to show the HTML representation or trust the notebook. <br />On GitHub, the HTML representation is unable to render, please try loading this page with nbviewer.org.</b></div><div class=\"sk-container\" hidden><div class=\"sk-item\"><div class=\"sk-estimator fitted sk-toggleable\"><input class=\"sk-toggleable__control sk-hidden--visually\" id=\"sk-estimator-id-1\" type=\"checkbox\" checked><label for=\"sk-estimator-id-1\" class=\"sk-toggleable__label fitted sk-toggleable__label-arrow fitted\">&nbsp;&nbsp;RidgeClassifierCV<a class=\"sk-estimator-doc-link fitted\" rel=\"noreferrer\" target=\"_blank\" href=\"https://scikit-learn.org/1.5/modules/generated/sklearn.linear_model.RidgeClassifierCV.html\">?<span>Documentation for RidgeClassifierCV</span></a><span class=\"sk-estimator-doc-link fitted\">i<span>Fitted</span></span></label><div class=\"sk-toggleable__content fitted\"><pre>RidgeClassifierCV(alphas=array([1.00000000e-03, 4.64158883e-03, 2.15443469e-02, 1.00000000e-01,\n",
       "       4.64158883e-01, 2.15443469e+00, 1.00000000e+01, 4.64158883e+01,\n",
       "       2.15443469e+02, 1.00000000e+03]))</pre></div> </div></div></div></div>"
      ],
      "text/plain": [
       "RidgeClassifierCV(alphas=array([1.00000000e-03, 4.64158883e-03, 2.15443469e-02, 1.00000000e-01,\n",
       "       4.64158883e-01, 2.15443469e+00, 1.00000000e+01, 4.64158883e+01,\n",
       "       2.15443469e+02, 1.00000000e+03]))"
      ]
     },
     "execution_count": 23,
     "metadata": {},
     "output_type": "execute_result"
    }
   ],
   "source": [
    "import numpy as np\n",
    "from sklearn.linear_model import RidgeClassifierCV\n",
    "classifier = RidgeClassifierCV(alphas=np.logspace(-3, 3, 10))\n",
    "classifier.fit(X_train_transform, y_train)"
   ]
  },
  {
   "cell_type": "code",
   "execution_count": 24,
   "metadata": {},
   "outputs": [
    {
     "data": {
      "text/plain": [
       "numpy.ndarray"
      ]
     },
     "execution_count": 24,
     "metadata": {},
     "output_type": "execute_result"
    }
   ],
   "source": [
    "type(y_train)"
   ]
  },
  {
   "cell_type": "code",
   "execution_count": 25,
   "metadata": {},
   "outputs": [],
   "source": [
    "# X_test, y_test = load_basic_motions(split=\"test\", return_type=\"pd-multiindex\", return_X_y=True)\n",
    "X_test_transform = rocket.transform(X_test)"
   ]
  },
  {
   "cell_type": "code",
   "execution_count": 26,
   "metadata": {},
   "outputs": [
    {
     "data": {
      "text/plain": [
       "0.7613293051359517"
      ]
     },
     "execution_count": 26,
     "metadata": {},
     "output_type": "execute_result"
    }
   ],
   "source": [
    "classifier.score(X_test_transform, y_test)"
   ]
  },
  {
   "cell_type": "code",
   "execution_count": 31,
   "metadata": {},
   "outputs": [],
   "source": [
    "y_pred = classifier.predict(X_test_transform)"
   ]
  },
  {
   "cell_type": "code",
   "execution_count": 32,
   "metadata": {},
   "outputs": [],
   "source": [
    "y_true = y_test"
   ]
  },
  {
   "cell_type": "code",
   "execution_count": 34,
   "metadata": {},
   "outputs": [
    {
     "data": {
      "text/plain": [
       "(331, 331)"
      ]
     },
     "execution_count": 34,
     "metadata": {},
     "output_type": "execute_result"
    }
   ],
   "source": [
    "len(y_pred), len(y_true)"
   ]
  },
  {
   "cell_type": "code",
   "execution_count": 35,
   "metadata": {},
   "outputs": [],
   "source": [
    "# https://stackoverflow.com/questions/33275461/specificity-in-scikit-learn\n",
    "from sklearn.metrics import confusion_matrix\n"
   ]
  },
  {
   "cell_type": "code",
   "execution_count": 41,
   "metadata": {},
   "outputs": [],
   "source": [
    "\n",
    "tn, fp, fn, tp = confusion_matrix(y_true, y_pred).ravel()\n",
    "accuracy = (tp + tn) / (tp + tn + fp + fn)\n",
    "specificity = tn / (tn+fp)\n",
    "sensitivity = tp / (tp+fn)\n",
    "f1_score = 2 * tp / (2 * tp + fp + fn)\n",
    "from sklearn.metrics import matthews_corrcoef\n",
    "mcc = matthews_corrcoef(y_true, y_pred)\n"
   ]
  }
 ],
 "metadata": {
  "kernelspec": {
   "display_name": "tscc",
   "language": "python",
   "name": "python3"
  },
  "language_info": {
   "codemirror_mode": {
    "name": "ipython",
    "version": 3
   },
   "file_extension": ".py",
   "mimetype": "text/x-python",
   "name": "python",
   "nbconvert_exporter": "python",
   "pygments_lexer": "ipython3",
   "version": "3.12.8"
  }
 },
 "nbformat": 4,
 "nbformat_minor": 2
}
