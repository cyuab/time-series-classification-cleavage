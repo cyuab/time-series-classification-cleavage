{
 "cells": [
  {
   "cell_type": "code",
   "execution_count": null,
   "metadata": {},
   "outputs": [],
   "source": []
  },
  {
   "cell_type": "code",
   "execution_count": 2,
   "metadata": {},
   "outputs": [],
   "source": [
    "from transformations import *"
   ]
  },
  {
   "cell_type": "code",
   "execution_count": 6,
   "metadata": {},
   "outputs": [],
   "source": [
    "use_Prob = True"
   ]
  },
  {
   "cell_type": "code",
   "execution_count": 7,
   "metadata": {},
   "outputs": [
    {
     "ename": "TypeError",
     "evalue": "'function' object is not subscriptable",
     "output_type": "error",
     "traceback": [
      "\u001b[0;31m---------------------------------------------------------------------------\u001b[0m",
      "\u001b[0;31mTypeError\u001b[0m                                 Traceback (most recent call last)",
      "Cell \u001b[0;32mIn[7], line 1\u001b[0m\n\u001b[0;32m----> 1\u001b[0m ts1, ts2 \u001b[38;5;241m=\u001b[39m transform_cum(\u001b[38;5;124m\"\u001b[39m\u001b[38;5;124mAGC\u001b[39m\u001b[38;5;124m\"\u001b[39m, (\u001b[38;5;28;01mlambda\u001b[39;00m x: [\u001b[38;5;241m.2\u001b[39m, \u001b[38;5;241m.3\u001b[39m, \u001b[38;5;241m.2\u001b[39m] \u001b[38;5;28;01mif\u001b[39;00m use_Prob \u001b[38;5;28;01melse\u001b[39;00m \u001b[38;5;28;01mNone\u001b[39;00m), \u001b[38;5;28;01mNone\u001b[39;00m, \u001b[38;5;28;01mNone\u001b[39;00m)\n\u001b[1;32m      2\u001b[0m \u001b[38;5;28mprint\u001b[39m(ts1)\n",
      "File \u001b[0;32m~/Desktop/time-series-classification-cleavage/notebooks/transformations.py:104\u001b[0m, in \u001b[0;36mtransform_cum\u001b[0;34m(seq, seq_prob, prefix, prefix_prob)\u001b[0m\n\u001b[1;32m    102\u001b[0m \u001b[38;5;28;01mfor\u001b[39;00m i \u001b[38;5;129;01min\u001b[39;00m \u001b[38;5;28mrange\u001b[39m(\u001b[38;5;28mlen\u001b[39m(seq)):\n\u001b[1;32m    103\u001b[0m     \u001b[38;5;28;01mif\u001b[39;00m seq_prob:\n\u001b[0;32m--> 104\u001b[0m         prob \u001b[38;5;241m=\u001b[39m seq_prob[i]\n\u001b[1;32m    105\u001b[0m     \u001b[38;5;28;01melse\u001b[39;00m:\n\u001b[1;32m    106\u001b[0m         prob \u001b[38;5;241m=\u001b[39m \u001b[38;5;241m1\u001b[39m\n",
      "\u001b[0;31mTypeError\u001b[0m: 'function' object is not subscriptable"
     ]
    }
   ],
   "source": [
    "ts1, ts2 = transform_cum(\"AGC\", (lambda x: [.2, .3, .2] if use_Prob else None), None, None)\n",
    "print(ts1)"
   ]
  },
  {
   "cell_type": "code",
   "execution_count": 5,
   "metadata": {},
   "outputs": [
    {
     "name": "stdout",
     "output_type": "stream",
     "text": [
      "[0, 0.4, 0.7, 0.49999999999999994]\n"
     ]
    }
   ],
   "source": [
    "ts1, ts2 = transform_cum(\"AGC\", [.2, .3, .2], None, None)\n",
    "print(ts1)"
   ]
  },
  {
   "cell_type": "code",
   "execution_count": 24,
   "metadata": {},
   "outputs": [
    {
     "data": {
      "text/plain": [
       "False"
      ]
     },
     "execution_count": 24,
     "metadata": {},
     "output_type": "execute_result"
    }
   ],
   "source": [
    "0.1 + 0.1 + 0.1 == 0.3"
   ]
  },
  {
   "cell_type": "code",
   "execution_count": null,
   "metadata": {},
   "outputs": [],
   "source": []
  },
  {
   "cell_type": "code",
   "execution_count": null,
   "metadata": {},
   "outputs": [],
   "source": []
  },
  {
   "cell_type": "code",
   "execution_count": 19,
   "metadata": {},
   "outputs": [
    {
     "data": {
      "text/plain": [
       "-0.4"
      ]
     },
     "execution_count": 19,
     "metadata": {},
     "output_type": "execute_result"
    }
   ],
   "source": [
    "-1*.4"
   ]
  },
  {
   "cell_type": "code",
   "execution_count": null,
   "metadata": {},
   "outputs": [],
   "source": []
  },
  {
   "cell_type": "code",
   "execution_count": 11,
   "metadata": {},
   "outputs": [
    {
     "name": "stdout",
     "output_type": "stream",
     "text": [
      "[2, 4, 5, 4]\n"
     ]
    }
   ],
   "source": [
    "ts1, ts2 = transform_cum2(\"AGC\", None, \"AGC\", None)\n",
    "print(ts1)"
   ]
  },
  {
   "cell_type": "code",
   "execution_count": null,
   "metadata": {},
   "outputs": [],
   "source": []
  },
  {
   "cell_type": "code",
   "execution_count": null,
   "metadata": {},
   "outputs": [],
   "source": []
  },
  {
   "cell_type": "code",
   "execution_count": null,
   "metadata": {},
   "outputs": [],
   "source": []
  },
  {
   "cell_type": "code",
   "execution_count": null,
   "metadata": {},
   "outputs": [],
   "source": []
  },
  {
   "cell_type": "code",
   "execution_count": null,
   "metadata": {},
   "outputs": [],
   "source": []
  },
  {
   "cell_type": "code",
   "execution_count": null,
   "metadata": {},
   "outputs": [],
   "source": []
  },
  {
   "cell_type": "code",
   "execution_count": null,
   "metadata": {},
   "outputs": [],
   "source": []
  },
  {
   "cell_type": "code",
   "execution_count": 11,
   "metadata": {},
   "outputs": [
    {
     "name": "stdout",
     "output_type": "stream",
     "text": [
      "John Mary studies in Fifth Standard\n",
      "John Gates studies in Seventh Standard\n",
      "John Gates studies in Fifth Standard\n",
      "John Seventh studies in Fifth Standard\n"
     ]
    }
   ],
   "source": [
    "def student(firstname, lastname ='Mark', standard ='Fifth'):\n",
    "     print(firstname, lastname, 'studies in', standard, 'Standard')\n",
    "\n",
    "# 1 positional argument\n",
    "student('John', 'Mary') \n",
    "\n",
    "# 3 positional arguments                         \n",
    "student('John', 'Gates', 'Seventh')     \n",
    "\n",
    "# 2 positional arguments  \n",
    "student('John', 'Gates')                  \n",
    "student('John', 'Seventh')\n"
   ]
  },
  {
   "cell_type": "code",
   "execution_count": 5,
   "metadata": {},
   "outputs": [
    {
     "name": "stdout",
     "output_type": "stream",
     "text": [
      "[0, 2, 3, 2]\n"
     ]
    }
   ],
   "source": [
    "ts1, ts2 = transform_cum(\"AGC\", \"AGC\", False)\n",
    "print(ts1)\n"
   ]
  },
  {
   "cell_type": "code",
   "execution_count": null,
   "metadata": {},
   "outputs": [
    {
     "ename": "NameError",
     "evalue": "name 'transform_cum2' is not defined",
     "output_type": "error",
     "traceback": [
      "\u001b[0;31m---------------------------------------------------------------------------\u001b[0m",
      "\u001b[0;31mNameError\u001b[0m                                 Traceback (most recent call last)",
      "Cell \u001b[0;32mIn[1], line 1\u001b[0m\n\u001b[0;32m----> 1\u001b[0m ts1, ts2 \u001b[38;5;241m=\u001b[39m transform_cum2(\u001b[38;5;124m\"\u001b[39m\u001b[38;5;124mAGC\u001b[39m\u001b[38;5;124m\"\u001b[39m, \u001b[38;5;28;01mNone\u001b[39;00m, \u001b[38;5;124m\"\u001b[39m\u001b[38;5;124mAGC\u001b[39m\u001b[38;5;124m\"\u001b[39m, \u001b[38;5;28;01mNone\u001b[39;00m)\n\u001b[1;32m      2\u001b[0m \u001b[38;5;28mprint\u001b[39m(ts1)\n",
      "\u001b[0;31mNameError\u001b[0m: name 'transform_cum2' is not defined"
     ]
    }
   ],
   "source": []
  },
  {
   "cell_type": "code",
   "execution_count": 3,
   "metadata": {},
   "outputs": [
    {
     "ename": "UnboundLocalError",
     "evalue": "cannot access local variable 'ts' where it is not associated with a value",
     "output_type": "error",
     "traceback": [
      "\u001b[0;31m---------------------------------------------------------------------------\u001b[0m",
      "\u001b[0;31mUnboundLocalError\u001b[0m                         Traceback (most recent call last)",
      "File \u001b[0;32m~/Desktop/time-series-classification-cleavage/notebooks/transformations.py:144\u001b[0m, in \u001b[0;36mtransform_cum2\u001b[0;34m(seq, seq_prob, prefix, prefix_prob)\u001b[0m\n\u001b[1;32m    143\u001b[0m \u001b[38;5;28;01mtry\u001b[39;00m:\n\u001b[0;32m--> 144\u001b[0m     \u001b[38;5;28;01mreturn\u001b[39;00m ([x \u001b[38;5;241m+\u001b[39m \u001b[38;5;241m10\u001b[39m \u001b[38;5;28;01mfor\u001b[39;00m x \u001b[38;5;129;01min\u001b[39;00m ts]), \u001b[38;5;28;01mNone\u001b[39;00m\n\u001b[1;32m    145\u001b[0m \u001b[38;5;28;01mexcept\u001b[39;00m:\n",
      "\u001b[0;31mUnboundLocalError\u001b[0m: cannot access local variable 'ts' where it is not associated with a value",
      "\nDuring handling of the above exception, another exception occurred:\n",
      "\u001b[0;31mUnboundLocalError\u001b[0m                         Traceback (most recent call last)",
      "Cell \u001b[0;32mIn[3], line 1\u001b[0m\n\u001b[0;32m----> 1\u001b[0m ts1, ts2 \u001b[38;5;241m=\u001b[39m transform_cum2(\u001b[38;5;124m\"\u001b[39m\u001b[38;5;124mAGC\u001b[39m\u001b[38;5;124m\"\u001b[39m,[\u001b[38;5;241m0.2\u001b[39m, \u001b[38;5;241m0.3\u001b[39m, \u001b[38;5;241m0.4\u001b[39m], \u001b[38;5;124m\"\u001b[39m\u001b[38;5;124mAGC\u001b[39m\u001b[38;5;124m\"\u001b[39m, [\u001b[38;5;241m0.2\u001b[39m, \u001b[38;5;241m0.3\u001b[39m, \u001b[38;5;241m0.4\u001b[39m])\n\u001b[1;32m      2\u001b[0m \u001b[38;5;28mprint\u001b[39m(ts1)\n",
      "File \u001b[0;32m~/Desktop/time-series-classification-cleavage/notebooks/transformations.py:146\u001b[0m, in \u001b[0;36mtransform_cum2\u001b[0;34m(seq, seq_prob, prefix, prefix_prob)\u001b[0m\n\u001b[1;32m    144\u001b[0m     \u001b[38;5;28;01mreturn\u001b[39;00m ([x \u001b[38;5;241m+\u001b[39m \u001b[38;5;241m10\u001b[39m \u001b[38;5;28;01mfor\u001b[39;00m x \u001b[38;5;129;01min\u001b[39;00m ts]), \u001b[38;5;28;01mNone\u001b[39;00m\n\u001b[1;32m    145\u001b[0m \u001b[38;5;28;01mexcept\u001b[39;00m:\n\u001b[0;32m--> 146\u001b[0m     \u001b[38;5;28;01mreturn\u001b[39;00m ts, \u001b[38;5;28;01mNone\u001b[39;00m\n",
      "\u001b[0;31mUnboundLocalError\u001b[0m: cannot access local variable 'ts' where it is not associated with a value"
     ]
    }
   ],
   "source": [
    "ts1, ts2 = transform_cum2(\"AGC\",[0.2, 0.3, 0.4], \"AGC\", [0.2, 0.3, 0.4])\n",
    "print(ts1)"
   ]
  },
  {
   "cell_type": "code",
   "execution_count": null,
   "metadata": {},
   "outputs": [],
   "source": []
  },
  {
   "cell_type": "code",
   "execution_count": null,
   "metadata": {},
   "outputs": [],
   "source": []
  },
  {
   "cell_type": "code",
   "execution_count": 5,
   "metadata": {},
   "outputs": [
    {
     "name": "stdout",
     "output_type": "stream",
     "text": [
      "Hello World! 03-23 3\n"
     ]
    }
   ],
   "source": [
    "hello(\"123\")"
   ]
  },
  {
   "cell_type": "code",
   "execution_count": 2,
   "metadata": {},
   "outputs": [
    {
     "data": {
      "text/plain": [
       "('AAAACGGUU', 9, [0.9, 0.8, 0.8, 0.8, 0.7, 0.6, 0.8, 0.8, 0.9], 9)"
      ]
     },
     "execution_count": 2,
     "metadata": {},
     "output_type": "execute_result"
    }
   ],
   "source": [
    "test = \"AAAACGGUU\"\n",
    "test_prob = [0.9, 0.8, 0.8, 0.8, 0.7, 0.6, 0.8, 0.8, 0.9]\n",
    "test, len(test), test_prob, len(test_prob)"
   ]
  },
  {
   "cell_type": "code",
   "execution_count": 4,
   "metadata": {},
   "outputs": [
    {
     "name": "stdout",
     "output_type": "stream",
     "text": [
      "[2, 2, 2, 2, -1, 1, 1, -2, -2] None\n"
     ]
    }
   ],
   "source": [
    "temp1, temp2 = transform_single(test, test_prob, False)\n",
    "print(temp1, temp2)"
   ]
  },
  {
   "cell_type": "code",
   "execution_count": 5,
   "metadata": {},
   "outputs": [
    {
     "data": {
      "text/plain": [
       "('AAA_ACG__GUU',\n",
       " 12,\n",
       " [0.9, 0.8, 0.8, -1, 0.8, 0.7, 0.6, -1, -1, 0.8, 0.8, 0.9],\n",
       " 12)"
      ]
     },
     "execution_count": 5,
     "metadata": {},
     "output_type": "execute_result"
    }
   ],
   "source": [
    "test2 = \"AAA_ACG__GUU\"\n",
    "test2_prob = [0.9, 0.8, 0.8, -1, 0.8, 0.7, 0.6, -1, -1, 0.8, 0.8, 0.9]\n",
    "test2, len(test2), test2_prob, len(test2_prob)"
   ]
  },
  {
   "cell_type": "code",
   "execution_count": 11,
   "metadata": {},
   "outputs": [
    {
     "name": "stdout",
     "output_type": "stream",
     "text": [
      "[0.9, 0.8, 0.8, 0.8, -0.6, -0.8] [0.7, -0.8, -0.9]\n"
     ]
    }
   ],
   "source": [
    "temp1, temp2 = transform_single_multi_diff(test2, test2_prob, True)\n",
    "print(temp1, temp2)"
   ]
  },
  {
   "cell_type": "code",
   "execution_count": 14,
   "metadata": {},
   "outputs": [
    {
     "name": "stdout",
     "output_type": "stream",
     "text": [
      "[1.8, 1.6, 1.6, 0, 1.6, -0.7, 0.6, 0, 0, 0.8, -1.6, -1.8] None\n"
     ]
    }
   ],
   "source": [
    "temp1, temp2 = transform_single(test2, test2_prob, True)\n",
    "print(temp1, temp2)"
   ]
  },
  {
   "cell_type": "code",
   "execution_count": null,
   "metadata": {},
   "outputs": [
    {
     "name": "stdout",
     "output_type": "stream",
     "text": [
      "[1.8, 1.6, 1.6, 0, 1.6, -0.7, 0.6, 0, 0, 0.8, -1.6, -1.8]\n"
     ]
    }
   ],
   "source": [
    "# Testing for temp2 = None\n",
    "if temp2:\n",
    "    print(temp1, temp2)\n",
    "else:\n",
    "    print(temp1)\n"
   ]
  }
 ],
 "metadata": {
  "kernelspec": {
   "display_name": "tscc",
   "language": "python",
   "name": "python3"
  },
  "language_info": {
   "codemirror_mode": {
    "name": "ipython",
    "version": 3
   },
   "file_extension": ".py",
   "mimetype": "text/x-python",
   "name": "python",
   "nbconvert_exporter": "python",
   "pygments_lexer": "ipython3",
   "version": "3.12.8"
  }
 },
 "nbformat": 4,
 "nbformat_minor": 2
}
