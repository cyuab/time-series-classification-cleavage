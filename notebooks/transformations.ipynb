{
 "cells": [
  {
   "cell_type": "code",
   "execution_count": 8,
   "metadata": {},
   "outputs": [],
   "source": [
    "from transformations import *"
   ]
  },
  {
   "cell_type": "code",
   "execution_count": 9,
   "metadata": {},
   "outputs": [
    {
     "name": "stdout",
     "output_type": "stream",
     "text": [
      "Hello World! 03-23 2\n"
     ]
    }
   ],
   "source": [
    "hello(None, None)"
   ]
  },
  {
   "cell_type": "code",
   "execution_count": 2,
   "metadata": {},
   "outputs": [
    {
     "data": {
      "text/plain": [
       "('AAAACGGUU', 9, [0.9, 0.8, 0.8, 0.8, 0.7, 0.6, 0.8, 0.8, 0.9], 9)"
      ]
     },
     "execution_count": 2,
     "metadata": {},
     "output_type": "execute_result"
    }
   ],
   "source": [
    "test = \"AAAACGGUU\"\n",
    "test_prob = [0.9, 0.8, 0.8, 0.8, 0.7, 0.6, 0.8, 0.8, 0.9]\n",
    "test, len(test), test_prob, len(test_prob)"
   ]
  },
  {
   "cell_type": "code",
   "execution_count": 4,
   "metadata": {},
   "outputs": [
    {
     "name": "stdout",
     "output_type": "stream",
     "text": [
      "[2, 2, 2, 2, -1, 1, 1, -2, -2] None\n"
     ]
    }
   ],
   "source": [
    "temp1, temp2 = transform_single(test, test_prob, False)\n",
    "print(temp1, temp2)"
   ]
  },
  {
   "cell_type": "code",
   "execution_count": 5,
   "metadata": {},
   "outputs": [
    {
     "data": {
      "text/plain": [
       "('AAA_ACG__GUU',\n",
       " 12,\n",
       " [0.9, 0.8, 0.8, -1, 0.8, 0.7, 0.6, -1, -1, 0.8, 0.8, 0.9],\n",
       " 12)"
      ]
     },
     "execution_count": 5,
     "metadata": {},
     "output_type": "execute_result"
    }
   ],
   "source": [
    "test2 = \"AAA_ACG__GUU\"\n",
    "test2_prob = [0.9, 0.8, 0.8, -1, 0.8, 0.7, 0.6, -1, -1, 0.8, 0.8, 0.9]\n",
    "test2, len(test2), test2_prob, len(test2_prob)"
   ]
  },
  {
   "cell_type": "code",
   "execution_count": 11,
   "metadata": {},
   "outputs": [
    {
     "name": "stdout",
     "output_type": "stream",
     "text": [
      "[0.9, 0.8, 0.8, 0.8, -0.6, -0.8] [0.7, -0.8, -0.9]\n"
     ]
    }
   ],
   "source": [
    "temp1, temp2 = transform_single_multi_diff(test2, test2_prob, True)\n",
    "print(temp1, temp2)"
   ]
  },
  {
   "cell_type": "code",
   "execution_count": 14,
   "metadata": {},
   "outputs": [
    {
     "name": "stdout",
     "output_type": "stream",
     "text": [
      "[1.8, 1.6, 1.6, 0, 1.6, -0.7, 0.6, 0, 0, 0.8, -1.6, -1.8] None\n"
     ]
    }
   ],
   "source": [
    "temp1, temp2 = transform_single(test2, test2_prob, True)\n",
    "print(temp1, temp2)"
   ]
  },
  {
   "cell_type": "code",
   "execution_count": null,
   "metadata": {},
   "outputs": [
    {
     "name": "stdout",
     "output_type": "stream",
     "text": [
      "[1.8, 1.6, 1.6, 0, 1.6, -0.7, 0.6, 0, 0, 0.8, -1.6, -1.8]\n"
     ]
    }
   ],
   "source": [
    "# Testing for temp2 = None\n",
    "if temp2:\n",
    "    print(temp1, temp2)\n",
    "else:\n",
    "    print(temp1)\n"
   ]
  }
 ],
 "metadata": {
  "kernelspec": {
   "display_name": "tscc",
   "language": "python",
   "name": "python3"
  },
  "language_info": {
   "codemirror_mode": {
    "name": "ipython",
    "version": 3
   },
   "file_extension": ".py",
   "mimetype": "text/x-python",
   "name": "python",
   "nbconvert_exporter": "python",
   "pygments_lexer": "ipython3",
   "version": "3.12.8"
  }
 },
 "nbformat": 4,
 "nbformat_minor": 2
}
