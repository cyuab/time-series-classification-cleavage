{
 "cells": [
  {
   "cell_type": "markdown",
   "metadata": {},
   "source": [
    "# 9 Archive\n",
    "It archives some useful code segments I have used in doing this project."
   ]
  },
  {
   "cell_type": "markdown",
   "metadata": {},
   "source": [
    "## Test the indexing of array in Python"
   ]
  },
  {
   "cell_type": "code",
   "execution_count": 1,
   "metadata": {},
   "outputs": [],
   "source": [
    "test = [1,2,3,4]"
   ]
  },
  {
   "cell_type": "code",
   "execution_count": null,
   "metadata": {},
   "outputs": [],
   "source": [
    "test, len(test)"
   ]
  },
  {
   "cell_type": "code",
   "execution_count": null,
   "metadata": {},
   "outputs": [],
   "source": [
    "test[0:4]"
   ]
  },
  {
   "cell_type": "code",
   "execution_count": null,
   "metadata": {},
   "outputs": [],
   "source": [
    "test[3] # test[3] is the last entry of test rather than test[4]."
   ]
  },
  {
   "cell_type": "markdown",
   "metadata": {},
   "source": [
    "## Save and read from CSV"
   ]
  },
  {
   "cell_type": "code",
   "execution_count": null,
   "metadata": {},
   "outputs": [],
   "source": [
    "import pandas as pd\n",
    "df = pd.read_csv(\"../data/temp.csv\",\n",
    "                     low_memory=False)\n",
    "df.to_csv(\"../data/temp.csv\",\n",
    "              index=False)\n",
    "df"
   ]
  },
  {
   "cell_type": "markdown",
   "metadata": {},
   "source": [
    "## Cast String to Float"
   ]
  },
  {
   "cell_type": "code",
   "execution_count": null,
   "metadata": {},
   "outputs": [],
   "source": [
    "# https://stackoverflow.com/questions/64584736/typecast-a-column-in-pandas-dataframe\n",
    "# https://stackoverflow.com/questions/8420143/valueerror-could-not-convert-string-to-float-id\n",
    "# https://stackoverflow.com/questions/1614236/how-do-i-convert-all-of-the-items-in-a-list-to-floats\n",
    "# https://stackoverflow.com/questions/52112553/convert-a-list-of-floats-to-multiple-columns-of-floats-in-pandas/52113073\n",
    "# https://stackoverflow.com/questions/3877209/how-to-convert-an-array-of-strings-to-an-array-of-floats-in-numpy"
   ]
  },
  {
   "cell_type": "code",
   "execution_count": 11,
   "metadata": {},
   "outputs": [
    {
     "name": "stdout",
     "output_type": "stream",
     "text": [
      "7\n",
      "<class 'float'>\n",
      "Float Value = 10.5674\n"
     ]
    }
   ],
   "source": [
    "# https://www.digitalocean.com/community/tutorials/python-convert-string-to-float\n",
    "input_1 = '10.5674'\n",
    "print(len(input_1))\n",
    "\n",
    "input_1 = float(input_1)\n",
    "\n",
    "print(type(input_1))\n",
    "print('Float Value =', input_1)\n"
   ]
  },
  {
   "cell_type": "markdown",
   "metadata": {},
   "source": [
    "## Save string in csv"
   ]
  },
  {
   "cell_type": "code",
   "execution_count": null,
   "metadata": {},
   "outputs": [],
   "source": [
    "# https://stackoverflow.com/questions/12877189/float64-with-pandas-to-csv\n",
    "# https://stackoverflow.com/questions/12877189/float64-with-pandas-to-csv\n",
    "# https://stackoverflow.com/questions/21433484/write-float-list-to-csv-file\n",
    "# https://stackoverflow.com/questions/50817163/pd-to-csv-set-float-format-with-list"
   ]
  },
  {
   "cell_type": "code",
   "execution_count": 5,
   "metadata": {},
   "outputs": [
    {
     "name": "stdout",
     "output_type": "stream",
     "text": [
      "0    float64\n",
      "1    float64\n",
      "2    float64\n",
      "dtype: object\n",
      "0.42666767\n"
     ]
    },
    {
     "name": "stderr",
     "output_type": "stream",
     "text": [
      "/var/folders/2w/d1h5t_nn2slf5r75qqdvlt0m0000gn/T/ipykernel_18332/2427653110.py:11: FutureWarning: The 'delim_whitespace' keyword in pd.read_csv is deprecated and will be removed in a future version. Use ``sep='\\s+'`` instead\n",
      "  df = pd.read_csv(mystr, delim_whitespace=True, header=None)\n",
      "/var/folders/2w/d1h5t_nn2slf5r75qqdvlt0m0000gn/T/ipykernel_18332/2427653110.py:23: FutureWarning: The 'delim_whitespace' keyword in pd.read_csv is deprecated and will be removed in a future version. Use ``sep='\\s+'`` instead\n",
      "  df = pd.read_csv(file_loc, delim_whitespace=True, header=None)\n"
     ]
    }
   ],
   "source": [
    "# https://stackoverflow.com/questions/51476690/how-to-use-pandas-to-csv-float-format\n",
    "from io import StringIO\n",
    "import pandas as pd\n",
    "\n",
    "mystr = StringIO(\"\"\"0.02506602 0.05754493 0.36854688\n",
    "0.02461631 0.0599653 0.43078098\n",
    "0.02502534 0.06209149 0.44955311\n",
    "0.4267356675182389 0.1718682822340447 0.5391386354945895\n",
    "0.426701667727433 0.17191008887193007 0.5391897818631616\n",
    "0.4266676661681287 0.17195189807522643 0.5392409104354972\"\"\")\n",
    "\n",
    "df = pd.read_csv(mystr, delim_whitespace=True, header=None)\n",
    "\n",
    "print(df.dtypes)\n",
    "\n",
    "# 0    float64\n",
    "# 1    float64\n",
    "# 2    float64\n",
    "# dtype: object\n",
    "\n",
    "file_loc = r'test.dat'\n",
    "# sep=‘\\s+‘什么意思？这是代表什么分隔符号？\n",
    "# https://blog.csdn.net/weixin_37706204/article/details/120827447\n",
    "df.to_csv(file_loc, sep=' ', index=False, header=False, float_format=\"%.8f\")\n",
    "\n",
    "df = pd.read_csv(file_loc, delim_whitespace=True, header=None)\n",
    "\n",
    "print(df[0].iloc[-1])\n",
    "\n",
    "# 0.42666767"
   ]
  },
  {
   "cell_type": "code",
   "execution_count": 13,
   "metadata": {},
   "outputs": [
    {
     "data": {
      "text/html": [
       "<div>\n",
       "<style scoped>\n",
       "    .dataframe tbody tr th:only-of-type {\n",
       "        vertical-align: middle;\n",
       "    }\n",
       "\n",
       "    .dataframe tbody tr th {\n",
       "        vertical-align: top;\n",
       "    }\n",
       "\n",
       "    .dataframe thead th {\n",
       "        text-align: right;\n",
       "    }\n",
       "</style>\n",
       "<table border=\"1\" class=\"dataframe\">\n",
       "  <thead>\n",
       "    <tr style=\"text-align: right;\">\n",
       "      <th></th>\n",
       "      <th>0</th>\n",
       "      <th>1</th>\n",
       "      <th>2</th>\n",
       "    </tr>\n",
       "  </thead>\n",
       "  <tbody>\n",
       "    <tr>\n",
       "      <th>0</th>\n",
       "      <td>0.025066</td>\n",
       "      <td>0.057545</td>\n",
       "      <td>0.368547</td>\n",
       "    </tr>\n",
       "    <tr>\n",
       "      <th>1</th>\n",
       "      <td>0.024616</td>\n",
       "      <td>0.059965</td>\n",
       "      <td>0.430781</td>\n",
       "    </tr>\n",
       "    <tr>\n",
       "      <th>2</th>\n",
       "      <td>0.025025</td>\n",
       "      <td>0.062091</td>\n",
       "      <td>0.449553</td>\n",
       "    </tr>\n",
       "    <tr>\n",
       "      <th>3</th>\n",
       "      <td>0.426736</td>\n",
       "      <td>0.171868</td>\n",
       "      <td>0.539139</td>\n",
       "    </tr>\n",
       "    <tr>\n",
       "      <th>4</th>\n",
       "      <td>0.426702</td>\n",
       "      <td>0.171910</td>\n",
       "      <td>0.539190</td>\n",
       "    </tr>\n",
       "    <tr>\n",
       "      <th>5</th>\n",
       "      <td>0.426668</td>\n",
       "      <td>0.171952</td>\n",
       "      <td>0.539241</td>\n",
       "    </tr>\n",
       "  </tbody>\n",
       "</table>\n",
       "</div>"
      ],
      "text/plain": [
       "          0         1         2\n",
       "0  0.025066  0.057545  0.368547\n",
       "1  0.024616  0.059965  0.430781\n",
       "2  0.025025  0.062091  0.449553\n",
       "3  0.426736  0.171868  0.539139\n",
       "4  0.426702  0.171910  0.539190\n",
       "5  0.426668  0.171952  0.539241"
      ]
     },
     "execution_count": 13,
     "metadata": {},
     "output_type": "execute_result"
    }
   ],
   "source": [
    "df"
   ]
  },
  {
   "cell_type": "code",
   "execution_count": null,
   "metadata": {},
   "outputs": [],
   "source": []
  },
  {
   "cell_type": "markdown",
   "metadata": {},
   "source": [
    "## Save variables"
   ]
  },
  {
   "cell_type": "code",
   "execution_count": 6,
   "metadata": {},
   "outputs": [],
   "source": [
    "# https://stackoverflow.com/questions/34342155/how-to-pickle-or-store-jupyter-ipython-notebook-session-for-later\n",
    "import dill\n",
    "dill.dump_session('notebook_env.db')"
   ]
  },
  {
   "cell_type": "code",
   "execution_count": 1,
   "metadata": {},
   "outputs": [],
   "source": [
    "import dill\n",
    "dill.load_session('notebook_env.db')"
   ]
  },
  {
   "cell_type": "code",
   "execution_count": null,
   "metadata": {},
   "outputs": [],
   "source": []
  },
  {
   "cell_type": "code",
   "execution_count": null,
   "metadata": {},
   "outputs": [],
   "source": [
    "# https://stackoverflow.com/questions/59463737/panda-dataframe-persisting-a-list-of-numbers-and-then-reading-it"
   ]
  },
  {
   "cell_type": "code",
   "execution_count": 3,
   "metadata": {},
   "outputs": [],
   "source": [
    "df3 = pd.DataFrame({'tom': [10,-5,3], 'dave': [15,-1,4], 'al': [14,-1,-1]})\n",
    "df3\n",
    "\n",
    "\n",
    "df3.to_csv('my.csv', index=False)"
   ]
  },
  {
   "cell_type": "code",
   "execution_count": 6,
   "metadata": {},
   "outputs": [
    {
     "data": {
      "text/html": [
       "<div>\n",
       "<style scoped>\n",
       "    .dataframe tbody tr th:only-of-type {\n",
       "        vertical-align: middle;\n",
       "    }\n",
       "\n",
       "    .dataframe tbody tr th {\n",
       "        vertical-align: top;\n",
       "    }\n",
       "\n",
       "    .dataframe thead th {\n",
       "        text-align: right;\n",
       "    }\n",
       "</style>\n",
       "<table border=\"1\" class=\"dataframe\">\n",
       "  <thead>\n",
       "    <tr style=\"text-align: right;\">\n",
       "      <th></th>\n",
       "      <th>tom</th>\n",
       "      <th>dave</th>\n",
       "      <th>al</th>\n",
       "    </tr>\n",
       "  </thead>\n",
       "  <tbody>\n",
       "    <tr>\n",
       "      <th>0</th>\n",
       "      <td>10</td>\n",
       "      <td>15</td>\n",
       "      <td>14</td>\n",
       "    </tr>\n",
       "    <tr>\n",
       "      <th>1</th>\n",
       "      <td>-5</td>\n",
       "      <td>-1</td>\n",
       "      <td>-1</td>\n",
       "    </tr>\n",
       "    <tr>\n",
       "      <th>2</th>\n",
       "      <td>3</td>\n",
       "      <td>4</td>\n",
       "      <td>-1</td>\n",
       "    </tr>\n",
       "  </tbody>\n",
       "</table>\n",
       "</div>"
      ],
      "text/plain": [
       "   tom  dave  al\n",
       "0   10    15  14\n",
       "1   -5    -1  -1\n",
       "2    3     4  -1"
      ]
     },
     "execution_count": 6,
     "metadata": {},
     "output_type": "execute_result"
    }
   ],
   "source": [
    "df3"
   ]
  },
  {
   "cell_type": "code",
   "execution_count": 7,
   "metadata": {},
   "outputs": [
    {
     "data": {
      "text/plain": [
       "3"
      ]
     },
     "execution_count": 7,
     "metadata": {},
     "output_type": "execute_result"
    }
   ],
   "source": [
    "len(df3.loc[0])"
   ]
  },
  {
   "cell_type": "code",
   "execution_count": 8,
   "metadata": {},
   "outputs": [],
   "source": [
    "df3in = pd.read_csv('my.csv')"
   ]
  },
  {
   "cell_type": "code",
   "execution_count": 9,
   "metadata": {},
   "outputs": [
    {
     "name": "stdout",
     "output_type": "stream",
     "text": [
      "<class 'pandas.core.frame.DataFrame'>\n",
      "RangeIndex: 3 entries, 0 to 2\n",
      "Data columns (total 3 columns):\n",
      " #   Column  Non-Null Count  Dtype\n",
      "---  ------  --------------  -----\n",
      " 0   tom     3 non-null      int64\n",
      " 1   dave    3 non-null      int64\n",
      " 2   al      3 non-null      int64\n",
      "dtypes: int64(3)\n",
      "memory usage: 204.0 bytes\n"
     ]
    }
   ],
   "source": [
    "df3.info()"
   ]
  }
 ],
 "metadata": {
  "kernelspec": {
   "display_name": "Python 3",
   "language": "python",
   "name": "python3"
  },
  "language_info": {
   "codemirror_mode": {
    "name": "ipython",
    "version": 3
   },
   "file_extension": ".py",
   "mimetype": "text/x-python",
   "name": "python",
   "nbconvert_exporter": "python",
   "pygments_lexer": "ipython3",
   "version": "3.12.8"
  }
 },
 "nbformat": 4,
 "nbformat_minor": 2
}
