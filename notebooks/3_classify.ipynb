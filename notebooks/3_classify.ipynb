{
 "cells": [
  {
   "cell_type": "code",
   "execution_count": null,
   "metadata": {},
   "outputs": [],
   "source": [
    "# https://stackoverflow.com/questions/79413934/write-read-columns-of-list-of-numbers-integer-or-float-to-from-csv-in-python\n",
    "# https://stackoverflow.com/questions/23111990/pandas-dataframe-stored-list-as-string-how-to-convert-back-to-list/63020659#63020659\n",
    "\n",
    "from ast import literal_eval\n",
    "df_temp.to_csv(\"../data/temp.csv\",  index=False)\n",
    "df_temp_temp = pd.read_csv(\"../data/temp.csv\", converters={'five_p_cleav': literal_eval}, low_memory=False)"
   ]
  },
  {
   "cell_type": "code",
   "execution_count": null,
   "metadata": {},
   "outputs": [],
   "source": [
    "from ast import literal_eval\n",
    "df_temp_temp.five_p_cleav = df_temp_temp.five_p_cleav.apply(literal_eval)"
   ]
  }
 ],
 "metadata": {
  "language_info": {
   "name": "python"
  }
 },
 "nbformat": 4,
 "nbformat_minor": 2
}
